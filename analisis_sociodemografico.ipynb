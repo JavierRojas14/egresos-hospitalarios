{
 "cells": [
  {
   "cell_type": "code",
   "execution_count": 1,
   "metadata": {},
   "outputs": [],
   "source": [
    "import pandas as pd\n",
    "import numpy as np\n",
    "\n",
    "import geopandas as gpd\n",
    "import geopy\n",
    "\n",
    "from geopy.geocoders import Nominatim\n",
    "from geopy.extra.rate_limiter import RateLimiter\n"
   ]
  },
  {
   "cell_type": "code",
   "execution_count": 2,
   "metadata": {},
   "outputs": [],
   "source": [
    "df = pd.read_excel(\"output/distribucion_sociodemografica/distribucion_sociodemografica.xlsx\")"
   ]
  },
  {
   "cell_type": "code",
   "execution_count": 47,
   "metadata": {},
   "outputs": [],
   "source": [
    "locator = Nominatim(user_agent=\"javier\", timeout=10)\n",
    "rgeocode = RateLimiter(locator.reverse, min_delay_seconds=0.001)\n",
    "\n",
    "def location_info(x):\n",
    "    try:\n",
    "        data = locator.geocode(x).raw\n",
    "        data_converted = pd.json_normalize(data).squeeze()\n",
    "\n",
    "    except:\n",
    "        data_converted = pd.Series(dtype='float64')\n",
    "\n",
    "    return data_converted\n"
   ]
  },
  {
   "cell_type": "code",
   "execution_count": 51,
   "metadata": {},
   "outputs": [],
   "source": [
    "regiones = list(df[\"region_pais\"].unique())\n",
    "regiones_unicas = pd.DataFrame(regiones, columns=[\"region_pais\"])\n",
    "objeto = regiones_unicas[\"region_pais\"].apply(location_info)\n",
    "objeto[\"lat\"] = objeto[\"lat\"].astype(float)\n",
    "objeto[\"lon\"] = objeto[\"lon\"].astype(float)\n",
    "\n",
    "union = pd.concat([regiones_unicas, objeto], axis=1)"
   ]
  },
  {
   "cell_type": "code",
   "execution_count": 68,
   "metadata": {},
   "outputs": [],
   "source": [
    "comunas = list(df[\"comuna_region_pais\"].unique())\n",
    "comunas_unicas = pd.DataFrame(comunas, columns=[\"comuna_region_pais\"])\n",
    "objeto_comunas = comunas_unicas['comuna_region_pais'].apply(location_info)\n",
    "union_comunas = pd.concat([comunas_unicas, objeto_comunas], axis=1)"
   ]
  },
  {
   "cell_type": "code",
   "execution_count": 78,
   "metadata": {},
   "outputs": [],
   "source": [
    "with pd.ExcelWriter('localizacion.xlsx') as f:\n",
    "    union.to_excel(f, sheet_name='regiones', index=False)\n",
    "    union_comunas.to_excel(f, sheet_name='comunas', index=False)"
   ]
  },
  {
   "cell_type": "code",
   "execution_count": null,
   "metadata": {},
   "outputs": [],
   "source": []
  }
 ],
 "metadata": {
  "kernelspec": {
   "display_name": "Python 3",
   "language": "python",
   "name": "python3"
  },
  "language_info": {
   "codemirror_mode": {
    "name": "ipython",
    "version": 3
   },
   "file_extension": ".py",
   "mimetype": "text/x-python",
   "name": "python",
   "nbconvert_exporter": "python",
   "pygments_lexer": "ipython3",
   "version": "3.10.9"
  },
  "orig_nbformat": 4
 },
 "nbformat": 4,
 "nbformat_minor": 2
}
