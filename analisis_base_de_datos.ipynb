{
 "cells": [
  {
   "attachments": {},
   "cell_type": "markdown",
   "metadata": {},
   "source": [
    "# Analisis de Integridad de Datos\n",
    "\n",
    "- En este analisis se quiere ver la distribucion de la base de datos DEIS de Egresos Hospitalarios.\n",
    "- Estos resultados se quieren contrastar con los datos del tablero DEIS MINSAL y con los datos de GRD.\n",
    "- Los datos solamente corresponderan al estrato del Torax"
   ]
  },
  {
   "cell_type": "code",
   "execution_count": 2,
   "metadata": {},
   "outputs": [],
   "source": [
    "import polars as pl\n",
    "\n",
    "import lectura_archivos as fr"
   ]
  },
  {
   "cell_type": "code",
   "execution_count": 11,
   "metadata": {},
   "outputs": [],
   "source": [
    "with pl.StringCache():\n",
    "    df = pl.scan_csv(\"input/utf-8/*.csv\", dtypes=fr.DICT_VARIABLES, separator=\";\")\n",
    "    torax = df.filter(pl.col(\"ESTABLECIMIENTO_SALUD\") == 112103)\n"
   ]
  },
  {
   "attachments": {},
   "cell_type": "markdown",
   "metadata": {},
   "source": [
    "## Cantidad de Egresos Hospitalarios\n",
    "\n",
    "- En este caso, se quiere ver la cantidad de egresos hospitalarios por año"
   ]
  },
  {
   "cell_type": "code",
   "execution_count": 21,
   "metadata": {},
   "outputs": [],
   "source": [
    "numero_egresos_deis = (\n",
    "    torax.groupby(\"ANO_EGRESO\")\n",
    "    .agg(pl.col(\"DIAG1\").count())\n",
    "    .sort(by=\"ANO_EGRESO\")\n",
    "    .collect(streaming=True)\n",
    ")"
   ]
  },
  {
   "cell_type": "code",
   "execution_count": 23,
   "metadata": {},
   "outputs": [
    {
     "data": {
      "text/html": [
       "<div><style>\n",
       ".dataframe > thead > tr > th,\n",
       ".dataframe > tbody > tr > td {\n",
       "  text-align: right;\n",
       "}\n",
       "</style>\n",
       "<small>shape: (20, 2)</small><table border=\"1\" class=\"dataframe\"><thead><tr><th>ANO_EGRESO</th><th>DIAG1</th></tr><tr><td>i16</td><td>u32</td></tr></thead><tbody><tr><td>2001</td><td>4985</td></tr><tr><td>2002</td><td>5043</td></tr><tr><td>2003</td><td>5326</td></tr><tr><td>2004</td><td>5261</td></tr><tr><td>2005</td><td>5333</td></tr><tr><td>2006</td><td>5232</td></tr><tr><td>2007</td><td>5084</td></tr><tr><td>2008</td><td>5132</td></tr><tr><td>2009</td><td>4690</td></tr><tr><td>2010</td><td>4538</td></tr><tr><td>2011</td><td>4662</td></tr><tr><td>2012</td><td>4453</td></tr><tr><td>2013</td><td>4435</td></tr><tr><td>2014</td><td>4409</td></tr><tr><td>2015</td><td>4621</td></tr><tr><td>2016</td><td>4872</td></tr><tr><td>2017</td><td>4901</td></tr><tr><td>2018</td><td>5482</td></tr><tr><td>2019</td><td>5435</td></tr><tr><td>2020</td><td>2848</td></tr></tbody></table></div>"
      ],
      "text/plain": [
       "shape: (20, 2)\n",
       "┌────────────┬───────┐\n",
       "│ ANO_EGRESO ┆ DIAG1 │\n",
       "│ ---        ┆ ---   │\n",
       "│ i16        ┆ u32   │\n",
       "╞════════════╪═══════╡\n",
       "│ 2001       ┆ 4985  │\n",
       "│ 2002       ┆ 5043  │\n",
       "│ 2003       ┆ 5326  │\n",
       "│ 2004       ┆ 5261  │\n",
       "│ …          ┆ …     │\n",
       "│ 2017       ┆ 4901  │\n",
       "│ 2018       ┆ 5482  │\n",
       "│ 2019       ┆ 5435  │\n",
       "│ 2020       ┆ 2848  │\n",
       "└────────────┴───────┘"
      ]
     },
     "execution_count": 23,
     "metadata": {},
     "output_type": "execute_result"
    }
   ],
   "source": [
    "numero_egresos_deis"
   ]
  },
  {
   "attachments": {},
   "cell_type": "markdown",
   "metadata": {},
   "source": [
    "## Cantidad de Valores Faltantes"
   ]
  },
  {
   "attachments": {},
   "cell_type": "markdown",
   "metadata": {},
   "source": [
    "## Cantidad de Dias Estada Totales"
   ]
  },
  {
   "cell_type": "code",
   "execution_count": 1,
   "metadata": {},
   "outputs": [],
   "source": [
    "import pandas as pd\n",
    "\n",
    "import funciones_auxiliares as aux\n",
    "import funciones_auxiliares_hito_2 as aux2"
   ]
  },
  {
   "attachments": {},
   "cell_type": "markdown",
   "metadata": {},
   "source": [
    "# Analisis de Integridad de Datos\n",
    "\n",
    "En este apartado se quiere saber si los datos de los resumenes de Egresos DEIS, son iguales a\n",
    "las bases de datos en formato largo (paciente por paciente). Se quieren verificar los siguientes\n",
    "indicadores:\n",
    "\n",
    "- Las bases de datos presentan la misma cantidad de datos para cada año\n",
    "- La distribución de enfermedades por gran causa son iguales entre bases de datos para cada año"
   ]
  },
  {
   "attachments": {},
   "cell_type": "markdown",
   "metadata": {},
   "source": [
    "# Trata de valores de columnas\n",
    "\n",
    "La columna 16 (Región de residencia) contiene valores mixtos (ints y strings). Por lo tanto, se\n",
    "unificarán en valores strings"
   ]
  },
  {
   "attachments": {},
   "cell_type": "markdown",
   "metadata": {},
   "source": [
    "## Análisis de Cantidad de Datos\n",
    "\n",
    "Según el resumen DEIS de 2013 - 2018, cada año tiene la siguiente cantidad de datos:\n",
    "\n",
    "Año|Cantidad de datos|\n",
    "---|-----------------|\n",
    "2013|1.676.937|\n",
    "2014|1.660.150|\n",
    "2015|1.671.054|\n",
    "2016|1.637.265|\n",
    "2017|1.637.150|\n",
    "2018|1.669.602|\n",
    "\n",
    "Según el resumen DEIS de 2018 - 2021, los años tienen la siguiente cantidad de datos:\n",
    "\n",
    "Año|Cantidad de datos|\n",
    "---|-----------------|\n",
    "2018|1.669.602|\n",
    "2019|1.667.180|\n",
    "2020|1.330.477|\n",
    "2021|1.467.062|\n",
    "\n",
    "Ahora, se analizará la cantidad de datos de cada base de datos en formato largo:\n"
   ]
  },
  {
   "attachments": {},
   "cell_type": "markdown",
   "metadata": {},
   "source": [
    "# Lectura de Archivos\n",
    "\n",
    "Todos los archivos son separados por ';', y estan en encoding 'latin-1'. Además, el archivo de\n",
    "2014 tiene 1 línea que está mal imputada (genera error de lectura). Debido a lo anterior,\n",
    "la línea fue droppeada. Todos los demás archivos fueron leídos correctamente, sin necesidad de\n",
    "droppear algún valor."
   ]
  },
  {
   "cell_type": "code",
   "execution_count": 2,
   "metadata": {},
   "outputs": [
    {
     "name": "stderr",
     "output_type": "stream",
     "text": [
      "c:\\Users\\finanzas\\Desktop\\Javier Rojas\\Javier\\trabajo\\SSMO\\EPH\\modulo_gestion\\1.analisis_problemas_de_salud\\egresos-hospitalarios\\funciones_auxiliares.py:53: DtypeWarning: Columns (16) have mixed types. Specify dtype option on import or set low_memory=False.\n",
      "  dfs[anio] = pd.read_csv(ruta, delimiter=';', encoding='latin-1', on_bad_lines='skip')\n",
      "c:\\Users\\finanzas\\Desktop\\Javier Rojas\\Javier\\trabajo\\SSMO\\EPH\\modulo_gestion\\1.analisis_problemas_de_salud\\egresos-hospitalarios\\funciones_auxiliares.py:53: DtypeWarning: Columns (16) have mixed types. Specify dtype option on import or set low_memory=False.\n",
      "  dfs[anio] = pd.read_csv(ruta, delimiter=';', encoding='latin-1', on_bad_lines='skip')\n",
      "c:\\Users\\finanzas\\Desktop\\Javier Rojas\\Javier\\trabajo\\SSMO\\EPH\\modulo_gestion\\1.analisis_problemas_de_salud\\egresos-hospitalarios\\funciones_auxiliares.py:53: DtypeWarning: Columns (16) have mixed types. Specify dtype option on import or set low_memory=False.\n",
      "  dfs[anio] = pd.read_csv(ruta, delimiter=';', encoding='latin-1', on_bad_lines='skip')\n",
      "c:\\Users\\finanzas\\Desktop\\Javier Rojas\\Javier\\trabajo\\SSMO\\EPH\\modulo_gestion\\1.analisis_problemas_de_salud\\egresos-hospitalarios\\funciones_auxiliares.py:53: DtypeWarning: Columns (16) have mixed types. Specify dtype option on import or set low_memory=False.\n",
      "  dfs[anio] = pd.read_csv(ruta, delimiter=';', encoding='latin-1', on_bad_lines='skip')\n",
      "c:\\Users\\finanzas\\Desktop\\Javier Rojas\\Javier\\trabajo\\SSMO\\EPH\\modulo_gestion\\1.analisis_problemas_de_salud\\egresos-hospitalarios\\funciones_auxiliares.py:53: DtypeWarning: Columns (16) have mixed types. Specify dtype option on import or set low_memory=False.\n",
      "  dfs[anio] = pd.read_csv(ruta, delimiter=';', encoding='latin-1', on_bad_lines='skip')\n",
      "c:\\Users\\finanzas\\Desktop\\Javier Rojas\\Javier\\trabajo\\SSMO\\EPH\\modulo_gestion\\1.analisis_problemas_de_salud\\egresos-hospitalarios\\funciones_auxiliares.py:53: DtypeWarning: Columns (16) have mixed types. Specify dtype option on import or set low_memory=False.\n",
      "  dfs[anio] = pd.read_csv(ruta, delimiter=';', encoding='latin-1', on_bad_lines='skip')\n"
     ]
    }
   ],
   "source": [
    "dfs = aux.leer_anios_egresos()\n",
    "df_completa = pd.concat(dfs.values())"
   ]
  },
  {
   "cell_type": "code",
   "execution_count": 47,
   "metadata": {},
   "outputs": [
    {
     "name": "stdout",
     "output_type": "stream",
     "text": [
      "El DataFrame de 2013 tiene 1676936 datos\n",
      "El DataFrame de 2014 tiene 1660150 datos\n",
      "El DataFrame de 2015 tiene 1671054 datos\n",
      "El DataFrame de 2016 tiene 1637265 datos\n",
      "El DataFrame de 2017 tiene 1637150 datos\n",
      "El DataFrame de 2018 tiene 1669602 datos\n",
      "El DataFrame de 2019 tiene 1636508 datos\n"
     ]
    }
   ],
   "source": [
    "for anio, df in dfs.items():\n",
    "    print(f\"El DataFrame de {anio} tiene {df.shape[0]} datos\")\n"
   ]
  },
  {
   "attachments": {},
   "cell_type": "markdown",
   "metadata": {},
   "source": [
    "Por lo tanto, la comparacion de datos es:\n",
    "\n",
    "Año|Cantidad de datos|Base de Datos|\n",
    "---|-----------------|-------------|\n",
    "2013|1.676.937|1.676.936|\n",
    "2014|1.660.150|1.660.150|\n",
    "2015|1.671.054|1.671.054|\n",
    "2016|1.637.265|1.637.265|\n",
    "2017|1.637.150|1.637.150|\n",
    "2018|1.669.602|1.669.602|\n",
    "2019|1.667.180|1.636.508|\n",
    "\n",
    "O sea, **solamente 2013 y 2019 difieren con la cantidad de datos** mostrados en el resumen de DEIS."
   ]
  },
  {
   "attachments": {},
   "cell_type": "markdown",
   "metadata": {},
   "source": [
    "# Análisis de Datos Faltantes\n",
    "\n",
    "En este apartado se quiere ver la cantidad de valores faltantes en las bases de datos"
   ]
  },
  {
   "cell_type": "code",
   "execution_count": 3,
   "metadata": {},
   "outputs": [
    {
     "data": {
      "text/html": [
       "<div>\n",
       "<style scoped>\n",
       "    .dataframe tbody tr th:only-of-type {\n",
       "        vertical-align: middle;\n",
       "    }\n",
       "\n",
       "    .dataframe tbody tr th {\n",
       "        vertical-align: top;\n",
       "    }\n",
       "\n",
       "    .dataframe thead th {\n",
       "        text-align: right;\n",
       "    }\n",
       "</style>\n",
       "<table border=\"1\" class=\"dataframe\">\n",
       "  <thead>\n",
       "    <tr style=\"text-align: right;\">\n",
       "      <th></th>\n",
       "      <th>cantidad_na</th>\n",
       "      <th>porcentaje_na</th>\n",
       "    </tr>\n",
       "  </thead>\n",
       "  <tbody>\n",
       "    <tr>\n",
       "      <th>ID_PACIENTE</th>\n",
       "      <td>184299</td>\n",
       "      <td>1.59</td>\n",
       "    </tr>\n",
       "    <tr>\n",
       "      <th>ESTABLECIMIENTO_SALUD</th>\n",
       "      <td>0</td>\n",
       "      <td>0.00</td>\n",
       "    </tr>\n",
       "    <tr>\n",
       "      <th>GLOSA_ESTABLECIMIENTO_SALUD</th>\n",
       "      <td>0</td>\n",
       "      <td>0.00</td>\n",
       "    </tr>\n",
       "    <tr>\n",
       "      <th>PERTENENCIA_ESTABLECIMIENTO_SALUD</th>\n",
       "      <td>0</td>\n",
       "      <td>0.00</td>\n",
       "    </tr>\n",
       "    <tr>\n",
       "      <th>SEREMI</th>\n",
       "      <td>7391665</td>\n",
       "      <td>63.78</td>\n",
       "    </tr>\n",
       "    <tr>\n",
       "      <th>SERVICIO_DE_SALUD</th>\n",
       "      <td>4197000</td>\n",
       "      <td>36.22</td>\n",
       "    </tr>\n",
       "    <tr>\n",
       "      <th>SEXO</th>\n",
       "      <td>3</td>\n",
       "      <td>0.00</td>\n",
       "    </tr>\n",
       "    <tr>\n",
       "      <th>FECHA_NACIMIENTO</th>\n",
       "      <td>167</td>\n",
       "      <td>0.00</td>\n",
       "    </tr>\n",
       "    <tr>\n",
       "      <th>EDAD_CANT</th>\n",
       "      <td>0</td>\n",
       "      <td>0.00</td>\n",
       "    </tr>\n",
       "    <tr>\n",
       "      <th>TIPO_EDAD</th>\n",
       "      <td>0</td>\n",
       "      <td>0.00</td>\n",
       "    </tr>\n",
       "    <tr>\n",
       "      <th>EDAD_A_OS</th>\n",
       "      <td>0</td>\n",
       "      <td>0.00</td>\n",
       "    </tr>\n",
       "    <tr>\n",
       "      <th>PUEBLO_ORIGINARIO</th>\n",
       "      <td>1</td>\n",
       "      <td>0.00</td>\n",
       "    </tr>\n",
       "    <tr>\n",
       "      <th>PAIS_ORIGEN</th>\n",
       "      <td>0</td>\n",
       "      <td>0.00</td>\n",
       "    </tr>\n",
       "    <tr>\n",
       "      <th>GLOSA_PAIS_ORIGEN</th>\n",
       "      <td>10918</td>\n",
       "      <td>0.09</td>\n",
       "    </tr>\n",
       "    <tr>\n",
       "      <th>COMUNA_RESIDENCIA</th>\n",
       "      <td>3</td>\n",
       "      <td>0.00</td>\n",
       "    </tr>\n",
       "    <tr>\n",
       "      <th>GLOSA_COMUNA_RESIDENCIA</th>\n",
       "      <td>3</td>\n",
       "      <td>0.00</td>\n",
       "    </tr>\n",
       "    <tr>\n",
       "      <th>REGION_RESIDENCIA</th>\n",
       "      <td>3</td>\n",
       "      <td>0.00</td>\n",
       "    </tr>\n",
       "    <tr>\n",
       "      <th>GLOSA_REGION_RESIDENCIA</th>\n",
       "      <td>3</td>\n",
       "      <td>0.00</td>\n",
       "    </tr>\n",
       "    <tr>\n",
       "      <th>PREVISION</th>\n",
       "      <td>0</td>\n",
       "      <td>0.00</td>\n",
       "    </tr>\n",
       "    <tr>\n",
       "      <th>BENEFICIARIO</th>\n",
       "      <td>3265201</td>\n",
       "      <td>28.18</td>\n",
       "    </tr>\n",
       "    <tr>\n",
       "      <th>MODALIDAD</th>\n",
       "      <td>3278267</td>\n",
       "      <td>28.29</td>\n",
       "    </tr>\n",
       "    <tr>\n",
       "      <th>PROCEDENCIA</th>\n",
       "      <td>731</td>\n",
       "      <td>0.01</td>\n",
       "    </tr>\n",
       "    <tr>\n",
       "      <th>ANO_EGRESO</th>\n",
       "      <td>0</td>\n",
       "      <td>0.00</td>\n",
       "    </tr>\n",
       "    <tr>\n",
       "      <th>FECHA_EGRESO</th>\n",
       "      <td>5</td>\n",
       "      <td>0.00</td>\n",
       "    </tr>\n",
       "    <tr>\n",
       "      <th>AREA_FUNCIONAL_EGRESO</th>\n",
       "      <td>5</td>\n",
       "      <td>0.00</td>\n",
       "    </tr>\n",
       "    <tr>\n",
       "      <th>DIAS_ESTADA</th>\n",
       "      <td>0</td>\n",
       "      <td>0.00</td>\n",
       "    </tr>\n",
       "    <tr>\n",
       "      <th>CONDICION_EGRESO</th>\n",
       "      <td>0</td>\n",
       "      <td>0.00</td>\n",
       "    </tr>\n",
       "    <tr>\n",
       "      <th>DIAG1</th>\n",
       "      <td>1</td>\n",
       "      <td>0.00</td>\n",
       "    </tr>\n",
       "    <tr>\n",
       "      <th>GLOSA_DIAG1</th>\n",
       "      <td>1</td>\n",
       "      <td>0.00</td>\n",
       "    </tr>\n",
       "    <tr>\n",
       "      <th>DIAG2</th>\n",
       "      <td>10513070</td>\n",
       "      <td>90.72</td>\n",
       "    </tr>\n",
       "    <tr>\n",
       "      <th>GLOSA_DIAG2</th>\n",
       "      <td>10513070</td>\n",
       "      <td>90.72</td>\n",
       "    </tr>\n",
       "    <tr>\n",
       "      <th>INTERV_Q</th>\n",
       "      <td>0</td>\n",
       "      <td>0.00</td>\n",
       "    </tr>\n",
       "    <tr>\n",
       "      <th>CODIGO_INTERV_Q_PPAL</th>\n",
       "      <td>6276737</td>\n",
       "      <td>54.16</td>\n",
       "    </tr>\n",
       "    <tr>\n",
       "      <th>GLOSA_INTERV_Q_PPAL</th>\n",
       "      <td>6276737</td>\n",
       "      <td>54.16</td>\n",
       "    </tr>\n",
       "    <tr>\n",
       "      <th>PROCED</th>\n",
       "      <td>8282555</td>\n",
       "      <td>71.47</td>\n",
       "    </tr>\n",
       "    <tr>\n",
       "      <th>CODIGO_PROCED_PPAL</th>\n",
       "      <td>11338538</td>\n",
       "      <td>97.84</td>\n",
       "    </tr>\n",
       "    <tr>\n",
       "      <th>GLOSA_PROCED_PPAL</th>\n",
       "      <td>11338538</td>\n",
       "      <td>97.84</td>\n",
       "    </tr>\n",
       "  </tbody>\n",
       "</table>\n",
       "</div>"
      ],
      "text/plain": [
       "                                   cantidad_na  porcentaje_na\n",
       "ID_PACIENTE                             184299           1.59\n",
       "ESTABLECIMIENTO_SALUD                        0           0.00\n",
       "GLOSA_ESTABLECIMIENTO_SALUD                  0           0.00\n",
       "PERTENENCIA_ESTABLECIMIENTO_SALUD            0           0.00\n",
       "SEREMI                                 7391665          63.78\n",
       "SERVICIO_DE_SALUD                      4197000          36.22\n",
       "SEXO                                         3           0.00\n",
       "FECHA_NACIMIENTO                           167           0.00\n",
       "EDAD_CANT                                    0           0.00\n",
       "TIPO_EDAD                                    0           0.00\n",
       "EDAD_A_OS                                    0           0.00\n",
       "PUEBLO_ORIGINARIO                            1           0.00\n",
       "PAIS_ORIGEN                                  0           0.00\n",
       "GLOSA_PAIS_ORIGEN                        10918           0.09\n",
       "COMUNA_RESIDENCIA                            3           0.00\n",
       "GLOSA_COMUNA_RESIDENCIA                      3           0.00\n",
       "REGION_RESIDENCIA                            3           0.00\n",
       "GLOSA_REGION_RESIDENCIA                      3           0.00\n",
       "PREVISION                                    0           0.00\n",
       "BENEFICIARIO                           3265201          28.18\n",
       "MODALIDAD                              3278267          28.29\n",
       "PROCEDENCIA                                731           0.01\n",
       "ANO_EGRESO                                   0           0.00\n",
       "FECHA_EGRESO                                 5           0.00\n",
       "AREA_FUNCIONAL_EGRESO                        5           0.00\n",
       "DIAS_ESTADA                                  0           0.00\n",
       "CONDICION_EGRESO                             0           0.00\n",
       "DIAG1                                        1           0.00\n",
       "GLOSA_DIAG1                                  1           0.00\n",
       "DIAG2                                 10513070          90.72\n",
       "GLOSA_DIAG2                           10513070          90.72\n",
       "INTERV_Q                                     0           0.00\n",
       "CODIGO_INTERV_Q_PPAL                   6276737          54.16\n",
       "GLOSA_INTERV_Q_PPAL                    6276737          54.16\n",
       "PROCED                                 8282555          71.47\n",
       "CODIGO_PROCED_PPAL                    11338538          97.84\n",
       "GLOSA_PROCED_PPAL                     11338538          97.84"
      ]
     },
     "metadata": {},
     "output_type": "display_data"
    },
    {
     "ename": "KeyboardInterrupt",
     "evalue": "",
     "output_type": "error",
     "traceback": [
      "\u001b[1;31m---------------------------------------------------------------------------\u001b[0m",
      "\u001b[1;31mKeyboardInterrupt\u001b[0m                         Traceback (most recent call last)",
      "Cell \u001b[1;32mIn[3], line 1\u001b[0m\n\u001b[1;32m----> 1\u001b[0m aux2\u001b[39m.\u001b[39;49manalizar_valores_faltantes(df_completa)\n",
      "File \u001b[1;32mc:\\Users\\finanzas\\Desktop\\Javier Rojas\\Javier\\trabajo\\SSMO\\EPH\\modulo_gestion\\1.analisis_problemas_de_salud\\egresos-hospitalarios\\funciones_auxiliares_hito_2.py:183\u001b[0m, in \u001b[0;36manalizar_valores_faltantes\u001b[1;34m(variables_a_analizar)\u001b[0m\n\u001b[0;32m    178\u001b[0m faltantes_resumen \u001b[39m=\u001b[39m pd\u001b[39m.\u001b[39mDataFrame({\n\u001b[0;32m    179\u001b[0m     \u001b[39m'\u001b[39m\u001b[39mcantidad_na\u001b[39m\u001b[39m'\u001b[39m: valores_faltantes,\n\u001b[0;32m    180\u001b[0m     \u001b[39m'\u001b[39m\u001b[39mporcentaje_na\u001b[39m\u001b[39m'\u001b[39m: porcentaje_faltantes})\n\u001b[0;32m    181\u001b[0m display(faltantes_resumen)\n\u001b[1;32m--> 183\u001b[0m msno\u001b[39m.\u001b[39;49mmatrix(variables_a_analizar)\n",
      "File \u001b[1;32mc:\\Users\\finanzas\\AppData\\Local\\Programs\\Python\\Python311\\Lib\\site-packages\\missingno\\missingno.py:43\u001b[0m, in \u001b[0;36mmatrix\u001b[1;34m(df, filter, n, p, sort, figsize, width_ratios, color, fontsize, labels, label_rotation, sparkline, freq, ax)\u001b[0m\n\u001b[0;32m     40\u001b[0m width \u001b[39m=\u001b[39m df\u001b[39m.\u001b[39mshape[\u001b[39m1\u001b[39m]\n\u001b[0;32m     42\u001b[0m \u001b[39m# z is the color-mask array, g is a NxNx3 matrix. Apply the z color-mask to set the RGB of each pixel.\u001b[39;00m\n\u001b[1;32m---> 43\u001b[0m z \u001b[39m=\u001b[39m df\u001b[39m.\u001b[39;49mnotnull()\u001b[39m.\u001b[39mvalues\n\u001b[0;32m     44\u001b[0m g \u001b[39m=\u001b[39m np\u001b[39m.\u001b[39mzeros((height, width, \u001b[39m3\u001b[39m), dtype\u001b[39m=\u001b[39mnp\u001b[39m.\u001b[39mfloat32)\n\u001b[0;32m     46\u001b[0m g[z \u001b[39m<\u001b[39m \u001b[39m0.5\u001b[39m] \u001b[39m=\u001b[39m [\u001b[39m1\u001b[39m, \u001b[39m1\u001b[39m, \u001b[39m1\u001b[39m]\n",
      "File \u001b[1;32mc:\\Users\\finanzas\\AppData\\Local\\Programs\\Python\\Python311\\Lib\\site-packages\\pandas\\core\\frame.py:6398\u001b[0m, in \u001b[0;36mDataFrame.notnull\u001b[1;34m(self)\u001b[0m\n\u001b[0;32m   6393\u001b[0m \u001b[39m@doc\u001b[39m(NDFrame\u001b[39m.\u001b[39mnotna, klass\u001b[39m=\u001b[39m_shared_doc_kwargs[\u001b[39m\"\u001b[39m\u001b[39mklass\u001b[39m\u001b[39m\"\u001b[39m])\n\u001b[0;32m   6394\u001b[0m \u001b[39mdef\u001b[39;00m \u001b[39mnotnull\u001b[39m(\u001b[39mself\u001b[39m) \u001b[39m-\u001b[39m\u001b[39m>\u001b[39m DataFrame:\n\u001b[0;32m   6395\u001b[0m \u001b[39m    \u001b[39m\u001b[39m\"\"\"\u001b[39;00m\n\u001b[0;32m   6396\u001b[0m \u001b[39m    DataFrame.notnull is an alias for DataFrame.notna.\u001b[39;00m\n\u001b[0;32m   6397\u001b[0m \u001b[39m    \"\"\"\u001b[39;00m\n\u001b[1;32m-> 6398\u001b[0m     \u001b[39mreturn\u001b[39;00m \u001b[39m~\u001b[39m\u001b[39mself\u001b[39;49m\u001b[39m.\u001b[39;49misna()\n",
      "File \u001b[1;32mc:\\Users\\finanzas\\AppData\\Local\\Programs\\Python\\Python311\\Lib\\site-packages\\pandas\\core\\frame.py:6379\u001b[0m, in \u001b[0;36mDataFrame.isna\u001b[1;34m(self)\u001b[0m\n\u001b[0;32m   6377\u001b[0m \u001b[39m@doc\u001b[39m(NDFrame\u001b[39m.\u001b[39misna, klass\u001b[39m=\u001b[39m_shared_doc_kwargs[\u001b[39m\"\u001b[39m\u001b[39mklass\u001b[39m\u001b[39m\"\u001b[39m])\n\u001b[0;32m   6378\u001b[0m \u001b[39mdef\u001b[39;00m \u001b[39misna\u001b[39m(\u001b[39mself\u001b[39m) \u001b[39m-\u001b[39m\u001b[39m>\u001b[39m DataFrame:\n\u001b[1;32m-> 6379\u001b[0m     result \u001b[39m=\u001b[39m \u001b[39mself\u001b[39m\u001b[39m.\u001b[39m_constructor(\u001b[39mself\u001b[39;49m\u001b[39m.\u001b[39;49m_mgr\u001b[39m.\u001b[39;49misna(func\u001b[39m=\u001b[39;49misna))\n\u001b[0;32m   6380\u001b[0m     \u001b[39mreturn\u001b[39;00m result\u001b[39m.\u001b[39m__finalize__(\u001b[39mself\u001b[39m, method\u001b[39m=\u001b[39m\u001b[39m\"\u001b[39m\u001b[39misna\u001b[39m\u001b[39m\"\u001b[39m)\n",
      "File \u001b[1;32mc:\\Users\\finanzas\\AppData\\Local\\Programs\\Python\\Python311\\Lib\\site-packages\\pandas\\core\\internals\\base.py:143\u001b[0m, in \u001b[0;36mDataManager.isna\u001b[1;34m(self, func)\u001b[0m\n\u001b[0;32m    141\u001b[0m \u001b[39m@final\u001b[39m\n\u001b[0;32m    142\u001b[0m \u001b[39mdef\u001b[39;00m \u001b[39misna\u001b[39m(\u001b[39mself\u001b[39m: T, func) \u001b[39m-\u001b[39m\u001b[39m>\u001b[39m T:\n\u001b[1;32m--> 143\u001b[0m     \u001b[39mreturn\u001b[39;00m \u001b[39mself\u001b[39;49m\u001b[39m.\u001b[39;49mapply(\u001b[39m\"\u001b[39;49m\u001b[39mapply\u001b[39;49m\u001b[39m\"\u001b[39;49m, func\u001b[39m=\u001b[39;49mfunc)\n",
      "File \u001b[1;32mc:\\Users\\finanzas\\AppData\\Local\\Programs\\Python\\Python311\\Lib\\site-packages\\pandas\\core\\internals\\managers.py:352\u001b[0m, in \u001b[0;36mBaseBlockManager.apply\u001b[1;34m(self, f, align_keys, ignore_failures, **kwargs)\u001b[0m\n\u001b[0;32m    350\u001b[0m         applied \u001b[39m=\u001b[39m b\u001b[39m.\u001b[39mapply(f, \u001b[39m*\u001b[39m\u001b[39m*\u001b[39mkwargs)\n\u001b[0;32m    351\u001b[0m     \u001b[39melse\u001b[39;00m:\n\u001b[1;32m--> 352\u001b[0m         applied \u001b[39m=\u001b[39m \u001b[39mgetattr\u001b[39;49m(b, f)(\u001b[39m*\u001b[39;49m\u001b[39m*\u001b[39;49mkwargs)\n\u001b[0;32m    353\u001b[0m \u001b[39mexcept\u001b[39;00m (\u001b[39mTypeError\u001b[39;00m, \u001b[39mNotImplementedError\u001b[39;00m):\n\u001b[0;32m    354\u001b[0m     \u001b[39mif\u001b[39;00m \u001b[39mnot\u001b[39;00m ignore_failures:\n",
      "File \u001b[1;32mc:\\Users\\finanzas\\AppData\\Local\\Programs\\Python\\Python311\\Lib\\site-packages\\pandas\\core\\internals\\blocks.py:351\u001b[0m, in \u001b[0;36mBlock.apply\u001b[1;34m(self, func, **kwargs)\u001b[0m\n\u001b[0;32m    345\u001b[0m \u001b[39m@final\u001b[39m\n\u001b[0;32m    346\u001b[0m \u001b[39mdef\u001b[39;00m \u001b[39mapply\u001b[39m(\u001b[39mself\u001b[39m, func, \u001b[39m*\u001b[39m\u001b[39m*\u001b[39mkwargs) \u001b[39m-\u001b[39m\u001b[39m>\u001b[39m \u001b[39mlist\u001b[39m[Block]:\n\u001b[0;32m    347\u001b[0m \u001b[39m    \u001b[39m\u001b[39m\"\"\"\u001b[39;00m\n\u001b[0;32m    348\u001b[0m \u001b[39m    apply the function to my values; return a block if we are not\u001b[39;00m\n\u001b[0;32m    349\u001b[0m \u001b[39m    one\u001b[39;00m\n\u001b[0;32m    350\u001b[0m \u001b[39m    \"\"\"\u001b[39;00m\n\u001b[1;32m--> 351\u001b[0m     result \u001b[39m=\u001b[39m func(\u001b[39mself\u001b[39;49m\u001b[39m.\u001b[39;49mvalues, \u001b[39m*\u001b[39;49m\u001b[39m*\u001b[39;49mkwargs)\n\u001b[0;32m    353\u001b[0m     \u001b[39mreturn\u001b[39;00m \u001b[39mself\u001b[39m\u001b[39m.\u001b[39m_split_op_result(result)\n",
      "\u001b[1;31mKeyboardInterrupt\u001b[0m: "
     ]
    }
   ],
   "source": [
    "aux2.analizar_valores_faltantes(df_completa)"
   ]
  },
  {
   "cell_type": "code",
   "execution_count": null,
   "metadata": {},
   "outputs": [],
   "source": []
  }
 ],
 "metadata": {
  "kernelspec": {
   "display_name": "Python 3",
   "language": "python",
   "name": "python3"
  },
  "language_info": {
   "codemirror_mode": {
    "name": "ipython",
    "version": 3
   },
   "file_extension": ".py",
   "mimetype": "text/x-python",
   "name": "python",
   "nbconvert_exporter": "python",
   "pygments_lexer": "ipython3",
   "version": "3.10.9"
  },
  "orig_nbformat": 4,
  "vscode": {
   "interpreter": {
    "hash": "8757bac6cc3bb0a7c6b692b7e5ba2ef1b4236e291f2a36c040e25f5684562b87"
   }
  }
 },
 "nbformat": 4,
 "nbformat_minor": 2
}
