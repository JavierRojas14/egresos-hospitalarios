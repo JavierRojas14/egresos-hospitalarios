{
 "cells": [
  {
   "attachments": {},
   "cell_type": "markdown",
   "metadata": {},
   "source": [
    "# Análisis de Egresos Hospitalarios\n",
    "\n",
    "En este análisis se quiere ver la cantidad de egresos hospitalarios para diversos problemas\n",
    "médicos, tanto cubiertos por GES y los no GES.\n",
    "\n",
    "Las preguntas que se quieren responder con este análisis son:\n",
    "\n",
    "- Cuántos casos del problema médico hubieron en cada año a nivel nacional?\n",
    "- En qué región fué dónde hubo el mayor caso de estos problemas médicos?\n",
    "- Cómo es la distribución etárea del problema médico?\n",
    "- Cómo es la distribución por sexo del problema médico?\n",
    "- Cómo es la distribución por tipo de previsión (FONASA e ISAPRE) del problema médico?\n",
    "- Cómo es la distribución por sector público/privado del problema de salud?\n",
    "- Cómo es la distribución por hospitales del problemad de salud?\n",
    "\n",
    "\n",
    "Ahora, a nivel de Instituto Nacional del Tórax:\n",
    "\n",
    "- Cuál es la cantidad de Egresos Hospitalarios del problema de salud en el Tórax? Cuánto es este \n",
    "porcentaje de la cantidad Nacional? Cómo se compara el porcentaje del Tórax con respecto a \n",
    "los otros Hospitales (Somos referencia?)\n",
    "- Cuál es el grupo etáreo que mayoritariamente llega al Tórax?\n",
    "- De cuántas procedencias llegan pacientes al Hospital del Tórax?\n"
   ]
  },
  {
   "cell_type": "code",
   "execution_count": 1,
   "metadata": {},
   "outputs": [],
   "source": [
    "import pandas as pd\n",
    "import numpy as np\n",
    "\n",
    "import matplotlib.pyplot as plt\n",
    "import seaborn as sns\n",
    "\n",
    "import missingno as msno\n",
    "\n",
    "import funciones_auxiliares as aux\n",
    "\n",
    "sns.set_theme()\n",
    "plt.rcParams['figure.figsize'] = (12, 6)"
   ]
  },
  {
   "attachments": {},
   "cell_type": "markdown",
   "metadata": {},
   "source": [
    "# Selección del problema de Salud\n",
    "\n",
    "Como se vió, los problemas de salud se encuentran codificados en formato CIE-10. Por ejemplo, se seleccionará los Cuidado Paliativos (Z51.5)\n",
    "\n",
    "- La columna "
   ]
  },
  {
   "cell_type": "code",
   "execution_count": 2,
   "metadata": {},
   "outputs": [],
   "source": [
    "PROBLEMA = 'Z515'"
   ]
  },
  {
   "cell_type": "code",
   "execution_count": 3,
   "metadata": {},
   "outputs": [
    {
     "name": "stderr",
     "output_type": "stream",
     "text": [
      "c:\\Users\\finanzas\\Desktop\\Javier Rojas\\Javier\\trabajo\\SSMO\\EPH\\modulo_gestion\\1.analisis_problemas_de_salud\\egresos-hospitalarios\\funciones_auxiliares.py:48: DtypeWarning: Columns (16) have mixed types. Specify dtype option on import or set low_memory=False.\n",
      "  dfs[anio] = pd.read_csv(ruta, delimiter=';', encoding='latin-1', on_bad_lines='skip')\n",
      "c:\\Users\\finanzas\\Desktop\\Javier Rojas\\Javier\\trabajo\\SSMO\\EPH\\modulo_gestion\\1.analisis_problemas_de_salud\\egresos-hospitalarios\\funciones_auxiliares.py:48: DtypeWarning: Columns (16) have mixed types. Specify dtype option on import or set low_memory=False.\n",
      "  dfs[anio] = pd.read_csv(ruta, delimiter=';', encoding='latin-1', on_bad_lines='skip')\n",
      "c:\\Users\\finanzas\\Desktop\\Javier Rojas\\Javier\\trabajo\\SSMO\\EPH\\modulo_gestion\\1.analisis_problemas_de_salud\\egresos-hospitalarios\\funciones_auxiliares.py:48: DtypeWarning: Columns (16) have mixed types. Specify dtype option on import or set low_memory=False.\n",
      "  dfs[anio] = pd.read_csv(ruta, delimiter=';', encoding='latin-1', on_bad_lines='skip')\n",
      "c:\\Users\\finanzas\\Desktop\\Javier Rojas\\Javier\\trabajo\\SSMO\\EPH\\modulo_gestion\\1.analisis_problemas_de_salud\\egresos-hospitalarios\\funciones_auxiliares.py:48: DtypeWarning: Columns (16) have mixed types. Specify dtype option on import or set low_memory=False.\n",
      "  dfs[anio] = pd.read_csv(ruta, delimiter=';', encoding='latin-1', on_bad_lines='skip')\n",
      "c:\\Users\\finanzas\\Desktop\\Javier Rojas\\Javier\\trabajo\\SSMO\\EPH\\modulo_gestion\\1.analisis_problemas_de_salud\\egresos-hospitalarios\\funciones_auxiliares.py:48: DtypeWarning: Columns (16) have mixed types. Specify dtype option on import or set low_memory=False.\n",
      "  dfs[anio] = pd.read_csv(ruta, delimiter=';', encoding='latin-1', on_bad_lines='skip')\n",
      "c:\\Users\\finanzas\\Desktop\\Javier Rojas\\Javier\\trabajo\\SSMO\\EPH\\modulo_gestion\\1.analisis_problemas_de_salud\\egresos-hospitalarios\\funciones_auxiliares.py:48: DtypeWarning: Columns (16) have mixed types. Specify dtype option on import or set low_memory=False.\n",
      "  dfs[anio] = pd.read_csv(ruta, delimiter=';', encoding='latin-1', on_bad_lines='skip')\n"
     ]
    }
   ],
   "source": [
    "dfs = aux.leer_anios_egresos()"
   ]
  },
  {
   "cell_type": "code",
   "execution_count": 4,
   "metadata": {},
   "outputs": [
    {
     "name": "stdout",
     "output_type": "stream",
     "text": [
      "Hubieron 658 casos de Z515\n"
     ]
    }
   ],
   "source": [
    "problema = dfs['2013'].query('DIAG1 == @PROBLEMA')\n",
    "cantidad_casos_nacionales = problema.shape[0]\n",
    "\n",
    "print(f'Hubieron {cantidad_casos_nacionales} casos de {PROBLEMA}')"
   ]
  },
  {
   "cell_type": "code",
   "execution_count": 5,
   "metadata": {},
   "outputs": [
    {
     "data": {
      "text/html": [
       "<div>\n",
       "<style scoped>\n",
       "    .dataframe tbody tr th:only-of-type {\n",
       "        vertical-align: middle;\n",
       "    }\n",
       "\n",
       "    .dataframe tbody tr th {\n",
       "        vertical-align: top;\n",
       "    }\n",
       "\n",
       "    .dataframe thead th {\n",
       "        text-align: right;\n",
       "    }\n",
       "</style>\n",
       "<table border=\"1\" class=\"dataframe\">\n",
       "  <thead>\n",
       "    <tr style=\"text-align: right;\">\n",
       "      <th></th>\n",
       "      <th>count</th>\n",
       "    </tr>\n",
       "    <tr>\n",
       "      <th>GLOSA_REGION_RESIDENCIA</th>\n",
       "      <th></th>\n",
       "    </tr>\n",
       "  </thead>\n",
       "  <tbody>\n",
       "    <tr>\n",
       "      <th>De Los Lagos</th>\n",
       "      <td>13</td>\n",
       "    </tr>\n",
       "    <tr>\n",
       "      <th>De Los Ríos</th>\n",
       "      <td>2</td>\n",
       "    </tr>\n",
       "    <tr>\n",
       "      <th>De Tarapacá</th>\n",
       "      <td>1</td>\n",
       "    </tr>\n",
       "    <tr>\n",
       "      <th>De Valparaíso</th>\n",
       "      <td>39</td>\n",
       "    </tr>\n",
       "    <tr>\n",
       "      <th>Del Bíobío</th>\n",
       "      <td>1</td>\n",
       "    </tr>\n",
       "    <tr>\n",
       "      <th>Del Libertador B. O'Higgins</th>\n",
       "      <td>2</td>\n",
       "    </tr>\n",
       "    <tr>\n",
       "      <th>Metropolitana de Santiago</th>\n",
       "      <td>600</td>\n",
       "    </tr>\n",
       "  </tbody>\n",
       "</table>\n",
       "</div>"
      ],
      "text/plain": [
       "                             count\n",
       "GLOSA_REGION_RESIDENCIA           \n",
       "De Los Lagos                    13\n",
       "De Los Ríos                      2\n",
       "De Tarapacá                      1\n",
       "De Valparaíso                   39\n",
       "Del Bíobío                       1\n",
       "Del Libertador B. O'Higgins      2\n",
       "Metropolitana de Santiago      600"
      ]
     },
     "execution_count": 5,
     "metadata": {},
     "output_type": "execute_result"
    }
   ],
   "source": [
    "distribucion_region = problema.groupby(by=['GLOSA_REGION_RESIDENCIA'])['DIAG1'].agg(['count'])\n",
    "distribucion_edad = problema.groupby(by=['EDAD_CANT'])['DIAG1'].agg(['count'])\n",
    "distribucion_sexo = "
   ]
  },
  {
   "cell_type": "code",
   "execution_count": 6,
   "metadata": {},
   "outputs": [
    {
     "data": {
      "text/plain": [
       "Index(['ID_PACIENTE', 'ESTABLECIMIENTO_SALUD', 'GLOSA_ESTABLECIMIENTO_SALUD',\n",
       "       'PERTENENCIA_ESTABLECIMIENTO_SALUD', 'SEREMI', 'SERVICIO_DE_SALUD',\n",
       "       'SEXO', 'FECHA_NACIMIENTO', 'EDAD_CANT', 'TIPO_EDAD', 'EDAD_A_OS',\n",
       "       'PUEBLO_ORIGINARIO', 'PAIS_ORIGEN', 'GLOSA_PAIS_ORIGEN',\n",
       "       'COMUNA_RESIDENCIA', 'GLOSA_COMUNA_RESIDENCIA', 'REGION_RESIDENCIA',\n",
       "       'GLOSA_REGION_RESIDENCIA', 'PREVISION', 'BENEFICIARIO', 'MODALIDAD',\n",
       "       'PROCEDENCIA', 'ANO_EGRESO', 'FECHA_EGRESO', 'AREA_FUNCIONAL_EGRESO',\n",
       "       'DIAS_ESTADA', 'CONDICION_EGRESO', 'DIAG1', 'GLOSA_DIAG1', 'DIAG2',\n",
       "       'GLOSA_DIAG2', 'INTERV_Q', 'CODIGO_INTERV_Q_PPAL',\n",
       "       'GLOSA_INTERV_Q_PPAL', 'PROCED', 'CODIGO_PROCED_PPAL',\n",
       "       'GLOSA_PROCED_PPAL'],\n",
       "      dtype='object')"
      ]
     },
     "execution_count": 6,
     "metadata": {},
     "output_type": "execute_result"
    }
   ],
   "source": [
    "dfs['2013'].columns"
   ]
  },
  {
   "cell_type": "code",
   "execution_count": 8,
   "metadata": {},
   "outputs": [
    {
     "data": {
      "text/plain": [
       "2    1012416\n",
       "1     664399\n",
       "9        110\n",
       "3         11\n",
       "Name: SEXO, dtype: int64"
      ]
     },
     "execution_count": 8,
     "metadata": {},
     "output_type": "execute_result"
    }
   ],
   "source": [
    "dfs['2013'].SEXO.value_counts()"
   ]
  },
  {
   "cell_type": "code",
   "execution_count": null,
   "metadata": {},
   "outputs": [],
   "source": []
  }
 ],
 "metadata": {
  "kernelspec": {
   "display_name": "Python 3",
   "language": "python",
   "name": "python3"
  },
  "language_info": {
   "codemirror_mode": {
    "name": "ipython",
    "version": 3
   },
   "file_extension": ".py",
   "mimetype": "text/x-python",
   "name": "python",
   "nbconvert_exporter": "python",
   "pygments_lexer": "ipython3",
   "version": "3.11.1"
  },
  "orig_nbformat": 4,
  "vscode": {
   "interpreter": {
    "hash": "8757bac6cc3bb0a7c6b692b7e5ba2ef1b4236e291f2a36c040e25f5684562b87"
   }
  }
 },
 "nbformat": 4,
 "nbformat_minor": 2
}
