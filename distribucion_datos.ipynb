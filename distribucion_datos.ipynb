{
 "cells": [
  {
   "attachments": {},
   "cell_type": "markdown",
   "metadata": {},
   "source": [
    "# Análisis de Egresos Hospitalarios\n",
    "\n",
    "En este análisis se quiere ver la cantidad de egresos hospitalarios para diversos problemas\n",
    "médicos, tanto cubiertos por GES y los no GES.\n",
    "\n",
    "En primer lugar, se quiere ver qué diagnósticos son más importantes para el Hospital del Tórax\n",
    "con respecto a la cantidad de Egresos. Esto significa que una mayor cantidad de Egresos\n",
    "Hospitalarios significa una mayor importancia del Hospital. Este análisis se quiere observar\n",
    "acumuladamente entre 2013 y 2019, cómo también la distribución de por años.\n"
   ]
  },
  {
   "cell_type": "code",
   "execution_count": 1,
   "metadata": {},
   "outputs": [
    {
     "data": {
      "text/plain": [
       "<module 'funciones_auxiliares_ranking' from 'c:\\\\Users\\\\ppizarro\\\\Desktop\\\\Javier Rojas\\\\Javier\\\\trabajo\\\\SSMO\\\\EPH\\\\modulo_gestion\\\\1.analisis_problemas_de_salud\\\\egresos-hospitalarios\\\\funciones_auxiliares_ranking.py'>"
      ]
     },
     "execution_count": 1,
     "metadata": {},
     "output_type": "execute_result"
    }
   ],
   "source": [
    "import importlib\n",
    "\n",
    "import pandas as pd\n",
    "import numpy as np\n",
    "\n",
    "import matplotlib.pyplot as plt\n",
    "import seaborn as sns\n",
    "\n",
    "import funciones_auxiliares_metricas_egresos as aux\n",
    "import funciones_auxiliares_ranking as aux2\n",
    "\n",
    "sns.set_theme()\n",
    "plt.rcParams['figure.figsize'] = (12, 6)\n",
    "\n",
    "importlib.reload(aux)\n",
    "importlib.reload(aux2)"
   ]
  },
  {
   "attachments": {},
   "cell_type": "markdown",
   "metadata": {},
   "source": [
    "# Carga de Archivos Nacionales"
   ]
  },
  {
   "cell_type": "code",
   "execution_count": 2,
   "metadata": {},
   "outputs": [],
   "source": [
    "AGRUPACION_DIAGNOSTICOS = ['Capítulo', 'Sección', 'Categoría', 'Descripción', 'DIAG1']\n",
    "GLOSA_TORAX = 'Instituto Nacional de Enfermedades Respiratorias y Cirugía Torácica'"
   ]
  },
  {
   "cell_type": "code",
   "execution_count": 3,
   "metadata": {},
   "outputs": [],
   "source": [
    "df = aux.lectura_archivos()"
   ]
  },
  {
   "cell_type": "code",
   "execution_count": 4,
   "metadata": {},
   "outputs": [],
   "source": [
    "cie = aux.obtener_diccionario_cie()\n",
    "completa_con_cie = pd.merge(df, cie, how='left', left_on='DIAG1', right_on='CodigoSinPunto')"
   ]
  },
  {
   "attachments": {},
   "cell_type": "markdown",
   "metadata": {},
   "source": [
    "## Obtener solo diagnosticos del Torax\n",
    "\n",
    "Esto se hace, para filtrar la base de datos Nacional y solo dejar los diagnosticos que aparecen\n",
    "en el Torax. Permite reducir tiempo computacional."
   ]
  },
  {
   "cell_type": "code",
   "execution_count": 5,
   "metadata": {},
   "outputs": [
    {
     "name": "stderr",
     "output_type": "stream",
     "text": [
      "C:\\Users\\ppizarro\\AppData\\Local\\Temp\\ipykernel_7512\\539428088.py:3: SettingWithCopyWarning: \n",
      "A value is trying to be set on a copy of a slice from a DataFrame.\n",
      "Try using .loc[row_indexer,col_indexer] = value instead\n",
      "\n",
      "See the caveats in the documentation: https://pandas.pydata.org/pandas-docs/stable/user_guide/indexing.html#returning-a-view-versus-a-copy\n",
      "  completa_diags_torax['GLOSA_ESTABLECIMIENTO_SALUD'] = completa_diags_torax['GLOSA_ESTABLECIMIENTO_SALUD'].replace('Instituto Nacional de Enfermedades Respiratorias y Cirugï¿½a Torï¿½cica',\n"
     ]
    }
   ],
   "source": [
    "diagnosticos_torax = aux.obtener_diagnosticos_hospital(completa_con_cie, GLOSA_TORAX)\n",
    "completa_diags_torax = completa_con_cie[completa_con_cie['DIAG1'].isin(diagnosticos_torax)]\n",
    "completa_diags_torax['GLOSA_ESTABLECIMIENTO_SALUD'] = completa_diags_torax['GLOSA_ESTABLECIMIENTO_SALUD'].replace('Instituto Nacional de Enfermedades Respiratorias y Cirugï¿½a Torï¿½cica',\n",
    "                                                                                                                   GLOSA_TORAX)"
   ]
  },
  {
   "attachments": {},
   "cell_type": "markdown",
   "metadata": {},
   "source": [
    "# Cálculo de métricas para todos los Hospitales Nacionales\n",
    "\n",
    "Se calculan las siguientes métricas:\n",
    "\n",
    "- Número de Egresos Hospitalarios (**n_egresos**)\n",
    "- Dias de Estada Promedio (**dias_estada_promedio**)\n",
    "- Cantidad de Intervenciones Quirúrgicas (**n_int_q**)\n",
    "- Cantidad de Fallecidos (**n_muertos**)\n",
    "\n",
    "Todo lo anterior se calcula con un nivel de desagregación de AÑO - HOSPITAL - DIAGNOSTICO"
   ]
  },
  {
   "cell_type": "code",
   "execution_count": 6,
   "metadata": {},
   "outputs": [],
   "source": [
    "agrupacion_anio = (['ANO_EGRESO', 'ESTABLECIMIENTO_SALUD', 'GLOSA_ESTABLECIMIENTO_SALUD'] + \n",
    "                   AGRUPACION_DIAGNOSTICOS)\n",
    "\n",
    "metricas_nacionales = aux.calcular_metricas_de_egresos_agrupados(completa_diags_torax, \n",
    "                                                                 agrupacion_anio)"
   ]
  },
  {
   "attachments": {},
   "cell_type": "markdown",
   "metadata": {},
   "source": [
    "# Cálculo de Rankings para cada uno los Hospitales según distintas variables\n",
    "\n",
    "Se quiere ver el Ranking para cada uno de los Hospitales según las variables calculadas\n",
    "previamente. Además, se quiere ver el Ranking de cada Hospital en distintos estratos. Los\n",
    "estratos a analizar son:\n",
    "\n",
    "- Nacional (Todos los Hospitales)\n",
    "- Público (Los que pertenecen al SNSS)\n",
    "- Privado (Los que NO perteneces al SNSS + Tórax)\n",
    "- GRD (Hospitales que tengan GRD)\n",
    "- Interno (Interno de cada hospital)"
   ]
  },
  {
   "attachments": {},
   "cell_type": "markdown",
   "metadata": {},
   "source": [
    "## Hacer el análisis"
   ]
  },
  {
   "cell_type": "code",
   "execution_count": 7,
   "metadata": {},
   "outputs": [],
   "source": [
    "estratos_a_calcular = aux2.obtener_codigos_de_estratos(completa_diags_torax, 112103)\n",
    "variables_a_rankear = ['n_egresos']\n",
    "subgrupo_del_ranking = ['ANO_EGRESO', 'DIAG1']\n",
    "unir_tablas_por = agrupacion_anio\n",
    "\n",
    "resumen_rankings = aux2.realizar_ranking_por_estrato(metricas_nacionales, estratos_a_calcular,\n",
    "                                                     variables_a_rankear,\n",
    "                                                     subgrupo_del_ranking, unir_tablas_por)\n"
   ]
  },
  {
   "cell_type": "code",
   "execution_count": 8,
   "metadata": {},
   "outputs": [],
   "source": [
    "resumen_rankings.to_csv('output/rankings_hospitales_maestro.csv', encoding='latin-1',\n",
    "                        decimal=',', sep=';')\n",
    "resumen_rankings.to_excel('output/rankings_hospitales_maestro.xlsx')"
   ]
  },
  {
   "attachments": {},
   "cell_type": "markdown",
   "metadata": {},
   "source": [
    "# Analisis Sociodemografico del Torax"
   ]
  },
  {
   "cell_type": "code",
   "execution_count": 10,
   "metadata": {},
   "outputs": [
    {
     "ename": "NameError",
     "evalue": "name 'torax_con_cie' is not defined",
     "output_type": "error",
     "traceback": [
      "\u001b[1;31m---------------------------------------------------------------------------\u001b[0m",
      "\u001b[1;31mNameError\u001b[0m                                 Traceback (most recent call last)",
      "Cell \u001b[1;32mIn[10], line 1\u001b[0m\n\u001b[1;32m----> 1\u001b[0m torax_con_cie[\u001b[39m'\u001b[39m\u001b[39mEDAD_CATEGORIA\u001b[39m\u001b[39m'\u001b[39m] \u001b[39m=\u001b[39m pd\u001b[39m.\u001b[39mcut(completa_con_cie[\u001b[39m'\u001b[39m\u001b[39mEDAD_A_OS\u001b[39m\u001b[39m'\u001b[39m], \n\u001b[0;32m      2\u001b[0m                                          bins\u001b[39m=\u001b[39mpd\u001b[39m.\u001b[39minterval_range(start\u001b[39m=\u001b[39m\u001b[39m0\u001b[39m, \n\u001b[0;32m      3\u001b[0m                                                                 end\u001b[39m=\u001b[39m\u001b[39m100\u001b[39m, freq\u001b[39m=\u001b[39m\u001b[39m10\u001b[39m, closed\u001b[39m=\u001b[39m\u001b[39m'\u001b[39m\u001b[39mleft\u001b[39m\u001b[39m'\u001b[39m))\n",
      "\u001b[1;31mNameError\u001b[0m: name 'torax_con_cie' is not defined"
     ]
    }
   ],
   "source": [
    "torax_con_cie['EDAD_CATEGORIA'] = pd.cut(completa_con_cie['EDAD_A_OS'], \n",
    "                                         bins=pd.interval_range(start=0, \n",
    "                                                                end=100, freq=10, closed='left'))"
   ]
  },
  {
   "cell_type": "code",
   "execution_count": null,
   "metadata": {},
   "outputs": [],
   "source": [
    "agrupacion_diagnostico = ['ANO_EGRESO', 'DIAG1']\n",
    "\n",
    "diccionario_sociodemografico = {\n",
    "    'SEXO': ['SEXO'],\n",
    "    'EDAD': ['EDAD_CATEGORIA'],\n",
    "    'REGION': ['REGION_RESIDENCIA', 'GLOSA_REGION_RESIDENCIA'],\n",
    "    'COMUNA': ['COMUNA_RESIDENCIA', 'GLOSA_COMUNA_RESIDENCIA'],\n",
    "    'PUEBLO_ORIGINARIO': ['PUEBLO_ORIGINARIO'],\n",
    "    'PAIS_ORIGEN': ['PAIS_ORIGEN', 'GLOSA_PAIS_ORIGEN'],\n",
    "    'PREVISION': ['PREVISION', 'BENEFICIARIO']\n",
    "}\n",
    "\n",
    "\n",
    "with pd.ExcelWriter('output/ranking_torax_pais/distribucion_sociodemografica.xlsx') as file:\n",
    "    for nombre_agrupacion, vars_agregacion in diccionario_sociodemografico.items():\n",
    "        resumen_agrupacion = torax_con_cie.groupby(agrupacion_diagnostico)[vars_agregacion].value_counts()\n",
    "        resumen_agrupacion.name = 'conteo'\n",
    "        resumen_agrupacion = resumen_agrupacion.reset_index()\n",
    "        resumen_agrupacion['llave'] = resumen_agrupacion['ANO_EGRESO'].astype(str) + '-' + resumen_agrupacion['DIAG1'].astype(str)\n",
    "        resumen_agrupacion.to_excel(file, sheet_name=nombre_agrupacion, index=False)\n"
   ]
  },
  {
   "cell_type": "code",
   "execution_count": null,
   "metadata": {},
   "outputs": [],
   "source": []
  }
 ],
 "metadata": {
  "kernelspec": {
   "display_name": "Python 3",
   "language": "python",
   "name": "python3"
  },
  "language_info": {
   "codemirror_mode": {
    "name": "ipython",
    "version": 3
   },
   "file_extension": ".py",
   "mimetype": "text/x-python",
   "name": "python",
   "nbconvert_exporter": "python",
   "pygments_lexer": "ipython3",
   "version": "3.10.9"
  },
  "orig_nbformat": 4,
  "vscode": {
   "interpreter": {
    "hash": "8757bac6cc3bb0a7c6b692b7e5ba2ef1b4236e291f2a36c040e25f5684562b87"
   }
  }
 },
 "nbformat": 4,
 "nbformat_minor": 2
}
