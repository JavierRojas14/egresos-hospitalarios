{
 "cells": [
  {
   "attachments": {},
   "cell_type": "markdown",
   "metadata": {},
   "source": [
    "# Análisis de Egresos Hospitalarios\n",
    "\n",
    "En este análisis se quiere ver la cantidad de egresos hospitalarios para diversos problemas\n",
    "médicos, tanto cubiertos por GES y los no GES.\n",
    "\n",
    "En primer lugar, se quiere ver qué diagnósticos son más importantes para el Hospital del Tórax\n",
    "con respecto a la cantidad de Egresos. Esto significa que una mayor cantidad de Egresos\n",
    "Hospitalarios significa una mayor importancia del Hospital. Este análisis se quiere observar\n",
    "acumuladamente entre 2013 y 2019, cómo también la distribución de por años.\n"
   ]
  },
  {
   "cell_type": "code",
   "execution_count": 40,
   "metadata": {},
   "outputs": [
    {
     "data": {
      "text/plain": [
       "<module 'funciones_auxiliares_ranking' from 'c:\\\\Users\\\\ppizarro\\\\Desktop\\\\Javier Rojas\\\\Javier\\\\trabajo\\\\SSMO\\\\EPH\\\\modulo_gestion\\\\1.analisis_problemas_de_salud\\\\egresos-hospitalarios\\\\funciones_auxiliares_ranking.py'>"
      ]
     },
     "execution_count": 40,
     "metadata": {},
     "output_type": "execute_result"
    }
   ],
   "source": [
    "import importlib\n",
    "\n",
    "import pandas as pd\n",
    "import numpy as np\n",
    "\n",
    "import matplotlib.pyplot as plt\n",
    "import seaborn as sns\n",
    "\n",
    "import funciones_auxiliares_metricas_egresos as aux\n",
    "import funciones_auxiliares_ranking as aux2\n",
    "\n",
    "sns.set_theme()\n",
    "plt.rcParams['figure.figsize'] = (12, 6)\n",
    "\n",
    "importlib.reload(aux)\n",
    "importlib.reload(aux2)"
   ]
  },
  {
   "attachments": {},
   "cell_type": "markdown",
   "metadata": {},
   "source": [
    "# Carga de Archivos Nacionales"
   ]
  },
  {
   "cell_type": "code",
   "execution_count": 41,
   "metadata": {},
   "outputs": [],
   "source": [
    "AGRUPACION_DIAGNOSTICOS = ['Capítulo', 'Sección', 'Categoría', 'Descripción', 'DIAG1']\n",
    "GLOSA_TORAX = 'Instituto Nacional de Enfermedades Respiratorias y Cirugía Torácica'"
   ]
  },
  {
   "cell_type": "code",
   "execution_count": 42,
   "metadata": {},
   "outputs": [
    {
     "name": "stderr",
     "output_type": "stream",
     "text": [
      "c:\\Users\\ppizarro\\Desktop\\Javier Rojas\\Javier\\trabajo\\SSMO\\EPH\\modulo_gestion\\1.analisis_problemas_de_salud\\egresos-hospitalarios\\funciones_auxiliares_metricas_egresos.py:58: DtypeWarning: Columns (13) have mixed types. Specify dtype option on import or set low_memory=False.\n",
      "  dfs_archivos = (pd.read_csv(f, encoding='latin-1', delimiter=';', on_bad_lines='warn',\n"
     ]
    }
   ],
   "source": [
    "df = aux.lectura_archivos()"
   ]
  },
  {
   "cell_type": "code",
   "execution_count": 43,
   "metadata": {},
   "outputs": [],
   "source": [
    "cie = aux.obtener_diccionario_cie()\n",
    "completa_con_cie = pd.merge(df, cie, how='left', left_on='DIAG1', right_on='CodigoSinPunto')"
   ]
  },
  {
   "attachments": {},
   "cell_type": "markdown",
   "metadata": {},
   "source": [
    "## Obtener solo diagnosticos del Torax\n",
    "\n",
    "Esto se hace, para filtrar la base de datos Nacional y solo dejar los diagnosticos que aparecen\n",
    "en el Torax. Permite reducir tiempo computacional."
   ]
  },
  {
   "cell_type": "code",
   "execution_count": 44,
   "metadata": {},
   "outputs": [
    {
     "name": "stderr",
     "output_type": "stream",
     "text": [
      "C:\\Users\\ppizarro\\AppData\\Local\\Temp\\ipykernel_15784\\539428088.py:3: SettingWithCopyWarning: \n",
      "A value is trying to be set on a copy of a slice from a DataFrame.\n",
      "Try using .loc[row_indexer,col_indexer] = value instead\n",
      "\n",
      "See the caveats in the documentation: https://pandas.pydata.org/pandas-docs/stable/user_guide/indexing.html#returning-a-view-versus-a-copy\n",
      "  completa_diags_torax['GLOSA_ESTABLECIMIENTO_SALUD'] = completa_diags_torax['GLOSA_ESTABLECIMIENTO_SALUD'].replace('Instituto Nacional de Enfermedades Respiratorias y Cirugï¿½a Torï¿½cica',\n"
     ]
    }
   ],
   "source": [
    "diagnosticos_torax = aux.obtener_diagnosticos_hospital(completa_con_cie, GLOSA_TORAX)\n",
    "completa_diags_torax = completa_con_cie[completa_con_cie['DIAG1'].isin(diagnosticos_torax)]\n",
    "completa_diags_torax['GLOSA_ESTABLECIMIENTO_SALUD'] = completa_diags_torax['GLOSA_ESTABLECIMIENTO_SALUD'].replace('Instituto Nacional de Enfermedades Respiratorias y Cirugï¿½a Torï¿½cica',\n",
    "                                                                                                                   GLOSA_TORAX)"
   ]
  },
  {
   "attachments": {},
   "cell_type": "markdown",
   "metadata": {},
   "source": [
    "# Cálculo de métricas para todos los Hospitales Nacionales\n",
    "\n",
    "Se calculan las siguientes métricas:\n",
    "\n",
    "- Número de Egresos Hospitalarios (**n_egresos**)\n",
    "- Dias de Estada Promedio (**dias_estada_promedio**)\n",
    "- Cantidad de Intervenciones Quirúrgicas (**n_int_q**)\n",
    "- Cantidad de Fallecidos (**n_muertos**)\n",
    "\n",
    "Todo lo anterior se calcula con un nivel de desagregación de AÑO - HOSPITAL - DIAGNOSTICO"
   ]
  },
  {
   "cell_type": "code",
   "execution_count": 45,
   "metadata": {},
   "outputs": [],
   "source": [
    "agrupacion_anio = (['ANO_EGRESO', 'ESTABLECIMIENTO_SALUD', 'GLOSA_ESTABLECIMIENTO_SALUD'] + \n",
    "                   AGRUPACION_DIAGNOSTICOS)\n",
    "\n",
    "metricas_nacionales = aux.calcular_metricas_de_egresos_agrupados(completa_diags_torax, \n",
    "                                                                 agrupacion_anio)"
   ]
  },
  {
   "attachments": {},
   "cell_type": "markdown",
   "metadata": {},
   "source": [
    "# Cálculo de Rankings para cada uno los Hospitales según distintas variables\n",
    "\n",
    "Se quiere ver el Ranking para cada uno de los Hospitales según las variables calculadas\n",
    "previamente. Además, se quiere ver el Ranking de cada Hospital en distintos estratos. Los\n",
    "estratos a analizar son:\n",
    "\n",
    "- Nacional (Todos los Hospitales)\n",
    "- Público (Los que pertenecen al SNSS)\n",
    "- Privado (Los que NO perteneces al SNSS + Tórax)\n",
    "- GRD (Hospitales que tengan GRD)\n",
    "- Interno (Interno de cada hospital)"
   ]
  },
  {
   "attachments": {},
   "cell_type": "markdown",
   "metadata": {},
   "source": [
    "## Hacer el análisis"
   ]
  },
  {
   "cell_type": "code",
   "execution_count": 46,
   "metadata": {},
   "outputs": [],
   "source": [
    "estratos_a_calcular = aux2.obtener_codigos_de_estratos(completa_diags_torax, 112103)\n",
    "variables_a_rankear = ['n_egresos']\n",
    "subgrupo_del_ranking = ['ANO_EGRESO', 'DIAG1']\n",
    "unir_tablas_por = agrupacion_anio\n",
    "\n",
    "resumen_rankings = aux2.realizar_ranking_por_estrato(metricas_nacionales, estratos_a_calcular,\n",
    "                                                     variables_a_rankear,\n",
    "                                                     subgrupo_del_ranking, unir_tablas_por)\n"
   ]
  },
  {
   "cell_type": "code",
   "execution_count": 47,
   "metadata": {},
   "outputs": [],
   "source": [
    "resumen_rankings.to_csv('output/rankings_hospitales_maestro.csv', encoding='latin-1',\n",
    "                        decimal=',', sep=';')"
   ]
  },
  {
   "cell_type": "code",
   "execution_count": 53,
   "metadata": {},
   "outputs": [],
   "source": [
    "para_excel = resumen_rankings.query('ANO_EGRESO >= 2003', engine='python')\n",
    "para_excel.to_excel('output/rankings_hospitales_maestro.xlsx', index=False)"
   ]
  },
  {
   "attachments": {},
   "cell_type": "markdown",
   "metadata": {},
   "source": [
    "# Analisis Sociodemografico del Torax"
   ]
  },
  {
   "cell_type": "code",
   "execution_count": 54,
   "metadata": {},
   "outputs": [
    {
     "name": "stderr",
     "output_type": "stream",
     "text": [
      "C:\\Users\\ppizarro\\AppData\\Local\\Temp\\ipykernel_15784\\2798415711.py:2: SettingWithCopyWarning: \n",
      "A value is trying to be set on a copy of a slice from a DataFrame.\n",
      "Try using .loc[row_indexer,col_indexer] = value instead\n",
      "\n",
      "See the caveats in the documentation: https://pandas.pydata.org/pandas-docs/stable/user_guide/indexing.html#returning-a-view-versus-a-copy\n",
      "  torax_con_cie['EDAD_CATEGORIA'] = pd.cut(completa_con_cie['EDAD_A_OS'],\n"
     ]
    }
   ],
   "source": [
    "torax_con_cie = completa_con_cie.query('ESTABLECIMIENTO_SALUD == 112103', engine='python')\n",
    "torax_con_cie['EDAD_CATEGORIA'] = pd.cut(completa_con_cie['EDAD_A_OS'], \n",
    "                                         bins=pd.interval_range(start=0, \n",
    "                                         end=100, freq=10, closed='left'))"
   ]
  },
  {
   "cell_type": "code",
   "execution_count": 55,
   "metadata": {},
   "outputs": [],
   "source": [
    "desglose_sociodemografico = ['ANO_EGRESO', 'REGION_RESIDENCIA', 'GLOSA_REGION_RESIDENCIA', \n",
    "                             'COMUNA_RESIDENCIA', 'GLOSA_COMUNA_RESIDENCIA']\n",
    "\n",
    "desglose_final = desglose_sociodemografico + AGRUPACION_DIAGNOSTICOS\n",
    "\n",
    "variables_a_analizar = ['SEXO', 'EDAD_CATEGORIA', 'PUEBLO_ORIGINARIO', 'GLOSA_PAIS_ORIGEN',\n",
    "                        'PREVISION', 'BENEFICIARIO']"
   ]
  },
  {
   "cell_type": "code",
   "execution_count": 73,
   "metadata": {},
   "outputs": [],
   "source": [
    "agrupacion_de_region_comuna = torax_con_cie.groupby(desglose_final)\n",
    "diccionario_resultados = {}\n",
    "\n",
    "for variable in variables_a_analizar:\n",
    "    resultado = agrupacion_de_region_comuna[variable].value_counts().reset_index(name='n')\n",
    "    resultado = resultado.query('n > 0')\n",
    "    llave = resultado[desglose_final].apply(lambda row: '_'.join(row.values.astype(str)), axis=1)\n",
    "    resultado.insert(0, 'llave_id', llave)\n",
    "    resultado = resultado.drop(columns=desglose_final)\n",
    "    diccionario_resultados[variable] = resultado"
   ]
  },
  {
   "cell_type": "code",
   "execution_count": 82,
   "metadata": {},
   "outputs": [],
   "source": [
    "res = torax_con_cie.groupby(desglose_final[:-1])['DIAG1'].value_counts().reset_index(name='n')\n",
    "res = res.query('n > 0')\n",
    "llave = res[desglose_final].apply(lambda row: '_'.join(row.values.astype(str)), axis=1)\n",
    "res.insert(0, 'llave_id', llave)"
   ]
  },
  {
   "cell_type": "code",
   "execution_count": 84,
   "metadata": {},
   "outputs": [],
   "source": [
    "diccionario_resultados['MAESTRO'] = res"
   ]
  },
  {
   "cell_type": "code",
   "execution_count": 85,
   "metadata": {},
   "outputs": [],
   "source": [
    "with pd.ExcelWriter('output/distribucion_sociodemografica/distribucion_sociodemografica.xlsx') as f:\n",
    "    for variable, df in diccionario_resultados.items():\n",
    "        df.to_excel(f, sheet_name=variable, index=False)"
   ]
  },
  {
   "cell_type": "code",
   "execution_count": null,
   "metadata": {},
   "outputs": [],
   "source": []
  }
 ],
 "metadata": {
  "kernelspec": {
   "display_name": "Python 3",
   "language": "python",
   "name": "python3"
  },
  "language_info": {
   "codemirror_mode": {
    "name": "ipython",
    "version": 3
   },
   "file_extension": ".py",
   "mimetype": "text/x-python",
   "name": "python",
   "nbconvert_exporter": "python",
   "pygments_lexer": "ipython3",
   "version": "3.10.9"
  },
  "orig_nbformat": 4,
  "vscode": {
   "interpreter": {
    "hash": "8757bac6cc3bb0a7c6b692b7e5ba2ef1b4236e291f2a36c040e25f5684562b87"
   }
  }
 },
 "nbformat": 4,
 "nbformat_minor": 2
}
