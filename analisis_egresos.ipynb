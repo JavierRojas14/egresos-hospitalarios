{
 "cells": [
  {
   "attachments": {},
   "cell_type": "markdown",
   "metadata": {},
   "source": [
    "# Analisis de Egresos Hospitalarios"
   ]
  },
  {
   "cell_type": "code",
   "execution_count": 1,
   "metadata": {},
   "outputs": [
    {
     "data": {
      "text/plain": [
       "<module 'calculo_metricas' from 'c:\\\\Users\\\\ppizarro\\\\Desktop\\\\Javier_Rojas\\\\Javier\\\\trabajo\\\\SSMO\\\\EPH\\\\1.0-modulo_gestion\\\\1.analisis_problemas_de_salud\\\\egresos-hospitalarios\\\\calculo_metricas.py'>"
      ]
     },
     "execution_count": 1,
     "metadata": {},
     "output_type": "execute_result"
    }
   ],
   "source": [
    "import importlib\n",
    "\n",
    "import pandas as pd\n",
    "import numpy as np\n",
    "import polars as pl\n",
    "\n",
    "import matplotlib.pyplot as plt\n",
    "import seaborn as sns\n",
    "\n",
    "import lectura_archivos as fr\n",
    "import calculo_metricas as aux\n",
    "\n",
    "from functools import reduce\n",
    "\n",
    "sns.set_style()\n",
    "plt.rcParams[\"figure.figsize\"] = (12, 6)\n",
    "\n",
    "importlib.reload(fr)\n",
    "importlib.reload(aux)\n"
   ]
  },
  {
   "cell_type": "code",
   "execution_count": 2,
   "metadata": {},
   "outputs": [],
   "source": [
    "HOSPITAL_A_ANALIZAR = 112103  # Este es el Torax\n"
   ]
  },
  {
   "attachments": {},
   "cell_type": "markdown",
   "metadata": {},
   "source": [
    "## Lectura de archivos\n",
    "\n",
    "- Se leen todos los archivos que estan en input/utf-8. Los archivos estan separados por ;\n",
    "- Se dejan solamente los egresos de los diagnosticos que **SI** tenga el Tórax\n",
    "- Se cambia la codificacion de INTERV_Q de 2 (No, 1 es SI) a 0.\n",
    "- Se cambia la codificacion de CONDICION_EGRESO (orig 1 = Vivo, 2 = Fallecido) de 1 -> 0 y 2 -> 1\n",
    "- Se cambia la codificacion de GLOSA_REGION_RESIDENCIA {\n",
    "                        \"Del Libertador B. O'Higgins\": \"del Libertador General Bernardo O'Higgins\",\n",
    "                        \"De Aisén del Gral. C. Ibáñez del Campo\": \"Aysén del General Carlos Ibáñez del Campo\",\n",
    "                    }"
   ]
  },
  {
   "cell_type": "code",
   "execution_count": 3,
   "metadata": {},
   "outputs": [],
   "source": [
    "df = fr.leer_archivos(HOSPITAL_A_ANALIZAR)"
   ]
  },
  {
   "cell_type": "code",
   "execution_count": 4,
   "metadata": {},
   "outputs": [],
   "source": [
    "aorticos = [\n",
    "    \"I06X\",\n",
    "    \"I060\",\n",
    "    \"I061\",\n",
    "    \"I062\",\n",
    "    \"I068\",\n",
    "    \"I069\",\n",
    "    \"I080\",\n",
    "    \"I082\",\n",
    "    \"I083\",\n",
    "    \"I35X\",\n",
    "    \"I350\",\n",
    "    \"I351\",\n",
    "    \"I352\",\n",
    "    \"I358\",\n",
    "    \"I359\",\n",
    "    \"I391\",\n",
    "    \"Q23X\",\n",
    "    \"Q230\",\n",
    "    \"Q231\",\n",
    "    \"Q238\",\n",
    "    \"Q239\",\n",
    "    \"Q244\",\n",
    "]"
   ]
  },
  {
   "cell_type": "code",
   "execution_count": 5,
   "metadata": {},
   "outputs": [],
   "source": [
    "AGRUPACION = [\n",
    "    \"ANO_EGRESO\",\n",
    "    \"ESTABLECIMIENTO_SALUD\",\n",
    "    \"GLOSA_ESTABLECIMIENTO_SALUD\",\n",
    "    \"DIAG1\",\n",
    "]\n",
    "\n",
    "df_nacional = pl.scan_csv(\"input/utf-8/*.csv\", separator=\";\")\n",
    "df_nacional = fr.mappear_columnas(df_nacional, fr.MAPPING_METRICAS_EGRESOS)\n",
    "metricas = aux.obtener_metricas_egresos(df_nacional, AGRUPACION).collect()\n",
    "cie = fr.leer_cie()"
   ]
  },
  {
   "cell_type": "code",
   "execution_count": 6,
   "metadata": {},
   "outputs": [],
   "source": [
    "metricas_con_cie = metricas.join(cie, on=\"DIAG1\", how=\"left\")\n",
    "aorticas = metricas_con_cie.filter(pl.col(\"Descripción\").str.contains(\"aórtica\"))"
   ]
  },
  {
   "attachments": {},
   "cell_type": "markdown",
   "metadata": {},
   "source": [
    "# Analisis de Egresos Hospitalarios\n",
    "\n",
    "Se calculan las siguientes metricas:\n",
    "\n",
    "- Número de Egresos (n_egresos)\n",
    "- Dias estada totales (dias_estada_totales)\n",
    "- Cantidad de Intervenciones Quirúrgicas (n_int_q)\n",
    "- Cantidad de Muertes (n_muertos)\n",
    "\n",
    "Todas estas metricas estan calculadas a nivel de Año, Establecimiento de Salud y Diagnóstico. Por\n",
    "ejemplo:\n",
    "\n",
    "***\"En el año 2019, el Hospital San José (código XXXXXXX) tuvo XX egresos, con XX dias estada_promedio,\n",
    "con XX intervenciones_quirúrgicas y XX muertos para el diagnóstico A24.4.\"***\n",
    "\n",
    "Este análisis se realizó entre 2001 y 2020 para todos los hospitales/clínicas de Chile."
   ]
  },
  {
   "cell_type": "code",
   "execution_count": 7,
   "metadata": {},
   "outputs": [],
   "source": [
    "AGRUPACION = [\n",
    "    \"ANO_EGRESO\",\n",
    "    \"ESTABLECIMIENTO_SALUD\",\n",
    "    \"GLOSA_ESTABLECIMIENTO_SALUD\",\n",
    "    \"DIAG1\",\n",
    "]\n",
    "\n",
    "metricas = aux.obtener_metricas_egresos(df, AGRUPACION).collect(streaming=True)\n"
   ]
  },
  {
   "attachments": {},
   "cell_type": "markdown",
   "metadata": {},
   "source": [
    "# Analisis de Estratos"
   ]
  },
  {
   "cell_type": "code",
   "execution_count": 8,
   "metadata": {},
   "outputs": [],
   "source": [
    "dict_estratos = aux.obtener_diccionario_estratos(df, HOSPITAL_A_ANALIZAR)\n",
    "cie = fr.leer_cie()\n"
   ]
  },
  {
   "cell_type": "code",
   "execution_count": 22,
   "metadata": {},
   "outputs": [],
   "source": [
    "variables_a_rankear = [\"n_egresos\"]\n",
    "subgrupo_del_ranking = [\"ANO_EGRESO\", \"DIAG1\"]\n",
    "unir_tablas_por = AGRUPACION\n",
    "\n",
    "ORDEN_COLS = [\n",
    "    \"ANO_EGRESO\",\n",
    "    \"ESTABLECIMIENTO_SALUD\",\n",
    "    \"GLOSA_ESTABLECIMIENTO_SALUD\",\n",
    "    \"Capítulo\",\n",
    "    \"Sección\",\n",
    "    \"Categoría\",\n",
    "    \"Descripción\",\n",
    "    \"DIAG1\",\n",
    "    \"n_egresos\",\n",
    "    \"dias_estada_totales\",\n",
    "    \"n_int_q\",\n",
    "    \"n_muertos\",\n",
    "    \"ranking_nacionales_n_egresos\",\n",
    "    \"total_nacionales_n_egresos\",\n",
    "    \"%_nacionales_n_egresos\",\n",
    "    \"ranking_publicos_n_egresos\",\n",
    "    \"total_publicos_n_egresos\",\n",
    "    \"%_publicos_n_egresos\",\n",
    "    \"ranking_privados_n_egresos\",\n",
    "    \"total_privados_n_egresos\",\n",
    "    \"%_privados_n_egresos\",\n",
    "    \"ranking_grd_n_egresos\",\n",
    "    \"total_grd_n_egresos\",\n",
    "    \"%_grd_n_egresos\",\n",
    "    \"ranking_interno_n_egresos\",\n",
    "    \"total_interno_n_egresos\",\n",
    "    \"%_interno_n_egresos\",\n",
    "]\n"
   ]
  },
  {
   "cell_type": "code",
   "execution_count": 23,
   "metadata": {},
   "outputs": [],
   "source": [
    "dict_resultados_estratos = aux.obtener_resumen_por_estratos(\n",
    "    metricas, dict_estratos, variables_a_rankear, subgrupo_del_ranking\n",
    ")\n",
    "\n",
    "resultado = reduce(aux.left_join_consecutivo, dict_resultados_estratos.values())\n",
    "resultado_unido = resultado.join(cie, how=\"left\", on=\"DIAG1\")\n",
    "resultado_unido = resultado_unido.select(ORDEN_COLS)\n",
    "resultado_unido_pandas = resultado_unido.to_pandas()"
   ]
  },
  {
   "cell_type": "code",
   "execution_count": 21,
   "metadata": {},
   "outputs": [],
   "source": [
    "resultado_unido_pandas.to_csv(\n",
    "    \"output/ranking_hospitales_maestro/rankings_hospitales_maestro.csv\",\n",
    "    sep=\";\",\n",
    "    decimal=\".\",\n",
    "    encoding=\"latin-1\",\n",
    "    index=False,\n",
    ")\n",
    "\n",
    "resultado_unido_pandas.query(\"ANO_EGRESO > 2002\").to_excel(\n",
    "    \"output/ranking_hospitales_maestro/rankings_hospitales_maestro.xlsx\", index=False\n",
    ")"
   ]
  },
  {
   "cell_type": "code",
   "execution_count": 19,
   "metadata": {},
   "outputs": [],
   "source": [
    "resultados_torax = resultado_unido.filter(pl.col(\"ESTABLECIMIENTO_SALUD\") == HOSPITAL_A_ANALIZAR)\n",
    "torax = resultados_torax.to_pandas()\n",
    "torax.to_csv(\n",
    "    \"output/ranking_torax_pais/resumen_posiciones_torax_pais.csv\",\n",
    "    sep=\";\",\n",
    "    decimal=\".\",\n",
    "    encoding=\"latin-1\",\n",
    "    index=False,\n",
    ")\n"
   ]
  },
  {
   "attachments": {},
   "cell_type": "markdown",
   "metadata": {},
   "source": [
    "## Obtencion de 20 diagnosticos mas relevantes para el Torax por produccion"
   ]
  },
  {
   "cell_type": "markdown",
   "metadata": {},
   "source": [
    "Para obtener los diagnosticos mas relevantes para el torax productivamente se siguieron los\n",
    "siguientes pasos:\n",
    "\n",
    "1. Se dejaron solamente los diagnosticos que alguna vez hayan estado primeros en el ranking\n",
    "nacional segun produccion.\n",
    "2. Luego, se dejaron los que tuvieran mas de 0 intervenciones quirurgicas y que hayan\n",
    "aparecido luego del anio 2011.\n",
    "3. De los diagnosticos restantes, por anio se seleccionaron los 20 que tuvieran la mayor\n",
    "cantida de egresos."
   ]
  },
  {
   "cell_type": "code",
   "execution_count": 16,
   "metadata": {},
   "outputs": [],
   "source": [
    "diags_mas_relevantes = resultados_torax.filter(\n",
    "    (pl.col(\"ranking_nacionales_n_egresos\") == 1)\n",
    "    & (pl.col(\"n_int_q\") > 0)\n",
    "    & (pl.col(\"ANO_EGRESO\") > 2011)\n",
    ").sort(by=[\"ANO_EGRESO\", \"n_egresos\", \"n_int_q\"], descending=True)\n",
    "\n",
    "veinte_mas_relevantes_por_anio = diags_mas_relevantes.groupby([\"ANO_EGRESO\"]).head(20)\n",
    "DIAGS_MAS_RELEVANTES = veinte_mas_relevantes_por_anio.select(pl.col(\"DIAG1\").unique()).sort(\n",
    "    by=\"DIAG1\"\n",
    ")\n"
   ]
  },
  {
   "cell_type": "code",
   "execution_count": 17,
   "metadata": {},
   "outputs": [
    {
     "name": "stdout",
     "output_type": "stream",
     "text": [
      "Los diagnosticos mas relevantes para el Torax son: shape: (46, 1)\n",
      "┌───────┐\n",
      "│ DIAG1 │\n",
      "│ ---   │\n",
      "│ str   │\n",
      "╞═══════╡\n",
      "│ C33X  │\n",
      "│ C340  │\n",
      "│ C341  │\n",
      "│ C342  │\n",
      "│ …     │\n",
      "│ Q676  │\n",
      "│ T820  │\n",
      "│ T821  │\n",
      "│ Z450  │\n",
      "└───────┘\n"
     ]
    },
    {
     "data": {
      "text/plain": [
       "<xlsxwriter.workbook.Workbook at 0x17712c0cac0>"
      ]
     },
     "execution_count": 17,
     "metadata": {},
     "output_type": "execute_result"
    }
   ],
   "source": [
    "print(f\"Los diagnosticos mas relevantes para el Torax son: {DIAGS_MAS_RELEVANTES}\")\n",
    "\n",
    "veinte_mas_relevantes_por_anio.write_excel(\"output/ranking_torax_pais/mas_relevantes.xlsx\")\n"
   ]
  },
  {
   "attachments": {},
   "cell_type": "markdown",
   "metadata": {},
   "source": [
    "## Obtencion de resultados para diagnosticos de congenitas"
   ]
  },
  {
   "cell_type": "code",
   "execution_count": 21,
   "metadata": {},
   "outputs": [],
   "source": [
    "GLOSA_CONGENITAS = (\n",
    "    \"Cap.17  MALFORMACIONES CONGÉNITAS, DEFORMIDADES Y ANOMALÍAS CROMOSÓMICAS (Q00-Q99)\"\n",
    ")\n",
    "\n",
    "resultados_congenitas = resultados_torax.filter(pl.col(\"Capítulo\") == GLOSA_CONGENITAS).sort(\n",
    "    by=[\"ANO_EGRESO\", \"n_egresos\", \"n_int_q\"], descending=True\n",
    ")\n",
    "\n",
    "resultados_congenitas.to_pandas().to_csv(\n",
    "    \"output/ranking_torax_pais/resumen_egresos_congenitas.csv\",\n",
    "    sep=\";\",\n",
    "    decimal=\".\",\n",
    "    encoding=\"latin-1\",\n",
    "    index=False,\n",
    ")\n"
   ]
  },
  {
   "attachments": {},
   "cell_type": "markdown",
   "metadata": {},
   "source": [
    "# Analisis Sociodemográfico"
   ]
  },
  {
   "cell_type": "code",
   "execution_count": 34,
   "metadata": {},
   "outputs": [],
   "source": [
    "desglose_sociodemografico = [\n",
    "    \"ANO_EGRESO\",\n",
    "    \"REGION_RESIDENCIA\",\n",
    "    \"GLOSA_REGION_RESIDENCIA\",\n",
    "    \"region_pais\",\n",
    "    \"COMUNA_RESIDENCIA\",\n",
    "    \"GLOSA_COMUNA_RESIDENCIA\",\n",
    "    \"comuna_region_pais\",\n",
    "    \"DIAG1\",\n",
    "]\n",
    "\n",
    "variables_a_analizar = [\n",
    "    \"DIAG1\",\n",
    "    \"SEXO\",\n",
    "    \"EDAD_CATEGORIA\",\n",
    "    \"PUEBLO_ORIGINARIO\",\n",
    "    \"GLOSA_PAIS_ORIGEN\",\n",
    "    \"PREVISION\",\n",
    "    \"BENEFICIARIO\",\n",
    "]"
   ]
  },
  {
   "cell_type": "code",
   "execution_count": 35,
   "metadata": {},
   "outputs": [],
   "source": [
    "df_socio = fr.obtener_df_inicial_sociodemografico()\n"
   ]
  },
  {
   "cell_type": "code",
   "execution_count": 36,
   "metadata": {},
   "outputs": [],
   "source": [
    "dict_resultados = {}\n",
    "\n",
    "for variable in variables_a_analizar:\n",
    "    agrupacion_total = desglose_sociodemografico.copy()\n",
    "    if variable != \"DIAG1\":\n",
    "        agrupacion_total += [variable]\n",
    "\n",
    "    resultado = (\n",
    "        df_socio.groupby(agrupacion_total)\n",
    "        .agg(pl.col(variable).count().alias(\"conteo\"))\n",
    "        .sort([\"ANO_EGRESO\", \"DIAG1\", \"conteo\"], descending=True)\n",
    "        .with_columns(\n",
    "            pl.concat_str(pl.col(desglose_sociodemografico), separator=\"-\").alias(\"llave_id\")\n",
    "        )\n",
    "    )\n",
    "\n",
    "    dict_resultados[variable] = resultado\n"
   ]
  },
  {
   "cell_type": "code",
   "execution_count": 37,
   "metadata": {},
   "outputs": [],
   "source": [
    "import xlsxwriter\n",
    "\n",
    "with xlsxwriter.Workbook(\"output/distribucion_sociodemografica/distribucion_polars.xlsx\") as f:\n",
    "    for var, df in dict_resultados.items():\n",
    "        df.write_excel(workbook=f, worksheet=var)\n"
   ]
  },
  {
   "attachments": {},
   "cell_type": "markdown",
   "metadata": {},
   "source": [
    "# Analisis de cantidad de Camas a ocupar\n",
    "\n",
    "- Aqui se quiere ver cuantas camas son necesarias por diagnostico\n",
    "- El periodo que se quiere obtener es cada mes.\n",
    "- Por lo tanto, se deben obtener la cantidad de dias estada totales por mes. Luego, dividir\n",
    "esa cantidad por los dias del periodo."
   ]
  },
  {
   "cell_type": "code",
   "execution_count": 24,
   "metadata": {},
   "outputs": [],
   "source": [
    "AGRUPACION_MENSUAL = [\n",
    "    \"ANO_EGRESO\",\n",
    "    \"MES_EGRESO\",\n",
    "    \"ESTABLECIMIENTO_SALUD\",\n",
    "    \"GLOSA_ESTABLECIMIENTO_SALUD\",\n",
    "    \"DIAG1\",\n",
    "]"
   ]
  },
  {
   "cell_type": "code",
   "execution_count": 25,
   "metadata": {},
   "outputs": [
    {
     "ename": "ColumnNotFoundError",
     "evalue": "MES_EGRESO\n\nError originated just after this operation:\n WITH_COLUMNS:\n [col(\"CONDICION_EGRESO\").map()]\n   WITH_COLUMNS:\n   [col(\"INTERV_Q\").map()]\n    FILTER col(\"DIAG1\").is_in([Series[DIAG1].alias(\"DIAG1\")]) FROM\n    RECHUNK\n      UNION:\n      PLAN 0:\n\n          CSV SCAN input\\utf-8\\Egresos_Hospitalarios_2001.csv\n          PROJECT */37 COLUMNS\n      PLAN 1:\n\n          CSV SCAN input\\utf-8\\Egresos_Hospitalarios_2002.csv\n          PROJECT */37 COLUMNS\n      PLAN 2:\n\n          CSV SCAN input\\utf-8\\Egresos_Hospitalarios_2003.csv\n          PROJECT */37 COLUMNS\n      PLAN 3:\n\n          CSV SCAN input\\utf-8\\Egresos_Hospitalarios_2004.csv\n          PROJECT */37 COLUMNS\n      PLAN 4:\n\n          CSV SCAN input\\utf-8\\Egresos_Hospitalarios_2005.csv\n          PROJECT */37 COLUMNS\n      PLAN 5:\n\n          CSV SCAN input\\utf-8\\Egresos_Hospitalarios_2006.csv\n          PROJECT */37 COLUMNS\n      PLAN 6:\n\n          CSV SCAN input\\utf-8\\Egresos_Hospitalarios_2007.csv\n          PROJECT */37 COLUMNS\n      PLAN 7:\n\n          CSV SCAN input\\utf-8\\Egresos_Hospitalarios_2008.csv\n          PROJECT */37 COLUMNS\n      PLAN 8:\n\n          CSV SCAN input\\utf-8\\Egresos_Hospitalarios_2009.csv\n          PROJECT */37 COLUMNS\n      PLAN 9:\n\n          CSV SCAN input\\utf-8\\Egresos_Hospitalarios_2010.csv\n          PROJECT */37 COLUMNS\n      PLAN 10:\n\n          CSV SCAN input\\utf-8\\Egresos_Hospitalarios_2011.csv\n          PROJECT */37 COLUMNS\n      PLAN 11:\n\n          CSV SCAN input\\utf-8\\Egresos_Hospitalarios_2012.csv\n          PROJECT */37 COLUMNS\n      PLAN 12:\n\n          CSV SCAN input\\utf-8\\Egresos_Hospitalarios_2013.csv\n          PROJECT */37 COLUMNS\n      PLAN 13:\n\n          CSV SCAN input\\utf-8\\Egresos_Hospitalarios_2014.csv\n          PROJECT */37 COLUMNS\n      PLAN 14:\n\n          CSV SCAN input\\utf-8\\Egresos_Hospitalarios_2015.csv\n          PROJECT */37 COLUMNS\n      PLAN 15:\n\n          CSV SCAN input\\utf-8\\Egresos_Hospitalarios_2016.csv\n          PROJECT */37 COLUMNS\n      PLAN 16:\n\n          CSV SCAN input\\utf-8\\Egresos_Hospitalarios_2017.csv\n          PROJECT */37 COLUMNS\n      PLAN 17:\n\n          CSV SCAN input\\utf-8\\Egresos_Hospitalarios_2018.csv\n          PROJECT */37 COLUMNS\n      PLAN 18:\n\n          CSV SCAN input\\utf-8\\Egresos_Hospitalarios_2019.csv\n          PROJECT */37 COLUMNS\n      PLAN 19:\n\n          CSV SCAN input\\utf-8\\Egresos_Hospitalarios_2020.csv\n          PROJECT */37 COLUMNS\n      END UNION",
     "output_type": "error",
     "traceback": [
      "\u001b[1;31m---------------------------------------------------------------------------\u001b[0m",
      "\u001b[1;31mColumnNotFoundError\u001b[0m                       Traceback (most recent call last)",
      "Cell \u001b[1;32mIn[25], line 2\u001b[0m\n\u001b[0;32m      1\u001b[0m \u001b[39mwith\u001b[39;00m pl\u001b[39m.\u001b[39mStringCache():\n\u001b[1;32m----> 2\u001b[0m     metricas_mensuales \u001b[39m=\u001b[39m aux\u001b[39m.\u001b[39;49mobtener_metricas_egresos(df, AGRUPACION_MENSUAL)\u001b[39m.\u001b[39;49mcollect(\n\u001b[0;32m      3\u001b[0m         streaming\u001b[39m=\u001b[39;49m\u001b[39mTrue\u001b[39;49;00m\n\u001b[0;32m      4\u001b[0m     )\n\u001b[0;32m      5\u001b[0m     metricas_mensuales_torax \u001b[39m=\u001b[39m metricas_mensuales\u001b[39m.\u001b[39mfilter(pl\u001b[39m.\u001b[39mcol(\u001b[39m\"\u001b[39m\u001b[39mESTABLECIMIENTO_SALUD\u001b[39m\u001b[39m\"\u001b[39m) \u001b[39m==\u001b[39m \u001b[39m112103\u001b[39m)\n\u001b[0;32m      6\u001b[0m     metricas_mensuales_torax \u001b[39m=\u001b[39m metricas_mensuales_torax\u001b[39m.\u001b[39mjoin(cie, how\u001b[39m=\u001b[39m\u001b[39m\"\u001b[39m\u001b[39mleft\u001b[39m\u001b[39m\"\u001b[39m, on\u001b[39m=\u001b[39m\u001b[39m\"\u001b[39m\u001b[39mDIAG1\u001b[39m\u001b[39m\"\u001b[39m)\n",
      "File \u001b[1;32mc:\\Users\\ppizarro\\AppData\\Local\\anaconda3\\lib\\site-packages\\polars\\lazyframe\\frame.py:1604\u001b[0m, in \u001b[0;36mLazyFrame.collect\u001b[1;34m(self, type_coercion, predicate_pushdown, projection_pushdown, simplify_expression, no_optimization, slice_pushdown, common_subplan_elimination, streaming)\u001b[0m\n\u001b[0;32m   1593\u001b[0m     common_subplan_elimination \u001b[39m=\u001b[39m \u001b[39mFalse\u001b[39;00m\n\u001b[0;32m   1595\u001b[0m ldf \u001b[39m=\u001b[39m \u001b[39mself\u001b[39m\u001b[39m.\u001b[39m_ldf\u001b[39m.\u001b[39moptimization_toggle(\n\u001b[0;32m   1596\u001b[0m     type_coercion,\n\u001b[0;32m   1597\u001b[0m     predicate_pushdown,\n\u001b[1;32m   (...)\u001b[0m\n\u001b[0;32m   1602\u001b[0m     streaming,\n\u001b[0;32m   1603\u001b[0m )\n\u001b[1;32m-> 1604\u001b[0m \u001b[39mreturn\u001b[39;00m wrap_df(ldf\u001b[39m.\u001b[39;49mcollect())\n",
      "\u001b[1;31mColumnNotFoundError\u001b[0m: MES_EGRESO\n\nError originated just after this operation:\n WITH_COLUMNS:\n [col(\"CONDICION_EGRESO\").map()]\n   WITH_COLUMNS:\n   [col(\"INTERV_Q\").map()]\n    FILTER col(\"DIAG1\").is_in([Series[DIAG1].alias(\"DIAG1\")]) FROM\n    RECHUNK\n      UNION:\n      PLAN 0:\n\n          CSV SCAN input\\utf-8\\Egresos_Hospitalarios_2001.csv\n          PROJECT */37 COLUMNS\n      PLAN 1:\n\n          CSV SCAN input\\utf-8\\Egresos_Hospitalarios_2002.csv\n          PROJECT */37 COLUMNS\n      PLAN 2:\n\n          CSV SCAN input\\utf-8\\Egresos_Hospitalarios_2003.csv\n          PROJECT */37 COLUMNS\n      PLAN 3:\n\n          CSV SCAN input\\utf-8\\Egresos_Hospitalarios_2004.csv\n          PROJECT */37 COLUMNS\n      PLAN 4:\n\n          CSV SCAN input\\utf-8\\Egresos_Hospitalarios_2005.csv\n          PROJECT */37 COLUMNS\n      PLAN 5:\n\n          CSV SCAN input\\utf-8\\Egresos_Hospitalarios_2006.csv\n          PROJECT */37 COLUMNS\n      PLAN 6:\n\n          CSV SCAN input\\utf-8\\Egresos_Hospitalarios_2007.csv\n          PROJECT */37 COLUMNS\n      PLAN 7:\n\n          CSV SCAN input\\utf-8\\Egresos_Hospitalarios_2008.csv\n          PROJECT */37 COLUMNS\n      PLAN 8:\n\n          CSV SCAN input\\utf-8\\Egresos_Hospitalarios_2009.csv\n          PROJECT */37 COLUMNS\n      PLAN 9:\n\n          CSV SCAN input\\utf-8\\Egresos_Hospitalarios_2010.csv\n          PROJECT */37 COLUMNS\n      PLAN 10:\n\n          CSV SCAN input\\utf-8\\Egresos_Hospitalarios_2011.csv\n          PROJECT */37 COLUMNS\n      PLAN 11:\n\n          CSV SCAN input\\utf-8\\Egresos_Hospitalarios_2012.csv\n          PROJECT */37 COLUMNS\n      PLAN 12:\n\n          CSV SCAN input\\utf-8\\Egresos_Hospitalarios_2013.csv\n          PROJECT */37 COLUMNS\n      PLAN 13:\n\n          CSV SCAN input\\utf-8\\Egresos_Hospitalarios_2014.csv\n          PROJECT */37 COLUMNS\n      PLAN 14:\n\n          CSV SCAN input\\utf-8\\Egresos_Hospitalarios_2015.csv\n          PROJECT */37 COLUMNS\n      PLAN 15:\n\n          CSV SCAN input\\utf-8\\Egresos_Hospitalarios_2016.csv\n          PROJECT */37 COLUMNS\n      PLAN 16:\n\n          CSV SCAN input\\utf-8\\Egresos_Hospitalarios_2017.csv\n          PROJECT */37 COLUMNS\n      PLAN 17:\n\n          CSV SCAN input\\utf-8\\Egresos_Hospitalarios_2018.csv\n          PROJECT */37 COLUMNS\n      PLAN 18:\n\n          CSV SCAN input\\utf-8\\Egresos_Hospitalarios_2019.csv\n          PROJECT */37 COLUMNS\n      PLAN 19:\n\n          CSV SCAN input\\utf-8\\Egresos_Hospitalarios_2020.csv\n          PROJECT */37 COLUMNS\n      END UNION"
     ]
    }
   ],
   "source": [
    "with pl.StringCache():\n",
    "    metricas_mensuales = aux.obtener_metricas_egresos(df, AGRUPACION_MENSUAL).collect(\n",
    "        streaming=True\n",
    "    )\n",
    "    metricas_mensuales_torax = metricas_mensuales.filter(pl.col(\"ESTABLECIMIENTO_SALUD\") == 112103)\n",
    "    metricas_mensuales_torax = metricas_mensuales_torax.join(cie, how=\"left\", on=\"DIAG1\")\n",
    "    metricas_mensuales_torax.to_pandas().to_csv(\n",
    "        \"output/cantidad_camas/resumen_torax_resolucion_mensual.csv\",\n",
    "        sep=\";\",\n",
    "        decimal=\".\",\n",
    "        encoding=\"latin-1\",\n",
    "        index=False,\n",
    "    )\n"
   ]
  }
 ],
 "metadata": {
  "kernelspec": {
   "display_name": "Python 3",
   "language": "python",
   "name": "python3"
  },
  "language_info": {
   "codemirror_mode": {
    "name": "ipython",
    "version": 3
   },
   "file_extension": ".py",
   "mimetype": "text/x-python",
   "name": "python",
   "nbconvert_exporter": "python",
   "pygments_lexer": "ipython3",
   "version": "3.10.9"
  },
  "orig_nbformat": 4
 },
 "nbformat": 4,
 "nbformat_minor": 2
}
