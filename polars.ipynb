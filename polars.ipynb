{
 "cells": [
  {
   "attachments": {},
   "cell_type": "markdown",
   "metadata": {},
   "source": [
    "# Analisis de Egresos Hospitalarios"
   ]
  },
  {
   "cell_type": "code",
   "execution_count": 1,
   "metadata": {},
   "outputs": [
    {
     "data": {
      "text/plain": [
       "<module 'calculo_metricas' from 'c:\\\\Users\\\\ppizarro\\\\Desktop\\\\Javier Rojas\\\\Javier\\\\trabajo\\\\SSMO\\\\EPH\\\\modulo_gestion\\\\1.analisis_problemas_de_salud\\\\egresos-hospitalarios\\\\calculo_metricas.py'>"
      ]
     },
     "execution_count": 1,
     "metadata": {},
     "output_type": "execute_result"
    }
   ],
   "source": [
    "import importlib\n",
    "\n",
    "import pandas as pd\n",
    "import numpy as np\n",
    "import polars as pl\n",
    "\n",
    "import matplotlib.pyplot as plt\n",
    "import seaborn as sns\n",
    "\n",
    "import lectura_archivos as fr\n",
    "import calculo_metricas as aux\n",
    "\n",
    "from functools import reduce\n",
    "\n",
    "sns.set_style()\n",
    "plt.rcParams[\"figure.figsize\"] = (12, 6)\n",
    "\n",
    "importlib.reload(fr)\n",
    "importlib.reload(aux)"
   ]
  },
  {
   "cell_type": "code",
   "execution_count": 2,
   "metadata": {},
   "outputs": [],
   "source": [
    "HOSPITAL_A_ANALIZAR = 112103  # Este es el Torax"
   ]
  },
  {
   "attachments": {},
   "cell_type": "markdown",
   "metadata": {},
   "source": [
    "## Lectura de archivos\n",
    "\n",
    "- Se leen todos los archivos que estan en input/utf-8. Los archivos estan separados por ;\n",
    "- Se dejan solamente los egresos de los diagnosticos que **SI** tenga el Tórax\n",
    "- Se cambia la codificacion de INTERV_Q de 2 (No, 1 es SI) a 0.\n",
    "- Se cambia la codificacion de CONDICION_EGRESO (orig 1 = Vivo, 2 = Fallecido) de 1 -> 0 y 2 -> 1\n",
    "- Se cambia la codificacion de GLOSA_REGION_RESIDENCIA {\n",
    "                        \"Del Libertador B. O'Higgins\": \"del Libertador General Bernardo O'Higgins\",\n",
    "                        \"De Aisén del Gral. C. Ibáñez del Campo\": \"Aysén del General Carlos Ibáñez del Campo\",\n",
    "                    }"
   ]
  },
  {
   "cell_type": "code",
   "execution_count": 3,
   "metadata": {},
   "outputs": [],
   "source": [
    "df = fr.leer_archivos(HOSPITAL_A_ANALIZAR)\n"
   ]
  },
  {
   "attachments": {},
   "cell_type": "markdown",
   "metadata": {},
   "source": [
    "# Analisis de Egresos Hospitalarios\n",
    "\n",
    "Se calculan las siguientes metricas:\n",
    "\n",
    "- Número de Egresos (n_egresos)\n",
    "- Días de Estada promedio (dias_estada_promedio)\n",
    "- Cantidad de Intervenciones Quirúrgicas (n_int_q)\n",
    "- Cantidad de Muertes (n_muertos)\n",
    "\n",
    "Todas estas metricas estan calculadas a nivel de Año, Establecimiento de Salud y Diagnóstico. Por\n",
    "ejemplo:\n",
    "\n",
    "***\"En el año 2019, el Hospital San José (código XXXXXXX) tuvo XX egresos, con XX dias estada_promedio,\n",
    "con XX intervenciones_quirúrgicas y XX muertos para el diagnóstico A24.4.\"***\n",
    "\n",
    "Este análisis se realizó entre 2001 y 2020 para todos los hospitales/clínicas de Chile."
   ]
  },
  {
   "cell_type": "code",
   "execution_count": 4,
   "metadata": {},
   "outputs": [],
   "source": [
    "AGRUPACION = [\n",
    "    \"ANO_EGRESO\",\n",
    "    \"ESTABLECIMIENTO_SALUD\",\n",
    "    \"GLOSA_ESTABLECIMIENTO_SALUD\",\n",
    "    \"DIAG1\",\n",
    "]\n",
    "\n",
    "metricas = aux.obtener_metricas_egresos(df, AGRUPACION).collect(streaming=True)"
   ]
  },
  {
   "attachments": {},
   "cell_type": "markdown",
   "metadata": {},
   "source": [
    "# Analisis de Estratos"
   ]
  },
  {
   "cell_type": "code",
   "execution_count": 15,
   "metadata": {},
   "outputs": [],
   "source": [
    "variables_a_rankear = [\"n_egresos\"]\n",
    "subgrupo_del_ranking = [\"ANO_EGRESO\", \"DIAG1\"]\n",
    "unir_tablas_por = AGRUPACION\n"
   ]
  },
  {
   "cell_type": "code",
   "execution_count": 6,
   "metadata": {},
   "outputs": [],
   "source": [
    "dict_estratos = aux.obtener_diccionario_estratos(df, HOSPITAL_A_ANALIZAR)\n"
   ]
  },
  {
   "cell_type": "code",
   "execution_count": 16,
   "metadata": {},
   "outputs": [],
   "source": [
    "dict_resultados_estratos = aux.obtener_resumen_por_estratos(\n",
    "    metricas, dict_estratos, variables_a_rankear, subgrupo_del_ranking\n",
    ")\n",
    "\n",
    "resultado = reduce(aux.left_join_consecutivo, dict_resultados_estratos.values())\n"
   ]
  },
  {
   "cell_type": "code",
   "execution_count": 25,
   "metadata": {},
   "outputs": [],
   "source": [
    "resultados_torax = resultado.filter(pl.col('ESTABLECIMIENTO_SALUD') == HOSPITAL_A_ANALIZAR)"
   ]
  },
  {
   "cell_type": "code",
   "execution_count": 28,
   "metadata": {},
   "outputs": [],
   "source": [
    "torax = resultados_torax.to_pandas()\n",
    "torax.to_csv('output/ranking_torax_pais/posiciones_torax_polars.csv', sep=';', decimal='.',\n",
    "             encoding='utf-8', index=False)"
   ]
  },
  {
   "attachments": {},
   "cell_type": "markdown",
   "metadata": {},
   "source": [
    "# Analisis Sociodemográfico"
   ]
  },
  {
   "cell_type": "code",
   "execution_count": 8,
   "metadata": {},
   "outputs": [],
   "source": [
    "desglose_sociodemografico = [\n",
    "    \"ANO_EGRESO\",\n",
    "    \"REGION_RESIDENCIA\",\n",
    "    \"GLOSA_REGION_RESIDENCIA\",\n",
    "    \"region_pais\",\n",
    "    \"COMUNA_RESIDENCIA\",\n",
    "    \"GLOSA_COMUNA_RESIDENCIA\",\n",
    "    \"comuna_region_pais\",\n",
    "    \"DIAG1\",\n",
    "]\n",
    "\n",
    "variables_a_analizar = [\n",
    "    \"DIAG1\",\n",
    "    \"SEXO\",\n",
    "    \"EDAD_CATEGORIA\",\n",
    "    \"PUEBLO_ORIGINARIO\",\n",
    "    \"GLOSA_PAIS_ORIGEN\",\n",
    "    \"PREVISION\",\n",
    "    \"BENEFICIARIO\",\n",
    "]\n"
   ]
  },
  {
   "cell_type": "code",
   "execution_count": 9,
   "metadata": {},
   "outputs": [],
   "source": [
    "MAPPING_SOCIODEMOGRAFICO = {\n",
    "    \"GLOSA_REGION_RESIDENCIA\": {\n",
    "        \"Del Libertador B. O'Higgins\": \"del Libertador General Bernardo O'Higgins\",\n",
    "        \"De Aisén del Gral. C. Ibáñez del Campo\": \"Aysén del General Carlos Ibáñez del Campo\",\n",
    "    },\n",
    "    \"SEXO\": {1: \"Hombre\", 2: \"Mujer\", 3: \"Intersex\", 99: \"Desconocido\"},\n",
    "    \"PUEBLO_ORIGINARIO\": {\n",
    "        1: \"MAPUCHE\",\n",
    "        2: \"AYMARA\",\n",
    "        3: \"RAPA NUI (PASCUENSE)\",\n",
    "        4: \"LICAN ANTAI\",\n",
    "        5: \"QUECHUA\",\n",
    "        6: \"COLLA\",\n",
    "        7: \"DIAGUITA\",\n",
    "        8: \"KAWÉSQAR\",\n",
    "        9: \"YAGÁN (YÁMANA)\",\n",
    "        10: \"OTRO (ESPECIFICAR)\",\n",
    "        96: \"NINGUNO\",\n",
    "    },\n",
    "    \"PREVISION\": {\n",
    "        1: \"FONASA\",\n",
    "        2: \"ISAPRE\",\n",
    "        3: \"CAPREDENA\",\n",
    "        4: \"DIPRECA\",\n",
    "        5: \"SISA\",\n",
    "        96: \"NINGUNA\",\n",
    "        99: \"DESCONOCIDO\",\n",
    "    },\n",
    "}\n",
    "\n",
    "\n",
    "def mappear_columnas(df, dict_mapeo):\n",
    "    tmp = df.clone()\n",
    "\n",
    "    for variable, dict_cambio in dict_mapeo.items():\n",
    "        tmp = tmp.with_columns(pl.col(variable).map_dict(dict_cambio, default=pl.col(variable)))\n",
    "\n",
    "    return tmp\n",
    "\n",
    "\n",
    "def agregar_columnas_localizacion(df):\n",
    "    tmp = df.with_columns(\n",
    "        ((\"Región \" + pl.col(\"GLOSA_REGION_RESIDENCIA\") + \", Chile\").alias(\"region_pais\"))\n",
    "    )\n",
    "\n",
    "    tmp = tmp.with_columns(\n",
    "        (pl.col(\"GLOSA_COMUNA_RESIDENCIA\") + \", \" + pl.col(\"region_pais\")).alias(\n",
    "            \"comuna_region_pais\"\n",
    "        )\n",
    "    )\n",
    "\n",
    "    return tmp\n",
    "\n",
    "\n",
    "def agregar_categorizacion_edad(df):\n",
    "    tmp = df.with_columns(\n",
    "        (df.get_column(\"EDAD_A_OS\"))\n",
    "        .cut(bins=range(0, 101, 10), maintain_order=True)\n",
    "        .select(pl.col(\"category\").alias(\"EDAD_CATEGORIA\"))\n",
    "    )\n",
    "\n",
    "    return tmp"
   ]
  },
  {
   "cell_type": "code",
   "execution_count": 10,
   "metadata": {},
   "outputs": [],
   "source": [
    "with pl.StringCache():\n",
    "    df_socio = pl.scan_csv(\"input/utf-8/*.csv\", separator=\";\", dtypes=fr.DICT_VARIABLES).filter(\n",
    "        pl.col(\"ESTABLECIMIENTO_SALUD\") == HOSPITAL_A_ANALIZAR\n",
    "    )\n",
    "\n",
    "    df_socio = mappear_columnas(df_socio, MAPPING_SOCIODEMOGRAFICO)\n",
    "    df_socio = agregar_columnas_localizacion(df_socio).collect()\n",
    "    df_socio = agregar_categorizacion_edad(df_socio)"
   ]
  },
  {
   "cell_type": "code",
   "execution_count": 11,
   "metadata": {},
   "outputs": [],
   "source": [
    "dict_resultados = {}\n",
    "\n",
    "for variable in variables_a_analizar:\n",
    "    agrupacion_total = desglose_sociodemografico.copy()\n",
    "    if variable != \"DIAG1\":\n",
    "        agrupacion_total += [variable]\n",
    "\n",
    "    resultado = (\n",
    "        df_socio.groupby(agrupacion_total)\n",
    "        .agg(pl.col(variable).count().alias(\"conteo\"))\n",
    "        .sort([\"ANO_EGRESO\", \"DIAG1\", \"conteo\"], descending=True)\n",
    "        .with_columns(\n",
    "            pl.concat_str(pl.col(desglose_sociodemografico), separator=\"-\").alias(\"llave_id\")\n",
    "        )\n",
    "    )\n",
    "\n",
    "    dict_resultados[variable] = resultado"
   ]
  },
  {
   "cell_type": "code",
   "execution_count": 12,
   "metadata": {},
   "outputs": [],
   "source": [
    "import xlsxwriter\n",
    "\n",
    "with xlsxwriter.Workbook(\"output/distribucion_sociodemografica/distribucion_polars.xlsx\") as f:\n",
    "    for var, df in dict_resultados.items():\n",
    "        df.write_excel(workbook=f, worksheet=var)"
   ]
  },
  {
   "cell_type": "code",
   "execution_count": null,
   "metadata": {},
   "outputs": [],
   "source": []
  }
 ],
 "metadata": {
  "kernelspec": {
   "display_name": "Python 3",
   "language": "python",
   "name": "python3"
  },
  "language_info": {
   "codemirror_mode": {
    "name": "ipython",
    "version": 3
   },
   "file_extension": ".py",
   "mimetype": "text/x-python",
   "name": "python",
   "nbconvert_exporter": "python",
   "pygments_lexer": "ipython3",
   "version": "3.10.9"
  },
  "orig_nbformat": 4
 },
 "nbformat": 4,
 "nbformat_minor": 2
}
