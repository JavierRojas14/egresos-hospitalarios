{
 "cells": [
  {
   "attachments": {},
   "cell_type": "markdown",
   "metadata": {},
   "source": [
    "# Analisis de Egresos Hospitalarios"
   ]
  },
  {
   "cell_type": "code",
   "execution_count": 76,
   "metadata": {},
   "outputs": [
    {
     "data": {
      "text/plain": [
       "<module 'calculo_metricas' from 'c:\\\\Users\\\\ppizarro\\\\Desktop\\\\Javier Rojas\\\\Javier\\\\trabajo\\\\SSMO\\\\EPH\\\\modulo_gestion\\\\1.analisis_problemas_de_salud\\\\egresos-hospitalarios\\\\calculo_metricas.py'>"
      ]
     },
     "execution_count": 76,
     "metadata": {},
     "output_type": "execute_result"
    }
   ],
   "source": [
    "import importlib\n",
    "\n",
    "import pandas as pd\n",
    "import numpy as np\n",
    "import polars as pl\n",
    "\n",
    "import matplotlib.pyplot as plt\n",
    "import seaborn as sns\n",
    "\n",
    "import lectura_archivos as fr\n",
    "import calculo_metricas as aux\n",
    "\n",
    "from functools import reduce\n",
    "\n",
    "sns.set_style()\n",
    "plt.rcParams[\"figure.figsize\"] = (12, 6)\n",
    "\n",
    "importlib.reload(fr)\n",
    "importlib.reload(aux)"
   ]
  },
  {
   "cell_type": "code",
   "execution_count": 77,
   "metadata": {},
   "outputs": [],
   "source": [
    "HOSPITAL_A_ANALIZAR = 112103  # Este es el Torax"
   ]
  },
  {
   "attachments": {},
   "cell_type": "markdown",
   "metadata": {},
   "source": [
    "## Lectura de archivos\n",
    "\n",
    "- Se leen todos los archivos que estan en input/utf-8. Los archivos estan separados por ;\n",
    "- Se dejan solamente los egresos de los diagnosticos que **SI** tenga el Tórax\n",
    "- Se cambia la codificacion de INTERV_Q de 2 (No, 1 es SI) a 0.\n",
    "- Se cambia la codificacion de CONDICION_EGRESO (orig 1 = Vivo, 2 = Fallecido) de 1 -> 0 y 2 -> 1\n",
    "- Se cambia la codificacion de GLOSA_REGION_RESIDENCIA {\n",
    "                        \"Del Libertador B. O'Higgins\": \"del Libertador General Bernardo O'Higgins\",\n",
    "                        \"De Aisén del Gral. C. Ibáñez del Campo\": \"Aysén del General Carlos Ibáñez del Campo\",\n",
    "                    }"
   ]
  },
  {
   "cell_type": "code",
   "execution_count": 78,
   "metadata": {},
   "outputs": [],
   "source": [
    "df = fr.leer_archivos(HOSPITAL_A_ANALIZAR)\n"
   ]
  },
  {
   "attachments": {},
   "cell_type": "markdown",
   "metadata": {},
   "source": [
    "# Analisis de Egresos Hospitalarios\n",
    "\n",
    "Se calculan las siguientes metricas:\n",
    "\n",
    "- Número de Egresos (n_egresos)\n",
    "- Días de Estada promedio (dias_estada_promedio)\n",
    "- Cantidad de Intervenciones Quirúrgicas (n_int_q)\n",
    "- Cantidad de Muertes (n_muertos)\n",
    "\n",
    "Todas estas metricas estan calculadas a nivel de Año, Establecimiento de Salud y Diagnóstico. Por\n",
    "ejemplo:\n",
    "\n",
    "***\"En el año 2019, el Hospital San José (código XXXXXXX) tuvo XX egresos, con XX dias estada_promedio,\n",
    "con XX intervenciones_quirúrgicas y XX muertos para el diagnóstico A24.4.\"***\n",
    "\n",
    "Este análisis se realizó entre 2001 y 2020 para todos los hospitales/clínicas de Chile."
   ]
  },
  {
   "cell_type": "code",
   "execution_count": 50,
   "metadata": {},
   "outputs": [],
   "source": [
    "AGRUPACION = [\n",
    "    \"ANO_EGRESO\",\n",
    "    \"ESTABLECIMIENTO_SALUD\",\n",
    "    \"GLOSA_ESTABLECIMIENTO_SALUD\",\n",
    "    \"DIAG1\",\n",
    "]\n",
    "\n",
    "metricas = aux.obtener_metricas_egresos(df, AGRUPACION).collect(streaming=True)"
   ]
  },
  {
   "attachments": {},
   "cell_type": "markdown",
   "metadata": {},
   "source": [
    "# Analisis de Estratos"
   ]
  },
  {
   "cell_type": "code",
   "execution_count": 71,
   "metadata": {},
   "outputs": [],
   "source": [
    "variables_a_rankear = [\"n_egresos\"]\n",
    "subgrupo_del_ranking = [\"ANO_EGRESO\", \"DIAG1\"]\n",
    "unir_tablas_por = AGRUPACION\n"
   ]
  },
  {
   "cell_type": "code",
   "execution_count": 69,
   "metadata": {},
   "outputs": [],
   "source": [
    "dict_estratos = aux.obtener_diccionario_estratos(df, HOSPITAL_A_ANALIZAR)\n"
   ]
  },
  {
   "cell_type": "code",
   "execution_count": 72,
   "metadata": {},
   "outputs": [],
   "source": [
    "dict_resultados_estratos = aux.obtener_resumen_por_estratos(\n",
    "    metricas, dict_estratos, variables_a_rankear, subgrupo_del_ranking\n",
    ")\n",
    "\n",
    "resultado = reduce(aux.left_join_consecutivo, dict_resultados_estratos.values())\n"
   ]
  },
  {
   "attachments": {},
   "cell_type": "markdown",
   "metadata": {},
   "source": [
    "# Analisis Sociodemográfico"
   ]
  },
  {
   "cell_type": "code",
   "execution_count": 75,
   "metadata": {},
   "outputs": [
    {
     "data": {
      "text/html": [
       "<i>naive plan: (run <b>LazyFrame.explain(optimized=True)</b> to see the optimized plan)</i>\n",
       "    <p></p>\n",
       "    <div> WITH_COLUMNS:<p></p> [col(\"INTERV_Q\").map().alias(\"INTERV_Q\"), col(\"CONDICION_EGRESO\").map().alias(\"CONDICION_EGRESO\")]<p></p>  FILTER col(\"DIAG1\").is_in([Series[DIAG1].alias(\"DIAG1\")]) FROM<p></p>  RECHUNK<p></p>    UNION:<p></p>    PLAN 0:<p></p><p></p>        CSV SCAN input\\utf-8\\Egresos_Hospitalarios_2001.csv<p></p>        PROJECT */37 COLUMNS<p></p>    PLAN 1:<p></p><p></p>        CSV SCAN input\\utf-8\\Egresos_Hospitalarios_2002.csv<p></p>        PROJECT */37 COLUMNS<p></p>    PLAN 2:<p></p><p></p>        CSV SCAN input\\utf-8\\Egresos_Hospitalarios_2003.csv<p></p>        PROJECT */37 COLUMNS<p></p>    PLAN 3:<p></p><p></p>        CSV SCAN input\\utf-8\\Egresos_Hospitalarios_2004.csv<p></p>        PROJECT */37 COLUMNS<p></p>    PLAN 4:<p></p><p></p>        CSV SCAN input\\utf-8\\Egresos_Hospitalarios_2005.csv<p></p>        PROJECT */37 COLUMNS<p></p>    PLAN 5:<p></p><p></p>        CSV SCAN input\\utf-8\\Egresos_Hospitalarios_2006.csv<p></p>        PROJECT */37 COLUMNS<p></p>    PLAN 6:<p></p><p></p>        CSV SCAN input\\utf-8\\Egresos_Hospitalarios_2007.csv<p></p>        PROJECT */37 COLUMNS<p></p>    PLAN 7:<p></p><p></p>        CSV SCAN input\\utf-8\\Egresos_Hospitalarios_2008.csv<p></p>        PROJECT */37 COLUMNS<p></p>    PLAN 8:<p></p><p></p>        CSV SCAN input\\utf-8\\Egresos_Hospitalarios_2009.csv<p></p>        PROJECT */37 COLUMNS<p></p>    PLAN 9:<p></p><p></p>        CSV SCAN input\\utf-8\\Egresos_Hospitalarios_2010.csv<p></p>        PROJECT */37 COLUMNS<p></p>    PLAN 10:<p></p><p></p>        CSV SCAN input\\utf-8\\Egresos_Hospitalarios_2011.csv<p></p>        PROJECT */37 COLUMNS<p></p>    PLAN 11:<p></p><p></p>        CSV SCAN input\\utf-8\\Egresos_Hospitalarios_2012.csv<p></p>        PROJECT */37 COLUMNS<p></p>    PLAN 12:<p></p><p></p>        CSV SCAN input\\utf-8\\Egresos_Hospitalarios_2013.csv<p></p>        PROJECT */37 COLUMNS<p></p>    PLAN 13:<p></p><p></p>        CSV SCAN input\\utf-8\\Egresos_Hospitalarios_2014.csv<p></p>        PROJECT */37 COLUMNS<p></p>    PLAN 14:<p></p><p></p>        CSV SCAN input\\utf-8\\Egresos_Hospitalarios_2015.csv<p></p>        PROJECT */37 COLUMNS<p></p>    PLAN 15:<p></p><p></p>        CSV SCAN input\\utf-8\\Egresos_Hospitalarios_2016.csv<p></p>        PROJECT */37 COLUMNS<p></p>    PLAN 16:<p></p><p></p>        CSV SCAN input\\utf-8\\Egresos_Hospitalarios_2017.csv<p></p>        PROJECT */37 COLUMNS<p></p>    PLAN 17:<p></p><p></p>        CSV SCAN input\\utf-8\\Egresos_Hospitalarios_2018.csv<p></p>        PROJECT */37 COLUMNS<p></p>    PLAN 18:<p></p><p></p>        CSV SCAN input\\utf-8\\Egresos_Hospitalarios_2019.csv<p></p>        PROJECT */37 COLUMNS<p></p>    PLAN 19:<p></p><p></p>        CSV SCAN input\\utf-8\\Egresos_Hospitalarios_2020.csv<p></p>        PROJECT */37 COLUMNS<p></p>    END UNION</div>"
      ],
      "text/plain": [
       "<polars.LazyFrame object at 0x2408895FD60>"
      ]
     },
     "execution_count": 75,
     "metadata": {},
     "output_type": "execute_result"
    }
   ],
   "source": [
    "df.filter(\n",
    "    \n",
    ")"
   ]
  },
  {
   "cell_type": "code",
   "execution_count": null,
   "metadata": {},
   "outputs": [],
   "source": []
  }
 ],
 "metadata": {
  "kernelspec": {
   "display_name": "Python 3",
   "language": "python",
   "name": "python3"
  },
  "language_info": {
   "codemirror_mode": {
    "name": "ipython",
    "version": 3
   },
   "file_extension": ".py",
   "mimetype": "text/x-python",
   "name": "python",
   "nbconvert_exporter": "python",
   "pygments_lexer": "ipython3",
   "version": "3.10.9"
  },
  "orig_nbformat": 4
 },
 "nbformat": 4,
 "nbformat_minor": 2
}
