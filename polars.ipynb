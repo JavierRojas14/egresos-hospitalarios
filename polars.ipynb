{
 "cells": [
  {
   "attachments": {},
   "cell_type": "markdown",
   "metadata": {},
   "source": [
    "# Analisis de Egresos Hospitalarios"
   ]
  },
  {
   "cell_type": "code",
   "execution_count": 1,
   "metadata": {},
   "outputs": [
    {
     "data": {
      "text/plain": [
       "<module 'calculo_metricas' from 'c:\\\\Users\\\\ppizarro\\\\Desktop\\\\Javier Rojas\\\\Javier\\\\trabajo\\\\SSMO\\\\EPH\\\\modulo_gestion\\\\1.analisis_problemas_de_salud\\\\egresos-hospitalarios\\\\calculo_metricas.py'>"
      ]
     },
     "execution_count": 1,
     "metadata": {},
     "output_type": "execute_result"
    }
   ],
   "source": [
    "import importlib\n",
    "\n",
    "import pandas as pd\n",
    "import numpy as np\n",
    "import polars as pl\n",
    "\n",
    "import matplotlib.pyplot as plt\n",
    "import seaborn as sns\n",
    "\n",
    "import lectura_archivos as fr\n",
    "import calculo_metricas as aux\n",
    "\n",
    "from functools import reduce\n",
    "\n",
    "sns.set_style()\n",
    "plt.rcParams[\"figure.figsize\"] = (12, 6)\n",
    "\n",
    "importlib.reload(fr)\n",
    "importlib.reload(aux)"
   ]
  },
  {
   "cell_type": "code",
   "execution_count": 2,
   "metadata": {},
   "outputs": [],
   "source": [
    "HOSPITAL_A_ANALIZAR = 112103  # Este es el Torax"
   ]
  },
  {
   "attachments": {},
   "cell_type": "markdown",
   "metadata": {},
   "source": [
    "## Lectura de archivos\n",
    "\n",
    "- Se leen todos los archivos que estan en input/utf-8. Los archivos estan separados por ;\n",
    "- Se dejan solamente los egresos de los diagnosticos que **SI** tenga el Tórax\n",
    "- Se cambia la codificacion de INTERV_Q de 2 (No, 1 es SI) a 0.\n",
    "- Se cambia la codificacion de CONDICION_EGRESO (orig 1 = Vivo, 2 = Fallecido) de 1 -> 0 y 2 -> 1\n",
    "- Se cambia la codificacion de GLOSA_REGION_RESIDENCIA {\n",
    "                        \"Del Libertador B. O'Higgins\": \"del Libertador General Bernardo O'Higgins\",\n",
    "                        \"De Aisén del Gral. C. Ibáñez del Campo\": \"Aysén del General Carlos Ibáñez del Campo\",\n",
    "                    }"
   ]
  },
  {
   "cell_type": "code",
   "execution_count": 3,
   "metadata": {},
   "outputs": [],
   "source": [
    "df = fr.leer_archivos(HOSPITAL_A_ANALIZAR)\n"
   ]
  },
  {
   "attachments": {},
   "cell_type": "markdown",
   "metadata": {},
   "source": [
    "# Analisis de Egresos Hospitalarios\n",
    "\n",
    "Se calculan las siguientes metricas:\n",
    "\n",
    "- Número de Egresos (n_egresos)\n",
    "- Días de Estada promedio (dias_estada_promedio)\n",
    "- Cantidad de Intervenciones Quirúrgicas (n_int_q)\n",
    "- Cantidad de Muertes (n_muertos)\n",
    "\n",
    "Todas estas metricas estan calculadas a nivel de Año, Establecimiento de Salud y Diagnóstico. Por\n",
    "ejemplo:\n",
    "\n",
    "***\"En el año 2019, el Hospital San José (código XXXXXXX) tuvo XX egresos, con XX dias estada_promedio,\n",
    "con XX intervenciones_quirúrgicas y XX muertos para el diagnóstico A24.4.\"***\n",
    "\n",
    "Este análisis se realizó entre 2001 y 2020 para todos los hospitales/clínicas de Chile."
   ]
  },
  {
   "cell_type": "code",
   "execution_count": 4,
   "metadata": {},
   "outputs": [],
   "source": [
    "AGRUPACION = [\n",
    "    \"ANO_EGRESO\",\n",
    "    \"ESTABLECIMIENTO_SALUD\",\n",
    "    \"GLOSA_ESTABLECIMIENTO_SALUD\",\n",
    "    \"DIAG1\",\n",
    "]\n",
    "\n",
    "metricas = aux.obtener_metricas_egresos(df, AGRUPACION).collect(streaming=True)"
   ]
  },
  {
   "attachments": {},
   "cell_type": "markdown",
   "metadata": {},
   "source": [
    "# Analisis de Estratos"
   ]
  },
  {
   "cell_type": "code",
   "execution_count": 5,
   "metadata": {},
   "outputs": [],
   "source": [
    "variables_a_rankear = [\"n_egresos\"]\n",
    "subgrupo_del_ranking = [\"ANO_EGRESO\", \"DIAG1\"]\n",
    "unir_tablas_por = AGRUPACION\n"
   ]
  },
  {
   "cell_type": "code",
   "execution_count": 6,
   "metadata": {},
   "outputs": [],
   "source": [
    "dict_estratos = aux.obtener_diccionario_estratos(df, HOSPITAL_A_ANALIZAR)\n"
   ]
  },
  {
   "cell_type": "code",
   "execution_count": 7,
   "metadata": {},
   "outputs": [],
   "source": [
    "dict_resultados_estratos = aux.obtener_resumen_por_estratos(\n",
    "    metricas, dict_estratos, variables_a_rankear, subgrupo_del_ranking\n",
    ")\n",
    "\n",
    "resultado = reduce(aux.left_join_consecutivo, dict_resultados_estratos.values())\n"
   ]
  },
  {
   "attachments": {},
   "cell_type": "markdown",
   "metadata": {},
   "source": [
    "# Analisis Sociodemográfico"
   ]
  },
  {
   "cell_type": "code",
   "execution_count": 16,
   "metadata": {},
   "outputs": [],
   "source": [
    "desglose_sociodemografico = [\n",
    "    \"ANO_EGRESO\",\n",
    "    \"REGION_RESIDENCIA\",\n",
    "    \"GLOSA_REGION_RESIDENCIA\",\n",
    "    \"COMUNA_RESIDENCIA\",\n",
    "    \"GLOSA_COMUNA_RESIDENCIA\",\n",
    "    \"DIAG1\",\n",
    "]\n",
    "\n",
    "schema_optimo = {\n",
    "    \"ANO_EGRESO\": pl.Int32,\n",
    "    \"REGION_RESIDENCIA\": pl.Categorical,\n",
    "    \"GLOSA_REGION_RESIDENCIA\": pl.Categorical,\n",
    "    \"COMUNA_RESIDENCIA\": pl.Categorical,\n",
    "    \"GLOSA_COMUNA_RESIDENCIA\": pl.Categorical,\n",
    "    \"DIAG1\": pl.Utf8,\n",
    "}\n",
    "\n",
    "df_socio = (\n",
    "    pl.scan_csv(\"input/utf-8/*.csv\", separator=\";\", dtypes=schema_optimo)\n",
    "    .filter(pl.col(\"ESTABLECIMIENTO_SALUD\") == 112103)\n",
    "    .groupby(desglose_sociodemografico)\n",
    "    .agg(pl.col(\"DIAG1\").count().alias(\"conteo\"))\n",
    "    .with_columns(\n",
    "        ((\"Región \" + pl.col(\"GLOSA_REGION_RESIDENCIA\") + \", Chile\").alias(\"region_pais\"))\n",
    "    )\n",
    "    .with_columns(\n",
    "        (pl.col(\"GLOSA_COMUNA_RESIDENCIA\") + \", \" + pl.col(\"region_pais\")).alias(\n",
    "            \"comuna_region_pais\"\n",
    "        )\n",
    "    )\n",
    "    .sort([\"ANO_EGRESO\", \"DIAG1\", \"conteo\"], descending=True)\n",
    ")"
   ]
  },
  {
   "cell_type": "code",
   "execution_count": 17,
   "metadata": {},
   "outputs": [],
   "source": [
    "variables_a_analizar = [\n",
    "    \"SEXO\",\n",
    "    \"EDAD_CATEGORIA\",\n",
    "    \"PUEBLO_ORIGINARIO\",\n",
    "    \"GLOSA_PAIS_ORIGEN\",\n",
    "    \"PREVISION\",\n",
    "    \"BENEFICIARIO\",\n",
    "]"
   ]
  },
  {
   "cell_type": "code",
   "execution_count": 18,
   "metadata": {},
   "outputs": [],
   "source": [
    "with pl.StringCache():\n",
    "    resultado_sociodemo = df_socio.collect(streaming=True)\n"
   ]
  },
  {
   "cell_type": "code",
   "execution_count": 19,
   "metadata": {},
   "outputs": [
    {
     "data": {
      "text/html": [
       "<div><style>\n",
       ".dataframe > thead > tr > th,\n",
       ".dataframe > tbody > tr > td {\n",
       "  text-align: right;\n",
       "}\n",
       "</style>\n",
       "<small>shape: (39590, 9)</small><table border=\"1\" class=\"dataframe\"><thead><tr><th>ANO_EGRESO</th><th>REGION_RESIDENCIA</th><th>GLOSA_REGION_RESIDENCIA</th><th>COMUNA_RESIDENCIA</th><th>GLOSA_COMUNA_RESIDENCIA</th><th>DIAG1</th><th>conteo</th><th>region_pais</th><th>comuna_region_pais</th></tr><tr><td>i32</td><td>cat</td><td>cat</td><td>cat</td><td>cat</td><td>str</td><td>u32</td><td>str</td><td>str</td></tr></thead><tbody><tr><td>2020</td><td>&quot;13&quot;</td><td>&quot;Metropolitana …</td><td>&quot;13114&quot;</td><td>&quot;Las Condes&quot;</td><td>&quot;Z548&quot;</td><td>1</td><td>&quot;Región Metropo…</td><td>&quot;Las Condes, Re…</td></tr><tr><td>2020</td><td>&quot;16&quot;</td><td>&quot;De Ñuble&quot;</td><td>&quot;16101&quot;</td><td>&quot;Chillán&quot;</td><td>&quot;Z540&quot;</td><td>1</td><td>&quot;Región De Ñubl…</td><td>&quot;Chillán, Regió…</td></tr><tr><td>2020</td><td>&quot;13&quot;</td><td>&quot;Metropolitana …</td><td>&quot;13122&quot;</td><td>&quot;Peñalolén&quot;</td><td>&quot;Z540&quot;</td><td>1</td><td>&quot;Región Metropo…</td><td>&quot;Peñalolén, Reg…</td></tr><tr><td>2020</td><td>&quot;05&quot;</td><td>&quot;De Valparaíso&quot;</td><td>&quot;5105&quot;</td><td>&quot;Puchuncaví&quot;</td><td>&quot;Z540&quot;</td><td>1</td><td>&quot;Región De Valp…</td><td>&quot;Puchuncaví, Re…</td></tr><tr><td>2020</td><td>&quot;13&quot;</td><td>&quot;Metropolitana …</td><td>&quot;13126&quot;</td><td>&quot;Quinta Normal&quot;</td><td>&quot;Z540&quot;</td><td>1</td><td>&quot;Región Metropo…</td><td>&quot;Quinta Normal,…</td></tr><tr><td>2020</td><td>&quot;13&quot;</td><td>&quot;Metropolitana …</td><td>&quot;13401&quot;</td><td>&quot;San Bernardo&quot;</td><td>&quot;Z540&quot;</td><td>1</td><td>&quot;Región Metropo…</td><td>&quot;San Bernardo, …</td></tr><tr><td>2020</td><td>&quot;13&quot;</td><td>&quot;Metropolitana …</td><td>&quot;13114&quot;</td><td>&quot;Las Condes&quot;</td><td>&quot;Z530&quot;</td><td>1</td><td>&quot;Región Metropo…</td><td>&quot;Las Condes, Re…</td></tr><tr><td>2020</td><td>&quot;05&quot;</td><td>&quot;De Valparaíso&quot;</td><td>&quot;5101&quot;</td><td>&quot;Valparaíso&quot;</td><td>&quot;Z518&quot;</td><td>3</td><td>&quot;Región De Valp…</td><td>&quot;Valparaíso, Re…</td></tr><tr><td>2020</td><td>&quot;13&quot;</td><td>&quot;Metropolitana …</td><td>&quot;13120&quot;</td><td>&quot;Ñuñoa&quot;</td><td>&quot;Z518&quot;</td><td>3</td><td>&quot;Región Metropo…</td><td>&quot;Ñuñoa, Región …</td></tr><tr><td>2020</td><td>&quot;13&quot;</td><td>&quot;Metropolitana …</td><td>&quot;13115&quot;</td><td>&quot;Lo Barnechea&quot;</td><td>&quot;Z518&quot;</td><td>2</td><td>&quot;Región Metropo…</td><td>&quot;Lo Barnechea, …</td></tr><tr><td>2020</td><td>&quot;13&quot;</td><td>&quot;Metropolitana …</td><td>&quot;13106&quot;</td><td>&quot;Estación Centr…</td><td>&quot;Z518&quot;</td><td>1</td><td>&quot;Región Metropo…</td><td>&quot;Estación Centr…</td></tr><tr><td>2020</td><td>&quot;11&quot;</td><td>&quot;De Aisén del G…</td><td>&quot;11101&quot;</td><td>&quot;Coihaique&quot;</td><td>&quot;Z518&quot;</td><td>1</td><td>&quot;Región De Aisé…</td><td>&quot;Coihaique, Reg…</td></tr><tr><td>&hellip;</td><td>&hellip;</td><td>&hellip;</td><td>&hellip;</td><td>&hellip;</td><td>&hellip;</td><td>&hellip;</td><td>&hellip;</td><td>&hellip;</td></tr><tr><td>2001</td><td>&quot;13&quot;</td><td>&quot;Metropolitana …</td><td>&quot;13105&quot;</td><td>&quot;El Bosque&quot;</td><td>&quot;A162&quot;</td><td>1</td><td>&quot;Región Metropo…</td><td>&quot;El Bosque, Reg…</td></tr><tr><td>2001</td><td>&quot;13&quot;</td><td>&quot;Metropolitana …</td><td>&quot;13605&quot;</td><td>&quot;Peñaflor&quot;</td><td>&quot;A162&quot;</td><td>1</td><td>&quot;Región Metropo…</td><td>&quot;Peñaflor, Regi…</td></tr><tr><td>2001</td><td>&quot;13&quot;</td><td>&quot;Metropolitana …</td><td>&quot;13132&quot;</td><td>&quot;Vitacura&quot;</td><td>&quot;A162&quot;</td><td>1</td><td>&quot;Región Metropo…</td><td>&quot;Vitacura, Regi…</td></tr><tr><td>2001</td><td>&quot;13&quot;</td><td>&quot;Metropolitana …</td><td>&quot;13109&quot;</td><td>&quot;La Cisterna&quot;</td><td>&quot;A162&quot;</td><td>1</td><td>&quot;Región Metropo…</td><td>&quot;La Cisterna, R…</td></tr><tr><td>2001</td><td>&quot;13&quot;</td><td>&quot;Metropolitana …</td><td>&quot;13125&quot;</td><td>&quot;Quilicura&quot;</td><td>&quot;A162&quot;</td><td>1</td><td>&quot;Región Metropo…</td><td>&quot;Quilicura, Reg…</td></tr><tr><td>2001</td><td>&quot;13&quot;</td><td>&quot;Metropolitana …</td><td>&quot;13201&quot;</td><td>&quot;Puente Alto&quot;</td><td>&quot;A162&quot;</td><td>1</td><td>&quot;Región Metropo…</td><td>&quot;Puente Alto, R…</td></tr><tr><td>2001</td><td>&quot;13&quot;</td><td>&quot;Metropolitana …</td><td>&quot;13117&quot;</td><td>&quot;Lo Prado&quot;</td><td>&quot;A162&quot;</td><td>1</td><td>&quot;Región Metropo…</td><td>&quot;Lo Prado, Regi…</td></tr><tr><td>2001</td><td>&quot;06&quot;</td><td>&quot;Del Libertador…</td><td>&quot;6117&quot;</td><td>&quot;San Vicente&quot;</td><td>&quot;A162&quot;</td><td>1</td><td>&quot;Región Del Lib…</td><td>&quot;San Vicente, R…</td></tr><tr><td>2001</td><td>&quot;13&quot;</td><td>&quot;Metropolitana …</td><td>&quot;13112&quot;</td><td>&quot;La Pintana&quot;</td><td>&quot;A162&quot;</td><td>1</td><td>&quot;Región Metropo…</td><td>&quot;La Pintana, Re…</td></tr><tr><td>2001</td><td>&quot;06&quot;</td><td>&quot;Del Libertador…</td><td>&quot;6108&quot;</td><td>&quot;Machalí&quot;</td><td>&quot;A162&quot;</td><td>1</td><td>&quot;Región Del Lib…</td><td>&quot;Machalí, Regió…</td></tr><tr><td>2001</td><td>&quot;13&quot;</td><td>&quot;Metropolitana …</td><td>&quot;13120&quot;</td><td>&quot;Ñuñoa&quot;</td><td>&quot;A159&quot;</td><td>1</td><td>&quot;Región Metropo…</td><td>&quot;Ñuñoa, Región …</td></tr><tr><td>2001</td><td>&quot;16&quot;</td><td>&quot;De Ñuble&quot;</td><td>&quot;16301&quot;</td><td>&quot;San Carlos&quot;</td><td>&quot;A060&quot;</td><td>1</td><td>&quot;Región De Ñubl…</td><td>&quot;San Carlos, Re…</td></tr></tbody></table></div>"
      ],
      "text/plain": [
       "shape: (39_590, 9)\n",
       "┌────────────┬────────────┬────────────┬────────────┬───┬───────┬────────┬───────────┬────────────┐\n",
       "│ ANO_EGRESO ┆ REGION_RES ┆ GLOSA_REGI ┆ COMUNA_RES ┆ … ┆ DIAG1 ┆ conteo ┆ region_pa ┆ comuna_reg │\n",
       "│ ---        ┆ IDENCIA    ┆ ON_RESIDEN ┆ IDENCIA    ┆   ┆ ---   ┆ ---    ┆ is        ┆ ion_pais   │\n",
       "│ i32        ┆ ---        ┆ CIA        ┆ ---        ┆   ┆ str   ┆ u32    ┆ ---       ┆ ---        │\n",
       "│            ┆ cat        ┆ ---        ┆ cat        ┆   ┆       ┆        ┆ str       ┆ str        │\n",
       "│            ┆            ┆ cat        ┆            ┆   ┆       ┆        ┆           ┆            │\n",
       "╞════════════╪════════════╪════════════╪════════════╪═══╪═══════╪════════╪═══════════╪════════════╡\n",
       "│ 2020       ┆ 13         ┆ Metropolit ┆ 13114      ┆ … ┆ Z548  ┆ 1      ┆ Región    ┆ Las        │\n",
       "│            ┆            ┆ ana de     ┆            ┆   ┆       ┆        ┆ Metropoli ┆ Condes,    │\n",
       "│            ┆            ┆ Santiago   ┆            ┆   ┆       ┆        ┆ tana de   ┆ Región Met │\n",
       "│            ┆            ┆            ┆            ┆   ┆       ┆        ┆ Santiago… ┆ ropolitana │\n",
       "│            ┆            ┆            ┆            ┆   ┆       ┆        ┆           ┆ …          │\n",
       "│ 2020       ┆ 16         ┆ De Ñuble   ┆ 16101      ┆ … ┆ Z540  ┆ 1      ┆ Región De ┆ Chillán,   │\n",
       "│            ┆            ┆            ┆            ┆   ┆       ┆        ┆ Ñuble,    ┆ Región De  │\n",
       "│            ┆            ┆            ┆            ┆   ┆       ┆        ┆ Chile     ┆ Ñuble,     │\n",
       "│            ┆            ┆            ┆            ┆   ┆       ┆        ┆           ┆ Chile      │\n",
       "│ 2020       ┆ 13         ┆ Metropolit ┆ 13122      ┆ … ┆ Z540  ┆ 1      ┆ Región    ┆ Peñalolén, │\n",
       "│            ┆            ┆ ana de     ┆            ┆   ┆       ┆        ┆ Metropoli ┆ Región Met │\n",
       "│            ┆            ┆ Santiago   ┆            ┆   ┆       ┆        ┆ tana de   ┆ ropolitana │\n",
       "│            ┆            ┆            ┆            ┆   ┆       ┆        ┆ Santiago… ┆ …          │\n",
       "│ 2020       ┆ 05         ┆ De         ┆ 5105       ┆ … ┆ Z540  ┆ 1      ┆ Región De ┆ Puchuncaví │\n",
       "│            ┆            ┆ Valparaíso ┆            ┆   ┆       ┆        ┆ Valparaís ┆ , Región   │\n",
       "│            ┆            ┆            ┆            ┆   ┆       ┆        ┆ o, Chile  ┆ De Valpara │\n",
       "│            ┆            ┆            ┆            ┆   ┆       ┆        ┆           ┆ íso…       │\n",
       "│ …          ┆ …          ┆ …          ┆ …          ┆ … ┆ …     ┆ …      ┆ …         ┆ …          │\n",
       "│ 2001       ┆ 13         ┆ Metropolit ┆ 13112      ┆ … ┆ A162  ┆ 1      ┆ Región    ┆ La         │\n",
       "│            ┆            ┆ ana de     ┆            ┆   ┆       ┆        ┆ Metropoli ┆ Pintana,   │\n",
       "│            ┆            ┆ Santiago   ┆            ┆   ┆       ┆        ┆ tana de   ┆ Región Met │\n",
       "│            ┆            ┆            ┆            ┆   ┆       ┆        ┆ Santiago… ┆ ropolitana │\n",
       "│            ┆            ┆            ┆            ┆   ┆       ┆        ┆           ┆ …          │\n",
       "│ 2001       ┆ 06         ┆ Del        ┆ 6108       ┆ … ┆ A162  ┆ 1      ┆ Región    ┆ Machalí,   │\n",
       "│            ┆            ┆ Libertador ┆            ┆   ┆       ┆        ┆ Del Liber ┆ Región Del │\n",
       "│            ┆            ┆ B.         ┆            ┆   ┆       ┆        ┆ tador B.  ┆ Libertador │\n",
       "│            ┆            ┆ O'Higgins  ┆            ┆   ┆       ┆        ┆ O'Higgi…  ┆ B…         │\n",
       "│ 2001       ┆ 13         ┆ Metropolit ┆ 13120      ┆ … ┆ A159  ┆ 1      ┆ Región    ┆ Ñuñoa,     │\n",
       "│            ┆            ┆ ana de     ┆            ┆   ┆       ┆        ┆ Metropoli ┆ Región Met │\n",
       "│            ┆            ┆ Santiago   ┆            ┆   ┆       ┆        ┆ tana de   ┆ ropolitana │\n",
       "│            ┆            ┆            ┆            ┆   ┆       ┆        ┆ Santiago… ┆ de S…      │\n",
       "│ 2001       ┆ 16         ┆ De Ñuble   ┆ 16301      ┆ … ┆ A060  ┆ 1      ┆ Región De ┆ San        │\n",
       "│            ┆            ┆            ┆            ┆   ┆       ┆        ┆ Ñuble,    ┆ Carlos,    │\n",
       "│            ┆            ┆            ┆            ┆   ┆       ┆        ┆ Chile     ┆ Región De  │\n",
       "│            ┆            ┆            ┆            ┆   ┆       ┆        ┆           ┆ Ñuble,     │\n",
       "│            ┆            ┆            ┆            ┆   ┆       ┆        ┆           ┆ Chi…       │\n",
       "└────────────┴────────────┴────────────┴────────────┴───┴───────┴────────┴───────────┴────────────┘"
      ]
     },
     "execution_count": 19,
     "metadata": {},
     "output_type": "execute_result"
    }
   ],
   "source": [
    "resultado_sociodemo\n"
   ]
  },
  {
   "cell_type": "code",
   "execution_count": null,
   "metadata": {},
   "outputs": [],
   "source": []
  }
 ],
 "metadata": {
  "kernelspec": {
   "display_name": "Python 3",
   "language": "python",
   "name": "python3"
  },
  "language_info": {
   "codemirror_mode": {
    "name": "ipython",
    "version": 3
   },
   "file_extension": ".py",
   "mimetype": "text/x-python",
   "name": "python",
   "nbconvert_exporter": "python",
   "pygments_lexer": "ipython3",
   "version": "3.10.9"
  },
  "orig_nbformat": 4
 },
 "nbformat": 4,
 "nbformat_minor": 2
}
