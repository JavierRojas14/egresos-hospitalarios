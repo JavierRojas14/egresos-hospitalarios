{
 "cells": [
  {
   "attachments": {},
   "cell_type": "markdown",
   "metadata": {},
   "source": [
    "# Analisis de Egresos Hospitalarios"
   ]
  },
  {
   "cell_type": "code",
   "execution_count": 1,
   "metadata": {},
   "outputs": [
    {
     "data": {
      "text/plain": [
       "<module 'calculo_metricas' from 'c:\\\\Users\\\\ppizarro\\\\Desktop\\\\Javier Rojas\\\\Javier\\\\trabajo\\\\SSMO\\\\EPH\\\\modulo_gestion\\\\1.analisis_problemas_de_salud\\\\egresos-hospitalarios\\\\calculo_metricas.py'>"
      ]
     },
     "execution_count": 1,
     "metadata": {},
     "output_type": "execute_result"
    }
   ],
   "source": [
    "import importlib\n",
    "\n",
    "import pandas as pd\n",
    "import numpy as np\n",
    "import polars as pl\n",
    "\n",
    "import matplotlib.pyplot as plt\n",
    "import seaborn as sns\n",
    "\n",
    "import lectura_archivos as fr\n",
    "import calculo_metricas as aux\n",
    "\n",
    "from functools import reduce\n",
    "\n",
    "sns.set_style()\n",
    "plt.rcParams[\"figure.figsize\"] = (12, 6)\n",
    "\n",
    "importlib.reload(fr)\n",
    "importlib.reload(aux)\n"
   ]
  },
  {
   "cell_type": "code",
   "execution_count": 2,
   "metadata": {},
   "outputs": [],
   "source": [
    "HOSPITAL_A_ANALIZAR = 112103  # Este es el Torax\n"
   ]
  },
  {
   "attachments": {},
   "cell_type": "markdown",
   "metadata": {},
   "source": [
    "## Lectura de archivos\n",
    "\n",
    "- Se leen todos los archivos que estan en input/utf-8. Los archivos estan separados por ;\n",
    "- Se dejan solamente los egresos de los diagnosticos que **SI** tenga el Tórax\n",
    "- Se cambia la codificacion de INTERV_Q de 2 (No, 1 es SI) a 0.\n",
    "- Se cambia la codificacion de CONDICION_EGRESO (orig 1 = Vivo, 2 = Fallecido) de 1 -> 0 y 2 -> 1\n",
    "- Se cambia la codificacion de GLOSA_REGION_RESIDENCIA {\n",
    "                        \"Del Libertador B. O'Higgins\": \"del Libertador General Bernardo O'Higgins\",\n",
    "                        \"De Aisén del Gral. C. Ibáñez del Campo\": \"Aysén del General Carlos Ibáñez del Campo\",\n",
    "                    }"
   ]
  },
  {
   "cell_type": "code",
   "execution_count": 3,
   "metadata": {},
   "outputs": [],
   "source": [
    "df = fr.leer_archivos(HOSPITAL_A_ANALIZAR)"
   ]
  },
  {
   "attachments": {},
   "cell_type": "markdown",
   "metadata": {},
   "source": [
    "# Analisis de Egresos Hospitalarios\n",
    "\n",
    "Se calculan las siguientes metricas:\n",
    "\n",
    "- Número de Egresos (n_egresos)\n",
    "- Días de Estada promedio (dias_estada_promedio)\n",
    "- Cantidad de Intervenciones Quirúrgicas (n_int_q)\n",
    "- Cantidad de Muertes (n_muertos)\n",
    "\n",
    "Todas estas metricas estan calculadas a nivel de Año, Establecimiento de Salud y Diagnóstico. Por\n",
    "ejemplo:\n",
    "\n",
    "***\"En el año 2019, el Hospital San José (código XXXXXXX) tuvo XX egresos, con XX dias estada_promedio,\n",
    "con XX intervenciones_quirúrgicas y XX muertos para el diagnóstico A24.4.\"***\n",
    "\n",
    "Este análisis se realizó entre 2001 y 2020 para todos los hospitales/clínicas de Chile."
   ]
  },
  {
   "cell_type": "code",
   "execution_count": 4,
   "metadata": {},
   "outputs": [],
   "source": [
    "AGRUPACION = [\n",
    "    \"ANO_EGRESO\",\n",
    "    \"ESTABLECIMIENTO_SALUD\",\n",
    "    \"GLOSA_ESTABLECIMIENTO_SALUD\",\n",
    "    \"DIAG1\",\n",
    "]\n",
    "\n",
    "metricas = aux.obtener_metricas_egresos(df, AGRUPACION).collect(streaming=True)\n"
   ]
  },
  {
   "attachments": {},
   "cell_type": "markdown",
   "metadata": {},
   "source": [
    "# Analisis de Estratos"
   ]
  },
  {
   "cell_type": "code",
   "execution_count": 5,
   "metadata": {},
   "outputs": [],
   "source": [
    "variables_a_rankear = [\"n_egresos\"]\n",
    "subgrupo_del_ranking = [\"ANO_EGRESO\", \"DIAG1\"]\n",
    "unir_tablas_por = AGRUPACION"
   ]
  },
  {
   "cell_type": "code",
   "execution_count": 6,
   "metadata": {},
   "outputs": [],
   "source": [
    "dict_estratos = aux.obtener_diccionario_estratos(df, HOSPITAL_A_ANALIZAR)"
   ]
  },
  {
   "cell_type": "code",
   "execution_count": 7,
   "metadata": {},
   "outputs": [],
   "source": [
    "dict_resultados_estratos = aux.obtener_resumen_por_estratos(\n",
    "    metricas, dict_estratos, variables_a_rankear, subgrupo_del_ranking\n",
    ")\n",
    "\n",
    "resultado = reduce(aux.left_join_consecutivo, dict_resultados_estratos.values())"
   ]
  },
  {
   "attachments": {},
   "cell_type": "markdown",
   "metadata": {},
   "source": [
    "# Analisis Sociodemográfico"
   ]
  },
  {
   "cell_type": "code",
   "execution_count": 8,
   "metadata": {},
   "outputs": [],
   "source": [
    "desglose_sociodemografico = [\n",
    "    \"ANO_EGRESO\",\n",
    "    \"REGION_RESIDENCIA\",\n",
    "    \"GLOSA_REGION_RESIDENCIA\",\n",
    "    \"region_pais\",\n",
    "    \"COMUNA_RESIDENCIA\",\n",
    "    \"GLOSA_COMUNA_RESIDENCIA\",\n",
    "    \"comuna_region_pais\",\n",
    "    \"DIAG1\",\n",
    "]\n",
    "\n",
    "variables_a_analizar = [\n",
    "    \"DIAG1\",\n",
    "    \"SEXO\",\n",
    "    \"PUEBLO_ORIGINARIO\",\n",
    "    \"GLOSA_PAIS_ORIGEN\",\n",
    "    \"PREVISION\",\n",
    "    \"BENEFICIARIO\",\n",
    "]"
   ]
  },
  {
   "cell_type": "code",
   "execution_count": 21,
   "metadata": {},
   "outputs": [],
   "source": [
    "with pl.StringCache():\n",
    "    df_socio = (\n",
    "        pl.read_csv(\"input/utf-8/*.csv\", separator=\";\", dtypes=fr.DICT_VARIABLES)\n",
    "        .lazy()\n",
    "        .filter(pl.col(\"ESTABLECIMIENTO_SALUD\") == 112103)\n",
    "        .with_columns(\n",
    "            pl.col(\"GLOSA_REGION_RESIDENCIA\").map_dict(\n",
    "                {\n",
    "                    \"Del Libertador B. O'Higgins\": \"del Libertador General Bernardo O'Higgins\",\n",
    "                    \"De Aisén del Gral. C. Ibáñez del Campo\": \"Aysén del General Carlos Ibáñez del Campo\",\n",
    "                },\n",
    "                default=pl.col(\"GLOSA_REGION_RESIDENCIA\"),\n",
    "            )\n",
    "        )\n",
    "        .with_columns(\n",
    "            ((\"Región \" + pl.col(\"GLOSA_REGION_RESIDENCIA\") + \", Chile\").alias(\"region_pais\"))\n",
    "        )\n",
    "        .with_columns(\n",
    "            (pl.col(\"GLOSA_COMUNA_RESIDENCIA\") + \", \" + pl.col(\"region_pais\")).alias(\n",
    "                \"comuna_region_pais\"\n",
    "            )\n",
    "        )\n",
    "        .with_columns((pl.col(\"EDAD_A_OS\")))\n",
    "        .collect()\n",
    "    )\n",
    "\n",
    "    # dict_resultados = {}\n",
    "\n",
    "    # for variable in variables_a_analizar:\n",
    "    #     agrupacion_total = desglose_sociodemografico.copy()\n",
    "    #     if variable != \"DIAG1\":\n",
    "    #         agrupacion_total += [variable]\n",
    "\n",
    "    #     resultado = (\n",
    "    #         df_socio.groupby(agrupacion_total)\n",
    "    #         .agg(pl.col(variable).count().alias(\"conteo\"))\n",
    "    #         .sort([\"ANO_EGRESO\", \"DIAG1\", \"conteo\"], descending=True)\n",
    "    #         .with_columns(\n",
    "    #             pl.concat_str(pl.col(desglose_sociodemografico), separator=\"-\").alias(\"llave_id\")\n",
    "    #         )\n",
    "    #     ).collect()\n",
    "\n",
    "    #     dict_resultados[variable] = resultado"
   ]
  },
  {
   "cell_type": "code",
   "execution_count": 10,
   "metadata": {},
   "outputs": [],
   "source": [
    "import xlsxwriter\n",
    "\n",
    "with xlsxwriter.Workbook(\"output/distribucion_sociodemografica/distribucion_polars.xlsx\") as f:\n",
    "    for var, df in dict_resultados.items():\n",
    "        df.write_excel(workbook=f, worksheet=var)\n"
   ]
  },
  {
   "cell_type": "code",
   "execution_count": 23,
   "metadata": {},
   "outputs": [
    {
     "name": "stderr",
     "output_type": "stream",
     "text": [
      "C:\\Users\\ppizarro\\AppData\\Local\\Temp\\ipykernel_4648\\2729992260.py:2: DeprecationWarning: `pl.cut(series)` has been deprecated; use `series.cut()`\n",
      "  pl.cut(df_socio.get_column(\"EDAD_A_OS\"), bins=range(0, 101, 10)).with_columns(\n"
     ]
    },
    {
     "ename": "ComputeError",
     "evalue": "datatypes of join keys don't match",
     "output_type": "error",
     "traceback": [
      "\u001b[1;31m---------------------------------------------------------------------------\u001b[0m",
      "\u001b[1;31mComputeError\u001b[0m                              Traceback (most recent call last)",
      "Cell \u001b[1;32mIn[23], line 1\u001b[0m\n\u001b[1;32m----> 1\u001b[0m df_socio\u001b[39m.\u001b[39;49mjoin(\n\u001b[0;32m      2\u001b[0m     pl\u001b[39m.\u001b[39;49mcut(df_socio\u001b[39m.\u001b[39;49mget_column(\u001b[39m\"\u001b[39;49m\u001b[39mEDAD_A_OS\u001b[39;49m\u001b[39m\"\u001b[39;49m), bins\u001b[39m=\u001b[39;49m\u001b[39mrange\u001b[39;49m(\u001b[39m0\u001b[39;49m, \u001b[39m101\u001b[39;49m, \u001b[39m10\u001b[39;49m))\u001b[39m.\u001b[39;49mwith_columns(\n\u001b[0;32m      3\u001b[0m         pl\u001b[39m.\u001b[39;49mcol(\u001b[39m\"\u001b[39;49m\u001b[39mEDAD_A_OS\u001b[39;49m\u001b[39m\"\u001b[39;49m)\u001b[39m.\u001b[39;49mcast(pl\u001b[39m.\u001b[39;49mInt64())), on\u001b[39m=\u001b[39;49m\u001b[39m'\u001b[39;49m\u001b[39mEDAD_A_OS\u001b[39;49m\u001b[39m'\u001b[39;49m\n\u001b[0;32m      4\u001b[0m     )\n",
      "File \u001b[1;32mc:\\Users\\ppizarro\\AppData\\Local\\anaconda3\\lib\\site-packages\\polars\\utils\\decorators.py:136\u001b[0m, in \u001b[0;36mdeprecate_nonkeyword_arguments.<locals>.decorate.<locals>.wrapper\u001b[1;34m(*args, **kwargs)\u001b[0m\n\u001b[0;32m    134\u001b[0m \u001b[39mif\u001b[39;00m \u001b[39mlen\u001b[39m(args) \u001b[39m>\u001b[39m num_allowed_args:\n\u001b[0;32m    135\u001b[0m     warnings\u001b[39m.\u001b[39mwarn(msg, \u001b[39mDeprecationWarning\u001b[39;00m, stacklevel\u001b[39m=\u001b[39mstacklevel)\n\u001b[1;32m--> 136\u001b[0m \u001b[39mreturn\u001b[39;00m function(\u001b[39m*\u001b[39margs, \u001b[39m*\u001b[39m\u001b[39m*\u001b[39mkwargs)\n",
      "File \u001b[1;32mc:\\Users\\ppizarro\\AppData\\Local\\anaconda3\\lib\\site-packages\\polars\\dataframe\\frame.py:5127\u001b[0m, in \u001b[0;36mDataFrame.join\u001b[1;34m(self, other, left_on, right_on, on, how, suffix)\u001b[0m\n\u001b[0;32m   5121\u001b[0m \u001b[39mif\u001b[39;00m \u001b[39mnot\u001b[39;00m \u001b[39misinstance\u001b[39m(other, DataFrame):\n\u001b[0;32m   5122\u001b[0m     \u001b[39mraise\u001b[39;00m \u001b[39mTypeError\u001b[39;00m(\n\u001b[0;32m   5123\u001b[0m         \u001b[39mf\u001b[39m\u001b[39m\"\u001b[39m\u001b[39mExpected \u001b[39m\u001b[39m'\u001b[39m\u001b[39mother\u001b[39m\u001b[39m'\u001b[39m\u001b[39m join table to be a DataFrame, not a \u001b[39m\u001b[39m{\u001b[39;00m\u001b[39mtype\u001b[39m(other)\u001b[39m.\u001b[39m\u001b[39m__name__\u001b[39m\u001b[39m}\u001b[39;00m\u001b[39m\"\u001b[39m\n\u001b[0;32m   5124\u001b[0m     )\n\u001b[0;32m   5126\u001b[0m \u001b[39mreturn\u001b[39;00m \u001b[39mself\u001b[39m\u001b[39m.\u001b[39m_from_pydf(\n\u001b[1;32m-> 5127\u001b[0m     \u001b[39mself\u001b[39;49m\u001b[39m.\u001b[39;49mlazy()\n\u001b[0;32m   5128\u001b[0m     \u001b[39m.\u001b[39;49mjoin(\n\u001b[0;32m   5129\u001b[0m         other\u001b[39m=\u001b[39;49mother\u001b[39m.\u001b[39;49mlazy(),\n\u001b[0;32m   5130\u001b[0m         left_on\u001b[39m=\u001b[39;49mleft_on,\n\u001b[0;32m   5131\u001b[0m         right_on\u001b[39m=\u001b[39;49mright_on,\n\u001b[0;32m   5132\u001b[0m         on\u001b[39m=\u001b[39;49mon,\n\u001b[0;32m   5133\u001b[0m         how\u001b[39m=\u001b[39;49mhow,\n\u001b[0;32m   5134\u001b[0m         suffix\u001b[39m=\u001b[39;49msuffix,\n\u001b[0;32m   5135\u001b[0m     )\n\u001b[0;32m   5136\u001b[0m     \u001b[39m.\u001b[39;49mcollect(no_optimization\u001b[39m=\u001b[39;49m\u001b[39mTrue\u001b[39;49;00m)\n\u001b[0;32m   5137\u001b[0m     \u001b[39m.\u001b[39m_df\n\u001b[0;32m   5138\u001b[0m )\n",
      "File \u001b[1;32mc:\\Users\\ppizarro\\AppData\\Local\\anaconda3\\lib\\site-packages\\polars\\lazyframe\\frame.py:1475\u001b[0m, in \u001b[0;36mLazyFrame.collect\u001b[1;34m(self, type_coercion, predicate_pushdown, projection_pushdown, simplify_expression, no_optimization, slice_pushdown, common_subplan_elimination, streaming)\u001b[0m\n\u001b[0;32m   1464\u001b[0m     common_subplan_elimination \u001b[39m=\u001b[39m \u001b[39mFalse\u001b[39;00m\n\u001b[0;32m   1466\u001b[0m ldf \u001b[39m=\u001b[39m \u001b[39mself\u001b[39m\u001b[39m.\u001b[39m_ldf\u001b[39m.\u001b[39moptimization_toggle(\n\u001b[0;32m   1467\u001b[0m     type_coercion,\n\u001b[0;32m   1468\u001b[0m     predicate_pushdown,\n\u001b[1;32m   (...)\u001b[0m\n\u001b[0;32m   1473\u001b[0m     streaming,\n\u001b[0;32m   1474\u001b[0m )\n\u001b[1;32m-> 1475\u001b[0m \u001b[39mreturn\u001b[39;00m wrap_df(ldf\u001b[39m.\u001b[39;49mcollect())\n",
      "\u001b[1;31mComputeError\u001b[0m: datatypes of join keys don't match"
     ]
    }
   ],
   "source": [
    "df_socio.join(\n",
    "    pl.cut(df_socio.get_column(\"EDAD_A_OS\"), bins=range(0, 101, 10)).with_columns(\n",
    "        pl.col(\"EDAD_A_OS\").cast(pl.Int64())), on='EDAD_A_OS'\n",
    "    )\n"
   ]
  },
  {
   "cell_type": "code",
   "execution_count": 33,
   "metadata": {},
   "outputs": [
    {
     "data": {
      "text/html": [
       "<div><style>\n",
       ".dataframe > thead > tr > th,\n",
       ".dataframe > tbody > tr > td {\n",
       "  text-align: right;\n",
       "}\n",
       "</style>\n",
       "<small>shape: (96742, 40)</small><table border=\"1\" class=\"dataframe\"><thead><tr><th>ID_PACIENTE</th><th>ESTABLECIMIENTO_SALUD</th><th>GLOSA_ESTABLECIMIENTO_SALUD</th><th>PERTENENCIA_ESTABLECIMIENTO_SALUD</th><th>SEREMI</th><th>SERVICIO_DE_SALUD</th><th>SEXO</th><th>FECHA_NACIMIENTO</th><th>EDAD_CANT</th><th>TIPO_EDAD</th><th>EDAD_A_OS</th><th>PUEBLO_ORIGINARIO</th><th>PAIS_ORIGEN</th><th>GLOSA_PAIS_ORIGEN</th><th>COMUNA_RESIDENCIA</th><th>GLOSA_COMUNA_RESIDENCIA</th><th>REGION_RESIDENCIA</th><th>GLOSA_REGION_RESIDENCIA</th><th>PREVISION</th><th>BENEFICIARIO</th><th>MODALIDAD</th><th>PROCEDENCIA</th><th>ANO_EGRESO</th><th>FECHA_EGRESO</th><th>AREA_FUNCIONAL_EGRESO</th><th>DIAS_ESTADA</th><th>CONDICION_EGRESO</th><th>DIAG1</th><th>GLOSA_DIAG1</th><th>DIAG2</th><th>GLOSA_DIAG2</th><th>INTERV_Q</th><th>CODIGO_INTERV_Q_PPAL</th><th>GLOSA_INTERV_Q_PPAL</th><th>PROCED</th><th>CODIGO_PROCED_PPAL</th><th>GLOSA_PROCED_PPAL</th><th>region_pais</th><th>comuna_region_pais</th><th>EDAD_CATEGORIA</th></tr><tr><td>str</td><td>i32</td><td>cat</td><td>cat</td><td>i8</td><td>i8</td><td>i8</td><td>str</td><td>i8</td><td>i8</td><td>i8</td><td>i8</td><td>i16</td><td>str</td><td>i64</td><td>cat</td><td>cat</td><td>cat</td><td>i8</td><td>cat</td><td>i8</td><td>i8</td><td>i16</td><td>date</td><td>i16</td><td>i16</td><td>i8</td><td>str</td><td>str</td><td>str</td><td>str</td><td>i8</td><td>i32</td><td>str</td><td>cat</td><td>cat</td><td>cat</td><td>str</td><td>str</td><td>cat</td></tr></thead><tbody><tr><td>&quot;NA&quot;</td><td>112103</td><td>&quot;Instituto Naci…</td><td>&quot;Pertenecientes…</td><td>null</td><td>12</td><td>1</td><td>null</td><td>null</td><td>null</td><td>51</td><td>null</td><td>null</td><td>null</td><td>13123</td><td>&quot;Providencia&quot;</td><td>&quot;13&quot;</td><td>&quot;Metropolitana …</td><td>99</td><td>null</td><td>null</td><td>null</td><td>2001</td><td>2001-05-25</td><td>111</td><td>2</td><td>2</td><td>&quot;A162&quot;</td><td>&quot;TUBERCULOSIS D…</td><td>null</td><td>null</td><td>2</td><td>null</td><td>null</td><td>null</td><td>null</td><td>null</td><td>&quot;Región Metropo…</td><td>&quot;Providencia, R…</td><td>&quot;(50.0, 60.0]&quot;</td></tr><tr><td>&quot;NA&quot;</td><td>112103</td><td>&quot;Instituto Naci…</td><td>&quot;Pertenecientes…</td><td>null</td><td>12</td><td>2</td><td>null</td><td>null</td><td>null</td><td>95</td><td>null</td><td>null</td><td>null</td><td>13123</td><td>&quot;Providencia&quot;</td><td>&quot;13&quot;</td><td>&quot;Metropolitana …</td><td>99</td><td>null</td><td>null</td><td>null</td><td>2001</td><td>2001-07-16</td><td>111</td><td>3</td><td>2</td><td>&quot;J969&quot;</td><td>&quot;INSUFICIENCIA …</td><td>null</td><td>null</td><td>2</td><td>null</td><td>null</td><td>null</td><td>null</td><td>null</td><td>&quot;Región Metropo…</td><td>&quot;Providencia, R…</td><td>&quot;(90.0, 100.0]&quot;</td></tr><tr><td>&quot;NA&quot;</td><td>112103</td><td>&quot;Instituto Naci…</td><td>&quot;Pertenecientes…</td><td>null</td><td>12</td><td>1</td><td>null</td><td>null</td><td>null</td><td>65</td><td>null</td><td>null</td><td>null</td><td>13123</td><td>&quot;Providencia&quot;</td><td>&quot;13&quot;</td><td>&quot;Metropolitana …</td><td>1</td><td>&quot;A&quot;</td><td>null</td><td>null</td><td>2001</td><td>2001-04-19</td><td>270</td><td>2</td><td>2</td><td>&quot;J189&quot;</td><td>&quot;NEUMONIA, NO E…</td><td>null</td><td>null</td><td>2</td><td>null</td><td>null</td><td>null</td><td>null</td><td>null</td><td>&quot;Región Metropo…</td><td>&quot;Providencia, R…</td><td>&quot;(60.0, 70.0]&quot;</td></tr><tr><td>&quot;NA&quot;</td><td>112103</td><td>&quot;Instituto Naci…</td><td>&quot;Pertenecientes…</td><td>null</td><td>12</td><td>1</td><td>null</td><td>null</td><td>null</td><td>48</td><td>null</td><td>null</td><td>null</td><td>13123</td><td>&quot;Providencia&quot;</td><td>&quot;13&quot;</td><td>&quot;Metropolitana …</td><td>1</td><td>&quot;A&quot;</td><td>null</td><td>null</td><td>2001</td><td>2001-09-19</td><td>270</td><td>45</td><td>2</td><td>&quot;J189&quot;</td><td>&quot;NEUMONIA, NO E…</td><td>null</td><td>null</td><td>1</td><td>null</td><td>null</td><td>null</td><td>null</td><td>null</td><td>&quot;Región Metropo…</td><td>&quot;Providencia, R…</td><td>&quot;(40.0, 50.0]&quot;</td></tr><tr><td>&quot;NA&quot;</td><td>112103</td><td>&quot;Instituto Naci…</td><td>&quot;Pertenecientes…</td><td>null</td><td>12</td><td>2</td><td>null</td><td>null</td><td>null</td><td>65</td><td>null</td><td>null</td><td>null</td><td>13123</td><td>&quot;Providencia&quot;</td><td>&quot;13&quot;</td><td>&quot;Metropolitana …</td><td>1</td><td>&quot;A&quot;</td><td>null</td><td>null</td><td>2001</td><td>2001-04-13</td><td>111</td><td>4</td><td>2</td><td>&quot;J189&quot;</td><td>&quot;NEUMONIA, NO E…</td><td>null</td><td>null</td><td>2</td><td>null</td><td>null</td><td>null</td><td>null</td><td>null</td><td>&quot;Región Metropo…</td><td>&quot;Providencia, R…</td><td>&quot;(60.0, 70.0]&quot;</td></tr><tr><td>&quot;NA&quot;</td><td>112103</td><td>&quot;Instituto Naci…</td><td>&quot;Pertenecientes…</td><td>null</td><td>12</td><td>2</td><td>null</td><td>null</td><td>null</td><td>49</td><td>null</td><td>null</td><td>null</td><td>13124</td><td>&quot;Pudahuel&quot;</td><td>&quot;13&quot;</td><td>&quot;Metropolitana …</td><td>1</td><td>&quot;B&quot;</td><td>null</td><td>null</td><td>2001</td><td>2001-05-19</td><td>111</td><td>17</td><td>2</td><td>&quot;I891&quot;</td><td>&quot;LINFANGITIS&quot;</td><td>null</td><td>null</td><td>2</td><td>null</td><td>null</td><td>null</td><td>null</td><td>null</td><td>&quot;Región Metropo…</td><td>&quot;Pudahuel, Regi…</td><td>&quot;(40.0, 50.0]&quot;</td></tr><tr><td>&quot;NA&quot;</td><td>112103</td><td>&quot;Instituto Naci…</td><td>&quot;Pertenecientes…</td><td>null</td><td>12</td><td>1</td><td>null</td><td>null</td><td>null</td><td>23</td><td>null</td><td>null</td><td>null</td><td>13101</td><td>&quot;Santiago&quot;</td><td>&quot;13&quot;</td><td>&quot;Metropolitana …</td><td>1</td><td>&quot;A&quot;</td><td>null</td><td>null</td><td>2001</td><td>2001-04-25</td><td>111</td><td>6</td><td>2</td><td>&quot;B59X&quot;</td><td>&quot;NEUMOCISTOSIS&quot;</td><td>null</td><td>null</td><td>2</td><td>null</td><td>null</td><td>null</td><td>null</td><td>null</td><td>&quot;Región Metropo…</td><td>&quot;Santiago, Regi…</td><td>&quot;(20.0, 30.0]&quot;</td></tr><tr><td>&quot;NA&quot;</td><td>112103</td><td>&quot;Instituto Naci…</td><td>&quot;Pertenecientes…</td><td>null</td><td>12</td><td>1</td><td>null</td><td>null</td><td>null</td><td>56</td><td>null</td><td>null</td><td>null</td><td>13101</td><td>&quot;Santiago&quot;</td><td>&quot;13&quot;</td><td>&quot;Metropolitana …</td><td>1</td><td>&quot;A&quot;</td><td>null</td><td>null</td><td>2001</td><td>2001-03-12</td><td>111</td><td>41</td><td>2</td><td>&quot;J189&quot;</td><td>&quot;NEUMONIA, NO E…</td><td>null</td><td>null</td><td>2</td><td>null</td><td>null</td><td>null</td><td>null</td><td>null</td><td>&quot;Región Metropo…</td><td>&quot;Santiago, Regi…</td><td>&quot;(50.0, 60.0]&quot;</td></tr><tr><td>&quot;NA&quot;</td><td>112103</td><td>&quot;Instituto Naci…</td><td>&quot;Pertenecientes…</td><td>null</td><td>12</td><td>1</td><td>null</td><td>null</td><td>null</td><td>18</td><td>null</td><td>null</td><td>null</td><td>13101</td><td>&quot;Santiago&quot;</td><td>&quot;13&quot;</td><td>&quot;Metropolitana …</td><td>99</td><td>null</td><td>null</td><td>null</td><td>2001</td><td>2001-11-29</td><td>121</td><td>49</td><td>2</td><td>&quot;D381&quot;</td><td>&quot;TUMOR DE COMPO…</td><td>null</td><td>null</td><td>1</td><td>null</td><td>null</td><td>null</td><td>null</td><td>null</td><td>&quot;Región Metropo…</td><td>&quot;Santiago, Regi…</td><td>&quot;(10.0, 20.0]&quot;</td></tr><tr><td>&quot;NA&quot;</td><td>112103</td><td>&quot;Instituto Naci…</td><td>&quot;Pertenecientes…</td><td>null</td><td>12</td><td>2</td><td>null</td><td>null</td><td>null</td><td>27</td><td>null</td><td>null</td><td>null</td><td>13113</td><td>&quot;La Reina&quot;</td><td>&quot;13&quot;</td><td>&quot;Metropolitana …</td><td>1</td><td>&quot;A&quot;</td><td>null</td><td>null</td><td>2001</td><td>2001-01-03</td><td>111</td><td>2</td><td>2</td><td>&quot;J181&quot;</td><td>&quot;NEUMONIA LOBAR…</td><td>null</td><td>null</td><td>2</td><td>null</td><td>null</td><td>null</td><td>null</td><td>null</td><td>&quot;Región Metropo…</td><td>&quot;La Reina, Regi…</td><td>&quot;(20.0, 30.0]&quot;</td></tr><tr><td>&quot;NA&quot;</td><td>112103</td><td>&quot;Instituto Naci…</td><td>&quot;Pertenecientes…</td><td>null</td><td>12</td><td>1</td><td>null</td><td>null</td><td>null</td><td>83</td><td>null</td><td>null</td><td>null</td><td>13120</td><td>&quot;Ñuñoa&quot;</td><td>&quot;13&quot;</td><td>&quot;Metropolitana …</td><td>99</td><td>null</td><td>null</td><td>null</td><td>2001</td><td>2001-04-18</td><td>270</td><td>1</td><td>2</td><td>&quot;E149&quot;</td><td>&quot;DIABETES MELLI…</td><td>null</td><td>null</td><td>2</td><td>null</td><td>null</td><td>null</td><td>null</td><td>null</td><td>&quot;Región Metropo…</td><td>&quot;Ñuñoa, Región …</td><td>&quot;(80.0, 90.0]&quot;</td></tr><tr><td>&quot;NA&quot;</td><td>112103</td><td>&quot;Instituto Naci…</td><td>&quot;Pertenecientes…</td><td>null</td><td>12</td><td>2</td><td>null</td><td>null</td><td>null</td><td>48</td><td>null</td><td>null</td><td>null</td><td>13120</td><td>&quot;Ñuñoa&quot;</td><td>&quot;13&quot;</td><td>&quot;Metropolitana …</td><td>1</td><td>&quot;A&quot;</td><td>null</td><td>null</td><td>2001</td><td>2001-07-24</td><td>111</td><td>1</td><td>2</td><td>&quot;B24X&quot;</td><td>&quot;ENFERMEDAD POR…</td><td>null</td><td>null</td><td>2</td><td>null</td><td>null</td><td>null</td><td>null</td><td>null</td><td>&quot;Región Metropo…</td><td>&quot;Ñuñoa, Región …</td><td>&quot;(40.0, 50.0]&quot;</td></tr><tr><td>&hellip;</td><td>&hellip;</td><td>&hellip;</td><td>&hellip;</td><td>&hellip;</td><td>&hellip;</td><td>&hellip;</td><td>&hellip;</td><td>&hellip;</td><td>&hellip;</td><td>&hellip;</td><td>&hellip;</td><td>&hellip;</td><td>&hellip;</td><td>&hellip;</td><td>&hellip;</td><td>&hellip;</td><td>&hellip;</td><td>&hellip;</td><td>&hellip;</td><td>&hellip;</td><td>&hellip;</td><td>&hellip;</td><td>&hellip;</td><td>&hellip;</td><td>&hellip;</td><td>&hellip;</td><td>&hellip;</td><td>&hellip;</td><td>&hellip;</td><td>&hellip;</td><td>&hellip;</td><td>&hellip;</td><td>&hellip;</td><td>&hellip;</td><td>&hellip;</td><td>&hellip;</td><td>&hellip;</td><td>&hellip;</td><td>&hellip;</td></tr><tr><td>&quot;241966A7333527…</td><td>112103</td><td>&quot;Instituto Naci…</td><td>&quot;Pertenecientes…</td><td>null</td><td>12</td><td>2</td><td>&quot;1973-05-27&quot;</td><td>47</td><td>1</td><td>47</td><td>96</td><td>152</td><td>&quot;Chile&quot;</td><td>13112</td><td>&quot;La Pintana&quot;</td><td>&quot;13&quot;</td><td>&quot;Metropolitana …</td><td>1</td><td>&quot;A&quot;</td><td>1</td><td>5</td><td>2020</td><td>2020-08-17</td><td>402</td><td>26</td><td>1</td><td>&quot;I340&quot;</td><td>&quot;INSUFICIENCIA …</td><td>null</td><td>null</td><td>1</td><td>1703061</td><td>&quot;De complejidad…</td><td>&quot;2&quot;</td><td>null</td><td>null</td><td>&quot;Región Metropo…</td><td>&quot;La Pintana, Re…</td><td>&quot;(40.0, 50.0]&quot;</td></tr><tr><td>&quot;B2578C9DE9501F…</td><td>112103</td><td>&quot;Instituto Naci…</td><td>&quot;Pertenecientes…</td><td>null</td><td>12</td><td>1</td><td>&quot;1975-09-10&quot;</td><td>44</td><td>1</td><td>44</td><td>96</td><td>152</td><td>&quot;Chile&quot;</td><td>13401</td><td>&quot;San Bernardo&quot;</td><td>&quot;13&quot;</td><td>&quot;Metropolitana …</td><td>1</td><td>&quot;D&quot;</td><td>1</td><td>5</td><td>2020</td><td>2020-09-22</td><td>402</td><td>15</td><td>1</td><td>&quot;I213&quot;</td><td>&quot;INFARTO TRANSM…</td><td>null</td><td>null</td><td>1</td><td>1703061</td><td>&quot;De complejidad…</td><td>&quot;1&quot;</td><td>&quot;1701055&quot;</td><td>&quot;Ecocardiagrama…</td><td>&quot;Región Metropo…</td><td>&quot;San Bernardo, …</td><td>&quot;(40.0, 50.0]&quot;</td></tr><tr><td>&quot;7D9E5EC9C4BF23…</td><td>112103</td><td>&quot;Instituto Naci…</td><td>&quot;Pertenecientes…</td><td>null</td><td>12</td><td>1</td><td>&quot;1957-02-14&quot;</td><td>63</td><td>1</td><td>63</td><td>96</td><td>152</td><td>&quot;Chile&quot;</td><td>9101</td><td>&quot;Temuco&quot;</td><td>&quot;09&quot;</td><td>&quot;De La Araucaní…</td><td>99</td><td>null</td><td>null</td><td>4</td><td>2020</td><td>2020-05-31</td><td>403</td><td>24</td><td>1</td><td>&quot;I251&quot;</td><td>&quot;ENFERMEDAD ATE…</td><td>null</td><td>null</td><td>1</td><td>1703061</td><td>&quot;De complejidad…</td><td>&quot;2&quot;</td><td>null</td><td>null</td><td>&quot;Región De La A…</td><td>&quot;Temuco, Región…</td><td>&quot;(60.0, 70.0]&quot;</td></tr><tr><td>&quot;05F55C709D0D4E…</td><td>112103</td><td>&quot;Instituto Naci…</td><td>&quot;Pertenecientes…</td><td>null</td><td>12</td><td>1</td><td>&quot;1956-12-17&quot;</td><td>63</td><td>1</td><td>63</td><td>96</td><td>152</td><td>&quot;Chile&quot;</td><td>13130</td><td>&quot;San Miguel&quot;</td><td>&quot;13&quot;</td><td>&quot;Metropolitana …</td><td>1</td><td>&quot;D&quot;</td><td>1</td><td>5</td><td>2020</td><td>2020-09-21</td><td>402</td><td>10</td><td>1</td><td>&quot;I251&quot;</td><td>&quot;ENFERMEDAD ATE…</td><td>null</td><td>null</td><td>1</td><td>1703061</td><td>&quot;De complejidad…</td><td>&quot;2&quot;</td><td>null</td><td>null</td><td>&quot;Región Metropo…</td><td>&quot;San Miguel, Re…</td><td>&quot;(60.0, 70.0]&quot;</td></tr><tr><td>&quot;BED91A3CDC2496…</td><td>112103</td><td>&quot;Instituto Naci…</td><td>&quot;Pertenecientes…</td><td>null</td><td>12</td><td>1</td><td>&quot;1954-10-16&quot;</td><td>65</td><td>1</td><td>65</td><td>96</td><td>152</td><td>&quot;Chile&quot;</td><td>13106</td><td>&quot;Estación Centr…</td><td>&quot;13&quot;</td><td>&quot;Metropolitana …</td><td>99</td><td>null</td><td>null</td><td>5</td><td>2020</td><td>2020-05-26</td><td>402</td><td>18</td><td>1</td><td>&quot;T813&quot;</td><td>&quot;DESGARRO DE HE…</td><td>&quot;Y838&quot;</td><td>&quot;OTROS PROCEDIM…</td><td>1</td><td>1704002</td><td>&quot;Cirugía tórax …</td><td>&quot;2&quot;</td><td>null</td><td>null</td><td>&quot;Región Metropo…</td><td>&quot;Estación Centr…</td><td>&quot;(60.0, 70.0]&quot;</td></tr><tr><td>&quot;C64135F048DD49…</td><td>112103</td><td>&quot;Instituto Naci…</td><td>&quot;Pertenecientes…</td><td>null</td><td>12</td><td>1</td><td>&quot;1943-02-21&quot;</td><td>77</td><td>1</td><td>77</td><td>96</td><td>152</td><td>&quot;Chile&quot;</td><td>13122</td><td>&quot;Peñalolén&quot;</td><td>&quot;13&quot;</td><td>&quot;Metropolitana …</td><td>1</td><td>&quot;C&quot;</td><td>1</td><td>5</td><td>2020</td><td>2020-09-29</td><td>402</td><td>14</td><td>1</td><td>&quot;I352&quot;</td><td>&quot;ESTENOSIS (DE …</td><td>null</td><td>null</td><td>1</td><td>1703061</td><td>&quot;De complejidad…</td><td>&quot;2&quot;</td><td>null</td><td>null</td><td>&quot;Región Metropo…</td><td>&quot;Peñalolén, Reg…</td><td>&quot;(70.0, 80.0]&quot;</td></tr><tr><td>&quot;F50E209A1E259C…</td><td>112103</td><td>&quot;Instituto Naci…</td><td>&quot;Pertenecientes…</td><td>null</td><td>12</td><td>1</td><td>&quot;1953-10-10&quot;</td><td>66</td><td>1</td><td>66</td><td>96</td><td>152</td><td>&quot;Chile&quot;</td><td>13105</td><td>&quot;El Bosque&quot;</td><td>&quot;13&quot;</td><td>&quot;Metropolitana …</td><td>99</td><td>null</td><td>null</td><td>5</td><td>2020</td><td>2020-05-15</td><td>403</td><td>15</td><td>1</td><td>&quot;I251&quot;</td><td>&quot;ENFERMEDAD ATE…</td><td>null</td><td>null</td><td>1</td><td>1703061</td><td>&quot;De complejidad…</td><td>&quot;1&quot;</td><td>&quot;1701055&quot;</td><td>&quot;Ecocardiagrama…</td><td>&quot;Región Metropo…</td><td>&quot;El Bosque, Reg…</td><td>&quot;(60.0, 70.0]&quot;</td></tr><tr><td>&quot;EA19309F0E9B6C…</td><td>112103</td><td>&quot;Instituto Naci…</td><td>&quot;Pertenecientes…</td><td>null</td><td>12</td><td>2</td><td>&quot;1954-05-10&quot;</td><td>66</td><td>1</td><td>66</td><td>96</td><td>152</td><td>&quot;Chile&quot;</td><td>13110</td><td>&quot;La Florida&quot;</td><td>&quot;13&quot;</td><td>&quot;Metropolitana …</td><td>1</td><td>&quot;D&quot;</td><td>1</td><td>5</td><td>2020</td><td>2020-09-12</td><td>402</td><td>10</td><td>1</td><td>&quot;I342&quot;</td><td>&quot;ESTENOSIS (DE …</td><td>null</td><td>null</td><td>1</td><td>1703061</td><td>&quot;De complejidad…</td><td>&quot;1&quot;</td><td>&quot;1701055&quot;</td><td>&quot;Ecocardiagrama…</td><td>&quot;Región Metropo…</td><td>&quot;La Florida, Re…</td><td>&quot;(60.0, 70.0]&quot;</td></tr><tr><td>&quot;874A456AA742EB…</td><td>112103</td><td>&quot;Instituto Naci…</td><td>&quot;Pertenecientes…</td><td>null</td><td>12</td><td>2</td><td>&quot;1974-08-07&quot;</td><td>46</td><td>1</td><td>46</td><td>96</td><td>152</td><td>&quot;Chile&quot;</td><td>13401</td><td>&quot;San Bernardo&quot;</td><td>&quot;13&quot;</td><td>&quot;Metropolitana …</td><td>1</td><td>&quot;D&quot;</td><td>1</td><td>5</td><td>2020</td><td>2020-09-30</td><td>406</td><td>17</td><td>1</td><td>&quot;I710&quot;</td><td>&quot;DISECCION DE A…</td><td>null</td><td>null</td><td>1</td><td>1703061</td><td>&quot;De complejidad…</td><td>&quot;2&quot;</td><td>null</td><td>null</td><td>&quot;Región Metropo…</td><td>&quot;San Bernardo, …</td><td>&quot;(40.0, 50.0]&quot;</td></tr><tr><td>&quot;26D520B204210D…</td><td>112103</td><td>&quot;Instituto Naci…</td><td>&quot;Pertenecientes…</td><td>null</td><td>12</td><td>1</td><td>&quot;1967-11-08&quot;</td><td>52</td><td>1</td><td>52</td><td>96</td><td>152</td><td>&quot;Chile&quot;</td><td>5701</td><td>&quot;San Felipe&quot;</td><td>&quot;05&quot;</td><td>&quot;De Valparaíso&quot;</td><td>1</td><td>&quot;D&quot;</td><td>1</td><td>5</td><td>2020</td><td>2020-09-28</td><td>402</td><td>32</td><td>1</td><td>&quot;I361&quot;</td><td>&quot;INSUFICIENCIA …</td><td>null</td><td>null</td><td>1</td><td>1703058</td><td>&quot;Pericardiotomí…</td><td>&quot;2&quot;</td><td>null</td><td>null</td><td>&quot;Región De Valp…</td><td>&quot;San Felipe, Re…</td><td>&quot;(50.0, 60.0]&quot;</td></tr><tr><td>&quot;92B802D2CA38ED…</td><td>112103</td><td>&quot;Instituto Naci…</td><td>&quot;Pertenecientes…</td><td>null</td><td>12</td><td>1</td><td>&quot;1993-08-19&quot;</td><td>27</td><td>1</td><td>27</td><td>96</td><td>152</td><td>&quot;Chile&quot;</td><td>13401</td><td>&quot;San Bernardo&quot;</td><td>&quot;13&quot;</td><td>&quot;Metropolitana …</td><td>99</td><td>null</td><td>null</td><td>5</td><td>2020</td><td>2020-10-14</td><td>406</td><td>29</td><td>1</td><td>&quot;I083&quot;</td><td>&quot;TRASTORNOS COM…</td><td>null</td><td>null</td><td>1</td><td>1703061</td><td>&quot;De complejidad…</td><td>&quot;2&quot;</td><td>null</td><td>null</td><td>&quot;Región Metropo…</td><td>&quot;San Bernardo, …</td><td>&quot;(20.0, 30.0]&quot;</td></tr><tr><td>&quot;000F0168DE5D8A…</td><td>112103</td><td>&quot;Instituto Naci…</td><td>&quot;Pertenecientes…</td><td>null</td><td>12</td><td>1</td><td>&quot;1991-08-03&quot;</td><td>29</td><td>1</td><td>29</td><td>96</td><td>152</td><td>&quot;Chile&quot;</td><td>13104</td><td>&quot;Conchalí&quot;</td><td>&quot;13&quot;</td><td>&quot;Metropolitana …</td><td>99</td><td>null</td><td>null</td><td>5</td><td>2020</td><td>2020-09-17</td><td>405</td><td>11</td><td>1</td><td>&quot;I715&quot;</td><td>&quot;RUPTURA DE ANE…</td><td>null</td><td>null</td><td>1</td><td>1703061</td><td>&quot;De complejidad…</td><td>&quot;1&quot;</td><td>&quot;402032&quot;</td><td>&quot;Instalación de…</td><td>&quot;Región Metropo…</td><td>&quot;Conchalí, Regi…</td><td>&quot;(20.0, 30.0]&quot;</td></tr></tbody></table></div>"
      ],
      "text/plain": [
       "shape: (96_742, 40)\n",
       "┌───────────┬────────────┬────────────┬────────────┬───┬────────────┬───────────┬────────────┬────────────┐\n",
       "│ ID_PACIEN ┆ ESTABLECIM ┆ GLOSA_ESTA ┆ PERTENENCI ┆ … ┆ GLOSA_PROC ┆ region_pa ┆ comuna_reg ┆ EDAD_CATEG │\n",
       "│ TE        ┆ IENTO_SALU ┆ BLECIMIENT ┆ A_ESTABLEC ┆   ┆ ED_PPAL    ┆ is        ┆ ion_pais   ┆ ORIA       │\n",
       "│ ---       ┆ D          ┆ O_SALUD    ┆ IMIENTO_SA ┆   ┆ ---        ┆ ---       ┆ ---        ┆ ---        │\n",
       "│ str       ┆ ---        ┆ ---        ┆ LU…        ┆   ┆ cat        ┆ str       ┆ str        ┆ cat        │\n",
       "│           ┆ i32        ┆ cat        ┆ ---        ┆   ┆            ┆           ┆            ┆            │\n",
       "│           ┆            ┆            ┆ cat        ┆   ┆            ┆           ┆            ┆            │\n",
       "╞═══════════╪════════════╪════════════╪════════════╪═══╪════════════╪═══════════╪════════════╪════════════╡\n",
       "│ NA        ┆ 112103     ┆ Instituto  ┆ Pertenecie ┆ … ┆ null       ┆ Región    ┆ Providenci ┆ (50.0,     │\n",
       "│           ┆            ┆ Nacional   ┆ ntes al    ┆   ┆            ┆ Metropoli ┆ a, Región  ┆ 60.0]      │\n",
       "│           ┆            ┆ de Enferme ┆ Sistema    ┆   ┆            ┆ tana de   ┆ Metropolit ┆            │\n",
       "│           ┆            ┆ dad…       ┆ Nacion…    ┆   ┆            ┆ Santiago… ┆ an…        ┆            │\n",
       "│ NA        ┆ 112103     ┆ Instituto  ┆ Pertenecie ┆ … ┆ null       ┆ Región    ┆ Providenci ┆ (90.0,     │\n",
       "│           ┆            ┆ Nacional   ┆ ntes al    ┆   ┆            ┆ Metropoli ┆ a, Región  ┆ 100.0]     │\n",
       "│           ┆            ┆ de Enferme ┆ Sistema    ┆   ┆            ┆ tana de   ┆ Metropolit ┆            │\n",
       "│           ┆            ┆ dad…       ┆ Nacion…    ┆   ┆            ┆ Santiago… ┆ an…        ┆            │\n",
       "│ NA        ┆ 112103     ┆ Instituto  ┆ Pertenecie ┆ … ┆ null       ┆ Región    ┆ Providenci ┆ (60.0,     │\n",
       "│           ┆            ┆ Nacional   ┆ ntes al    ┆   ┆            ┆ Metropoli ┆ a, Región  ┆ 70.0]      │\n",
       "│           ┆            ┆ de Enferme ┆ Sistema    ┆   ┆            ┆ tana de   ┆ Metropolit ┆            │\n",
       "│           ┆            ┆ dad…       ┆ Nacion…    ┆   ┆            ┆ Santiago… ┆ an…        ┆            │\n",
       "│ NA        ┆ 112103     ┆ Instituto  ┆ Pertenecie ┆ … ┆ null       ┆ Región    ┆ Providenci ┆ (40.0,     │\n",
       "│           ┆            ┆ Nacional   ┆ ntes al    ┆   ┆            ┆ Metropoli ┆ a, Región  ┆ 50.0]      │\n",
       "│           ┆            ┆ de Enferme ┆ Sistema    ┆   ┆            ┆ tana de   ┆ Metropolit ┆            │\n",
       "│           ┆            ┆ dad…       ┆ Nacion…    ┆   ┆            ┆ Santiago… ┆ an…        ┆            │\n",
       "│ …         ┆ …          ┆ …          ┆ …          ┆ … ┆ …          ┆ …         ┆ …          ┆ …          │\n",
       "│ 874A456AA ┆ 112103     ┆ Instituto  ┆ Pertenecie ┆ … ┆ null       ┆ Región    ┆ San        ┆ (40.0,     │\n",
       "│ 742EB08B7 ┆            ┆ Nacional   ┆ ntes al    ┆   ┆            ┆ Metropoli ┆ Bernardo,  ┆ 50.0]      │\n",
       "│ FD224915E ┆            ┆ de Enferme ┆ Sistema    ┆   ┆            ┆ tana de   ┆ Región Met ┆            │\n",
       "│ DC55A…    ┆            ┆ dad…       ┆ Nacion…    ┆   ┆            ┆ Santiago… ┆ ropolita…  ┆            │\n",
       "│ 26D520B20 ┆ 112103     ┆ Instituto  ┆ Pertenecie ┆ … ┆ null       ┆ Región De ┆ San        ┆ (50.0,     │\n",
       "│ 4210DDF08 ┆            ┆ Nacional   ┆ ntes al    ┆   ┆            ┆ Valparaís ┆ Felipe,    ┆ 60.0]      │\n",
       "│ 2B9C0E349 ┆            ┆ de Enferme ┆ Sistema    ┆   ┆            ┆ o, Chile  ┆ Región De  ┆            │\n",
       "│ 17197…    ┆            ┆ dad…       ┆ Nacion…    ┆   ┆            ┆           ┆ Valparaíso ┆            │\n",
       "│           ┆            ┆            ┆            ┆   ┆            ┆           ┆ …          ┆            │\n",
       "│ 92B802D2C ┆ 112103     ┆ Instituto  ┆ Pertenecie ┆ … ┆ null       ┆ Región    ┆ San        ┆ (20.0,     │\n",
       "│ A38ED442E ┆            ┆ Nacional   ┆ ntes al    ┆   ┆            ┆ Metropoli ┆ Bernardo,  ┆ 30.0]      │\n",
       "│ AD40054AE ┆            ┆ de Enferme ┆ Sistema    ┆   ┆            ┆ tana de   ┆ Región Met ┆            │\n",
       "│ 3026D…    ┆            ┆ dad…       ┆ Nacion…    ┆   ┆            ┆ Santiago… ┆ ropolita…  ┆            │\n",
       "│ 000F0168D ┆ 112103     ┆ Instituto  ┆ Pertenecie ┆ … ┆ Instalació ┆ Región    ┆ Conchalí,  ┆ (20.0,     │\n",
       "│ E5D8ADDE0 ┆            ┆ Nacional   ┆ ntes al    ┆   ┆ n de       ┆ Metropoli ┆ Región Met ┆ 30.0]      │\n",
       "│ 618418328 ┆            ┆ de Enferme ┆ Sistema    ┆   ┆ catéter o  ┆ tana de   ┆ ropolitana ┆            │\n",
       "│ 71625…    ┆            ┆ dad…       ┆ Nacion…    ┆   ┆ sonda i…   ┆ Santiago… ┆ d…         ┆            │\n",
       "└───────────┴────────────┴────────────┴────────────┴───┴────────────┴───────────┴────────────┴────────────┘"
      ]
     },
     "execution_count": 33,
     "metadata": {},
     "output_type": "execute_result"
    }
   ],
   "source": [
    "df_socio.with_columns(\n",
    "    (df_socio.get_column(\"EDAD_A_OS\")).cut(bins=range(0, 101, 10), maintain_order=True).select(\n",
    "      pl.col('category').alias('EDAD_CATEGORIA')\n",
    "    )\n",
    ")"
   ]
  },
  {
   "cell_type": "code",
   "execution_count": null,
   "metadata": {},
   "outputs": [],
   "source": []
  }
 ],
 "metadata": {
  "kernelspec": {
   "display_name": "Python 3",
   "language": "python",
   "name": "python3"
  },
  "language_info": {
   "codemirror_mode": {
    "name": "ipython",
    "version": 3
   },
   "file_extension": ".py",
   "mimetype": "text/x-python",
   "name": "python",
   "nbconvert_exporter": "python",
   "pygments_lexer": "ipython3",
   "version": "3.10.9"
  },
  "orig_nbformat": 4
 },
 "nbformat": 4,
 "nbformat_minor": 2
}
