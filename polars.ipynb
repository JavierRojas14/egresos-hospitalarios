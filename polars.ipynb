{
 "cells": [
  {
   "attachments": {},
   "cell_type": "markdown",
   "metadata": {},
   "source": [
    "# Analisis de Egresos Hospitalarios"
   ]
  },
  {
   "cell_type": "code",
   "execution_count": 91,
   "metadata": {},
   "outputs": [
    {
     "data": {
      "text/plain": [
       "<module 'calculo_metricas' from 'c:\\\\Users\\\\ppizarro\\\\Desktop\\\\Javier Rojas\\\\Javier\\\\trabajo\\\\SSMO\\\\EPH\\\\modulo_gestion\\\\1.analisis_problemas_de_salud\\\\egresos-hospitalarios\\\\calculo_metricas.py'>"
      ]
     },
     "execution_count": 91,
     "metadata": {},
     "output_type": "execute_result"
    }
   ],
   "source": [
    "import importlib\n",
    "\n",
    "import pandas as pd\n",
    "import numpy as np\n",
    "import polars as pl\n",
    "\n",
    "import matplotlib.pyplot as plt\n",
    "import seaborn as sns\n",
    "\n",
    "import lectura_archivos as fr\n",
    "import calculo_metricas as aux\n",
    "\n",
    "from functools import reduce\n",
    "\n",
    "sns.set_style()\n",
    "plt.rcParams[\"figure.figsize\"] = (12, 6)\n",
    "\n",
    "importlib.reload(fr)\n",
    "importlib.reload(aux)"
   ]
  },
  {
   "cell_type": "code",
   "execution_count": 92,
   "metadata": {},
   "outputs": [],
   "source": [
    "HOSPITAL_A_ANALIZAR = 112103  # Este es el Torax"
   ]
  },
  {
   "attachments": {},
   "cell_type": "markdown",
   "metadata": {},
   "source": [
    "## Lectura de archivos\n",
    "\n",
    "- Se leen todos los archivos que estan en input/utf-8. Los archivos estan separados por ;\n",
    "- Se dejan solamente los egresos de los diagnosticos que **SI** tenga el Tórax\n",
    "- Se cambia la codificacion de INTERV_Q de 2 (No, 1 es SI) a 0.\n",
    "- Se cambia la codificacion de CONDICION_EGRESO (orig 1 = Vivo, 2 = Fallecido) de 1 -> 0 y 2 -> 1\n",
    "- Se cambia la codificacion de GLOSA_REGION_RESIDENCIA {\n",
    "                        \"Del Libertador B. O'Higgins\": \"del Libertador General Bernardo O'Higgins\",\n",
    "                        \"De Aisén del Gral. C. Ibáñez del Campo\": \"Aysén del General Carlos Ibáñez del Campo\",\n",
    "                    }"
   ]
  },
  {
   "cell_type": "code",
   "execution_count": 93,
   "metadata": {},
   "outputs": [],
   "source": [
    "df = fr.leer_archivos(HOSPITAL_A_ANALIZAR)\n"
   ]
  },
  {
   "attachments": {},
   "cell_type": "markdown",
   "metadata": {},
   "source": [
    "# Analisis de Egresos Hospitalarios\n",
    "\n",
    "Se calculan las siguientes metricas:\n",
    "\n",
    "- Número de Egresos (n_egresos)\n",
    "- Días de Estada promedio (dias_estada_promedio)\n",
    "- Cantidad de Intervenciones Quirúrgicas (n_int_q)\n",
    "- Cantidad de Muertes (n_muertos)\n",
    "\n",
    "Todas estas metricas estan calculadas a nivel de Año, Establecimiento de Salud y Diagnóstico. Por\n",
    "ejemplo:\n",
    "\n",
    "***\"En el año 2019, el Hospital San José (código XXXXXXX) tuvo XX egresos, con XX dias estada_promedio,\n",
    "con XX intervenciones_quirúrgicas y XX muertos para el diagnóstico A24.4.\"***\n",
    "\n",
    "Este análisis se realizó entre 2001 y 2020 para todos los hospitales/clínicas de Chile."
   ]
  },
  {
   "cell_type": "code",
   "execution_count": 94,
   "metadata": {},
   "outputs": [],
   "source": [
    "AGRUPACION = [\n",
    "    \"ANO_EGRESO\",\n",
    "    \"ESTABLECIMIENTO_SALUD\",\n",
    "    \"GLOSA_ESTABLECIMIENTO_SALUD\",\n",
    "    \"DIAG1\",\n",
    "]\n",
    "\n",
    "metricas = aux.obtener_metricas_egresos(df, AGRUPACION).collect(streaming=True)"
   ]
  },
  {
   "attachments": {},
   "cell_type": "markdown",
   "metadata": {},
   "source": [
    "# Analisis de Estratos"
   ]
  },
  {
   "cell_type": "code",
   "execution_count": 95,
   "metadata": {},
   "outputs": [],
   "source": [
    "variables_a_rankear = [\"n_egresos\"]\n",
    "subgrupo_del_ranking = [\"ANO_EGRESO\", \"DIAG1\"]\n",
    "unir_tablas_por = AGRUPACION\n"
   ]
  },
  {
   "cell_type": "code",
   "execution_count": 96,
   "metadata": {},
   "outputs": [],
   "source": [
    "dict_estratos = aux.obtener_diccionario_estratos(df, HOSPITAL_A_ANALIZAR)\n"
   ]
  },
  {
   "cell_type": "code",
   "execution_count": 97,
   "metadata": {},
   "outputs": [],
   "source": [
    "dict_resultados_estratos = aux.obtener_resumen_por_estratos(\n",
    "    metricas, dict_estratos, variables_a_rankear, subgrupo_del_ranking\n",
    ")\n",
    "\n",
    "resultado = reduce(aux.left_join_consecutivo, dict_resultados_estratos.values())\n"
   ]
  },
  {
   "attachments": {},
   "cell_type": "markdown",
   "metadata": {},
   "source": [
    "# Analisis Sociodemográfico"
   ]
  },
  {
   "cell_type": "code",
   "execution_count": 100,
   "metadata": {},
   "outputs": [
    {
     "data": {
      "text/html": [
       "<div><style>\n",
       ".dataframe > thead > tr > th,\n",
       ".dataframe > tbody > tr > td {\n",
       "  text-align: right;\n",
       "}\n",
       "</style>\n",
       "<small>shape: (83, 1)</small><table border=\"1\" class=\"dataframe\"><thead><tr><th>comuna_region_pais</th></tr><tr><td>str</td></tr></thead><tbody><tr><td>&quot;Peñalolén, Reg…</td></tr><tr><td>&quot;Peñalolén, Reg…</td></tr><tr><td>&quot;Providencia, R…</td></tr><tr><td>&quot;Providencia, R…</td></tr><tr><td>&quot;Providencia, R…</td></tr><tr><td>&quot;Providencia, R…</td></tr><tr><td>&quot;Providencia, R…</td></tr><tr><td>&quot;Providencia, R…</td></tr><tr><td>&quot;Providencia, R…</td></tr><tr><td>&quot;Punta Arenas, …</td></tr><tr><td>&quot;Valparaíso, Re…</td></tr><tr><td>&quot;Traiguén, Regi…</td></tr><tr><td>&hellip;</td></tr><tr><td>&quot;Graneros, Regi…</td></tr><tr><td>&quot;Calama, Region…</td></tr><tr><td>&quot;Tocopilla, Reg…</td></tr><tr><td>&quot;Antofagasta, R…</td></tr><tr><td>&quot;Copiapó, Regio…</td></tr><tr><td>&quot;Talcahuano, Re…</td></tr><tr><td>&quot;Chillán, Regio…</td></tr><tr><td>&quot;Talca, Region …</td></tr><tr><td>&quot;Talca, Region …</td></tr><tr><td>&quot;Llanquihue, Re…</td></tr><tr><td>&quot;Punta Arenas, …</td></tr><tr><td>&quot;Punta Arenas, …</td></tr></tbody></table></div>"
      ],
      "text/plain": [
       "shape: (83, 1)\n",
       "┌───────────────────────────────────┐\n",
       "│ comuna_region_pais                │\n",
       "│ ---                               │\n",
       "│ str                               │\n",
       "╞═══════════════════════════════════╡\n",
       "│ Peñalolén, Region Metropolitana … │\n",
       "│ Peñalolén, Region Metropolitana … │\n",
       "│ Providencia, Region Metropolitan… │\n",
       "│ Providencia, Region Metropolitan… │\n",
       "│ …                                 │\n",
       "│ Talca, Region Del Maule, Chile    │\n",
       "│ Llanquihue, Region De Los Lagos,… │\n",
       "│ Punta Arenas, Region De Magallan… │\n",
       "│ Punta Arenas, Region De Magallan… │\n",
       "└───────────────────────────────────┘"
      ]
     },
     "execution_count": 100,
     "metadata": {},
     "output_type": "execute_result"
    }
   ],
   "source": [
    "df.select(\n",
    "    pl.col('comuna_region_pais')\n",
    ").fetch(10)"
   ]
  },
  {
   "cell_type": "code",
   "execution_count": null,
   "metadata": {},
   "outputs": [],
   "source": []
  }
 ],
 "metadata": {
  "kernelspec": {
   "display_name": "Python 3",
   "language": "python",
   "name": "python3"
  },
  "language_info": {
   "codemirror_mode": {
    "name": "ipython",
    "version": 3
   },
   "file_extension": ".py",
   "mimetype": "text/x-python",
   "name": "python",
   "nbconvert_exporter": "python",
   "pygments_lexer": "ipython3",
   "version": "3.10.9"
  },
  "orig_nbformat": 4
 },
 "nbformat": 4,
 "nbformat_minor": 2
}
