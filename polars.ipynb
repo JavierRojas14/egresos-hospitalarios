{
 "cells": [
  {
   "attachments": {},
   "cell_type": "markdown",
   "metadata": {},
   "source": [
    "# Analisis de Egresos Hospitalarios"
   ]
  },
  {
   "cell_type": "code",
   "execution_count": 68,
   "metadata": {},
   "outputs": [
    {
     "data": {
      "text/plain": [
       "<module 'calculo_metricas' from 'c:\\\\Users\\\\ppizarro\\\\Desktop\\\\Javier Rojas\\\\Javier\\\\trabajo\\\\SSMO\\\\EPH\\\\modulo_gestion\\\\1.analisis_problemas_de_salud\\\\egresos-hospitalarios\\\\calculo_metricas.py'>"
      ]
     },
     "execution_count": 68,
     "metadata": {},
     "output_type": "execute_result"
    }
   ],
   "source": [
    "import importlib\n",
    "\n",
    "import pandas as pd\n",
    "import numpy as np\n",
    "import polars as pl\n",
    "\n",
    "import matplotlib.pyplot as plt\n",
    "import seaborn as sns\n",
    "\n",
    "import lectura_archivos as fr\n",
    "import calculo_metricas as aux\n",
    "\n",
    "from functools import reduce\n",
    "\n",
    "sns.set_style()\n",
    "plt.rcParams[\"figure.figsize\"] = (12, 6)\n",
    "\n",
    "importlib.reload(fr)\n",
    "importlib.reload(aux)"
   ]
  },
  {
   "cell_type": "code",
   "execution_count": 67,
   "metadata": {},
   "outputs": [],
   "source": [
    "HOSPITAL_A_ANALIZAR = 112103  # Este es el Torax"
   ]
  },
  {
   "attachments": {},
   "cell_type": "markdown",
   "metadata": {},
   "source": [
    "## Lectura de archivos\n",
    "\n",
    "- Se leen todos los archivos que estan en input/utf-8. Los archivos estan separados por ;\n",
    "- Se dejan solamente los egresos de los diagnosticos que **SI** tenga el Tórax\n",
    "- Se cambia la codificacion de INTERV_Q de 2 (No, 1 es SI) a 0.\n",
    "- Se cambia la codificacion de CONDICION_EGRESO (orig 1 = Vivo, 2 = Fallecido) de 1 -> 0 y 2 -> 1\n",
    "- Se cambia la codificacion de GLOSA_REGION_RESIDENCIA {\n",
    "                        \"Del Libertador B. O'Higgins\": \"del Libertador General Bernardo O'Higgins\",\n",
    "                        \"De Aisén del Gral. C. Ibáñez del Campo\": \"Aysén del General Carlos Ibáñez del Campo\",\n",
    "                    }"
   ]
  },
  {
   "cell_type": "code",
   "execution_count": 3,
   "metadata": {},
   "outputs": [],
   "source": [
    "df = fr.leer_archivos(HOSPITAL_A_ANALIZAR)\n"
   ]
  },
  {
   "attachments": {},
   "cell_type": "markdown",
   "metadata": {},
   "source": [
    "# Analisis de Egresos Hospitalarios\n",
    "\n",
    "Se calculan las siguientes metricas:\n",
    "\n",
    "- Número de Egresos (n_egresos)\n",
    "- Días de Estada promedio (dias_estada_promedio)\n",
    "- Cantidad de Intervenciones Quirúrgicas (n_int_q)\n",
    "- Cantidad de Muertes (n_muertos)\n",
    "\n",
    "Todas estas metricas estan calculadas a nivel de Año, Establecimiento de Salud y Diagnóstico. Por\n",
    "ejemplo:\n",
    "\n",
    "***\"En el año 2019, el Hospital San José (código XXXXXXX) tuvo XX egresos, con XX dias estada_promedio,\n",
    "con XX intervenciones_quirúrgicas y XX muertos para el diagnóstico A24.4.\"***\n",
    "\n",
    "Este análisis se realizó entre 2001 y 2020 para todos los hospitales/clínicas de Chile."
   ]
  },
  {
   "cell_type": "code",
   "execution_count": 4,
   "metadata": {},
   "outputs": [],
   "source": [
    "AGRUPACION = [\n",
    "    \"ANO_EGRESO\",\n",
    "    \"ESTABLECIMIENTO_SALUD\",\n",
    "    \"GLOSA_ESTABLECIMIENTO_SALUD\",\n",
    "    \"DIAG1\",\n",
    "]\n",
    "\n",
    "metricas = aux.obtener_metricas_egresos(df, AGRUPACION).collect(streaming=True)"
   ]
  },
  {
   "attachments": {},
   "cell_type": "markdown",
   "metadata": {},
   "source": [
    "# Analisis de Estratos"
   ]
  },
  {
   "cell_type": "code",
   "execution_count": 47,
   "metadata": {},
   "outputs": [],
   "source": [
    "variables_a_rankear = [\"n_egresos\"]\n",
    "subgrupo_del_ranking = [\"ANO_EGRESO\", \"DIAG1\"]\n",
    "unir_tablas_por = AGRUPACION\n"
   ]
  },
  {
   "cell_type": "code",
   "execution_count": 6,
   "metadata": {},
   "outputs": [],
   "source": [
    "dict_estratos = aux.obtener_diccionario_estratos(df, HOSPITAL_A_ANALIZAR)\n"
   ]
  },
  {
   "cell_type": "code",
   "execution_count": 48,
   "metadata": {},
   "outputs": [],
   "source": [
    "dict_resultados_estratos = aux.obtener_resumen_por_estratos(\n",
    "    metricas, dict_estratos, variables_a_rankear, subgrupo_del_ranking\n",
    ")\n",
    "\n",
    "resultado = reduce(aux.left_join_consecutivo, dict_resultados_estratos.values())\n"
   ]
  },
  {
   "cell_type": "code",
   "execution_count": null,
   "metadata": {},
   "outputs": [],
   "source": [
    "cie = fr.leer_cie()"
   ]
  },
  {
   "cell_type": "code",
   "execution_count": 43,
   "metadata": {},
   "outputs": [],
   "source": [
    "resultados_torax = resultado.filter(pl.col(\"ESTABLECIMIENTO_SALUD\") == HOSPITAL_A_ANALIZAR)\n"
   ]
  },
  {
   "cell_type": "code",
   "execution_count": 52,
   "metadata": {},
   "outputs": [
    {
     "data": {
      "text/html": [
       "<div><style>\n",
       ".dataframe > thead > tr > th,\n",
       ".dataframe > tbody > tr > td {\n",
       "  text-align: right;\n",
       "}\n",
       "</style>\n",
       "<small>shape: (1150, 23)</small><table border=\"1\" class=\"dataframe\"><thead><tr><th>ANO_EGRESO</th><th>ESTABLECIMIENTO_SALUD</th><th>GLOSA_ESTABLECIMIENTO_SALUD</th><th>DIAG1</th><th>n_egresos</th><th>dias_estada_promedio</th><th>n_int_q</th><th>n_muertos</th><th>ranking_nacionales_n_egresos</th><th>total_nacionales_n_egresos</th><th>%_nacionales_n_egresos</th><th>ranking_publicos_n_egresos</th><th>total_publicos_n_egresos</th><th>%_publicos_n_egresos</th><th>ranking_privados_n_egresos</th><th>total_privados_n_egresos</th><th>%_privados_n_egresos</th><th>ranking_grd_n_egresos</th><th>total_grd_n_egresos</th><th>%_grd_n_egresos</th><th>ranking_interno_n_egresos</th><th>total_interno_n_egresos</th><th>%_interno_n_egresos</th></tr><tr><td>i64</td><td>i64</td><td>str</td><td>str</td><td>u32</td><td>f64</td><td>i64</td><td>i64</td><td>u32</td><td>u32</td><td>f64</td><td>u32</td><td>u32</td><td>f64</td><td>u32</td><td>u32</td><td>f64</td><td>u32</td><td>u32</td><td>f64</td><td>u32</td><td>u32</td><td>f64</td></tr></thead><tbody><tr><td>2001</td><td>112103</td><td>&quot;Instituto Naci…</td><td>&quot;I259&quot;</td><td>634</td><td>8.525237</td><td>174</td><td>23</td><td>1</td><td>4747</td><td>0.133558</td><td>1</td><td>2801</td><td>0.226348</td><td>1</td><td>2580</td><td>0.245736</td><td>1</td><td>2552</td><td>0.248433</td><td>156</td><td>4985</td><td>0.127182</td></tr><tr><td>2001</td><td>112103</td><td>&quot;Instituto Naci…</td><td>&quot;Z136&quot;</td><td>207</td><td>2.811594</td><td>28</td><td>2</td><td>1</td><td>938</td><td>0.220682</td><td>1</td><td>525</td><td>0.394286</td><td>1</td><td>620</td><td>0.333871</td><td>1</td><td>524</td><td>0.395038</td><td>2</td><td>4985</td><td>0.041525</td></tr><tr><td>2001</td><td>112103</td><td>&quot;Instituto Naci…</td><td>&quot;D381&quot;</td><td>197</td><td>8.781726</td><td>61</td><td>7</td><td>1</td><td>586</td><td>0.336177</td><td>1</td><td>470</td><td>0.419149</td><td>1</td><td>313</td><td>0.629393</td><td>1</td><td>435</td><td>0.452874</td><td>190</td><td>4985</td><td>0.039519</td></tr><tr><td>2001</td><td>112103</td><td>&quot;Instituto Naci…</td><td>&quot;J90X&quot;</td><td>187</td><td>11.053476</td><td>54</td><td>9</td><td>1</td><td>1396</td><td>0.133954</td><td>1</td><td>1182</td><td>0.158206</td><td>1</td><td>401</td><td>0.466334</td><td>1</td><td>995</td><td>0.18794</td><td>89</td><td>4985</td><td>0.037513</td></tr><tr><td>2001</td><td>112103</td><td>&quot;Instituto Naci…</td><td>&quot;C349&quot;</td><td>181</td><td>12.983425</td><td>37</td><td>22</td><td>1</td><td>2017</td><td>0.089737</td><td>1</td><td>1338</td><td>0.135277</td><td>1</td><td>860</td><td>0.210465</td><td>1</td><td>1059</td><td>0.170916</td><td>211</td><td>4985</td><td>0.036309</td></tr><tr><td>2001</td><td>112103</td><td>&quot;Instituto Naci…</td><td>&quot;J459&quot;</td><td>126</td><td>7.722222</td><td>13</td><td>1</td><td>1</td><td>3726</td><td>0.033816</td><td>1</td><td>2956</td><td>0.042625</td><td>1</td><td>896</td><td>0.140625</td><td>1</td><td>2098</td><td>0.060057</td><td>99</td><td>4985</td><td>0.025276</td></tr><tr><td>2001</td><td>112103</td><td>&quot;Instituto Naci…</td><td>&quot;J47X&quot;</td><td>117</td><td>10.74359</td><td>13</td><td>1</td><td>1</td><td>591</td><td>0.19797</td><td>1</td><td>501</td><td>0.233533</td><td>1</td><td>207</td><td>0.565217</td><td>1</td><td>456</td><td>0.256579</td><td>98</td><td>4985</td><td>0.02347</td></tr><tr><td>2001</td><td>112103</td><td>&quot;Instituto Naci…</td><td>&quot;I350&quot;</td><td>85</td><td>9.0</td><td>30</td><td>1</td><td>1</td><td>500</td><td>0.17</td><td>1</td><td>371</td><td>0.229111</td><td>1</td><td>214</td><td>0.397196</td><td>1</td><td>355</td><td>0.239437</td><td>148</td><td>4985</td><td>0.017051</td></tr><tr><td>2001</td><td>112103</td><td>&quot;Instituto Naci…</td><td>&quot;R042&quot;</td><td>75</td><td>14.026667</td><td>18</td><td>6</td><td>1</td><td>579</td><td>0.129534</td><td>1</td><td>481</td><td>0.155925</td><td>1</td><td>173</td><td>0.433526</td><td>1</td><td>375</td><td>0.2</td><td>28</td><td>4985</td><td>0.015045</td></tr><tr><td>2001</td><td>112103</td><td>&quot;Instituto Naci…</td><td>&quot;J869&quot;</td><td>69</td><td>14.927536</td><td>20</td><td>4</td><td>1</td><td>418</td><td>0.165072</td><td>1</td><td>354</td><td>0.194915</td><td>1</td><td>133</td><td>0.518797</td><td>1</td><td>324</td><td>0.212963</td><td>90</td><td>4985</td><td>0.013842</td></tr><tr><td>2001</td><td>112103</td><td>&quot;Instituto Naci…</td><td>&quot;J931&quot;</td><td>69</td><td>7.405797</td><td>19</td><td>0</td><td>1</td><td>378</td><td>0.18254</td><td>1</td><td>302</td><td>0.228477</td><td>1</td><td>145</td><td>0.475862</td><td>1</td><td>281</td><td>0.245552</td><td>88</td><td>4985</td><td>0.013842</td></tr><tr><td>2001</td><td>112103</td><td>&quot;Instituto Naci…</td><td>&quot;I050&quot;</td><td>61</td><td>15.065574</td><td>23</td><td>1</td><td>1</td><td>310</td><td>0.196774</td><td>1</td><td>238</td><td>0.256303</td><td>1</td><td>133</td><td>0.458647</td><td>1</td><td>232</td><td>0.262931</td><td>169</td><td>4985</td><td>0.012237</td></tr><tr><td>&hellip;</td><td>&hellip;</td><td>&hellip;</td><td>&hellip;</td><td>&hellip;</td><td>&hellip;</td><td>&hellip;</td><td>&hellip;</td><td>&hellip;</td><td>&hellip;</td><td>&hellip;</td><td>&hellip;</td><td>&hellip;</td><td>&hellip;</td><td>&hellip;</td><td>&hellip;</td><td>&hellip;</td><td>&hellip;</td><td>&hellip;</td><td>&hellip;</td><td>&hellip;</td><td>&hellip;</td><td>&hellip;</td></tr><tr><td>2020</td><td>112103</td><td>&quot;Instituto Naci…</td><td>&quot;D167&quot;</td><td>3</td><td>6.333333</td><td>3</td><td>0</td><td>1</td><td>18</td><td>0.166667</td><td>1</td><td>8</td><td>0.375</td><td>1</td><td>13</td><td>0.230769</td><td>1</td><td>8</td><td>0.375</td><td>266</td><td>2848</td><td>0.001053</td></tr><tr><td>2020</td><td>112103</td><td>&quot;Instituto Naci…</td><td>&quot;C781&quot;</td><td>3</td><td>4.666667</td><td>2</td><td>0</td><td>1</td><td>14</td><td>0.214286</td><td>1</td><td>9</td><td>0.333333</td><td>1</td><td>8</td><td>0.375</td><td>1</td><td>8</td><td>0.375</td><td>283</td><td>2848</td><td>0.001053</td></tr><tr><td>2020</td><td>112103</td><td>&quot;Instituto Naci…</td><td>&quot;C37X&quot;</td><td>3</td><td>7.666667</td><td>2</td><td>0</td><td>1</td><td>23</td><td>0.130435</td><td>1</td><td>11</td><td>0.272727</td><td>1</td><td>15</td><td>0.2</td><td>1</td><td>11</td><td>0.272727</td><td>295</td><td>2848</td><td>0.001053</td></tr><tr><td>2020</td><td>112103</td><td>&quot;Instituto Naci…</td><td>&quot;I361&quot;</td><td>3</td><td>17.333333</td><td>1</td><td>0</td><td>1</td><td>8</td><td>0.375</td><td>1</td><td>5</td><td>0.6</td><td>1</td><td>6</td><td>0.5</td><td>1</td><td>5</td><td>0.6</td><td>203</td><td>2848</td><td>0.001053</td></tr><tr><td>2020</td><td>112103</td><td>&quot;Instituto Naci…</td><td>&quot;I360&quot;</td><td>2</td><td>9.5</td><td>2</td><td>0</td><td>1</td><td>2</td><td>1.0</td><td>1</td><td>2</td><td>1.0</td><td>1</td><td>2</td><td>1.0</td><td>1</td><td>2</td><td>1.0</td><td>204</td><td>2848</td><td>0.000702</td></tr><tr><td>2020</td><td>112103</td><td>&quot;Instituto Naci…</td><td>&quot;I233&quot;</td><td>2</td><td>11.5</td><td>2</td><td>0</td><td>1</td><td>2</td><td>1.0</td><td>1</td><td>2</td><td>1.0</td><td>1</td><td>2</td><td>1.0</td><td>1</td><td>2</td><td>1.0</td><td>227</td><td>2848</td><td>0.000702</td></tr><tr><td>2020</td><td>112103</td><td>&quot;Instituto Naci…</td><td>&quot;I062&quot;</td><td>2</td><td>14.5</td><td>2</td><td>1</td><td>1</td><td>8</td><td>0.25</td><td>1</td><td>6</td><td>0.333333</td><td>1</td><td>4</td><td>0.5</td><td>1</td><td>5</td><td>0.4</td><td>242</td><td>2848</td><td>0.000702</td></tr><tr><td>2020</td><td>112103</td><td>&quot;Instituto Naci…</td><td>&quot;I715&quot;</td><td>2</td><td>6.0</td><td>1</td><td>1</td><td>1</td><td>10</td><td>0.2</td><td>1</td><td>7</td><td>0.285714</td><td>1</td><td>5</td><td>0.4</td><td>1</td><td>6</td><td>0.333333</td><td>161</td><td>2848</td><td>0.000702</td></tr><tr><td>2020</td><td>112103</td><td>&quot;Instituto Naci…</td><td>&quot;C457&quot;</td><td>2</td><td>8.0</td><td>1</td><td>0</td><td>1</td><td>5</td><td>0.4</td><td>1</td><td>5</td><td>0.4</td><td>1</td><td>2</td><td>1.0</td><td>1</td><td>4</td><td>0.5</td><td>288</td><td>2848</td><td>0.000702</td></tr><tr><td>2020</td><td>112103</td><td>&quot;Instituto Naci…</td><td>&quot;M348&quot;</td><td>2</td><td>31.5</td><td>0</td><td>0</td><td>1</td><td>10</td><td>0.2</td><td>1</td><td>5</td><td>0.4</td><td>1</td><td>7</td><td>0.285714</td><td>1</td><td>3</td><td>0.666667</td><td>81</td><td>2848</td><td>0.000702</td></tr><tr><td>2020</td><td>112103</td><td>&quot;Instituto Naci…</td><td>&quot;Q766&quot;</td><td>1</td><td>2.0</td><td>1</td><td>0</td><td>1</td><td>3</td><td>0.333333</td><td>1</td><td>1</td><td>1.0</td><td>1</td><td>3</td><td>0.333333</td><td>1</td><td>1</td><td>1.0</td><td>54</td><td>2848</td><td>0.000351</td></tr><tr><td>2020</td><td>112103</td><td>&quot;Instituto Naci…</td><td>&quot;D157&quot;</td><td>1</td><td>3.0</td><td>1</td><td>0</td><td>1</td><td>5</td><td>0.2</td><td>1</td><td>2</td><td>0.5</td><td>1</td><td>4</td><td>0.25</td><td>1</td><td>2</td><td>0.5</td><td>267</td><td>2848</td><td>0.000351</td></tr></tbody></table></div>"
      ],
      "text/plain": [
       "shape: (1_150, 23)\n",
       "┌──────────┬────────────┬────────────┬───────┬───┬────────────┬────────────┬────────────┬────────────┐\n",
       "│ ANO_EGRE ┆ ESTABLECIM ┆ GLOSA_ESTA ┆ DIAG1 ┆ … ┆ %_grd_n_eg ┆ ranking_in ┆ total_inte ┆ %_interno_ │\n",
       "│ SO       ┆ IENTO_SALU ┆ BLECIMIENT ┆ ---   ┆   ┆ resos      ┆ terno_n_eg ┆ rno_n_egre ┆ n_egresos  │\n",
       "│ ---      ┆ D          ┆ O_SALUD    ┆ str   ┆   ┆ ---        ┆ resos      ┆ sos        ┆ ---        │\n",
       "│ i64      ┆ ---        ┆ ---        ┆       ┆   ┆ f64        ┆ ---        ┆ ---        ┆ f64        │\n",
       "│          ┆ i64        ┆ str        ┆       ┆   ┆            ┆ u32        ┆ u32        ┆            │\n",
       "╞══════════╪════════════╪════════════╪═══════╪═══╪════════════╪════════════╪════════════╪════════════╡\n",
       "│ 2001     ┆ 112103     ┆ Instituto  ┆ I259  ┆ … ┆ 0.248433   ┆ 156        ┆ 4985       ┆ 0.127182   │\n",
       "│          ┆            ┆ Nacional   ┆       ┆   ┆            ┆            ┆            ┆            │\n",
       "│          ┆            ┆ de Enferme ┆       ┆   ┆            ┆            ┆            ┆            │\n",
       "│          ┆            ┆ dad…       ┆       ┆   ┆            ┆            ┆            ┆            │\n",
       "│ 2001     ┆ 112103     ┆ Instituto  ┆ Z136  ┆ … ┆ 0.395038   ┆ 2          ┆ 4985       ┆ 0.041525   │\n",
       "│          ┆            ┆ Nacional   ┆       ┆   ┆            ┆            ┆            ┆            │\n",
       "│          ┆            ┆ de Enferme ┆       ┆   ┆            ┆            ┆            ┆            │\n",
       "│          ┆            ┆ dad…       ┆       ┆   ┆            ┆            ┆            ┆            │\n",
       "│ 2001     ┆ 112103     ┆ Instituto  ┆ D381  ┆ … ┆ 0.452874   ┆ 190        ┆ 4985       ┆ 0.039519   │\n",
       "│          ┆            ┆ Nacional   ┆       ┆   ┆            ┆            ┆            ┆            │\n",
       "│          ┆            ┆ de Enferme ┆       ┆   ┆            ┆            ┆            ┆            │\n",
       "│          ┆            ┆ dad…       ┆       ┆   ┆            ┆            ┆            ┆            │\n",
       "│ 2001     ┆ 112103     ┆ Instituto  ┆ J90X  ┆ … ┆ 0.18794    ┆ 89         ┆ 4985       ┆ 0.037513   │\n",
       "│          ┆            ┆ Nacional   ┆       ┆   ┆            ┆            ┆            ┆            │\n",
       "│          ┆            ┆ de Enferme ┆       ┆   ┆            ┆            ┆            ┆            │\n",
       "│          ┆            ┆ dad…       ┆       ┆   ┆            ┆            ┆            ┆            │\n",
       "│ …        ┆ …          ┆ …          ┆ …     ┆ … ┆ …          ┆ …          ┆ …          ┆ …          │\n",
       "│ 2020     ┆ 112103     ┆ Instituto  ┆ C457  ┆ … ┆ 0.5        ┆ 288        ┆ 2848       ┆ 0.000702   │\n",
       "│          ┆            ┆ Nacional   ┆       ┆   ┆            ┆            ┆            ┆            │\n",
       "│          ┆            ┆ de Enferme ┆       ┆   ┆            ┆            ┆            ┆            │\n",
       "│          ┆            ┆ dad…       ┆       ┆   ┆            ┆            ┆            ┆            │\n",
       "│ 2020     ┆ 112103     ┆ Instituto  ┆ M348  ┆ … ┆ 0.666667   ┆ 81         ┆ 2848       ┆ 0.000702   │\n",
       "│          ┆            ┆ Nacional   ┆       ┆   ┆            ┆            ┆            ┆            │\n",
       "│          ┆            ┆ de Enferme ┆       ┆   ┆            ┆            ┆            ┆            │\n",
       "│          ┆            ┆ dad…       ┆       ┆   ┆            ┆            ┆            ┆            │\n",
       "│ 2020     ┆ 112103     ┆ Instituto  ┆ Q766  ┆ … ┆ 1.0        ┆ 54         ┆ 2848       ┆ 0.000351   │\n",
       "│          ┆            ┆ Nacional   ┆       ┆   ┆            ┆            ┆            ┆            │\n",
       "│          ┆            ┆ de Enferme ┆       ┆   ┆            ┆            ┆            ┆            │\n",
       "│          ┆            ┆ dad…       ┆       ┆   ┆            ┆            ┆            ┆            │\n",
       "│ 2020     ┆ 112103     ┆ Instituto  ┆ D157  ┆ … ┆ 0.5        ┆ 267        ┆ 2848       ┆ 0.000351   │\n",
       "│          ┆            ┆ Nacional   ┆       ┆   ┆            ┆            ┆            ┆            │\n",
       "│          ┆            ┆ de Enferme ┆       ┆   ┆            ┆            ┆            ┆            │\n",
       "│          ┆            ┆ dad…       ┆       ┆   ┆            ┆            ┆            ┆            │\n",
       "└──────────┴────────────┴────────────┴───────┴───┴────────────┴────────────┴────────────┴────────────┘"
      ]
     },
     "execution_count": 52,
     "metadata": {},
     "output_type": "execute_result"
    }
   ],
   "source": [
    "diags_mas_relevantes = resultados_torax.filter(pl.col(\"ranking_nacionales_n_egresos\") == 1).sort(\n",
    "    by=[\"ANO_EGRESO\", \"n_egresos\", \"n_int_q\"], descending=[False, True, True]\n",
    ")"
   ]
  },
  {
   "cell_type": "code",
   "execution_count": 64,
   "metadata": {},
   "outputs": [],
   "source": []
  },
  {
   "cell_type": "code",
   "execution_count": 65,
   "metadata": {},
   "outputs": [
    {
     "data": {
      "text/html": [
       "<div><style>\n",
       ".dataframe > thead > tr > th,\n",
       ".dataframe > tbody > tr > td {\n",
       "  text-align: right;\n",
       "}\n",
       "</style>\n",
       "<small>shape: (39873, 7)</small><table border=\"1\" class=\"dataframe\"><thead><tr><th>Versión</th><th>Código</th><th>Descripción</th><th>Categoría</th><th>Sección</th><th>Capítulo</th><th>CodigoEgresos</th></tr><tr><td>str</td><td>str</td><td>str</td><td>str</td><td>str</td><td>str</td><td>str</td></tr></thead><tbody><tr><td>&quot;CIE-v2013&quot;</td><td>&quot;A00&quot;</td><td>&quot;Cólera&quot;</td><td>&quot;A00 CÓLERA&quot;</td><td>&quot;A00-A09  ENFER…</td><td>&quot;Cap.01  CIERTA…</td><td>&quot;A00X&quot;</td></tr><tr><td>&quot;CIE-v2013&quot;</td><td>&quot;A00.0&quot;</td><td>&quot;Cólera debido …</td><td>&quot;A00 CÓLERA&quot;</td><td>&quot;A00-A09  ENFER…</td><td>&quot;Cap.01  CIERTA…</td><td>&quot;A000&quot;</td></tr><tr><td>&quot;CIE-v2013&quot;</td><td>&quot;A00.1&quot;</td><td>&quot;Cólera debido …</td><td>&quot;A00 CÓLERA&quot;</td><td>&quot;A00-A09  ENFER…</td><td>&quot;Cap.01  CIERTA…</td><td>&quot;A001&quot;</td></tr><tr><td>&quot;CIE-v2013&quot;</td><td>&quot;A00.9&quot;</td><td>&quot;Cólera, no esp…</td><td>&quot;A00 CÓLERA&quot;</td><td>&quot;A00-A09  ENFER…</td><td>&quot;Cap.01  CIERTA…</td><td>&quot;A009&quot;</td></tr><tr><td>&quot;CIE-v2013&quot;</td><td>&quot;A01&quot;</td><td>&quot;Fiebres tifoid…</td><td>&quot;A01 FIEBRES TI…</td><td>&quot;A00-A09  ENFER…</td><td>&quot;Cap.01  CIERTA…</td><td>&quot;A01X&quot;</td></tr><tr><td>&quot;CIE-v2013&quot;</td><td>&quot;A01.0&quot;</td><td>&quot;Fiebre tifoide…</td><td>&quot;A01 FIEBRES TI…</td><td>&quot;A00-A09  ENFER…</td><td>&quot;Cap.01  CIERTA…</td><td>&quot;A010&quot;</td></tr><tr><td>&quot;CIE-v2013&quot;</td><td>&quot;A01.1&quot;</td><td>&quot;Fiebre paratif…</td><td>&quot;A01 FIEBRES TI…</td><td>&quot;A00-A09  ENFER…</td><td>&quot;Cap.01  CIERTA…</td><td>&quot;A011&quot;</td></tr><tr><td>&quot;CIE-v2013&quot;</td><td>&quot;A01.2&quot;</td><td>&quot;Fiebre paratif…</td><td>&quot;A01 FIEBRES TI…</td><td>&quot;A00-A09  ENFER…</td><td>&quot;Cap.01  CIERTA…</td><td>&quot;A012&quot;</td></tr><tr><td>&quot;CIE-v2013&quot;</td><td>&quot;A01.3&quot;</td><td>&quot;Fiebre paratif…</td><td>&quot;A01 FIEBRES TI…</td><td>&quot;A00-A09  ENFER…</td><td>&quot;Cap.01  CIERTA…</td><td>&quot;A013&quot;</td></tr><tr><td>&quot;CIE-v2013&quot;</td><td>&quot;A01.4&quot;</td><td>&quot;Fiebre paratif…</td><td>&quot;A01 FIEBRES TI…</td><td>&quot;A00-A09  ENFER…</td><td>&quot;Cap.01  CIERTA…</td><td>&quot;A014&quot;</td></tr><tr><td>&quot;CIE-v2013&quot;</td><td>&quot;A02&quot;</td><td>&quot;Otras infeccio…</td><td>&quot;A02 OTRAS INFE…</td><td>&quot;A00-A09  ENFER…</td><td>&quot;Cap.01  CIERTA…</td><td>&quot;A02X&quot;</td></tr><tr><td>&quot;CIE-v2013&quot;</td><td>&quot;A02.0&quot;</td><td>&quot;Enteritis debi…</td><td>&quot;A02 OTRAS INFE…</td><td>&quot;A00-A09  ENFER…</td><td>&quot;Cap.01  CIERTA…</td><td>&quot;A020&quot;</td></tr><tr><td>&hellip;</td><td>&hellip;</td><td>&hellip;</td><td>&hellip;</td><td>&hellip;</td><td>&hellip;</td><td>&hellip;</td></tr><tr><td>&quot;CIE-v2013&quot;</td><td>&quot;Z98.0&quot;</td><td>&quot;Estado de deri…</td><td>&quot;Z98 OTROS ESTA…</td><td>&quot;Z77-Z99  PERSO…</td><td>&quot;Cap.21  FACTOR…</td><td>&quot;Z980&quot;</td></tr><tr><td>&quot;CIE-v2013&quot;</td><td>&quot;Z98.1&quot;</td><td>&quot;Estado de artr…</td><td>&quot;Z98 OTROS ESTA…</td><td>&quot;Z77-Z99  PERSO…</td><td>&quot;Cap.21  FACTOR…</td><td>&quot;Z981&quot;</td></tr><tr><td>&quot;CIE-v2013&quot;</td><td>&quot;Z98.2&quot;</td><td>&quot;Presencia de d…</td><td>&quot;Z98 OTROS ESTA…</td><td>&quot;Z77-Z99  PERSO…</td><td>&quot;Cap.21  FACTOR…</td><td>&quot;Z982&quot;</td></tr><tr><td>&quot;CIE-v2013&quot;</td><td>&quot;Z98.8&quot;</td><td>&quot;Otros estados …</td><td>&quot;Z98 OTROS ESTA…</td><td>&quot;Z77-Z99  PERSO…</td><td>&quot;Cap.21  FACTOR…</td><td>&quot;Z988&quot;</td></tr><tr><td>&quot;CIE-v2013&quot;</td><td>&quot;Z99&quot;</td><td>&quot;Dependencia de…</td><td>&quot;Z99 DEPENDENCI…</td><td>&quot;Z77-Z99  PERSO…</td><td>&quot;Cap.21  FACTOR…</td><td>&quot;Z99X&quot;</td></tr><tr><td>&quot;CIE-v2013&quot;</td><td>&quot;Z99.0&quot;</td><td>&quot;Dependencia de…</td><td>&quot;Z99 DEPENDENCI…</td><td>&quot;Z77-Z99  PERSO…</td><td>&quot;Cap.21  FACTOR…</td><td>&quot;Z990&quot;</td></tr><tr><td>&quot;CIE-v2013&quot;</td><td>&quot;Z99.1&quot;</td><td>&quot;Dependencia de…</td><td>&quot;Z99 DEPENDENCI…</td><td>&quot;Z77-Z99  PERSO…</td><td>&quot;Cap.21  FACTOR…</td><td>&quot;Z991&quot;</td></tr><tr><td>&quot;CIE-v2013&quot;</td><td>&quot;Z99.2&quot;</td><td>&quot;Dependencia de…</td><td>&quot;Z99 DEPENDENCI…</td><td>&quot;Z77-Z99  PERSO…</td><td>&quot;Cap.21  FACTOR…</td><td>&quot;Z992&quot;</td></tr><tr><td>&quot;CIE-v2013&quot;</td><td>&quot;Z99.3&quot;</td><td>&quot;Dependencia de…</td><td>&quot;Z99 DEPENDENCI…</td><td>&quot;Z77-Z99  PERSO…</td><td>&quot;Cap.21  FACTOR…</td><td>&quot;Z993&quot;</td></tr><tr><td>&quot;CIE-v2013&quot;</td><td>&quot;Z99.4&quot;</td><td>&quot;Dependencia de…</td><td>&quot;Z99 DEPENDENCI…</td><td>&quot;Z77-Z99  PERSO…</td><td>&quot;Cap.21  FACTOR…</td><td>&quot;Z994&quot;</td></tr><tr><td>&quot;CIE-v2013&quot;</td><td>&quot;Z99.8&quot;</td><td>&quot;Dependencia de…</td><td>&quot;Z99 DEPENDENCI…</td><td>&quot;Z77-Z99  PERSO…</td><td>&quot;Cap.21  FACTOR…</td><td>&quot;Z998&quot;</td></tr><tr><td>&quot;CIE-v2013&quot;</td><td>&quot;Z99.9&quot;</td><td>&quot;Dependencia de…</td><td>&quot;Z99 DEPENDENCI…</td><td>&quot;Z77-Z99  PERSO…</td><td>&quot;Cap.21  FACTOR…</td><td>&quot;Z999&quot;</td></tr></tbody></table></div>"
      ],
      "text/plain": [
       "shape: (39_873, 7)\n",
       "┌───────────┬────────┬───────────────┬───────────────┬───────────────┬──────────────┬──────────────┐\n",
       "│ Versión   ┆ Código ┆ Descripción   ┆ Categoría     ┆ Sección       ┆ Capítulo     ┆ CodigoEgreso │\n",
       "│ ---       ┆ ---    ┆ ---           ┆ ---           ┆ ---           ┆ ---          ┆ s            │\n",
       "│ str       ┆ str    ┆ str           ┆ str           ┆ str           ┆ str          ┆ ---          │\n",
       "│           ┆        ┆               ┆               ┆               ┆              ┆ str          │\n",
       "╞═══════════╪════════╪═══════════════╪═══════════════╪═══════════════╪══════════════╪══════════════╡\n",
       "│ CIE-v2013 ┆ A00    ┆ Cólera        ┆ A00 CÓLERA    ┆ A00-A09       ┆ Cap.01       ┆ A00X         │\n",
       "│           ┆        ┆               ┆               ┆ ENFERMEDADES  ┆ CIERTAS      ┆              │\n",
       "│           ┆        ┆               ┆               ┆ INFECCIOSA…   ┆ ENFERMEDADES ┆              │\n",
       "│           ┆        ┆               ┆               ┆               ┆ INF…         ┆              │\n",
       "│ CIE-v2013 ┆ A00.0  ┆ Cólera debido ┆ A00 CÓLERA    ┆ A00-A09       ┆ Cap.01       ┆ A000         │\n",
       "│           ┆        ┆ a Vibrio      ┆               ┆ ENFERMEDADES  ┆ CIERTAS      ┆              │\n",
       "│           ┆        ┆ cholerae …    ┆               ┆ INFECCIOSA…   ┆ ENFERMEDADES ┆              │\n",
       "│           ┆        ┆               ┆               ┆               ┆ INF…         ┆              │\n",
       "│ CIE-v2013 ┆ A00.1  ┆ Cólera debido ┆ A00 CÓLERA    ┆ A00-A09       ┆ Cap.01       ┆ A001         │\n",
       "│           ┆        ┆ a Vibrio      ┆               ┆ ENFERMEDADES  ┆ CIERTAS      ┆              │\n",
       "│           ┆        ┆ cholerae …    ┆               ┆ INFECCIOSA…   ┆ ENFERMEDADES ┆              │\n",
       "│           ┆        ┆               ┆               ┆               ┆ INF…         ┆              │\n",
       "│ CIE-v2013 ┆ A00.9  ┆ Cólera, no    ┆ A00 CÓLERA    ┆ A00-A09       ┆ Cap.01       ┆ A009         │\n",
       "│           ┆        ┆ especificado  ┆               ┆ ENFERMEDADES  ┆ CIERTAS      ┆              │\n",
       "│           ┆        ┆               ┆               ┆ INFECCIOSA…   ┆ ENFERMEDADES ┆              │\n",
       "│           ┆        ┆               ┆               ┆               ┆ INF…         ┆              │\n",
       "│ …         ┆ …      ┆ …             ┆ …             ┆ …             ┆ …            ┆ …            │\n",
       "│ CIE-v2013 ┆ Z99.3  ┆ Dependencia   ┆ Z99           ┆ Z77-Z99       ┆ Cap.21       ┆ Z993         │\n",
       "│           ┆        ┆ de silla de   ┆ DEPENDENCIA   ┆ PERSONAS CON  ┆ FACTORES QUE ┆              │\n",
       "│           ┆        ┆ ruedas        ┆ DE MÁQUINAS Y ┆ RIESGOS PO…   ┆ INFLUYEN EN… ┆              │\n",
       "│           ┆        ┆               ┆ DI…           ┆               ┆              ┆              │\n",
       "│ CIE-v2013 ┆ Z99.4  ┆ Dependencia   ┆ Z99           ┆ Z77-Z99       ┆ Cap.21       ┆ Z994         │\n",
       "│           ┆        ┆ de corazón    ┆ DEPENDENCIA   ┆ PERSONAS CON  ┆ FACTORES QUE ┆              │\n",
       "│           ┆        ┆ artificia…    ┆ DE MÁQUINAS Y ┆ RIESGOS PO…   ┆ INFLUYEN EN… ┆              │\n",
       "│           ┆        ┆               ┆ DI…           ┆               ┆              ┆              │\n",
       "│ CIE-v2013 ┆ Z99.8  ┆ Dependencia   ┆ Z99           ┆ Z77-Z99       ┆ Cap.21       ┆ Z998         │\n",
       "│           ┆        ┆ de otras      ┆ DEPENDENCIA   ┆ PERSONAS CON  ┆ FACTORES QUE ┆              │\n",
       "│           ┆        ┆ máquinas y …  ┆ DE MÁQUINAS Y ┆ RIESGOS PO…   ┆ INFLUYEN EN… ┆              │\n",
       "│           ┆        ┆               ┆ DI…           ┆               ┆              ┆              │\n",
       "│ CIE-v2013 ┆ Z99.9  ┆ Dependencia   ┆ Z99           ┆ Z77-Z99       ┆ Cap.21       ┆ Z999         │\n",
       "│           ┆        ┆ de máquina y  ┆ DEPENDENCIA   ┆ PERSONAS CON  ┆ FACTORES QUE ┆              │\n",
       "│           ┆        ┆ disposi…      ┆ DE MÁQUINAS Y ┆ RIESGOS PO…   ┆ INFLUYEN EN… ┆              │\n",
       "│           ┆        ┆               ┆ DI…           ┆               ┆              ┆              │\n",
       "└───────────┴────────┴───────────────┴───────────────┴───────────────┴──────────────┴──────────────┘"
      ]
     },
     "execution_count": 65,
     "metadata": {},
     "output_type": "execute_result"
    }
   ],
   "source": [
    "cie\n"
   ]
  },
  {
   "cell_type": "code",
   "execution_count": 44,
   "metadata": {},
   "outputs": [],
   "source": [
    "torax = resultados_torax.to_pandas()\n",
    "torax.to_csv(\n",
    "    \"output/ranking_torax_pais/posiciones_torax_polars.csv\",\n",
    "    sep=\";\",\n",
    "    decimal=\".\",\n",
    "    encoding=\"utf-8\",\n",
    "    index=False,\n",
    ")\n"
   ]
  },
  {
   "attachments": {},
   "cell_type": "markdown",
   "metadata": {},
   "source": [
    "# Analisis Sociodemográfico"
   ]
  },
  {
   "cell_type": "code",
   "execution_count": 8,
   "metadata": {},
   "outputs": [],
   "source": [
    "desglose_sociodemografico = [\n",
    "    \"ANO_EGRESO\",\n",
    "    \"REGION_RESIDENCIA\",\n",
    "    \"GLOSA_REGION_RESIDENCIA\",\n",
    "    \"region_pais\",\n",
    "    \"COMUNA_RESIDENCIA\",\n",
    "    \"GLOSA_COMUNA_RESIDENCIA\",\n",
    "    \"comuna_region_pais\",\n",
    "    \"DIAG1\",\n",
    "]\n",
    "\n",
    "variables_a_analizar = [\n",
    "    \"DIAG1\",\n",
    "    \"SEXO\",\n",
    "    \"EDAD_CATEGORIA\",\n",
    "    \"PUEBLO_ORIGINARIO\",\n",
    "    \"GLOSA_PAIS_ORIGEN\",\n",
    "    \"PREVISION\",\n",
    "    \"BENEFICIARIO\",\n",
    "]\n"
   ]
  },
  {
   "cell_type": "code",
   "execution_count": 9,
   "metadata": {},
   "outputs": [],
   "source": [
    "MAPPING_SOCIODEMOGRAFICO = {\n",
    "    \"GLOSA_REGION_RESIDENCIA\": {\n",
    "        \"Del Libertador B. O'Higgins\": \"del Libertador General Bernardo O'Higgins\",\n",
    "        \"De Aisén del Gral. C. Ibáñez del Campo\": \"Aysén del General Carlos Ibáñez del Campo\",\n",
    "    },\n",
    "    \"SEXO\": {1: \"Hombre\", 2: \"Mujer\", 3: \"Intersex\", 99: \"Desconocido\"},\n",
    "    \"PUEBLO_ORIGINARIO\": {\n",
    "        1: \"MAPUCHE\",\n",
    "        2: \"AYMARA\",\n",
    "        3: \"RAPA NUI (PASCUENSE)\",\n",
    "        4: \"LICAN ANTAI\",\n",
    "        5: \"QUECHUA\",\n",
    "        6: \"COLLA\",\n",
    "        7: \"DIAGUITA\",\n",
    "        8: \"KAWÉSQAR\",\n",
    "        9: \"YAGÁN (YÁMANA)\",\n",
    "        10: \"OTRO (ESPECIFICAR)\",\n",
    "        96: \"NINGUNO\",\n",
    "    },\n",
    "    \"PREVISION\": {\n",
    "        1: \"FONASA\",\n",
    "        2: \"ISAPRE\",\n",
    "        3: \"CAPREDENA\",\n",
    "        4: \"DIPRECA\",\n",
    "        5: \"SISA\",\n",
    "        96: \"NINGUNA\",\n",
    "        99: \"DESCONOCIDO\",\n",
    "    },\n",
    "}\n",
    "\n",
    "\n",
    "def mappear_columnas(df, dict_mapeo):\n",
    "    tmp = df.clone()\n",
    "\n",
    "    for variable, dict_cambio in dict_mapeo.items():\n",
    "        tmp = tmp.with_columns(pl.col(variable).map_dict(dict_cambio, default=pl.col(variable)))\n",
    "\n",
    "    return tmp\n",
    "\n",
    "\n",
    "def agregar_columnas_localizacion(df):\n",
    "    tmp = df.with_columns(\n",
    "        ((\"Región \" + pl.col(\"GLOSA_REGION_RESIDENCIA\") + \", Chile\").alias(\"region_pais\"))\n",
    "    )\n",
    "\n",
    "    tmp = tmp.with_columns(\n",
    "        (pl.col(\"GLOSA_COMUNA_RESIDENCIA\") + \", \" + pl.col(\"region_pais\")).alias(\n",
    "            \"comuna_region_pais\"\n",
    "        )\n",
    "    )\n",
    "\n",
    "    return tmp\n",
    "\n",
    "\n",
    "def agregar_categorizacion_edad(df):\n",
    "    tmp = df.with_columns(\n",
    "        (df.get_column(\"EDAD_A_OS\"))\n",
    "        .cut(bins=range(0, 101, 10), maintain_order=True)\n",
    "        .select(pl.col(\"category\").alias(\"EDAD_CATEGORIA\"))\n",
    "    )\n",
    "\n",
    "    return tmp"
   ]
  },
  {
   "cell_type": "code",
   "execution_count": 10,
   "metadata": {},
   "outputs": [],
   "source": [
    "with pl.StringCache():\n",
    "    df_socio = pl.scan_csv(\"input/utf-8/*.csv\", separator=\";\", dtypes=fr.DICT_VARIABLES).filter(\n",
    "        pl.col(\"ESTABLECIMIENTO_SALUD\") == HOSPITAL_A_ANALIZAR\n",
    "    )\n",
    "\n",
    "    df_socio = mappear_columnas(df_socio, MAPPING_SOCIODEMOGRAFICO)\n",
    "    df_socio = agregar_columnas_localizacion(df_socio).collect()\n",
    "    df_socio = agregar_categorizacion_edad(df_socio)"
   ]
  },
  {
   "cell_type": "code",
   "execution_count": 11,
   "metadata": {},
   "outputs": [],
   "source": [
    "dict_resultados = {}\n",
    "\n",
    "for variable in variables_a_analizar:\n",
    "    agrupacion_total = desglose_sociodemografico.copy()\n",
    "    if variable != \"DIAG1\":\n",
    "        agrupacion_total += [variable]\n",
    "\n",
    "    resultado = (\n",
    "        df_socio.groupby(agrupacion_total)\n",
    "        .agg(pl.col(variable).count().alias(\"conteo\"))\n",
    "        .sort([\"ANO_EGRESO\", \"DIAG1\", \"conteo\"], descending=True)\n",
    "        .with_columns(\n",
    "            pl.concat_str(pl.col(desglose_sociodemografico), separator=\"-\").alias(\"llave_id\")\n",
    "        )\n",
    "    )\n",
    "\n",
    "    dict_resultados[variable] = resultado"
   ]
  },
  {
   "cell_type": "code",
   "execution_count": 12,
   "metadata": {},
   "outputs": [],
   "source": [
    "import xlsxwriter\n",
    "\n",
    "with xlsxwriter.Workbook(\"output/distribucion_sociodemografica/distribucion_polars.xlsx\") as f:\n",
    "    for var, df in dict_resultados.items():\n",
    "        df.write_excel(workbook=f, worksheet=var)"
   ]
  },
  {
   "cell_type": "code",
   "execution_count": null,
   "metadata": {},
   "outputs": [],
   "source": []
  }
 ],
 "metadata": {
  "kernelspec": {
   "display_name": "Python 3",
   "language": "python",
   "name": "python3"
  },
  "language_info": {
   "codemirror_mode": {
    "name": "ipython",
    "version": 3
   },
   "file_extension": ".py",
   "mimetype": "text/x-python",
   "name": "python",
   "nbconvert_exporter": "python",
   "pygments_lexer": "ipython3",
   "version": "3.10.9"
  },
  "orig_nbformat": 4
 },
 "nbformat": 4,
 "nbformat_minor": 2
}
