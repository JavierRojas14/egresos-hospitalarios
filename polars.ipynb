{
 "cells": [
  {
   "attachments": {},
   "cell_type": "markdown",
   "metadata": {},
   "source": [
    "# Analisis de Egresos Hospitalarios"
   ]
  },
  {
   "cell_type": "code",
   "execution_count": 6,
   "metadata": {},
   "outputs": [
    {
     "data": {
      "text/plain": [
       "<module 'calculo_metricas' from 'c:\\\\Users\\\\ppizarro\\\\Desktop\\\\Javier Rojas\\\\Javier\\\\trabajo\\\\SSMO\\\\EPH\\\\modulo_gestion\\\\1.analisis_problemas_de_salud\\\\egresos-hospitalarios\\\\calculo_metricas.py'>"
      ]
     },
     "execution_count": 6,
     "metadata": {},
     "output_type": "execute_result"
    }
   ],
   "source": [
    "import importlib\n",
    "\n",
    "import pandas as pd\n",
    "import numpy as np\n",
    "import polars as pl\n",
    "\n",
    "import matplotlib.pyplot as plt\n",
    "import seaborn as sns\n",
    "\n",
    "import lectura_archivos as fr\n",
    "import calculo_metricas as aux\n",
    "\n",
    "from functools import reduce\n",
    "\n",
    "sns.set_style()\n",
    "plt.rcParams[\"figure.figsize\"] = (12, 6)\n",
    "\n",
    "importlib.reload(fr)\n",
    "importlib.reload(aux)"
   ]
  },
  {
   "cell_type": "code",
   "execution_count": 7,
   "metadata": {},
   "outputs": [],
   "source": [
    "HOSPITAL_A_ANALIZAR = 112103  # Este es el Torax"
   ]
  },
  {
   "attachments": {},
   "cell_type": "markdown",
   "metadata": {},
   "source": [
    "## Lectura de archivos\n",
    "\n",
    "- Se leen todos los archivos que estan en input/utf-8. Los archivos estan separados por ;\n",
    "- Se dejan solamente los egresos de los diagnosticos que **SI** tenga el Tórax\n",
    "- Se cambia la codificacion de INTERV_Q de 2 (No, 1 es SI) a 0.\n",
    "- Se cambia la codificacion de CONDICION_EGRESO (orig 1 = Vivo, 2 = Fallecido) de 1 -> 0 y 2 -> 1\n",
    "- Se cambia la codificacion de GLOSA_REGION_RESIDENCIA {\n",
    "                        \"Del Libertador B. O'Higgins\": \"del Libertador General Bernardo O'Higgins\",\n",
    "                        \"De Aisén del Gral. C. Ibáñez del Campo\": \"Aysén del General Carlos Ibáñez del Campo\",\n",
    "                    }"
   ]
  },
  {
   "cell_type": "code",
   "execution_count": 8,
   "metadata": {},
   "outputs": [],
   "source": [
    "df = fr.leer_archivos(HOSPITAL_A_ANALIZAR)\n"
   ]
  },
  {
   "attachments": {},
   "cell_type": "markdown",
   "metadata": {},
   "source": [
    "# Analisis de Egresos Hospitalarios\n",
    "\n",
    "Se calculan las siguientes metricas:\n",
    "\n",
    "- Número de Egresos (n_egresos)\n",
    "- Días de Estada promedio (dias_estada_promedio)\n",
    "- Cantidad de Intervenciones Quirúrgicas (n_int_q)\n",
    "- Cantidad de Muertes (n_muertos)\n",
    "\n",
    "Todas estas metricas estan calculadas a nivel de Año, Establecimiento de Salud y Diagnóstico. Por\n",
    "ejemplo:\n",
    "\n",
    "***\"En el año 2019, el Hospital San José (código XXXXXXX) tuvo XX egresos, con XX dias estada_promedio,\n",
    "con XX intervenciones_quirúrgicas y XX muertos para el diagnóstico A24.4.\"***\n",
    "\n",
    "Este análisis se realizó entre 2001 y 2020 para todos los hospitales/clínicas de Chile."
   ]
  },
  {
   "cell_type": "code",
   "execution_count": 9,
   "metadata": {},
   "outputs": [],
   "source": [
    "\n",
    "\n",
    "AGRUPACION = [\n",
    "    \"ANO_EGRESO\",\n",
    "    \"ESTABLECIMIENTO_SALUD\",\n",
    "    \"GLOSA_ESTABLECIMIENTO_SALUD\",\n",
    "    \"DIAG1\",\n",
    "]\n",
    "\n",
    "metricas = aux.obtener_metricas_egresos(df, AGRUPACION).collect(streaming=True)"
   ]
  },
  {
   "attachments": {},
   "cell_type": "markdown",
   "metadata": {},
   "source": [
    "# Analisis de Estratos"
   ]
  },
  {
   "cell_type": "code",
   "execution_count": 74,
   "metadata": {},
   "outputs": [],
   "source": [
    "variables_a_rankear = [\"n_egresos\"]\n",
    "subgrupo_del_ranking = [\"ANO_EGRESO\", \"DIAG1\"]\n",
    "unir_tablas_por = AGRUPACION\n"
   ]
  },
  {
   "cell_type": "code",
   "execution_count": 75,
   "metadata": {},
   "outputs": [
    {
     "ename": "ComputeError",
     "evalue": "LogicalPlan already failed with error: 'ColumnNotFound(ErrString(\"region_pais\\n\\nError originated just after this operation:\\n WITH_COLUMNS:\\n [col(\\\"INTERV_Q\\\").map(), col(\\\"CONDICION_EGRESO\\\").map(), col(\\\"GLOSA_REGION_RESIDENCIA\\\").map()]\\n  FILTER col(\\\"DIAG1\\\").is_in([Series[DIAG1].alias(\\\"DIAG1\\\")]) FROM\\n  RECHUNK\\n    UNION:\\n    PLAN 0:\\n\\n        CSV SCAN input\\\\utf-8\\\\Egresos_Hospitalarios_2001.csv\\n        PROJECT */37 COLUMNS\\n    PLAN 1:\\n\\n        CSV SCAN input\\\\utf-8\\\\Egresos_Hospitalarios_2002.csv\\n        PROJECT */37 COLUMNS\\n    PLAN 2:\\n\\n        CSV SCAN input\\\\utf-8\\\\Egresos_Hospitalarios_2003.csv\\n        PROJECT */37 COLUMNS\\n    PLAN 3:\\n\\n        CSV SCAN input\\\\utf-8\\\\Egresos_Hospitalarios_2004.csv\\n        PROJECT */37 COLUMNS\\n    PLAN 4:\\n\\n        CSV SCAN input\\\\utf-8\\\\Egresos_Hospitalarios_2005.csv\\n        PROJECT */37 COLUMNS\\n    PLAN 5:\\n\\n        CSV SCAN input\\\\utf-8\\\\Egresos_Hospitalarios_2006.csv\\n        PROJECT */37 COLUMNS\\n    PLAN 6:\\n\\n        CSV SCAN input\\\\utf-8\\\\Egresos_Hospitalarios_2007.csv\\n        PROJECT */37 COLUMNS\\n    PLAN 7:\\n\\n        CSV SCAN input\\\\utf-8\\\\Egresos_Hospitalarios_2008.csv\\n        PROJECT */37 COLUMNS\\n    PLAN 8:\\n\\n        CSV SCAN input\\\\utf-8\\\\Egresos_Hospitalarios_2009.csv\\n        PROJECT */37 COLUMNS\\n    PLAN 9:\\n\\n        CSV SCAN input\\\\utf-8\\\\Egresos_Hospitalarios_2010.csv\\n        PROJECT */37 COLUMNS\\n    PLAN 10:\\n\\n        CSV SCAN input\\\\utf-8\\\\Egresos_Hospitalarios_2011.csv\\n        PROJECT */37 COLUMNS\\n    PLAN 11:\\n\\n        CSV SCAN input\\\\utf-8\\\\Egresos_Hospitalarios_2012.csv\\n        PROJECT */37 COLUMNS\\n    PLAN 12:\\n\\n        CSV SCAN input\\\\utf-8\\\\Egresos_Hospitalarios_2013.csv\\n        PROJECT */37 COLUMNS\\n    PLAN 13:\\n\\n        CSV SCAN input\\\\utf-8\\\\Egresos_Hospitalarios_2014.csv\\n        PROJECT */37 COLUMNS\\n    PLAN 14:\\n\\n        CSV SCAN input\\\\utf-8\\\\Egresos_Hospitalarios_2015.csv\\n        PROJECT */37 COLUMNS\\n    PLAN 15:\\n\\n        CSV SCAN input\\\\utf-8\\\\Egresos_Hospitalarios_2016.csv\\n        PROJECT */37 COLUMNS\\n    PLAN 16:\\n\\n        CSV SCAN input\\\\utf-8\\\\Egresos_Hospitalarios_2017.csv\\n        PROJECT */37 COLUMNS\\n    PLAN 17:\\n\\n        CSV SCAN input\\\\utf-8\\\\Egresos_Hospitalarios_2018.csv\\n        PROJECT */37 COLUMNS\\n    PLAN 18:\\n\\n        CSV SCAN input\\\\utf-8\\\\Egresos_Hospitalarios_2019.csv\\n        PROJECT */37 COLUMNS\\n    PLAN 19:\\n\\n        CSV SCAN input\\\\utf-8\\\\Egresos_Hospitalarios_2020.csv\\n        PROJECT */37 COLUMNS\\n    END UNION\"))'\n\nError originated just after this operation:\nErrorStateSync(Mutex { data: AlreadyEncountered { prev_err_msg: \"ColumnNotFound(ErrString(\\\"region_pais\\\\n\\\\nError originated just after this operation:\\\\n WITH_COLUMNS:\\\\n [col(\\\\\\\"INTERV_Q\\\\\\\").map(), col(\\\\\\\"CONDICION_EGRESO\\\\\\\").map(), col(\\\\\\\"GLOSA_REGION_RESIDENCIA\\\\\\\").map()]\\\\n  FILTER col(\\\\\\\"DIAG1\\\\\\\").is_in([Series[DIAG1].alias(\\\\\\\"DIAG1\\\\\\\")]) FROM\\\\n  RECHUNK\\\\n    UNION:\\\\n    PLAN 0:\\\\n\\\\n        CSV SCAN input\\\\\\\\utf-8\\\\\\\\Egresos_Hospitalarios_2001.csv\\\\n        PROJECT */37 COLUMNS\\\\n    PLAN 1:\\\\n\\\\n        CSV SCAN input\\\\\\\\utf-8\\\\\\\\Egresos_Hospitalarios_2002.csv\\\\n        PROJECT */37 COLUMNS\\\\n    PLAN 2:\\\\n\\\\n        CSV SCAN input\\\\\\\\utf-8\\\\\\\\Egresos_Hospitalarios_2003.csv\\\\n        PROJECT */37 COLUMNS\\\\n    PLAN 3:\\\\n\\\\n        CSV SCAN input\\\\\\\\utf-8\\\\\\\\Egresos_Hospitalarios_2004.csv\\\\n        PROJECT */37 COLUMNS\\\\n    PLAN 4:\\\\n\\\\n        CSV SCAN input\\\\\\\\utf-8\\\\\\\\Egresos_Hospitalarios_2005.csv\\\\n        PROJECT */37 COLUMNS\\\\n    PLAN 5:\\\\n\\\\n        CSV SCAN input\\\\\\\\utf-8\\\\\\\\Egresos_Hospitalarios_2006.csv\\\\n        PROJECT */37 COLUMNS\\\\n    PLAN 6:\\\\n\\\\n        CSV SCAN input\\\\\\\\utf-8\\\\\\\\Egresos_Hospitalarios_2007.csv\\\\n        PROJECT */37 COLUMNS\\\\n    PLAN 7:\\\\n\\\\n        CSV SCAN input\\\\\\\\utf-8\\\\\\\\Egresos_Hospitalarios_2008.csv\\\\n        PROJECT */37 COLUMNS\\\\n    PLAN 8:\\\\n\\\\n        CSV SCAN input\\\\\\\\utf-8\\\\\\\\Egresos_Hospitalarios_2009.csv\\\\n        PROJECT */37 COLUMNS\\\\n    PLAN 9:\\\\n\\\\n        CSV SCAN input\\\\\\\\utf-8\\\\\\\\Egresos_Hospitalarios_2010.csv\\\\n        PROJECT */37 COLUMNS\\\\n    PLAN 10:\\\\n\\\\n        CSV SCAN input\\\\\\\\utf-8\\\\\\\\Egresos_Hospitalarios_2011.csv\\\\n        PROJECT */37 COLUMNS\\\\n    PLAN 11:\\\\n\\\\n        CSV SCAN input\\\\\\\\utf-8\\\\\\\\Egresos_Hospitalarios_2012.csv\\\\n        PROJECT */37 COLUMNS\\\\n    PLAN 12:\\\\n\\\\n        CSV SCAN input\\\\\\\\utf-8\\\\\\\\Egresos_Hospitalarios_2013.csv\\\\n        PROJECT */37 COLUMNS\\\\n    PLAN 13:\\\\n\\\\n        CSV SCAN input\\\\\\\\utf-8\\\\\\\\Egresos_Hospitalarios_2014.csv\\\\n        PROJECT */37 COLUMNS\\\\n    PLAN 14:\\\\n\\\\n        CSV SCAN input\\\\\\\\utf-8\\\\\\\\Egresos_Hospitalarios_2015.csv\\\\n        PROJECT */37 COLUMNS\\\\n    PLAN 15:\\\\n\\\\n        CSV SCAN input\\\\\\\\utf-8\\\\\\\\Egresos_Hospitalarios_2016.csv\\\\n        PROJECT */37 COLUMNS\\\\n    PLAN 16:\\\\n\\\\n        CSV SCAN input\\\\\\\\utf-8\\\\\\\\Egresos_Hospitalarios_2017.csv\\\\n        PROJECT */37 COLUMNS\\\\n    PLAN 17:\\\\n\\\\n        CSV SCAN input\\\\\\\\utf-8\\\\\\\\Egresos_Hospitalarios_2018.csv\\\\n        PROJECT */37 COLUMNS\\\\n    PLAN 18:\\\\n\\\\n        CSV SCAN input\\\\\\\\utf-8\\\\\\\\Egresos_Hospitalarios_2019.csv\\\\n        PROJECT */37 COLUMNS\\\\n    PLAN 19:\\\\n\\\\n        CSV SCAN input\\\\\\\\utf-8\\\\\\\\Egresos_Hospitalarios_2020.csv\\\\n        PROJECT */37 COLUMNS\\\\n    END UNION\\\"))\" }, poisoned: false, .. })\n WITH_COLUMNS:\n [col(\"INTERV_Q\").map(), col(\"CONDICION_EGRESO\").map(), col(\"GLOSA_REGION_RESIDENCIA\").map()]\n  FILTER col(\"DIAG1\").is_in([Series[DIAG1].alias(\"DIAG1\")]) FROM\n  RECHUNK\n    UNION:\n    PLAN 0:\n\n        CSV SCAN input\\utf-8\\Egresos_Hospitalarios_2001.csv\n        PROJECT */37 COLUMNS\n    PLAN 1:\n\n        CSV SCAN input\\utf-8\\Egresos_Hospitalarios_2002.csv\n        PROJECT */37 COLUMNS\n    PLAN 2:\n\n        CSV SCAN input\\utf-8\\Egresos_Hospitalarios_2003.csv\n        PROJECT */37 COLUMNS\n    PLAN 3:\n\n        CSV SCAN input\\utf-8\\Egresos_Hospitalarios_2004.csv\n        PROJECT */37 COLUMNS\n    PLAN 4:\n\n        CSV SCAN input\\utf-8\\Egresos_Hospitalarios_2005.csv\n        PROJECT */37 COLUMNS\n    PLAN 5:\n\n        CSV SCAN input\\utf-8\\Egresos_Hospitalarios_2006.csv\n        PROJECT */37 COLUMNS\n    PLAN 6:\n\n        CSV SCAN input\\utf-8\\Egresos_Hospitalarios_2007.csv\n        PROJECT */37 COLUMNS\n    PLAN 7:\n\n        CSV SCAN input\\utf-8\\Egresos_Hospitalarios_2008.csv\n        PROJECT */37 COLUMNS\n    PLAN 8:\n\n        CSV SCAN input\\utf-8\\Egresos_Hospitalarios_2009.csv\n        PROJECT */37 COLUMNS\n    PLAN 9:\n\n        CSV SCAN input\\utf-8\\Egresos_Hospitalarios_2010.csv\n        PROJECT */37 COLUMNS\n    PLAN 10:\n\n        CSV SCAN input\\utf-8\\Egresos_Hospitalarios_2011.csv\n        PROJECT */37 COLUMNS\n    PLAN 11:\n\n        CSV SCAN input\\utf-8\\Egresos_Hospitalarios_2012.csv\n        PROJECT */37 COLUMNS\n    PLAN 12:\n\n        CSV SCAN input\\utf-8\\Egresos_Hospitalarios_2013.csv\n        PROJECT */37 COLUMNS\n    PLAN 13:\n\n        CSV SCAN input\\utf-8\\Egresos_Hospitalarios_2014.csv\n        PROJECT */37 COLUMNS\n    PLAN 14:\n\n        CSV SCAN input\\utf-8\\Egresos_Hospitalarios_2015.csv\n        PROJECT */37 COLUMNS\n    PLAN 15:\n\n        CSV SCAN input\\utf-8\\Egresos_Hospitalarios_2016.csv\n        PROJECT */37 COLUMNS\n    PLAN 16:\n\n        CSV SCAN input\\utf-8\\Egresos_Hospitalarios_2017.csv\n        PROJECT */37 COLUMNS\n    PLAN 17:\n\n        CSV SCAN input\\utf-8\\Egresos_Hospitalarios_2018.csv\n        PROJECT */37 COLUMNS\n    PLAN 18:\n\n        CSV SCAN input\\utf-8\\Egresos_Hospitalarios_2019.csv\n        PROJECT */37 COLUMNS\n    PLAN 19:\n\n        CSV SCAN input\\utf-8\\Egresos_Hospitalarios_2020.csv\n        PROJECT */37 COLUMNS\n    END UNION",
     "output_type": "error",
     "traceback": [
      "\u001b[1;31m---------------------------------------------------------------------------\u001b[0m",
      "\u001b[1;31mComputeError\u001b[0m                              Traceback (most recent call last)",
      "Cell \u001b[1;32mIn[75], line 1\u001b[0m\n\u001b[1;32m----> 1\u001b[0m dict_estratos \u001b[39m=\u001b[39m aux\u001b[39m.\u001b[39;49mobtener_diccionario_estratos(df, HOSPITAL_A_ANALIZAR)\n",
      "File \u001b[1;32mc:\\Users\\ppizarro\\Desktop\\Javier Rojas\\Javier\\trabajo\\SSMO\\EPH\\modulo_gestion\\1.analisis_problemas_de_salud\\egresos-hospitalarios\\calculo_metricas.py:108\u001b[0m, in \u001b[0;36mobtener_diccionario_estratos\u001b[1;34m(df_nacional, hospital_interno)\u001b[0m\n\u001b[0;32m    101\u001b[0m df_publicos \u001b[39m=\u001b[39m df_nacional\u001b[39m.\u001b[39mfilter(pl\u001b[39m.\u001b[39mcol(\u001b[39m\"\u001b[39m\u001b[39mPERTENENCIA_ESTABLECIMIENTO_SALUD\u001b[39m\u001b[39m\"\u001b[39m) \u001b[39m==\u001b[39m PERTENECE_SNSS)\n\u001b[0;32m    102\u001b[0m df_privados \u001b[39m=\u001b[39m df_nacional\u001b[39m.\u001b[39mfilter(\n\u001b[0;32m    103\u001b[0m     (pl\u001b[39m.\u001b[39mcol(\u001b[39m\"\u001b[39m\u001b[39mPERTENENCIA_ESTABLECIMIENTO_SALUD\u001b[39m\u001b[39m\"\u001b[39m) \u001b[39m==\u001b[39m NO_PERTENECE_SNSS)\n\u001b[0;32m    104\u001b[0m     \u001b[39m|\u001b[39m (pl\u001b[39m.\u001b[39mcol(\u001b[39m\"\u001b[39m\u001b[39mESTABLECIMIENTO_SALUD\u001b[39m\u001b[39m\"\u001b[39m) \u001b[39m==\u001b[39m hospital_interno)\n\u001b[0;32m    105\u001b[0m )\n\u001b[0;32m    107\u001b[0m codigos_nacionales \u001b[39m=\u001b[39m (\n\u001b[1;32m--> 108\u001b[0m     df_nacional\u001b[39m.\u001b[39;49mselect(pl\u001b[39m.\u001b[39;49mcol(\u001b[39m\"\u001b[39;49m\u001b[39mESTABLECIMIENTO_SALUD\u001b[39;49m\u001b[39m\"\u001b[39;49m))\u001b[39m.\u001b[39;49munique()\u001b[39m.\u001b[39;49mcollect(streaming\u001b[39m=\u001b[39;49m\u001b[39mTrue\u001b[39;49;00m)\n\u001b[0;32m    109\u001b[0m )\n\u001b[0;32m    110\u001b[0m codigos_publicos \u001b[39m=\u001b[39m (\n\u001b[0;32m    111\u001b[0m     df_publicos\u001b[39m.\u001b[39mselect(pl\u001b[39m.\u001b[39mcol(\u001b[39m\"\u001b[39m\u001b[39mESTABLECIMIENTO_SALUD\u001b[39m\u001b[39m\"\u001b[39m))\u001b[39m.\u001b[39munique()\u001b[39m.\u001b[39mcollect(streaming\u001b[39m=\u001b[39m\u001b[39mTrue\u001b[39;00m)\n\u001b[0;32m    112\u001b[0m )\n\u001b[0;32m    113\u001b[0m codigos_privados \u001b[39m=\u001b[39m (\n\u001b[0;32m    114\u001b[0m     df_privados\u001b[39m.\u001b[39mselect(pl\u001b[39m.\u001b[39mcol(\u001b[39m\"\u001b[39m\u001b[39mESTABLECIMIENTO_SALUD\u001b[39m\u001b[39m\"\u001b[39m))\u001b[39m.\u001b[39munique()\u001b[39m.\u001b[39mcollect(streaming\u001b[39m=\u001b[39m\u001b[39mTrue\u001b[39;00m)\n\u001b[0;32m    115\u001b[0m )\n",
      "File \u001b[1;32mc:\\Users\\ppizarro\\AppData\\Local\\anaconda3\\lib\\site-packages\\polars\\lazyframe\\frame.py:1475\u001b[0m, in \u001b[0;36mLazyFrame.collect\u001b[1;34m(self, type_coercion, predicate_pushdown, projection_pushdown, simplify_expression, no_optimization, slice_pushdown, common_subplan_elimination, streaming)\u001b[0m\n\u001b[0;32m   1464\u001b[0m     common_subplan_elimination \u001b[39m=\u001b[39m \u001b[39mFalse\u001b[39;00m\n\u001b[0;32m   1466\u001b[0m ldf \u001b[39m=\u001b[39m \u001b[39mself\u001b[39m\u001b[39m.\u001b[39m_ldf\u001b[39m.\u001b[39moptimization_toggle(\n\u001b[0;32m   1467\u001b[0m     type_coercion,\n\u001b[0;32m   1468\u001b[0m     predicate_pushdown,\n\u001b[1;32m   (...)\u001b[0m\n\u001b[0;32m   1473\u001b[0m     streaming,\n\u001b[0;32m   1474\u001b[0m )\n\u001b[1;32m-> 1475\u001b[0m \u001b[39mreturn\u001b[39;00m wrap_df(ldf\u001b[39m.\u001b[39;49mcollect())\n",
      "\u001b[1;31mComputeError\u001b[0m: LogicalPlan already failed with error: 'ColumnNotFound(ErrString(\"region_pais\\n\\nError originated just after this operation:\\n WITH_COLUMNS:\\n [col(\\\"INTERV_Q\\\").map(), col(\\\"CONDICION_EGRESO\\\").map(), col(\\\"GLOSA_REGION_RESIDENCIA\\\").map()]\\n  FILTER col(\\\"DIAG1\\\").is_in([Series[DIAG1].alias(\\\"DIAG1\\\")]) FROM\\n  RECHUNK\\n    UNION:\\n    PLAN 0:\\n\\n        CSV SCAN input\\\\utf-8\\\\Egresos_Hospitalarios_2001.csv\\n        PROJECT */37 COLUMNS\\n    PLAN 1:\\n\\n        CSV SCAN input\\\\utf-8\\\\Egresos_Hospitalarios_2002.csv\\n        PROJECT */37 COLUMNS\\n    PLAN 2:\\n\\n        CSV SCAN input\\\\utf-8\\\\Egresos_Hospitalarios_2003.csv\\n        PROJECT */37 COLUMNS\\n    PLAN 3:\\n\\n        CSV SCAN input\\\\utf-8\\\\Egresos_Hospitalarios_2004.csv\\n        PROJECT */37 COLUMNS\\n    PLAN 4:\\n\\n        CSV SCAN input\\\\utf-8\\\\Egresos_Hospitalarios_2005.csv\\n        PROJECT */37 COLUMNS\\n    PLAN 5:\\n\\n        CSV SCAN input\\\\utf-8\\\\Egresos_Hospitalarios_2006.csv\\n        PROJECT */37 COLUMNS\\n    PLAN 6:\\n\\n        CSV SCAN input\\\\utf-8\\\\Egresos_Hospitalarios_2007.csv\\n        PROJECT */37 COLUMNS\\n    PLAN 7:\\n\\n        CSV SCAN input\\\\utf-8\\\\Egresos_Hospitalarios_2008.csv\\n        PROJECT */37 COLUMNS\\n    PLAN 8:\\n\\n        CSV SCAN input\\\\utf-8\\\\Egresos_Hospitalarios_2009.csv\\n        PROJECT */37 COLUMNS\\n    PLAN 9:\\n\\n        CSV SCAN input\\\\utf-8\\\\Egresos_Hospitalarios_2010.csv\\n        PROJECT */37 COLUMNS\\n    PLAN 10:\\n\\n        CSV SCAN input\\\\utf-8\\\\Egresos_Hospitalarios_2011.csv\\n        PROJECT */37 COLUMNS\\n    PLAN 11:\\n\\n        CSV SCAN input\\\\utf-8\\\\Egresos_Hospitalarios_2012.csv\\n        PROJECT */37 COLUMNS\\n    PLAN 12:\\n\\n        CSV SCAN input\\\\utf-8\\\\Egresos_Hospitalarios_2013.csv\\n        PROJECT */37 COLUMNS\\n    PLAN 13:\\n\\n        CSV SCAN input\\\\utf-8\\\\Egresos_Hospitalarios_2014.csv\\n        PROJECT */37 COLUMNS\\n    PLAN 14:\\n\\n        CSV SCAN input\\\\utf-8\\\\Egresos_Hospitalarios_2015.csv\\n        PROJECT */37 COLUMNS\\n    PLAN 15:\\n\\n        CSV SCAN input\\\\utf-8\\\\Egresos_Hospitalarios_2016.csv\\n        PROJECT */37 COLUMNS\\n    PLAN 16:\\n\\n        CSV SCAN input\\\\utf-8\\\\Egresos_Hospitalarios_2017.csv\\n        PROJECT */37 COLUMNS\\n    PLAN 17:\\n\\n        CSV SCAN input\\\\utf-8\\\\Egresos_Hospitalarios_2018.csv\\n        PROJECT */37 COLUMNS\\n    PLAN 18:\\n\\n        CSV SCAN input\\\\utf-8\\\\Egresos_Hospitalarios_2019.csv\\n        PROJECT */37 COLUMNS\\n    PLAN 19:\\n\\n        CSV SCAN input\\\\utf-8\\\\Egresos_Hospitalarios_2020.csv\\n        PROJECT */37 COLUMNS\\n    END UNION\"))'\n\nError originated just after this operation:\nErrorStateSync(Mutex { data: AlreadyEncountered { prev_err_msg: \"ColumnNotFound(ErrString(\\\"region_pais\\\\n\\\\nError originated just after this operation:\\\\n WITH_COLUMNS:\\\\n [col(\\\\\\\"INTERV_Q\\\\\\\").map(), col(\\\\\\\"CONDICION_EGRESO\\\\\\\").map(), col(\\\\\\\"GLOSA_REGION_RESIDENCIA\\\\\\\").map()]\\\\n  FILTER col(\\\\\\\"DIAG1\\\\\\\").is_in([Series[DIAG1].alias(\\\\\\\"DIAG1\\\\\\\")]) FROM\\\\n  RECHUNK\\\\n    UNION:\\\\n    PLAN 0:\\\\n\\\\n        CSV SCAN input\\\\\\\\utf-8\\\\\\\\Egresos_Hospitalarios_2001.csv\\\\n        PROJECT */37 COLUMNS\\\\n    PLAN 1:\\\\n\\\\n        CSV SCAN input\\\\\\\\utf-8\\\\\\\\Egresos_Hospitalarios_2002.csv\\\\n        PROJECT */37 COLUMNS\\\\n    PLAN 2:\\\\n\\\\n        CSV SCAN input\\\\\\\\utf-8\\\\\\\\Egresos_Hospitalarios_2003.csv\\\\n        PROJECT */37 COLUMNS\\\\n    PLAN 3:\\\\n\\\\n        CSV SCAN input\\\\\\\\utf-8\\\\\\\\Egresos_Hospitalarios_2004.csv\\\\n        PROJECT */37 COLUMNS\\\\n    PLAN 4:\\\\n\\\\n        CSV SCAN input\\\\\\\\utf-8\\\\\\\\Egresos_Hospitalarios_2005.csv\\\\n        PROJECT */37 COLUMNS\\\\n    PLAN 5:\\\\n\\\\n        CSV SCAN input\\\\\\\\utf-8\\\\\\\\Egresos_Hospitalarios_2006.csv\\\\n        PROJECT */37 COLUMNS\\\\n    PLAN 6:\\\\n\\\\n        CSV SCAN input\\\\\\\\utf-8\\\\\\\\Egresos_Hospitalarios_2007.csv\\\\n        PROJECT */37 COLUMNS\\\\n    PLAN 7:\\\\n\\\\n        CSV SCAN input\\\\\\\\utf-8\\\\\\\\Egresos_Hospitalarios_2008.csv\\\\n        PROJECT */37 COLUMNS\\\\n    PLAN 8:\\\\n\\\\n        CSV SCAN input\\\\\\\\utf-8\\\\\\\\Egresos_Hospitalarios_2009.csv\\\\n        PROJECT */37 COLUMNS\\\\n    PLAN 9:\\\\n\\\\n        CSV SCAN input\\\\\\\\utf-8\\\\\\\\Egresos_Hospitalarios_2010.csv\\\\n        PROJECT */37 COLUMNS\\\\n    PLAN 10:\\\\n\\\\n        CSV SCAN input\\\\\\\\utf-8\\\\\\\\Egresos_Hospitalarios_2011.csv\\\\n        PROJECT */37 COLUMNS\\\\n    PLAN 11:\\\\n\\\\n        CSV SCAN input\\\\\\\\utf-8\\\\\\\\Egresos_Hospitalarios_2012.csv\\\\n        PROJECT */37 COLUMNS\\\\n    PLAN 12:\\\\n\\\\n        CSV SCAN input\\\\\\\\utf-8\\\\\\\\Egresos_Hospitalarios_2013.csv\\\\n        PROJECT */37 COLUMNS\\\\n    PLAN 13:\\\\n\\\\n        CSV SCAN input\\\\\\\\utf-8\\\\\\\\Egresos_Hospitalarios_2014.csv\\\\n        PROJECT */37 COLUMNS\\\\n    PLAN 14:\\\\n\\\\n        CSV SCAN input\\\\\\\\utf-8\\\\\\\\Egresos_Hospitalarios_2015.csv\\\\n        PROJECT */37 COLUMNS\\\\n    PLAN 15:\\\\n\\\\n        CSV SCAN input\\\\\\\\utf-8\\\\\\\\Egresos_Hospitalarios_2016.csv\\\\n        PROJECT */37 COLUMNS\\\\n    PLAN 16:\\\\n\\\\n        CSV SCAN input\\\\\\\\utf-8\\\\\\\\Egresos_Hospitalarios_2017.csv\\\\n        PROJECT */37 COLUMNS\\\\n    PLAN 17:\\\\n\\\\n        CSV SCAN input\\\\\\\\utf-8\\\\\\\\Egresos_Hospitalarios_2018.csv\\\\n        PROJECT */37 COLUMNS\\\\n    PLAN 18:\\\\n\\\\n        CSV SCAN input\\\\\\\\utf-8\\\\\\\\Egresos_Hospitalarios_2019.csv\\\\n        PROJECT */37 COLUMNS\\\\n    PLAN 19:\\\\n\\\\n        CSV SCAN input\\\\\\\\utf-8\\\\\\\\Egresos_Hospitalarios_2020.csv\\\\n        PROJECT */37 COLUMNS\\\\n    END UNION\\\"))\" }, poisoned: false, .. })\n WITH_COLUMNS:\n [col(\"INTERV_Q\").map(), col(\"CONDICION_EGRESO\").map(), col(\"GLOSA_REGION_RESIDENCIA\").map()]\n  FILTER col(\"DIAG1\").is_in([Series[DIAG1].alias(\"DIAG1\")]) FROM\n  RECHUNK\n    UNION:\n    PLAN 0:\n\n        CSV SCAN input\\utf-8\\Egresos_Hospitalarios_2001.csv\n        PROJECT */37 COLUMNS\n    PLAN 1:\n\n        CSV SCAN input\\utf-8\\Egresos_Hospitalarios_2002.csv\n        PROJECT */37 COLUMNS\n    PLAN 2:\n\n        CSV SCAN input\\utf-8\\Egresos_Hospitalarios_2003.csv\n        PROJECT */37 COLUMNS\n    PLAN 3:\n\n        CSV SCAN input\\utf-8\\Egresos_Hospitalarios_2004.csv\n        PROJECT */37 COLUMNS\n    PLAN 4:\n\n        CSV SCAN input\\utf-8\\Egresos_Hospitalarios_2005.csv\n        PROJECT */37 COLUMNS\n    PLAN 5:\n\n        CSV SCAN input\\utf-8\\Egresos_Hospitalarios_2006.csv\n        PROJECT */37 COLUMNS\n    PLAN 6:\n\n        CSV SCAN input\\utf-8\\Egresos_Hospitalarios_2007.csv\n        PROJECT */37 COLUMNS\n    PLAN 7:\n\n        CSV SCAN input\\utf-8\\Egresos_Hospitalarios_2008.csv\n        PROJECT */37 COLUMNS\n    PLAN 8:\n\n        CSV SCAN input\\utf-8\\Egresos_Hospitalarios_2009.csv\n        PROJECT */37 COLUMNS\n    PLAN 9:\n\n        CSV SCAN input\\utf-8\\Egresos_Hospitalarios_2010.csv\n        PROJECT */37 COLUMNS\n    PLAN 10:\n\n        CSV SCAN input\\utf-8\\Egresos_Hospitalarios_2011.csv\n        PROJECT */37 COLUMNS\n    PLAN 11:\n\n        CSV SCAN input\\utf-8\\Egresos_Hospitalarios_2012.csv\n        PROJECT */37 COLUMNS\n    PLAN 12:\n\n        CSV SCAN input\\utf-8\\Egresos_Hospitalarios_2013.csv\n        PROJECT */37 COLUMNS\n    PLAN 13:\n\n        CSV SCAN input\\utf-8\\Egresos_Hospitalarios_2014.csv\n        PROJECT */37 COLUMNS\n    PLAN 14:\n\n        CSV SCAN input\\utf-8\\Egresos_Hospitalarios_2015.csv\n        PROJECT */37 COLUMNS\n    PLAN 15:\n\n        CSV SCAN input\\utf-8\\Egresos_Hospitalarios_2016.csv\n        PROJECT */37 COLUMNS\n    PLAN 16:\n\n        CSV SCAN input\\utf-8\\Egresos_Hospitalarios_2017.csv\n        PROJECT */37 COLUMNS\n    PLAN 17:\n\n        CSV SCAN input\\utf-8\\Egresos_Hospitalarios_2018.csv\n        PROJECT */37 COLUMNS\n    PLAN 18:\n\n        CSV SCAN input\\utf-8\\Egresos_Hospitalarios_2019.csv\n        PROJECT */37 COLUMNS\n    PLAN 19:\n\n        CSV SCAN input\\utf-8\\Egresos_Hospitalarios_2020.csv\n        PROJECT */37 COLUMNS\n    END UNION"
     ]
    }
   ],
   "source": [
    "dict_estratos = aux.obtener_diccionario_estratos(df, HOSPITAL_A_ANALIZAR)\n"
   ]
  },
  {
   "cell_type": "code",
   "execution_count": 76,
   "metadata": {},
   "outputs": [],
   "source": [
    "dict_resultados_estratos = aux.obtener_resumen_por_estratos(\n",
    "    metricas, dict_estratos, variables_a_rankear, subgrupo_del_ranking\n",
    ")\n",
    "\n",
    "resultado = reduce(aux.left_join_consecutivo, dict_resultados_estratos.values())\n"
   ]
  },
  {
   "attachments": {},
   "cell_type": "markdown",
   "metadata": {},
   "source": [
    "# Analisis Sociodemográfico"
   ]
  },
  {
   "cell_type": "code",
   "execution_count": 69,
   "metadata": {},
   "outputs": [
    {
     "ename": "ComputeError",
     "evalue": "LogicalPlan already failed with error: 'ColumnNotFound(ErrString(\"region_pais\\n\\nError originated just after this operation:\\n WITH_COLUMNS:\\n [col(\\\"INTERV_Q\\\").map(), col(\\\"CONDICION_EGRESO\\\").map(), col(\\\"GLOSA_REGION_RESIDENCIA\\\").map()]\\n   WITH_COLUMNS:\\n   [Series[EDAD_CATEGORIA].alias(\\\"EDAD_CATEGORIA\\\")]\\n    FILTER col(\\\"DIAG1\\\").is_in([Series[DIAG1].alias(\\\"DIAG1\\\")]) FROM\\n    RECHUNK\\n      UNION:\\n      PLAN 0:\\n\\n          CSV SCAN input\\\\utf-8\\\\Egresos_Hospitalarios_2001.csv\\n          PROJECT */37 COLUMNS\\n      PLAN 1:\\n\\n          CSV SCAN input\\\\utf-8\\\\Egresos_Hospitalarios_2002.csv\\n          PROJECT */37 COLUMNS\\n      PLAN 2:\\n\\n          CSV SCAN input\\\\utf-8\\\\Egresos_Hospitalarios_2003.csv\\n          PROJECT */37 COLUMNS\\n      PLAN 3:\\n\\n          CSV SCAN input\\\\utf-8\\\\Egresos_Hospitalarios_2004.csv\\n          PROJECT */37 COLUMNS\\n      PLAN 4:\\n\\n          CSV SCAN input\\\\utf-8\\\\Egresos_Hospitalarios_2005.csv\\n          PROJECT */37 COLUMNS\\n      PLAN 5:\\n\\n          CSV SCAN input\\\\utf-8\\\\Egresos_Hospitalarios_2006.csv\\n          PROJECT */37 COLUMNS\\n      PLAN 6:\\n\\n          CSV SCAN input\\\\utf-8\\\\Egresos_Hospitalarios_2007.csv\\n          PROJECT */37 COLUMNS\\n      PLAN 7:\\n\\n          CSV SCAN input\\\\utf-8\\\\Egresos_Hospitalarios_2008.csv\\n          PROJECT */37 COLUMNS\\n      PLAN 8:\\n\\n          CSV SCAN input\\\\utf-8\\\\Egresos_Hospitalarios_2009.csv\\n          PROJECT */37 COLUMNS\\n      PLAN 9:\\n\\n          CSV SCAN input\\\\utf-8\\\\Egresos_Hospitalarios_2010.csv\\n          PROJECT */37 COLUMNS\\n      PLAN 10:\\n\\n          CSV SCAN input\\\\utf-8\\\\Egresos_Hospitalarios_2011.csv\\n          PROJECT */37 COLUMNS\\n      PLAN 11:\\n\\n          CSV SCAN input\\\\utf-8\\\\Egresos_Hospitalarios_2012.csv\\n          PROJECT */37 COLUMNS\\n      PLAN 12:\\n\\n          CSV SCAN input\\\\utf-8\\\\Egresos_Hospitalarios_2013.csv\\n          PROJECT */37 COLUMNS\\n      PLAN 13:\\n\\n          CSV SCAN input\\\\utf-8\\\\Egresos_Hospitalarios_2014.csv\\n          PROJECT */37 COLUMNS\\n      PLAN 14:\\n\\n          CSV SCAN input\\\\utf-8\\\\Egresos_Hospitalarios_2015.csv\\n          PROJECT */37 COLUMNS\\n      PLAN 15:\\n\\n          CSV SCAN input\\\\utf-8\\\\Egresos_Hospitalarios_2016.csv\\n          PROJECT */37 COLUMNS\\n      PLAN 16:\\n\\n          CSV SCAN input\\\\utf-8\\\\Egresos_Hospitalarios_2017.csv\\n          PROJECT */37 COLUMNS\\n      PLAN 17:\\n\\n          CSV SCAN input\\\\utf-8\\\\Egresos_Hospitalarios_2018.csv\\n          PROJECT */37 COLUMNS\\n      PLAN 18:\\n\\n          CSV SCAN input\\\\utf-8\\\\Egresos_Hospitalarios_2019.csv\\n          PROJECT */37 COLUMNS\\n      PLAN 19:\\n\\n          CSV SCAN input\\\\utf-8\\\\Egresos_Hospitalarios_2020.csv\\n          PROJECT */37 COLUMNS\\n      END UNION\"))'\n\nError originated just after this operation:\nErrorStateSync(Mutex { data: AlreadyEncountered { prev_err_msg: \"ColumnNotFound(ErrString(\\\"region_pais\\\\n\\\\nError originated just after this operation:\\\\n WITH_COLUMNS:\\\\n [col(\\\\\\\"INTERV_Q\\\\\\\").map(), col(\\\\\\\"CONDICION_EGRESO\\\\\\\").map(), col(\\\\\\\"GLOSA_REGION_RESIDENCIA\\\\\\\").map()]\\\\n   WITH_COLUMNS:\\\\n   [Series[EDAD_CATEGORIA].alias(\\\\\\\"EDAD_CATEGORIA\\\\\\\")]\\\\n    FILTER col(\\\\\\\"DIAG1\\\\\\\").is_in([Series[DIAG1].alias(\\\\\\\"DIAG1\\\\\\\")]) FROM\\\\n    RECHUNK\\\\n      UNION:\\\\n      PLAN 0:\\\\n\\\\n          CSV SCAN input\\\\\\\\utf-8\\\\\\\\Egresos_Hospitalarios_2001.csv\\\\n          PROJECT */37 COLUMNS\\\\n      PLAN 1:\\\\n\\\\n          CSV SCAN input\\\\\\\\utf-8\\\\\\\\Egresos_Hospitalarios_2002.csv\\\\n          PROJECT */37 COLUMNS\\\\n      PLAN 2:\\\\n\\\\n          CSV SCAN input\\\\\\\\utf-8\\\\\\\\Egresos_Hospitalarios_2003.csv\\\\n          PROJECT */37 COLUMNS\\\\n      PLAN 3:\\\\n\\\\n          CSV SCAN input\\\\\\\\utf-8\\\\\\\\Egresos_Hospitalarios_2004.csv\\\\n          PROJECT */37 COLUMNS\\\\n      PLAN 4:\\\\n\\\\n          CSV SCAN input\\\\\\\\utf-8\\\\\\\\Egresos_Hospitalarios_2005.csv\\\\n          PROJECT */37 COLUMNS\\\\n      PLAN 5:\\\\n\\\\n          CSV SCAN input\\\\\\\\utf-8\\\\\\\\Egresos_Hospitalarios_2006.csv\\\\n          PROJECT */37 COLUMNS\\\\n      PLAN 6:\\\\n\\\\n          CSV SCAN input\\\\\\\\utf-8\\\\\\\\Egresos_Hospitalarios_2007.csv\\\\n          PROJECT */37 COLUMNS\\\\n      PLAN 7:\\\\n\\\\n          CSV SCAN input\\\\\\\\utf-8\\\\\\\\Egresos_Hospitalarios_2008.csv\\\\n          PROJECT */37 COLUMNS\\\\n      PLAN 8:\\\\n\\\\n          CSV SCAN input\\\\\\\\utf-8\\\\\\\\Egresos_Hospitalarios_2009.csv\\\\n          PROJECT */37 COLUMNS\\\\n      PLAN 9:\\\\n\\\\n          CSV SCAN input\\\\\\\\utf-8\\\\\\\\Egresos_Hospitalarios_2010.csv\\\\n          PROJECT */37 COLUMNS\\\\n      PLAN 10:\\\\n\\\\n          CSV SCAN input\\\\\\\\utf-8\\\\\\\\Egresos_Hospitalarios_2011.csv\\\\n          PROJECT */37 COLUMNS\\\\n      PLAN 11:\\\\n\\\\n          CSV SCAN input\\\\\\\\utf-8\\\\\\\\Egresos_Hospitalarios_2012.csv\\\\n          PROJECT */37 COLUMNS\\\\n      PLAN 12:\\\\n\\\\n          CSV SCAN input\\\\\\\\utf-8\\\\\\\\Egresos_Hospitalarios_2013.csv\\\\n          PROJECT */37 COLUMNS\\\\n      PLAN 13:\\\\n\\\\n          CSV SCAN input\\\\\\\\utf-8\\\\\\\\Egresos_Hospitalarios_2014.csv\\\\n          PROJECT */37 COLUMNS\\\\n      PLAN 14:\\\\n\\\\n          CSV SCAN input\\\\\\\\utf-8\\\\\\\\Egresos_Hospitalarios_2015.csv\\\\n          PROJECT */37 COLUMNS\\\\n      PLAN 15:\\\\n\\\\n          CSV SCAN input\\\\\\\\utf-8\\\\\\\\Egresos_Hospitalarios_2016.csv\\\\n          PROJECT */37 COLUMNS\\\\n      PLAN 16:\\\\n\\\\n          CSV SCAN input\\\\\\\\utf-8\\\\\\\\Egresos_Hospitalarios_2017.csv\\\\n          PROJECT */37 COLUMNS\\\\n      PLAN 17:\\\\n\\\\n          CSV SCAN input\\\\\\\\utf-8\\\\\\\\Egresos_Hospitalarios_2018.csv\\\\n          PROJECT */37 COLUMNS\\\\n      PLAN 18:\\\\n\\\\n          CSV SCAN input\\\\\\\\utf-8\\\\\\\\Egresos_Hospitalarios_2019.csv\\\\n          PROJECT */37 COLUMNS\\\\n      PLAN 19:\\\\n\\\\n          CSV SCAN input\\\\\\\\utf-8\\\\\\\\Egresos_Hospitalarios_2020.csv\\\\n          PROJECT */37 COLUMNS\\\\n      END UNION\\\"))\" }, poisoned: false, .. })\n WITH_COLUMNS:\n [col(\"INTERV_Q\").map(), col(\"CONDICION_EGRESO\").map(), col(\"GLOSA_REGION_RESIDENCIA\").map()]\n   WITH_COLUMNS:\n   [Series[EDAD_CATEGORIA].alias(\"EDAD_CATEGORIA\")]\n    FILTER col(\"DIAG1\").is_in([Series[DIAG1].alias(\"DIAG1\")]) FROM\n    RECHUNK\n      UNION:\n      PLAN 0:\n\n          CSV SCAN input\\utf-8\\Egresos_Hospitalarios_2001.csv\n          PROJECT */37 COLUMNS\n      PLAN 1:\n\n          CSV SCAN input\\utf-8\\Egresos_Hospitalarios_2002.csv\n          PROJECT */37 COLUMNS\n      PLAN 2:\n\n          CSV SCAN input\\utf-8\\Egresos_Hospitalarios_2003.csv\n          PROJECT */37 COLUMNS\n      PLAN 3:\n\n          CSV SCAN input\\utf-8\\Egresos_Hospitalarios_2004.csv\n          PROJECT */37 COLUMNS\n      PLAN 4:\n\n          CSV SCAN input\\utf-8\\Egresos_Hospitalarios_2005.csv\n          PROJECT */37 COLUMNS\n      PLAN 5:\n\n          CSV SCAN input\\utf-8\\Egresos_Hospitalarios_2006.csv\n          PROJECT */37 COLUMNS\n      PLAN 6:\n\n          CSV SCAN input\\utf-8\\Egresos_Hospitalarios_2007.csv\n          PROJECT */37 COLUMNS\n      PLAN 7:\n\n          CSV SCAN input\\utf-8\\Egresos_Hospitalarios_2008.csv\n          PROJECT */37 COLUMNS\n      PLAN 8:\n\n          CSV SCAN input\\utf-8\\Egresos_Hospitalarios_2009.csv\n          PROJECT */37 COLUMNS\n      PLAN 9:\n\n          CSV SCAN input\\utf-8\\Egresos_Hospitalarios_2010.csv\n          PROJECT */37 COLUMNS\n      PLAN 10:\n\n          CSV SCAN input\\utf-8\\Egresos_Hospitalarios_2011.csv\n          PROJECT */37 COLUMNS\n      PLAN 11:\n\n          CSV SCAN input\\utf-8\\Egresos_Hospitalarios_2012.csv\n          PROJECT */37 COLUMNS\n      PLAN 12:\n\n          CSV SCAN input\\utf-8\\Egresos_Hospitalarios_2013.csv\n          PROJECT */37 COLUMNS\n      PLAN 13:\n\n          CSV SCAN input\\utf-8\\Egresos_Hospitalarios_2014.csv\n          PROJECT */37 COLUMNS\n      PLAN 14:\n\n          CSV SCAN input\\utf-8\\Egresos_Hospitalarios_2015.csv\n          PROJECT */37 COLUMNS\n      PLAN 15:\n\n          CSV SCAN input\\utf-8\\Egresos_Hospitalarios_2016.csv\n          PROJECT */37 COLUMNS\n      PLAN 16:\n\n          CSV SCAN input\\utf-8\\Egresos_Hospitalarios_2017.csv\n          PROJECT */37 COLUMNS\n      PLAN 17:\n\n          CSV SCAN input\\utf-8\\Egresos_Hospitalarios_2018.csv\n          PROJECT */37 COLUMNS\n      PLAN 18:\n\n          CSV SCAN input\\utf-8\\Egresos_Hospitalarios_2019.csv\n          PROJECT */37 COLUMNS\n      PLAN 19:\n\n          CSV SCAN input\\utf-8\\Egresos_Hospitalarios_2020.csv\n          PROJECT */37 COLUMNS\n      END UNION",
     "output_type": "error",
     "traceback": [
      "\u001b[1;31m---------------------------------------------------------------------------\u001b[0m",
      "\u001b[1;31mComputeError\u001b[0m                              Traceback (most recent call last)",
      "Cell \u001b[1;32mIn[69], line 3\u001b[0m\n\u001b[0;32m      1\u001b[0m df\u001b[39m.\u001b[39;49mselect(\n\u001b[0;32m      2\u001b[0m     pl\u001b[39m.\u001b[39;49mcol(\u001b[39m'\u001b[39;49m\u001b[39mEDAD_CATEGORIA\u001b[39;49m\u001b[39m'\u001b[39;49m)\n\u001b[1;32m----> 3\u001b[0m )\u001b[39m.\u001b[39;49mfetch(\u001b[39m10\u001b[39;49m)\n",
      "File \u001b[1;32mc:\\Users\\ppizarro\\AppData\\Local\\anaconda3\\lib\\site-packages\\polars\\lazyframe\\frame.py:1733\u001b[0m, in \u001b[0;36mLazyFrame.fetch\u001b[1;34m(self, n_rows, type_coercion, predicate_pushdown, projection_pushdown, simplify_expression, no_optimization, slice_pushdown, common_subplan_elimination, streaming)\u001b[0m\n\u001b[0;32m   1722\u001b[0m     common_subplan_elimination \u001b[39m=\u001b[39m \u001b[39mFalse\u001b[39;00m\n\u001b[0;32m   1724\u001b[0m lf \u001b[39m=\u001b[39m \u001b[39mself\u001b[39m\u001b[39m.\u001b[39m_ldf\u001b[39m.\u001b[39moptimization_toggle(\n\u001b[0;32m   1725\u001b[0m     type_coercion,\n\u001b[0;32m   1726\u001b[0m     predicate_pushdown,\n\u001b[1;32m   (...)\u001b[0m\n\u001b[0;32m   1731\u001b[0m     streaming,\n\u001b[0;32m   1732\u001b[0m )\n\u001b[1;32m-> 1733\u001b[0m \u001b[39mreturn\u001b[39;00m wrap_df(lf\u001b[39m.\u001b[39;49mfetch(n_rows))\n",
      "\u001b[1;31mComputeError\u001b[0m: LogicalPlan already failed with error: 'ColumnNotFound(ErrString(\"region_pais\\n\\nError originated just after this operation:\\n WITH_COLUMNS:\\n [col(\\\"INTERV_Q\\\").map(), col(\\\"CONDICION_EGRESO\\\").map(), col(\\\"GLOSA_REGION_RESIDENCIA\\\").map()]\\n   WITH_COLUMNS:\\n   [Series[EDAD_CATEGORIA].alias(\\\"EDAD_CATEGORIA\\\")]\\n    FILTER col(\\\"DIAG1\\\").is_in([Series[DIAG1].alias(\\\"DIAG1\\\")]) FROM\\n    RECHUNK\\n      UNION:\\n      PLAN 0:\\n\\n          CSV SCAN input\\\\utf-8\\\\Egresos_Hospitalarios_2001.csv\\n          PROJECT */37 COLUMNS\\n      PLAN 1:\\n\\n          CSV SCAN input\\\\utf-8\\\\Egresos_Hospitalarios_2002.csv\\n          PROJECT */37 COLUMNS\\n      PLAN 2:\\n\\n          CSV SCAN input\\\\utf-8\\\\Egresos_Hospitalarios_2003.csv\\n          PROJECT */37 COLUMNS\\n      PLAN 3:\\n\\n          CSV SCAN input\\\\utf-8\\\\Egresos_Hospitalarios_2004.csv\\n          PROJECT */37 COLUMNS\\n      PLAN 4:\\n\\n          CSV SCAN input\\\\utf-8\\\\Egresos_Hospitalarios_2005.csv\\n          PROJECT */37 COLUMNS\\n      PLAN 5:\\n\\n          CSV SCAN input\\\\utf-8\\\\Egresos_Hospitalarios_2006.csv\\n          PROJECT */37 COLUMNS\\n      PLAN 6:\\n\\n          CSV SCAN input\\\\utf-8\\\\Egresos_Hospitalarios_2007.csv\\n          PROJECT */37 COLUMNS\\n      PLAN 7:\\n\\n          CSV SCAN input\\\\utf-8\\\\Egresos_Hospitalarios_2008.csv\\n          PROJECT */37 COLUMNS\\n      PLAN 8:\\n\\n          CSV SCAN input\\\\utf-8\\\\Egresos_Hospitalarios_2009.csv\\n          PROJECT */37 COLUMNS\\n      PLAN 9:\\n\\n          CSV SCAN input\\\\utf-8\\\\Egresos_Hospitalarios_2010.csv\\n          PROJECT */37 COLUMNS\\n      PLAN 10:\\n\\n          CSV SCAN input\\\\utf-8\\\\Egresos_Hospitalarios_2011.csv\\n          PROJECT */37 COLUMNS\\n      PLAN 11:\\n\\n          CSV SCAN input\\\\utf-8\\\\Egresos_Hospitalarios_2012.csv\\n          PROJECT */37 COLUMNS\\n      PLAN 12:\\n\\n          CSV SCAN input\\\\utf-8\\\\Egresos_Hospitalarios_2013.csv\\n          PROJECT */37 COLUMNS\\n      PLAN 13:\\n\\n          CSV SCAN input\\\\utf-8\\\\Egresos_Hospitalarios_2014.csv\\n          PROJECT */37 COLUMNS\\n      PLAN 14:\\n\\n          CSV SCAN input\\\\utf-8\\\\Egresos_Hospitalarios_2015.csv\\n          PROJECT */37 COLUMNS\\n      PLAN 15:\\n\\n          CSV SCAN input\\\\utf-8\\\\Egresos_Hospitalarios_2016.csv\\n          PROJECT */37 COLUMNS\\n      PLAN 16:\\n\\n          CSV SCAN input\\\\utf-8\\\\Egresos_Hospitalarios_2017.csv\\n          PROJECT */37 COLUMNS\\n      PLAN 17:\\n\\n          CSV SCAN input\\\\utf-8\\\\Egresos_Hospitalarios_2018.csv\\n          PROJECT */37 COLUMNS\\n      PLAN 18:\\n\\n          CSV SCAN input\\\\utf-8\\\\Egresos_Hospitalarios_2019.csv\\n          PROJECT */37 COLUMNS\\n      PLAN 19:\\n\\n          CSV SCAN input\\\\utf-8\\\\Egresos_Hospitalarios_2020.csv\\n          PROJECT */37 COLUMNS\\n      END UNION\"))'\n\nError originated just after this operation:\nErrorStateSync(Mutex { data: AlreadyEncountered { prev_err_msg: \"ColumnNotFound(ErrString(\\\"region_pais\\\\n\\\\nError originated just after this operation:\\\\n WITH_COLUMNS:\\\\n [col(\\\\\\\"INTERV_Q\\\\\\\").map(), col(\\\\\\\"CONDICION_EGRESO\\\\\\\").map(), col(\\\\\\\"GLOSA_REGION_RESIDENCIA\\\\\\\").map()]\\\\n   WITH_COLUMNS:\\\\n   [Series[EDAD_CATEGORIA].alias(\\\\\\\"EDAD_CATEGORIA\\\\\\\")]\\\\n    FILTER col(\\\\\\\"DIAG1\\\\\\\").is_in([Series[DIAG1].alias(\\\\\\\"DIAG1\\\\\\\")]) FROM\\\\n    RECHUNK\\\\n      UNION:\\\\n      PLAN 0:\\\\n\\\\n          CSV SCAN input\\\\\\\\utf-8\\\\\\\\Egresos_Hospitalarios_2001.csv\\\\n          PROJECT */37 COLUMNS\\\\n      PLAN 1:\\\\n\\\\n          CSV SCAN input\\\\\\\\utf-8\\\\\\\\Egresos_Hospitalarios_2002.csv\\\\n          PROJECT */37 COLUMNS\\\\n      PLAN 2:\\\\n\\\\n          CSV SCAN input\\\\\\\\utf-8\\\\\\\\Egresos_Hospitalarios_2003.csv\\\\n          PROJECT */37 COLUMNS\\\\n      PLAN 3:\\\\n\\\\n          CSV SCAN input\\\\\\\\utf-8\\\\\\\\Egresos_Hospitalarios_2004.csv\\\\n          PROJECT */37 COLUMNS\\\\n      PLAN 4:\\\\n\\\\n          CSV SCAN input\\\\\\\\utf-8\\\\\\\\Egresos_Hospitalarios_2005.csv\\\\n          PROJECT */37 COLUMNS\\\\n      PLAN 5:\\\\n\\\\n          CSV SCAN input\\\\\\\\utf-8\\\\\\\\Egresos_Hospitalarios_2006.csv\\\\n          PROJECT */37 COLUMNS\\\\n      PLAN 6:\\\\n\\\\n          CSV SCAN input\\\\\\\\utf-8\\\\\\\\Egresos_Hospitalarios_2007.csv\\\\n          PROJECT */37 COLUMNS\\\\n      PLAN 7:\\\\n\\\\n          CSV SCAN input\\\\\\\\utf-8\\\\\\\\Egresos_Hospitalarios_2008.csv\\\\n          PROJECT */37 COLUMNS\\\\n      PLAN 8:\\\\n\\\\n          CSV SCAN input\\\\\\\\utf-8\\\\\\\\Egresos_Hospitalarios_2009.csv\\\\n          PROJECT */37 COLUMNS\\\\n      PLAN 9:\\\\n\\\\n          CSV SCAN input\\\\\\\\utf-8\\\\\\\\Egresos_Hospitalarios_2010.csv\\\\n          PROJECT */37 COLUMNS\\\\n      PLAN 10:\\\\n\\\\n          CSV SCAN input\\\\\\\\utf-8\\\\\\\\Egresos_Hospitalarios_2011.csv\\\\n          PROJECT */37 COLUMNS\\\\n      PLAN 11:\\\\n\\\\n          CSV SCAN input\\\\\\\\utf-8\\\\\\\\Egresos_Hospitalarios_2012.csv\\\\n          PROJECT */37 COLUMNS\\\\n      PLAN 12:\\\\n\\\\n          CSV SCAN input\\\\\\\\utf-8\\\\\\\\Egresos_Hospitalarios_2013.csv\\\\n          PROJECT */37 COLUMNS\\\\n      PLAN 13:\\\\n\\\\n          CSV SCAN input\\\\\\\\utf-8\\\\\\\\Egresos_Hospitalarios_2014.csv\\\\n          PROJECT */37 COLUMNS\\\\n      PLAN 14:\\\\n\\\\n          CSV SCAN input\\\\\\\\utf-8\\\\\\\\Egresos_Hospitalarios_2015.csv\\\\n          PROJECT */37 COLUMNS\\\\n      PLAN 15:\\\\n\\\\n          CSV SCAN input\\\\\\\\utf-8\\\\\\\\Egresos_Hospitalarios_2016.csv\\\\n          PROJECT */37 COLUMNS\\\\n      PLAN 16:\\\\n\\\\n          CSV SCAN input\\\\\\\\utf-8\\\\\\\\Egresos_Hospitalarios_2017.csv\\\\n          PROJECT */37 COLUMNS\\\\n      PLAN 17:\\\\n\\\\n          CSV SCAN input\\\\\\\\utf-8\\\\\\\\Egresos_Hospitalarios_2018.csv\\\\n          PROJECT */37 COLUMNS\\\\n      PLAN 18:\\\\n\\\\n          CSV SCAN input\\\\\\\\utf-8\\\\\\\\Egresos_Hospitalarios_2019.csv\\\\n          PROJECT */37 COLUMNS\\\\n      PLAN 19:\\\\n\\\\n          CSV SCAN input\\\\\\\\utf-8\\\\\\\\Egresos_Hospitalarios_2020.csv\\\\n          PROJECT */37 COLUMNS\\\\n      END UNION\\\"))\" }, poisoned: false, .. })\n WITH_COLUMNS:\n [col(\"INTERV_Q\").map(), col(\"CONDICION_EGRESO\").map(), col(\"GLOSA_REGION_RESIDENCIA\").map()]\n   WITH_COLUMNS:\n   [Series[EDAD_CATEGORIA].alias(\"EDAD_CATEGORIA\")]\n    FILTER col(\"DIAG1\").is_in([Series[DIAG1].alias(\"DIAG1\")]) FROM\n    RECHUNK\n      UNION:\n      PLAN 0:\n\n          CSV SCAN input\\utf-8\\Egresos_Hospitalarios_2001.csv\n          PROJECT */37 COLUMNS\n      PLAN 1:\n\n          CSV SCAN input\\utf-8\\Egresos_Hospitalarios_2002.csv\n          PROJECT */37 COLUMNS\n      PLAN 2:\n\n          CSV SCAN input\\utf-8\\Egresos_Hospitalarios_2003.csv\n          PROJECT */37 COLUMNS\n      PLAN 3:\n\n          CSV SCAN input\\utf-8\\Egresos_Hospitalarios_2004.csv\n          PROJECT */37 COLUMNS\n      PLAN 4:\n\n          CSV SCAN input\\utf-8\\Egresos_Hospitalarios_2005.csv\n          PROJECT */37 COLUMNS\n      PLAN 5:\n\n          CSV SCAN input\\utf-8\\Egresos_Hospitalarios_2006.csv\n          PROJECT */37 COLUMNS\n      PLAN 6:\n\n          CSV SCAN input\\utf-8\\Egresos_Hospitalarios_2007.csv\n          PROJECT */37 COLUMNS\n      PLAN 7:\n\n          CSV SCAN input\\utf-8\\Egresos_Hospitalarios_2008.csv\n          PROJECT */37 COLUMNS\n      PLAN 8:\n\n          CSV SCAN input\\utf-8\\Egresos_Hospitalarios_2009.csv\n          PROJECT */37 COLUMNS\n      PLAN 9:\n\n          CSV SCAN input\\utf-8\\Egresos_Hospitalarios_2010.csv\n          PROJECT */37 COLUMNS\n      PLAN 10:\n\n          CSV SCAN input\\utf-8\\Egresos_Hospitalarios_2011.csv\n          PROJECT */37 COLUMNS\n      PLAN 11:\n\n          CSV SCAN input\\utf-8\\Egresos_Hospitalarios_2012.csv\n          PROJECT */37 COLUMNS\n      PLAN 12:\n\n          CSV SCAN input\\utf-8\\Egresos_Hospitalarios_2013.csv\n          PROJECT */37 COLUMNS\n      PLAN 13:\n\n          CSV SCAN input\\utf-8\\Egresos_Hospitalarios_2014.csv\n          PROJECT */37 COLUMNS\n      PLAN 14:\n\n          CSV SCAN input\\utf-8\\Egresos_Hospitalarios_2015.csv\n          PROJECT */37 COLUMNS\n      PLAN 15:\n\n          CSV SCAN input\\utf-8\\Egresos_Hospitalarios_2016.csv\n          PROJECT */37 COLUMNS\n      PLAN 16:\n\n          CSV SCAN input\\utf-8\\Egresos_Hospitalarios_2017.csv\n          PROJECT */37 COLUMNS\n      PLAN 17:\n\n          CSV SCAN input\\utf-8\\Egresos_Hospitalarios_2018.csv\n          PROJECT */37 COLUMNS\n      PLAN 18:\n\n          CSV SCAN input\\utf-8\\Egresos_Hospitalarios_2019.csv\n          PROJECT */37 COLUMNS\n      PLAN 19:\n\n          CSV SCAN input\\utf-8\\Egresos_Hospitalarios_2020.csv\n          PROJECT */37 COLUMNS\n      END UNION"
     ]
    }
   ],
   "source": [
    "df.select(\n",
    "    pl.col('EDAD_CATEGORIA')\n",
    ").fetch(10)"
   ]
  },
  {
   "cell_type": "code",
   "execution_count": null,
   "metadata": {},
   "outputs": [],
   "source": []
  }
 ],
 "metadata": {
  "kernelspec": {
   "display_name": "Python 3",
   "language": "python",
   "name": "python3"
  },
  "language_info": {
   "codemirror_mode": {
    "name": "ipython",
    "version": 3
   },
   "file_extension": ".py",
   "mimetype": "text/x-python",
   "name": "python",
   "nbconvert_exporter": "python",
   "pygments_lexer": "ipython3",
   "version": "3.10.9"
  },
  "orig_nbformat": 4
 },
 "nbformat": 4,
 "nbformat_minor": 2
}
