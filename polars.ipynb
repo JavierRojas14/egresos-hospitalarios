{
 "cells": [
  {
   "attachments": {},
   "cell_type": "markdown",
   "metadata": {},
   "source": [
    "# Analisis de Egresos Hospitalarios"
   ]
  },
  {
   "cell_type": "code",
   "execution_count": 4,
   "metadata": {},
   "outputs": [
    {
     "data": {
      "text/plain": [
       "<module 'calculo_metricas' from 'c:\\\\Users\\\\ppizarro\\\\Desktop\\\\Javier Rojas\\\\Javier\\\\trabajo\\\\SSMO\\\\EPH\\\\modulo_gestion\\\\1.analisis_problemas_de_salud\\\\egresos-hospitalarios\\\\calculo_metricas.py'>"
      ]
     },
     "execution_count": 4,
     "metadata": {},
     "output_type": "execute_result"
    }
   ],
   "source": [
    "import importlib\n",
    "\n",
    "import pandas as pd\n",
    "import numpy as np\n",
    "import polars as pl\n",
    "\n",
    "import matplotlib.pyplot as plt\n",
    "import seaborn as sns\n",
    "\n",
    "import lectura_archivos as fr\n",
    "import calculo_metricas as aux\n",
    "\n",
    "from functools import reduce\n",
    "\n",
    "sns.set_style()\n",
    "plt.rcParams[\"figure.figsize\"] = (12, 6)\n",
    "\n",
    "importlib.reload(fr)\n",
    "importlib.reload(aux)\n"
   ]
  },
  {
   "cell_type": "code",
   "execution_count": 5,
   "metadata": {},
   "outputs": [],
   "source": [
    "HOSPITAL_A_ANALIZAR = 112103  # Este es el Torax\n"
   ]
  },
  {
   "attachments": {},
   "cell_type": "markdown",
   "metadata": {},
   "source": [
    "## Lectura de archivos\n",
    "\n",
    "- Se leen todos los archivos que estan en input/utf-8. Los archivos estan separados por ;\n",
    "- Se dejan solamente los egresos de los diagnosticos que **SI** tenga el Tórax\n",
    "- Se cambia la codificacion de INTERV_Q de 2 (No, 1 es SI) a 0.\n",
    "- Se cambia la codificacion de CONDICION_EGRESO (orig 1 = Vivo, 2 = Fallecido) de 1 -> 0 y 2 -> 1\n",
    "- Se cambia la codificacion de GLOSA_REGION_RESIDENCIA {\n",
    "                        \"Del Libertador B. O'Higgins\": \"del Libertador General Bernardo O'Higgins\",\n",
    "                        \"De Aisén del Gral. C. Ibáñez del Campo\": \"Aysén del General Carlos Ibáñez del Campo\",\n",
    "                    }"
   ]
  },
  {
   "cell_type": "code",
   "execution_count": 6,
   "metadata": {},
   "outputs": [],
   "source": [
    "df = fr.leer_archivos(HOSPITAL_A_ANALIZAR)"
   ]
  },
  {
   "attachments": {},
   "cell_type": "markdown",
   "metadata": {},
   "source": [
    "# Analisis de Egresos Hospitalarios\n",
    "\n",
    "Se calculan las siguientes metricas:\n",
    "\n",
    "- Número de Egresos (n_egresos)\n",
    "- Días de Estada promedio (dias_estada_promedio)\n",
    "- Cantidad de Intervenciones Quirúrgicas (n_int_q)\n",
    "- Cantidad de Muertes (n_muertos)\n",
    "\n",
    "Todas estas metricas estan calculadas a nivel de Año, Establecimiento de Salud y Diagnóstico. Por\n",
    "ejemplo:\n",
    "\n",
    "***\"En el año 2019, el Hospital San José (código XXXXXXX) tuvo XX egresos, con XX dias estada_promedio,\n",
    "con XX intervenciones_quirúrgicas y XX muertos para el diagnóstico A24.4.\"***\n",
    "\n",
    "Este análisis se realizó entre 2001 y 2020 para todos los hospitales/clínicas de Chile."
   ]
  },
  {
   "cell_type": "code",
   "execution_count": 7,
   "metadata": {},
   "outputs": [],
   "source": [
    "AGRUPACION = [\n",
    "    \"ANO_EGRESO\",\n",
    "    \"ESTABLECIMIENTO_SALUD\",\n",
    "    \"GLOSA_ESTABLECIMIENTO_SALUD\",\n",
    "    \"DIAG1\",\n",
    "]\n",
    "\n",
    "metricas = aux.obtener_metricas_egresos(df, AGRUPACION).collect(streaming=True)\n"
   ]
  },
  {
   "attachments": {},
   "cell_type": "markdown",
   "metadata": {},
   "source": [
    "# Analisis de Estratos"
   ]
  },
  {
   "cell_type": "code",
   "execution_count": 8,
   "metadata": {},
   "outputs": [],
   "source": [
    "variables_a_rankear = [\"n_egresos\"]\n",
    "subgrupo_del_ranking = [\"ANO_EGRESO\", \"DIAG1\"]\n",
    "unir_tablas_por = AGRUPACION"
   ]
  },
  {
   "cell_type": "code",
   "execution_count": 9,
   "metadata": {},
   "outputs": [],
   "source": [
    "dict_estratos = aux.obtener_diccionario_estratos(df, HOSPITAL_A_ANALIZAR)"
   ]
  },
  {
   "cell_type": "code",
   "execution_count": 10,
   "metadata": {},
   "outputs": [],
   "source": [
    "dict_resultados_estratos = aux.obtener_resumen_por_estratos(\n",
    "    metricas, dict_estratos, variables_a_rankear, subgrupo_del_ranking\n",
    ")\n",
    "\n",
    "resultado = reduce(aux.left_join_consecutivo, dict_resultados_estratos.values())"
   ]
  },
  {
   "attachments": {},
   "cell_type": "markdown",
   "metadata": {},
   "source": [
    "# Analisis Sociodemográfico"
   ]
  },
  {
   "cell_type": "code",
   "execution_count": 34,
   "metadata": {},
   "outputs": [],
   "source": [
    "desglose_sociodemografico = [\n",
    "    \"ANO_EGRESO\",\n",
    "    \"REGION_RESIDENCIA\",\n",
    "    \"GLOSA_REGION_RESIDENCIA\",\n",
    "    \"COMUNA_RESIDENCIA\",\n",
    "    \"GLOSA_COMUNA_RESIDENCIA\",\n",
    "    \"DIAG1\"\n",
    "]\n",
    "\n",
    "schema_optimo = {'ANO_EGRESO': pl.Int32,\n",
    " 'REGION_RESIDENCIA': pl.Categorical,\n",
    " 'GLOSA_REGION_RESIDENCIA': pl.Categorical,\n",
    " 'COMUNA_RESIDENCIA': pl.Categorical,\n",
    " 'GLOSA_COMUNA_RESIDENCIA': pl.Categorical,\n",
    " 'DIAG1': pl.Utf8}\n",
    "\n",
    "df_socio = (\n",
    "    pl.scan_csv(\"input/utf-8/*.csv\", separator=\";\", dtypes=schema_optimo)\n",
    "    .filter(pl.col(\"ESTABLECIMIENTO_SALUD\") == 112103)\n",
    "    .groupby(desglose_sociodemografico)\n",
    "    .agg(pl.col(\"DIAG1\").count().alias('conteo'))\n",
    ")"
   ]
  },
  {
   "cell_type": "code",
   "execution_count": 37,
   "metadata": {},
   "outputs": [],
   "source": [
    "with pl.StringCache():\n",
    "    resultado_sociodemo = df_socio.collect(streaming=True)"
   ]
  },
  {
   "cell_type": "code",
   "execution_count": 38,
   "metadata": {},
   "outputs": [
    {
     "data": {
      "text/html": [
       "<div><style>\n",
       ".dataframe > thead > tr > th,\n",
       ".dataframe > tbody > tr > td {\n",
       "  text-align: right;\n",
       "}\n",
       "</style>\n",
       "<small>shape: (39590, 7)</small><table border=\"1\" class=\"dataframe\"><thead><tr><th>ANO_EGRESO</th><th>REGION_RESIDENCIA</th><th>GLOSA_REGION_RESIDENCIA</th><th>COMUNA_RESIDENCIA</th><th>GLOSA_COMUNA_RESIDENCIA</th><th>DIAG1</th><th>conteo</th></tr><tr><td>i32</td><td>cat</td><td>cat</td><td>cat</td><td>cat</td><td>str</td><td>u32</td></tr></thead><tbody><tr><td>2002</td><td>&quot;13&quot;</td><td>&quot;Metropolitana …</td><td>&quot;13122&quot;</td><td>&quot;Peñalolén&quot;</td><td>&quot;J398&quot;</td><td>4</td></tr><tr><td>2004</td><td>&quot;13&quot;</td><td>&quot;Metropolitana …</td><td>&quot;13108&quot;</td><td>&quot;Independencia&quot;</td><td>&quot;I679&quot;</td><td>1</td></tr><tr><td>2004</td><td>&quot;13&quot;</td><td>&quot;Metropolitana …</td><td>&quot;13126&quot;</td><td>&quot;Quinta Normal&quot;</td><td>&quot;J931&quot;</td><td>2</td></tr><tr><td>2006</td><td>&quot;13&quot;</td><td>&quot;Metropolitana …</td><td>&quot;13605&quot;</td><td>&quot;Peñaflor&quot;</td><td>&quot;J47X&quot;</td><td>1</td></tr><tr><td>2009</td><td>&quot;15&quot;</td><td>&quot;De Arica y Par…</td><td>&quot;15101&quot;</td><td>&quot;Arica&quot;</td><td>&quot;Q213&quot;</td><td>2</td></tr><tr><td>2010</td><td>&quot;04&quot;</td><td>&quot;De Coquimbo&quot;</td><td>&quot;4102&quot;</td><td>&quot;Coquimbo&quot;</td><td>&quot;A182&quot;</td><td>1</td></tr><tr><td>2011</td><td>&quot;13&quot;</td><td>&quot;Metropolitana …</td><td>&quot;13131&quot;</td><td>&quot;San Ramón&quot;</td><td>&quot;J90X&quot;</td><td>2</td></tr><tr><td>2015</td><td>&quot;13&quot;</td><td>&quot;Metropolitana …</td><td>&quot;13106&quot;</td><td>&quot;Estación Centr…</td><td>&quot;J841&quot;</td><td>2</td></tr><tr><td>2015</td><td>&quot;05&quot;</td><td>&quot;De Valparaíso&quot;</td><td>&quot;5201&quot;</td><td>&quot;Isla  de Pascu…</td><td>&quot;I495&quot;</td><td>1</td></tr><tr><td>2016</td><td>&quot;13&quot;</td><td>&quot;Metropolitana …</td><td>&quot;13104&quot;</td><td>&quot;Conchalí&quot;</td><td>&quot;C781&quot;</td><td>1</td></tr><tr><td>2017</td><td>&quot;16&quot;</td><td>&quot;De Ñuble&quot;</td><td>&quot;16301&quot;</td><td>&quot;San Carlos&quot;</td><td>&quot;Z514&quot;</td><td>1</td></tr><tr><td>2018</td><td>&quot;13&quot;</td><td>&quot;Metropolitana …</td><td>&quot;13101&quot;</td><td>&quot;Santiago&quot;</td><td>&quot;I330&quot;</td><td>1</td></tr><tr><td>&hellip;</td><td>&hellip;</td><td>&hellip;</td><td>&hellip;</td><td>&hellip;</td><td>&hellip;</td><td>&hellip;</td></tr><tr><td>2006</td><td>&quot;13&quot;</td><td>&quot;Metropolitana …</td><td>&quot;13115&quot;</td><td>&quot;Lo Barnechea&quot;</td><td>&quot;J984&quot;</td><td>3</td></tr><tr><td>2008</td><td>&quot;13&quot;</td><td>&quot;Metropolitana …</td><td>&quot;13122&quot;</td><td>&quot;Peñalolén&quot;</td><td>&quot;I351&quot;</td><td>1</td></tr><tr><td>2016</td><td>&quot;13&quot;</td><td>&quot;Metropolitana …</td><td>&quot;13118&quot;</td><td>&quot;Macul&quot;</td><td>&quot;D151&quot;</td><td>1</td></tr><tr><td>2017</td><td>&quot;13&quot;</td><td>&quot;Metropolitana …</td><td>&quot;13105&quot;</td><td>&quot;El Bosque&quot;</td><td>&quot;I471&quot;</td><td>1</td></tr><tr><td>2017</td><td>&quot;13&quot;</td><td>&quot;Metropolitana …</td><td>&quot;13122&quot;</td><td>&quot;Peñalolén&quot;</td><td>&quot;I060&quot;</td><td>1</td></tr><tr><td>2017</td><td>&quot;13&quot;</td><td>&quot;Metropolitana …</td><td>&quot;13118&quot;</td><td>&quot;Macul&quot;</td><td>&quot;J955&quot;</td><td>1</td></tr><tr><td>2017</td><td>&quot;13&quot;</td><td>&quot;Metropolitana …</td><td>&quot;13115&quot;</td><td>&quot;Lo Barnechea&quot;</td><td>&quot;Q677&quot;</td><td>1</td></tr><tr><td>2019</td><td>&quot;13&quot;</td><td>&quot;Metropolitana …</td><td>&quot;13126&quot;</td><td>&quot;Quinta Normal&quot;</td><td>&quot;I251&quot;</td><td>1</td></tr><tr><td>2019</td><td>&quot;13&quot;</td><td>&quot;Metropolitana …</td><td>&quot;13123&quot;</td><td>&quot;Providencia&quot;</td><td>&quot;J958&quot;</td><td>1</td></tr><tr><td>2020</td><td>&quot;06&quot;</td><td>&quot;Del Libertador…</td><td>&quot;6101&quot;</td><td>&quot;Rancagua&quot;</td><td>&quot;J958&quot;</td><td>1</td></tr><tr><td>2001</td><td>&quot;13&quot;</td><td>&quot;Metropolitana …</td><td>&quot;13117&quot;</td><td>&quot;Lo Prado&quot;</td><td>&quot;Z136&quot;</td><td>1</td></tr><tr><td>2009</td><td>&quot;05&quot;</td><td>&quot;De Valparaíso&quot;</td><td>&quot;5803&quot;</td><td>&quot;Olmué&quot;</td><td>&quot;J449&quot;</td><td>1</td></tr></tbody></table></div>"
      ],
      "text/plain": [
       "shape: (39_590, 7)\n",
       "┌────────────┬─────────────────┬────────────────┬────────────────┬────────────────┬───────┬────────┐\n",
       "│ ANO_EGRESO ┆ REGION_RESIDENC ┆ GLOSA_REGION_R ┆ COMUNA_RESIDEN ┆ GLOSA_COMUNA_R ┆ DIAG1 ┆ conteo │\n",
       "│ ---        ┆ IA              ┆ ESIDENCIA      ┆ CIA            ┆ ESIDENCIA      ┆ ---   ┆ ---    │\n",
       "│ i32        ┆ ---             ┆ ---            ┆ ---            ┆ ---            ┆ str   ┆ u32    │\n",
       "│            ┆ cat             ┆ cat            ┆ cat            ┆ cat            ┆       ┆        │\n",
       "╞════════════╪═════════════════╪════════════════╪════════════════╪════════════════╪═══════╪════════╡\n",
       "│ 2002       ┆ 13              ┆ Metropolitana  ┆ 13122          ┆ Peñalolén      ┆ J398  ┆ 4      │\n",
       "│            ┆                 ┆ de Santiago    ┆                ┆                ┆       ┆        │\n",
       "│ 2004       ┆ 13              ┆ Metropolitana  ┆ 13108          ┆ Independencia  ┆ I679  ┆ 1      │\n",
       "│            ┆                 ┆ de Santiago    ┆                ┆                ┆       ┆        │\n",
       "│ 2004       ┆ 13              ┆ Metropolitana  ┆ 13126          ┆ Quinta Normal  ┆ J931  ┆ 2      │\n",
       "│            ┆                 ┆ de Santiago    ┆                ┆                ┆       ┆        │\n",
       "│ 2006       ┆ 13              ┆ Metropolitana  ┆ 13605          ┆ Peñaflor       ┆ J47X  ┆ 1      │\n",
       "│            ┆                 ┆ de Santiago    ┆                ┆                ┆       ┆        │\n",
       "│ …          ┆ …               ┆ …              ┆ …              ┆ …              ┆ …     ┆ …      │\n",
       "│ 2019       ┆ 13              ┆ Metropolitana  ┆ 13123          ┆ Providencia    ┆ J958  ┆ 1      │\n",
       "│            ┆                 ┆ de Santiago    ┆                ┆                ┆       ┆        │\n",
       "│ 2020       ┆ 06              ┆ Del Libertador ┆ 6101           ┆ Rancagua       ┆ J958  ┆ 1      │\n",
       "│            ┆                 ┆ B. O'Higgins   ┆                ┆                ┆       ┆        │\n",
       "│ 2001       ┆ 13              ┆ Metropolitana  ┆ 13117          ┆ Lo Prado       ┆ Z136  ┆ 1      │\n",
       "│            ┆                 ┆ de Santiago    ┆                ┆                ┆       ┆        │\n",
       "│ 2009       ┆ 05              ┆ De Valparaíso  ┆ 5803           ┆ Olmué          ┆ J449  ┆ 1      │\n",
       "└────────────┴─────────────────┴────────────────┴────────────────┴────────────────┴───────┴────────┘"
      ]
     },
     "execution_count": 38,
     "metadata": {},
     "output_type": "execute_result"
    }
   ],
   "source": [
    "resultado_sociodemo"
   ]
  },
  {
   "cell_type": "code",
   "execution_count": null,
   "metadata": {},
   "outputs": [],
   "source": []
  }
 ],
 "metadata": {
  "kernelspec": {
   "display_name": "Python 3",
   "language": "python",
   "name": "python3"
  },
  "language_info": {
   "codemirror_mode": {
    "name": "ipython",
    "version": 3
   },
   "file_extension": ".py",
   "mimetype": "text/x-python",
   "name": "python",
   "nbconvert_exporter": "python",
   "pygments_lexer": "ipython3",
   "version": "3.10.9"
  },
  "orig_nbformat": 4
 },
 "nbformat": 4,
 "nbformat_minor": 2
}
