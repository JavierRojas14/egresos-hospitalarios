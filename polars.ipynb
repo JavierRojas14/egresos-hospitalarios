{
 "cells": [
  {
   "attachments": {},
   "cell_type": "markdown",
   "metadata": {},
   "source": [
    "# Analisis de Egresos Hospitalarios"
   ]
  },
  {
   "cell_type": "code",
   "execution_count": 47,
   "metadata": {},
   "outputs": [],
   "source": [
    "import polars as pl\n",
    "import glob\n",
    "\n",
    "DICT_VARIABLES = {\n",
    "    'ESTABLECIMIENTO_SALUD': pl.Int32,\n",
    "    'GLOSA_ESTABLECIMIENTO_SALUD': pl.Categorical,\n",
    "    'PERTENENCIA_ESTABLECIMIENTO_SALUD': pl.Categorical,\n",
    "    'SEREMI': pl.Int8,\n",
    "    'SERVICIO_DE_SALUD': pl.Int8,\n",
    "    'SEXO': pl.Int8,\n",
    "    'EDAD_CANT': pl.Int8,\n",
    "    'TIPO_EDAD': pl.Int8,\n",
    "    'EDAD_A_OS': pl.Int8,\n",
    "    'PUEBLO_ORIGINARIO': pl.Int8,\n",
    "    'PAIS_ORIGEN': pl.Int16,\n",
    "    'GLOSA_COMUNA_RESIDENCIA': pl.Categorical,\n",
    "    'REGION_RESIDENCIA': pl.Categorical,\n",
    "    'GLOSA_REGION_RESIDENCIA': pl.Categorical,\n",
    "    'PREVISION': pl.Int8,\n",
    "    'BENEFICIARIO': pl.Categorical,\n",
    "    'MODALIDAD': pl.Int8,\n",
    "    'PROCEDENCIA': pl.Int8,\n",
    "    'ANO_EGRESO': pl.Int16,\n",
    "    'FECHA_EGRESO': pl.Date,\n",
    "    'AREA_FUNCIONAL_EGRESO': pl.Int16,\n",
    "    'DIAS_ESTADA': pl.Int16,\n",
    "    'CONDICION_EGRESO': pl.Int8,\n",
    "    'INTERV_Q': pl.Int8,\n",
    "    'CODIGO_INTERV_Q_PPAL': pl.Int32,\n",
    "    'PROCED': pl.Categorical,\n",
    "    'CODIGO_PROCED_PPAL': pl.Categorical,\n",
    "    'GLOSA_PROCED_PPAL': pl.Categorical\n",
    "}\n",
    "\n",
    "HOSPITAL_A_ANALIZAR = 112103 # Este es el Torax"
   ]
  },
  {
   "cell_type": "code",
   "execution_count": 74,
   "metadata": {},
   "outputs": [],
   "source": [
    "def obtener_diagnosticos_unicos_de_hospital(df, hospital_a_analizar):\n",
    "    diags_hospital = (df.filter(pl.col('ESTABLECIMIENTO_SALUD') == hospital_a_analizar)\n",
    "                      .select(pl.col('DIAG1')).unique())\n",
    "\n",
    "    return diags_hospital\n",
    "\n",
    "\n",
    "def obtener_metricas_egresos(df, agrupar_por):\n",
    "    metricas_agregadas = (df.groupby(agrupar_por).agg(\n",
    "        [pl.col('DIAG1').count().alias('n_egresos'),\n",
    "         pl.col('DIAS_ESTADA').mean().alias('dias_estada_promedio'),\n",
    "         pl.col('INTERV_Q').sum().alias('n_int_q'),\n",
    "         pl.col('CONDICION_EGRESO').sum().alias('n_muertos')]\n",
    "    )\n",
    "    )\n",
    "\n",
    "    return metricas_agregadas\n",
    "\n",
    "\n",
    "def remapear_int_q_y_muertes(df):\n",
    "    tmp = df.with_columns([\n",
    "        pl.col('INTERV_Q').map_dict({2: 0}, default=pl.col('INTERV_Q')).alias('INTERV_Q'),\n",
    "        pl.col('CONDICION_EGRESO').map_dict({1: 0, 2: 1}, default=pl.col('CONDICION_EGRESO'))\n",
    "        .alias('CONDICION_EGRESO')\n",
    "    ])\n",
    "\n",
    "    return tmp\n"
   ]
  },
  {
   "cell_type": "code",
   "execution_count": 83,
   "metadata": {},
   "outputs": [],
   "source": [
    "with pl.StringCache():\n",
    "    df_nacional = pl.scan_csv('input/utf-8/*.csv', separator=';')\n",
    "    diags_torax = (obtener_diagnosticos_unicos_de_hospital(df_nacional, HOSPITAL_A_ANALIZAR)\n",
    "                  .collect(streaming=True)).to_series()\n",
    "    df = df_nacional.filter(pl.col('DIAG1').is_in(diags_torax))\n",
    "    df = remapear_int_q_y_muertes(df)\n",
    "\n",
    "    agrupacion_anio = ['ANO_EGRESO', 'ESTABLECIMIENTO_SALUD', \n",
    "                       'GLOSA_ESTABLECIMIENTO_SALUD', 'DIAG1']\n",
    "    \n",
    "    metricas = obtener_metricas_egresos(df, agrupacion_anio).collect(streaming=True)"
   ]
  },
  {
   "attachments": {},
   "cell_type": "markdown",
   "metadata": {},
   "source": [
    "# Analisis de Estratos"
   ]
  },
  {
   "cell_type": "code",
   "execution_count": 99,
   "metadata": {},
   "outputs": [],
   "source": [
    "PERTENECE_SNSS = 'Pertenecientes al Sistema Nacional de Servicios de Salud, SNSS'\n",
    "NO_PERTENECE_SNSS = 'No Pertenecientes al Sistema Nacional de Servicios de Salud, SNSS'\n",
    "HOSPITALES_GRD = [118100, 110100, 115100, 121117, 103100, 116110, 119100, 113100,\n",
    "                  114101, 105101, 116108, 116105, 101100, 114105, 105100, 112102,\n",
    "                  133150, 126100, 121110, 121114, 129106, 113150, 107100, 106100,\n",
    "                  113130, 112100, 121121, 109100, 106103, 113180, 122100, 123100,\n",
    "                  107102, 110120, 105102, 111101, 111100, 108101, 124105, 128109,\n",
    "                  109101, 114103, 102100, 103101, 120101, 117101, 121109, 112101,\n",
    "                  104103, 115107, 107101, 110130, 116100, 118105, 115110, 112103,\n",
    "                  104100, 108100, 112104, 117102, 106102, 111195, 129100, 110150,\n",
    "                  125100]\n",
    "\n",
    "def obtener_codigos_estratos(df_nacional, hospital_interno):\n",
    "    df_publicos = df_nacional.filter(pl.col('PERTENENCIA_ESTABLECIMIENTO_SALUD') == PERTENECE_SNSS)\n",
    "    df_privados = df_nacional.filter((pl.col('PERTENENCIA_ESTABLECIMIENTO_SALUD') == NO_PERTENECE_SNSS) \n",
    "                                     | (pl.col('ESTABLECIMIENTO_SALUD') == HOSPITAL_A_ANALIZAR))\n",
    "\n",
    "    codigos_nacionales = df_nacional.select(pl.col('ESTABLECIMIENTO_SALUD')).unique().collect(streaming=True)\n",
    "    codigos_publicos = df_publicos.select(pl.col('ESTABLECIMIENTO_SALUD')).unique().collect(streaming=True)\n",
    "    codigos_privados = df_privados.select(pl.col('ESTABLECIMIENTO_SALUD')).unique().collect(streaming=True)\n",
    "\n",
    "\n",
    "    diccionario_estratos = {'nacionales': codigos_nacionales,\n",
    "                            'publicos': codigos_publicos,\n",
    "                            'privados': codigos_privados,\n",
    "                            'grd': HOSPITALES_GRD,\n",
    "                            'interno': [hospital_interno]}\n",
    "\n",
    "    return diccionario_estratos"
   ]
  },
  {
   "cell_type": "code",
   "execution_count": 100,
   "metadata": {},
   "outputs": [],
   "source": [
    "codigos = obtener_codigos_estratos(df_nacional, HOSPITAL_A_ANALIZAR)"
   ]
  }
 ],
 "metadata": {
  "kernelspec": {
   "display_name": "Python 3",
   "language": "python",
   "name": "python3"
  },
  "language_info": {
   "codemirror_mode": {
    "name": "ipython",
    "version": 3
   },
   "file_extension": ".py",
   "mimetype": "text/x-python",
   "name": "python",
   "nbconvert_exporter": "python",
   "pygments_lexer": "ipython3",
   "version": "3.10.9"
  },
  "orig_nbformat": 4
 },
 "nbformat": 4,
 "nbformat_minor": 2
}
