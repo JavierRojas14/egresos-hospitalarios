{
 "cells": [
  {
   "attachments": {},
   "cell_type": "markdown",
   "metadata": {},
   "source": [
    "# Analisis de Egresos Hospitalarios"
   ]
  },
  {
   "cell_type": "code",
   "execution_count": 28,
   "metadata": {},
   "outputs": [
    {
     "data": {
      "text/plain": [
       "<module 'calculo_metricas' from 'c:\\\\Users\\\\ppizarro\\\\Desktop\\\\Javier Rojas\\\\Javier\\\\trabajo\\\\SSMO\\\\EPH\\\\modulo_gestion\\\\1.analisis_problemas_de_salud\\\\egresos-hospitalarios\\\\calculo_metricas.py'>"
      ]
     },
     "execution_count": 28,
     "metadata": {},
     "output_type": "execute_result"
    }
   ],
   "source": [
    "import importlib\n",
    "\n",
    "import pandas as pd\n",
    "import numpy as np\n",
    "import polars as pl\n",
    "\n",
    "import matplotlib.pyplot as plt\n",
    "import seaborn as sns\n",
    "\n",
    "import lectura_archivos as fr\n",
    "import calculo_metricas as aux\n",
    "\n",
    "sns.set_style()\n",
    "plt.rcParams[\"figure.figsize\"] = (12, 6)\n",
    "\n",
    "importlib.reload(fr)\n",
    "importlib.reload(aux)"
   ]
  },
  {
   "cell_type": "code",
   "execution_count": 29,
   "metadata": {},
   "outputs": [],
   "source": [
    "HOSPITAL_A_ANALIZAR = 112103  # Este es el Torax"
   ]
  },
  {
   "attachments": {},
   "cell_type": "markdown",
   "metadata": {},
   "source": [
    "## Lectura de archivos\n",
    "\n",
    "- Se leen todos los archivos que estan en input/utf-8. Los archivos estan separados por ;\n",
    "- Se dejan solamente los egresos de los diagnosticos que **SI** tenga el Tórax\n",
    "- Se cambia la codificacion de INTERV_Q de 2 (No, 1 es SI) a 0.\n",
    "- Se cambia la codificacion de CONDICION_EGRESO (orig 1 = Vivo, 2 = Fallecido) de 1 -> 0 y 2 -> 1"
   ]
  },
  {
   "cell_type": "code",
   "execution_count": 23,
   "metadata": {},
   "outputs": [],
   "source": [
    "df = fr.leer_archivos(HOSPITAL_A_ANALIZAR)\n"
   ]
  },
  {
   "attachments": {},
   "cell_type": "markdown",
   "metadata": {},
   "source": [
    "# Analisis de Egresos Hospitalarios\n",
    "\n",
    "Se calculan las siguientes metricas:\n",
    "\n",
    "- Número de Egresos (n_egresos)\n",
    "- Días de Estada promedio (dias_estada_promedio)\n",
    "- Cantidad de Intervenciones Quirúrgicas (n_int_q)\n",
    "- Cantidad de Muertes (n_muertos)\n",
    "\n",
    "Todas estas metricas estan calculadas a nivel de Año, Establecimiento de Salud y Diagnóstico. Por\n",
    "ejemplo:\n",
    "\n",
    "***\"En el año 2019, el Hospital San José (código XXXXXXX) tuvo XX egresos, con XX dias estada_promedio,\n",
    "con XX intervenciones_quirúrgicas y XX muertos para el diagnóstico A24.4.\"***\n",
    "\n",
    "Este análisis se realizó entre 2001 y 2020 para todos los hospitales/clínicas de Chile."
   ]
  },
  {
   "cell_type": "code",
   "execution_count": 25,
   "metadata": {},
   "outputs": [],
   "source": [
    "AGRUPACION = [\n",
    "        \"ANO_EGRESO\",\n",
    "        \"ESTABLECIMIENTO_SALUD\",\n",
    "        \"GLOSA_ESTABLECIMIENTO_SALUD\",\n",
    "        \"DIAG1\",\n",
    "    ]\n",
    "\n",
    "metricas = aux.obtener_metricas_egresos(df, AGRUPACION).collect(streaming=True)"
   ]
  },
  {
   "attachments": {},
   "cell_type": "markdown",
   "metadata": {},
   "source": [
    "# Analisis de Estratos"
   ]
  },
  {
   "cell_type": "code",
   "execution_count": 30,
   "metadata": {},
   "outputs": [],
   "source": [
    "diccionario_estratos = aux.obtener_diccionario_estratos(df, HOSPITAL_A_ANALIZAR)"
   ]
  },
  {
   "cell_type": "code",
   "execution_count": null,
   "metadata": {},
   "outputs": [],
   "source": [
    "variables_a_rankear = [\"n_egresos\"]\n",
    "subgrupo_del_ranking = [\"ANO_EGRESO\", \"DIAG1\"]\n",
    "unir_tablas_por = agrupacion_anio"
   ]
  },
  {
   "cell_type": "code",
   "execution_count": null,
   "metadata": {},
   "outputs": [],
   "source": [
    "def obtener_metricas_para_un_estrato(\n",
    "    df_estrato, glosa_estrato, variable_analisis, subgrupo_del_ranking\n",
    "):\n",
    "    sufijo_cols = f\"_{glosa_estrato}_{variable_analisis}\"\n",
    "    var_rank = f\"ranking{sufijo_cols}\"\n",
    "    var_porc = f\"%{sufijo_cols}\"\n",
    "    var_total = f\"total{sufijo_cols}\"\n",
    "\n",
    "    resumen = df_estrato.with_columns(\n",
    "        (pl.col(\"DIAG1\").cumcount().over(subgrupo_del_ranking) + 1).alias(var_rank),\n",
    "        (pl.col(\"n_egresos\").sum().over(subgrupo_del_ranking)).alias(var_total),\n",
    "    )\n",
    "\n",
    "    resumen = resumen.with_columns((pl.col(\"n_egresos\") / pl.col(var_total)).alias(var_porc))\n",
    "\n",
    "    return resumen\n",
    "\n",
    "\n",
    "def obtener_resumen_por_estratos(df, dict_estratos, variables_a_rankear, subgrupo_del_ranking):\n",
    "    for variable_analisis in variables_a_rankear:\n",
    "        resultado_estrato = {}\n",
    "        df = df.sort(subgrupo_del_ranking + [variable_analisis], descending=True)\n",
    "\n",
    "        for glosa_estrato, codigos_en_estrato in dict_estratos.items():\n",
    "            if glosa_estrato == \"interno\":\n",
    "                subgrupo_del_ranking.remove(\"DIAG1\")\n",
    "\n",
    "            df_estrato = df.filter(pl.col(\"ESTABLECIMIENTO_SALUD\").is_in(codigos_en_estrato))\n",
    "            resumen = obtener_metricas_para_un_estrato(\n",
    "                df_estrato, glosa_estrato, variable_analisis, subgrupo_del_ranking\n",
    "            )\n",
    "\n",
    "            resultado_estrato[glosa_estrato] = resumen\n",
    "\n",
    "    return resultado_estrato"
   ]
  },
  {
   "cell_type": "code",
   "execution_count": null,
   "metadata": {},
   "outputs": [],
   "source": [
    "resultados = obtener_resumen_por_estratos(\n",
    "    metricas, diccionario_estratos, variables_a_rankear, subgrupo_del_ranking\n",
    ")\n"
   ]
  },
  {
   "cell_type": "code",
   "execution_count": null,
   "metadata": {},
   "outputs": [],
   "source": [
    "from functools import reduce\n",
    "\n",
    "\n",
    "def left_join_consecutivo(left, right):\n",
    "    return left.join(right, how=\"left\", on=metricas.columns)"
   ]
  },
  {
   "cell_type": "code",
   "execution_count": null,
   "metadata": {},
   "outputs": [],
   "source": [
    "resultado = reduce(left_join_consecutivo, resultados.values())"
   ]
  },
  {
   "cell_type": "code",
   "execution_count": null,
   "metadata": {},
   "outputs": [],
   "source": []
  }
 ],
 "metadata": {
  "kernelspec": {
   "display_name": "Python 3",
   "language": "python",
   "name": "python3"
  },
  "language_info": {
   "codemirror_mode": {
    "name": "ipython",
    "version": 3
   },
   "file_extension": ".py",
   "mimetype": "text/x-python",
   "name": "python",
   "nbconvert_exporter": "python",
   "pygments_lexer": "ipython3",
   "version": "3.10.9"
  },
  "orig_nbformat": 4
 },
 "nbformat": 4,
 "nbformat_minor": 2
}
