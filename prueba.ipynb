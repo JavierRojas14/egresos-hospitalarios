{
 "cells": [
  {
   "attachments": {},
   "cell_type": "markdown",
   "metadata": {},
   "source": [
    "# Analisis de Egresos Hospitalarios"
   ]
  },
  {
   "cell_type": "code",
   "execution_count": 6,
   "metadata": {},
   "outputs": [],
   "source": [
    "import polars as pl\n",
    "import glob\n",
    "\n",
    "DICT_VARIABLES = {\n",
    "    'ESTABLECIMIENTO_SALUD': pl.Int32,\n",
    "    'GLOSA_ESTABLECIMIENTO_SALUD': pl.Categorical,\n",
    "    'PERTENENCIA_ESTABLECIMIENTO_SALUD': pl.Categorical,\n",
    "    'SEREMI': pl.Int8,\n",
    "    'SERVICIO_DE_SALUD': pl.Int8,\n",
    "    'SEXO': pl.Int8,\n",
    "    'EDAD_CANT': pl.Int8,\n",
    "    'TIPO_EDAD': pl.Int8,\n",
    "    'EDAD_A_OS': pl.Int8,\n",
    "    'PUEBLO_ORIGINARIO': pl.Int8,\n",
    "    'PAIS_ORIGEN': pl.Int16,\n",
    "    'GLOSA_COMUNA_RESIDENCIA': pl.Categorical,\n",
    "    'REGION_RESIDENCIA': pl.Categorical,\n",
    "    'GLOSA_REGION_RESIDENCIA': pl.Categorical,\n",
    "    'PREVISION': pl.Int8,\n",
    "    'BENEFICIARIO': pl.Categorical,\n",
    "    'MODALIDAD': pl.Int8,\n",
    "    'PROCEDENCIA': pl.Int8,\n",
    "    'ANO_EGRESO': pl.Int16,\n",
    "    'FECHA_EGRESO': pl.Date,\n",
    "    'AREA_FUNCIONAL_EGRESO': pl.Int16,\n",
    "    'DIAS_ESTADA': pl.Int16,\n",
    "    'CONDICION_EGRESO': pl.Int8,\n",
    "    'INTERV_Q': pl.Int8,\n",
    "    'CODIGO_INTERV_Q_PPAL': pl.Int32,\n",
    "}\n",
    "\n",
    "HOSPITAL_A_ANALIZAR = 112103 # Este es el Torax"
   ]
  },
  {
   "cell_type": "code",
   "execution_count": 2,
   "metadata": {},
   "outputs": [],
   "source": [
    "def obtener_diagnosticos_unicos_de_hospital(hospital_a_analizar):\n",
    "  diags_hospital = (\n",
    "      pl.scan_csv('input/utf-8/*.csv', separator=';')\n",
    "        .filter(pl.col('ESTABLECIMIENTO_SALUD') == hospital_a_analizar)\n",
    "        .select(pl.col('DIAG1')).unique()\n",
    "        .collect(streaming=True)\n",
    "  ).to_series()\n",
    "\n",
    "  return diags_hospital\n",
    "\n",
    "diags_torax = obtener_diagnosticos_unicos_de_hospital(HOSPITAL_A_ANALIZAR)"
   ]
  },
  {
   "cell_type": "code",
   "execution_count": 3,
   "metadata": {},
   "outputs": [],
   "source": [
    "agrupacion_anio = ['ANO_EGRESO', 'ESTABLECIMIENTO_SALUD', 'GLOSA_ESTABLECIMIENTO_SALUD', 'DIAG1']\n",
    "\n",
    "metricas_agregadas = (\n",
    "    pl.scan_csv('input/utf-8/*.csv', separator=';')\n",
    "      .filter(pl.col('DIAG1').is_in(diags_torax))\n",
    "      .groupby(agrupacion_anio).agg(\n",
    "          [pl.col('DIAG1').count().alias('n_egresos'),\n",
    "           pl.col('DIAS_ESTADA').mean().alias('dias_estada_promedio'),\n",
    "           pl.col('INTERV_Q').sum().alias('n_int_q'),\n",
    "           pl.col('CONDICION_EGRESO').sum().alias('n_muertos')]\n",
    "      )\n",
    ")"
   ]
  },
  {
   "cell_type": "code",
   "execution_count": 4,
   "metadata": {},
   "outputs": [],
   "source": [
    "df = pl.read_csv('input/utf-8/Egresos_Hospitalarios_2014.csv', dtypes=DICT_VARIABLES, separator=';')"
   ]
  },
  {
   "cell_type": "code",
   "execution_count": 5,
   "metadata": {},
   "outputs": [
    {
     "data": {
      "text/html": [
       "<div><style>\n",
       ".dataframe > thead > tr > th,\n",
       ".dataframe > tbody > tr > td {\n",
       "  text-align: right;\n",
       "}\n",
       "</style>\n",
       "<small>shape: (326, 2)</small><table border=\"1\" class=\"dataframe\"><thead><tr><th>GLOSA_ESTABLECIMIENTO_SALUD</th><th>counts</th></tr><tr><td>cat</td><td>u32</td></tr></thead><tbody><tr><td>&quot;Hospital Clíni…</td><td>8251</td></tr><tr><td>&quot;Hospital Milit…</td><td>3085</td></tr><tr><td>&quot;Hospital de Pa…</td><td>160</td></tr><tr><td>&quot;Hospital San J…</td><td>1185</td></tr><tr><td>&quot;Hospital Carlo…</td><td>25973</td></tr><tr><td>&quot;Clínica Recupe…</td><td>86</td></tr><tr><td>&quot;Hospital de Te…</td><td>997</td></tr><tr><td>&quot;Hospital Dr. M…</td><td>2190</td></tr><tr><td>&quot;Hospital Clíni…</td><td>1382</td></tr><tr><td>&quot;Hospital Clíni…</td><td>5666</td></tr><tr><td>&quot;Hospital de Fl…</td><td>611</td></tr><tr><td>&quot;Hospital San J…</td><td>152</td></tr><tr><td>&hellip;</td><td>&hellip;</td></tr><tr><td>&quot;Hospital de Vi…</td><td>5638</td></tr><tr><td>&quot;Clínica Centra…</td><td>1878</td></tr><tr><td>&quot;Clínica Ciudad…</td><td>9047</td></tr><tr><td>&quot;Hospital Clíni…</td><td>7141</td></tr><tr><td>&quot;Clínica Urológ…</td><td>53</td></tr><tr><td>&quot;Hospital de Vi…</td><td>1307</td></tr><tr><td>&quot;Hospital Dr. L…</td><td>17768</td></tr><tr><td>&quot;Hospital Juana…</td><td>1991</td></tr><tr><td>&quot;Hospital El Pi…</td><td>16235</td></tr><tr><td>&quot;Clínica Region…</td><td>6970</td></tr><tr><td>&quot;Hospital Dr. G…</td><td>21171</td></tr><tr><td>&quot;Instituto de N…</td><td>3862</td></tr></tbody></table></div>"
      ],
      "text/plain": [
       "shape: (326, 2)\n",
       "┌───────────────────────────────────┬────────┐\n",
       "│ GLOSA_ESTABLECIMIENTO_SALUD       ┆ counts │\n",
       "│ ---                               ┆ ---    │\n",
       "│ cat                               ┆ u32    │\n",
       "╞═══════════════════════════════════╪════════╡\n",
       "│ Hospital Clínico Fusat  Rancagua… ┆ 8251   │\n",
       "│ Hospital Militar del Norte        ┆ 3085   │\n",
       "│ Hospital de Palena                ┆ 160    │\n",
       "│ Hospital San José de Maipo        ┆ 1185   │\n",
       "│ …                                 ┆ …      │\n",
       "│ Hospital El Pino (Santiago, San … ┆ 16235  │\n",
       "│ Clínica Regional Elqui            ┆ 6970   │\n",
       "│ Hospital Dr. Gustavo Fricke (Viñ… ┆ 21171  │\n",
       "│ Instituto de Neurocirugía Dr. Al… ┆ 3862   │\n",
       "└───────────────────────────────────┴────────┘"
      ]
     },
     "execution_count": 5,
     "metadata": {},
     "output_type": "execute_result"
    }
   ],
   "source": [
    "df['GLOSA_ESTABLECIMIENTO_SALUD'].value_counts()"
   ]
  },
  {
   "cell_type": "code",
   "execution_count": 22,
   "metadata": {},
   "outputs": [],
   "source": [
    "df = df.with_columns([\n",
    "    pl.col('INTERV_Q').map_dict({2: 0}, default=pl.col('INTERV_Q')).alias('INTERV_Q'),\n",
    "    pl.col('CONDICION_EGRESO').map_dict({1: 0, 2: 1}, \n",
    "                                        default=pl.col('CONDICION_EGRESO'))\n",
    "                                        .alias('CONDICION_EGRESO')\n",
    "])"
   ]
  },
  {
   "cell_type": "code",
   "execution_count": 6,
   "metadata": {},
   "outputs": [],
   "source": [
    "import pandas as pd\n",
    "import numpy as np\n",
    "\n",
    "import geopandas as gpd\n",
    "import geopy\n",
    "\n",
    "from geopy.geocoders import Nominatim\n",
    "from geopy.extra.rate_limiter import RateLimiter"
   ]
  },
  {
   "cell_type": "code",
   "execution_count": 25,
   "metadata": {},
   "outputs": [],
   "source": [
    "locator = Nominatim(user_agent='javier', timeout=20)\n",
    "rgeocode = RateLimiter(locator.reverse, min_delay_seconds=0.001)\n",
    "\n",
    "def location_info(x):\n",
    "    data = locator.geocode(x).raw\n",
    "    data_converted = pd.json_normalize(data).squeeze()\n",
    "    return data_converted"
   ]
  },
  {
   "cell_type": "code",
   "execution_count": 3,
   "metadata": {},
   "outputs": [],
   "source": [
    "df = pd.read_excel('output/distribucion_sociodemografica/distribucion_sociodemografica.xlsx')"
   ]
  },
  {
   "cell_type": "code",
   "execution_count": 43,
   "metadata": {},
   "outputs": [],
   "source": [
    "df['region_pais'] = 'Region ' + df['GLOSA_REGION_RESIDENCIA'] + ', Chile'\n",
    "df['comuna_region_pais'] = df['GLOSA_COMUNA_RESIDENCIA'] + ', ' + df['region_pais']"
   ]
  },
  {
   "cell_type": "code",
   "execution_count": 47,
   "metadata": {},
   "outputs": [
    {
     "ename": "AttributeError",
     "evalue": "'NoneType' object has no attribute 'raw'",
     "output_type": "error",
     "traceback": [
      "\u001b[1;31m---------------------------------------------------------------------------\u001b[0m",
      "\u001b[1;31mAttributeError\u001b[0m                            Traceback (most recent call last)",
      "Cell \u001b[1;32mIn[47], line 1\u001b[0m\n\u001b[1;32m----> 1\u001b[0m localizaciones \u001b[39m=\u001b[39m pd\u001b[39m.\u001b[39;49mSeries(df[\u001b[39m'\u001b[39;49m\u001b[39mregion_pais\u001b[39;49m\u001b[39m'\u001b[39;49m]\u001b[39m.\u001b[39;49munique())\u001b[39m.\u001b[39;49mapply(location_info)\n",
      "File \u001b[1;32mc:\\Users\\ppizarro\\AppData\\Local\\anaconda3\\lib\\site-packages\\pandas\\core\\series.py:4771\u001b[0m, in \u001b[0;36mSeries.apply\u001b[1;34m(self, func, convert_dtype, args, **kwargs)\u001b[0m\n\u001b[0;32m   4661\u001b[0m \u001b[39mdef\u001b[39;00m \u001b[39mapply\u001b[39m(\n\u001b[0;32m   4662\u001b[0m     \u001b[39mself\u001b[39m,\n\u001b[0;32m   4663\u001b[0m     func: AggFuncType,\n\u001b[1;32m   (...)\u001b[0m\n\u001b[0;32m   4666\u001b[0m     \u001b[39m*\u001b[39m\u001b[39m*\u001b[39mkwargs,\n\u001b[0;32m   4667\u001b[0m ) \u001b[39m-\u001b[39m\u001b[39m>\u001b[39m DataFrame \u001b[39m|\u001b[39m Series:\n\u001b[0;32m   4668\u001b[0m     \u001b[39m\"\"\"\u001b[39;00m\n\u001b[0;32m   4669\u001b[0m \u001b[39m    Invoke function on values of Series.\u001b[39;00m\n\u001b[0;32m   4670\u001b[0m \n\u001b[1;32m   (...)\u001b[0m\n\u001b[0;32m   4769\u001b[0m \u001b[39m    dtype: float64\u001b[39;00m\n\u001b[0;32m   4770\u001b[0m \u001b[39m    \"\"\"\u001b[39;00m\n\u001b[1;32m-> 4771\u001b[0m     \u001b[39mreturn\u001b[39;00m SeriesApply(\u001b[39mself\u001b[39;49m, func, convert_dtype, args, kwargs)\u001b[39m.\u001b[39;49mapply()\n",
      "File \u001b[1;32mc:\\Users\\ppizarro\\AppData\\Local\\anaconda3\\lib\\site-packages\\pandas\\core\\apply.py:1123\u001b[0m, in \u001b[0;36mSeriesApply.apply\u001b[1;34m(self)\u001b[0m\n\u001b[0;32m   1120\u001b[0m     \u001b[39mreturn\u001b[39;00m \u001b[39mself\u001b[39m\u001b[39m.\u001b[39mapply_str()\n\u001b[0;32m   1122\u001b[0m \u001b[39m# self.f is Callable\u001b[39;00m\n\u001b[1;32m-> 1123\u001b[0m \u001b[39mreturn\u001b[39;00m \u001b[39mself\u001b[39;49m\u001b[39m.\u001b[39;49mapply_standard()\n",
      "File \u001b[1;32mc:\\Users\\ppizarro\\AppData\\Local\\anaconda3\\lib\\site-packages\\pandas\\core\\apply.py:1174\u001b[0m, in \u001b[0;36mSeriesApply.apply_standard\u001b[1;34m(self)\u001b[0m\n\u001b[0;32m   1172\u001b[0m     \u001b[39melse\u001b[39;00m:\n\u001b[0;32m   1173\u001b[0m         values \u001b[39m=\u001b[39m obj\u001b[39m.\u001b[39mastype(\u001b[39mobject\u001b[39m)\u001b[39m.\u001b[39m_values\n\u001b[1;32m-> 1174\u001b[0m         mapped \u001b[39m=\u001b[39m lib\u001b[39m.\u001b[39;49mmap_infer(\n\u001b[0;32m   1175\u001b[0m             values,\n\u001b[0;32m   1176\u001b[0m             f,\n\u001b[0;32m   1177\u001b[0m             convert\u001b[39m=\u001b[39;49m\u001b[39mself\u001b[39;49m\u001b[39m.\u001b[39;49mconvert_dtype,\n\u001b[0;32m   1178\u001b[0m         )\n\u001b[0;32m   1180\u001b[0m \u001b[39mif\u001b[39;00m \u001b[39mlen\u001b[39m(mapped) \u001b[39mand\u001b[39;00m \u001b[39misinstance\u001b[39m(mapped[\u001b[39m0\u001b[39m], ABCSeries):\n\u001b[0;32m   1181\u001b[0m     \u001b[39m# GH#43986 Need to do list(mapped) in order to get treated as nested\u001b[39;00m\n\u001b[0;32m   1182\u001b[0m     \u001b[39m#  See also GH#25959 regarding EA support\u001b[39;00m\n\u001b[0;32m   1183\u001b[0m     \u001b[39mreturn\u001b[39;00m obj\u001b[39m.\u001b[39m_constructor_expanddim(\u001b[39mlist\u001b[39m(mapped), index\u001b[39m=\u001b[39mobj\u001b[39m.\u001b[39mindex)\n",
      "File \u001b[1;32mc:\\Users\\ppizarro\\AppData\\Local\\anaconda3\\lib\\site-packages\\pandas\\_libs\\lib.pyx:2924\u001b[0m, in \u001b[0;36mpandas._libs.lib.map_infer\u001b[1;34m()\u001b[0m\n",
      "Cell \u001b[1;32mIn[25], line 5\u001b[0m, in \u001b[0;36mlocation_info\u001b[1;34m(x)\u001b[0m\n\u001b[0;32m      4\u001b[0m \u001b[39mdef\u001b[39;00m \u001b[39mlocation_info\u001b[39m(x):\n\u001b[1;32m----> 5\u001b[0m     data \u001b[39m=\u001b[39m locator\u001b[39m.\u001b[39;49mgeocode(x)\u001b[39m.\u001b[39;49mraw\n\u001b[0;32m      6\u001b[0m     data_converted \u001b[39m=\u001b[39m pd\u001b[39m.\u001b[39mjson_normalize(data)\u001b[39m.\u001b[39msqueeze()\n\u001b[0;32m      7\u001b[0m     \u001b[39mreturn\u001b[39;00m data_converted\n",
      "\u001b[1;31mAttributeError\u001b[0m: 'NoneType' object has no attribute 'raw'"
     ]
    }
   ],
   "source": [
    "regiones_unicas = pd.Series(df['region_pais'].unique()).apply(location_info)"
   ]
  },
  {
   "cell_type": "code",
   "execution_count": 52,
   "metadata": {},
   "outputs": [
    {
     "data": {
      "text/plain": [
       "['De Aisén del Gral. C. Ibáñez del Campo',\n",
       " 'De Aisï¿½n del Gral. C. Ibï¿½ï¿½ez del Campo',\n",
       " 'De Antofagasta',\n",
       " 'De Arica y Parinacota',\n",
       " 'De Atacama',\n",
       " 'De Coquimbo',\n",
       " 'De La Araucanía',\n",
       " 'De La Araucanï¿½a',\n",
       " 'De Los Lagos',\n",
       " 'De Los Ríos',\n",
       " 'De Los Rï¿½os',\n",
       " 'De Magallanes y de La Antártica Chilena',\n",
       " 'De Magallanes y de La Antï¿½rtica Chilena',\n",
       " 'De Tarapacá',\n",
       " 'De Tarapacï¿½',\n",
       " 'De Valparaíso',\n",
       " 'De Valparaï¿½so',\n",
       " 'De Ñuble',\n",
       " 'De ï¿½uble',\n",
       " 'Del Bíobío',\n",
       " 'Del Bï¿½obï¿½o',\n",
       " \"Del Libertador B. O'Higgins\",\n",
       " 'Del Maule',\n",
       " 'Ignorada',\n",
       " 'Metropolitana de Santiago']"
      ]
     },
     "execution_count": 52,
     "metadata": {},
     "output_type": "execute_result"
    }
   ],
   "source": [
    "sorted(df['GLOSA_REGION_RESIDENCIA'].unique())"
   ]
  },
  {
   "cell_type": "code",
   "execution_count": null,
   "metadata": {},
   "outputs": [],
   "source": [
    "with open('input/Egresos_Hospitalarios_2014.csv', encoding='latin-1') as f:\n",
    "    df = pl.read_csv(f.read())"
   ]
  },
  {
   "cell_type": "code",
   "execution_count": 58,
   "metadata": {},
   "outputs": [],
   "source": [
    "df = pl.read_csv('input/Egresos_Hospitalarios_2014.csv', separator=';', dtypes=DICT_VARIABLES,\n",
    "                 use_pyarrow=False)"
   ]
  },
  {
   "cell_type": "code",
   "execution_count": 107,
   "metadata": {},
   "outputs": [],
   "source": [
    "with open('input/Egresos_Hospitalarios_2014.csv', encoding='utf-8') as f:\n",
    "    df = pl.read_csv(f.read().encode('utf-8'), separator=';', dtypes=DICT_VARIABLES)"
   ]
  },
  {
   "cell_type": "code",
   "execution_count": 108,
   "metadata": {},
   "outputs": [
    {
     "data": {
      "text/html": [
       "<div><style>\n",
       ".dataframe > thead > tr > th,\n",
       ".dataframe > tbody > tr > td {\n",
       "  text-align: right;\n",
       "}\n",
       "</style>\n",
       "<small>shape: (1660151, 37)</small><table border=\"1\" class=\"dataframe\"><thead><tr><th>ID_PACIENTE</th><th>ESTABLECIMIENTO_SALUD</th><th>GLOSA_ESTABLECIMIENTO_SALUD</th><th>PERTENENCIA_ESTABLECIMIENTO_SALUD</th><th>SEREMI</th><th>SERVICIO_DE_SALUD</th><th>SEXO</th><th>FECHA_NACIMIENTO</th><th>EDAD_CANT</th><th>TIPO_EDAD</th><th>EDAD_A_OS</th><th>PUEBLO_ORIGINARIO</th><th>PAIS_ORIGEN</th><th>GLOSA_PAIS_ORIGEN</th><th>COMUNA_RESIDENCIA</th><th>GLOSA_COMUNA_RESIDENCIA</th><th>REGION_RESIDENCIA</th><th>GLOSA_REGION_RESIDENCIA</th><th>PREVISION</th><th>BENEFICIARIO</th><th>MODALIDAD</th><th>PROCEDENCIA</th><th>ANO_EGRESO</th><th>FECHA_EGRESO</th><th>AREA_FUNCIONAL_EGRESO</th><th>DIAS_ESTADA</th><th>CONDICION_EGRESO</th><th>DIAG1</th><th>GLOSA_DIAG1</th><th>DIAG2</th><th>GLOSA_DIAG2</th><th>INTERV_Q</th><th>CODIGO_INTERV_Q_PPAL</th><th>GLOSA_INTERV_Q_PPAL</th><th>PROCED</th><th>CODIGO_PROCED_PPAL</th><th>GLOSA_PROCED_PPAL</th></tr><tr><td>str</td><td>i32</td><td>cat</td><td>cat</td><td>i8</td><td>i8</td><td>i8</td><td>str</td><td>i8</td><td>i8</td><td>i8</td><td>i8</td><td>i16</td><td>str</td><td>i64</td><td>cat</td><td>cat</td><td>cat</td><td>i8</td><td>cat</td><td>i8</td><td>i8</td><td>i16</td><td>date</td><td>i16</td><td>i16</td><td>i8</td><td>str</td><td>str</td><td>str</td><td>str</td><td>i8</td><td>i32</td><td>str</td><td>str</td><td>str</td><td>str</td></tr></thead><tbody><tr><td>&quot;NA&quot;</td><td>112101</td><td>&quot;Hospital Dr. L…</td><td>&quot;Pertenecientes…</td><td>null</td><td>12</td><td>2</td><td>&quot;2014-12-08&quot;</td><td>2</td><td>3</td><td>0</td><td>96</td><td>152</td><td>&quot;Chile&quot;</td><td>13122</td><td>&quot;Pe�alol�n&quot;</td><td>&quot;13&quot;</td><td>&quot;Metropolitana …</td><td>99</td><td>null</td><td>null</td><td>1</td><td>2014</td><td>2014-12-10</td><td>324</td><td>2</td><td>1</td><td>&quot;P221&quot;</td><td>&quot;TAQUIPNEA TRAN…</td><td>null</td><td>null</td><td>2</td><td>null</td><td>null</td><td>null</td><td>null</td><td>null</td></tr><tr><td>&quot;NA&quot;</td><td>112101</td><td>&quot;Hospital Dr. L…</td><td>&quot;Pertenecientes…</td><td>null</td><td>12</td><td>1</td><td>&quot;2014-12-08&quot;</td><td>5</td><td>3</td><td>0</td><td>96</td><td>152</td><td>&quot;Chile&quot;</td><td>15101</td><td>&quot;Arica&quot;</td><td>&quot;15&quot;</td><td>&quot;De Arica y Par…</td><td>99</td><td>null</td><td>null</td><td>1</td><td>2014</td><td>2014-12-13</td><td>152</td><td>5</td><td>1</td><td>&quot;P221&quot;</td><td>&quot;TAQUIPNEA TRAN…</td><td>null</td><td>null</td><td>2</td><td>null</td><td>null</td><td>null</td><td>null</td><td>null</td></tr><tr><td>&quot;NA&quot;</td><td>112101</td><td>&quot;Hospital Dr. L…</td><td>&quot;Pertenecientes…</td><td>null</td><td>12</td><td>1</td><td>&quot;2014-12-05&quot;</td><td>5</td><td>3</td><td>0</td><td>96</td><td>152</td><td>&quot;Chile&quot;</td><td>13122</td><td>&quot;Pe�alol�n&quot;</td><td>&quot;13&quot;</td><td>&quot;Metropolitana …</td><td>99</td><td>null</td><td>null</td><td>5</td><td>2014</td><td>2014-12-10</td><td>152</td><td>2</td><td>1</td><td>&quot;P598&quot;</td><td>&quot;ICTERICIA NEON…</td><td>null</td><td>null</td><td>2</td><td>null</td><td>null</td><td>null</td><td>null</td><td>null</td></tr><tr><td>&quot;NA&quot;</td><td>112101</td><td>&quot;Hospital Dr. L…</td><td>&quot;Pertenecientes…</td><td>null</td><td>12</td><td>1</td><td>&quot;2014-12-09&quot;</td><td>13</td><td>3</td><td>0</td><td>96</td><td>152</td><td>&quot;Chile&quot;</td><td>13115</td><td>&quot;Lo Barnechea&quot;</td><td>&quot;13&quot;</td><td>&quot;Metropolitana …</td><td>99</td><td>null</td><td>null</td><td>1</td><td>2014</td><td>2014-12-22</td><td>324</td><td>13</td><td>1</td><td>&quot;P590&quot;</td><td>&quot;ICTERICIA NEON…</td><td>null</td><td>null</td><td>2</td><td>null</td><td>null</td><td>null</td><td>null</td><td>null</td></tr><tr><td>&quot;NA&quot;</td><td>112101</td><td>&quot;Hospital Dr. L…</td><td>&quot;Pertenecientes…</td><td>null</td><td>12</td><td>2</td><td>&quot;2014-12-07&quot;</td><td>4</td><td>3</td><td>0</td><td>96</td><td>152</td><td>&quot;Chile&quot;</td><td>13122</td><td>&quot;Pe�alol�n&quot;</td><td>&quot;13&quot;</td><td>&quot;Metropolitana …</td><td>99</td><td>null</td><td>null</td><td>5</td><td>2014</td><td>2014-12-11</td><td>152</td><td>2</td><td>1</td><td>&quot;P598&quot;</td><td>&quot;ICTERICIA NEON…</td><td>null</td><td>null</td><td>2</td><td>null</td><td>null</td><td>null</td><td>null</td><td>null</td></tr><tr><td>&quot;NA&quot;</td><td>112101</td><td>&quot;Hospital Dr. L…</td><td>&quot;Pertenecientes…</td><td>null</td><td>12</td><td>2</td><td>&quot;2014-12-09&quot;</td><td>2</td><td>3</td><td>0</td><td>96</td><td>152</td><td>&quot;Chile&quot;</td><td>13122</td><td>&quot;Pe�alol�n&quot;</td><td>&quot;13&quot;</td><td>&quot;Metropolitana …</td><td>99</td><td>null</td><td>null</td><td>5</td><td>2014</td><td>2014-12-11</td><td>152</td><td>2</td><td>1</td><td>&quot;Q185&quot;</td><td>&quot;MICROSTOMIA&quot;</td><td>null</td><td>null</td><td>2</td><td>null</td><td>null</td><td>null</td><td>null</td><td>null</td></tr><tr><td>&quot;NA&quot;</td><td>107224</td><td>&quot;Hospital Cl�ni…</td><td>&quot;No Pertenecien…</td><td>5</td><td>null</td><td>2</td><td>&quot;2014-01-22&quot;</td><td>2</td><td>3</td><td>0</td><td>96</td><td>152</td><td>&quot;Chile&quot;</td><td>5804</td><td>&quot;Villa Alemana&quot;</td><td>&quot;05&quot;</td><td>&quot;De Valpara�so&quot;</td><td>2</td><td>null</td><td>null</td><td>5</td><td>2014</td><td>2014-01-25</td><td>330</td><td>1</td><td>1</td><td>&quot;P599&quot;</td><td>&quot;ICTERICIA NEON…</td><td>null</td><td>null</td><td>2</td><td>null</td><td>null</td><td>null</td><td>null</td><td>null</td></tr><tr><td>&quot;NA&quot;</td><td>107224</td><td>&quot;Hospital Cl�ni…</td><td>&quot;No Pertenecien…</td><td>5</td><td>null</td><td>1</td><td>&quot;2014-01-14&quot;</td><td>2</td><td>3</td><td>0</td><td>96</td><td>152</td><td>&quot;Chile&quot;</td><td>5502</td><td>&quot;Calera&quot;</td><td>&quot;05&quot;</td><td>&quot;De Valpara�so&quot;</td><td>1</td><td>&quot;C&quot;</td><td>2</td><td>5</td><td>2014</td><td>2014-01-26</td><td>311</td><td>10</td><td>1</td><td>&quot;P239&quot;</td><td>&quot;NEUMONIA CONGE…</td><td>null</td><td>null</td><td>2</td><td>null</td><td>null</td><td>null</td><td>null</td><td>null</td></tr><tr><td>&quot;NA&quot;</td><td>101100</td><td>&quot;Hospital Dr. J…</td><td>&quot;Pertenecientes…</td><td>null</td><td>1</td><td>2</td><td>&quot;1928-01-21&quot;</td><td>86</td><td>1</td><td>86</td><td>96</td><td>152</td><td>&quot;Chile&quot;</td><td>15101</td><td>&quot;Arica&quot;</td><td>&quot;15&quot;</td><td>&quot;De Arica y Par…</td><td>1</td><td>&quot;B&quot;</td><td>1</td><td>1</td><td>2014</td><td>2014-02-19</td><td>110</td><td>4</td><td>1</td><td>&quot;I509&quot;</td><td>&quot;INSUFICIENCIA …</td><td>null</td><td>null</td><td>2</td><td>null</td><td>null</td><td>null</td><td>null</td><td>null</td></tr><tr><td>&quot;NA&quot;</td><td>101100</td><td>&quot;Hospital Dr. J…</td><td>&quot;Pertenecientes…</td><td>null</td><td>1</td><td>2</td><td>&quot;1961-08-09&quot;</td><td>52</td><td>1</td><td>52</td><td>96</td><td>152</td><td>&quot;Chile&quot;</td><td>15101</td><td>&quot;Arica&quot;</td><td>&quot;15&quot;</td><td>&quot;De Arica y Par…</td><td>1</td><td>&quot;A&quot;</td><td>1</td><td>1</td><td>2014</td><td>2014-02-19</td><td>120</td><td>18</td><td>1</td><td>&quot;K802&quot;</td><td>&quot;CALCULO DE LA …</td><td>null</td><td>null</td><td>1</td><td>1802028</td><td>&quot;Colecistectom�…</td><td>null</td><td>null</td><td>null</td></tr><tr><td>&quot;NA&quot;</td><td>101100</td><td>&quot;Hospital Dr. J…</td><td>&quot;Pertenecientes…</td><td>null</td><td>1</td><td>2</td><td>&quot;1985-07-02&quot;</td><td>28</td><td>1</td><td>28</td><td>96</td><td>152</td><td>&quot;Chile&quot;</td><td>15101</td><td>&quot;Arica&quot;</td><td>&quot;15&quot;</td><td>&quot;De Arica y Par…</td><td>1</td><td>&quot;A&quot;</td><td>1</td><td>1</td><td>2014</td><td>2014-02-19</td><td>161</td><td>6</td><td>1</td><td>&quot;O829&quot;</td><td>&quot;PARTO POR CESA…</td><td>null</td><td>null</td><td>1</td><td>2004006</td><td>&quot;Ces�rea c/s sa…</td><td>null</td><td>null</td><td>null</td></tr><tr><td>&quot;NA&quot;</td><td>101100</td><td>&quot;Hospital Dr. J…</td><td>&quot;Pertenecientes…</td><td>null</td><td>1</td><td>2</td><td>&quot;1984-07-14&quot;</td><td>29</td><td>1</td><td>29</td><td>96</td><td>152</td><td>&quot;Chile&quot;</td><td>15101</td><td>&quot;Arica&quot;</td><td>&quot;15&quot;</td><td>&quot;De Arica y Par…</td><td>1</td><td>&quot;A&quot;</td><td>1</td><td>1</td><td>2014</td><td>2014-02-19</td><td>161</td><td>2</td><td>1</td><td>&quot;O800&quot;</td><td>&quot;PARTO UNICO ES…</td><td>null</td><td>null</td><td>2</td><td>null</td><td>null</td><td>null</td><td>null</td><td>null</td></tr><tr><td>&hellip;</td><td>&hellip;</td><td>&hellip;</td><td>&hellip;</td><td>&hellip;</td><td>&hellip;</td><td>&hellip;</td><td>&hellip;</td><td>&hellip;</td><td>&hellip;</td><td>&hellip;</td><td>&hellip;</td><td>&hellip;</td><td>&hellip;</td><td>&hellip;</td><td>&hellip;</td><td>&hellip;</td><td>&hellip;</td><td>&hellip;</td><td>&hellip;</td><td>&hellip;</td><td>&hellip;</td><td>&hellip;</td><td>&hellip;</td><td>&hellip;</td><td>&hellip;</td><td>&hellip;</td><td>&hellip;</td><td>&hellip;</td><td>&hellip;</td><td>&hellip;</td><td>&hellip;</td><td>&hellip;</td><td>&hellip;</td><td>&hellip;</td><td>&hellip;</td><td>&hellip;</td></tr><tr><td>&quot;NA&quot;</td><td>121121</td><td>&quot;Hospital de Vi…</td><td>&quot;Pertenecientes…</td><td>null</td><td>21</td><td>1</td><td>&quot;2014-01-02&quot;</td><td>1</td><td>3</td><td>0</td><td>96</td><td>152</td><td>&quot;Chile&quot;</td><td>9120</td><td>&quot;Villarrica&quot;</td><td>&quot;09&quot;</td><td>&quot;De La Araucan�…</td><td>1</td><td>&quot;A&quot;</td><td>1</td><td>1</td><td>2014</td><td>2014-01-02</td><td>409</td><td>1</td><td>1</td><td>&quot;P034&quot;</td><td>&quot;FETO Y RECIEN …</td><td>null</td><td>null</td><td>2</td><td>null</td><td>null</td><td>null</td><td>null</td><td>null</td></tr><tr><td>&quot;NA&quot;</td><td>103101</td><td>&quot;Hospital Dr. C…</td><td>&quot;Pertenecientes…</td><td>null</td><td>3</td><td>2</td><td>&quot;1993-03-03&quot;</td><td>21</td><td>1</td><td>21</td><td>96</td><td>604</td><td>&quot;Per�&quot;</td><td>2201</td><td>&quot;Calama&quot;</td><td>&quot;02&quot;</td><td>&quot;De Antofagasta…</td><td>96</td><td>null</td><td>null</td><td>1</td><td>2014</td><td>2014-07-30</td><td>416</td><td>3</td><td>1</td><td>&quot;O809&quot;</td><td>&quot;PARTO UNICO ES…</td><td>null</td><td>null</td><td>2</td><td>null</td><td>null</td><td>null</td><td>null</td><td>null</td></tr><tr><td>&quot;NA&quot;</td><td>112212</td><td>&quot;Cl�nica Las Co…</td><td>&quot;No Pertenecien…</td><td>13</td><td>null</td><td>1</td><td>&quot;2014-09-14&quot;</td><td>1</td><td>2</td><td>0</td><td>96</td><td>152</td><td>&quot;Chile&quot;</td><td>6101</td><td>&quot;Rancagua&quot;</td><td>&quot;06&quot;</td><td>&quot;Del Libertador…</td><td>99</td><td>null</td><td>null</td><td>5</td><td>2014</td><td>2014-10-17</td><td>414</td><td>33</td><td>1</td><td>&quot;P073&quot;</td><td>&quot;OTROS RECIEN N…</td><td>null</td><td>null</td><td>2</td><td>null</td><td>null</td><td>null</td><td>null</td><td>null</td></tr><tr><td>&quot;NA&quot;</td><td>106100</td><td>&quot;Hospital Carlo…</td><td>&quot;Pertenecientes…</td><td>null</td><td>6</td><td>1</td><td>&quot;2014-02-13&quot;</td><td>2</td><td>3</td><td>0</td><td>96</td><td>152</td><td>&quot;Chile&quot;</td><td>5102</td><td>&quot;Casablanca&quot;</td><td>&quot;05&quot;</td><td>&quot;De Valpara�so&quot;</td><td>1</td><td>&quot;B&quot;</td><td>1</td><td>1</td><td>2014</td><td>2014-02-17</td><td>413</td><td>2</td><td>1</td><td>&quot;P599&quot;</td><td>&quot;ICTERICIA NEON…</td><td>null</td><td>null</td><td>2</td><td>null</td><td>null</td><td>null</td><td>null</td><td>null</td></tr><tr><td>&quot;NA&quot;</td><td>121121</td><td>&quot;Hospital de Vi…</td><td>&quot;Pertenecientes…</td><td>null</td><td>21</td><td>1</td><td>&quot;2014-01-06&quot;</td><td>1</td><td>4</td><td>0</td><td>1</td><td>152</td><td>&quot;Chile&quot;</td><td>9120</td><td>&quot;Villarrica&quot;</td><td>&quot;09&quot;</td><td>&quot;De La Araucan�…</td><td>1</td><td>&quot;A&quot;</td><td>1</td><td>1</td><td>2014</td><td>2014-01-06</td><td>409</td><td>1</td><td>1</td><td>&quot;P034&quot;</td><td>&quot;FETO Y RECIEN …</td><td>null</td><td>null</td><td>2</td><td>null</td><td>null</td><td>null</td><td>null</td><td>null</td></tr><tr><td>&quot;NA&quot;</td><td>121121</td><td>&quot;Hospital de Vi…</td><td>&quot;Pertenecientes…</td><td>null</td><td>21</td><td>1</td><td>&quot;2014-01-06&quot;</td><td>1</td><td>4</td><td>0</td><td>96</td><td>152</td><td>&quot;Chile&quot;</td><td>9120</td><td>&quot;Villarrica&quot;</td><td>&quot;09&quot;</td><td>&quot;De La Araucan�…</td><td>1</td><td>&quot;A&quot;</td><td>1</td><td>1</td><td>2014</td><td>2014-01-06</td><td>409</td><td>1</td><td>1</td><td>&quot;P034&quot;</td><td>&quot;FETO Y RECIEN …</td><td>null</td><td>null</td><td>2</td><td>null</td><td>null</td><td>null</td><td>null</td><td>null</td></tr><tr><td>&quot;NA&quot;</td><td>120101</td><td>&quot;Complejo Asist…</td><td>&quot;Pertenecientes…</td><td>null</td><td>20</td><td>1</td><td>&quot;2013-09-18&quot;</td><td>11</td><td>2</td><td>0</td><td>96</td><td>152</td><td>&quot;Chile&quot;</td><td>8311</td><td>&quot;Santa B�rbara&quot;</td><td>&quot;08&quot;</td><td>&quot;Del B�ob�o&quot;</td><td>96</td><td>null</td><td>null</td><td>1</td><td>2014</td><td>2014-08-14</td><td>410</td><td>1</td><td>1</td><td>&quot;T232&quot;</td><td>&quot;QUEMADURA DE L…</td><td>&quot;X020&quot;</td><td>&quot;EXPOSICI�N A F…</td><td>1</td><td>1502064</td><td>&quot;Escarectom�a- …</td><td>null</td><td>null</td><td>null</td></tr><tr><td>&quot;B3F1E756869E7E…</td><td>110120</td><td>&quot;Hospital Dr. F…</td><td>&quot;Pertenecientes…</td><td>null</td><td>10</td><td>1</td><td>&quot;2014-10-10&quot;</td><td>2</td><td>2</td><td>0</td><td>96</td><td>152</td><td>&quot;Chile&quot;</td><td>13124</td><td>&quot;Pudahuel&quot;</td><td>&quot;13&quot;</td><td>&quot;Metropolitana …</td><td>1</td><td>&quot;A&quot;</td><td>1</td><td>1</td><td>2014</td><td>2014-12-29</td><td>407</td><td>8</td><td>1</td><td>&quot;J969&quot;</td><td>&quot;INSUFICIENCIA …</td><td>null</td><td>null</td><td>2</td><td>null</td><td>null</td><td>null</td><td>null</td><td>null</td></tr><tr><td>&quot;3D5CA82714CB24…</td><td>121109</td><td>&quot;Hospital Dr. H…</td><td>&quot;Pertenecientes…</td><td>null</td><td>21</td><td>1</td><td>&quot;2014-10-09&quot;</td><td>1</td><td>3</td><td>0</td><td>96</td><td>152</td><td>&quot;Chile&quot;</td><td>9109</td><td>&quot;Loncoche&quot;</td><td>&quot;09&quot;</td><td>&quot;De La Araucan�…</td><td>1</td><td>&quot;C&quot;</td><td>1</td><td>5</td><td>2014</td><td>2014-10-11</td><td>415</td><td>2</td><td>1</td><td>&quot;P704&quot;</td><td>&quot;OTRAS HIPOGLIC…</td><td>null</td><td>null</td><td>2</td><td>null</td><td>null</td><td>null</td><td>null</td><td>null</td></tr><tr><td>&quot;5785A671C38116…</td><td>115107</td><td>&quot;Hospital San J…</td><td>&quot;Pertenecientes…</td><td>null</td><td>15</td><td>1</td><td>&quot;2014-10-09&quot;</td><td>3</td><td>3</td><td>0</td><td>96</td><td>152</td><td>&quot;Chile&quot;</td><td>6301</td><td>&quot;San Fernando&quot;</td><td>&quot;06&quot;</td><td>&quot;Del Libertador…</td><td>1</td><td>&quot;B&quot;</td><td>1</td><td>1</td><td>2014</td><td>2014-10-15</td><td>413</td><td>2</td><td>1</td><td>&quot;P599&quot;</td><td>&quot;ICTERICIA NEON…</td><td>null</td><td>null</td><td>2</td><td>null</td><td>null</td><td>null</td><td>null</td><td>null</td></tr><tr><td>&quot;NA&quot;</td><td>109201</td><td>&quot;Cl�nica D�vila…</td><td>&quot;No Pertenecien…</td><td>13</td><td>null</td><td>1</td><td>&quot;2014-03-25&quot;</td><td>1</td><td>3</td><td>0</td><td>96</td><td>152</td><td>&quot;Chile&quot;</td><td>13110</td><td>&quot;La Florida&quot;</td><td>&quot;13&quot;</td><td>&quot;Metropolitana …</td><td>2</td><td>null</td><td>null</td><td>5</td><td>2014</td><td>2014-03-28</td><td>414</td><td>3</td><td>1</td><td>&quot;P704&quot;</td><td>&quot;OTRAS HIPOGLIC…</td><td>null</td><td>null</td><td>2</td><td>null</td><td>null</td><td>null</td><td>null</td><td>null</td></tr><tr><td>&quot;NA&quot;</td><td>109201</td><td>&quot;Cl�nica D�vila…</td><td>&quot;No Pertenecien…</td><td>13</td><td>null</td><td>2</td><td>&quot;2014-03-26&quot;</td><td>1</td><td>3</td><td>0</td><td>96</td><td>152</td><td>&quot;Chile&quot;</td><td>13116</td><td>&quot;Lo Espejo&quot;</td><td>&quot;13&quot;</td><td>&quot;Metropolitana …</td><td>1</td><td>&quot;D&quot;</td><td>2</td><td>5</td><td>2014</td><td>2014-03-28</td><td>413</td><td>2</td><td>1</td><td>&quot;P220&quot;</td><td>&quot;SINDROME DE DI…</td><td>null</td><td>null</td><td>2</td><td>null</td><td>null</td><td>null</td><td>null</td><td>null</td></tr></tbody></table></div>"
      ],
      "text/plain": [
       "shape: (1_660_151, 37)\n",
       "┌───────────┬────────────┬────────────┬────────────┬───┬────────────┬────────┬────────────┬────────────┐\n",
       "│ ID_PACIEN ┆ ESTABLECIM ┆ GLOSA_ESTA ┆ PERTENENCI ┆ … ┆ GLOSA_INTE ┆ PROCED ┆ CODIGO_PRO ┆ GLOSA_PROC │\n",
       "│ TE        ┆ IENTO_SALU ┆ BLECIMIENT ┆ A_ESTABLEC ┆   ┆ RV_Q_PPAL  ┆ ---    ┆ CED_PPAL   ┆ ED_PPAL    │\n",
       "│ ---       ┆ D          ┆ O_SALUD    ┆ IMIENTO_SA ┆   ┆ ---        ┆ str    ┆ ---        ┆ ---        │\n",
       "│ str       ┆ ---        ┆ ---        ┆ LU…        ┆   ┆ str        ┆        ┆ str        ┆ str        │\n",
       "│           ┆ i32        ┆ cat        ┆ ---        ┆   ┆            ┆        ┆            ┆            │\n",
       "│           ┆            ┆            ┆ cat        ┆   ┆            ┆        ┆            ┆            │\n",
       "╞═══════════╪════════════╪════════════╪════════════╪═══╪════════════╪════════╪════════════╪════════════╡\n",
       "│ NA        ┆ 112101     ┆ Hospital   ┆ Pertenecie ┆ … ┆ null       ┆ null   ┆ null       ┆ null       │\n",
       "│           ┆            ┆ Dr. Luis   ┆ ntes al    ┆   ┆            ┆        ┆            ┆            │\n",
       "│           ┆            ┆ Tisn� B.   ┆ Sistema    ┆   ┆            ┆        ┆            ┆            │\n",
       "│           ┆            ┆ (Sant…     ┆ Nacion…    ┆   ┆            ┆        ┆            ┆            │\n",
       "│ NA        ┆ 112101     ┆ Hospital   ┆ Pertenecie ┆ … ┆ null       ┆ null   ┆ null       ┆ null       │\n",
       "│           ┆            ┆ Dr. Luis   ┆ ntes al    ┆   ┆            ┆        ┆            ┆            │\n",
       "│           ┆            ┆ Tisn� B.   ┆ Sistema    ┆   ┆            ┆        ┆            ┆            │\n",
       "│           ┆            ┆ (Sant…     ┆ Nacion…    ┆   ┆            ┆        ┆            ┆            │\n",
       "│ NA        ┆ 112101     ┆ Hospital   ┆ Pertenecie ┆ … ┆ null       ┆ null   ┆ null       ┆ null       │\n",
       "│           ┆            ┆ Dr. Luis   ┆ ntes al    ┆   ┆            ┆        ┆            ┆            │\n",
       "│           ┆            ┆ Tisn� B.   ┆ Sistema    ┆   ┆            ┆        ┆            ┆            │\n",
       "│           ┆            ┆ (Sant…     ┆ Nacion…    ┆   ┆            ┆        ┆            ┆            │\n",
       "│ NA        ┆ 112101     ┆ Hospital   ┆ Pertenecie ┆ … ┆ null       ┆ null   ┆ null       ┆ null       │\n",
       "│           ┆            ┆ Dr. Luis   ┆ ntes al    ┆   ┆            ┆        ┆            ┆            │\n",
       "│           ┆            ┆ Tisn� B.   ┆ Sistema    ┆   ┆            ┆        ┆            ┆            │\n",
       "│           ┆            ┆ (Sant…     ┆ Nacion…    ┆   ┆            ┆        ┆            ┆            │\n",
       "│ …         ┆ …          ┆ …          ┆ …          ┆ … ┆ …          ┆ …      ┆ …          ┆ …          │\n",
       "│ 3D5CA8271 ┆ 121109     ┆ Hospital   ┆ Pertenecie ┆ … ┆ null       ┆ null   ┆ null       ┆ null       │\n",
       "│ 4CB2440D5 ┆            ┆ Dr. Hern�n ┆ ntes al    ┆   ┆            ┆        ┆            ┆            │\n",
       "│ F743AF4A9 ┆            ┆ Henr�quez  ┆ Sistema    ┆   ┆            ┆        ┆            ┆            │\n",
       "│ 429BB…    ┆            ┆ Ar…        ┆ Nacion…    ┆   ┆            ┆        ┆            ┆            │\n",
       "│ 5785A671C ┆ 115107     ┆ Hospital   ┆ Pertenecie ┆ … ┆ null       ┆ null   ┆ null       ┆ null       │\n",
       "│ 38116F2E6 ┆            ┆ San Juan   ┆ ntes al    ┆   ┆            ┆        ┆            ┆            │\n",
       "│ FC77C121C ┆            ┆ de Dios    ┆ Sistema    ┆   ┆            ┆        ┆            ┆            │\n",
       "│ 0102E…    ┆            ┆ (San F…    ┆ Nacion…    ┆   ┆            ┆        ┆            ┆            │\n",
       "│ NA        ┆ 109201     ┆ Cl�nica    ┆ No Pertene ┆ … ┆ null       ┆ null   ┆ null       ┆ null       │\n",
       "│           ┆            ┆ D�vila     ┆ cientes al ┆   ┆            ┆        ┆            ┆            │\n",
       "│           ┆            ┆            ┆ Sistema    ┆   ┆            ┆        ┆            ┆            │\n",
       "│           ┆            ┆            ┆ Nac…       ┆   ┆            ┆        ┆            ┆            │\n",
       "│ NA        ┆ 109201     ┆ Cl�nica    ┆ No Pertene ┆ … ┆ null       ┆ null   ┆ null       ┆ null       │\n",
       "│           ┆            ┆ D�vila     ┆ cientes al ┆   ┆            ┆        ┆            ┆            │\n",
       "│           ┆            ┆            ┆ Sistema    ┆   ┆            ┆        ┆            ┆            │\n",
       "│           ┆            ┆            ┆ Nac…       ┆   ┆            ┆        ┆            ┆            │\n",
       "└───────────┴────────────┴────────────┴────────────┴───┴────────────┴────────┴────────────┴────────────┘"
      ]
     },
     "execution_count": 108,
     "metadata": {},
     "output_type": "execute_result"
    }
   ],
   "source": [
    "df"
   ]
  },
  {
   "cell_type": "code",
   "execution_count": 77,
   "metadata": {},
   "outputs": [],
   "source": [
    "import chardet"
   ]
  },
  {
   "cell_type": "code",
   "execution_count": 104,
   "metadata": {},
   "outputs": [
    {
     "name": "stdout",
     "output_type": "stream",
     "text": [
      "{'encoding': 'ISO-8859-1', 'confidence': 0.73, 'language': ''}\n"
     ]
    }
   ],
   "source": [
    "text = open('input/Egresos_Hospitalarios_2001.csv', 'rb').read(1000)\n",
    "print(chardet.detect(text))"
   ]
  },
  {
   "cell_type": "code",
   "execution_count": null,
   "metadata": {},
   "outputs": [],
   "source": [
    "with open('input/Egresos_Hospitalarios_2014.csv', encoding=)"
   ]
  }
 ],
 "metadata": {
  "kernelspec": {
   "display_name": "Python 3",
   "language": "python",
   "name": "python3"
  },
  "language_info": {
   "codemirror_mode": {
    "name": "ipython",
    "version": 3
   },
   "file_extension": ".py",
   "mimetype": "text/x-python",
   "name": "python",
   "nbconvert_exporter": "python",
   "pygments_lexer": "ipython3",
   "version": "3.10.9"
  },
  "orig_nbformat": 4
 },
 "nbformat": 4,
 "nbformat_minor": 2
}
