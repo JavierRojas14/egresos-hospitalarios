{
 "cells": [
  {
   "cell_type": "code",
   "execution_count": 16,
   "metadata": {},
   "outputs": [],
   "source": [
    "import polars as pl\n",
    "import glob\n",
    "\n",
    "DICT_VARIABLES = {\n",
    "    'ESTABLECIMIENTO_SALUD': pl.Int32,\n",
    "    'GLOSA_ESTABLECIMIENTO_SALUD': pl.Categorical,\n",
    "    'PERTENENCIA_ESTABLECIMIENTO_SALUD': pl.Categorical,\n",
    "    'SEREMI': pl.Int8,\n",
    "    'SERVICIO_DE_SALUD': pl.Int8,\n",
    "    'SEXO': pl.Int8,\n",
    "    'EDAD_CANT': pl.Int8,\n",
    "    'TIPO_EDAD': pl.Int8,\n",
    "    'EDAD_A_OS': pl.Int8,\n",
    "    'PUEBLO_ORIGINARIO': pl.Int8,\n",
    "    'PAIS_ORIGEN': pl.Int16,\n",
    "    'GLOSA_COMUNA_RESIDENCIA': pl.Categorical,\n",
    "    'REGION_RESIDENCIA': pl.Categorical,\n",
    "    'GLOSA_REGION_RESIDENCIA': pl.Categorical,\n",
    "    'PREVISION': pl.Int8,\n",
    "    'BENEFICIARIO': pl.Categorical,\n",
    "    'MODALIDAD': pl.Int8,\n",
    "    'PROCEDENCIA': pl.Int8,\n",
    "    'ANO_EGRESO': pl.Int16,\n",
    "    'FECHA_EGRESO': pl.Date,\n",
    "    'AREA_FUNCIONAL_EGRESO': pl.Int16,\n",
    "    # 'DIAS_ESTADA': pl.Int16,\n",
    "    'CONDICION_EGRESO': pl.Int8,\n",
    "    'INTERV_Q': pl.Int8,\n",
    "    'CODIGO_INTERV_Q_PPAL': pl.Int32,\n",
    "}"
   ]
  },
  {
   "cell_type": "code",
   "execution_count": 39,
   "metadata": {},
   "outputs": [],
   "source": [
    "with pl.StringCache():\n",
    "    df = pl.read_csv('input/utf-8/*2.csv', separator=';', dtypes=DICT_VARIABLES)"
   ]
  },
  {
   "cell_type": "code",
   "execution_count": null,
   "metadata": {},
   "outputs": [],
   "source": []
  }
 ],
 "metadata": {
  "kernelspec": {
   "display_name": "Python 3",
   "language": "python",
   "name": "python3"
  },
  "language_info": {
   "codemirror_mode": {
    "name": "ipython",
    "version": 3
   },
   "file_extension": ".py",
   "mimetype": "text/x-python",
   "name": "python",
   "nbconvert_exporter": "python",
   "pygments_lexer": "ipython3",
   "version": "3.10.9"
  },
  "orig_nbformat": 4
 },
 "nbformat": 4,
 "nbformat_minor": 2
}
