{
 "cells": [
  {
   "cell_type": "code",
   "execution_count": 1,
   "metadata": {},
   "outputs": [],
   "source": [
    "import sys\n",
    "import os\n",
    "\n",
    "project_root = os.path.abspath('..')\n",
    "if project_root not in sys.path:\n",
    "    sys.path.append(project_root)\n",
    "\n",
    "%load_ext autoreload\n",
    "%autoreload 2"
   ]
  },
  {
   "cell_type": "code",
   "execution_count": 2,
   "metadata": {},
   "outputs": [],
   "source": [
    "import pandas as pd\n",
    "import numpy as np\n",
    "import polars as pl\n",
    "\n",
    "import matplotlib.pyplot as plt\n",
    "import seaborn as sns\n",
    "\n",
    "import warnings\n",
    "\n",
    "from functools import reduce\n",
    "\n",
    "from src.data import make_dataset\n",
    "from src.features import build_features\n",
    "\n",
    "warnings.filterwarnings(\"ignore\")\n",
    "sns.set_style()\n",
    "plt.rcParams[\"figure.figsize\"] = (12, 6)\n",
    "\n",
    "HOSPITAL_DEL_TORAX = 112103"
   ]
  },
  {
   "cell_type": "markdown",
   "metadata": {},
   "source": [
    "## Obtencion de Métricas de Egresos Hospitalarios\n",
    "\n",
    "En este apartado se quieren calculcar diversas métricas relevantes para el análisis de los\n",
    "egresos hospitalarios en Chile. Las métricas a calcular son las siguientes:\n",
    "\n",
    "1. Cantidad de Egresos Hospitalarios\n",
    "2. Dias de Estada Totales\n",
    "3. Cantidad de Intervenciones Quirúrgicas\n",
    "4. Cantidad de Muertos\n",
    "\n",
    "Todas estas métricas serán calculadas para cada Año, Establecimiento de Salud y Diagnóstico\n",
    "distinto que exista en la base de datos. Por ejemplo:\n",
    "\n",
    "\"En el año 2019, el Hospital San José (código XXXXXX) tuvo XX egresos, con XX dias estada promedio,\n",
    "con XX intervenciones quirúrgicas y XX muertos para el diagnóstico A24.4\"s"
   ]
  },
  {
   "cell_type": "code",
   "execution_count": 3,
   "metadata": {},
   "outputs": [],
   "source": [
    "df_nacional = pl.scan_csv(\n",
    "    \"../data/processed/egresos_procesados.csv\", infer_schema_length=10000, null_values=\"Extranjero\"\n",
    ")"
   ]
  },
  {
   "cell_type": "code",
   "execution_count": 4,
   "metadata": {},
   "outputs": [],
   "source": [
    "AGRUPACION = [\n",
    "    \"ANO_EGRESO\",\n",
    "    \"ESTABLECIMIENTO_SALUD\",\n",
    "    \"GLOSA_ESTABLECIMIENTO_SALUD\",\n",
    "    \"DIAG1\",\n",
    "]\n",
    "\n",
    "metricas = build_features.obtener_metricas_egresos(df_nacional, AGRUPACION).collect()"
   ]
  },
  {
   "cell_type": "code",
   "execution_count": 5,
   "metadata": {},
   "outputs": [
    {
     "data": {
      "text/html": [
       "<div><style>\n",
       ".dataframe > thead > tr > th,\n",
       ".dataframe > tbody > tr > td {\n",
       "  text-align: right;\n",
       "}\n",
       "</style>\n",
       "<small>shape: (10, 8)</small><table border=\"1\" class=\"dataframe\"><thead><tr><th>ANO_EGRESO</th><th>ESTABLECIMIENTO_SALUD</th><th>GLOSA_ESTABLECIMIENTO_SALUD</th><th>DIAG1</th><th>n_egresos</th><th>dias_estada_totales</th><th>n_int_q</th><th>n_muertos</th></tr><tr><td>i64</td><td>i64</td><td>str</td><td>str</td><td>u32</td><td>i64</td><td>i64</td><td>i64</td></tr></thead><tbody><tr><td>2014</td><td>113180</td><td>&quot;Hospital El Pi…</td><td>&quot;N840&quot;</td><td>10</td><td>14</td><td>10</td><td>0</td></tr><tr><td>2017</td><td>110100</td><td>&quot;Hospital San J…</td><td>&quot;C851&quot;</td><td>3</td><td>31</td><td>0</td><td>1</td></tr><tr><td>2006</td><td>129100</td><td>&quot;Hospital Dr. M…</td><td>&quot;I848&quot;</td><td>2</td><td>8</td><td>2</td><td>0</td></tr><tr><td>2015</td><td>111200</td><td>&quot;Hospital Clíni…</td><td>&quot;K640&quot;</td><td>3</td><td>11</td><td>1</td><td>0</td></tr><tr><td>2010</td><td>106214</td><td>&quot;Clínica Valpar…</td><td>&quot;T024&quot;</td><td>1</td><td>6</td><td>1</td><td>0</td></tr><tr><td>2006</td><td>118202</td><td>&quot;Clínica de la …</td><td>&quot;K610&quot;</td><td>10</td><td>15</td><td>10</td><td>0</td></tr><tr><td>2014</td><td>125100</td><td>&quot;Hospital Regio…</td><td>&quot;D390&quot;</td><td>1</td><td>1</td><td>1</td><td>0</td></tr><tr><td>2014</td><td>115107</td><td>&quot;Hospital San J…</td><td>&quot;B018&quot;</td><td>2</td><td>12</td><td>0</td><td>0</td></tr><tr><td>2015</td><td>111200</td><td>&quot;Hospital Clíni…</td><td>&quot;M130&quot;</td><td>3</td><td>28</td><td>0</td><td>0</td></tr><tr><td>2011</td><td>107101</td><td>&quot;Hospital San M…</td><td>&quot;G825&quot;</td><td>1</td><td>9</td><td>0</td><td>0</td></tr></tbody></table></div>"
      ],
      "text/plain": [
       "shape: (10, 8)\n",
       "┌────────────┬──────────────┬──────────────┬───────┬───────────┬─────────────┬─────────┬───────────┐\n",
       "│ ANO_EGRESO ┆ ESTABLECIMIE ┆ GLOSA_ESTABL ┆ DIAG1 ┆ n_egresos ┆ dias_estada ┆ n_int_q ┆ n_muertos │\n",
       "│ ---        ┆ NTO_SALUD    ┆ ECIMIENTO_SA ┆ ---   ┆ ---       ┆ _totales    ┆ ---     ┆ ---       │\n",
       "│ i64        ┆ ---          ┆ LUD          ┆ str   ┆ u32       ┆ ---         ┆ i64     ┆ i64       │\n",
       "│            ┆ i64          ┆ ---          ┆       ┆           ┆ i64         ┆         ┆           │\n",
       "│            ┆              ┆ str          ┆       ┆           ┆             ┆         ┆           │\n",
       "╞════════════╪══════════════╪══════════════╪═══════╪═══════════╪═════════════╪═════════╪═══════════╡\n",
       "│ 2014       ┆ 113180       ┆ Hospital El  ┆ N840  ┆ 10        ┆ 14          ┆ 10      ┆ 0         │\n",
       "│            ┆              ┆ Pino         ┆       ┆           ┆             ┆         ┆           │\n",
       "│            ┆              ┆ (Santiago,   ┆       ┆           ┆             ┆         ┆           │\n",
       "│            ┆              ┆ San …        ┆       ┆           ┆             ┆         ┆           │\n",
       "│ 2017       ┆ 110100       ┆ Hospital San ┆ C851  ┆ 3         ┆ 31          ┆ 0       ┆ 1         │\n",
       "│            ┆              ┆ Juan de Dios ┆       ┆           ┆             ┆         ┆           │\n",
       "│            ┆              ┆ (Santi…      ┆       ┆           ┆             ┆         ┆           │\n",
       "│ 2006       ┆ 129100       ┆ Hospital Dr. ┆ I848  ┆ 2         ┆ 8           ┆ 2       ┆ 0         │\n",
       "│            ┆              ┆ Mauricio     ┆       ┆           ┆             ┆         ┆           │\n",
       "│            ┆              ┆ Heyermann …  ┆       ┆           ┆             ┆         ┆           │\n",
       "│ 2015       ┆ 111200       ┆ Hospital     ┆ K640  ┆ 3         ┆ 11          ┆ 1       ┆ 0         │\n",
       "│            ┆              ┆ Clínico      ┆       ┆           ┆             ┆         ┆           │\n",
       "│            ┆              ┆ Universidad  ┆       ┆           ┆             ┆         ┆           │\n",
       "│            ┆              ┆ Cat…         ┆       ┆           ┆             ┆         ┆           │\n",
       "│ …          ┆ …            ┆ …            ┆ …     ┆ …         ┆ …           ┆ …       ┆ …         │\n",
       "│ 2014       ┆ 125100       ┆ Hospital     ┆ D390  ┆ 1         ┆ 1           ┆ 1       ┆ 0         │\n",
       "│            ┆              ┆ Regional     ┆       ┆           ┆             ┆         ┆           │\n",
       "│            ┆              ┆ (Coihaique)  ┆       ┆           ┆             ┆         ┆           │\n",
       "│ 2014       ┆ 115107       ┆ Hospital San ┆ B018  ┆ 2         ┆ 12          ┆ 0       ┆ 0         │\n",
       "│            ┆              ┆ Juan de Dios ┆       ┆           ┆             ┆         ┆           │\n",
       "│            ┆              ┆ (San F…      ┆       ┆           ┆             ┆         ┆           │\n",
       "│ 2015       ┆ 111200       ┆ Hospital     ┆ M130  ┆ 3         ┆ 28          ┆ 0       ┆ 0         │\n",
       "│            ┆              ┆ Clínico      ┆       ┆           ┆             ┆         ┆           │\n",
       "│            ┆              ┆ Universidad  ┆       ┆           ┆             ┆         ┆           │\n",
       "│            ┆              ┆ Cat…         ┆       ┆           ┆             ┆         ┆           │\n",
       "│ 2011       ┆ 107101       ┆ Hospital San ┆ G825  ┆ 1         ┆ 9           ┆ 0       ┆ 0         │\n",
       "│            ┆              ┆ Martín       ┆       ┆           ┆             ┆         ┆           │\n",
       "│            ┆              ┆ (Quillota)   ┆       ┆           ┆             ┆         ┆           │\n",
       "└────────────┴──────────────┴──────────────┴───────┴───────────┴─────────────┴─────────┴───────────┘"
      ]
     },
     "metadata": {},
     "output_type": "display_data"
    }
   ],
   "source": [
    "display(metricas.sample(10))"
   ]
  },
  {
   "cell_type": "markdown",
   "metadata": {},
   "source": [
    "- Al ver una muestra del calculo realizado, se puede observar la cantidad de egresos, dias de\n",
    "estada, numero de intervenciones quirurgicas y cantidad de muertos para 10 duplas de\n",
    "hospitales - diagnosticos distintos."
   ]
  },
  {
   "cell_type": "markdown",
   "metadata": {},
   "source": [
    "Si bien se tienen las metricas calculadas, ahora se quiere responder a las siguientes preguntas:\n",
    "\n",
    "- En qué diagnósticos se destaca cada hospital productivamente? Esto significa, en qué diagnósticos\n",
    "cada hospital tiene una mayor cantidad de egresos que otros hospitales?\n",
    "\n",
    "- El hospital tiene un desempeño similar dentro de distintos grupos/estratos de hospitales?\n",
    "El hospital se desempeñara de la misma forma nacionalmente, dentro del estrato público, privado,\n",
    "etc...?\n",
    "\n",
    "Para responder a la pregunta se realizará un ranking de todos los hospitales para cada\n",
    "diagnóstico y cada año observado. Este ranking se realizará para distintos grupos/estratos de\n",
    "hospitales (Nacional, Hospitales Públicos, Hospitales Privados, Hospitales GRD)"
   ]
  },
  {
   "cell_type": "markdown",
   "metadata": {},
   "source": [
    "## Análisis de Estratos"
   ]
  },
  {
   "cell_type": "code",
   "execution_count": 6,
   "metadata": {},
   "outputs": [],
   "source": [
    "dict_estratos = build_features.obtener_diccionario_estratos(df_nacional, HOSPITAL_DEL_TORAX)"
   ]
  },
  {
   "cell_type": "code",
   "execution_count": 7,
   "metadata": {},
   "outputs": [],
   "source": [
    "cie = build_features.leer_cie()"
   ]
  },
  {
   "cell_type": "code",
   "execution_count": 14,
   "metadata": {},
   "outputs": [],
   "source": [
    "variables_a_rankear = [\"n_egresos\"]\n",
    "subgrupo_del_ranking = [\"ANO_EGRESO\", \"DIAG1\"]\n",
    "unir_tablas_por = AGRUPACION"
   ]
  },
  {
   "cell_type": "code",
   "execution_count": 15,
   "metadata": {},
   "outputs": [],
   "source": [
    "rankings_nacionales = build_features.agregar_ranking_estratos(\n",
    "    metricas, dict_estratos, variables_a_rankear, subgrupo_del_ranking\n",
    ")"
   ]
  },
  {
   "cell_type": "code",
   "execution_count": 9,
   "metadata": {},
   "outputs": [],
   "source": [
    "\n",
    "\n",
    "ranking_nacional_con_cie = build_features.agregar_ranking_estratos()\n",
    "\n",
    "ranking_nacional_con_cie_pandas = ranking_nacional_con_cie.to_pandas()\n",
    "ranking_torax = ranking_nacional_con_cie_pandas.query(\n",
    "    \"ESTABLECIMIENTO_SALUD == @HOSPITAL_DEL_TORAX\"\n",
    ")\n",
    "DIAGS_TORAX = ranking_torax[\"DIAG1\"].unique()\n",
    "\n",
    "ranking_nacional_diags_torax = ranking_nacional_con_cie_pandas[\n",
    "    ranking_nacional_con_cie_pandas[\"DIAG1\"].isin(DIAGS_TORAX)\n",
    "].query(\"ANO_EGRESO > 2002\")"
   ]
  },
  {
   "cell_type": "code",
   "execution_count": 9,
   "metadata": {},
   "outputs": [],
   "source": [
    "# ranking_nacional_con_cie_pandas.to_csv(\n",
    "#     \"../data/interim/ranking_nacional_egresos.csv\",\n",
    "#     sep=\";\",\n",
    "#     decimal=\".\",\n",
    "#     encoding=\"latin-1\",\n",
    "#     index=False\n",
    "# )\n",
    "\n",
    "# ranking_torax.to_csv(\n",
    "#     \"../data/interim/ranking_torax_egresos.csv\",\n",
    "#     sep=\";\",\n",
    "#     decimal=\".\",\n",
    "#     encoding=\"latin-1\",\n",
    "#     index=False\n",
    "# )\n",
    "\n",
    "# ranking_nacional_diags_torax.to_excel(\n",
    "#     \"../data/interim/ranking_nacional_diags_torax_post_2001.xlsx\",\n",
    "#     index=False\n",
    "# )"
   ]
  },
  {
   "cell_type": "markdown",
   "metadata": {},
   "source": [
    "## Metricas para personas sobre 14 años\n",
    "\n",
    "En este análisis se quiere ver el ranking de egresos pero solamente tomando en cuenta a personas\n",
    "mayores a 14 años. Esto, para dilucidar si el hospital del tórax es altamente relevante para tratar\n",
    "patologías congénitas de adultos."
   ]
  },
  {
   "cell_type": "code",
   "execution_count": 10,
   "metadata": {},
   "outputs": [],
   "source": [
    "df_nacional_mayores_a_14 = df_nacional.filter(pl.col(\"EDAD_A_OS\") > 14)"
   ]
  },
  {
   "cell_type": "code",
   "execution_count": 11,
   "metadata": {},
   "outputs": [],
   "source": [
    "metricas_sobre_14 = build_features.obtener_metricas_egresos(\n",
    "    df_nacional_mayores_a_14, AGRUPACION\n",
    ").collect()"
   ]
  },
  {
   "cell_type": "code",
   "execution_count": 12,
   "metadata": {},
   "outputs": [],
   "source": [
    "variables_a_rankear = [\"n_egresos\"]\n",
    "subgrupo_del_ranking = [\"ANO_EGRESO\", \"DIAG1\"]\n",
    "unir_tablas_por = AGRUPACION\n",
    "\n",
    "\n",
    "dict_resultados_sobre_14 = build_features.obtener_resumen_por_estratos(\n",
    "    metricas_sobre_14, dict_estratos, variables_a_rankear, subgrupo_del_ranking\n",
    ")\n",
    "\n",
    "ranking_nacional_sobre_14 = reduce(\n",
    "    build_features.left_join_consecutivo, dict_resultados_sobre_14.values()\n",
    ")\n",
    "ranking_nacional_con_cie_sobre_14 = ranking_nacional_sobre_14.join(\n",
    "    cie, how=\"left\", on=\"DIAG1\"\n",
    ").select(ORDEN_COLS)\n",
    "\n",
    "ranking_nacional_con_cie_pandas_sobre_14 = ranking_nacional_con_cie_sobre_14.to_pandas()\n",
    "ranking_torax_sobre_14 = ranking_nacional_con_cie_pandas_sobre_14.query(\n",
    "    \"ESTABLECIMIENTO_SALUD == @HOSPITAL_DEL_TORAX\"\n",
    ")\n",
    "DIAGS_TORAX = ranking_torax_sobre_14[\"DIAG1\"].unique()\n",
    "\n",
    "ranking_nacional_diags_torax_sobre_14 = ranking_nacional_con_cie_pandas_sobre_14[\n",
    "    ranking_nacional_con_cie_pandas_sobre_14[\"DIAG1\"].isin(DIAGS_TORAX)\n",
    "].query(\"ANO_EGRESO > 2002\")"
   ]
  },
  {
   "cell_type": "code",
   "execution_count": 26,
   "metadata": {},
   "outputs": [],
   "source": [
    "ranking_nacional_diags_torax_sobre_14.to_csv(\n",
    "    \"../data/interim/ranking_nacional_sobre_14.csv\",\n",
    "    index=False,\n",
    "    encoding=\"latin-1\",\n",
    "    sep=\";\",\n",
    "    decimal=\".\",\n",
    ")"
   ]
  },
  {
   "cell_type": "code",
   "execution_count": 27,
   "metadata": {},
   "outputs": [],
   "source": [
    "requerimiento = ranking_nacional_diags_torax_sobre_14[\n",
    "    ranking_nacional_diags_torax_sobre_14[\"DIAG1\"].isin([\"Q230\", \"Q211\", \"Q231\"])\n",
    "]\n",
    "requerimiento = requerimiento.query(\"ANO_EGRESO == 2019\")"
   ]
  },
  {
   "cell_type": "code",
   "execution_count": 28,
   "metadata": {},
   "outputs": [],
   "source": [
    "requerimiento.to_csv(\n",
    "    \"../data/interim/congenitas_sobre_14.csv\",\n",
    "    index=False,\n",
    "    encoding=\"latin-1\",\n",
    "    sep=\";\",\n",
    "    decimal=\".\",\n",
    ")"
   ]
  },
  {
   "cell_type": "code",
   "execution_count": 29,
   "metadata": {},
   "outputs": [],
   "source": [
    "requerimiento_control = ranking_nacional_diags_torax[\n",
    "    ranking_nacional_diags_torax[\"DIAG1\"].isin([\"Q230\", \"Q211\", \"Q231\"])\n",
    "].query(\"ANO_EGRESO == 2019\")\n",
    "\n",
    "requerimiento_control.to_csv(\n",
    "    \"../data/interim/congenitas.csv\",\n",
    "    index=False,\n",
    "    encoding=\"latin-1\",\n",
    "    sep=\";\",\n",
    "    decimal=\".\",\n",
    ")"
   ]
  }
 ],
 "metadata": {
  "kernelspec": {
   "display_name": "egresos-deis",
   "language": "python",
   "name": "python3"
  },
  "language_info": {
   "codemirror_mode": {
    "name": "ipython",
    "version": 3
   },
   "file_extension": ".py",
   "mimetype": "text/x-python",
   "name": "python",
   "nbconvert_exporter": "python",
   "pygments_lexer": "ipython3",
   "version": "3.11.4"
  },
  "orig_nbformat": 4
 },
 "nbformat": 4,
 "nbformat_minor": 2
}
