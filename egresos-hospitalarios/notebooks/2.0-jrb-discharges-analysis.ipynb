{
 "cells": [
  {
   "cell_type": "code",
   "execution_count": 1,
   "metadata": {},
   "outputs": [],
   "source": [
    "import sys\n",
    "import os\n",
    "\n",
    "project_root = os.path.abspath('..')\n",
    "if project_root not in sys.path:\n",
    "    sys.path.append(project_root)\n",
    "\n",
    "%load_ext autoreload\n",
    "%autoreload 2"
   ]
  },
  {
   "cell_type": "code",
   "execution_count": 2,
   "metadata": {},
   "outputs": [],
   "source": [
    "import pandas as pd\n",
    "import numpy as np\n",
    "import polars as pl\n",
    "\n",
    "import matplotlib.pyplot as plt\n",
    "import seaborn as sns\n",
    "\n",
    "import warnings\n",
    "\n",
    "from functools import reduce\n",
    "\n",
    "from src.data import make_dataset\n",
    "from src.features import build_features\n",
    "\n",
    "warnings.filterwarnings(\"ignore\")\n",
    "sns.set_style()\n",
    "plt.rcParams[\"figure.figsize\"] = (12, 6)\n",
    "\n",
    "HOSPITAL_DEL_TORAX = 112103"
   ]
  },
  {
   "cell_type": "markdown",
   "metadata": {},
   "source": [
    "## Obtencion de Métricas de Egresos Hospitalarios\n",
    "\n",
    "En este apartado se quieren calculcar diversas métricas relevantes para el análisis de los\n",
    "egresos hospitalarios en Chile. Las métricas a calcular son las siguientes:\n",
    "\n",
    "1. Cantidad de Egresos Hospitalarios\n",
    "2. Dias de Estada Totales\n",
    "3. Cantidad de Intervenciones Quirúrgicas\n",
    "4. Cantidad de Muertos\n",
    "\n",
    "Todas estas métricas serán calculadas para cada Año, Establecimiento de Salud y Diagnóstico\n",
    "distinto que exista en la base de datos. Por ejemplo:\n",
    "\n",
    "\"En el año 2019, el Hospital San José (código XXXXXX) tuvo XX egresos, con XX dias estada promedio,\n",
    "con XX intervenciones quirúrgicas y XX muertos para el diagnóstico A24.4\"s"
   ]
  },
  {
   "cell_type": "code",
   "execution_count": 3,
   "metadata": {},
   "outputs": [],
   "source": [
    "df_nacional = pl.scan_csv(\n",
    "    \"../data/processed/egresos_procesados.csv\", infer_schema_length=10000, null_values=\"Extranjero\"\n",
    ")"
   ]
  },
  {
   "cell_type": "code",
   "execution_count": 4,
   "metadata": {},
   "outputs": [],
   "source": [
    "AGRUPACION = [\n",
    "    \"ANO_EGRESO\",\n",
    "    \"ESTABLECIMIENTO_SALUD\",\n",
    "    \"GLOSA_ESTABLECIMIENTO_SALUD\",\n",
    "    \"DIAG1\",\n",
    "]\n",
    "\n",
    "metricas = build_features.obtener_metricas_egresos(df_nacional, AGRUPACION).collect()"
   ]
  },
  {
   "cell_type": "markdown",
   "metadata": {},
   "source": [
    "Una vez calculadas las metricas, se quiere obtener la posicion de cada hospital para cada diagnostico\n",
    "en cada año. Las posiciones seran calculadas para distintos estratos de los hospitales analizados\n",
    "(Ejemplo: Hospitales Públicos, Hospitales Privados, Hospitales en GRD).\n",
    "\n",
    "## Análisis de Estratos"
   ]
  },
  {
   "cell_type": "code",
   "execution_count": 5,
   "metadata": {},
   "outputs": [],
   "source": [
    "dict_estratos = build_features.obtener_diccionario_estratos(df_nacional, HOSPITAL_DEL_TORAX)"
   ]
  },
  {
   "cell_type": "code",
   "execution_count": 6,
   "metadata": {},
   "outputs": [],
   "source": [
    "cie = build_features.leer_cie().with_columns(pl.col(\"Código\").alias(\"DIAG1\"))"
   ]
  },
  {
   "cell_type": "code",
   "execution_count": 7,
   "metadata": {},
   "outputs": [],
   "source": [
    "variables_a_rankear = [\"n_egresos\"]\n",
    "subgrupo_del_ranking = [\"ANO_EGRESO\", \"DIAG1\"]\n",
    "unir_tablas_por = AGRUPACION\n",
    "\n",
    "ORDEN_COLS = [\n",
    "    \"ANO_EGRESO\",\n",
    "    \"ESTABLECIMIENTO_SALUD\",\n",
    "    \"GLOSA_ESTABLECIMIENTO_SALUD\",\n",
    "    \"Capítulo\",\n",
    "    \"Sección\",\n",
    "    \"Categoría\",\n",
    "    \"Descripción\",\n",
    "    \"DIAG1\",\n",
    "    \"n_egresos\",\n",
    "    \"dias_estada_totales\",\n",
    "    \"n_int_q\",\n",
    "    \"n_muertos\",\n",
    "    \"ranking_nacionales_n_egresos\",\n",
    "    \"total_nacionales_n_egresos\",\n",
    "    \"%_nacionales_n_egresos\",\n",
    "    \"ranking_publicos_n_egresos\",\n",
    "    \"total_publicos_n_egresos\",\n",
    "    \"%_publicos_n_egresos\",\n",
    "    \"ranking_privados_n_egresos\",\n",
    "    \"total_privados_n_egresos\",\n",
    "    \"%_privados_n_egresos\",\n",
    "    \"ranking_grd_n_egresos\",\n",
    "    \"total_grd_n_egresos\",\n",
    "    \"%_grd_n_egresos\",\n",
    "    \"ranking_interno_n_egresos\",\n",
    "    \"total_interno_n_egresos\",\n",
    "    \"%_interno_n_egresos\",\n",
    "]"
   ]
  },
  {
   "cell_type": "code",
   "execution_count": 8,
   "metadata": {},
   "outputs": [],
   "source": [
    "dict_resultados_estratos = build_features.obtener_resumen_por_estratos(\n",
    "    metricas, dict_estratos, variables_a_rankear, subgrupo_del_ranking\n",
    ")\n",
    "\n",
    "ranking_nacional = reduce(build_features.left_join_consecutivo, dict_resultados_estratos.values())\n",
    "ranking_nacional_con_cie = ranking_nacional.join(cie, how=\"left\", on=\"DIAG1\").select(ORDEN_COLS)\n",
    "\n",
    "ranking_nacional_con_cie_pandas = ranking_nacional_con_cie.to_pandas()\n",
    "ranking_torax = ranking_nacional_con_cie_pandas.query(\n",
    "    \"ESTABLECIMIENTO_SALUD == @HOSPITAL_DEL_TORAX\"\n",
    ")\n",
    "DIAGS_TORAX = ranking_torax[\"DIAG1\"].unique()\n",
    "\n",
    "ranking_nacional_diags_torax = ranking_nacional_con_cie_pandas[\n",
    "    ranking_nacional_con_cie_pandas[\"DIAG1\"].isin(DIAGS_TORAX)\n",
    "].query(\"ANO_EGRESO > 2002\")"
   ]
  },
  {
   "cell_type": "code",
   "execution_count": 9,
   "metadata": {},
   "outputs": [],
   "source": [
    "# ranking_nacional_con_cie_pandas.to_csv(\n",
    "#     \"../data/interim/ranking_nacional_egresos.csv\",\n",
    "#     sep=\";\",\n",
    "#     decimal=\".\",\n",
    "#     encoding=\"latin-1\",\n",
    "#     index=False\n",
    "# )\n",
    "\n",
    "# ranking_torax.to_csv(\n",
    "#     \"../data/interim/ranking_torax_egresos.csv\",\n",
    "#     sep=\";\",\n",
    "#     decimal=\".\",\n",
    "#     encoding=\"latin-1\",\n",
    "#     index=False\n",
    "# )\n",
    "\n",
    "# ranking_nacional_diags_torax.to_excel(\n",
    "#     \"../data/interim/ranking_nacional_diags_torax_post_2001.xlsx\",\n",
    "#     index=False\n",
    "# )"
   ]
  },
  {
   "cell_type": "markdown",
   "metadata": {},
   "source": [
    "## Metricas para personas sobre 14 años\n",
    "\n",
    "En este análisis se quiere ver el ranking de egresos pero solamente tomando en cuenta a personas\n",
    "mayores a 14 años. Esto, para dilucidar si el hospital del tórax es altamente relevante para tratar\n",
    "patologías congénitas de adultos."
   ]
  },
  {
   "cell_type": "code",
   "execution_count": 10,
   "metadata": {},
   "outputs": [],
   "source": [
    "df_nacional_mayores_a_14 = df_nacional.filter(pl.col(\"EDAD_A_OS\") > 14)"
   ]
  },
  {
   "cell_type": "code",
   "execution_count": 11,
   "metadata": {},
   "outputs": [],
   "source": [
    "metricas_sobre_14 = build_features.obtener_metricas_egresos(\n",
    "    df_nacional_mayores_a_14, AGRUPACION\n",
    ").collect()"
   ]
  },
  {
   "cell_type": "code",
   "execution_count": 12,
   "metadata": {},
   "outputs": [],
   "source": [
    "variables_a_rankear = [\"n_egresos\"]\n",
    "subgrupo_del_ranking = [\"ANO_EGRESO\", \"DIAG1\"]\n",
    "unir_tablas_por = AGRUPACION\n",
    "\n",
    "\n",
    "dict_resultados_sobre_14 = build_features.obtener_resumen_por_estratos(\n",
    "    metricas_sobre_14, dict_estratos, variables_a_rankear, subgrupo_del_ranking\n",
    ")\n",
    "\n",
    "ranking_nacional_sobre_14 = reduce(\n",
    "    build_features.left_join_consecutivo, dict_resultados_sobre_14.values()\n",
    ")\n",
    "ranking_nacional_con_cie_sobre_14 = ranking_nacional_sobre_14.join(\n",
    "    cie, how=\"left\", on=\"DIAG1\"\n",
    ").select(ORDEN_COLS)\n",
    "\n",
    "ranking_nacional_con_cie_pandas_sobre_14 = ranking_nacional_con_cie_sobre_14.to_pandas()\n",
    "ranking_torax_sobre_14 = ranking_nacional_con_cie_pandas_sobre_14.query(\n",
    "    \"ESTABLECIMIENTO_SALUD == @HOSPITAL_DEL_TORAX\"\n",
    ")\n",
    "DIAGS_TORAX = ranking_torax_sobre_14[\"DIAG1\"].unique()\n",
    "\n",
    "ranking_nacional_diags_torax_sobre_14 = ranking_nacional_con_cie_pandas_sobre_14[\n",
    "    ranking_nacional_con_cie_pandas_sobre_14[\"DIAG1\"].isin(DIAGS_TORAX)\n",
    "].query(\"ANO_EGRESO > 2002\")"
   ]
  },
  {
   "cell_type": "code",
   "execution_count": 26,
   "metadata": {},
   "outputs": [],
   "source": [
    "ranking_nacional_diags_torax_sobre_14.to_csv(\n",
    "    \"../data/interim/ranking_nacional_sobre_14.csv\",\n",
    "    index=False,\n",
    "    encoding=\"latin-1\",\n",
    "    sep=\";\",\n",
    "    decimal=\".\",\n",
    ")"
   ]
  },
  {
   "cell_type": "code",
   "execution_count": 27,
   "metadata": {},
   "outputs": [],
   "source": [
    "requerimiento = ranking_nacional_diags_torax_sobre_14[\n",
    "    ranking_nacional_diags_torax_sobre_14[\"DIAG1\"].isin([\"Q230\", \"Q211\", \"Q231\"])\n",
    "]\n",
    "requerimiento = requerimiento.query(\"ANO_EGRESO == 2019\")"
   ]
  },
  {
   "cell_type": "code",
   "execution_count": 28,
   "metadata": {},
   "outputs": [],
   "source": [
    "requerimiento.to_csv(\n",
    "    \"../data/interim/congenitas_sobre_14.csv\",\n",
    "    index=False,\n",
    "    encoding=\"latin-1\",\n",
    "    sep=\";\",\n",
    "    decimal=\".\",\n",
    ")"
   ]
  },
  {
   "cell_type": "code",
   "execution_count": 29,
   "metadata": {},
   "outputs": [],
   "source": [
    "requerimiento_control = ranking_nacional_diags_torax[\n",
    "    ranking_nacional_diags_torax[\"DIAG1\"].isin([\"Q230\", \"Q211\", \"Q231\"])\n",
    "].query(\"ANO_EGRESO == 2019\")\n",
    "\n",
    "requerimiento_control.to_csv(\n",
    "    \"../data/interim/congenitas.csv\",\n",
    "    index=False,\n",
    "    encoding=\"latin-1\",\n",
    "    sep=\";\",\n",
    "    decimal=\".\",\n",
    ")"
   ]
  }
 ],
 "metadata": {
  "kernelspec": {
   "display_name": "egresos-deis",
   "language": "python",
   "name": "python3"
  },
  "language_info": {
   "codemirror_mode": {
    "name": "ipython",
    "version": 3
   },
   "file_extension": ".py",
   "mimetype": "text/x-python",
   "name": "python",
   "nbconvert_exporter": "python",
   "pygments_lexer": "ipython3",
   "version": "3.11.4"
  },
  "orig_nbformat": 4
 },
 "nbformat": 4,
 "nbformat_minor": 2
}
