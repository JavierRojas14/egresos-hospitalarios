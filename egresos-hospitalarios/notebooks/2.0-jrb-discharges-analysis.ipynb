{
 "cells": [
  {
   "cell_type": "code",
   "execution_count": 1,
   "metadata": {},
   "outputs": [],
   "source": [
    "import sys\n",
    "import os\n",
    "\n",
    "project_root = os.path.abspath('..')\n",
    "if project_root not in sys.path:\n",
    "    sys.path.append(project_root)\n",
    "\n",
    "%load_ext autoreload\n",
    "%autoreload 2\n"
   ]
  },
  {
   "cell_type": "code",
   "execution_count": 2,
   "metadata": {},
   "outputs": [],
   "source": [
    "import pandas as pd\n",
    "import numpy as np\n",
    "import polars as pl\n",
    "\n",
    "import matplotlib.pyplot as plt\n",
    "import seaborn as sns\n",
    "\n",
    "import warnings\n",
    "\n",
    "from src.data import make_dataset\n",
    "from src.features import build_features\n",
    "\n",
    "warnings.filterwarnings(\"ignore\")\n",
    "sns.set_style()\n",
    "plt.rcParams[\"figure.figsize\"] = (12, 6)\n",
    "\n",
    "HOSPITAL_A_ANLIZAR = 112103  # Este es el Torax\n"
   ]
  },
  {
   "cell_type": "markdown",
   "metadata": {},
   "source": [
    "## Obtencion de Métricas de Egresos Hospitalarios\n",
    "\n",
    "En este apartado se quieren calculcar diversas métricas relevantes para el análisis de los\n",
    "egresos hospitalarios en Chile. Las métricas a calcular son las siguientes:\n",
    "\n",
    "1. Cantidad de Egresos Hospitalarios\n",
    "2. Dias de Estada Totales\n",
    "3. Cantidad de Intervenciones Quirúrgicas\n",
    "4. Cantidad de Muertos\n",
    "\n",
    "Todas estas métricas serán calculadas para cada Año, Establecimiento de Salud y Diagnóstico\n",
    "distinto que exista en la base de datos. Por ejemplo:\n",
    "\n",
    "\"En el año 2019, el Hospital San José (código XXXXXX) tuvo XX egresos, con XX dias estada promedio,\n",
    "con XX intervenciones quirúrgicas y XX muertos para el diagnóstico A24.4\"s"
   ]
  },
  {
   "cell_type": "code",
   "execution_count": 3,
   "metadata": {},
   "outputs": [],
   "source": [
    "df_nacional = pl.scan_csv(\n",
    "    \"../data/processed/egresos_procesados.csv\",\n",
    "    infer_schema_length=10000,\n",
    "    null_values=\"Extranjero\",\n",
    ")"
   ]
  },
  {
   "cell_type": "code",
   "execution_count": 4,
   "metadata": {},
   "outputs": [],
   "source": [
    "AGRUPACION = [\n",
    "    \"ANO_EGRESO\",\n",
    "    \"ESTABLECIMIENTO_SALUD\",\n",
    "    \"GLOSA_ESTABLECIMIENTO_SALUD\",\n",
    "    \"DIAG1\",\n",
    "]\n",
    "\n",
    "metricas = build_features.obtener_metricas_egresos(\n",
    "    df_nacional, AGRUPACION).collect()\n"
   ]
  },
  {
   "cell_type": "code",
   "execution_count": 5,
   "metadata": {},
   "outputs": [
    {
     "data": {
      "text/html": [
       "<div><style>\n",
       ".dataframe > thead > tr > th,\n",
       ".dataframe > tbody > tr > td {\n",
       "  text-align: right;\n",
       "}\n",
       "</style>\n",
       "<small>shape: (10, 8)</small><table border=\"1\" class=\"dataframe\"><thead><tr><th>ANO_EGRESO</th><th>ESTABLECIMIENTO_SALUD</th><th>GLOSA_ESTABLECIMIENTO_SALUD</th><th>DIAG1</th><th>n_egresos</th><th>dias_estada_totales</th><th>n_int_q</th><th>n_muertos</th></tr><tr><td>i64</td><td>i64</td><td>str</td><td>str</td><td>u32</td><td>i64</td><td>i64</td><td>i64</td></tr></thead><tbody><tr><td>2017</td><td>112102</td><td>&quot;Hospital de Ni…</td><td>&quot;T019&quot;</td><td>2</td><td>6</td><td>2</td><td>0</td></tr><tr><td>2005</td><td>110140</td><td>&quot;Hospital de Pe…</td><td>&quot;N907&quot;</td><td>1</td><td>1</td><td>0</td><td>0</td></tr><tr><td>2017</td><td>112248</td><td>&quot;Hospital Dipre…</td><td>&quot;J181&quot;</td><td>9</td><td>181</td><td>1</td><td>0</td></tr><tr><td>2016</td><td>111195</td><td>&quot;Hospital de Ur…</td><td>&quot;T855&quot;</td><td>1</td><td>8</td><td>0</td><td>0</td></tr><tr><td>2009</td><td>126100</td><td>&quot;Hospital Clíni…</td><td>&quot;Z539&quot;</td><td>18</td><td>21</td><td>1</td><td>0</td></tr><tr><td>2018</td><td>109101</td><td>&quot;Hospital Clíni…</td><td>&quot;S680&quot;</td><td>2</td><td>8</td><td>2</td><td>0</td></tr><tr><td>2017</td><td>111195</td><td>&quot;Hospital de Ur…</td><td>&quot;K613&quot;</td><td>3</td><td>48</td><td>3</td><td>0</td></tr><tr><td>2017</td><td>119203</td><td>&quot;Hospital Naval…</td><td>&quot;H043&quot;</td><td>1</td><td>8</td><td>0</td><td>0</td></tr><tr><td>2017</td><td>109200</td><td>&quot;Hospital Clíni…</td><td>&quot;S420&quot;</td><td>20</td><td>38</td><td>19</td><td>0</td></tr><tr><td>2019</td><td>124105</td><td>&quot;Hospital de Pu…</td><td>&quot;D420&quot;</td><td>1</td><td>92</td><td>1</td><td>0</td></tr></tbody></table></div>"
      ],
      "text/plain": [
       "shape: (10, 8)\n",
       "┌────────────┬──────────────┬──────────────┬───────┬───────────┬─────────────┬─────────┬───────────┐\n",
       "│ ANO_EGRESO ┆ ESTABLECIMIE ┆ GLOSA_ESTABL ┆ DIAG1 ┆ n_egresos ┆ dias_estada ┆ n_int_q ┆ n_muertos │\n",
       "│ ---        ┆ NTO_SALUD    ┆ ECIMIENTO_SA ┆ ---   ┆ ---       ┆ _totales    ┆ ---     ┆ ---       │\n",
       "│ i64        ┆ ---          ┆ LUD          ┆ str   ┆ u32       ┆ ---         ┆ i64     ┆ i64       │\n",
       "│            ┆ i64          ┆ ---          ┆       ┆           ┆ i64         ┆         ┆           │\n",
       "│            ┆              ┆ str          ┆       ┆           ┆             ┆         ┆           │\n",
       "╞════════════╪══════════════╪══════════════╪═══════╪═══════════╪═════════════╪═════════╪═══════════╡\n",
       "│ 2017       ┆ 112102       ┆ Hospital de  ┆ T019  ┆ 2         ┆ 6           ┆ 2       ┆ 0         │\n",
       "│            ┆              ┆ Niños Dr.    ┆       ┆           ┆             ┆         ┆           │\n",
       "│            ┆              ┆ Luis Calvo…  ┆       ┆           ┆             ┆         ┆           │\n",
       "│ 2005       ┆ 110140       ┆ Hospital de  ┆ N907  ┆ 1         ┆ 1           ┆ 0       ┆ 0         │\n",
       "│            ┆              ┆ Peñaflor     ┆       ┆           ┆             ┆         ┆           │\n",
       "│ 2017       ┆ 112248       ┆ Hospital     ┆ J181  ┆ 9         ┆ 181         ┆ 1       ┆ 0         │\n",
       "│            ┆              ┆ Dipreca      ┆       ┆           ┆             ┆         ┆           │\n",
       "│            ┆              ┆ Teniente     ┆       ┆           ┆             ┆         ┆           │\n",
       "│            ┆              ┆ Hernán…      ┆       ┆           ┆             ┆         ┆           │\n",
       "│ 2016       ┆ 111195       ┆ Hospital de  ┆ T855  ┆ 1         ┆ 8           ┆ 0       ┆ 0         │\n",
       "│            ┆              ┆ Urgencia     ┆       ┆           ┆             ┆         ┆           │\n",
       "│            ┆              ┆ Asistencia … ┆       ┆           ┆             ┆         ┆           │\n",
       "│ …          ┆ …            ┆ …            ┆ …     ┆ …         ┆ …           ┆ …       ┆ …         │\n",
       "│ 2017       ┆ 111195       ┆ Hospital de  ┆ K613  ┆ 3         ┆ 48          ┆ 3       ┆ 0         │\n",
       "│            ┆              ┆ Urgencia     ┆       ┆           ┆             ┆         ┆           │\n",
       "│            ┆              ┆ Asistencia … ┆       ┆           ┆             ┆         ┆           │\n",
       "│ 2017       ┆ 119203       ┆ Hospital     ┆ H043  ┆ 1         ┆ 8           ┆ 0       ┆ 0         │\n",
       "│            ┆              ┆ Naval        ┆       ┆           ┆             ┆         ┆           │\n",
       "│            ┆              ┆ Almirante    ┆       ┆           ┆             ┆         ┆           │\n",
       "│            ┆              ┆ Adriazo…     ┆       ┆           ┆             ┆         ┆           │\n",
       "│ 2017       ┆ 109200       ┆ Hospital     ┆ S420  ┆ 20        ┆ 38          ┆ 19      ┆ 0         │\n",
       "│            ┆              ┆ Clínico      ┆       ┆           ┆             ┆         ┆           │\n",
       "│            ┆              ┆ Universidad  ┆       ┆           ┆             ┆         ┆           │\n",
       "│            ┆              ┆ de …         ┆       ┆           ┆             ┆         ┆           │\n",
       "│ 2019       ┆ 124105       ┆ Hospital de  ┆ D420  ┆ 1         ┆ 92          ┆ 1       ┆ 0         │\n",
       "│            ┆              ┆ Puerto Montt ┆       ┆           ┆             ┆         ┆           │\n",
       "└────────────┴──────────────┴──────────────┴───────┴───────────┴─────────────┴─────────┴───────────┘"
      ]
     },
     "metadata": {},
     "output_type": "display_data"
    }
   ],
   "source": [
    "display(metricas.sample(10))\n"
   ]
  },
  {
   "cell_type": "markdown",
   "metadata": {},
   "source": [
    "- Al ver una muestra del calculo realizado, se puede observar la cantidad de egresos, dias de\n",
    "estada, numero de intervenciones quirurgicas y cantidad de muertos para 10 duplas de\n",
    "hospitales - diagnosticos distintos."
   ]
  },
  {
   "cell_type": "markdown",
   "metadata": {},
   "source": [
    "Si bien se tienen las metricas calculadas, ahora se quiere responder a las siguientes preguntas:\n",
    "\n",
    "- En qué diagnósticos se destaca cada hospital productivamente? Esto significa, en qué diagnósticos\n",
    "cada hospital tiene una mayor cantidad de egresos que otros hospitales?\n",
    "\n",
    "- El hospital tiene un desempeño similar dentro de distintos grupos/estratos de hospitales?\n",
    "El hospital se desempeñara de la misma forma nacionalmente, dentro del estrato público, privado,\n",
    "etc...?\n",
    "\n",
    "Para responder a la pregunta se realizará un ranking de todos los hospitales para cada\n",
    "diagnóstico y cada año observado. Este ranking se realizará para distintos grupos/estratos de\n",
    "hospitales (Nacional, Hospitales Públicos, Hospitales Privados, Hospitales GRD)"
   ]
  },
  {
   "cell_type": "markdown",
   "metadata": {},
   "source": [
    "## Análisis de Estratos"
   ]
  },
  {
   "cell_type": "code",
   "execution_count": 6,
   "metadata": {},
   "outputs": [],
   "source": [
    "dict_estratos = build_features.obtener_diccionario_estratos(\n",
    "    df_nacional, HOSPITAL_A_ANLIZAR\n",
    ")"
   ]
  },
  {
   "cell_type": "code",
   "execution_count": 7,
   "metadata": {},
   "outputs": [],
   "source": [
    "variables_a_rankear = [\"n_egresos\"]\n",
    "subgrupo_del_ranking = [\"ANO_EGRESO\", \"DIAG1\"]\n",
    "\n",
    "rankings_nacionales = build_features.agregar_ranking_estratos(\n",
    "    metricas, dict_estratos, variables_a_rankear, subgrupo_del_ranking\n",
    ")\n",
    "\n",
    "rankings_hospital_analizado = rankings_nacionales.filter(\n",
    "    pl.col(\"ESTABLECIMIENTO_SALUD\") == HOSPITAL_A_ANLIZAR\n",
    ")\n"
   ]
  },
  {
   "cell_type": "code",
   "execution_count": 8,
   "metadata": {},
   "outputs": [],
   "source": [
    "diags_mas_relevantes = rankings_hospital_analizado.filter(\n",
    "    (pl.col(\"ranking_nacionales_n_egresos\") == 1)\n",
    "    & (pl.col(\"n_int_q\") > 0)\n",
    "    & (pl.col(\"ANO_EGRESO\") > 2011)\n",
    ").sort(by=[\"ANO_EGRESO\", \"n_egresos\", \"n_int_q\"], descending=True)\n",
    "\n",
    "veinte_mas_relevantes_por_anio = diags_mas_relevantes.groupby([\"ANO_EGRESO\"]).head(20)"
   ]
  },
  {
   "cell_type": "code",
   "execution_count": 9,
   "metadata": {},
   "outputs": [],
   "source": [
    "DIAGS_MAS_RELEVANTES = veinte_mas_relevantes_por_anio.select(pl.col(\"DIAG1\").unique()).sort(\n",
    "    by=\"DIAG1\"\n",
    ")"
   ]
  },
  {
   "cell_type": "code",
   "execution_count": 10,
   "metadata": {},
   "outputs": [
    {
     "data": {
      "text/html": [
       "<div><style>\n",
       ".dataframe > thead > tr > th,\n",
       ".dataframe > tbody > tr > td {\n",
       "  text-align: right;\n",
       "}\n",
       "</style>\n",
       "<small>shape: (483, 27)</small><table border=\"1\" class=\"dataframe\"><thead><tr><th>ANO_EGRESO</th><th>ESTABLECIMIENTO_SALUD</th><th>GLOSA_ESTABLECIMIENTO_SALUD</th><th>Capítulo</th><th>Sección</th><th>Categoría</th><th>Descripción</th><th>DIAG1</th><th>n_egresos</th><th>dias_estada_totales</th><th>n_int_q</th><th>n_muertos</th><th>ranking_nacionales_n_egresos</th><th>total_nacionales_n_egresos</th><th>%_nacionales_n_egresos</th><th>ranking_publicos_n_egresos</th><th>total_publicos_n_egresos</th><th>%_publicos_n_egresos</th><th>ranking_privados_n_egresos</th><th>total_privados_n_egresos</th><th>%_privados_n_egresos</th><th>ranking_grd_n_egresos</th><th>total_grd_n_egresos</th><th>%_grd_n_egresos</th><th>ranking_interno_n_egresos</th><th>total_interno_n_egresos</th><th>%_interno_n_egresos</th></tr><tr><td>i64</td><td>i64</td><td>str</td><td>str</td><td>str</td><td>str</td><td>str</td><td>str</td><td>u32</td><td>i64</td><td>i64</td><td>i64</td><td>u32</td><td>u32</td><td>f64</td><td>u32</td><td>u32</td><td>f64</td><td>u32</td><td>u32</td><td>f64</td><td>u32</td><td>u32</td><td>f64</td><td>u32</td><td>u32</td><td>f64</td></tr></thead><tbody><tr><td>2020</td><td>112103</td><td>&quot;Instituto Naci…</td><td>&quot;Cap.02  NEOPLA…</td><td>&quot;C30-C39  NEOPL…</td><td>&quot;C34 TUMOR MALI…</td><td>&quot;Tumor maligno …</td><td>&quot;C341&quot;</td><td>76</td><td>974</td><td>35</td><td>8</td><td>1</td><td>316</td><td>0.240506</td><td>1</td><td>162</td><td>0.469136</td><td>1</td><td>230</td><td>0.330435</td><td>1</td><td>151</td><td>0.503311</td><td>7</td><td>2848</td><td>0.026685</td></tr><tr><td>2020</td><td>112103</td><td>&quot;Instituto Naci…</td><td>&quot;Cap.10  ENFERM…</td><td>&quot;J80-J84  OTRAS…</td><td>&quot;J84 OTRAS ENFE…</td><td>&quot;Otras enfermed…</td><td>&quot;J841&quot;</td><td>58</td><td>930</td><td>11</td><td>6</td><td>1</td><td>1070</td><td>0.054206</td><td>1</td><td>874</td><td>0.066362</td><td>1</td><td>254</td><td>0.228346</td><td>1</td><td>606</td><td>0.09571</td><td>8</td><td>2848</td><td>0.020365</td></tr><tr><td>2020</td><td>112103</td><td>&quot;Instituto Naci…</td><td>&quot;Cap.02  NEOPLA…</td><td>&quot;C76-C80  NEOPL…</td><td>&quot;C78 TUMOR MALI…</td><td>&quot;Tumor maligno …</td><td>&quot;C782&quot;</td><td>51</td><td>556</td><td>38</td><td>6</td><td>1</td><td>200</td><td>0.255</td><td>1</td><td>150</td><td>0.34</td><td>1</td><td>101</td><td>0.50495</td><td>1</td><td>143</td><td>0.356643</td><td>10</td><td>2848</td><td>0.017907</td></tr><tr><td>2020</td><td>112103</td><td>&quot;Instituto Naci…</td><td>&quot;Cap.09  ENFERM…</td><td>&quot;I70-I79  ENFER…</td><td>&quot;I71 ANEURISMA …</td><td>&quot;Aneurisma de l…</td><td>&quot;I712&quot;</td><td>29</td><td>341</td><td>19</td><td>0</td><td>1</td><td>138</td><td>0.210145</td><td>1</td><td>99</td><td>0.292929</td><td>1</td><td>68</td><td>0.426471</td><td>1</td><td>94</td><td>0.308511</td><td>15</td><td>2848</td><td>0.010183</td></tr><tr><td>2020</td><td>112103</td><td>&quot;Instituto Naci…</td><td>&quot;Cap.09  ENFERM…</td><td>&quot;I70-I79  ENFER…</td><td>&quot;I71 ANEURISMA …</td><td>&quot;Disección de a…</td><td>&quot;I710&quot;</td><td>28</td><td>530</td><td>22</td><td>6</td><td>1</td><td>463</td><td>0.060475</td><td>1</td><td>318</td><td>0.08805</td><td>1</td><td>173</td><td>0.16185</td><td>1</td><td>308</td><td>0.090909</td><td>16</td><td>2848</td><td>0.009831</td></tr><tr><td>2020</td><td>112103</td><td>&quot;Instituto Naci…</td><td>&quot;Cap.09  ENFERM…</td><td>&quot;I30-I52  OTRAS…</td><td>&quot;I35 TRASTORNOS…</td><td>&quot;Insuficiencia …</td><td>&quot;I351&quot;</td><td>27</td><td>508</td><td>23</td><td>1</td><td>1</td><td>226</td><td>0.119469</td><td>1</td><td>156</td><td>0.173077</td><td>1</td><td>97</td><td>0.278351</td><td>1</td><td>150</td><td>0.18</td><td>19</td><td>2848</td><td>0.00948</td></tr><tr><td>2020</td><td>112103</td><td>&quot;Instituto Naci…</td><td>&quot;Cap.10  ENFERM…</td><td>&quot;J80-J84  OTRAS…</td><td>&quot;J84 OTRAS ENFE…</td><td>&quot;Otras enfermed…</td><td>&quot;J848&quot;</td><td>27</td><td>275</td><td>6</td><td>1</td><td>1</td><td>107</td><td>0.252336</td><td>1</td><td>76</td><td>0.355263</td><td>1</td><td>58</td><td>0.465517</td><td>1</td><td>71</td><td>0.380282</td><td>20</td><td>2848</td><td>0.00948</td></tr><tr><td>2020</td><td>112103</td><td>&quot;Instituto Naci…</td><td>&quot;Cap.19  LESION…</td><td>&quot;T80-T88  COMPL…</td><td>&quot;T82 COMPLICACI…</td><td>&quot;Complicación m…</td><td>&quot;T820&quot;</td><td>26</td><td>475</td><td>13</td><td>2</td><td>1</td><td>61</td><td>0.42623</td><td>1</td><td>46</td><td>0.565217</td><td>1</td><td>41</td><td>0.634146</td><td>1</td><td>45</td><td>0.577778</td><td>22</td><td>2848</td><td>0.009129</td></tr><tr><td>2020</td><td>112103</td><td>&quot;Instituto Naci…</td><td>&quot;Cap.09  ENFERM…</td><td>&quot;I30-I52  OTRAS…</td><td>&quot;I47 TAQUICARDI…</td><td>&quot;Taquicardia ve…</td><td>&quot;I472&quot;</td><td>24</td><td>150</td><td>2</td><td>1</td><td>1</td><td>374</td><td>0.064171</td><td>1</td><td>266</td><td>0.090226</td><td>1</td><td>132</td><td>0.181818</td><td>1</td><td>241</td><td>0.099585</td><td>24</td><td>2848</td><td>0.008427</td></tr><tr><td>2020</td><td>112103</td><td>&quot;Instituto Naci…</td><td>&quot;Cap.04  ENFERM…</td><td>&quot;E70-E88  ALTER…</td><td>&quot;E84 FIBROSIS Q…</td><td>&quot;Fibrosis quíst…</td><td>&quot;E848&quot;</td><td>23</td><td>366</td><td>1</td><td>0</td><td>1</td><td>44</td><td>0.522727</td><td>1</td><td>42</td><td>0.547619</td><td>1</td><td>25</td><td>0.92</td><td>1</td><td>41</td><td>0.560976</td><td>25</td><td>2848</td><td>0.008076</td></tr><tr><td>2020</td><td>112103</td><td>&quot;Instituto Naci…</td><td>&quot;Cap.09  ENFERM…</td><td>&quot;I30-I52  OTRAS…</td><td>&quot;I35 TRASTORNOS…</td><td>&quot;Estenosis (de …</td><td>&quot;I352&quot;</td><td>21</td><td>369</td><td>14</td><td>1</td><td>1</td><td>110</td><td>0.190909</td><td>1</td><td>84</td><td>0.25</td><td>1</td><td>47</td><td>0.446809</td><td>1</td><td>83</td><td>0.253012</td><td>31</td><td>2848</td><td>0.007374</td></tr><tr><td>2020</td><td>112103</td><td>&quot;Instituto Naci…</td><td>&quot;Cap.10  ENFERM…</td><td>&quot;J40-J47  ENFER…</td><td>&quot;J47 BRONQUIECT…</td><td>&quot;Bronquiectasia…</td><td>&quot;J47X&quot;</td><td>20</td><td>294</td><td>1</td><td>0</td><td>1</td><td>223</td><td>0.089686</td><td>1</td><td>170</td><td>0.117647</td><td>1</td><td>73</td><td>0.273973</td><td>1</td><td>142</td><td>0.140845</td><td>32</td><td>2848</td><td>0.007022</td></tr><tr><td>&hellip;</td><td>&hellip;</td><td>&hellip;</td><td>&hellip;</td><td>&hellip;</td><td>&hellip;</td><td>&hellip;</td><td>&hellip;</td><td>&hellip;</td><td>&hellip;</td><td>&hellip;</td><td>&hellip;</td><td>&hellip;</td><td>&hellip;</td><td>&hellip;</td><td>&hellip;</td><td>&hellip;</td><td>&hellip;</td><td>&hellip;</td><td>&hellip;</td><td>&hellip;</td><td>&hellip;</td><td>&hellip;</td><td>&hellip;</td><td>&hellip;</td><td>&hellip;</td><td>&hellip;</td></tr><tr><td>2012</td><td>112103</td><td>&quot;Instituto Naci…</td><td>&quot;Cap.02  NEOPLA…</td><td>&quot;C76-C80  NEOPL…</td><td>&quot;C77 TUMOR MALI…</td><td>&quot;Tumor maligno …</td><td>&quot;C771&quot;</td><td>4</td><td>34</td><td>2</td><td>1</td><td>1</td><td>7</td><td>0.571429</td><td>1</td><td>6</td><td>0.666667</td><td>1</td><td>5</td><td>0.8</td><td>1</td><td>6</td><td>0.666667</td><td>133</td><td>4453</td><td>0.000898</td></tr><tr><td>2012</td><td>112103</td><td>&quot;Instituto Naci…</td><td>&quot;Cap.10  ENFERM…</td><td>&quot;J60-J70  ENFER…</td><td>&quot;J68 AFECCIONES…</td><td>&quot;Afecciones res…</td><td>&quot;J684&quot;</td><td>4</td><td>58</td><td>1</td><td>0</td><td>1</td><td>9</td><td>0.444444</td><td>1</td><td>4</td><td>1.0</td><td>1</td><td>9</td><td>0.444444</td><td>1</td><td>4</td><td>1.0</td><td>136</td><td>4453</td><td>0.000898</td></tr><tr><td>2012</td><td>112103</td><td>&quot;Instituto Naci…</td><td>&quot;Cap.09  ENFERM…</td><td>&quot;I95-I99  OTROS…</td><td>&quot;I97 TRASTORNOS…</td><td>&quot;Otros trastorn…</td><td>&quot;I978&quot;</td><td>4</td><td>15</td><td>1</td><td>0</td><td>1</td><td>22</td><td>0.181818</td><td>1</td><td>13</td><td>0.307692</td><td>1</td><td>13</td><td>0.307692</td><td>1</td><td>13</td><td>0.307692</td><td>151</td><td>4453</td><td>0.000898</td></tr><tr><td>2012</td><td>112103</td><td>&quot;Instituto Naci…</td><td>&quot;Cap.02  NEOPLA…</td><td>&quot;D10-D36  TUMOR…</td><td>&quot;D15 TUMOR BENI…</td><td>&quot;Tumor benigno …</td><td>&quot;D157&quot;</td><td>4</td><td>24</td><td>1</td><td>0</td><td>1</td><td>6</td><td>0.666667</td><td>1</td><td>4</td><td>1.0</td><td>1</td><td>6</td><td>0.666667</td><td>1</td><td>4</td><td>1.0</td><td>149</td><td>4453</td><td>0.000898</td></tr><tr><td>2012</td><td>112103</td><td>&quot;Instituto Naci…</td><td>&quot;Cap.09  ENFERM…</td><td>&quot;I05-I09  ENFER…</td><td>&quot;I06 ENFERMEDAD…</td><td>&quot;Insuficiencia …</td><td>&quot;I061&quot;</td><td>3</td><td>26</td><td>3</td><td>0</td><td>1</td><td>13</td><td>0.230769</td><td>1</td><td>9</td><td>0.333333</td><td>1</td><td>7</td><td>0.428571</td><td>1</td><td>9</td><td>0.333333</td><td>165</td><td>4453</td><td>0.000674</td></tr><tr><td>2012</td><td>112103</td><td>&quot;Instituto Naci…</td><td>&quot;Cap.09  ENFERM…</td><td>&quot;I30-I52  OTRAS…</td><td>&quot;I36 TRASTORNOS…</td><td>&quot;Insuficiencia …</td><td>&quot;I361&quot;</td><td>3</td><td>29</td><td>2</td><td>0</td><td>1</td><td>6</td><td>0.5</td><td>1</td><td>5</td><td>0.6</td><td>1</td><td>4</td><td>0.75</td><td>1</td><td>5</td><td>0.6</td><td>156</td><td>4453</td><td>0.000674</td></tr><tr><td>2012</td><td>112103</td><td>&quot;Instituto Naci…</td><td>&quot;Cap.09  ENFERM…</td><td>&quot;I05-I09  ENFER…</td><td>&quot;I08 ENFERMEDAD…</td><td>&quot;Trastornos de …</td><td>&quot;I082&quot;</td><td>3</td><td>93</td><td>2</td><td>0</td><td>1</td><td>7</td><td>0.428571</td><td>1</td><td>5</td><td>0.6</td><td>1</td><td>5</td><td>0.6</td><td>1</td><td>5</td><td>0.6</td><td>175</td><td>4453</td><td>0.000674</td></tr><tr><td>2012</td><td>112103</td><td>&quot;Instituto Naci…</td><td>&quot;Cap.17  MALFOR…</td><td>&quot;Q20-Q28  MALFO…</td><td>&quot;Q21 MALFORMACI…</td><td>&quot;Defecto del ta…</td><td>&quot;Q214&quot;</td><td>3</td><td>4</td><td>1</td><td>0</td><td>1</td><td>5</td><td>0.6</td><td>1</td><td>3</td><td>1.0</td><td>1</td><td>5</td><td>0.6</td><td>1</td><td>3</td><td>1.0</td><td>184</td><td>4453</td><td>0.000674</td></tr><tr><td>2012</td><td>112103</td><td>&quot;Instituto Naci…</td><td>&quot;Cap.02  NEOPLA…</td><td>&quot;D10-D36  TUMOR…</td><td>&quot;D15 TUMOR BENI…</td><td>&quot;Tumor benigno …</td><td>&quot;D151&quot;</td><td>3</td><td>34</td><td>1</td><td>0</td><td>1</td><td>20</td><td>0.15</td><td>1</td><td>9</td><td>0.333333</td><td>1</td><td>14</td><td>0.214286</td><td>1</td><td>9</td><td>0.333333</td><td>152</td><td>4453</td><td>0.000674</td></tr><tr><td>2012</td><td>112103</td><td>&quot;Instituto Naci…</td><td>&quot;Cap.01  CIERTA…</td><td>&quot;A15-A19  TUBER…</td><td>&quot;A15 TUBERCULOS…</td><td>&quot;Tuberculosis d…</td><td>&quot;A154&quot;</td><td>3</td><td>47</td><td>1</td><td>1</td><td>1</td><td>10</td><td>0.3</td><td>1</td><td>7</td><td>0.428571</td><td>1</td><td>6</td><td>0.5</td><td>1</td><td>4</td><td>0.75</td><td>162</td><td>4453</td><td>0.000674</td></tr><tr><td>2012</td><td>112103</td><td>&quot;Instituto Naci…</td><td>&quot;Cap.17  MALFOR…</td><td>&quot;Q20-Q28  MALFO…</td><td>&quot;Q22 MALFORMACI…</td><td>&quot;Otras malforma…</td><td>&quot;Q228&quot;</td><td>2</td><td>11</td><td>1</td><td>0</td><td>1</td><td>6</td><td>0.333333</td><td>1</td><td>6</td><td>0.333333</td><td>1</td><td>2</td><td>1.0</td><td>1</td><td>6</td><td>0.333333</td><td>228</td><td>4453</td><td>0.000449</td></tr><tr><td>2012</td><td>112103</td><td>&quot;Instituto Naci…</td><td>&quot;Cap.21  FACTOR…</td><td>&quot;Z55-Z65  PERSO…</td><td>&quot;Z59 PROBLEMAS …</td><td>&quot;Problemas rela…</td><td>&quot;Z593&quot;</td><td>1</td><td>3</td><td>1</td><td>0</td><td>1</td><td>1</td><td>1.0</td><td>1</td><td>1</td><td>1.0</td><td>1</td><td>1</td><td>1.0</td><td>1</td><td>1</td><td>1.0</td><td>234</td><td>4453</td><td>0.000225</td></tr></tbody></table></div>"
      ],
      "text/plain": [
       "shape: (483, 27)\n",
       "┌───────────┬───────────┬───────────┬───────────┬───┬───────────┬───────────┬───────────┬──────────┐\n",
       "│ ANO_EGRES ┆ ESTABLECI ┆ GLOSA_EST ┆ Capítulo  ┆ … ┆ %_grd_n_e ┆ ranking_i ┆ total_int ┆ %_intern │\n",
       "│ O         ┆ MIENTO_SA ┆ ABLECIMIE ┆ ---       ┆   ┆ gresos    ┆ nterno_n_ ┆ erno_n_eg ┆ o_n_egre │\n",
       "│ ---       ┆ LUD       ┆ NTO_SALUD ┆ str       ┆   ┆ ---       ┆ egresos   ┆ resos     ┆ sos      │\n",
       "│ i64       ┆ ---       ┆ ---       ┆           ┆   ┆ f64       ┆ ---       ┆ ---       ┆ ---      │\n",
       "│           ┆ i64       ┆ str       ┆           ┆   ┆           ┆ u32       ┆ u32       ┆ f64      │\n",
       "╞═══════════╪═══════════╪═══════════╪═══════════╪═══╪═══════════╪═══════════╪═══════════╪══════════╡\n",
       "│ 2020      ┆ 112103    ┆ Instituto ┆ Cap.02    ┆ … ┆ 0.503311  ┆ 7         ┆ 2848      ┆ 0.026685 │\n",
       "│           ┆           ┆ Nacional  ┆ NEOPLASIA ┆   ┆           ┆           ┆           ┆          │\n",
       "│           ┆           ┆ de Enferm ┆ S         ┆   ┆           ┆           ┆           ┆          │\n",
       "│           ┆           ┆ edad…     ┆ (C00-D49) ┆   ┆           ┆           ┆           ┆          │\n",
       "│ 2020      ┆ 112103    ┆ Instituto ┆ Cap.10    ┆ … ┆ 0.09571   ┆ 8         ┆ 2848      ┆ 0.020365 │\n",
       "│           ┆           ┆ Nacional  ┆ ENFERMEDA ┆   ┆           ┆           ┆           ┆          │\n",
       "│           ┆           ┆ de Enferm ┆ DES DEL   ┆   ┆           ┆           ┆           ┆          │\n",
       "│           ┆           ┆ edad…     ┆ APARATO…  ┆   ┆           ┆           ┆           ┆          │\n",
       "│ 2020      ┆ 112103    ┆ Instituto ┆ Cap.02    ┆ … ┆ 0.356643  ┆ 10        ┆ 2848      ┆ 0.017907 │\n",
       "│           ┆           ┆ Nacional  ┆ NEOPLASIA ┆   ┆           ┆           ┆           ┆          │\n",
       "│           ┆           ┆ de Enferm ┆ S         ┆   ┆           ┆           ┆           ┆          │\n",
       "│           ┆           ┆ edad…     ┆ (C00-D49) ┆   ┆           ┆           ┆           ┆          │\n",
       "│ 2020      ┆ 112103    ┆ Instituto ┆ Cap.09    ┆ … ┆ 0.308511  ┆ 15        ┆ 2848      ┆ 0.010183 │\n",
       "│           ┆           ┆ Nacional  ┆ ENFERMEDA ┆   ┆           ┆           ┆           ┆          │\n",
       "│           ┆           ┆ de Enferm ┆ DES DEL   ┆   ┆           ┆           ┆           ┆          │\n",
       "│           ┆           ┆ edad…     ┆ APARATO…  ┆   ┆           ┆           ┆           ┆          │\n",
       "│ …         ┆ …         ┆ …         ┆ …         ┆ … ┆ …         ┆ …         ┆ …         ┆ …        │\n",
       "│ 2012      ┆ 112103    ┆ Instituto ┆ Cap.02    ┆ … ┆ 0.333333  ┆ 152       ┆ 4453      ┆ 0.000674 │\n",
       "│           ┆           ┆ Nacional  ┆ NEOPLASIA ┆   ┆           ┆           ┆           ┆          │\n",
       "│           ┆           ┆ de Enferm ┆ S         ┆   ┆           ┆           ┆           ┆          │\n",
       "│           ┆           ┆ edad…     ┆ (C00-D49) ┆   ┆           ┆           ┆           ┆          │\n",
       "│ 2012      ┆ 112103    ┆ Instituto ┆ Cap.01    ┆ … ┆ 0.75      ┆ 162       ┆ 4453      ┆ 0.000674 │\n",
       "│           ┆           ┆ Nacional  ┆ CIERTAS   ┆   ┆           ┆           ┆           ┆          │\n",
       "│           ┆           ┆ de Enferm ┆ ENFERMEDA ┆   ┆           ┆           ┆           ┆          │\n",
       "│           ┆           ┆ edad…     ┆ DES INF…  ┆   ┆           ┆           ┆           ┆          │\n",
       "│ 2012      ┆ 112103    ┆ Instituto ┆ Cap.17    ┆ … ┆ 0.333333  ┆ 228       ┆ 4453      ┆ 0.000449 │\n",
       "│           ┆           ┆ Nacional  ┆ MALFORMAC ┆   ┆           ┆           ┆           ┆          │\n",
       "│           ┆           ┆ de Enferm ┆ IONES CON ┆   ┆           ┆           ┆           ┆          │\n",
       "│           ┆           ┆ edad…     ┆ GÉNITA…   ┆   ┆           ┆           ┆           ┆          │\n",
       "│ 2012      ┆ 112103    ┆ Instituto ┆ Cap.21    ┆ … ┆ 1.0       ┆ 234       ┆ 4453      ┆ 0.000225 │\n",
       "│           ┆           ┆ Nacional  ┆ FACTORES  ┆   ┆           ┆           ┆           ┆          │\n",
       "│           ┆           ┆ de Enferm ┆ QUE       ┆   ┆           ┆           ┆           ┆          │\n",
       "│           ┆           ┆ edad…     ┆ INFLUYEN  ┆   ┆           ┆           ┆           ┆          │\n",
       "│           ┆           ┆           ┆ EN…       ┆   ┆           ┆           ┆           ┆          │\n",
       "└───────────┴───────────┴───────────┴───────────┴───┴───────────┴───────────┴───────────┴──────────┘"
      ]
     },
     "execution_count": 10,
     "metadata": {},
     "output_type": "execute_result"
    }
   ],
   "source": [
    "diags_mas_relevantes"
   ]
  },
  {
   "cell_type": "markdown",
   "metadata": {},
   "source": [
    "Para hacer un contorl de lo que se calculo, se observará una muestra de 10 hospitales - diagnósticos\n",
    "distintos"
   ]
  },
  {
   "cell_type": "code",
   "execution_count": 11,
   "metadata": {},
   "outputs": [
    {
     "data": {
      "text/html": [
       "<div><style>\n",
       ".dataframe > thead > tr > th,\n",
       ".dataframe > tbody > tr > td {\n",
       "  text-align: right;\n",
       "}\n",
       "</style>\n",
       "<small>shape: (10, 27)</small><table border=\"1\" class=\"dataframe\"><thead><tr><th>ANO_EGRESO</th><th>ESTABLECIMIENTO_SALUD</th><th>GLOSA_ESTABLECIMIENTO_SALUD</th><th>Capítulo</th><th>Sección</th><th>Categoría</th><th>Descripción</th><th>DIAG1</th><th>n_egresos</th><th>dias_estada_totales</th><th>n_int_q</th><th>n_muertos</th><th>ranking_nacionales_n_egresos</th><th>total_nacionales_n_egresos</th><th>%_nacionales_n_egresos</th><th>ranking_publicos_n_egresos</th><th>total_publicos_n_egresos</th><th>%_publicos_n_egresos</th><th>ranking_privados_n_egresos</th><th>total_privados_n_egresos</th><th>%_privados_n_egresos</th><th>ranking_grd_n_egresos</th><th>total_grd_n_egresos</th><th>%_grd_n_egresos</th><th>ranking_interno_n_egresos</th><th>total_interno_n_egresos</th><th>%_interno_n_egresos</th></tr><tr><td>i64</td><td>i64</td><td>str</td><td>str</td><td>str</td><td>str</td><td>str</td><td>str</td><td>u32</td><td>i64</td><td>i64</td><td>i64</td><td>u32</td><td>u32</td><td>f64</td><td>u32</td><td>u32</td><td>f64</td><td>u32</td><td>u32</td><td>f64</td><td>u32</td><td>u32</td><td>f64</td><td>u32</td><td>u32</td><td>f64</td></tr></thead><tbody><tr><td>2014</td><td>118107</td><td>&quot;Hospital Clori…</td><td>&quot;Cap.18  SÍNTOM…</td><td>&quot;R10-R19  SÍNTO…</td><td>&quot;R11 NÁUSEA Y V…</td><td>&quot;Náusea y vómit…</td><td>&quot;R11X&quot;</td><td>3</td><td>17</td><td>0</td><td>0</td><td>83</td><td>1118</td><td>0.002683</td><td>57</td><td>740</td><td>0.004054</td><td>null</td><td>null</td><td>null</td><td>null</td><td>null</td><td>null</td><td>null</td><td>null</td><td>null</td></tr><tr><td>2012</td><td>108204</td><td>&quot;Clínica Río Bl…</td><td>&quot;Cap.19  LESION…</td><td>&quot;T80-T88  COMPL…</td><td>&quot;T83 COMPLICACI…</td><td>&quot;Otras complica…</td><td>&quot;T838&quot;</td><td>2</td><td>2</td><td>2</td><td>0</td><td>12</td><td>142</td><td>0.014085</td><td>null</td><td>null</td><td>null</td><td>5</td><td>28</td><td>0.071429</td><td>null</td><td>null</td><td>null</td><td>null</td><td>null</td><td>null</td></tr><tr><td>2001</td><td>129100</td><td>&quot;Hospital Dr. M…</td><td>&quot;Cap.11  ENFERM…</td><td>&quot;K20-K31  ENFER…</td><td>&quot;K27 ÚLCERA PÉP…</td><td>&quot;Úlcera péptica…</td><td>&quot;K275&quot;</td><td>2</td><td>34</td><td>0</td><td>0</td><td>6</td><td>44</td><td>0.045455</td><td>6</td><td>44</td><td>0.045455</td><td>null</td><td>null</td><td>null</td><td>6</td><td>40</td><td>0.05</td><td>null</td><td>null</td><td>null</td></tr><tr><td>2012</td><td>109201</td><td>&quot;Clínica Dávila…</td><td>&quot;Cap.11  ENFERM…</td><td>&quot;K00-K14  ENFER…</td><td>&quot;K11 ENFERMEDAD…</td><td>&quot;Mucocele de gl…</td><td>&quot;K116&quot;</td><td>3</td><td>3</td><td>3</td><td>0</td><td>6</td><td>74</td><td>0.040541</td><td>null</td><td>null</td><td>null</td><td>4</td><td>45</td><td>0.066667</td><td>null</td><td>null</td><td>null</td><td>null</td><td>null</td><td>null</td></tr><tr><td>2009</td><td>108100</td><td>&quot;Hospital de Sa…</td><td>&quot;Cap.18  SÍNTOM…</td><td>&quot;R50-R69  SÍNTO…</td><td>&quot;R57 CHOQUE, NO…</td><td>&quot;Otras formas d…</td><td>&quot;R578&quot;</td><td>1</td><td>1</td><td>0</td><td>1</td><td>7</td><td>27</td><td>0.037037</td><td>5</td><td>18</td><td>0.055556</td><td>null</td><td>null</td><td>null</td><td>5</td><td>18</td><td>0.055556</td><td>null</td><td>null</td><td>null</td></tr><tr><td>2019</td><td>106100</td><td>&quot;Hospital Carlo…</td><td>&quot;Cap.08  ENFERM…</td><td>&quot;H80-H83  ENFER…</td><td>&quot;H81 TRASTORNOS…</td><td>&quot;Vértigo paroxí…</td><td>&quot;H811&quot;</td><td>1</td><td>3</td><td>0</td><td>0</td><td>88</td><td>167</td><td>0.005988</td><td>51</td><td>80</td><td>0.0125</td><td>null</td><td>null</td><td>null</td><td>27</td><td>46</td><td>0.021739</td><td>null</td><td>null</td><td>null</td></tr><tr><td>2001</td><td>121202</td><td>&quot;Clínica Aleman…</td><td>&quot;Cap.11  ENFERM…</td><td>&quot;K00-K14  ENFER…</td><td>&quot;K07 ANOMALÍAS …</td><td>&quot;Anomalías evid…</td><td>&quot;K070&quot;</td><td>3</td><td>14</td><td>3</td><td>0</td><td>4</td><td>70</td><td>0.042857</td><td>null</td><td>null</td><td>null</td><td>3</td><td>45</td><td>0.066667</td><td>null</td><td>null</td><td>null</td><td>null</td><td>null</td><td>null</td></tr><tr><td>2012</td><td>107100</td><td>&quot;Hospital Dr. G…</td><td>&quot;Cap.19  LESION…</td><td>&quot;S00-S09  TRAUM…</td><td>&quot;S01 HERIDA DE …</td><td>&quot;Herida de otra…</td><td>&quot;S018&quot;</td><td>17</td><td>40</td><td>10</td><td>0</td><td>13</td><td>1021</td><td>0.01665</td><td>10</td><td>634</td><td>0.026814</td><td>null</td><td>null</td><td>null</td><td>10</td><td>508</td><td>0.033465</td><td>null</td><td>null</td><td>null</td></tr><tr><td>2019</td><td>118202</td><td>&quot;Clínica de la …</td><td>&quot;Cap.10  ENFERM…</td><td>&quot;J90-J94  OTRAS…</td><td>&quot;J93 NEUMOTÓRAX…</td><td>&quot;Neumotórax esp…</td><td>&quot;J930&quot;</td><td>2</td><td>7</td><td>0</td><td>0</td><td>23</td><td>138</td><td>0.014493</td><td>null</td><td>null</td><td>null</td><td>11</td><td>59</td><td>0.033898</td><td>null</td><td>null</td><td>null</td><td>null</td><td>null</td><td>null</td></tr><tr><td>2004</td><td>123200</td><td>&quot;Clínica Aleman…</td><td>&quot;Cap.10  ENFERM…</td><td>&quot;J09-J18  GRIPE…</td><td>&quot;J15 NEUMONÍA B…</td><td>&quot;Neumonía bacte…</td><td>&quot;J159&quot;</td><td>1</td><td>3</td><td>0</td><td>0</td><td>121</td><td>3412</td><td>0.000293</td><td>null</td><td>null</td><td>null</td><td>30</td><td>186</td><td>0.005376</td><td>null</td><td>null</td><td>null</td><td>null</td><td>null</td><td>null</td></tr></tbody></table></div>"
      ],
      "text/plain": [
       "shape: (10, 27)\n",
       "┌───────────┬───────────┬───────────┬───────────┬───┬───────────┬───────────┬───────────┬──────────┐\n",
       "│ ANO_EGRES ┆ ESTABLECI ┆ GLOSA_EST ┆ Capítulo  ┆ … ┆ %_grd_n_e ┆ ranking_i ┆ total_int ┆ %_intern │\n",
       "│ O         ┆ MIENTO_SA ┆ ABLECIMIE ┆ ---       ┆   ┆ gresos    ┆ nterno_n_ ┆ erno_n_eg ┆ o_n_egre │\n",
       "│ ---       ┆ LUD       ┆ NTO_SALUD ┆ str       ┆   ┆ ---       ┆ egresos   ┆ resos     ┆ sos      │\n",
       "│ i64       ┆ ---       ┆ ---       ┆           ┆   ┆ f64       ┆ ---       ┆ ---       ┆ ---      │\n",
       "│           ┆ i64       ┆ str       ┆           ┆   ┆           ┆ u32       ┆ u32       ┆ f64      │\n",
       "╞═══════════╪═══════════╪═══════════╪═══════════╪═══╪═══════════╪═══════════╪═══════════╪══════════╡\n",
       "│ 2014      ┆ 118107    ┆ Hospital  ┆ Cap.18    ┆ … ┆ null      ┆ null      ┆ null      ┆ null     │\n",
       "│           ┆           ┆ Clorinda  ┆ SÍNTOMAS, ┆   ┆           ┆           ┆           ┆          │\n",
       "│           ┆           ┆ Avello    ┆ SIGNOS Y  ┆   ┆           ┆           ┆           ┆          │\n",
       "│           ┆           ┆ (Santa …  ┆ RESUL…    ┆   ┆           ┆           ┆           ┆          │\n",
       "│ 2012      ┆ 108204    ┆ Clínica   ┆ Cap.19    ┆ … ┆ null      ┆ null      ┆ null      ┆ null     │\n",
       "│           ┆           ┆ Río       ┆ LESIONES  ┆   ┆           ┆           ┆           ┆          │\n",
       "│           ┆           ┆ Blanco    ┆ TRAUMÁTIC ┆   ┆           ┆           ┆           ┆          │\n",
       "│           ┆           ┆           ┆ AS, EN…   ┆   ┆           ┆           ┆           ┆          │\n",
       "│ 2001      ┆ 129100    ┆ Hospital  ┆ Cap.11    ┆ … ┆ 0.05      ┆ null      ┆ null      ┆ null     │\n",
       "│           ┆           ┆ Dr.       ┆ ENFERMEDA ┆   ┆           ┆           ┆           ┆          │\n",
       "│           ┆           ┆ Mauricio  ┆ DES DEL   ┆   ┆           ┆           ┆           ┆          │\n",
       "│           ┆           ┆ Heyermann ┆ APARATO…  ┆   ┆           ┆           ┆           ┆          │\n",
       "│           ┆           ┆ …         ┆           ┆   ┆           ┆           ┆           ┆          │\n",
       "│ 2012      ┆ 109201    ┆ Clínica   ┆ Cap.11    ┆ … ┆ null      ┆ null      ┆ null      ┆ null     │\n",
       "│           ┆           ┆ Dávila    ┆ ENFERMEDA ┆   ┆           ┆           ┆           ┆          │\n",
       "│           ┆           ┆           ┆ DES DEL   ┆   ┆           ┆           ┆           ┆          │\n",
       "│           ┆           ┆           ┆ APARATO…  ┆   ┆           ┆           ┆           ┆          │\n",
       "│ …         ┆ …         ┆ …         ┆ …         ┆ … ┆ …         ┆ …         ┆ …         ┆ …        │\n",
       "│ 2001      ┆ 121202    ┆ Clínica   ┆ Cap.11    ┆ … ┆ null      ┆ null      ┆ null      ┆ null     │\n",
       "│           ┆           ┆ Alemana   ┆ ENFERMEDA ┆   ┆           ┆           ┆           ┆          │\n",
       "│           ┆           ┆ de Temuco ┆ DES DEL   ┆   ┆           ┆           ┆           ┆          │\n",
       "│           ┆           ┆           ┆ APARATO…  ┆   ┆           ┆           ┆           ┆          │\n",
       "│ 2012      ┆ 107100    ┆ Hospital  ┆ Cap.19    ┆ … ┆ 0.033465  ┆ null      ┆ null      ┆ null     │\n",
       "│           ┆           ┆ Dr.       ┆ LESIONES  ┆   ┆           ┆           ┆           ┆          │\n",
       "│           ┆           ┆ Gustavo   ┆ TRAUMÁTIC ┆   ┆           ┆           ┆           ┆          │\n",
       "│           ┆           ┆ Fricke    ┆ AS, EN…   ┆   ┆           ┆           ┆           ┆          │\n",
       "│           ┆           ┆ (Viñ…     ┆           ┆   ┆           ┆           ┆           ┆          │\n",
       "│ 2019      ┆ 118202    ┆ Clínica   ┆ Cap.10    ┆ … ┆ null      ┆ null      ┆ null      ┆ null     │\n",
       "│           ┆           ┆ de la     ┆ ENFERMEDA ┆   ┆           ┆           ┆           ┆          │\n",
       "│           ┆           ┆ Mujer     ┆ DES DEL   ┆   ┆           ┆           ┆           ┆          │\n",
       "│           ┆           ┆ Sanatorio ┆ APARATO…  ┆   ┆           ┆           ┆           ┆          │\n",
       "│           ┆           ┆ Al…       ┆           ┆   ┆           ┆           ┆           ┆          │\n",
       "│ 2004      ┆ 123200    ┆ Clínica   ┆ Cap.10    ┆ … ┆ null      ┆ null      ┆ null      ┆ null     │\n",
       "│           ┆           ┆ Alemana   ┆ ENFERMEDA ┆   ┆           ┆           ┆           ┆          │\n",
       "│           ┆           ┆ de Osorno ┆ DES DEL   ┆   ┆           ┆           ┆           ┆          │\n",
       "│           ┆           ┆           ┆ APARATO…  ┆   ┆           ┆           ┆           ┆          │\n",
       "└───────────┴───────────┴───────────┴───────────┴───┴───────────┴───────────┴───────────┴──────────┘"
      ]
     },
     "metadata": {},
     "output_type": "display_data"
    }
   ],
   "source": [
    "display(rankings_nacionales.sample(10))\n"
   ]
  },
  {
   "cell_type": "markdown",
   "metadata": {},
   "source": [
    "En la muestra anterior se puede observar las métricas previamente calculada, y el ranking\n",
    "respectivo que tiene cada hospital para diagnósticos en cada año específico."
   ]
  },
  {
   "cell_type": "code",
   "execution_count": 12,
   "metadata": {},
   "outputs": [],
   "source": [
    "rankings_nacionales.to_pandas().to_csv(\n",
    "    \"../data/interim/ranking_nacional_egresos.csv\",\n",
    "    sep=\";\",\n",
    "    decimal=\".\",\n",
    "    encoding=\"latin-1\",\n",
    "    index=False,\n",
    ")\n",
    "\n",
    "rankings_hospital_analizado.to_pandas().to_csv(\n",
    "    \"../data/interim/ranking_torax_egresos.csv\",\n",
    "    sep=\";\",\n",
    "    decimal=\".\",\n",
    "    encoding=\"latin-1\",\n",
    "    index=False,\n",
    ")"
   ]
  },
  {
   "cell_type": "markdown",
   "metadata": {},
   "source": [
    "## Metricas para personas sobre 14 años\n",
    "\n",
    "En este análisis se quiere ver el ranking de egresos pero solamente tomando en cuenta a personas\n",
    "mayores a 14 años. Esto, para dilucidar si el hospital del tórax es altamente relevante para tratar\n",
    "patologías congénitas de adultos."
   ]
  },
  {
   "cell_type": "code",
   "execution_count": 13,
   "metadata": {},
   "outputs": [],
   "source": [
    "df_nacional_mayores_a_14 = df_nacional.filter(pl.col(\"EDAD_A_OS\") > 14)"
   ]
  },
  {
   "cell_type": "code",
   "execution_count": 14,
   "metadata": {},
   "outputs": [],
   "source": [
    "metricas_sobre_14 = build_features.obtener_metricas_egresos(\n",
    "    df_nacional_mayores_a_14, AGRUPACION\n",
    ").collect()\n"
   ]
  },
  {
   "cell_type": "code",
   "execution_count": 15,
   "metadata": {},
   "outputs": [],
   "source": [
    "variables_a_rankear = [\"n_egresos\"]\n",
    "subgrupo_del_ranking = [\"ANO_EGRESO\", \"DIAG1\"]\n",
    "\n",
    "rankings_nacionales_sobre_14 = build_features.agregar_ranking_estratos(\n",
    "    metricas_sobre_14, dict_estratos, variables_a_rankear, subgrupo_del_ranking\n",
    ")\n",
    "\n",
    "diags_congenitos_relevantes = rankings_nacionales_sobre_14.filter(\n",
    "    (pl.col(\"DIAG1\").is_in([\"Q230\", \"Q211\", \"Q231\"])) & (\n",
    "        pl.col(\"ANO_EGRESO\") == 2019)\n",
    ")\n"
   ]
  },
  {
   "cell_type": "code",
   "execution_count": 16,
   "metadata": {},
   "outputs": [],
   "source": [
    "diags_congenitos_relevantes.to_pandas().to_csv(\n",
    "    \"../data/interim/diags_congenitas_sobre_14_egresos.csv\",\n",
    "    sep=\";\",\n",
    "    decimal=\".\",\n",
    "    encoding=\"latin-1\",\n",
    "    index=False,\n",
    ")"
   ]
  },
  {
   "cell_type": "markdown",
   "metadata": {},
   "source": [
    "## 3. Análisis de procedimientos DEIS\n",
    "\n",
    "En este análisis se quieren responder las siguientes preguntas:\n",
    "\n",
    "1. ¿Cuál es el procedimiento más frecuente dentro de los pacientes que se les realizó un procedimiento\n",
    "quirúrgico?"
   ]
  },
  {
   "cell_type": "code",
   "execution_count": 41,
   "metadata": {},
   "outputs": [],
   "source": [
    "proced = (\n",
    "    df_nacional.filter(pl.col(\"INTERV_Q\") == 1)\n",
    "    .groupby([\"ANO_EGRESO\", \"ESTABLECIMIENTO_SALUD\", \"GLOSA_PROCED_PPAL\"])\n",
    "    .agg(pl.count())\n",
    ").collect()"
   ]
  },
  {
   "cell_type": "code",
   "execution_count": 46,
   "metadata": {},
   "outputs": [
    {
     "data": {
      "text/html": [
       "<div><style>\n",
       ".dataframe > thead > tr > th,\n",
       ".dataframe > tbody > tr > td {\n",
       "  text-align: right;\n",
       "}\n",
       "</style>\n",
       "<small>shape: (10_757, 4)</small><table border=\"1\" class=\"dataframe\"><thead><tr><th>ANO_EGRESO</th><th>ESTABLECIMIENTO_SALUD</th><th>GLOSA_PROCED_PPAL</th><th>count</th></tr><tr><td>i64</td><td>i64</td><td>str</td><td>u32</td></tr></thead><tbody><tr><td>2001</td><td>110100</td><td>null</td><td>5294</td></tr><tr><td>2001</td><td>101213</td><td>null</td><td>1014</td></tr><tr><td>2001</td><td>114102</td><td>null</td><td>379</td></tr><tr><td>2001</td><td>109104</td><td>null</td><td>2</td></tr><tr><td>2001</td><td>113150</td><td>null</td><td>1711</td></tr><tr><td>2001</td><td>115104</td><td>null</td><td>1022</td></tr><tr><td>2001</td><td>110150</td><td>null</td><td>2478</td></tr><tr><td>2001</td><td>124120</td><td>null</td><td>410</td></tr><tr><td>2001</td><td>124125</td><td>null</td><td>401</td></tr><tr><td>2001</td><td>101214</td><td>null</td><td>953</td></tr><tr><td>2001</td><td>103200</td><td>null</td><td>1403</td></tr><tr><td>2001</td><td>121120</td><td>null</td><td>602</td></tr><tr><td>&hellip;</td><td>&hellip;</td><td>&hellip;</td><td>&hellip;</td></tr><tr><td>2020</td><td>112530</td><td>&quot;Histeroscopía …</td><td>1</td></tr><tr><td>2020</td><td>200486</td><td>&quot;Resonancia Mag…</td><td>1</td></tr><tr><td>2020</td><td>112530</td><td>&quot;Resonancia Mag…</td><td>1</td></tr><tr><td>2020</td><td>123100</td><td>&quot;Devolvulacion …</td><td>1</td></tr><tr><td>2020</td><td>121209</td><td>&quot;Luxaciones de …</td><td>1</td></tr><tr><td>2020</td><td>112102</td><td>&quot;Fracturas medi…</td><td>2</td></tr><tr><td>2020</td><td>106102</td><td>&quot;Gastroduodenos…</td><td>1</td></tr><tr><td>2020</td><td>119208</td><td>&quot;Instalacion de…</td><td>1</td></tr><tr><td>2020</td><td>118202</td><td>&quot;Resonancia Mag…</td><td>1</td></tr><tr><td>2020</td><td>126201</td><td>&quot;Registro ecoar…</td><td>3</td></tr><tr><td>2020</td><td>109103</td><td>&quot;Dilatacion ess…</td><td>1</td></tr><tr><td>2020</td><td>200486</td><td>&quot;Resonancia Mag…</td><td>1</td></tr></tbody></table></div>"
      ],
      "text/plain": [
       "shape: (10_757, 4)\n",
       "┌────────────┬───────────────────────┬───────────────────────────────────┬───────┐\n",
       "│ ANO_EGRESO ┆ ESTABLECIMIENTO_SALUD ┆ GLOSA_PROCED_PPAL                 ┆ count │\n",
       "│ ---        ┆ ---                   ┆ ---                               ┆ ---   │\n",
       "│ i64        ┆ i64                   ┆ str                               ┆ u32   │\n",
       "╞════════════╪═══════════════════════╪═══════════════════════════════════╪═══════╡\n",
       "│ 2001       ┆ 110100                ┆ null                              ┆ 5294  │\n",
       "│ 2001       ┆ 101213                ┆ null                              ┆ 1014  │\n",
       "│ 2001       ┆ 114102                ┆ null                              ┆ 379   │\n",
       "│ 2001       ┆ 109104                ┆ null                              ┆ 2     │\n",
       "│ …          ┆ …                     ┆ …                                 ┆ …     │\n",
       "│ 2020       ┆ 118202                ┆ Resonancia Magnética de abdomen   ┆ 1     │\n",
       "│ 2020       ┆ 126201                ┆ Registro ecoarterial o ecovenoso… ┆ 3     │\n",
       "│ 2020       ┆ 109103                ┆ Dilatacion essofagica por balon … ┆ 1     │\n",
       "│ 2020       ┆ 200486                ┆ Resonancia Magnética  de columna… ┆ 1     │\n",
       "└────────────┴───────────────────────┴───────────────────────────────────┴───────┘"
      ]
     },
     "metadata": {},
     "output_type": "display_data"
    }
   ],
   "source": [
    "display(proced)"
   ]
  },
  {
   "cell_type": "markdown",
   "metadata": {},
   "source": [
    "Los resultados muestran el desglose por año y recinto hospitalario junto a la cantidad de\n",
    "procedimientos realizados en cada intervención quirúrgica. Sin embargo, se puede observar que\n",
    "existe una cantidad importante de casos donde la glosa del procedimiento fue nula.\n",
    "\n",
    "Ahora, se quiere calcular cuántas intervenciones quirúrgicas carecen de una glosa de procedimiento."
   ]
  },
  {
   "cell_type": "code",
   "execution_count": 55,
   "metadata": {},
   "outputs": [
    {
     "data": {
      "text/html": [
       "<div><style>\n",
       ".dataframe > thead > tr > th,\n",
       ".dataframe > tbody > tr > td {\n",
       "  text-align: right;\n",
       "}\n",
       "</style>\n",
       "<small>shape: (422, 2)</small><table border=\"1\" class=\"dataframe\"><thead><tr><th>GLOSA_PROCED_PPAL</th><th>count</th></tr><tr><td>str</td><td>u32</td></tr></thead><tbody><tr><td>&quot;Histerosalping…</td><td>1</td></tr><tr><td>&quot;Respuesta resp…</td><td>1</td></tr><tr><td>&quot;Punción evacua…</td><td>1</td></tr><tr><td>&quot;Radiografía re…</td><td>1</td></tr><tr><td>&quot;Sinusoscopia d…</td><td>1</td></tr><tr><td>&quot;Cintigrafía re…</td><td>1</td></tr><tr><td>&quot;Perfil uretral…</td><td>1</td></tr><tr><td>&quot;Infiltraciones…</td><td>1</td></tr><tr><td>&quot;Ecobiometria c…</td><td>1</td></tr><tr><td>&quot;Criocoagulacio…</td><td>1</td></tr><tr><td>&quot;Cuerpo extraño…</td><td>1</td></tr><tr><td>&quot;Quimioterapia …</td><td>1</td></tr><tr><td>&hellip;</td><td>&hellip;</td></tr><tr><td>&quot;Anestesia gene…</td><td>2932</td></tr><tr><td>&quot;Biopsia endome…</td><td>2975</td></tr><tr><td>&quot;Colangiopancre…</td><td>3605</td></tr><tr><td>&quot;Monitoreo feta…</td><td>4055</td></tr><tr><td>&quot;Monitoreo basa…</td><td>4875</td></tr><tr><td>&quot;Anestesia peri…</td><td>5308</td></tr><tr><td>&quot;E.C.G. de repo…</td><td>5684</td></tr><tr><td>&quot;Ecografía como…</td><td>7519</td></tr><tr><td>&quot;Instilacion ve…</td><td>7685</td></tr><tr><td>&quot;Código no exis…</td><td>11155</td></tr><tr><td>&quot;Apoyo fluorosc…</td><td>15775</td></tr><tr><td>null</td><td>12382642</td></tr></tbody></table></div>"
      ],
      "text/plain": [
       "shape: (422, 2)\n",
       "┌───────────────────────────────────┬──────────┐\n",
       "│ GLOSA_PROCED_PPAL                 ┆ count    │\n",
       "│ ---                               ┆ ---      │\n",
       "│ str                               ┆ u32      │\n",
       "╞═══════════════════════════════════╪══════════╡\n",
       "│ Histerosalpingografía (a.c. 04-0… ┆ 1        │\n",
       "│ Respuesta respiratoria al co2     ┆ 1        │\n",
       "│ Punción evacuadora de líquido as… ┆ 1        │\n",
       "│ Radiografía retroalveolar y Bite… ┆ 1        │\n",
       "│ …                                 ┆ …        │\n",
       "│ Instilacion vesical (incluye col… ┆ 7685     │\n",
       "│ Código no existe actualmente      ┆ 11155    │\n",
       "│ Apoyo fluoroscópico a procedimie… ┆ 15775    │\n",
       "│ null                              ┆ 12382642 │\n",
       "└───────────────────────────────────┴──────────┘"
      ]
     },
     "metadata": {},
     "output_type": "display_data"
    }
   ],
   "source": [
    "display(proced.groupby(\"GLOSA_PROCED_PPAL\").agg(pl.col(\"count\").sum()).sort(\"count\"))"
   ]
  },
  {
   "cell_type": "markdown",
   "metadata": {},
   "source": [
    "Por lo tanto, 12382642 de todas las intervenciones quirúrgicas carecen de una glosa de procedimiento."
   ]
  },
  {
   "cell_type": "code",
   "execution_count": 57,
   "metadata": {},
   "outputs": [
    {
     "data": {
      "text/plain": [
       "<xlsxwriter.workbook.Workbook at 0x1e4175e7880>"
      ]
     },
     "execution_count": 57,
     "metadata": {},
     "output_type": "execute_result"
    }
   ],
   "source": [
    "proced.write_excel(\"../data/interim/conteo_procedimientos.xlsx\")"
   ]
  }
 ],
 "metadata": {
  "kernelspec": {
   "display_name": "egresos-deis",
   "language": "python",
   "name": "python3"
  },
  "language_info": {
   "codemirror_mode": {
    "name": "ipython",
    "version": 3
   },
   "file_extension": ".py",
   "mimetype": "text/x-python",
   "name": "python",
   "nbconvert_exporter": "python",
   "pygments_lexer": "ipython3",
   "version": "3.10.9"
  },
  "orig_nbformat": 4
 },
 "nbformat": 4,
 "nbformat_minor": 2
}
