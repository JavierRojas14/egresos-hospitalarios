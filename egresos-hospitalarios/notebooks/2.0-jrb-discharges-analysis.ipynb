{
 "cells": [
  {
   "cell_type": "code",
   "execution_count": 1,
   "metadata": {},
   "outputs": [],
   "source": [
    "import sys\n",
    "import os\n",
    "\n",
    "project_root = os.path.abspath('..')\n",
    "if project_root not in sys.path:\n",
    "    sys.path.append(project_root)\n",
    "\n",
    "%load_ext autoreload\n",
    "%autoreload 2"
   ]
  },
  {
   "cell_type": "code",
   "execution_count": 21,
   "metadata": {},
   "outputs": [],
   "source": [
    "import pandas as pd\n",
    "import numpy as np\n",
    "import polars as pl\n",
    "\n",
    "import matplotlib.pyplot as plt\n",
    "import seaborn as sns\n",
    "\n",
    "import warnings\n",
    "\n",
    "from functools import reduce\n",
    "\n",
    "from src.data import make_dataset\n",
    "from src.features import build_features\n",
    "\n",
    "warnings.filterwarnings(\"ignore\")\n",
    "sns.set_style()\n",
    "plt.rcParams[\"figure.figsize\"] = (12, 6)\n",
    "\n",
    "HOSPITAL_A_ANLIZAR = 112103 # Este es el Torax"
   ]
  },
  {
   "cell_type": "markdown",
   "metadata": {},
   "source": [
    "## Obtencion de Métricas de Egresos Hospitalarios\n",
    "\n",
    "En este apartado se quieren calculcar diversas métricas relevantes para el análisis de los\n",
    "egresos hospitalarios en Chile. Las métricas a calcular son las siguientes:\n",
    "\n",
    "1. Cantidad de Egresos Hospitalarios\n",
    "2. Dias de Estada Totales\n",
    "3. Cantidad de Intervenciones Quirúrgicas\n",
    "4. Cantidad de Muertos\n",
    "\n",
    "Todas estas métricas serán calculadas para cada Año, Establecimiento de Salud y Diagnóstico\n",
    "distinto que exista en la base de datos. Por ejemplo:\n",
    "\n",
    "\"En el año 2019, el Hospital San José (código XXXXXX) tuvo XX egresos, con XX dias estada promedio,\n",
    "con XX intervenciones quirúrgicas y XX muertos para el diagnóstico A24.4\"s"
   ]
  },
  {
   "cell_type": "code",
   "execution_count": 3,
   "metadata": {},
   "outputs": [],
   "source": [
    "df_nacional = pl.scan_csv(\n",
    "    \"../data/processed/egresos_procesados.csv\", infer_schema_length=10000, null_values=\"Extranjero\"\n",
    ")"
   ]
  },
  {
   "cell_type": "code",
   "execution_count": 4,
   "metadata": {},
   "outputs": [],
   "source": [
    "AGRUPACION = [\n",
    "    \"ANO_EGRESO\",\n",
    "    \"ESTABLECIMIENTO_SALUD\",\n",
    "    \"GLOSA_ESTABLECIMIENTO_SALUD\",\n",
    "    \"DIAG1\",\n",
    "]\n",
    "\n",
    "metricas = build_features.obtener_metricas_egresos(df_nacional, AGRUPACION).collect()"
   ]
  },
  {
   "cell_type": "code",
   "execution_count": 5,
   "metadata": {},
   "outputs": [
    {
     "data": {
      "text/html": [
       "<div><style>\n",
       ".dataframe > thead > tr > th,\n",
       ".dataframe > tbody > tr > td {\n",
       "  text-align: right;\n",
       "}\n",
       "</style>\n",
       "<small>shape: (10, 8)</small><table border=\"1\" class=\"dataframe\"><thead><tr><th>ANO_EGRESO</th><th>ESTABLECIMIENTO_SALUD</th><th>GLOSA_ESTABLECIMIENTO_SALUD</th><th>DIAG1</th><th>n_egresos</th><th>dias_estada_totales</th><th>n_int_q</th><th>n_muertos</th></tr><tr><td>i64</td><td>i64</td><td>str</td><td>str</td><td>u32</td><td>i64</td><td>i64</td><td>i64</td></tr></thead><tbody><tr><td>2014</td><td>113180</td><td>&quot;Hospital El Pi…</td><td>&quot;N840&quot;</td><td>10</td><td>14</td><td>10</td><td>0</td></tr><tr><td>2017</td><td>110100</td><td>&quot;Hospital San J…</td><td>&quot;C851&quot;</td><td>3</td><td>31</td><td>0</td><td>1</td></tr><tr><td>2006</td><td>129100</td><td>&quot;Hospital Dr. M…</td><td>&quot;I848&quot;</td><td>2</td><td>8</td><td>2</td><td>0</td></tr><tr><td>2015</td><td>111200</td><td>&quot;Hospital Clíni…</td><td>&quot;K640&quot;</td><td>3</td><td>11</td><td>1</td><td>0</td></tr><tr><td>2010</td><td>106214</td><td>&quot;Clínica Valpar…</td><td>&quot;T024&quot;</td><td>1</td><td>6</td><td>1</td><td>0</td></tr><tr><td>2006</td><td>118202</td><td>&quot;Clínica de la …</td><td>&quot;K610&quot;</td><td>10</td><td>15</td><td>10</td><td>0</td></tr><tr><td>2014</td><td>125100</td><td>&quot;Hospital Regio…</td><td>&quot;D390&quot;</td><td>1</td><td>1</td><td>1</td><td>0</td></tr><tr><td>2014</td><td>115107</td><td>&quot;Hospital San J…</td><td>&quot;B018&quot;</td><td>2</td><td>12</td><td>0</td><td>0</td></tr><tr><td>2015</td><td>111200</td><td>&quot;Hospital Clíni…</td><td>&quot;M130&quot;</td><td>3</td><td>28</td><td>0</td><td>0</td></tr><tr><td>2011</td><td>107101</td><td>&quot;Hospital San M…</td><td>&quot;G825&quot;</td><td>1</td><td>9</td><td>0</td><td>0</td></tr></tbody></table></div>"
      ],
      "text/plain": [
       "shape: (10, 8)\n",
       "┌────────────┬──────────────┬──────────────┬───────┬───────────┬─────────────┬─────────┬───────────┐\n",
       "│ ANO_EGRESO ┆ ESTABLECIMIE ┆ GLOSA_ESTABL ┆ DIAG1 ┆ n_egresos ┆ dias_estada ┆ n_int_q ┆ n_muertos │\n",
       "│ ---        ┆ NTO_SALUD    ┆ ECIMIENTO_SA ┆ ---   ┆ ---       ┆ _totales    ┆ ---     ┆ ---       │\n",
       "│ i64        ┆ ---          ┆ LUD          ┆ str   ┆ u32       ┆ ---         ┆ i64     ┆ i64       │\n",
       "│            ┆ i64          ┆ ---          ┆       ┆           ┆ i64         ┆         ┆           │\n",
       "│            ┆              ┆ str          ┆       ┆           ┆             ┆         ┆           │\n",
       "╞════════════╪══════════════╪══════════════╪═══════╪═══════════╪═════════════╪═════════╪═══════════╡\n",
       "│ 2014       ┆ 113180       ┆ Hospital El  ┆ N840  ┆ 10        ┆ 14          ┆ 10      ┆ 0         │\n",
       "│            ┆              ┆ Pino         ┆       ┆           ┆             ┆         ┆           │\n",
       "│            ┆              ┆ (Santiago,   ┆       ┆           ┆             ┆         ┆           │\n",
       "│            ┆              ┆ San …        ┆       ┆           ┆             ┆         ┆           │\n",
       "│ 2017       ┆ 110100       ┆ Hospital San ┆ C851  ┆ 3         ┆ 31          ┆ 0       ┆ 1         │\n",
       "│            ┆              ┆ Juan de Dios ┆       ┆           ┆             ┆         ┆           │\n",
       "│            ┆              ┆ (Santi…      ┆       ┆           ┆             ┆         ┆           │\n",
       "│ 2006       ┆ 129100       ┆ Hospital Dr. ┆ I848  ┆ 2         ┆ 8           ┆ 2       ┆ 0         │\n",
       "│            ┆              ┆ Mauricio     ┆       ┆           ┆             ┆         ┆           │\n",
       "│            ┆              ┆ Heyermann …  ┆       ┆           ┆             ┆         ┆           │\n",
       "│ 2015       ┆ 111200       ┆ Hospital     ┆ K640  ┆ 3         ┆ 11          ┆ 1       ┆ 0         │\n",
       "│            ┆              ┆ Clínico      ┆       ┆           ┆             ┆         ┆           │\n",
       "│            ┆              ┆ Universidad  ┆       ┆           ┆             ┆         ┆           │\n",
       "│            ┆              ┆ Cat…         ┆       ┆           ┆             ┆         ┆           │\n",
       "│ …          ┆ …            ┆ …            ┆ …     ┆ …         ┆ …           ┆ …       ┆ …         │\n",
       "│ 2014       ┆ 125100       ┆ Hospital     ┆ D390  ┆ 1         ┆ 1           ┆ 1       ┆ 0         │\n",
       "│            ┆              ┆ Regional     ┆       ┆           ┆             ┆         ┆           │\n",
       "│            ┆              ┆ (Coihaique)  ┆       ┆           ┆             ┆         ┆           │\n",
       "│ 2014       ┆ 115107       ┆ Hospital San ┆ B018  ┆ 2         ┆ 12          ┆ 0       ┆ 0         │\n",
       "│            ┆              ┆ Juan de Dios ┆       ┆           ┆             ┆         ┆           │\n",
       "│            ┆              ┆ (San F…      ┆       ┆           ┆             ┆         ┆           │\n",
       "│ 2015       ┆ 111200       ┆ Hospital     ┆ M130  ┆ 3         ┆ 28          ┆ 0       ┆ 0         │\n",
       "│            ┆              ┆ Clínico      ┆       ┆           ┆             ┆         ┆           │\n",
       "│            ┆              ┆ Universidad  ┆       ┆           ┆             ┆         ┆           │\n",
       "│            ┆              ┆ Cat…         ┆       ┆           ┆             ┆         ┆           │\n",
       "│ 2011       ┆ 107101       ┆ Hospital San ┆ G825  ┆ 1         ┆ 9           ┆ 0       ┆ 0         │\n",
       "│            ┆              ┆ Martín       ┆       ┆           ┆             ┆         ┆           │\n",
       "│            ┆              ┆ (Quillota)   ┆       ┆           ┆             ┆         ┆           │\n",
       "└────────────┴──────────────┴──────────────┴───────┴───────────┴─────────────┴─────────┴───────────┘"
      ]
     },
     "metadata": {},
     "output_type": "display_data"
    }
   ],
   "source": [
    "display(metricas.sample(10))"
   ]
  },
  {
   "cell_type": "markdown",
   "metadata": {},
   "source": [
    "- Al ver una muestra del calculo realizado, se puede observar la cantidad de egresos, dias de\n",
    "estada, numero de intervenciones quirurgicas y cantidad de muertos para 10 duplas de\n",
    "hospitales - diagnosticos distintos."
   ]
  },
  {
   "cell_type": "markdown",
   "metadata": {},
   "source": [
    "Si bien se tienen las metricas calculadas, ahora se quiere responder a las siguientes preguntas:\n",
    "\n",
    "- En qué diagnósticos se destaca cada hospital productivamente? Esto significa, en qué diagnósticos\n",
    "cada hospital tiene una mayor cantidad de egresos que otros hospitales?\n",
    "\n",
    "- El hospital tiene un desempeño similar dentro de distintos grupos/estratos de hospitales?\n",
    "El hospital se desempeñara de la misma forma nacionalmente, dentro del estrato público, privado,\n",
    "etc...?\n",
    "\n",
    "Para responder a la pregunta se realizará un ranking de todos los hospitales para cada\n",
    "diagnóstico y cada año observado. Este ranking se realizará para distintos grupos/estratos de\n",
    "hospitales (Nacional, Hospitales Públicos, Hospitales Privados, Hospitales GRD)"
   ]
  },
  {
   "cell_type": "markdown",
   "metadata": {},
   "source": [
    "## Análisis de Estratos"
   ]
  },
  {
   "cell_type": "code",
   "execution_count": 6,
   "metadata": {},
   "outputs": [],
   "source": [
    "dict_estratos = build_features.obtener_diccionario_estratos(df_nacional, HOSPITAL_DEL_TORAX)"
   ]
  },
  {
   "cell_type": "code",
   "execution_count": 22,
   "metadata": {},
   "outputs": [],
   "source": [
    "variables_a_rankear = [\"n_egresos\"]\n",
    "subgrupo_del_ranking = [\"ANO_EGRESO\", \"DIAG1\"]\n",
    "\n",
    "rankings_nacionales = build_features.agregar_ranking_estratos(\n",
    "    metricas, dict_estratos, variables_a_rankear, subgrupo_del_ranking\n",
    ")\n",
    "\n",
    "rankings_hospital_analizado = rankings_nacionales.filter(\n",
    "    pl.col(\"ESTABLECIMIENTO_SALUD\") == HOSPITAL_A_ANLIZAR\n",
    ")"
   ]
  },
  {
   "cell_type": "markdown",
   "metadata": {},
   "source": [
    "Para hacer un contorl de lo que se calculo, se observará una muestra de 10 hospitales - diagnósticos\n",
    "distintos"
   ]
  },
  {
   "cell_type": "code",
   "execution_count": 28,
   "metadata": {},
   "outputs": [
    {
     "data": {
      "text/html": [
       "<div><style>\n",
       ".dataframe > thead > tr > th,\n",
       ".dataframe > tbody > tr > td {\n",
       "  text-align: right;\n",
       "}\n",
       "</style>\n",
       "<small>shape: (10, 27)</small><table border=\"1\" class=\"dataframe\"><thead><tr><th>ANO_EGRESO</th><th>ESTABLECIMIENTO_SALUD</th><th>GLOSA_ESTABLECIMIENTO_SALUD</th><th>Capítulo</th><th>Sección</th><th>Categoría</th><th>Descripción</th><th>DIAG1</th><th>n_egresos</th><th>dias_estada_totales</th><th>n_int_q</th><th>n_muertos</th><th>ranking_nacionales_n_egresos</th><th>total_nacionales_n_egresos</th><th>%_nacionales_n_egresos</th><th>ranking_publicos_n_egresos</th><th>total_publicos_n_egresos</th><th>%_publicos_n_egresos</th><th>ranking_privados_n_egresos</th><th>total_privados_n_egresos</th><th>%_privados_n_egresos</th><th>ranking_grd_n_egresos</th><th>total_grd_n_egresos</th><th>%_grd_n_egresos</th><th>ranking_interno_n_egresos</th><th>total_interno_n_egresos</th><th>%_interno_n_egresos</th></tr><tr><td>i64</td><td>i64</td><td>str</td><td>str</td><td>str</td><td>str</td><td>str</td><td>str</td><td>u32</td><td>i64</td><td>i64</td><td>i64</td><td>u32</td><td>u32</td><td>f64</td><td>u32</td><td>u32</td><td>f64</td><td>u32</td><td>u32</td><td>f64</td><td>u32</td><td>u32</td><td>f64</td><td>u32</td><td>u32</td><td>f64</td></tr></thead><tbody><tr><td>2015</td><td>118214</td><td>&quot;Centro Peniten…</td><td>&quot;Cap.11  ENFERM…</td><td>&quot;K55-K64  OTRAS…</td><td>&quot;K57 ENFERMEDAD…</td><td>&quot;Enfermedad div…</td><td>&quot;K570&quot;</td><td>1</td><td>7</td><td>0</td><td>0</td><td>13</td><td>76</td><td>0.013158</td><td>null</td><td>null</td><td>null</td><td>9</td><td>47</td><td>0.021277</td><td>null</td><td>null</td><td>null</td><td>null</td><td>null</td><td>null</td></tr><tr><td>2009</td><td>112212</td><td>&quot;Clínica Las Co…</td><td>&quot;Cap.11  ENFERM…</td><td>&quot;K40-K46  HERNI…</td><td>&quot;K46 HERNIA NO …</td><td>&quot;Hernia abdomin…</td><td>&quot;K469&quot;</td><td>1</td><td>3</td><td>1</td><td>0</td><td>135</td><td>783</td><td>0.001277</td><td>null</td><td>null</td><td>null</td><td>54</td><td>436</td><td>0.002294</td><td>null</td><td>null</td><td>null</td><td>null</td><td>null</td><td>null</td></tr><tr><td>2011</td><td>122104</td><td>&quot;Hospital Juan …</td><td>&quot;Cap.13  ENFERM…</td><td>&quot;M15-M19  ARTRO…</td><td>&quot;M17 GONARTROSI…</td><td>&quot;Gonartrosis, n…</td><td>&quot;M179&quot;</td><td>1</td><td>8</td><td>0</td><td>0</td><td>117</td><td>1623</td><td>0.000616</td><td>73</td><td>888</td><td>0.001126</td><td>null</td><td>null</td><td>null</td><td>null</td><td>null</td><td>null</td><td>null</td><td>null</td><td>null</td></tr><tr><td>2010</td><td>112249</td><td>&quot;Clínica Santa …</td><td>&quot;Cap.07  ENFERM…</td><td>&quot;H40-H42  GLAUC…</td><td>&quot;H40 GLAUCOMA&quot;</td><td>&quot;Sospecha de gl…</td><td>&quot;H400&quot;</td><td>1</td><td>1</td><td>0</td><td>0</td><td>9</td><td>51</td><td>0.019608</td><td>null</td><td>null</td><td>null</td><td>3</td><td>18</td><td>0.055556</td><td>null</td><td>null</td><td>null</td><td>null</td><td>null</td><td>null</td></tr><tr><td>2010</td><td>109100</td><td>&quot;Complejo Hospi…</td><td>&quot;Cap.19  LESION…</td><td>&quot;T51-T65  EFECT…</td><td>&quot;T63 EFECTO TÓX…</td><td>&quot;Veneno de arañ…</td><td>&quot;T633&quot;</td><td>6</td><td>25</td><td>0</td><td>0</td><td>25</td><td>473</td><td>0.012685</td><td>21</td><td>355</td><td>0.016901</td><td>null</td><td>null</td><td>null</td><td>19</td><td>273</td><td>0.021978</td><td>null</td><td>null</td><td>null</td></tr><tr><td>2006</td><td>118100</td><td>&quot;Hospital Clíni…</td><td>&quot;Cap.02  NEOPLA…</td><td>&quot;D10-D36  TUMOR…</td><td>&quot;D16 TUMOR BENI…</td><td>&quot;Tumor benigno …</td><td>&quot;D161&quot;</td><td>4</td><td>6</td><td>0</td><td>0</td><td>5</td><td>67</td><td>0.059701</td><td>3</td><td>38</td><td>0.105263</td><td>null</td><td>null</td><td>null</td><td>3</td><td>33</td><td>0.121212</td><td>null</td><td>null</td><td>null</td></tr><tr><td>2002</td><td>102100</td><td>&quot;Hospital Dr. E…</td><td>&quot;Cap.21  FACTOR…</td><td>&quot;Z30-Z39  PERSO…</td><td>&quot;Z35 SUPERVISIÓ…</td><td>&quot;Supervisión de…</td><td>&quot;Z353&quot;</td><td>3</td><td>11</td><td>0</td><td>0</td><td>2</td><td>24</td><td>0.125</td><td>2</td><td>24</td><td>0.125</td><td>null</td><td>null</td><td>null</td><td>2</td><td>13</td><td>0.230769</td><td>null</td><td>null</td><td>null</td></tr><tr><td>2014</td><td>124130</td><td>&quot;Hospital de Ca…</td><td>&quot;Cap.01  CIERTA…</td><td>&quot;B90-B94  SECUE…</td><td>&quot;B90 SECUELAS D…</td><td>&quot;Secuelas de tu…</td><td>&quot;B909&quot;</td><td>1</td><td>14</td><td>0</td><td>0</td><td>21</td><td>68</td><td>0.014706</td><td>20</td><td>65</td><td>0.015385</td><td>null</td><td>null</td><td>null</td><td>null</td><td>null</td><td>null</td><td>null</td><td>null</td><td>null</td></tr><tr><td>2002</td><td>112254</td><td>&quot;Clínica Oncoló…</td><td>&quot;Cap.02  NEOPLA…</td><td>&quot;C64-C68  NEOPL…</td><td>&quot;C67 TUMOR MALI…</td><td>&quot;Tumor maligno …</td><td>&quot;C679&quot;</td><td>47</td><td>219</td><td>13</td><td>0</td><td>5</td><td>1301</td><td>0.036126</td><td>null</td><td>null</td><td>null</td><td>3</td><td>569</td><td>0.082601</td><td>null</td><td>null</td><td>null</td><td>null</td><td>null</td><td>null</td></tr><tr><td>2016</td><td>104103</td><td>&quot;Hospital Provi…</td><td>&quot;Cap.11  ENFERM…</td><td>&quot;K20-K31  ENFER…</td><td>&quot;K31 OTRAS ENFE…</td><td>&quot;Otras enfermed…</td><td>&quot;K318&quot;</td><td>1</td><td>2</td><td>1</td><td>0</td><td>49</td><td>149</td><td>0.006711</td><td>29</td><td>70</td><td>0.014286</td><td>null</td><td>null</td><td>null</td><td>26</td><td>56</td><td>0.017857</td><td>null</td><td>null</td><td>null</td></tr></tbody></table></div>"
      ],
      "text/plain": [
       "shape: (10, 27)\n",
       "┌───────────┬───────────┬───────────┬───────────┬───┬───────────┬───────────┬───────────┬──────────┐\n",
       "│ ANO_EGRES ┆ ESTABLECI ┆ GLOSA_EST ┆ Capítulo  ┆ … ┆ %_grd_n_e ┆ ranking_i ┆ total_int ┆ %_intern │\n",
       "│ O         ┆ MIENTO_SA ┆ ABLECIMIE ┆ ---       ┆   ┆ gresos    ┆ nterno_n_ ┆ erno_n_eg ┆ o_n_egre │\n",
       "│ ---       ┆ LUD       ┆ NTO_SALUD ┆ str       ┆   ┆ ---       ┆ egresos   ┆ resos     ┆ sos      │\n",
       "│ i64       ┆ ---       ┆ ---       ┆           ┆   ┆ f64       ┆ ---       ┆ ---       ┆ ---      │\n",
       "│           ┆ i64       ┆ str       ┆           ┆   ┆           ┆ u32       ┆ u32       ┆ f64      │\n",
       "╞═══════════╪═══════════╪═══════════╪═══════════╪═══╪═══════════╪═══════════╪═══════════╪══════════╡\n",
       "│ 2015      ┆ 118214    ┆ Centro    ┆ Cap.11    ┆ … ┆ null      ┆ null      ┆ null      ┆ null     │\n",
       "│           ┆           ┆ Penitenci ┆ ENFERMEDA ┆   ┆           ┆           ┆           ┆          │\n",
       "│           ┆           ┆ ario      ┆ DES DEL   ┆   ┆           ┆           ┆           ┆          │\n",
       "│           ┆           ┆           ┆ APARATO…  ┆   ┆           ┆           ┆           ┆          │\n",
       "│ 2009      ┆ 112212    ┆ Clínica   ┆ Cap.11    ┆ … ┆ null      ┆ null      ┆ null      ┆ null     │\n",
       "│           ┆           ┆ Las       ┆ ENFERMEDA ┆   ┆           ┆           ┆           ┆          │\n",
       "│           ┆           ┆ Condes    ┆ DES DEL   ┆   ┆           ┆           ┆           ┆          │\n",
       "│           ┆           ┆           ┆ APARATO…  ┆   ┆           ┆           ┆           ┆          │\n",
       "│ 2011      ┆ 122104    ┆ Hospital  ┆ Cap.13    ┆ … ┆ null      ┆ null      ┆ null      ┆ null     │\n",
       "│           ┆           ┆ Juan      ┆ ENFERMEDA ┆   ┆           ┆           ┆           ┆          │\n",
       "│           ┆           ┆ Morey (La ┆ DES DEL   ┆   ┆           ┆           ┆           ┆          │\n",
       "│           ┆           ┆ Unión)    ┆ APARATO…  ┆   ┆           ┆           ┆           ┆          │\n",
       "│ 2010      ┆ 112249    ┆ Clínica   ┆ Cap.07    ┆ … ┆ null      ┆ null      ┆ null      ┆ null     │\n",
       "│           ┆           ┆ Santa     ┆ ENFERMEDA ┆   ┆           ┆           ┆           ┆          │\n",
       "│           ┆           ┆ María     ┆ DES DEL   ┆   ┆           ┆           ┆           ┆          │\n",
       "│           ┆           ┆           ┆ OJO Y S…  ┆   ┆           ┆           ┆           ┆          │\n",
       "│ …         ┆ …         ┆ …         ┆ …         ┆ … ┆ …         ┆ …         ┆ …         ┆ …        │\n",
       "│ 2002      ┆ 102100    ┆ Hospital  ┆ Cap.21    ┆ … ┆ 0.230769  ┆ null      ┆ null      ┆ null     │\n",
       "│           ┆           ┆ Dr.       ┆ FACTORES  ┆   ┆           ┆           ┆           ┆          │\n",
       "│           ┆           ┆ Ernesto   ┆ QUE       ┆   ┆           ┆           ┆           ┆          │\n",
       "│           ┆           ┆ Torres    ┆ INFLUYEN  ┆   ┆           ┆           ┆           ┆          │\n",
       "│           ┆           ┆ Gald…     ┆ EN…       ┆   ┆           ┆           ┆           ┆          │\n",
       "│ 2014      ┆ 124130    ┆ Hospital  ┆ Cap.01    ┆ … ┆ null      ┆ null      ┆ null      ┆ null     │\n",
       "│           ┆           ┆ de        ┆ CIERTAS   ┆   ┆           ┆           ┆           ┆          │\n",
       "│           ┆           ┆ Calbuco   ┆ ENFERMEDA ┆   ┆           ┆           ┆           ┆          │\n",
       "│           ┆           ┆           ┆ DES INF…  ┆   ┆           ┆           ┆           ┆          │\n",
       "│ 2002      ┆ 112254    ┆ Clínica   ┆ Cap.02    ┆ … ┆ null      ┆ null      ┆ null      ┆ null     │\n",
       "│           ┆           ┆ Oncológic ┆ NEOPLASIA ┆   ┆           ┆           ┆           ┆          │\n",
       "│           ┆           ┆ a Arturo  ┆ S         ┆   ┆           ┆           ┆           ┆          │\n",
       "│           ┆           ┆ López …   ┆ (C00-D49) ┆   ┆           ┆           ┆           ┆          │\n",
       "│ 2016      ┆ 104103    ┆ Hospital  ┆ Cap.11    ┆ … ┆ 0.017857  ┆ null      ┆ null      ┆ null     │\n",
       "│           ┆           ┆ Provincia ┆ ENFERMEDA ┆   ┆           ┆           ┆           ┆          │\n",
       "│           ┆           ┆ l del     ┆ DES DEL   ┆   ┆           ┆           ┆           ┆          │\n",
       "│           ┆           ┆ Huasco M… ┆ APARATO…  ┆   ┆           ┆           ┆           ┆          │\n",
       "└───────────┴───────────┴───────────┴───────────┴───┴───────────┴───────────┴───────────┴──────────┘"
      ]
     },
     "metadata": {},
     "output_type": "display_data"
    }
   ],
   "source": [
    "display(rankings_nacionales.sample(10))"
   ]
  },
  {
   "cell_type": "markdown",
   "metadata": {},
   "source": [
    "En la muestra anterior se puede observar las métricas previamente calculada, y el ranking\n",
    "respectivo que tiene cada hospital para diagnósticos en cada año específico."
   ]
  },
  {
   "cell_type": "code",
   "execution_count": 32,
   "metadata": {},
   "outputs": [],
   "source": [
    "rankings_nacionales.to_pandas().to_csv(\n",
    "    \"../data/interim/ranking_nacional_egresos.csv\",\n",
    "    sep=\";\",\n",
    "    decimal=\".\",\n",
    "    encoding=\"latin-1\",\n",
    "    index=False\n",
    ")\n",
    "\n",
    "rankings_hospital_analizado.to_pandas().to_csv(\n",
    "    \"../data/interim/ranking_torax_egresos.csv\",\n",
    "    sep=\";\",\n",
    "    decimal=\".\",\n",
    "    encoding=\"latin-1\",\n",
    "    index=False\n",
    ")"
   ]
  },
  {
   "cell_type": "markdown",
   "metadata": {},
   "source": [
    "## Metricas para personas sobre 14 años\n",
    "\n",
    "En este análisis se quiere ver el ranking de egresos pero solamente tomando en cuenta a personas\n",
    "mayores a 14 años. Esto, para dilucidar si el hospital del tórax es altamente relevante para tratar\n",
    "patologías congénitas de adultos."
   ]
  },
  {
   "cell_type": "code",
   "execution_count": 45,
   "metadata": {},
   "outputs": [],
   "source": [
    "df_nacional_mayores_a_14 = df_nacional.filter(\n",
    "    pl.col(\"EDAD_A_OS\") > 14\n",
    ")"
   ]
  },
  {
   "cell_type": "code",
   "execution_count": 46,
   "metadata": {},
   "outputs": [],
   "source": [
    "metricas_sobre_14 = build_features.obtener_metricas_egresos(\n",
    "    df_nacional_mayores_a_14, AGRUPACION\n",
    ").collect()"
   ]
  },
  {
   "cell_type": "code",
   "execution_count": 59,
   "metadata": {},
   "outputs": [],
   "source": [
    "variables_a_rankear = [\"n_egresos\"]\n",
    "subgrupo_del_ranking = [\"ANO_EGRESO\", \"DIAG1\"]\n",
    "\n",
    "rankings_nacionales_sobre_14 = build_features.agregar_ranking_estratos(\n",
    "    metricas_sobre_14, dict_estratos, variables_a_rankear, subgrupo_del_ranking\n",
    ")\n",
    "\n",
    "diags_congenitos_relevantes = rankings_nacionales_sobre_14.filter(\n",
    "    (pl.col(\"DIAG1\").is_in([\"Q230\", \"Q211\", \"Q231\"])) & (pl.col(\"ANO_EGRESO\") == 2019)\n",
    ")"
   ]
  },
  {
   "cell_type": "code",
   "execution_count": 60,
   "metadata": {},
   "outputs": [],
   "source": [
    "diags_congenitos_relevantes.to_pandas().to_csv(\n",
    "    \"../data/interim/diags_congenitas_sobre_14_egresos.csv\",\n",
    "    sep=\";\",\n",
    "    decimal=\".\",\n",
    "    encoding=\"latin-1\",\n",
    "    index=False\n",
    ")"
   ]
  }
 ],
 "metadata": {
  "kernelspec": {
   "display_name": "egresos-deis",
   "language": "python",
   "name": "python3"
  },
  "language_info": {
   "codemirror_mode": {
    "name": "ipython",
    "version": 3
   },
   "file_extension": ".py",
   "mimetype": "text/x-python",
   "name": "python",
   "nbconvert_exporter": "python",
   "pygments_lexer": "ipython3",
   "version": "3.11.4"
  },
  "orig_nbformat": 4
 },
 "nbformat": 4,
 "nbformat_minor": 2
}
