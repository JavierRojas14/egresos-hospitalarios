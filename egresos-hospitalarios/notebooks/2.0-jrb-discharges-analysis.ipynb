{
 "cells": [
  {
   "cell_type": "code",
   "execution_count": 1,
   "metadata": {},
   "outputs": [],
   "source": [
    "import sys\n",
    "import os\n",
    "\n",
    "project_root = os.path.abspath('..')\n",
    "if project_root not in sys.path:\n",
    "    sys.path.append(project_root)\n",
    "\n",
    "%load_ext autoreload\n",
    "%autoreload 2\n"
   ]
  },
  {
   "cell_type": "code",
   "execution_count": 2,
   "metadata": {},
   "outputs": [],
   "source": [
    "import pandas as pd\n",
    "import numpy as np\n",
    "import polars as pl\n",
    "\n",
    "import matplotlib.pyplot as plt\n",
    "import seaborn as sns\n",
    "\n",
    "import warnings\n",
    "\n",
    "from src.data import make_dataset\n",
    "from src.features import build_features\n",
    "\n",
    "warnings.filterwarnings(\"ignore\")\n",
    "sns.set_style()\n",
    "plt.rcParams[\"figure.figsize\"] = (12, 6)\n",
    "\n",
    "HOSPITAL_A_ANLIZAR = 112103  # Este es el Torax\n"
   ]
  },
  {
   "cell_type": "markdown",
   "metadata": {},
   "source": [
    "## Obtencion de Métricas de Egresos Hospitalarios\n",
    "\n",
    "En este apartado se quieren calculcar diversas métricas relevantes para el análisis de los\n",
    "egresos hospitalarios en Chile. Las métricas a calcular son las siguientes:\n",
    "\n",
    "1. Cantidad de Egresos Hospitalarios\n",
    "2. Dias de Estada Totales\n",
    "3. Cantidad de Intervenciones Quirúrgicas\n",
    "4. Cantidad de Muertos\n",
    "\n",
    "Todas estas métricas serán calculadas para cada Año, Establecimiento de Salud y Diagnóstico\n",
    "distinto que exista en la base de datos. Por ejemplo:\n",
    "\n",
    "\"En el año 2019, el Hospital San José (código XXXXXX) tuvo XX egresos, con XX dias estada promedio,\n",
    "con XX intervenciones quirúrgicas y XX muertos para el diagnóstico A24.4\"s"
   ]
  },
  {
   "cell_type": "code",
   "execution_count": 3,
   "metadata": {},
   "outputs": [],
   "source": [
    "df_nacional = pl.scan_csv(\n",
    "    \"../data/processed/egresos_procesados.csv\",\n",
    "    infer_schema_length=10000,\n",
    "    null_values=\"Extranjero\",\n",
    ")"
   ]
  },
  {
   "cell_type": "code",
   "execution_count": 4,
   "metadata": {},
   "outputs": [],
   "source": [
    "AGRUPACION = [\n",
    "    \"ANO_EGRESO\",\n",
    "    \"ESTABLECIMIENTO_SALUD\",\n",
    "    \"GLOSA_ESTABLECIMIENTO_SALUD\",\n",
    "    \"DIAG1\",\n",
    "]\n",
    "\n",
    "metricas = build_features.obtener_metricas_egresos(\n",
    "    df_nacional, AGRUPACION).collect()\n"
   ]
  },
  {
   "cell_type": "code",
   "execution_count": 5,
   "metadata": {},
   "outputs": [
    {
     "data": {
      "text/html": [
       "<div><style>\n",
       ".dataframe > thead > tr > th,\n",
       ".dataframe > tbody > tr > td {\n",
       "  text-align: right;\n",
       "}\n",
       "</style>\n",
       "<small>shape: (10, 8)</small><table border=\"1\" class=\"dataframe\"><thead><tr><th>ANO_EGRESO</th><th>ESTABLECIMIENTO_SALUD</th><th>GLOSA_ESTABLECIMIENTO_SALUD</th><th>DIAG1</th><th>n_egresos</th><th>dias_estada_totales</th><th>n_int_q</th><th>n_muertos</th></tr><tr><td>i64</td><td>i64</td><td>str</td><td>str</td><td>u32</td><td>i64</td><td>i64</td><td>i64</td></tr></thead><tbody><tr><td>2002</td><td>129100</td><td>&quot;Hospital Dr. M…</td><td>&quot;E109&quot;</td><td>6</td><td>43</td><td>0</td><td>0</td></tr><tr><td>2015</td><td>113130</td><td>&quot;Hospital Dr. E…</td><td>&quot;C443&quot;</td><td>4</td><td>4</td><td>0</td><td>0</td></tr><tr><td>2018</td><td>124120</td><td>&quot;Hospital de Fr…</td><td>&quot;I951&quot;</td><td>1</td><td>4</td><td>0</td><td>0</td></tr><tr><td>2004</td><td>110120</td><td>&quot;Hospital Dr. F…</td><td>&quot;J157&quot;</td><td>1</td><td>4</td><td>0</td><td>0</td></tr><tr><td>2010</td><td>115106</td><td>&quot;Hospital de Pi…</td><td>&quot;B378&quot;</td><td>1</td><td>5</td><td>0</td><td>0</td></tr><tr><td>2014</td><td>107108</td><td>&quot;Hospital Adria…</td><td>&quot;O981&quot;</td><td>1</td><td>2</td><td>0</td><td>0</td></tr><tr><td>2013</td><td>115107</td><td>&quot;Hospital San J…</td><td>&quot;J188&quot;</td><td>7</td><td>83</td><td>0</td><td>1</td></tr><tr><td>2001</td><td>116109</td><td>&quot;Hospital Dr. A…</td><td>&quot;S219&quot;</td><td>1</td><td>1</td><td>0</td><td>0</td></tr><tr><td>2019</td><td>117102</td><td>&quot;Hospital de Sa…</td><td>&quot;K561&quot;</td><td>1</td><td>5</td><td>1</td><td>0</td></tr><tr><td>2006</td><td>129103</td><td>&quot;Hospital de Co…</td><td>&quot;R074&quot;</td><td>1</td><td>1</td><td>0</td><td>0</td></tr></tbody></table></div>"
      ],
      "text/plain": [
       "shape: (10, 8)\n",
       "┌────────────┬──────────────┬──────────────┬───────┬───────────┬─────────────┬─────────┬───────────┐\n",
       "│ ANO_EGRESO ┆ ESTABLECIMIE ┆ GLOSA_ESTABL ┆ DIAG1 ┆ n_egresos ┆ dias_estada ┆ n_int_q ┆ n_muertos │\n",
       "│ ---        ┆ NTO_SALUD    ┆ ECIMIENTO_SA ┆ ---   ┆ ---       ┆ _totales    ┆ ---     ┆ ---       │\n",
       "│ i64        ┆ ---          ┆ LUD          ┆ str   ┆ u32       ┆ ---         ┆ i64     ┆ i64       │\n",
       "│            ┆ i64          ┆ ---          ┆       ┆           ┆ i64         ┆         ┆           │\n",
       "│            ┆              ┆ str          ┆       ┆           ┆             ┆         ┆           │\n",
       "╞════════════╪══════════════╪══════════════╪═══════╪═══════════╪═════════════╪═════════╪═══════════╡\n",
       "│ 2002       ┆ 129100       ┆ Hospital Dr. ┆ E109  ┆ 6         ┆ 43          ┆ 0       ┆ 0         │\n",
       "│            ┆              ┆ Mauricio     ┆       ┆           ┆             ┆         ┆           │\n",
       "│            ┆              ┆ Heyermann …  ┆       ┆           ┆             ┆         ┆           │\n",
       "│ 2015       ┆ 113130       ┆ Hospital Dr. ┆ C443  ┆ 4         ┆ 4           ┆ 0       ┆ 0         │\n",
       "│            ┆              ┆ Exequiel     ┆       ┆           ┆             ┆         ┆           │\n",
       "│            ┆              ┆ González C…  ┆       ┆           ┆             ┆         ┆           │\n",
       "│ 2018       ┆ 124120       ┆ Hospital de  ┆ I951  ┆ 1         ┆ 4           ┆ 0       ┆ 0         │\n",
       "│            ┆              ┆ Fresia       ┆       ┆           ┆             ┆         ┆           │\n",
       "│ 2004       ┆ 110120       ┆ Hospital Dr. ┆ J157  ┆ 1         ┆ 4           ┆ 0       ┆ 0         │\n",
       "│            ┆              ┆ Félix Bulnes ┆       ┆           ┆             ┆         ┆           │\n",
       "│            ┆              ┆ Cerda …      ┆       ┆           ┆             ┆         ┆           │\n",
       "│ …          ┆ …            ┆ …            ┆ …     ┆ …         ┆ …           ┆ …       ┆ …         │\n",
       "│ 2013       ┆ 115107       ┆ Hospital San ┆ J188  ┆ 7         ┆ 83          ┆ 0       ┆ 1         │\n",
       "│            ┆              ┆ Juan de Dios ┆       ┆           ┆             ┆         ┆           │\n",
       "│            ┆              ┆ (San F…      ┆       ┆           ┆             ┆         ┆           │\n",
       "│ 2001       ┆ 116109       ┆ Hospital Dr. ┆ S219  ┆ 1         ┆ 1           ┆ 0       ┆ 0         │\n",
       "│            ┆              ┆ Abel         ┆       ┆           ┆             ┆         ┆           │\n",
       "│            ┆              ┆ Fuentealba   ┆       ┆           ┆             ┆         ┆           │\n",
       "│            ┆              ┆ Lag…         ┆       ┆           ┆             ┆         ┆           │\n",
       "│ 2019       ┆ 117102       ┆ Hospital de  ┆ K561  ┆ 1         ┆ 5           ┆ 1       ┆ 0         │\n",
       "│            ┆              ┆ San Carlos   ┆       ┆           ┆             ┆         ┆           │\n",
       "│ 2006       ┆ 129103       ┆ Hospital de  ┆ R074  ┆ 1         ┆ 1           ┆ 0       ┆ 0         │\n",
       "│            ┆              ┆ Collipulli   ┆       ┆           ┆             ┆         ┆           │\n",
       "└────────────┴──────────────┴──────────────┴───────┴───────────┴─────────────┴─────────┴───────────┘"
      ]
     },
     "metadata": {},
     "output_type": "display_data"
    }
   ],
   "source": [
    "display(metricas.sample(10))\n"
   ]
  },
  {
   "cell_type": "markdown",
   "metadata": {},
   "source": [
    "- Al ver una muestra del calculo realizado, se puede observar la cantidad de egresos, dias de\n",
    "estada, numero de intervenciones quirurgicas y cantidad de muertos para 10 duplas de\n",
    "hospitales - diagnosticos distintos."
   ]
  },
  {
   "cell_type": "markdown",
   "metadata": {},
   "source": [
    "Si bien se tienen las metricas calculadas, ahora se quiere responder a las siguientes preguntas:\n",
    "\n",
    "- En qué diagnósticos se destaca cada hospital productivamente? Esto significa, en qué diagnósticos\n",
    "cada hospital tiene una mayor cantidad de egresos que otros hospitales?\n",
    "\n",
    "- El hospital tiene un desempeño similar dentro de distintos grupos/estratos de hospitales?\n",
    "El hospital se desempeñara de la misma forma nacionalmente, dentro del estrato público, privado,\n",
    "etc...?\n",
    "\n",
    "Para responder a la pregunta se realizará un ranking de todos los hospitales para cada\n",
    "diagnóstico y cada año observado. Este ranking se realizará para distintos grupos/estratos de\n",
    "hospitales (Nacional, Hospitales Públicos, Hospitales Privados, Hospitales GRD)"
   ]
  },
  {
   "cell_type": "markdown",
   "metadata": {},
   "source": [
    "## Análisis de Estratos"
   ]
  },
  {
   "cell_type": "code",
   "execution_count": 7,
   "metadata": {},
   "outputs": [],
   "source": [
    "dict_estratos = build_features.obtener_diccionario_estratos(\n",
    "    df_nacional, HOSPITAL_A_ANLIZAR\n",
    ")"
   ]
  },
  {
   "cell_type": "code",
   "execution_count": 8,
   "metadata": {},
   "outputs": [],
   "source": [
    "variables_a_rankear = [\"n_egresos\"]\n",
    "subgrupo_del_ranking = [\"ANO_EGRESO\", \"DIAG1\"]\n",
    "\n",
    "rankings_nacionales = build_features.agregar_ranking_estratos(\n",
    "    metricas, dict_estratos, variables_a_rankear, subgrupo_del_ranking\n",
    ")\n",
    "\n",
    "rankings_hospital_analizado = rankings_nacionales.filter(\n",
    "    pl.col(\"ESTABLECIMIENTO_SALUD\") == HOSPITAL_A_ANLIZAR\n",
    ")\n"
   ]
  },
  {
   "cell_type": "markdown",
   "metadata": {},
   "source": [
    "Para hacer un contorl de lo que se calculo, se observará una muestra de 10 hospitales - diagnósticos\n",
    "distintos"
   ]
  },
  {
   "cell_type": "code",
   "execution_count": 9,
   "metadata": {},
   "outputs": [
    {
     "data": {
      "text/html": [
       "<div><style>\n",
       ".dataframe > thead > tr > th,\n",
       ".dataframe > tbody > tr > td {\n",
       "  text-align: right;\n",
       "}\n",
       "</style>\n",
       "<small>shape: (10, 27)</small><table border=\"1\" class=\"dataframe\"><thead><tr><th>ANO_EGRESO</th><th>ESTABLECIMIENTO_SALUD</th><th>GLOSA_ESTABLECIMIENTO_SALUD</th><th>Capítulo</th><th>Sección</th><th>Categoría</th><th>Descripción</th><th>DIAG1</th><th>n_egresos</th><th>dias_estada_totales</th><th>n_int_q</th><th>n_muertos</th><th>ranking_nacionales_n_egresos</th><th>total_nacionales_n_egresos</th><th>%_nacionales_n_egresos</th><th>ranking_publicos_n_egresos</th><th>total_publicos_n_egresos</th><th>%_publicos_n_egresos</th><th>ranking_privados_n_egresos</th><th>total_privados_n_egresos</th><th>%_privados_n_egresos</th><th>ranking_grd_n_egresos</th><th>total_grd_n_egresos</th><th>%_grd_n_egresos</th><th>ranking_interno_n_egresos</th><th>total_interno_n_egresos</th><th>%_interno_n_egresos</th></tr><tr><td>i64</td><td>i64</td><td>str</td><td>str</td><td>str</td><td>str</td><td>str</td><td>str</td><td>u32</td><td>i64</td><td>i64</td><td>i64</td><td>u32</td><td>u32</td><td>f64</td><td>u32</td><td>u32</td><td>f64</td><td>u32</td><td>u32</td><td>f64</td><td>u32</td><td>u32</td><td>f64</td><td>u32</td><td>u32</td><td>f64</td></tr></thead><tbody><tr><td>2001</td><td>121113</td><td>&quot;Hospital Dr. E…</td><td>&quot;Cap.10  ENFERM…</td><td>&quot;J09-J18  GRIPE…</td><td>&quot;J12 NEUMONÍA V…</td><td>&quot;Neumonía debid…</td><td>&quot;J128&quot;</td><td>2</td><td>3</td><td>1</td><td>0</td><td>14</td><td>94</td><td>0.021277</td><td>11</td><td>81</td><td>0.024691</td><td>null</td><td>null</td><td>null</td><td>null</td><td>null</td><td>null</td><td>null</td><td>null</td><td>null</td></tr><tr><td>2018</td><td>108105</td><td>&quot;Hospital Psiqu…</td><td>&quot;Cap.05  TRASTO…</td><td>&quot;F40-F48  TRAST…</td><td>&quot;F41 OTROS TRAS…</td><td>&quot;Trastorno mixt…</td><td>&quot;F412&quot;</td><td>14</td><td>113</td><td>0</td><td>0</td><td>2</td><td>291</td><td>0.04811</td><td>1</td><td>151</td><td>0.092715</td><td>null</td><td>null</td><td>null</td><td>null</td><td>null</td><td>null</td><td>null</td><td>null</td><td>null</td></tr><tr><td>2015</td><td>112530</td><td>&quot;Hospital Milit…</td><td>&quot;Cap.08  ENFERM…</td><td>&quot;H80-H83  ENFER…</td><td>&quot;H81 TRASTORNOS…</td><td>&quot;Otros trastorn…</td><td>&quot;H818&quot;</td><td>1</td><td>4</td><td>0</td><td>0</td><td>15</td><td>26</td><td>0.038462</td><td>null</td><td>null</td><td>null</td><td>8</td><td>13</td><td>0.076923</td><td>null</td><td>null</td><td>null</td><td>null</td><td>null</td><td>null</td></tr><tr><td>2009</td><td>116112</td><td>&quot;Hospital Dr. B…</td><td>&quot;Cap.18  SÍNTOM…</td><td>&quot;R30-R39  SÍNTO…</td><td>&quot;R31 HEMATURIA,…</td><td>&quot;Hematuria, no …</td><td>&quot;R31X&quot;</td><td>4</td><td>11</td><td>0</td><td>0</td><td>113</td><td>1373</td><td>0.002913</td><td>86</td><td>1017</td><td>0.003933</td><td>null</td><td>null</td><td>null</td><td>null</td><td>null</td><td>null</td><td>null</td><td>null</td><td>null</td></tr><tr><td>2008</td><td>109201</td><td>&quot;Clínica Dávila…</td><td>&quot;Cap.04  ENFERM…</td><td>&quot;E00-E07  TRAST…</td><td>&quot;E06 TIROIDITIS…</td><td>&quot;Tiroiditis, no…</td><td>&quot;E069&quot;</td><td>8</td><td>13</td><td>3</td><td>0</td><td>1</td><td>43</td><td>0.186047</td><td>null</td><td>null</td><td>null</td><td>1</td><td>18</td><td>0.444444</td><td>null</td><td>null</td><td>null</td><td>null</td><td>null</td><td>null</td></tr><tr><td>2008</td><td>110120</td><td>&quot;Hospital Dr. F…</td><td>&quot;Cap.12  ENFERM…</td><td>&quot;L80-L99  OTROS…</td><td>&quot;L81 OTROS TRAS…</td><td>&quot;Hiperpigmentac…</td><td>&quot;L810&quot;</td><td>1</td><td>2</td><td>0</td><td>0</td><td>3</td><td>3</td><td>0.333333</td><td>2</td><td>2</td><td>0.5</td><td>null</td><td>null</td><td>null</td><td>1</td><td>1</td><td>1.0</td><td>null</td><td>null</td><td>null</td></tr><tr><td>2010</td><td>103220</td><td>&quot;Clínica La Por…</td><td>&quot;Cap.15  EMBARA…</td><td>&quot;O85-O92  COMPL…</td><td>&quot;O90 COMPLICACI…</td><td>&quot;Dehiscencia de…</td><td>&quot;O901&quot;</td><td>1</td><td>1</td><td>1</td><td>0</td><td>64</td><td>285</td><td>0.003509</td><td>null</td><td>null</td><td>null</td><td>9</td><td>11</td><td>0.090909</td><td>null</td><td>null</td><td>null</td><td>null</td><td>null</td><td>null</td></tr><tr><td>2017</td><td>113100</td><td>&quot;Hospital Barro…</td><td>&quot;Cap.18  SÍNTOM…</td><td>&quot;R00-R09  SÍNTO…</td><td>&quot;R04 HEMORRAGIA…</td><td>&quot;Epistaxis&quot;</td><td>&quot;R040&quot;</td><td>8</td><td>34</td><td>1</td><td>0</td><td>18</td><td>670</td><td>0.01194</td><td>10</td><td>444</td><td>0.018018</td><td>null</td><td>null</td><td>null</td><td>9</td><td>276</td><td>0.028986</td><td>null</td><td>null</td><td>null</td></tr><tr><td>2008</td><td>126100</td><td>&quot;Hospital Clíni…</td><td>&quot;Cap.01  CIERTA…</td><td>&quot;A00-A09  ENFER…</td><td>&quot;A08 INFECCIONE…</td><td>&quot;Enteritis debi…</td><td>&quot;A080&quot;</td><td>2</td><td>11</td><td>0</td><td>0</td><td>88</td><td>1756</td><td>0.001139</td><td>54</td><td>960</td><td>0.002083</td><td>null</td><td>null</td><td>null</td><td>38</td><td>834</td><td>0.002398</td><td>null</td><td>null</td><td>null</td></tr><tr><td>2004</td><td>117101</td><td>&quot;Hospital Clíni…</td><td>&quot;Cap.15  EMBARA…</td><td>&quot;O00-O08  EMBAR…</td><td>&quot;O00 EMBARAZO E…</td><td>&quot;Embarazo tubár…</td><td>&quot;O001&quot;</td><td>25</td><td>101</td><td>0</td><td>0</td><td>24</td><td>1610</td><td>0.015528</td><td>21</td><td>1174</td><td>0.021295</td><td>null</td><td>null</td><td>null</td><td>21</td><td>1103</td><td>0.022665</td><td>null</td><td>null</td><td>null</td></tr></tbody></table></div>"
      ],
      "text/plain": [
       "shape: (10, 27)\n",
       "┌───────────┬───────────┬───────────┬───────────┬───┬───────────┬───────────┬───────────┬──────────┐\n",
       "│ ANO_EGRES ┆ ESTABLECI ┆ GLOSA_EST ┆ Capítulo  ┆ … ┆ %_grd_n_e ┆ ranking_i ┆ total_int ┆ %_intern │\n",
       "│ O         ┆ MIENTO_SA ┆ ABLECIMIE ┆ ---       ┆   ┆ gresos    ┆ nterno_n_ ┆ erno_n_eg ┆ o_n_egre │\n",
       "│ ---       ┆ LUD       ┆ NTO_SALUD ┆ str       ┆   ┆ ---       ┆ egresos   ┆ resos     ┆ sos      │\n",
       "│ i64       ┆ ---       ┆ ---       ┆           ┆   ┆ f64       ┆ ---       ┆ ---       ┆ ---      │\n",
       "│           ┆ i64       ┆ str       ┆           ┆   ┆           ┆ u32       ┆ u32       ┆ f64      │\n",
       "╞═══════════╪═══════════╪═══════════╪═══════════╪═══╪═══════════╪═══════════╪═══════════╪══════════╡\n",
       "│ 2001      ┆ 121113    ┆ Hospital  ┆ Cap.10    ┆ … ┆ null      ┆ null      ┆ null      ┆ null     │\n",
       "│           ┆           ┆ Dr.       ┆ ENFERMEDA ┆   ┆           ┆           ┆           ┆          │\n",
       "│           ┆           ┆ Eduardo   ┆ DES DEL   ┆   ┆           ┆           ┆           ┆          │\n",
       "│           ┆           ┆ González  ┆ APARATO…  ┆   ┆           ┆           ┆           ┆          │\n",
       "│           ┆           ┆ Ga…       ┆           ┆   ┆           ┆           ┆           ┆          │\n",
       "│ 2018      ┆ 108105    ┆ Hospital  ┆ Cap.05    ┆ … ┆ null      ┆ null      ┆ null      ┆ null     │\n",
       "│           ┆           ┆ Psiquiátr ┆ TRASTORNO ┆   ┆           ┆           ┆           ┆          │\n",
       "│           ┆           ┆ ico Dr.   ┆ S         ┆   ┆           ┆           ┆           ┆          │\n",
       "│           ┆           ┆ Philip…   ┆ MENTALES  ┆   ┆           ┆           ┆           ┆          │\n",
       "│           ┆           ┆           ┆ Y DE…     ┆   ┆           ┆           ┆           ┆          │\n",
       "│ 2015      ┆ 112530    ┆ Hospital  ┆ Cap.08    ┆ … ┆ null      ┆ null      ┆ null      ┆ null     │\n",
       "│           ┆           ┆ Militar   ┆ ENFERMEDA ┆   ┆           ┆           ┆           ┆          │\n",
       "│           ┆           ┆ de        ┆ DES DEL   ┆   ┆           ┆           ┆           ┆          │\n",
       "│           ┆           ┆ Santiago  ┆ OÍDO Y …  ┆   ┆           ┆           ┆           ┆          │\n",
       "│ 2009      ┆ 116112    ┆ Hospital  ┆ Cap.18    ┆ … ┆ null      ┆ null      ┆ null      ┆ null     │\n",
       "│           ┆           ┆ Dr.       ┆ SÍNTOMAS, ┆   ┆           ┆           ┆           ┆          │\n",
       "│           ┆           ┆ Benjamín  ┆ SIGNOS Y  ┆   ┆           ┆           ┆           ┆          │\n",
       "│           ┆           ┆ Pedreros  ┆ RESUL…    ┆   ┆           ┆           ┆           ┆          │\n",
       "│           ┆           ┆ (…        ┆           ┆   ┆           ┆           ┆           ┆          │\n",
       "│ …         ┆ …         ┆ …         ┆ …         ┆ … ┆ …         ┆ …         ┆ …         ┆ …        │\n",
       "│ 2010      ┆ 103220    ┆ Clínica   ┆ Cap.15    ┆ … ┆ null      ┆ null      ┆ null      ┆ null     │\n",
       "│           ┆           ┆ La        ┆ EMBARAZO, ┆   ┆           ┆           ┆           ┆          │\n",
       "│           ┆           ┆ Portada   ┆ PARTO Y   ┆   ┆           ┆           ┆           ┆          │\n",
       "│           ┆           ┆           ┆ PUERPE…   ┆   ┆           ┆           ┆           ┆          │\n",
       "│ 2017      ┆ 113100    ┆ Hospital  ┆ Cap.18    ┆ … ┆ 0.028986  ┆ null      ┆ null      ┆ null     │\n",
       "│           ┆           ┆ Barros    ┆ SÍNTOMAS, ┆   ┆           ┆           ┆           ┆          │\n",
       "│           ┆           ┆ Luco      ┆ SIGNOS Y  ┆   ┆           ┆           ┆           ┆          │\n",
       "│           ┆           ┆ Trudeau   ┆ RESUL…    ┆   ┆           ┆           ┆           ┆          │\n",
       "│           ┆           ┆ (Sa…      ┆           ┆   ┆           ┆           ┆           ┆          │\n",
       "│ 2008      ┆ 126100    ┆ Hospital  ┆ Cap.01    ┆ … ┆ 0.002398  ┆ null      ┆ null      ┆ null     │\n",
       "│           ┆           ┆ Clínico   ┆ CIERTAS   ┆   ┆           ┆           ┆           ┆          │\n",
       "│           ┆           ┆ de Magall ┆ ENFERMEDA ┆   ┆           ┆           ┆           ┆          │\n",
       "│           ┆           ┆ anes D…   ┆ DES INF…  ┆   ┆           ┆           ┆           ┆          │\n",
       "│ 2004      ┆ 117101    ┆ Hospital  ┆ Cap.15    ┆ … ┆ 0.022665  ┆ null      ┆ null      ┆ null     │\n",
       "│           ┆           ┆ Clínico   ┆ EMBARAZO, ┆   ┆           ┆           ┆           ┆          │\n",
       "│           ┆           ┆ Herminda  ┆ PARTO Y   ┆   ┆           ┆           ┆           ┆          │\n",
       "│           ┆           ┆ Martín…   ┆ PUERPE…   ┆   ┆           ┆           ┆           ┆          │\n",
       "└───────────┴───────────┴───────────┴───────────┴───┴───────────┴───────────┴───────────┴──────────┘"
      ]
     },
     "metadata": {},
     "output_type": "display_data"
    }
   ],
   "source": [
    "display(rankings_nacionales.sample(10))\n"
   ]
  },
  {
   "cell_type": "markdown",
   "metadata": {},
   "source": [
    "En la muestra anterior se puede observar las métricas previamente calculada, y el ranking\n",
    "respectivo que tiene cada hospital para diagnósticos en cada año específico."
   ]
  },
  {
   "cell_type": "code",
   "execution_count": 10,
   "metadata": {},
   "outputs": [],
   "source": [
    "rankings_nacionales.to_pandas().to_csv(\n",
    "    \"../data/interim/ranking_nacional_egresos.csv\",\n",
    "    sep=\";\",\n",
    "    decimal=\".\",\n",
    "    encoding=\"latin-1\",\n",
    "    index=False,\n",
    ")\n",
    "\n",
    "rankings_hospital_analizado.to_pandas().to_csv(\n",
    "    \"../data/interim/ranking_torax_egresos.csv\",\n",
    "    sep=\";\",\n",
    "    decimal=\".\",\n",
    "    encoding=\"latin-1\",\n",
    "    index=False,\n",
    ")"
   ]
  },
  {
   "cell_type": "markdown",
   "metadata": {},
   "source": [
    "## Metricas para personas sobre 14 años\n",
    "\n",
    "En este análisis se quiere ver el ranking de egresos pero solamente tomando en cuenta a personas\n",
    "mayores a 14 años. Esto, para dilucidar si el hospital del tórax es altamente relevante para tratar\n",
    "patologías congénitas de adultos."
   ]
  },
  {
   "cell_type": "code",
   "execution_count": 11,
   "metadata": {},
   "outputs": [],
   "source": [
    "df_nacional_mayores_a_14 = df_nacional.filter(pl.col(\"EDAD_A_OS\") > 14)"
   ]
  },
  {
   "cell_type": "code",
   "execution_count": 12,
   "metadata": {},
   "outputs": [],
   "source": [
    "metricas_sobre_14 = build_features.obtener_metricas_egresos(\n",
    "    df_nacional_mayores_a_14, AGRUPACION\n",
    ").collect()\n"
   ]
  },
  {
   "cell_type": "code",
   "execution_count": 13,
   "metadata": {},
   "outputs": [],
   "source": [
    "variables_a_rankear = [\"n_egresos\"]\n",
    "subgrupo_del_ranking = [\"ANO_EGRESO\", \"DIAG1\"]\n",
    "\n",
    "rankings_nacionales_sobre_14 = build_features.agregar_ranking_estratos(\n",
    "    metricas_sobre_14, dict_estratos, variables_a_rankear, subgrupo_del_ranking\n",
    ")\n",
    "\n",
    "diags_congenitos_relevantes = rankings_nacionales_sobre_14.filter(\n",
    "    (pl.col(\"DIAG1\").is_in([\"Q230\", \"Q211\", \"Q231\"])) & (\n",
    "        pl.col(\"ANO_EGRESO\") == 2019)\n",
    ")\n"
   ]
  },
  {
   "cell_type": "code",
   "execution_count": 14,
   "metadata": {},
   "outputs": [],
   "source": [
    "diags_congenitos_relevantes.to_pandas().to_csv(\n",
    "    \"../data/interim/diags_congenitas_sobre_14_egresos.csv\",\n",
    "    sep=\";\",\n",
    "    decimal=\".\",\n",
    "    encoding=\"latin-1\",\n",
    "    index=False,\n",
    ")"
   ]
  }
 ],
 "metadata": {
  "kernelspec": {
   "display_name": "egresos-deis",
   "language": "python",
   "name": "python3"
  },
  "language_info": {
   "codemirror_mode": {
    "name": "ipython",
    "version": 3
   },
   "file_extension": ".py",
   "mimetype": "text/x-python",
   "name": "python",
   "nbconvert_exporter": "python",
   "pygments_lexer": "ipython3",
   "version": "3.11.4"
  },
  "orig_nbformat": 4
 },
 "nbformat": 4,
 "nbformat_minor": 2
}
