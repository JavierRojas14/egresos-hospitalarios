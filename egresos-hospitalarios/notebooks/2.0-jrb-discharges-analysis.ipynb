{
 "cells": [
  {
   "cell_type": "code",
   "execution_count": 1,
   "metadata": {},
   "outputs": [],
   "source": [
    "import sys\n",
    "import os\n",
    "\n",
    "project_root = os.path.abspath('..')\n",
    "if project_root not in sys.path:\n",
    "    sys.path.append(project_root)\n",
    "\n",
    "%load_ext autoreload\n",
    "%autoreload 2"
   ]
  },
  {
   "cell_type": "code",
   "execution_count": 2,
   "metadata": {},
   "outputs": [],
   "source": [
    "import pandas as pd\n",
    "import numpy as np\n",
    "import polars as pl\n",
    "\n",
    "import matplotlib.pyplot as plt\n",
    "import seaborn as sns\n",
    "\n",
    "import warnings\n",
    "\n",
    "from functools import reduce\n",
    "\n",
    "from src.data import make_dataset\n",
    "from src.features import  build_features\n",
    "\n",
    "warnings.filterwarnings('ignore')\n",
    "sns.set_style()\n",
    "plt.rcParams['figure.figsize'] = (12, 6)\n",
    "\n",
    "HOSPITAL_DEL_TORAX = 112103"
   ]
  },
  {
   "cell_type": "markdown",
   "metadata": {},
   "source": [
    "## Obtencion de Métricas de Egresos Hospitalarios\n",
    "\n",
    "En este apartado se quieren calculcar diversas métricas relevantes para el análisis de los\n",
    "egresos hospitalarios en Chile. Las métricas a calcular son las siguientes:\n",
    "\n",
    "1. Cantidad de Egresos Hospitalarios\n",
    "2. Dias de Estada Totales\n",
    "3. Cantidad de Intervenciones Quirúrgicas\n",
    "4. Cantidad de Muertos\n",
    "\n",
    "Todas estas métricas serán calculadas para cada Año, Establecimiento de Salud y Diagnóstico\n",
    "distinto que exista en la base de datos. Por ejemplo:\n",
    "\n",
    "\"En el año 2019, el Hospital San José (código XXXXXX) tuvo XX egresos, con XX dias estada promedio,\n",
    "con XX intervenciones quirúrgicas y XX muertos para el diagnóstico A24.4\"s"
   ]
  },
  {
   "cell_type": "code",
   "execution_count": 3,
   "metadata": {},
   "outputs": [],
   "source": [
    "df_nacional = pl.scan_csv(\"../data/processed/egresos_procesados.csv\", \n",
    "                          dtypes=make_dataset.DICT_VARIABLES)"
   ]
  },
  {
   "cell_type": "code",
   "execution_count": 4,
   "metadata": {},
   "outputs": [],
   "source": [
    "AGRUPACION = [\n",
    "    \"ANO_EGRESO\",\n",
    "    \"ESTABLECIMIENTO_SALUD\",\n",
    "    \"GLOSA_ESTABLECIMIENTO_SALUD\",\n",
    "    \"DIAG1\",\n",
    "]\n",
    "\n",
    "metricas = build_features.obtener_metricas_egresos(df_nacional, AGRUPACION).collect()"
   ]
  },
  {
   "cell_type": "markdown",
   "metadata": {},
   "source": [
    "Una vez calculadas las metricas, se quiere obtener la posicion de cada hospital para cada diagnostico\n",
    "en cada año. Las posiciones seran calculadas para distintos estratos de los hospitales analizados\n",
    "(Ejemplo: Hospitales Públicos, Hospitales Privados, Hospitales en GRD).\n",
    "\n",
    "## Análisis de Estratos"
   ]
  },
  {
   "cell_type": "code",
   "execution_count": 5,
   "metadata": {},
   "outputs": [],
   "source": [
    "dict_estratos = build_features.obtener_diccionario_estratos(df_nacional, HOSPITAL_DEL_TORAX)\n"
   ]
  },
  {
   "cell_type": "code",
   "execution_count": 6,
   "metadata": {},
   "outputs": [],
   "source": [
    "cie = build_features.leer_cie().with_columns(\n",
    "    pl.col(\"Código\").alias(\"DIAG1\")\n",
    ")"
   ]
  },
  {
   "cell_type": "code",
   "execution_count": 53,
   "metadata": {},
   "outputs": [],
   "source": [
    "variables_a_rankear = [\"n_egresos\"]\n",
    "subgrupo_del_ranking = [\"ANO_EGRESO\", \"DIAG1\"]\n",
    "unir_tablas_por = AGRUPACION\n",
    "\n",
    "ORDEN_COLS = [\n",
    "    \"ANO_EGRESO\",\n",
    "    \"ESTABLECIMIENTO_SALUD\",\n",
    "    \"GLOSA_ESTABLECIMIENTO_SALUD\",\n",
    "    \"Capítulo\",\n",
    "    \"Sección\",\n",
    "    \"Categoría\",\n",
    "    \"Descripción\",\n",
    "    \"DIAG1\",\n",
    "    \"n_egresos\",\n",
    "    \"dias_estada_totales\",\n",
    "    \"n_int_q\",\n",
    "    \"n_muertos\",\n",
    "    \"ranking_nacionales_n_egresos\",\n",
    "    \"total_nacionales_n_egresos\",\n",
    "    \"%_nacionales_n_egresos\",\n",
    "    \"ranking_publicos_n_egresos\",\n",
    "    \"total_publicos_n_egresos\",\n",
    "    \"%_publicos_n_egresos\",\n",
    "    \"ranking_privados_n_egresos\",\n",
    "    \"total_privados_n_egresos\",\n",
    "    \"%_privados_n_egresos\",\n",
    "    \"ranking_grd_n_egresos\",\n",
    "    \"total_grd_n_egresos\",\n",
    "    \"%_grd_n_egresos\",\n",
    "    \"ranking_interno_n_egresos\",\n",
    "    \"total_interno_n_egresos\",\n",
    "    \"%_interno_n_egresos\",\n",
    "]"
   ]
  },
  {
   "cell_type": "code",
   "execution_count": 54,
   "metadata": {},
   "outputs": [],
   "source": [
    "dict_resultados_estratos = build_features.obtener_resumen_por_estratos(\n",
    "    metricas, dict_estratos, variables_a_rankear, subgrupo_del_ranking\n",
    ")\n",
    "\n",
    "ranking_nacional = reduce(build_features.left_join_consecutivo, dict_resultados_estratos.values())\n",
    "ranking_nacional_con_cie = ranking_nacional.join(cie, how=\"left\", on=\"DIAG1\").select(ORDEN_COLS)\n",
    "\n",
    "ranking_nacional_con_cie_pandas = ranking_nacional_con_cie.to_pandas()\n",
    "ranking_torax = ranking_nacional_con_cie_pandas.query(\"ESTABLECIMIENTO_SALUD == @HOSPITAL_DEL_TORAX\")\n",
    "DIAGS_TORAX = ranking_torax[\"DIAG1\"].unique()\n",
    "\n",
    "ranking_nacional_diags_torax = ranking_nacional_con_cie_pandas[ranking_nacional_con_cie_pandas[\"DIAG1\"].isin(DIAGS_TORAX)].query(\"ANO_EGRESO > 2002\")\n"
   ]
  },
  {
   "cell_type": "code",
   "execution_count": 55,
   "metadata": {},
   "outputs": [
    {
     "ename": "KeyboardInterrupt",
     "evalue": "",
     "output_type": "error",
     "traceback": [
      "\u001b[0;31m---------------------------------------------------------------------------\u001b[0m",
      "\u001b[0;31mKeyboardInterrupt\u001b[0m                         Traceback (most recent call last)",
      "Cell \u001b[0;32mIn[55], line 17\u001b[0m\n\u001b[1;32m      1\u001b[0m ranking_nacional_con_cie_pandas\u001b[39m.\u001b[39mto_csv(\n\u001b[1;32m      2\u001b[0m     \u001b[39m\"\u001b[39m\u001b[39m../data/interim/ranking_nacional_egresos.csv\u001b[39m\u001b[39m\"\u001b[39m,\n\u001b[1;32m      3\u001b[0m     sep\u001b[39m=\u001b[39m\u001b[39m\"\u001b[39m\u001b[39m;\u001b[39m\u001b[39m\"\u001b[39m,\n\u001b[0;32m   (...)\u001b[0m\n\u001b[1;32m      6\u001b[0m     index\u001b[39m=\u001b[39m\u001b[39mFalse\u001b[39;00m\n\u001b[1;32m      7\u001b[0m )\n\u001b[1;32m      9\u001b[0m ranking_torax\u001b[39m.\u001b[39mto_csv(\n\u001b[1;32m     10\u001b[0m     \u001b[39m\"\u001b[39m\u001b[39m../data/interim/ranking_torax_egresos.csv\u001b[39m\u001b[39m\"\u001b[39m,\n\u001b[1;32m     11\u001b[0m     sep\u001b[39m=\u001b[39m\u001b[39m\"\u001b[39m\u001b[39m;\u001b[39m\u001b[39m\"\u001b[39m,\n\u001b[0;32m   (...)\u001b[0m\n\u001b[1;32m     14\u001b[0m     index\u001b[39m=\u001b[39m\u001b[39mFalse\u001b[39;00m\n\u001b[1;32m     15\u001b[0m )\n\u001b[0;32m---> 17\u001b[0m ranking_nacional_diags_torax\u001b[39m.\u001b[39mto_excel(\n\u001b[1;32m     18\u001b[0m     \u001b[39m\"\u001b[39m\u001b[39m../data/interim/ranking_nacional_diags_torax_post_2001.xlsx\u001b[39m\u001b[39m\"\u001b[39m,\n\u001b[1;32m     19\u001b[0m     index\u001b[39m=\u001b[39m\u001b[39mFalse\u001b[39;00m\n\u001b[1;32m     20\u001b[0m )\n",
      "File \u001b[0;32m~/anaconda3/envs/egresos-deis/lib/python3.11/site-packages/pandas/util/_decorators.py:211\u001b[0m, in \u001b[0;36mdeprecate_kwarg.<locals>._deprecate_kwarg.<locals>.wrapper\u001b[0;34m(*args, **kwargs)\u001b[0m\n\u001b[1;32m    209\u001b[0m     \u001b[39melse\u001b[39;00m:\n\u001b[1;32m    210\u001b[0m         kwargs[new_arg_name] \u001b[39m=\u001b[39m new_arg_value\n\u001b[0;32m--> 211\u001b[0m \u001b[39mreturn\u001b[39;00m func(\u001b[39m*\u001b[39margs, \u001b[39m*\u001b[39m\u001b[39m*\u001b[39mkwargs)\n",
      "File \u001b[0;32m~/anaconda3/envs/egresos-deis/lib/python3.11/site-packages/pandas/util/_decorators.py:211\u001b[0m, in \u001b[0;36mdeprecate_kwarg.<locals>._deprecate_kwarg.<locals>.wrapper\u001b[0;34m(*args, **kwargs)\u001b[0m\n\u001b[1;32m    209\u001b[0m     \u001b[39melse\u001b[39;00m:\n\u001b[1;32m    210\u001b[0m         kwargs[new_arg_name] \u001b[39m=\u001b[39m new_arg_value\n\u001b[0;32m--> 211\u001b[0m \u001b[39mreturn\u001b[39;00m func(\u001b[39m*\u001b[39margs, \u001b[39m*\u001b[39m\u001b[39m*\u001b[39mkwargs)\n",
      "File \u001b[0;32m~/anaconda3/envs/egresos-deis/lib/python3.11/site-packages/pandas/core/generic.py:2374\u001b[0m, in \u001b[0;36mNDFrame.to_excel\u001b[0;34m(self, excel_writer, sheet_name, na_rep, float_format, columns, header, index, index_label, startrow, startcol, engine, merge_cells, encoding, inf_rep, verbose, freeze_panes, storage_options)\u001b[0m\n\u001b[1;32m   2361\u001b[0m \u001b[39mfrom\u001b[39;00m \u001b[39mpandas\u001b[39;00m\u001b[39m.\u001b[39;00m\u001b[39mio\u001b[39;00m\u001b[39m.\u001b[39;00m\u001b[39mformats\u001b[39;00m\u001b[39m.\u001b[39;00m\u001b[39mexcel\u001b[39;00m \u001b[39mimport\u001b[39;00m ExcelFormatter\n\u001b[1;32m   2363\u001b[0m formatter \u001b[39m=\u001b[39m ExcelFormatter(\n\u001b[1;32m   2364\u001b[0m     df,\n\u001b[1;32m   2365\u001b[0m     na_rep\u001b[39m=\u001b[39mna_rep,\n\u001b[0;32m   (...)\u001b[0m\n\u001b[1;32m   2372\u001b[0m     inf_rep\u001b[39m=\u001b[39minf_rep,\n\u001b[1;32m   2373\u001b[0m )\n\u001b[0;32m-> 2374\u001b[0m formatter\u001b[39m.\u001b[39mwrite(\n\u001b[1;32m   2375\u001b[0m     excel_writer,\n\u001b[1;32m   2376\u001b[0m     sheet_name\u001b[39m=\u001b[39msheet_name,\n\u001b[1;32m   2377\u001b[0m     startrow\u001b[39m=\u001b[39mstartrow,\n\u001b[1;32m   2378\u001b[0m     startcol\u001b[39m=\u001b[39mstartcol,\n\u001b[1;32m   2379\u001b[0m     freeze_panes\u001b[39m=\u001b[39mfreeze_panes,\n\u001b[1;32m   2380\u001b[0m     engine\u001b[39m=\u001b[39mengine,\n\u001b[1;32m   2381\u001b[0m     storage_options\u001b[39m=\u001b[39mstorage_options,\n\u001b[1;32m   2382\u001b[0m )\n",
      "File \u001b[0;32m~/anaconda3/envs/egresos-deis/lib/python3.11/site-packages/pandas/io/formats/excel.py:960\u001b[0m, in \u001b[0;36mExcelFormatter.write\u001b[0;34m(self, writer, sheet_name, startrow, startcol, freeze_panes, engine, storage_options)\u001b[0m\n\u001b[1;32m    957\u001b[0m \u001b[39mfinally\u001b[39;00m:\n\u001b[1;32m    958\u001b[0m     \u001b[39m# make sure to close opened file handles\u001b[39;00m\n\u001b[1;32m    959\u001b[0m     \u001b[39mif\u001b[39;00m need_save:\n\u001b[0;32m--> 960\u001b[0m         writer\u001b[39m.\u001b[39mclose()\n",
      "File \u001b[0;32m~/anaconda3/envs/egresos-deis/lib/python3.11/site-packages/pandas/io/excel/_base.py:1480\u001b[0m, in \u001b[0;36mExcelWriter.close\u001b[0;34m(self)\u001b[0m\n\u001b[1;32m   1478\u001b[0m \u001b[39mdef\u001b[39;00m \u001b[39mclose\u001b[39m(\u001b[39mself\u001b[39m) \u001b[39m-\u001b[39m\u001b[39m>\u001b[39m \u001b[39mNone\u001b[39;00m:\n\u001b[1;32m   1479\u001b[0m \u001b[39m    \u001b[39m\u001b[39m\"\"\"synonym for save, to make it more file-like\"\"\"\u001b[39;00m\n\u001b[0;32m-> 1480\u001b[0m     \u001b[39mself\u001b[39m\u001b[39m.\u001b[39m_save()\n\u001b[1;32m   1481\u001b[0m     \u001b[39mself\u001b[39m\u001b[39m.\u001b[39m_handles\u001b[39m.\u001b[39mclose()\n",
      "File \u001b[0;32m~/anaconda3/envs/egresos-deis/lib/python3.11/site-packages/pandas/io/excel/_openpyxl.py:109\u001b[0m, in \u001b[0;36mOpenpyxlWriter._save\u001b[0;34m(self)\u001b[0m\n\u001b[1;32m    105\u001b[0m \u001b[39mdef\u001b[39;00m \u001b[39m_save\u001b[39m(\u001b[39mself\u001b[39m) \u001b[39m-\u001b[39m\u001b[39m>\u001b[39m \u001b[39mNone\u001b[39;00m:\n\u001b[1;32m    106\u001b[0m \u001b[39m    \u001b[39m\u001b[39m\"\"\"\u001b[39;00m\n\u001b[1;32m    107\u001b[0m \u001b[39m    Save workbook to disk.\u001b[39;00m\n\u001b[1;32m    108\u001b[0m \u001b[39m    \"\"\"\u001b[39;00m\n\u001b[0;32m--> 109\u001b[0m     \u001b[39mself\u001b[39m\u001b[39m.\u001b[39mbook\u001b[39m.\u001b[39msave(\u001b[39mself\u001b[39m\u001b[39m.\u001b[39m_handles\u001b[39m.\u001b[39mhandle)\n\u001b[1;32m    110\u001b[0m     \u001b[39mif\u001b[39;00m \u001b[39m\"\u001b[39m\u001b[39mr+\u001b[39m\u001b[39m\"\u001b[39m \u001b[39min\u001b[39;00m \u001b[39mself\u001b[39m\u001b[39m.\u001b[39m_mode \u001b[39mand\u001b[39;00m \u001b[39mnot\u001b[39;00m \u001b[39misinstance\u001b[39m(\u001b[39mself\u001b[39m\u001b[39m.\u001b[39m_handles\u001b[39m.\u001b[39mhandle, mmap\u001b[39m.\u001b[39mmmap):\n\u001b[1;32m    111\u001b[0m         \u001b[39m# truncate file to the written content\u001b[39;00m\n\u001b[1;32m    112\u001b[0m         \u001b[39mself\u001b[39m\u001b[39m.\u001b[39m_handles\u001b[39m.\u001b[39mhandle\u001b[39m.\u001b[39mtruncate()\n",
      "File \u001b[0;32m~/anaconda3/envs/egresos-deis/lib/python3.11/site-packages/openpyxl/workbook/workbook.py:407\u001b[0m, in \u001b[0;36mWorkbook.save\u001b[0;34m(self, filename)\u001b[0m\n\u001b[1;32m    405\u001b[0m \u001b[39mif\u001b[39;00m \u001b[39mself\u001b[39m\u001b[39m.\u001b[39mwrite_only \u001b[39mand\u001b[39;00m \u001b[39mnot\u001b[39;00m \u001b[39mself\u001b[39m\u001b[39m.\u001b[39mworksheets:\n\u001b[1;32m    406\u001b[0m     \u001b[39mself\u001b[39m\u001b[39m.\u001b[39mcreate_sheet()\n\u001b[0;32m--> 407\u001b[0m save_workbook(\u001b[39mself\u001b[39m, filename)\n",
      "File \u001b[0;32m~/anaconda3/envs/egresos-deis/lib/python3.11/site-packages/openpyxl/writer/excel.py:293\u001b[0m, in \u001b[0;36msave_workbook\u001b[0;34m(workbook, filename)\u001b[0m\n\u001b[1;32m    291\u001b[0m archive \u001b[39m=\u001b[39m ZipFile(filename, \u001b[39m'\u001b[39m\u001b[39mw\u001b[39m\u001b[39m'\u001b[39m, ZIP_DEFLATED, allowZip64\u001b[39m=\u001b[39m\u001b[39mTrue\u001b[39;00m)\n\u001b[1;32m    292\u001b[0m writer \u001b[39m=\u001b[39m ExcelWriter(workbook, archive)\n\u001b[0;32m--> 293\u001b[0m writer\u001b[39m.\u001b[39msave()\n\u001b[1;32m    294\u001b[0m \u001b[39mreturn\u001b[39;00m \u001b[39mTrue\u001b[39;00m\n",
      "File \u001b[0;32m~/anaconda3/envs/egresos-deis/lib/python3.11/site-packages/openpyxl/writer/excel.py:275\u001b[0m, in \u001b[0;36mExcelWriter.save\u001b[0;34m(self)\u001b[0m\n\u001b[1;32m    273\u001b[0m \u001b[39mdef\u001b[39;00m \u001b[39msave\u001b[39m(\u001b[39mself\u001b[39m):\n\u001b[1;32m    274\u001b[0m \u001b[39m    \u001b[39m\u001b[39m\"\"\"Write data into the archive.\"\"\"\u001b[39;00m\n\u001b[0;32m--> 275\u001b[0m     \u001b[39mself\u001b[39m\u001b[39m.\u001b[39mwrite_data()\n\u001b[1;32m    276\u001b[0m     \u001b[39mself\u001b[39m\u001b[39m.\u001b[39m_archive\u001b[39m.\u001b[39mclose()\n",
      "File \u001b[0;32m~/anaconda3/envs/egresos-deis/lib/python3.11/site-packages/openpyxl/writer/excel.py:75\u001b[0m, in \u001b[0;36mExcelWriter.write_data\u001b[0;34m(self)\u001b[0m\n\u001b[1;32m     72\u001b[0m \u001b[39melse\u001b[39;00m:\n\u001b[1;32m     73\u001b[0m     archive\u001b[39m.\u001b[39mwritestr(ARC_THEME, theme_xml)\n\u001b[0;32m---> 75\u001b[0m \u001b[39mself\u001b[39m\u001b[39m.\u001b[39m_write_worksheets()\n\u001b[1;32m     76\u001b[0m \u001b[39mself\u001b[39m\u001b[39m.\u001b[39m_write_chartsheets()\n\u001b[1;32m     77\u001b[0m \u001b[39mself\u001b[39m\u001b[39m.\u001b[39m_write_images()\n",
      "File \u001b[0;32m~/anaconda3/envs/egresos-deis/lib/python3.11/site-packages/openpyxl/writer/excel.py:215\u001b[0m, in \u001b[0;36mExcelWriter._write_worksheets\u001b[0;34m(self)\u001b[0m\n\u001b[1;32m    212\u001b[0m \u001b[39mfor\u001b[39;00m idx, ws \u001b[39min\u001b[39;00m \u001b[39menumerate\u001b[39m(\u001b[39mself\u001b[39m\u001b[39m.\u001b[39mworkbook\u001b[39m.\u001b[39mworksheets, \u001b[39m1\u001b[39m):\n\u001b[1;32m    214\u001b[0m     ws\u001b[39m.\u001b[39m_id \u001b[39m=\u001b[39m idx\n\u001b[0;32m--> 215\u001b[0m     \u001b[39mself\u001b[39m\u001b[39m.\u001b[39mwrite_worksheet(ws)\n\u001b[1;32m    217\u001b[0m     \u001b[39mif\u001b[39;00m ws\u001b[39m.\u001b[39m_drawing:\n\u001b[1;32m    218\u001b[0m         \u001b[39mself\u001b[39m\u001b[39m.\u001b[39m_write_drawing(ws\u001b[39m.\u001b[39m_drawing)\n",
      "File \u001b[0;32m~/anaconda3/envs/egresos-deis/lib/python3.11/site-packages/openpyxl/writer/excel.py:200\u001b[0m, in \u001b[0;36mExcelWriter.write_worksheet\u001b[0;34m(self, ws)\u001b[0m\n\u001b[1;32m    198\u001b[0m \u001b[39melse\u001b[39;00m:\n\u001b[1;32m    199\u001b[0m     writer \u001b[39m=\u001b[39m WorksheetWriter(ws)\n\u001b[0;32m--> 200\u001b[0m     writer\u001b[39m.\u001b[39mwrite()\n\u001b[1;32m    202\u001b[0m ws\u001b[39m.\u001b[39m_rels \u001b[39m=\u001b[39m writer\u001b[39m.\u001b[39m_rels\n\u001b[1;32m    203\u001b[0m \u001b[39mself\u001b[39m\u001b[39m.\u001b[39m_archive\u001b[39m.\u001b[39mwrite(writer\u001b[39m.\u001b[39mout, ws\u001b[39m.\u001b[39mpath[\u001b[39m1\u001b[39m:])\n",
      "File \u001b[0;32m~/anaconda3/envs/egresos-deis/lib/python3.11/site-packages/openpyxl/worksheet/_writer.py:359\u001b[0m, in \u001b[0;36mopenpyxl.worksheet._writer.WorksheetWriter.write\u001b[0;34m()\u001b[0m\n",
      "File \u001b[0;32m~/anaconda3/envs/egresos-deis/lib/python3.11/site-packages/openpyxl/worksheet/_writer.py:123\u001b[0m, in \u001b[0;36mopenpyxl.worksheet._writer.WorksheetWriter.write_rows\u001b[0;34m()\u001b[0m\n",
      "File \u001b[0;32m~/anaconda3/envs/egresos-deis/lib/python3.11/site-packages/openpyxl/worksheet/_writer.py:125\u001b[0m, in \u001b[0;36mopenpyxl.worksheet._writer.WorksheetWriter.write_rows\u001b[0;34m()\u001b[0m\n",
      "File \u001b[0;32m~/anaconda3/envs/egresos-deis/lib/python3.11/site-packages/openpyxl/worksheet/_writer.py:135\u001b[0m, in \u001b[0;36mopenpyxl.worksheet._writer.WorksheetWriter.write_row\u001b[0;34m()\u001b[0m\n",
      "File \u001b[0;32m~/anaconda3/envs/egresos-deis/lib/python3.11/site-packages/openpyxl/worksheet/_writer.py:147\u001b[0m, in \u001b[0;36mopenpyxl.worksheet._writer.WorksheetWriter.write_row\u001b[0;34m()\u001b[0m\n",
      "File \u001b[0;32m~/anaconda3/envs/egresos-deis/lib/python3.11/site-packages/openpyxl/cell/_writer.py:81\u001b[0m, in \u001b[0;36mlxml_write_cell\u001b[0;34m(xf, worksheet, cell, styled)\u001b[0m\n\u001b[1;32m     78\u001b[0m     \u001b[39mwith\u001b[39;00m xf\u001b[39m.\u001b[39melement(\u001b[39m\"\u001b[39m\u001b[39mc\u001b[39m\u001b[39m\"\u001b[39m, attributes):\n\u001b[1;32m     79\u001b[0m         \u001b[39mreturn\u001b[39;00m\n\u001b[0;32m---> 81\u001b[0m \u001b[39mwith\u001b[39;00m xf\u001b[39m.\u001b[39melement(\u001b[39m'\u001b[39m\u001b[39mc\u001b[39m\u001b[39m'\u001b[39m, attributes):\n\u001b[1;32m     82\u001b[0m     \u001b[39mif\u001b[39;00m cell\u001b[39m.\u001b[39mdata_type \u001b[39m==\u001b[39m \u001b[39m'\u001b[39m\u001b[39mf\u001b[39m\u001b[39m'\u001b[39m:\n\u001b[1;32m     83\u001b[0m         shared_formula \u001b[39m=\u001b[39m worksheet\u001b[39m.\u001b[39mformula_attributes\u001b[39m.\u001b[39mget(cell\u001b[39m.\u001b[39mcoordinate, {})\n",
      "\u001b[0;31mKeyboardInterrupt\u001b[0m: "
     ]
    }
   ],
   "source": [
    "ranking_nacional_con_cie_pandas.to_csv(\n",
    "    \"../data/interim/ranking_nacional_egresos.csv\",\n",
    "    sep=\";\",\n",
    "    decimal=\".\",\n",
    "    encoding=\"latin-1\",\n",
    "    index=False\n",
    ")\n",
    "\n",
    "ranking_torax.to_csv(\n",
    "    \"../data/interim/ranking_torax_egresos.csv\",\n",
    "    sep=\";\",\n",
    "    decimal=\".\",\n",
    "    encoding=\"latin-1\",\n",
    "    index=False\n",
    ")\n",
    "\n",
    "# ranking_nacional_diags_torax.to_excel(\n",
    "#     \"../data/interim/ranking_nacional_diags_torax_post_2001.xlsx\",\n",
    "#     index=False\n",
    "# )\n",
    "\n"
   ]
  },
  {
   "cell_type": "code",
   "execution_count": null,
   "metadata": {},
   "outputs": [],
   "source": []
  }
 ],
 "metadata": {
  "kernelspec": {
   "display_name": "egresos-deis",
   "language": "python",
   "name": "python3"
  },
  "language_info": {
   "codemirror_mode": {
    "name": "ipython",
    "version": 3
   },
   "file_extension": ".py",
   "mimetype": "text/x-python",
   "name": "python",
   "nbconvert_exporter": "python",
   "pygments_lexer": "ipython3",
   "version": "3.11.4"
  },
  "orig_nbformat": 4
 },
 "nbformat": 4,
 "nbformat_minor": 2
}
