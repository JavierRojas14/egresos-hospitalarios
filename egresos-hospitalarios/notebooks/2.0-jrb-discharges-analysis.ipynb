{
 "cells": [
  {
   "cell_type": "code",
   "execution_count": 10,
   "metadata": {},
   "outputs": [],
   "source": [
    "import sys\n",
    "import os\n",
    "\n",
    "project_root = os.path.abspath('..')\n",
    "if project_root not in sys.path:\n",
    "    sys.path.append(project_root)\n",
    "\n",
    "%load_ext autoreload\n",
    "%autoreload 2"
   ]
  },
  {
   "cell_type": "code",
   "execution_count": 11,
   "metadata": {},
   "outputs": [],
   "source": [
    "import pandas as pd\n",
    "import numpy as np\n",
    "import polars as pl\n",
    "\n",
    "import matplotlib.pyplot as plt\n",
    "import seaborn as sns\n",
    "\n",
    "import warnings\n",
    "\n",
    "from src.data import make_dataset\n",
    "from src.features import  build_features\n",
    "\n",
    "warnings.filterwarnings('ignore')\n",
    "sns.set_style()\n",
    "plt.rcParams['figure.figsize'] = (12, 6)"
   ]
  },
  {
   "cell_type": "markdown",
   "metadata": {},
   "source": [
    "## Obtencion de Métricas de Egresos Hospitalarios\n",
    "\n",
    "En este apartado se quieren calculcar diversas métricas relevantes para el análisis de los\n",
    "egresos hospitalarios en Chile. Las métricas a calcular son las siguientes:\n",
    "\n",
    "1. Cantidad de Egresos Hospitalarios\n",
    "2. Dias de Estada Totales\n",
    "3. Cantidad de Intervenciones Quirúrgicas\n",
    "4. Cantidad de Muertos\n",
    "\n",
    "Todas estas métricas serán calculadas para cada Año, Establecimiento de Salud y Diagnóstico\n",
    "distinto que exista en la base de datos. Por ejemplo:\n",
    "\n",
    "\"En el año 2019, el Hospital San José (código XXXXXX) tuvo XX egresos, con XX dias estada promedio,\n",
    "con XX intervenciones quirúrgicas y XX muertos para el diagnóstico A24.4\"s"
   ]
  },
  {
   "cell_type": "code",
   "execution_count": 12,
   "metadata": {},
   "outputs": [],
   "source": [
    "df_nacional = pl.scan_csv(\"../data/processed/egresos_procesados.csv\", \n",
    "                          dtypes=make_dataset.DICT_VARIABLES)"
   ]
  },
  {
   "cell_type": "code",
   "execution_count": 13,
   "metadata": {},
   "outputs": [],
   "source": [
    "AGRUPACION = [\n",
    "    \"ANO_EGRESO\",\n",
    "    \"ESTABLECIMIENTO_SALUD\",\n",
    "    \"GLOSA_ESTABLECIMIENTO_SALUD\",\n",
    "    \"DIAG1\",\n",
    "]\n",
    "\n",
    "metricas = build_features.obtener_metricas_egresos(df_nacional, AGRUPACION).collect()"
   ]
  },
  {
   "cell_type": "code",
   "execution_count": null,
   "metadata": {},
   "outputs": [],
   "source": []
  }
 ],
 "metadata": {
  "kernelspec": {
   "display_name": "egresos-deis",
   "language": "python",
   "name": "python3"
  },
  "language_info": {
   "codemirror_mode": {
    "name": "ipython",
    "version": 3
   },
   "file_extension": ".py",
   "mimetype": "text/x-python",
   "name": "python",
   "nbconvert_exporter": "python",
   "pygments_lexer": "ipython3",
   "version": "3.11.4"
  },
  "orig_nbformat": 4
 },
 "nbformat": 4,
 "nbformat_minor": 2
}
