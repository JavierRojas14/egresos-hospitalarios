{
 "cells": [
  {
   "cell_type": "code",
   "execution_count": 1,
   "metadata": {},
   "outputs": [],
   "source": [
    "import pandas as pd\n",
    "import numpy as np\n",
    "import polars as pl\n",
    "import matplotlib.pyplot as plt\n",
    "import seaborn as sns\n",
    "\n",
    "sns.set_style()\n",
    "plt.rcParams['figure.figsize'] = (12, 6)"
   ]
  },
  {
   "cell_type": "markdown",
   "metadata": {},
   "source": [
    "# 1. Análisis de personas distintas atendidas por diagnóstico\n",
    "\n",
    "En este cuadernillo se quieren responder las siguiente preguntas:\n",
    "\n",
    "1. ¿Cuántas personas fueron atendidas para cada uno de los diagnósticos del INT?"
   ]
  },
  {
   "cell_type": "code",
   "execution_count": 13,
   "metadata": {},
   "outputs": [],
   "source": [
    "# Lee solamente la base del INT\n",
    "ANIOS_A_ANALIZAR = [2015, 2016, 2017, 2018, 2019]\n",
    "\n",
    "df_torax = (\n",
    "    pl.scan_csv(\"../data/processed/egresos_procesados.csv\")\n",
    "    .filter(\n",
    "        (pl.col(\"ESTABLECIMIENTO_SALUD\") == 112103) & (pl.col(\"ANO_EGRESO\").is_in(ANIOS_A_ANALIZAR))\n",
    "    )\n",
    "    .collect(streaming=True)\n",
    ")"
   ]
  },
  {
   "cell_type": "markdown",
   "metadata": {},
   "source": [
    "Los problemas al momento de calcular la cantidad de pacientes distintos para un problema de salud son los siguientes:\n",
    "\n",
    "1. Un paciente puede tener egresos hospitalarios con distintos diagnosticos que apuntan a un mismo problema de salud (Ej: Diagnostico E840, E841, E849 apuntar al problema de salud \"Fibrosis Quistica\"). Esto es un problema, ya que el paciente sera considerado como un paciente distinto dependiendo del diagnostico asignado. A modo de ilustracion, se tiene el siguiente ejemplo:\n",
    "\n",
    "    - Paciente X diagnosticado con E840 y E841 en un mismo año. Esto significaría que hay 1 paciente distinto para E840 y E841. Sin embargo, si analizamos el problema de salud \"Fibrosis Quística\", solamente existiría 1 paciente distinto (y no 2).\n",
    "\n",
    "Debido a lo anterior, es necesario tomar las precauciones necesarios al hacer los calculos."
   ]
  },
  {
   "cell_type": "code",
   "execution_count": 18,
   "metadata": {},
   "outputs": [],
   "source": [
    "# Define diagnosticos para los problemas de salud de interes\n",
    "PROBLEMAS_DE_SALUD = {\n",
    "    \"FIBROSIS\": [\"E840\", \"E841\", \"E849\", \"E848\"],\n",
    "    \"HIPERTENSION_PULMONAR\": [\"I270\", \"I272\"],\n",
    "    \"FIBROSIS_PULMONAR\": [\"J841\"],\n",
    "    \"ESCLERODERMIA\": [\"M348\"],\n",
    "    \"MARFAN\": [\"Q874\"],\n",
    "    \"EXCAVATUM\": [\"Q676\"],\n",
    "    \"CARINATUM\": [\"Q677\"],\n",
    "    \"SILICOSIS\": [\"J678\", \"J679\"],\n",
    "    \"CARDIOPATIA_CONGENITA_ADULTO\": [],\n",
    "    \"TRASPLANTE_DE_PULMON\": [],\n",
    "    \"ECMO\": [],\n",
    "    \"CANCER_DE_PULMON\": [\n",
    "        \"C33X\",\n",
    "        \"C340\",\n",
    "        \"C341\",\n",
    "        \"C342\",\n",
    "        \"C343\",\n",
    "        \"C381\",\n",
    "        \"C384\",\n",
    "        \"C450\",\n",
    "        \"C780\",\n",
    "        \"C782\",\n",
    "        \"D381\",\n",
    "    ],\n",
    "    \"CIRUGIA_CANCER_DE_PULMON\": [],\n",
    "    \"TRASPLNATE_DE_CORAZON\": [],\n",
    "    \"ENFERMEDAD_CORONARIA\": [],\n",
    "    \"ANEURISMA_DE_LA_AORTA\": [\"I712\"],\n",
    "    \"DISECCION_DE_LA_AORTA\": [\"I710\"],\n",
    "    \"MARCAPASOS\": [\"Z450\"],\n",
    "    \"INSUFICIENCIA_MITRAL\": [\"I340\"],\n",
    "    \"INSUFICIENCIA_AORTICA\": [\"I351\"],\n",
    "    \"COVID\": [\"U071\"],\n",
    "    \"APNEA_DEL_SUENO\": [\"G473\"],\n",
    "}"
   ]
  },
  {
   "cell_type": "code",
   "execution_count": 29,
   "metadata": {},
   "outputs": [],
   "source": [
    "resultados = {}\n",
    "for problema_de_salud, codigos_diagnostico in PROBLEMAS_DE_SALUD.items():\n",
    "    # Filtra el df del torax solamente a los diagnosticos del problema\n",
    "    df_diagnostico = df_torax.filter(pl.col(\"DIAG1\").is_in(codigos_diagnostico))\n",
    "    \n",
    "    # Calcula metricas totales para el periodo analizado\n",
    "    egresos_totales = df_diagnostico.shape[0]\n",
    "    pacientes_totales = df_diagnostico.select(pl.col(\"ID_PACIENTE\").n_unique())\n",
    "\n",
    "    # Calcula metricas desagregadas por anios\n",
    "    resumen_diagnostico = (\n",
    "        df_diagnostico.group_by(pl.col([\"ANO_EGRESO\"]))\n",
    "        .agg(n_egresos=pl.col(\"DIAG1\").count(), n_pacientes=pl.col(\"ID_PACIENTE\").n_unique())\n",
    "        .sort(pl.col(\"ANO_EGRESO\"))\n",
    "    )\n",
    "    \n",
    "    resultados[problema_de_salud] = resumen_diagnostico"
   ]
  },
  {
   "cell_type": "code",
   "execution_count": null,
   "metadata": {},
   "outputs": [],
   "source": []
  }
 ],
 "metadata": {
  "kernelspec": {
   "display_name": "egresos-deis",
   "language": "python",
   "name": "python3"
  },
  "language_info": {
   "codemirror_mode": {
    "name": "ipython",
    "version": 3
   },
   "file_extension": ".py",
   "mimetype": "text/x-python",
   "name": "python",
   "nbconvert_exporter": "python",
   "pygments_lexer": "ipython3",
   "version": "3.11.5"
  }
 },
 "nbformat": 4,
 "nbformat_minor": 2
}
