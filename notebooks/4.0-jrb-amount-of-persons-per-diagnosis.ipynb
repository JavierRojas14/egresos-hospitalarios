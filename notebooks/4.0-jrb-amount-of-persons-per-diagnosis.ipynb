{
 "cells": [
  {
   "cell_type": "code",
   "execution_count": 1,
   "metadata": {},
   "outputs": [],
   "source": [
    "import pandas as pd\n",
    "import numpy as np\n",
    "import polars as pl\n",
    "import matplotlib.pyplot as plt\n",
    "import seaborn as sns\n",
    "\n",
    "sns.set_style()\n",
    "plt.rcParams['figure.figsize'] = (12, 6)"
   ]
  },
  {
   "cell_type": "markdown",
   "metadata": {},
   "source": [
    "# 1. Análisis de personas distintas atendidas por diagnóstico\n",
    "\n",
    "En este cuadernillo se quieren responder las siguiente preguntas:\n",
    "\n",
    "1. ¿Cuántas personas fueron atendidas para cada uno de los diagnósticos del INT?"
   ]
  },
  {
   "cell_type": "code",
   "execution_count": 13,
   "metadata": {},
   "outputs": [],
   "source": [
    "# Lee solamente la base del INT\n",
    "ANIOS_A_ANALIZAR = [2015, 2016, 2017, 2018, 2019]\n",
    "\n",
    "df_torax = (\n",
    "    pl.scan_csv(\"../data/processed/egresos_procesados.csv\")\n",
    "    .filter(\n",
    "        (pl.col(\"ESTABLECIMIENTO_SALUD\") == 112103) & (pl.col(\"ANO_EGRESO\").is_in(ANIOS_A_ANALIZAR))\n",
    "    )\n",
    "    .collect(streaming=True)\n",
    ")"
   ]
  },
  {
   "cell_type": "markdown",
   "metadata": {},
   "source": [
    "Los problemas al momento de calcular la cantidad de pacientes distintos para un problema de salud son los siguientes:\n",
    "\n",
    "1. Un paciente puede tener egresos hospitalarios con distintos diagnosticos que apuntan a un mismo problema de salud (Ej: Diagnostico E840, E841, E849 apuntar al problema de salud \"Fibrosis Quistica\"). Esto es un problema, ya que el paciente sera considerado como un paciente distinto dependiendo del diagnostico asignado. A modo de ilustracion, se tiene el siguiente ejemplo:\n",
    "\n",
    "    - Paciente X diagnosticado con E840 y E841 en un mismo año. Esto significaría que hay 1 paciente distinto para E840 y E841. Sin embargo, si analizamos el problema de salud \"Fibrosis Quística\", solamente existiría 1 paciente distinto (y no 2).\n",
    "\n",
    "Debido a lo anterior, es necesario tomar las precauciones necesarios al hacer los calculos."
   ]
  },
  {
   "cell_type": "code",
   "execution_count": null,
   "metadata": {},
   "outputs": [],
   "source": [
    "# Define diagnosticos para los problemas de salud de interes\n",
    "FIBROSIS = [\"E840\", \"E841\", \"E849\", \"E848\"]\n",
    "\n",
    "HIPERTENSION_PULMONAR = [\"I270\", \"I272\"]\n",
    "\n",
    "FIBROSIS_PULMONAR = [\"J841\"]\n",
    "\n",
    "ESCLERODERMIA = [\"M348\"]\n",
    "\n",
    "MARFAN = [\"Q874\"]\n",
    "\n",
    "EXCAVATUM = [\"Q676\"]\n",
    "\n",
    "CARINATUM = [\"Q677\"]\n",
    "\n",
    "SILICOSIS = [\"J678\", \"J679\"]\n",
    "\n",
    "CARDIOPATIA_CONGENITA_ADULTO = []\n",
    "\n",
    "TRASPLANTE_DE_PULMON = []\n",
    "\n",
    "ECMO = []\n",
    "\n",
    "CANCER_DE_PULMON = [\n",
    "    \"C33X\",\n",
    "    \"C340\",\n",
    "    \"C341\",\n",
    "    \"C342\",\n",
    "    \"C343\",\n",
    "    \"C381\",\n",
    "    \"C384\",\n",
    "    \"C450\",\n",
    "    \"C780\",\n",
    "    \"C782\",\n",
    "    \"D381\",\n",
    "]\n",
    "\n",
    "CIRUGIA_CANCER_DE_PULMON = []\n",
    "\n",
    "TRASPLNATE_DE_CORAZON = []\n",
    "\n",
    "ENFERMEDAD_CORONARIA = []\n",
    "\n",
    "ANEURISMA_DE_LA_AORTA = [\"I712\"]\n",
    "\n",
    "DISECCION_DE_LA_AORTA = [\"I710\"]\n",
    "\n",
    "MARCAPASOS = [\"Z450\"]\n",
    "\n",
    "INSUFICIENCIA_MITRAL = [\"I340\"]\n",
    "\n",
    "INSUFICIENCIA_AORTICA = [\"I351\"]\n",
    "\n",
    "COVID = [\"U071\"]\n",
    "\n",
    "APNEA_DEL_SUENO = [\"G473\"]"
   ]
  },
  {
   "cell_type": "code",
   "execution_count": 14,
   "metadata": {},
   "outputs": [],
   "source": [
    "# Obtiene el resumen de pacientes y egresos por anio para el INT\n",
    "cantidad_pacientes_por_diag = df_torax.group_by(pl.col([\"ANO_EGRESO\", \"DIAG1\"])).agg(\n",
    "    n_pacientes=pl.col(\"ID_PACIENTE\").n_unique(), n_egresos=pl.col(\"DIAG1\").count()\n",
    ")"
   ]
  },
  {
   "cell_type": "code",
   "execution_count": 16,
   "metadata": {},
   "outputs": [
    {
     "data": {
      "text/html": [
       "<div><style>\n",
       ".dataframe > thead > tr > th,\n",
       ".dataframe > tbody > tr > td {\n",
       "  text-align: right;\n",
       "  white-space: pre-wrap;\n",
       "}\n",
       "</style>\n",
       "<small>shape: (13, 4)</small><table border=\"1\" class=\"dataframe\"><thead><tr><th>ANO_EGRESO</th><th>DIAG1</th><th>n_pacientes</th><th>n_egresos</th></tr><tr><td>i64</td><td>str</td><td>u32</td><td>u32</td></tr></thead><tbody><tr><td>2018</td><td>&quot;E849&quot;</td><td>2</td><td>3</td></tr><tr><td>2016</td><td>&quot;E848&quot;</td><td>13</td><td>23</td></tr><tr><td>2016</td><td>&quot;E840&quot;</td><td>6</td><td>8</td></tr><tr><td>2015</td><td>&quot;E848&quot;</td><td>10</td><td>19</td></tr><tr><td>2015</td><td>&quot;E840&quot;</td><td>8</td><td>12</td></tr><tr><td>2017</td><td>&quot;E849&quot;</td><td>5</td><td>5</td></tr><tr><td>2019</td><td>&quot;E848&quot;</td><td>24</td><td>41</td></tr><tr><td>2019</td><td>&quot;E840&quot;</td><td>10</td><td>12</td></tr><tr><td>2017</td><td>&quot;E848&quot;</td><td>20</td><td>26</td></tr><tr><td>2017</td><td>&quot;E840&quot;</td><td>8</td><td>13</td></tr><tr><td>2016</td><td>&quot;E849&quot;</td><td>2</td><td>2</td></tr><tr><td>2018</td><td>&quot;E848&quot;</td><td>19</td><td>35</td></tr><tr><td>2018</td><td>&quot;E840&quot;</td><td>19</td><td>25</td></tr></tbody></table></div>"
      ],
      "text/plain": [
       "shape: (13, 4)\n",
       "┌────────────┬───────┬─────────────┬───────────┐\n",
       "│ ANO_EGRESO ┆ DIAG1 ┆ n_pacientes ┆ n_egresos │\n",
       "│ ---        ┆ ---   ┆ ---         ┆ ---       │\n",
       "│ i64        ┆ str   ┆ u32         ┆ u32       │\n",
       "╞════════════╪═══════╪═════════════╪═══════════╡\n",
       "│ 2018       ┆ E849  ┆ 2           ┆ 3         │\n",
       "│ 2016       ┆ E848  ┆ 13          ┆ 23        │\n",
       "│ 2016       ┆ E840  ┆ 6           ┆ 8         │\n",
       "│ 2015       ┆ E848  ┆ 10          ┆ 19        │\n",
       "│ …          ┆ …     ┆ …           ┆ …         │\n",
       "│ 2017       ┆ E840  ┆ 8           ┆ 13        │\n",
       "│ 2016       ┆ E849  ┆ 2           ┆ 2         │\n",
       "│ 2018       ┆ E848  ┆ 19          ┆ 35        │\n",
       "│ 2018       ┆ E840  ┆ 19          ┆ 25        │\n",
       "└────────────┴───────┴─────────────┴───────────┘"
      ]
     },
     "execution_count": 16,
     "metadata": {},
     "output_type": "execute_result"
    }
   ],
   "source": [
    "cantidad_pacientes_por_diag.filter(pl.col(\"DIAG1\").is_in()).pivot(values=pl.col(\"n_egresos\"), index=pl.col(\"\"))"
   ]
  },
  {
   "cell_type": "code",
   "execution_count": null,
   "metadata": {},
   "outputs": [],
   "source": []
  }
 ],
 "metadata": {
  "kernelspec": {
   "display_name": "egresos-deis",
   "language": "python",
   "name": "python3"
  },
  "language_info": {
   "codemirror_mode": {
    "name": "ipython",
    "version": 3
   },
   "file_extension": ".py",
   "mimetype": "text/x-python",
   "name": "python",
   "nbconvert_exporter": "python",
   "pygments_lexer": "ipython3",
   "version": "3.11.5"
  }
 },
 "nbformat": 4,
 "nbformat_minor": 2
}
