{
 "cells": [
  {
   "cell_type": "code",
   "execution_count": 1,
   "metadata": {},
   "outputs": [],
   "source": [
    "import sys\n",
    "import os\n",
    "\n",
    "project_root = os.path.abspath('..')\n",
    "if project_root not in sys.path:\n",
    "    sys.path.append(project_root)\n",
    "\n",
    "%load_ext autoreload\n",
    "%autoreload 2\n"
   ]
  },
  {
   "cell_type": "code",
   "execution_count": 21,
   "metadata": {},
   "outputs": [
    {
     "ename": "ModuleNotFoundError",
     "evalue": "No module named 'pptx'",
     "output_type": "error",
     "traceback": [
      "\u001b[1;31m---------------------------------------------------------------------------\u001b[0m",
      "\u001b[1;31mModuleNotFoundError\u001b[0m                       Traceback (most recent call last)",
      "\u001b[1;32mc:\\Users\\ppizarro\\Desktop\\Javier_Rojas\\Javier\\trabajo\\SSMO\\EPH\\1.0-modulo_gestion\\egresos-hospitalarios\\notebooks\\1.0-jrb-discharges-analysis.ipynb Cell 2\u001b[0m line \u001b[0;36m1\n\u001b[0;32m      <a href='vscode-notebook-cell:/c%3A/Users/ppizarro/Desktop/Javier_Rojas/Javier/trabajo/SSMO/EPH/1.0-modulo_gestion/egresos-hospitalarios/notebooks/1.0-jrb-discharges-analysis.ipynb#W1sZmlsZQ%3D%3D?line=7'>8</a>\u001b[0m \u001b[39mfrom\u001b[39;00m \u001b[39msrc\u001b[39;00m\u001b[39m.\u001b[39;00m\u001b[39mdata\u001b[39;00m \u001b[39mimport\u001b[39;00m make_dataset\n\u001b[0;32m      <a href='vscode-notebook-cell:/c%3A/Users/ppizarro/Desktop/Javier_Rojas/Javier/trabajo/SSMO/EPH/1.0-modulo_gestion/egresos-hospitalarios/notebooks/1.0-jrb-discharges-analysis.ipynb#W1sZmlsZQ%3D%3D?line=8'>9</a>\u001b[0m \u001b[39mfrom\u001b[39;00m \u001b[39msrc\u001b[39;00m\u001b[39m.\u001b[39;00m\u001b[39mfeatures\u001b[39;00m \u001b[39mimport\u001b[39;00m build_features\n\u001b[1;32m---> <a href='vscode-notebook-cell:/c%3A/Users/ppizarro/Desktop/Javier_Rojas/Javier/trabajo/SSMO/EPH/1.0-modulo_gestion/egresos-hospitalarios/notebooks/1.0-jrb-discharges-analysis.ipynb#W1sZmlsZQ%3D%3D?line=9'>10</a>\u001b[0m \u001b[39mfrom\u001b[39;00m \u001b[39msrc\u001b[39;00m\u001b[39m.\u001b[39;00m\u001b[39mvisualization\u001b[39;00m \u001b[39mimport\u001b[39;00m visualize\n\u001b[0;32m     <a href='vscode-notebook-cell:/c%3A/Users/ppizarro/Desktop/Javier_Rojas/Javier/trabajo/SSMO/EPH/1.0-modulo_gestion/egresos-hospitalarios/notebooks/1.0-jrb-discharges-analysis.ipynb#W1sZmlsZQ%3D%3D?line=11'>12</a>\u001b[0m sns\u001b[39m.\u001b[39mset_style()\n\u001b[0;32m     <a href='vscode-notebook-cell:/c%3A/Users/ppizarro/Desktop/Javier_Rojas/Javier/trabajo/SSMO/EPH/1.0-modulo_gestion/egresos-hospitalarios/notebooks/1.0-jrb-discharges-analysis.ipynb#W1sZmlsZQ%3D%3D?line=12'>13</a>\u001b[0m plt\u001b[39m.\u001b[39mrcParams[\u001b[39m\"\u001b[39m\u001b[39mfigure.figsize\u001b[39m\u001b[39m\"\u001b[39m] \u001b[39m=\u001b[39m (\u001b[39m12\u001b[39m, \u001b[39m6\u001b[39m)\n",
      "File \u001b[1;32mc:\\Users\\ppizarro\\Desktop\\Javier_Rojas\\Javier\\trabajo\\SSMO\\EPH\\1.0-modulo_gestion\\egresos-hospitalarios\\src\\visualization\\visualize.py:7\u001b[0m\n\u001b[0;32m      5\u001b[0m \u001b[39mimport\u001b[39;00m \u001b[39mpandas\u001b[39;00m \u001b[39mas\u001b[39;00m \u001b[39mpd\u001b[39;00m\n\u001b[0;32m      6\u001b[0m \u001b[39mfrom\u001b[39;00m \u001b[39mpdf2image\u001b[39;00m \u001b[39mimport\u001b[39;00m convert_from_path\n\u001b[1;32m----> 7\u001b[0m \u001b[39mfrom\u001b[39;00m \u001b[39mpptx\u001b[39;00m \u001b[39mimport\u001b[39;00m Presentation\n\u001b[0;32m      8\u001b[0m \u001b[39mfrom\u001b[39;00m \u001b[39mpptx\u001b[39;00m\u001b[39m.\u001b[39;00m\u001b[39mdml\u001b[39;00m\u001b[39m.\u001b[39;00m\u001b[39mcolor\u001b[39;00m \u001b[39mimport\u001b[39;00m RGBColor\n\u001b[0;32m      9\u001b[0m \u001b[39mfrom\u001b[39;00m \u001b[39mpptx\u001b[39;00m\u001b[39m.\u001b[39;00m\u001b[39menum\u001b[39;00m\u001b[39m.\u001b[39;00m\u001b[39mtext\u001b[39;00m \u001b[39mimport\u001b[39;00m PP_ALIGN\n",
      "\u001b[1;31mModuleNotFoundError\u001b[0m: No module named 'pptx'"
     ]
    }
   ],
   "source": [
    "import pandas as pd\n",
    "import numpy as np\n",
    "import polars as pl\n",
    "\n",
    "import matplotlib.pyplot as plt\n",
    "import seaborn as sns\n",
    "\n",
    "from src.data import make_dataset\n",
    "from src.features import build_features\n",
    "from src.visualization import visualize\n",
    "\n",
    "sns.set_style()\n",
    "plt.rcParams[\"figure.figsize\"] = (12, 6)\n",
    "\n",
    "HOSPITAL_A_ANLIZAR = 112103  # Este es el Torax"
   ]
  },
  {
   "cell_type": "markdown",
   "metadata": {},
   "source": [
    "## Obtencion de Métricas de Egresos Hospitalarios\n",
    "\n",
    "En este apartado se quieren calculcar diversas métricas relevantes para el análisis de los\n",
    "egresos hospitalarios en Chile. Las métricas a calcular son las siguientes:\n",
    "\n",
    "1. Cantidad de Egresos Hospitalarios\n",
    "2. Dias de Estada Totales\n",
    "3. Cantidad de Intervenciones Quirúrgicas\n",
    "4. Cantidad de Muertos\n",
    "\n",
    "Todas estas métricas serán calculadas para cada Año, Establecimiento de Salud y Diagnóstico\n",
    "distinto que exista en la base de datos. Por ejemplo:\n",
    "\n",
    "\"En el año 2019, el Hospital San José (código XXXXXX) tuvo XX egresos, con XX dias estada promedio,\n",
    "con XX intervenciones quirúrgicas y XX muertos para el diagnóstico A24.4\"s\n"
   ]
  },
  {
   "cell_type": "code",
   "execution_count": 3,
   "metadata": {},
   "outputs": [],
   "source": [
    "df_nacional = pl.scan_csv(\n",
    "    \"../data/processed/egresos_procesados.csv\",\n",
    "    infer_schema_length=10000,\n",
    "    null_values=\"Extranjero\",\n",
    ")"
   ]
  },
  {
   "cell_type": "code",
   "execution_count": 4,
   "metadata": {},
   "outputs": [],
   "source": [
    "AGRUPACION = [\n",
    "    \"ANO_EGRESO\",\n",
    "    \"ESTABLECIMIENTO_SALUD\",\n",
    "    \"GLOSA_ESTABLECIMIENTO_SALUD\",\n",
    "    \"DIAG1\",\n",
    "]\n",
    "\n",
    "metricas = build_features.obtener_metricas_egresos(df_nacional, AGRUPACION).collect()"
   ]
  },
  {
   "cell_type": "code",
   "execution_count": 5,
   "metadata": {},
   "outputs": [
    {
     "data": {
      "text/html": [
       "<div><style>\n",
       ".dataframe > thead > tr > th,\n",
       ".dataframe > tbody > tr > td {\n",
       "  text-align: right;\n",
       "  white-space: pre-wrap;\n",
       "}\n",
       "</style>\n",
       "<small>shape: (10, 8)</small><table border=\"1\" class=\"dataframe\"><thead><tr><th>ANO_EGRESO</th><th>ESTABLECIMIENTO_SALUD</th><th>GLOSA_ESTABLECIMIENTO_SALUD</th><th>DIAG1</th><th>n_egresos</th><th>dias_estada_totales</th><th>n_int_q</th><th>n_muertos</th></tr><tr><td>i64</td><td>i64</td><td>str</td><td>str</td><td>u32</td><td>i64</td><td>i64</td><td>i64</td></tr></thead><tbody><tr><td>2014</td><td>107100</td><td>&quot;Hospital Dr. G…</td><td>&quot;N390&quot;</td><td>306</td><td>2515</td><td>9</td><td>23</td></tr><tr><td>2008</td><td>111200</td><td>&quot;Hospital Clíni…</td><td>&quot;M713&quot;</td><td>12</td><td>13</td><td>11</td><td>0</td></tr><tr><td>2001</td><td>129106</td><td>&quot;Hospital San J…</td><td>&quot;I832&quot;</td><td>1</td><td>18</td><td>0</td><td>0</td></tr><tr><td>2014</td><td>115206</td><td>&quot;Hospital Clíni…</td><td>&quot;M179&quot;</td><td>34</td><td>181</td><td>29</td><td>0</td></tr><tr><td>2008</td><td>115103</td><td>&quot;Hospital Del S…</td><td>&quot;F102&quot;</td><td>10</td><td>35</td><td>2</td><td>0</td></tr><tr><td>2015</td><td>124250</td><td>&quot;Clínica Puerto…</td><td>&quot;I829&quot;</td><td>1</td><td>1</td><td>1</td><td>0</td></tr><tr><td>2020</td><td>116100</td><td>&quot;Hospital San J…</td><td>&quot;O998&quot;</td><td>2</td><td>3</td><td>2</td><td>0</td></tr><tr><td>2001</td><td>123200</td><td>&quot;Clínica Aleman…</td><td>&quot;O244&quot;</td><td>1</td><td>2</td><td>0</td><td>0</td></tr><tr><td>2020</td><td>112200</td><td>&quot;Clínica Aleman…</td><td>&quot;L720&quot;</td><td>11</td><td>11</td><td>11</td><td>0</td></tr><tr><td>2004</td><td>123200</td><td>&quot;Clínica Aleman…</td><td>&quot;B348&quot;</td><td>1</td><td>2</td><td>0</td><td>0</td></tr></tbody></table></div>"
      ],
      "text/plain": [
       "shape: (10, 8)\n",
       "┌────────────┬──────────────┬──────────────┬───────┬───────────┬─────────────┬─────────┬───────────┐\n",
       "│ ANO_EGRESO ┆ ESTABLECIMIE ┆ GLOSA_ESTABL ┆ DIAG1 ┆ n_egresos ┆ dias_estada ┆ n_int_q ┆ n_muertos │\n",
       "│ ---        ┆ NTO_SALUD    ┆ ECIMIENTO_SA ┆ ---   ┆ ---       ┆ _totales    ┆ ---     ┆ ---       │\n",
       "│ i64        ┆ ---          ┆ LUD          ┆ str   ┆ u32       ┆ ---         ┆ i64     ┆ i64       │\n",
       "│            ┆ i64          ┆ ---          ┆       ┆           ┆ i64         ┆         ┆           │\n",
       "│            ┆              ┆ str          ┆       ┆           ┆             ┆         ┆           │\n",
       "╞════════════╪══════════════╪══════════════╪═══════╪═══════════╪═════════════╪═════════╪═══════════╡\n",
       "│ 2014       ┆ 107100       ┆ Hospital Dr. ┆ N390  ┆ 306       ┆ 2515        ┆ 9       ┆ 23        │\n",
       "│            ┆              ┆ Gustavo      ┆       ┆           ┆             ┆         ┆           │\n",
       "│            ┆              ┆ Fricke (Viñ… ┆       ┆           ┆             ┆         ┆           │\n",
       "│ 2008       ┆ 111200       ┆ Hospital     ┆ M713  ┆ 12        ┆ 13          ┆ 11      ┆ 0         │\n",
       "│            ┆              ┆ Clínico      ┆       ┆           ┆             ┆         ┆           │\n",
       "│            ┆              ┆ Universidad  ┆       ┆           ┆             ┆         ┆           │\n",
       "│            ┆              ┆ Cat…         ┆       ┆           ┆             ┆         ┆           │\n",
       "│ 2001       ┆ 129106       ┆ Hospital San ┆ I832  ┆ 1         ┆ 18          ┆ 0       ┆ 0         │\n",
       "│            ┆              ┆ José         ┆       ┆           ┆             ┆         ┆           │\n",
       "│            ┆              ┆ (Victoria)   ┆       ┆           ┆             ┆         ┆           │\n",
       "│ 2014       ┆ 115206       ┆ Hospital     ┆ M179  ┆ 34        ┆ 181         ┆ 29      ┆ 0         │\n",
       "│            ┆              ┆ Clínico      ┆       ┆           ┆             ┆         ┆           │\n",
       "│            ┆              ┆ Fusat        ┆       ┆           ┆             ┆         ┆           │\n",
       "│            ┆              ┆ Rancagua…    ┆       ┆           ┆             ┆         ┆           │\n",
       "│ …          ┆ …            ┆ …            ┆ …     ┆ …         ┆ …           ┆ …       ┆ …         │\n",
       "│ 2020       ┆ 116100       ┆ Hospital San ┆ O998  ┆ 2         ┆ 3           ┆ 2       ┆ 0         │\n",
       "│            ┆              ┆ Juan de Dios ┆       ┆           ┆             ┆         ┆           │\n",
       "│            ┆              ┆ (Curic…      ┆       ┆           ┆             ┆         ┆           │\n",
       "│ 2001       ┆ 123200       ┆ Clínica      ┆ O244  ┆ 1         ┆ 2           ┆ 0       ┆ 0         │\n",
       "│            ┆              ┆ Alemana de   ┆       ┆           ┆             ┆         ┆           │\n",
       "│            ┆              ┆ Osorno       ┆       ┆           ┆             ┆         ┆           │\n",
       "│ 2020       ┆ 112200       ┆ Clínica      ┆ L720  ┆ 11        ┆ 11          ┆ 11      ┆ 0         │\n",
       "│            ┆              ┆ Alemana      ┆       ┆           ┆             ┆         ┆           │\n",
       "│ 2004       ┆ 123200       ┆ Clínica      ┆ B348  ┆ 1         ┆ 2           ┆ 0       ┆ 0         │\n",
       "│            ┆              ┆ Alemana de   ┆       ┆           ┆             ┆         ┆           │\n",
       "│            ┆              ┆ Osorno       ┆       ┆           ┆             ┆         ┆           │\n",
       "└────────────┴──────────────┴──────────────┴───────┴───────────┴─────────────┴─────────┴───────────┘"
      ]
     },
     "metadata": {},
     "output_type": "display_data"
    }
   ],
   "source": [
    "display(metricas.sample(10))"
   ]
  },
  {
   "cell_type": "markdown",
   "metadata": {},
   "source": [
    "- Al ver una muestra del calculo realizado, se puede observar la cantidad de egresos, dias de\n",
    "  estada, numero de intervenciones quirurgicas y cantidad de muertos para 10 duplas de\n",
    "  hospitales - diagnosticos distintos.\n"
   ]
  },
  {
   "cell_type": "markdown",
   "metadata": {},
   "source": [
    "Si bien se tienen las metricas calculadas, ahora se quiere responder a las siguientes preguntas:\n",
    "\n",
    "- En qué diagnósticos se destaca cada hospital productivamente? Esto significa, en qué diagnósticos\n",
    "  cada hospital tiene una mayor cantidad de egresos que otros hospitales?\n",
    "\n",
    "- El hospital tiene un desempeño similar dentro de distintos grupos/estratos de hospitales?\n",
    "  El hospital se desempeñara de la misma forma nacionalmente, dentro del estrato público, privado,\n",
    "  etc...?\n",
    "\n",
    "Para responder a la pregunta se realizará un ranking de todos los hospitales para cada\n",
    "diagnóstico y cada año observado. Este ranking se realizará para distintos grupos/estratos de\n",
    "hospitales (Nacional, Hospitales Públicos, Hospitales Privados, Hospitales GRD)\n"
   ]
  },
  {
   "cell_type": "markdown",
   "metadata": {},
   "source": [
    "## Análisis de Estratos\n"
   ]
  },
  {
   "cell_type": "code",
   "execution_count": 6,
   "metadata": {},
   "outputs": [],
   "source": [
    "dict_estratos = build_features.obtener_diccionario_estratos(df_nacional, HOSPITAL_A_ANLIZAR)"
   ]
  },
  {
   "cell_type": "code",
   "execution_count": 7,
   "metadata": {},
   "outputs": [],
   "source": [
    "variables_a_rankear = [\"n_egresos\"]\n",
    "subgrupo_del_ranking = [\"ANO_EGRESO\", \"DIAG1\"]\n",
    "\n",
    "rankings_nacionales = build_features.agregar_ranking_estratos(\n",
    "    metricas, dict_estratos, variables_a_rankear, subgrupo_del_ranking\n",
    ")\n",
    "\n",
    "rankings_hospital_analizado = rankings_nacionales.filter(\n",
    "    pl.col(\"ESTABLECIMIENTO_SALUD\") == HOSPITAL_A_ANLIZAR\n",
    ")"
   ]
  },
  {
   "cell_type": "code",
   "execution_count": 8,
   "metadata": {},
   "outputs": [
    {
     "name": "stderr",
     "output_type": "stream",
     "text": [
      "C:\\Users\\ppizarro\\AppData\\Local\\Temp\\ipykernel_19856\\516069765.py:7: DeprecationWarning: `groupby` is deprecated. It has been renamed to `group_by`.\n",
      "  veinte_mas_relevantes_por_anio = diags_mas_relevantes.groupby([\"ANO_EGRESO\"]).head(20)\n"
     ]
    }
   ],
   "source": [
    "diags_mas_relevantes = rankings_hospital_analizado.filter(\n",
    "    (pl.col(\"ranking_nacionales_n_egresos\") == 1)\n",
    "    & (pl.col(\"n_int_q\") > 0)\n",
    "    & (pl.col(\"ANO_EGRESO\") > 2011)\n",
    ").sort(by=[\"ANO_EGRESO\", \"n_egresos\", \"n_int_q\"], descending=True)\n",
    "\n",
    "veinte_mas_relevantes_por_anio = diags_mas_relevantes.groupby([\"ANO_EGRESO\"]).head(20)"
   ]
  },
  {
   "cell_type": "code",
   "execution_count": 46,
   "metadata": {},
   "outputs": [],
   "source": [
    "DIAGS_MAS_RELEVANTES = veinte_mas_relevantes_por_anio.select(pl.col(\"DIAG1\").unique()).sort(\n",
    "    by=\"DIAG1\"\n",
    ")"
   ]
  },
  {
   "cell_type": "code",
   "execution_count": 52,
   "metadata": {},
   "outputs": [
    {
     "name": "stdout",
     "output_type": "stream",
     "text": [
      "shape: (46, 1)\n",
      "┌───────┐\n",
      "│ DIAG1 │\n",
      "│ ---   │\n",
      "│ str   │\n",
      "╞═══════╡\n",
      "│ C33X  │\n",
      "│ C340  │\n",
      "│ C341  │\n",
      "│ C342  │\n",
      "│ …     │\n",
      "│ Q676  │\n",
      "│ T820  │\n",
      "│ T821  │\n",
      "│ Z450  │\n",
      "└───────┘\n"
     ]
    }
   ],
   "source": [
    "print(DIAGS_MAS_RELEVANTES)"
   ]
  },
  {
   "cell_type": "code",
   "execution_count": 53,
   "metadata": {},
   "outputs": [],
   "source": [
    "DIAGS_1_o_2_en_2019 = (\n",
    "    rankings_hospital_analizado.filter(\n",
    "        (pl.col(\"DIAG1\").is_in(DIAGS_MAS_RELEVANTES.to_series()))\n",
    "        & (pl.col(\"ANO_EGRESO\") == 2019)\n",
    "        & (\n",
    "            (pl.col(\"ranking_nacionales_n_egresos\") == 1)\n",
    "            | (pl.col(\"ranking_nacionales_n_egresos\") == 2)\n",
    "        )\n",
    "    )\n",
    "    .select(pl.col(\"DIAG1\"))\n",
    ")"
   ]
  },
  {
   "cell_type": "code",
   "execution_count": 54,
   "metadata": {},
   "outputs": [
    {
     "name": "stdout",
     "output_type": "stream",
     "text": [
      "shape: (35, 1)\n",
      "┌───────┐\n",
      "│ DIAG1 │\n",
      "│ ---   │\n",
      "│ str   │\n",
      "╞═══════╡\n",
      "│ Z450  │\n",
      "│ T821  │\n",
      "│ T820  │\n",
      "│ M348  │\n",
      "│ …     │\n",
      "│ C342  │\n",
      "│ C341  │\n",
      "│ C340  │\n",
      "│ C33X  │\n",
      "└───────┘\n"
     ]
    }
   ],
   "source": [
    "print(DIAGS_1_o_2_en_2019)"
   ]
  },
  {
   "cell_type": "markdown",
   "metadata": {},
   "source": [
    "Para hacer un contorl de lo que se calculo, se observará una muestra de 10 hospitales - diagnósticos\n",
    "distintos\n"
   ]
  },
  {
   "cell_type": "code",
   "execution_count": 11,
   "metadata": {},
   "outputs": [
    {
     "data": {
      "text/html": [
       "<div><style>\n",
       ".dataframe > thead > tr > th,\n",
       ".dataframe > tbody > tr > td {\n",
       "  text-align: right;\n",
       "  white-space: pre-wrap;\n",
       "}\n",
       "</style>\n",
       "<small>shape: (10, 27)</small><table border=\"1\" class=\"dataframe\"><thead><tr><th>ANO_EGRESO</th><th>ESTABLECIMIENTO_SALUD</th><th>GLOSA_ESTABLECIMIENTO_SALUD</th><th>Capítulo</th><th>Sección</th><th>Categoría</th><th>Descripción</th><th>DIAG1</th><th>n_egresos</th><th>dias_estada_totales</th><th>n_int_q</th><th>n_muertos</th><th>ranking_nacionales_n_egresos</th><th>total_nacionales_n_egresos</th><th>%_nacionales_n_egresos</th><th>ranking_publicos_n_egresos</th><th>total_publicos_n_egresos</th><th>%_publicos_n_egresos</th><th>ranking_privados_n_egresos</th><th>total_privados_n_egresos</th><th>%_privados_n_egresos</th><th>ranking_grd_n_egresos</th><th>total_grd_n_egresos</th><th>%_grd_n_egresos</th><th>ranking_interno_n_egresos</th><th>total_interno_n_egresos</th><th>%_interno_n_egresos</th></tr><tr><td>i64</td><td>i64</td><td>str</td><td>str</td><td>str</td><td>str</td><td>str</td><td>str</td><td>u32</td><td>i64</td><td>i64</td><td>i64</td><td>u32</td><td>u32</td><td>f64</td><td>u32</td><td>u32</td><td>f64</td><td>u32</td><td>u32</td><td>f64</td><td>u32</td><td>u32</td><td>f64</td><td>u32</td><td>u32</td><td>f64</td></tr></thead><tbody><tr><td>2008</td><td>117101</td><td>&quot;Hospital Clíni…</td><td>&quot;Cap.18  SÍNTOM…</td><td>&quot;R50-R69  SÍNTO…</td><td>&quot;R59 ADENOMEGAL…</td><td>&quot;Adenomegalia g…</td><td>&quot;R591&quot;</td><td>1</td><td>8</td><td>0</td><td>0</td><td>13</td><td>26</td><td>0.038462</td><td>8</td><td>14</td><td>0.071429</td><td>null</td><td>null</td><td>null</td><td>7</td><td>10</td><td>0.1</td><td>null</td><td>null</td><td>null</td></tr><tr><td>2017</td><td>112528</td><td>&quot;Clínica Las Li…</td><td>&quot;Cap.17  MALFOR…</td><td>&quot;Q38-Q45  OTRAS…</td><td>&quot;Q41 AUSENCIA, …</td><td>&quot;Ausencia, atre…</td><td>&quot;Q412&quot;</td><td>1</td><td>11</td><td>1</td><td>0</td><td>6</td><td>13</td><td>0.076923</td><td>null</td><td>null</td><td>null</td><td>3</td><td>6</td><td>0.166667</td><td>null</td><td>null</td><td>null</td><td>null</td><td>null</td><td>null</td></tr><tr><td>2005</td><td>121119</td><td>&quot;Hospital de Go…</td><td>&quot;Cap.04  ENFERM…</td><td>&quot;E08-E14  DIABE…</td><td>&quot;E14 DIABETES M…</td><td>&quot;Diabetes melli…</td><td>&quot;E146&quot;</td><td>8</td><td>22</td><td>0</td><td>0</td><td>16</td><td>616</td><td>0.012987</td><td>15</td><td>563</td><td>0.01421</td><td>null</td><td>null</td><td>null</td><td>null</td><td>null</td><td>null</td><td>null</td><td>null</td><td>null</td></tr><tr><td>2017</td><td>114105</td><td>&quot;Hospital Clíni…</td><td>&quot;Cap.10  ENFERM…</td><td>&quot;J00-J06  INFEC…</td><td>&quot;J04 LARINGITIS…</td><td>&quot;Traqueítis agu…</td><td>&quot;J041&quot;</td><td>1</td><td>2</td><td>0</td><td>0</td><td>15</td><td>59</td><td>0.016949</td><td>11</td><td>41</td><td>0.02439</td><td>null</td><td>null</td><td>null</td><td>10</td><td>34</td><td>0.029412</td><td>null</td><td>null</td><td>null</td></tr><tr><td>2005</td><td>122201</td><td>&quot;Hospital Padre…</td><td>&quot;Cap.09  ENFERM…</td><td>&quot;I80-I89  ENFER…</td><td>&quot;I88 LINFADENIT…</td><td>&quot;Linfadenitis m…</td><td>&quot;I880&quot;</td><td>14</td><td>31</td><td>0</td><td>0</td><td>13</td><td>688</td><td>0.020349</td><td>7</td><td>408</td><td>0.034314</td><td>null</td><td>null</td><td>null</td><td>null</td><td>null</td><td>null</td><td>null</td><td>null</td><td>null</td></tr><tr><td>2018</td><td>107217</td><td>&quot;Hospital Naval…</td><td>&quot;Cap.11  ENFERM…</td><td>&quot;K00-K14  ENFER…</td><td>&quot;K11 ENFERMEDAD…</td><td>&quot;Sialolitiasis&quot;</td><td>&quot;K115&quot;</td><td>2</td><td>2</td><td>2</td><td>0</td><td>20</td><td>108</td><td>0.018519</td><td>null</td><td>null</td><td>null</td><td>14</td><td>66</td><td>0.030303</td><td>null</td><td>null</td><td>null</td><td>null</td><td>null</td><td>null</td></tr><tr><td>2018</td><td>121202</td><td>&quot;Clínica Aleman…</td><td>&quot;Cap.21  FACTOR…</td><td>&quot;Z40-Z54  CONTA…</td><td>&quot;Z47 OTROS CUID…</td><td>&quot;Otros cuidados…</td><td>&quot;Z478&quot;</td><td>1</td><td>2</td><td>1</td><td>0</td><td>34</td><td>202</td><td>0.00495</td><td>null</td><td>null</td><td>null</td><td>14</td><td>122</td><td>0.008197</td><td>null</td><td>null</td><td>null</td><td>null</td><td>null</td><td>null</td></tr><tr><td>2019</td><td>110270</td><td>&quot;Clínica Los Ma…</td><td>&quot;Cap.09  ENFERM…</td><td>&quot;I60-I69  ENFER…</td><td>&quot;I67 OTRAS ENFE…</td><td>&quot;Enfermedad cer…</td><td>&quot;I679&quot;</td><td>1</td><td>8</td><td>0</td><td>0</td><td>124</td><td>1199</td><td>0.000834</td><td>null</td><td>null</td><td>null</td><td>38</td><td>299</td><td>0.003344</td><td>null</td><td>null</td><td>null</td><td>null</td><td>null</td><td>null</td></tr><tr><td>2019</td><td>109201</td><td>&quot;Clínica Dávila…</td><td>&quot;Cap.13  ENFERM…</td><td>&quot;M20-M25  OTROS…</td><td>&quot;M21 OTRAS DEFO…</td><td>&quot;Otras deformid…</td><td>&quot;M215&quot;</td><td>4</td><td>5</td><td>4</td><td>0</td><td>20</td><td>323</td><td>0.012384</td><td>null</td><td>null</td><td>null</td><td>11</td><td>206</td><td>0.019417</td><td>null</td><td>null</td><td>null</td><td>null</td><td>null</td><td>null</td></tr><tr><td>2014</td><td>112528</td><td>&quot;Clínica Las Li…</td><td>&quot;Cap.02  NEOPLA…</td><td>&quot;C60-C63  NEOPL…</td><td>&quot;C61 TUMOR MALI…</td><td>&quot;Tumor maligno …</td><td>&quot;C61X&quot;</td><td>4</td><td>17</td><td>1</td><td>0</td><td>106</td><td>3276</td><td>0.001221</td><td>null</td><td>null</td><td>null</td><td>37</td><td>1379</td><td>0.002901</td><td>null</td><td>null</td><td>null</td><td>null</td><td>null</td><td>null</td></tr></tbody></table></div>"
      ],
      "text/plain": [
       "shape: (10, 27)\n",
       "┌───────────┬───────────┬───────────┬───────────┬───┬───────────┬───────────┬───────────┬──────────┐\n",
       "│ ANO_EGRES ┆ ESTABLECI ┆ GLOSA_EST ┆ Capítulo  ┆ … ┆ %_grd_n_e ┆ ranking_i ┆ total_int ┆ %_intern │\n",
       "│ O         ┆ MIENTO_SA ┆ ABLECIMIE ┆ ---       ┆   ┆ gresos    ┆ nterno_n_ ┆ erno_n_eg ┆ o_n_egre │\n",
       "│ ---       ┆ LUD       ┆ NTO_SALUD ┆ str       ┆   ┆ ---       ┆ egresos   ┆ resos     ┆ sos      │\n",
       "│ i64       ┆ ---       ┆ ---       ┆           ┆   ┆ f64       ┆ ---       ┆ ---       ┆ ---      │\n",
       "│           ┆ i64       ┆ str       ┆           ┆   ┆           ┆ u32       ┆ u32       ┆ f64      │\n",
       "╞═══════════╪═══════════╪═══════════╪═══════════╪═══╪═══════════╪═══════════╪═══════════╪══════════╡\n",
       "│ 2008      ┆ 117101    ┆ Hospital  ┆ Cap.18    ┆ … ┆ 0.1       ┆ null      ┆ null      ┆ null     │\n",
       "│           ┆           ┆ Clínico   ┆ SÍNTOMAS, ┆   ┆           ┆           ┆           ┆          │\n",
       "│           ┆           ┆ Herminda  ┆ SIGNOS Y  ┆   ┆           ┆           ┆           ┆          │\n",
       "│           ┆           ┆ Martín…   ┆ RESUL…    ┆   ┆           ┆           ┆           ┆          │\n",
       "│ 2017      ┆ 112528    ┆ Clínica   ┆ Cap.17    ┆ … ┆ null      ┆ null      ┆ null      ┆ null     │\n",
       "│           ┆           ┆ Las Lilas ┆ MALFORMAC ┆   ┆           ┆           ┆           ┆          │\n",
       "│           ┆           ┆           ┆ IONES CON ┆   ┆           ┆           ┆           ┆          │\n",
       "│           ┆           ┆           ┆ GÉNITA…   ┆   ┆           ┆           ┆           ┆          │\n",
       "│ 2005      ┆ 121119    ┆ Hospital  ┆ Cap.04    ┆ … ┆ null      ┆ null      ┆ null      ┆ null     │\n",
       "│           ┆           ┆ de Gorbea ┆ ENFERMEDA ┆   ┆           ┆           ┆           ┆          │\n",
       "│           ┆           ┆           ┆ DES ENDOC ┆   ┆           ┆           ┆           ┆          │\n",
       "│           ┆           ┆           ┆ RINAS,…   ┆   ┆           ┆           ┆           ┆          │\n",
       "│ 2017      ┆ 114105    ┆ Hospital  ┆ Cap.10    ┆ … ┆ 0.029412  ┆ null      ┆ null      ┆ null     │\n",
       "│           ┆           ┆ Clínico   ┆ ENFERMEDA ┆   ┆           ┆           ┆           ┆          │\n",
       "│           ┆           ┆ Metropoli ┆ DES DEL   ┆   ┆           ┆           ┆           ┆          │\n",
       "│           ┆           ┆ tano L…   ┆ APARATO…  ┆   ┆           ┆           ┆           ┆          │\n",
       "│ …         ┆ …         ┆ …         ┆ …         ┆ … ┆ …         ┆ …         ┆ …         ┆ …        │\n",
       "│ 2018      ┆ 121202    ┆ Clínica   ┆ Cap.21    ┆ … ┆ null      ┆ null      ┆ null      ┆ null     │\n",
       "│           ┆           ┆ Alemana   ┆ FACTORES  ┆   ┆           ┆           ┆           ┆          │\n",
       "│           ┆           ┆ de Temuco ┆ QUE       ┆   ┆           ┆           ┆           ┆          │\n",
       "│           ┆           ┆           ┆ INFLUYEN  ┆   ┆           ┆           ┆           ┆          │\n",
       "│           ┆           ┆           ┆ EN…       ┆   ┆           ┆           ┆           ┆          │\n",
       "│ 2019      ┆ 110270    ┆ Clínica   ┆ Cap.09    ┆ … ┆ null      ┆ null      ┆ null      ┆ null     │\n",
       "│           ┆           ┆ Los       ┆ ENFERMEDA ┆   ┆           ┆           ┆           ┆          │\n",
       "│           ┆           ┆ Maitenes  ┆ DES DEL   ┆   ┆           ┆           ┆           ┆          │\n",
       "│           ┆           ┆           ┆ APARATO…  ┆   ┆           ┆           ┆           ┆          │\n",
       "│ 2019      ┆ 109201    ┆ Clínica   ┆ Cap.13    ┆ … ┆ null      ┆ null      ┆ null      ┆ null     │\n",
       "│           ┆           ┆ Dávila    ┆ ENFERMEDA ┆   ┆           ┆           ┆           ┆          │\n",
       "│           ┆           ┆           ┆ DES DEL   ┆   ┆           ┆           ┆           ┆          │\n",
       "│           ┆           ┆           ┆ APARATO…  ┆   ┆           ┆           ┆           ┆          │\n",
       "│ 2014      ┆ 112528    ┆ Clínica   ┆ Cap.02    ┆ … ┆ null      ┆ null      ┆ null      ┆ null     │\n",
       "│           ┆           ┆ Las Lilas ┆ NEOPLASIA ┆   ┆           ┆           ┆           ┆          │\n",
       "│           ┆           ┆           ┆ S         ┆   ┆           ┆           ┆           ┆          │\n",
       "│           ┆           ┆           ┆ (C00-D49) ┆   ┆           ┆           ┆           ┆          │\n",
       "└───────────┴───────────┴───────────┴───────────┴───┴───────────┴───────────┴───────────┴──────────┘"
      ]
     },
     "metadata": {},
     "output_type": "display_data"
    }
   ],
   "source": [
    "display(rankings_nacionales.sample(10))"
   ]
  },
  {
   "cell_type": "markdown",
   "metadata": {},
   "source": [
    "En la muestra anterior se puede observar las métricas previamente calculada, y el ranking\n",
    "respectivo que tiene cada hospital para diagnósticos en cada año específico.\n"
   ]
  },
  {
   "cell_type": "code",
   "execution_count": 12,
   "metadata": {},
   "outputs": [],
   "source": [
    "rankings_nacionales.to_pandas().to_csv(\n",
    "    \"../data/interim/ranking_nacional_egresos.csv\",\n",
    "    sep=\";\",\n",
    "    decimal=\".\",\n",
    "    encoding=\"latin-1\",\n",
    "    index=False,\n",
    ")\n",
    "\n",
    "rankings_hospital_analizado.to_pandas().to_csv(\n",
    "    \"../data/interim/ranking_torax_egresos.csv\",\n",
    "    sep=\";\",\n",
    "    decimal=\".\",\n",
    "    encoding=\"latin-1\",\n",
    "    index=False,\n",
    ")"
   ]
  },
  {
   "cell_type": "markdown",
   "metadata": {},
   "source": [
    "## Metricas para personas sobre 14 años\n",
    "\n",
    "En este análisis se quiere ver el ranking de egresos pero solamente tomando en cuenta a personas\n",
    "mayores a 14 años. Esto, para dilucidar si el hospital del tórax es altamente relevante para tratar\n",
    "patologías congénitas de adultos.\n"
   ]
  },
  {
   "cell_type": "code",
   "execution_count": 13,
   "metadata": {},
   "outputs": [],
   "source": [
    "df_nacional_mayores_a_14 = df_nacional.filter(pl.col(\"EDAD_A_OS\") > 14)"
   ]
  },
  {
   "cell_type": "code",
   "execution_count": 14,
   "metadata": {},
   "outputs": [],
   "source": [
    "metricas_sobre_14 = build_features.obtener_metricas_egresos(\n",
    "    df_nacional_mayores_a_14, AGRUPACION\n",
    ").collect()"
   ]
  },
  {
   "cell_type": "code",
   "execution_count": 15,
   "metadata": {},
   "outputs": [],
   "source": [
    "variables_a_rankear = [\"n_egresos\"]\n",
    "subgrupo_del_ranking = [\"ANO_EGRESO\", \"DIAG1\"]\n",
    "\n",
    "rankings_nacionales_sobre_14 = build_features.agregar_ranking_estratos(\n",
    "    metricas_sobre_14, dict_estratos, variables_a_rankear, subgrupo_del_ranking\n",
    ")\n",
    "\n",
    "diags_congenitos_relevantes = rankings_nacionales_sobre_14.filter(\n",
    "    (pl.col(\"DIAG1\").is_in([\"Q230\", \"Q211\", \"Q231\"])) & (pl.col(\"ANO_EGRESO\") == 2019)\n",
    ")"
   ]
  },
  {
   "cell_type": "code",
   "execution_count": 16,
   "metadata": {},
   "outputs": [],
   "source": [
    "diags_congenitos_relevantes.to_pandas().to_csv(\n",
    "    \"../data/interim/diags_congenitas_sobre_14_egresos.csv\",\n",
    "    sep=\";\",\n",
    "    decimal=\".\",\n",
    "    encoding=\"latin-1\",\n",
    "    index=False,\n",
    ")"
   ]
  },
  {
   "cell_type": "markdown",
   "metadata": {},
   "source": [
    "## 3. Análisis de procedimientos DEIS\n",
    "\n",
    "En este análisis se quieren responder las siguientes preguntas:\n",
    "\n",
    "1. ¿Cuál es el procedimiento más frecuente dentro de los pacientes que se les realizó un procedimiento\n",
    "   quirúrgico?\n"
   ]
  },
  {
   "cell_type": "code",
   "execution_count": 17,
   "metadata": {},
   "outputs": [
    {
     "name": "stderr",
     "output_type": "stream",
     "text": [
      "C:\\Users\\ppizarro\\AppData\\Local\\Temp\\ipykernel_19856\\3397463805.py:3: DeprecationWarning: `groupby` is deprecated. It has been renamed to `group_by`.\n",
      "  .groupby([\"ANO_EGRESO\", \"ESTABLECIMIENTO_SALUD\", \"GLOSA_PROCED_PPAL\"])\n"
     ]
    }
   ],
   "source": [
    "proced = (\n",
    "    df_nacional.filter(pl.col(\"INTERV_Q\") == 1)\n",
    "    .groupby([\"ANO_EGRESO\", \"ESTABLECIMIENTO_SALUD\", \"GLOSA_PROCED_PPAL\"])\n",
    "    .agg(pl.count())\n",
    ").collect()"
   ]
  },
  {
   "cell_type": "code",
   "execution_count": 18,
   "metadata": {},
   "outputs": [
    {
     "data": {
      "text/html": [
       "<div><style>\n",
       ".dataframe > thead > tr > th,\n",
       ".dataframe > tbody > tr > td {\n",
       "  text-align: right;\n",
       "  white-space: pre-wrap;\n",
       "}\n",
       "</style>\n",
       "<small>shape: (10_757, 4)</small><table border=\"1\" class=\"dataframe\"><thead><tr><th>ANO_EGRESO</th><th>ESTABLECIMIENTO_SALUD</th><th>GLOSA_PROCED_PPAL</th><th>count</th></tr><tr><td>i64</td><td>i64</td><td>str</td><td>u32</td></tr></thead><tbody><tr><td>2001</td><td>103203</td><td>null</td><td>5921</td></tr><tr><td>2001</td><td>107212</td><td>null</td><td>1504</td></tr><tr><td>2001</td><td>106100</td><td>null</td><td>9333</td></tr><tr><td>2001</td><td>107100</td><td>null</td><td>9959</td></tr><tr><td>2001</td><td>121111</td><td>null</td><td>309</td></tr><tr><td>2001</td><td>105103</td><td>null</td><td>262</td></tr><tr><td>2001</td><td>117101</td><td>null</td><td>1079</td></tr><tr><td>2001</td><td>112239</td><td>null</td><td>5848</td></tr><tr><td>2001</td><td>103210</td><td>null</td><td>1699</td></tr><tr><td>2001</td><td>113180</td><td>null</td><td>8111</td></tr><tr><td>2001</td><td>122105</td><td>null</td><td>95</td></tr><tr><td>2001</td><td>125100</td><td>null</td><td>1773</td></tr><tr><td>&hellip;</td><td>&hellip;</td><td>&hellip;</td><td>&hellip;</td></tr><tr><td>2020</td><td>109200</td><td>&quot;Resonancia Mag…</td><td>1</td></tr><tr><td>2020</td><td>109200</td><td>&quot;Escleroterapia…</td><td>1</td></tr><tr><td>2020</td><td>123203</td><td>&quot;Sigmoidoscopia…</td><td>2</td></tr><tr><td>2020</td><td>133150</td><td>&quot;Cistoscopia y/…</td><td>1</td></tr><tr><td>2020</td><td>117225</td><td>&quot;Enteroscopía&quot;</td><td>1</td></tr><tr><td>2020</td><td>113130</td><td>&quot;Dilatacion ano…</td><td>1</td></tr><tr><td>2020</td><td>112530</td><td>&quot;Ecografía dopp…</td><td>2</td></tr><tr><td>2020</td><td>109101</td><td>&quot;Infiltraciones…</td><td>1</td></tr><tr><td>2020</td><td>126201</td><td>&quot;Registro ecoar…</td><td>3</td></tr><tr><td>2020</td><td>118202</td><td>&quot;Tomografía Com…</td><td>1</td></tr><tr><td>2020</td><td>200486</td><td>&quot;Cistoscopia co…</td><td>1</td></tr><tr><td>2020</td><td>105101</td><td>&quot;Histeroscopía …</td><td>1</td></tr></tbody></table></div>"
      ],
      "text/plain": [
       "shape: (10_757, 4)\n",
       "┌────────────┬───────────────────────┬───────────────────────────────────┬───────┐\n",
       "│ ANO_EGRESO ┆ ESTABLECIMIENTO_SALUD ┆ GLOSA_PROCED_PPAL                 ┆ count │\n",
       "│ ---        ┆ ---                   ┆ ---                               ┆ ---   │\n",
       "│ i64        ┆ i64                   ┆ str                               ┆ u32   │\n",
       "╞════════════╪═══════════════════════╪═══════════════════════════════════╪═══════╡\n",
       "│ 2001       ┆ 103203                ┆ null                              ┆ 5921  │\n",
       "│ 2001       ┆ 107212                ┆ null                              ┆ 1504  │\n",
       "│ 2001       ┆ 106100                ┆ null                              ┆ 9333  │\n",
       "│ 2001       ┆ 107100                ┆ null                              ┆ 9959  │\n",
       "│ …          ┆ …                     ┆ …                                 ┆ …     │\n",
       "│ 2020       ┆ 126201                ┆ Registro ecoarterial o ecovenoso… ┆ 3     │\n",
       "│ 2020       ┆ 118202                ┆ Tomografía Computarizada de Colu… ┆ 1     │\n",
       "│ 2020       ┆ 200486                ┆ Cistoscopia con sondeo de uno o … ┆ 1     │\n",
       "│ 2020       ┆ 105101                ┆ Histeroscopía diagnostica o tera… ┆ 1     │\n",
       "└────────────┴───────────────────────┴───────────────────────────────────┴───────┘"
      ]
     },
     "metadata": {},
     "output_type": "display_data"
    }
   ],
   "source": [
    "display(proced)"
   ]
  },
  {
   "cell_type": "markdown",
   "metadata": {},
   "source": [
    "Los resultados muestran el desglose por año y recinto hospitalario junto a la cantidad de\n",
    "procedimientos realizados en cada intervención quirúrgica. Sin embargo, se puede observar que\n",
    "existe una cantidad importante de casos donde la glosa del procedimiento fue nula.\n",
    "\n",
    "Ahora, se quiere calcular cuántas intervenciones quirúrgicas carecen de una glosa de procedimiento.\n"
   ]
  },
  {
   "cell_type": "code",
   "execution_count": 19,
   "metadata": {},
   "outputs": [
    {
     "name": "stderr",
     "output_type": "stream",
     "text": [
      "C:\\Users\\ppizarro\\AppData\\Local\\Temp\\ipykernel_19856\\989951252.py:1: DeprecationWarning: `groupby` is deprecated. It has been renamed to `group_by`.\n",
      "  display(proced.groupby(\"GLOSA_PROCED_PPAL\").agg(pl.col(\"count\").sum()).sort(\"count\"))\n"
     ]
    },
    {
     "data": {
      "text/html": [
       "<div><style>\n",
       ".dataframe > thead > tr > th,\n",
       ".dataframe > tbody > tr > td {\n",
       "  text-align: right;\n",
       "  white-space: pre-wrap;\n",
       "}\n",
       "</style>\n",
       "<small>shape: (422, 2)</small><table border=\"1\" class=\"dataframe\"><thead><tr><th>GLOSA_PROCED_PPAL</th><th>count</th></tr><tr><td>str</td><td>u32</td></tr></thead><tbody><tr><td>&quot;Enema baritado…</td><td>1</td></tr><tr><td>&quot;tonometria ocu…</td><td>1</td></tr><tr><td>&quot;Histerosalping…</td><td>1</td></tr><tr><td>&quot;Cócleovestibul…</td><td>1</td></tr><tr><td>&quot;Criocoagulacio…</td><td>1</td></tr><tr><td>&quot;Radiografía Pa…</td><td>1</td></tr><tr><td>&quot;Resonancia Mag…</td><td>1</td></tr><tr><td>&quot;Tratamiento po…</td><td>1</td></tr><tr><td>&quot;Electrocardiog…</td><td>1</td></tr><tr><td>&quot;Monitoreo e.e.…</td><td>1</td></tr><tr><td>&quot;Test de relaci…</td><td>1</td></tr><tr><td>&quot;Glaucoma, cicl…</td><td>1</td></tr><tr><td>&hellip;</td><td>&hellip;</td></tr><tr><td>&quot;Anestesia gene…</td><td>2932</td></tr><tr><td>&quot;Biopsia endome…</td><td>2975</td></tr><tr><td>&quot;Colangiopancre…</td><td>3605</td></tr><tr><td>&quot;Monitoreo feta…</td><td>4055</td></tr><tr><td>&quot;Monitoreo basa…</td><td>4875</td></tr><tr><td>&quot;Anestesia peri…</td><td>5308</td></tr><tr><td>&quot;E.C.G. de repo…</td><td>5684</td></tr><tr><td>&quot;Ecografía como…</td><td>7519</td></tr><tr><td>&quot;Instilacion ve…</td><td>7685</td></tr><tr><td>&quot;Código no exis…</td><td>11155</td></tr><tr><td>&quot;Apoyo fluorosc…</td><td>15775</td></tr><tr><td>null</td><td>12382642</td></tr></tbody></table></div>"
      ],
      "text/plain": [
       "shape: (422, 2)\n",
       "┌───────────────────────────────────┬──────────┐\n",
       "│ GLOSA_PROCED_PPAL                 ┆ count    │\n",
       "│ ---                               ┆ ---      │\n",
       "│ str                               ┆ u32      │\n",
       "╞═══════════════════════════════════╪══════════╡\n",
       "│ Enema baritado del colon (incluy… ┆ 1        │\n",
       "│ tonometria ocular, cualquier tec… ┆ 1        │\n",
       "│ Histerosalpingografía (a.c. 04-0… ┆ 1        │\n",
       "│ Cócleovestibular con electronist… ┆ 1        │\n",
       "│ …                                 ┆ …        │\n",
       "│ Instilacion vesical (incluye col… ┆ 7685     │\n",
       "│ Código no existe actualmente      ┆ 11155    │\n",
       "│ Apoyo fluoroscópico a procedimie… ┆ 15775    │\n",
       "│ null                              ┆ 12382642 │\n",
       "└───────────────────────────────────┴──────────┘"
      ]
     },
     "metadata": {},
     "output_type": "display_data"
    }
   ],
   "source": [
    "display(proced.groupby(\"GLOSA_PROCED_PPAL\").agg(pl.col(\"count\").sum()).sort(\"count\"))"
   ]
  },
  {
   "cell_type": "markdown",
   "metadata": {},
   "source": [
    "Por lo tanto, 12382642 de todas las intervenciones quirúrgicas carecen de una glosa de procedimiento.\n"
   ]
  },
  {
   "cell_type": "code",
   "execution_count": 20,
   "metadata": {},
   "outputs": [
    {
     "data": {
      "text/plain": [
       "<xlsxwriter.workbook.Workbook at 0x153e67b7850>"
      ]
     },
     "execution_count": 20,
     "metadata": {},
     "output_type": "execute_result"
    }
   ],
   "source": [
    "proced.write_excel(\"../data/interim/conteo_procedimientos.xlsx\")"
   ]
  }
 ],
 "metadata": {
  "kernelspec": {
   "display_name": "egresos-deis",
   "language": "python",
   "name": "python3"
  },
  "language_info": {
   "codemirror_mode": {
    "name": "ipython",
    "version": 3
   },
   "file_extension": ".py",
   "mimetype": "text/x-python",
   "name": "python",
   "nbconvert_exporter": "python",
   "pygments_lexer": "ipython3",
   "version": "3.11.5"
  },
  "orig_nbformat": 4
 },
 "nbformat": 4,
 "nbformat_minor": 2
}
