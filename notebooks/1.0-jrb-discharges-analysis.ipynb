{
 "cells": [
  {
   "cell_type": "code",
   "execution_count": 1,
   "metadata": {},
   "outputs": [],
   "source": [
    "import sys\n",
    "import os\n",
    "\n",
    "project_root = os.path.abspath('..')\n",
    "if project_root not in sys.path:\n",
    "    sys.path.append(project_root)\n",
    "\n",
    "%load_ext autoreload\n",
    "%autoreload 2\n"
   ]
  },
  {
   "cell_type": "code",
   "execution_count": 2,
   "metadata": {},
   "outputs": [],
   "source": [
    "import pandas as pd\n",
    "import numpy as np\n",
    "import polars as pl\n",
    "\n",
    "import matplotlib.pyplot as plt\n",
    "import seaborn as sns\n",
    "\n",
    "from src.data import make_dataset\n",
    "from src.features import build_features\n",
    "\n",
    "sns.set_style()\n",
    "plt.rcParams[\"figure.figsize\"] = (12, 6)\n",
    "\n",
    "HOSPITAL_A_ANLIZAR = 112103  # Este es el Torax"
   ]
  },
  {
   "cell_type": "markdown",
   "metadata": {},
   "source": [
    "## Obtencion de Métricas de Egresos Hospitalarios\n",
    "\n",
    "En este apartado se quieren calculcar diversas métricas relevantes para el análisis de los\n",
    "egresos hospitalarios en Chile. Las métricas a calcular son las siguientes:\n",
    "\n",
    "1. Cantidad de Egresos Hospitalarios\n",
    "2. Dias de Estada Totales\n",
    "3. Cantidad de Intervenciones Quirúrgicas\n",
    "4. Cantidad de Muertos\n",
    "\n",
    "Todas estas métricas serán calculadas para cada Año, Establecimiento de Salud y Diagnóstico\n",
    "distinto que exista en la base de datos. Por ejemplo:\n",
    "\n",
    "\"En el año 2019, el Hospital San José (código XXXXXX) tuvo XX egresos, con XX dias estada promedio,\n",
    "con XX intervenciones quirúrgicas y XX muertos para el diagnóstico A24.4\"s\n"
   ]
  },
  {
   "cell_type": "code",
   "execution_count": 3,
   "metadata": {},
   "outputs": [],
   "source": [
    "df_nacional = pl.scan_csv(\n",
    "    \"../data/processed/egresos_procesados.csv\",\n",
    "    infer_schema_length=10000,\n",
    "    null_values=\"Extranjero\",\n",
    ")"
   ]
  },
  {
   "cell_type": "code",
   "execution_count": 4,
   "metadata": {},
   "outputs": [],
   "source": [
    "AGRUPACION = [\n",
    "    \"ANO_EGRESO\",\n",
    "    \"ESTABLECIMIENTO_SALUD\",\n",
    "    \"GLOSA_ESTABLECIMIENTO_SALUD\",\n",
    "    \"DIAG1\",\n",
    "]\n",
    "\n",
    "metricas = build_features.obtener_metricas_egresos(df_nacional, AGRUPACION).collect()"
   ]
  },
  {
   "cell_type": "code",
   "execution_count": 5,
   "metadata": {},
   "outputs": [
    {
     "data": {
      "text/html": [
       "<div><style>\n",
       ".dataframe > thead > tr > th,\n",
       ".dataframe > tbody > tr > td {\n",
       "  text-align: right;\n",
       "  white-space: pre-wrap;\n",
       "}\n",
       "</style>\n",
       "<small>shape: (10, 8)</small><table border=\"1\" class=\"dataframe\"><thead><tr><th>ANO_EGRESO</th><th>ESTABLECIMIENTO_SALUD</th><th>GLOSA_ESTABLECIMIENTO_SALUD</th><th>DIAG1</th><th>n_egresos</th><th>dias_estada_totales</th><th>n_int_q</th><th>n_muertos</th></tr><tr><td>i64</td><td>i64</td><td>str</td><td>str</td><td>u32</td><td>i64</td><td>i64</td><td>i64</td></tr></thead><tbody><tr><td>2008</td><td>107107</td><td>&quot;Hospital de Pe…</td><td>&quot;D329&quot;</td><td>1</td><td>1</td><td>0</td><td>0</td></tr><tr><td>2007</td><td>118200</td><td>&quot;Hospital Clíni…</td><td>&quot;J304&quot;</td><td>6</td><td>29</td><td>0</td><td>0</td></tr><tr><td>2015</td><td>104103</td><td>&quot;Hospital Provi…</td><td>&quot;L97X&quot;</td><td>1</td><td>29</td><td>0</td><td>0</td></tr><tr><td>2011</td><td>111100</td><td>&quot;Hospital Clíni…</td><td>&quot;M410&quot;</td><td>9</td><td>44</td><td>2</td><td>0</td></tr><tr><td>2020</td><td>107100</td><td>&quot;Hospital Dr. G…</td><td>&quot;M236&quot;</td><td>1</td><td>15</td><td>1</td><td>0</td></tr><tr><td>2017</td><td>105100</td><td>&quot;Hospital San J…</td><td>&quot;O722&quot;</td><td>4</td><td>4</td><td>4</td><td>0</td></tr><tr><td>2015</td><td>123100</td><td>&quot;Hospital Base …</td><td>&quot;K721&quot;</td><td>1</td><td>1</td><td>0</td><td>0</td></tr><tr><td>2017</td><td>102200</td><td>&quot;Clínica Iquiqu…</td><td>&quot;T819&quot;</td><td>1</td><td>2</td><td>0</td><td>0</td></tr><tr><td>2004</td><td>111221</td><td>&quot;Clínica Juan P…</td><td>&quot;N63X&quot;</td><td>6</td><td>7</td><td>5</td><td>0</td></tr><tr><td>2013</td><td>117101</td><td>&quot;Hospital Clíni…</td><td>&quot;A153&quot;</td><td>26</td><td>525</td><td>1</td><td>1</td></tr></tbody></table></div>"
      ],
      "text/plain": [
       "shape: (10, 8)\n",
       "┌────────────┬──────────────┬──────────────┬───────┬───────────┬─────────────┬─────────┬───────────┐\n",
       "│ ANO_EGRESO ┆ ESTABLECIMIE ┆ GLOSA_ESTABL ┆ DIAG1 ┆ n_egresos ┆ dias_estada ┆ n_int_q ┆ n_muertos │\n",
       "│ ---        ┆ NTO_SALUD    ┆ ECIMIENTO_SA ┆ ---   ┆ ---       ┆ _totales    ┆ ---     ┆ ---       │\n",
       "│ i64        ┆ ---          ┆ LUD          ┆ str   ┆ u32       ┆ ---         ┆ i64     ┆ i64       │\n",
       "│            ┆ i64          ┆ ---          ┆       ┆           ┆ i64         ┆         ┆           │\n",
       "│            ┆              ┆ str          ┆       ┆           ┆             ┆         ┆           │\n",
       "╞════════════╪══════════════╪══════════════╪═══════╪═══════════╪═════════════╪═════════╪═══════════╡\n",
       "│ 2008       ┆ 107107       ┆ Hospital de  ┆ D329  ┆ 1         ┆ 1           ┆ 0       ┆ 0         │\n",
       "│            ┆              ┆ Petorca      ┆       ┆           ┆             ┆         ┆           │\n",
       "│ 2007       ┆ 118200       ┆ Hospital     ┆ J304  ┆ 6         ┆ 29          ┆ 0       ┆ 0         │\n",
       "│            ┆              ┆ Clínico del  ┆       ┆           ┆             ┆         ┆           │\n",
       "│            ┆              ┆ Sur S.A.     ┆       ┆           ┆             ┆         ┆           │\n",
       "│ 2015       ┆ 104103       ┆ Hospital     ┆ L97X  ┆ 1         ┆ 29          ┆ 0       ┆ 0         │\n",
       "│            ┆              ┆ Provincial   ┆       ┆           ┆             ┆         ┆           │\n",
       "│            ┆              ┆ del Huasco   ┆       ┆           ┆             ┆         ┆           │\n",
       "│            ┆              ┆ M…           ┆       ┆           ┆             ┆         ┆           │\n",
       "│ 2011       ┆ 111100       ┆ Hospital     ┆ M410  ┆ 9         ┆ 44          ┆ 2       ┆ 0         │\n",
       "│            ┆              ┆ Clínico San  ┆       ┆           ┆             ┆         ┆           │\n",
       "│            ┆              ┆ Borja-Arria… ┆       ┆           ┆             ┆         ┆           │\n",
       "│ …          ┆ …            ┆ …            ┆ …     ┆ …         ┆ …           ┆ …       ┆ …         │\n",
       "│ 2015       ┆ 123100       ┆ Hospital     ┆ K721  ┆ 1         ┆ 1           ┆ 0       ┆ 0         │\n",
       "│            ┆              ┆ Base San     ┆       ┆           ┆             ┆         ┆           │\n",
       "│            ┆              ┆ José de      ┆       ┆           ┆             ┆         ┆           │\n",
       "│            ┆              ┆ Osorno       ┆       ┆           ┆             ┆         ┆           │\n",
       "│ 2017       ┆ 102200       ┆ Clínica      ┆ T819  ┆ 1         ┆ 2           ┆ 0       ┆ 0         │\n",
       "│            ┆              ┆ Iquique      ┆       ┆           ┆             ┆         ┆           │\n",
       "│ 2004       ┆ 111221       ┆ Clínica Juan ┆ N63X  ┆ 6         ┆ 7           ┆ 5       ┆ 0         │\n",
       "│            ┆              ┆ Pablo II     ┆       ┆           ┆             ┆         ┆           │\n",
       "│ 2013       ┆ 117101       ┆ Hospital     ┆ A153  ┆ 26        ┆ 525         ┆ 1       ┆ 1         │\n",
       "│            ┆              ┆ Clínico      ┆       ┆           ┆             ┆         ┆           │\n",
       "│            ┆              ┆ Herminda     ┆       ┆           ┆             ┆         ┆           │\n",
       "│            ┆              ┆ Martín…      ┆       ┆           ┆             ┆         ┆           │\n",
       "└────────────┴──────────────┴──────────────┴───────┴───────────┴─────────────┴─────────┴───────────┘"
      ]
     },
     "metadata": {},
     "output_type": "display_data"
    }
   ],
   "source": [
    "display(metricas.sample(10))"
   ]
  },
  {
   "cell_type": "markdown",
   "metadata": {},
   "source": [
    "- Al ver una muestra del calculo realizado, se puede observar la cantidad de egresos, dias de\n",
    "  estada, numero de intervenciones quirurgicas y cantidad de muertos para 10 duplas de\n",
    "  hospitales - diagnosticos distintos.\n"
   ]
  },
  {
   "cell_type": "markdown",
   "metadata": {},
   "source": [
    "Si bien se tienen las metricas calculadas, ahora se quiere responder a las siguientes preguntas:\n",
    "\n",
    "- En qué diagnósticos se destaca cada hospital productivamente? Esto significa, en qué diagnósticos\n",
    "  cada hospital tiene una mayor cantidad de egresos que otros hospitales?\n",
    "\n",
    "- El hospital tiene un desempeño similar dentro de distintos grupos/estratos de hospitales?\n",
    "  El hospital se desempeñara de la misma forma nacionalmente, dentro del estrato público, privado,\n",
    "  etc...?\n",
    "\n",
    "Para responder a la pregunta se realizará un ranking de todos los hospitales para cada\n",
    "diagnóstico y cada año observado. Este ranking se realizará para distintos grupos/estratos de\n",
    "hospitales (Nacional, Hospitales Públicos, Hospitales Privados, Hospitales GRD)\n"
   ]
  },
  {
   "cell_type": "markdown",
   "metadata": {},
   "source": [
    "## Análisis de Estratos\n"
   ]
  },
  {
   "cell_type": "code",
   "execution_count": 6,
   "metadata": {},
   "outputs": [],
   "source": [
    "dict_estratos = build_features.obtener_diccionario_estratos(df_nacional, HOSPITAL_A_ANLIZAR)"
   ]
  },
  {
   "cell_type": "code",
   "execution_count": 7,
   "metadata": {},
   "outputs": [],
   "source": [
    "variables_a_rankear = [\"n_egresos\"]\n",
    "subgrupo_del_ranking = [\"ANO_EGRESO\", \"DIAG1\"]\n",
    "\n",
    "rankings_nacionales = build_features.agregar_ranking_estratos(\n",
    "    metricas, dict_estratos, variables_a_rankear, subgrupo_del_ranking\n",
    ")\n",
    "\n",
    "rankings_hospital_analizado = rankings_nacionales.filter(\n",
    "    pl.col(\"ESTABLECIMIENTO_SALUD\") == HOSPITAL_A_ANLIZAR\n",
    ")"
   ]
  },
  {
   "cell_type": "code",
   "execution_count": 8,
   "metadata": {},
   "outputs": [
    {
     "name": "stderr",
     "output_type": "stream",
     "text": [
      "C:\\Users\\ppizarro\\AppData\\Local\\Temp\\ipykernel_2160\\516069765.py:7: DeprecationWarning: `groupby` is deprecated. It has been renamed to `group_by`.\n",
      "  veinte_mas_relevantes_por_anio = diags_mas_relevantes.groupby([\"ANO_EGRESO\"]).head(20)\n"
     ]
    }
   ],
   "source": [
    "diags_mas_relevantes = rankings_hospital_analizado.filter(\n",
    "    (pl.col(\"ranking_nacionales_n_egresos\") == 1)\n",
    "    & (pl.col(\"n_int_q\") > 0)\n",
    "    & (pl.col(\"ANO_EGRESO\") > 2011)\n",
    ").sort(by=[\"ANO_EGRESO\", \"n_egresos\", \"n_int_q\"], descending=True)\n",
    "\n",
    "veinte_mas_relevantes_por_anio = diags_mas_relevantes.groupby([\"ANO_EGRESO\"]).head(20)"
   ]
  },
  {
   "cell_type": "code",
   "execution_count": 9,
   "metadata": {},
   "outputs": [],
   "source": [
    "DIAGS_MAS_RELEVANTES = veinte_mas_relevantes_por_anio.select(pl.col(\"DIAG1\").unique()).sort(\n",
    "    by=\"DIAG1\"\n",
    ")"
   ]
  },
  {
   "cell_type": "code",
   "execution_count": 10,
   "metadata": {},
   "outputs": [
    {
     "name": "stdout",
     "output_type": "stream",
     "text": [
      "shape: (46, 1)\n",
      "┌───────┐\n",
      "│ DIAG1 │\n",
      "│ ---   │\n",
      "│ str   │\n",
      "╞═══════╡\n",
      "│ C33X  │\n",
      "│ C340  │\n",
      "│ C341  │\n",
      "│ C342  │\n",
      "│ …     │\n",
      "│ Q231  │\n",
      "│ Q676  │\n",
      "│ T820  │\n",
      "│ Z450  │\n",
      "└───────┘\n"
     ]
    }
   ],
   "source": [
    "print(DIAGS_MAS_RELEVANTES)"
   ]
  },
  {
   "cell_type": "markdown",
   "metadata": {},
   "source": [
    "Para hacer un contorl de lo que se calculo, se observará una muestra de 10 hospitales - diagnósticos\n",
    "distintos\n"
   ]
  },
  {
   "cell_type": "code",
   "execution_count": 11,
   "metadata": {},
   "outputs": [
    {
     "data": {
      "text/html": [
       "<div><style>\n",
       ".dataframe > thead > tr > th,\n",
       ".dataframe > tbody > tr > td {\n",
       "  text-align: right;\n",
       "  white-space: pre-wrap;\n",
       "}\n",
       "</style>\n",
       "<small>shape: (10, 27)</small><table border=\"1\" class=\"dataframe\"><thead><tr><th>ANO_EGRESO</th><th>ESTABLECIMIENTO_SALUD</th><th>GLOSA_ESTABLECIMIENTO_SALUD</th><th>Capítulo</th><th>Sección</th><th>Categoría</th><th>Descripción</th><th>DIAG1</th><th>n_egresos</th><th>dias_estada_totales</th><th>n_int_q</th><th>n_muertos</th><th>ranking_nacionales_n_egresos</th><th>total_nacionales_n_egresos</th><th>%_nacionales_n_egresos</th><th>ranking_publicos_n_egresos</th><th>total_publicos_n_egresos</th><th>%_publicos_n_egresos</th><th>ranking_privados_n_egresos</th><th>total_privados_n_egresos</th><th>%_privados_n_egresos</th><th>ranking_grd_n_egresos</th><th>total_grd_n_egresos</th><th>%_grd_n_egresos</th><th>ranking_interno_n_egresos</th><th>total_interno_n_egresos</th><th>%_interno_n_egresos</th></tr><tr><td>i64</td><td>i64</td><td>str</td><td>str</td><td>str</td><td>str</td><td>str</td><td>str</td><td>u32</td><td>i64</td><td>i64</td><td>i64</td><td>u32</td><td>u32</td><td>f64</td><td>u32</td><td>u32</td><td>f64</td><td>u32</td><td>u32</td><td>f64</td><td>u32</td><td>u32</td><td>f64</td><td>u32</td><td>u32</td><td>f64</td></tr></thead><tbody><tr><td>2001</td><td>110100</td><td>&quot;Hospital San J…</td><td>&quot;Cap.19  LESION…</td><td>&quot;S70-S79  TRAUM…</td><td>&quot;S70 TRAUMATISM…</td><td>&quot;Contusión de l…</td><td>&quot;S700&quot;</td><td>1</td><td>6</td><td>0</td><td>0</td><td>88</td><td>215</td><td>0.004651</td><td>70</td><td>168</td><td>0.005952</td><td>null</td><td>null</td><td>null</td><td>34</td><td>84</td><td>0.011905</td><td>null</td><td>null</td><td>null</td></tr><tr><td>2015</td><td>114223</td><td>&quot;Clínica Vespuc…</td><td>&quot;Cap.13  ENFERM…</td><td>&quot;M20-M25  OTROS…</td><td>&quot;M20 DEFORMIDAD…</td><td>&quot;Hallux rigidus…</td><td>&quot;M202&quot;</td><td>1</td><td>1</td><td>1</td><td>0</td><td>22</td><td>138</td><td>0.007246</td><td>null</td><td>null</td><td>null</td><td>18</td><td>121</td><td>0.008264</td><td>null</td><td>null</td><td>null</td><td>null</td><td>null</td><td>null</td></tr><tr><td>2014</td><td>113130</td><td>&quot;Hospital Dr. E…</td><td>&quot;Cap.19  LESION…</td><td>&quot;S90-S99  TRAUM…</td><td>&quot;S92 FRACTURA D…</td><td>&quot;Fractura de lo…</td><td>&quot;S924&quot;</td><td>1</td><td>1</td><td>0</td><td>0</td><td>66</td><td>187</td><td>0.005348</td><td>39</td><td>104</td><td>0.009615</td><td>null</td><td>null</td><td>null</td><td>29</td><td>83</td><td>0.012048</td><td>null</td><td>null</td><td>null</td></tr><tr><td>2006</td><td>105208</td><td>&quot;Clínica Region…</td><td>&quot;Cap.19  LESION…</td><td>&quot;T00-T07  TRAUM…</td><td>&quot;T02 FRACTURAS …</td><td>&quot;Fracturas que …</td><td>&quot;T021&quot;</td><td>1</td><td>2</td><td>1</td><td>0</td><td>19</td><td>35</td><td>0.028571</td><td>null</td><td>null</td><td>null</td><td>7</td><td>18</td><td>0.055556</td><td>null</td><td>null</td><td>null</td><td>null</td><td>null</td><td>null</td></tr><tr><td>2008</td><td>114103</td><td>&quot;Hospital Padre…</td><td>&quot;Cap.13  ENFERM…</td><td>&quot;M65-M68  TRAST…</td><td>&quot;M66 RUPTURA ES…</td><td>&quot;Ruptura espont…</td><td>&quot;M663&quot;</td><td>4</td><td>9</td><td>3</td><td>0</td><td>1</td><td>30</td><td>0.133333</td><td>1</td><td>13</td><td>0.307692</td><td>null</td><td>null</td><td>null</td><td>1</td><td>13</td><td>0.307692</td><td>null</td><td>null</td><td>null</td></tr><tr><td>2001</td><td>124105</td><td>&quot;Hospital de Pu…</td><td>&quot;Cap.19  LESION…</td><td>&quot;S50-S59  TRAUM…</td><td>&quot;S53 LUXACIÓN, …</td><td>&quot;Luxación del c…</td><td>&quot;S531&quot;</td><td>3</td><td>5</td><td>1</td><td>0</td><td>48</td><td>400</td><td>0.0075</td><td>36</td><td>287</td><td>0.010453</td><td>null</td><td>null</td><td>null</td><td>32</td><td>237</td><td>0.012658</td><td>null</td><td>null</td><td>null</td></tr><tr><td>2001</td><td>107100</td><td>&quot;Hospital Dr. G…</td><td>&quot;Cap.09  ENFERM…</td><td>&quot;I80-I89  ENFER…</td><td>&quot;I80 FLEBITIS Y…</td><td>&quot;Flebitis y tro…</td><td>&quot;I809&quot;</td><td>3</td><td>21</td><td>0</td><td>0</td><td>18</td><td>223</td><td>0.013453</td><td>17</td><td>185</td><td>0.016216</td><td>null</td><td>null</td><td>null</td><td>16</td><td>144</td><td>0.020833</td><td>null</td><td>null</td><td>null</td></tr><tr><td>2008</td><td>104203</td><td>&quot;Centro de Salu…</td><td>&quot;Cap.19  LESION…</td><td>&quot;S60-S69  TRAUM…</td><td>&quot;S68 AMPUTACIÓN…</td><td>&quot;Amputación tra…</td><td>&quot;S680&quot;</td><td>2</td><td>4</td><td>1</td><td>0</td><td>24</td><td>193</td><td>0.010363</td><td>null</td><td>null</td><td>null</td><td>10</td><td>101</td><td>0.019802</td><td>null</td><td>null</td><td>null</td><td>null</td><td>null</td><td>null</td></tr><tr><td>2002</td><td>109201</td><td>&quot;Clínica Dávila…</td><td>&quot;Cap.13  ENFERM…</td><td>&quot;M50-M54  OTRAS…</td><td>&quot;M51 OTROS TRAS…</td><td>&quot;Otros desplaza…</td><td>&quot;M512&quot;</td><td>187</td><td>597</td><td>172</td><td>0</td><td>4</td><td>5443</td><td>0.034356</td><td>null</td><td>null</td><td>null</td><td>2</td><td>3117</td><td>0.059994</td><td>null</td><td>null</td><td>null</td><td>null</td><td>null</td><td>null</td></tr><tr><td>2019</td><td>112101</td><td>&quot;Hospital Dr. L…</td><td>&quot;Cap.02  NEOPLA…</td><td>&quot;C76-C80  NEOPL…</td><td>&quot;C80 TUMOR MALI…</td><td>&quot;Tumor maligno …</td><td>&quot;C800&quot;</td><td>5</td><td>76</td><td>0</td><td>2</td><td>6</td><td>108</td><td>0.046296</td><td>4</td><td>69</td><td>0.072464</td><td>null</td><td>null</td><td>null</td><td>4</td><td>66</td><td>0.075758</td><td>null</td><td>null</td><td>null</td></tr></tbody></table></div>"
      ],
      "text/plain": [
       "shape: (10, 27)\n",
       "┌───────────┬───────────┬───────────┬───────────┬───┬───────────┬───────────┬───────────┬──────────┐\n",
       "│ ANO_EGRES ┆ ESTABLECI ┆ GLOSA_EST ┆ Capítulo  ┆ … ┆ %_grd_n_e ┆ ranking_i ┆ total_int ┆ %_intern │\n",
       "│ O         ┆ MIENTO_SA ┆ ABLECIMIE ┆ ---       ┆   ┆ gresos    ┆ nterno_n_ ┆ erno_n_eg ┆ o_n_egre │\n",
       "│ ---       ┆ LUD       ┆ NTO_SALUD ┆ str       ┆   ┆ ---       ┆ egresos   ┆ resos     ┆ sos      │\n",
       "│ i64       ┆ ---       ┆ ---       ┆           ┆   ┆ f64       ┆ ---       ┆ ---       ┆ ---      │\n",
       "│           ┆ i64       ┆ str       ┆           ┆   ┆           ┆ u32       ┆ u32       ┆ f64      │\n",
       "╞═══════════╪═══════════╪═══════════╪═══════════╪═══╪═══════════╪═══════════╪═══════════╪══════════╡\n",
       "│ 2001      ┆ 110100    ┆ Hospital  ┆ Cap.19    ┆ … ┆ 0.011905  ┆ null      ┆ null      ┆ null     │\n",
       "│           ┆           ┆ San Juan  ┆ LESIONES  ┆   ┆           ┆           ┆           ┆          │\n",
       "│           ┆           ┆ de Dios   ┆ TRAUMÁTIC ┆   ┆           ┆           ┆           ┆          │\n",
       "│           ┆           ┆ (Santi…   ┆ AS, EN…   ┆   ┆           ┆           ┆           ┆          │\n",
       "│ 2015      ┆ 114223    ┆ Clínica   ┆ Cap.13    ┆ … ┆ null      ┆ null      ┆ null      ┆ null     │\n",
       "│           ┆           ┆ Vespucio  ┆ ENFERMEDA ┆   ┆           ┆           ┆           ┆          │\n",
       "│           ┆           ┆           ┆ DES DEL   ┆   ┆           ┆           ┆           ┆          │\n",
       "│           ┆           ┆           ┆ APARATO…  ┆   ┆           ┆           ┆           ┆          │\n",
       "│ 2014      ┆ 113130    ┆ Hospital  ┆ Cap.19    ┆ … ┆ 0.012048  ┆ null      ┆ null      ┆ null     │\n",
       "│           ┆           ┆ Dr.       ┆ LESIONES  ┆   ┆           ┆           ┆           ┆          │\n",
       "│           ┆           ┆ Exequiel  ┆ TRAUMÁTIC ┆   ┆           ┆           ┆           ┆          │\n",
       "│           ┆           ┆ González  ┆ AS, EN…   ┆   ┆           ┆           ┆           ┆          │\n",
       "│           ┆           ┆ C…        ┆           ┆   ┆           ┆           ┆           ┆          │\n",
       "│ 2006      ┆ 105208    ┆ Clínica   ┆ Cap.19    ┆ … ┆ null      ┆ null      ┆ null      ┆ null     │\n",
       "│           ┆           ┆ Regional  ┆ LESIONES  ┆   ┆           ┆           ┆           ┆          │\n",
       "│           ┆           ┆ Elqui     ┆ TRAUMÁTIC ┆   ┆           ┆           ┆           ┆          │\n",
       "│           ┆           ┆           ┆ AS, EN…   ┆   ┆           ┆           ┆           ┆          │\n",
       "│ …         ┆ …         ┆ …         ┆ …         ┆ … ┆ …         ┆ …         ┆ …         ┆ …        │\n",
       "│ 2001      ┆ 107100    ┆ Hospital  ┆ Cap.09    ┆ … ┆ 0.020833  ┆ null      ┆ null      ┆ null     │\n",
       "│           ┆           ┆ Dr.       ┆ ENFERMEDA ┆   ┆           ┆           ┆           ┆          │\n",
       "│           ┆           ┆ Gustavo   ┆ DES DEL   ┆   ┆           ┆           ┆           ┆          │\n",
       "│           ┆           ┆ Fricke    ┆ APARATO…  ┆   ┆           ┆           ┆           ┆          │\n",
       "│           ┆           ┆ (Viñ…     ┆           ┆   ┆           ┆           ┆           ┆          │\n",
       "│ 2008      ┆ 104203    ┆ Centro de ┆ Cap.19    ┆ … ┆ null      ┆ null      ┆ null      ┆ null     │\n",
       "│           ┆           ┆ Salud     ┆ LESIONES  ┆   ┆           ┆           ┆           ┆          │\n",
       "│           ┆           ┆ Mutual    ┆ TRAUMÁTIC ┆   ┆           ┆           ┆           ┆          │\n",
       "│           ┆           ┆ CChC      ┆ AS, EN…   ┆   ┆           ┆           ┆           ┆          │\n",
       "│           ┆           ┆ Copi…     ┆           ┆   ┆           ┆           ┆           ┆          │\n",
       "│ 2002      ┆ 109201    ┆ Clínica   ┆ Cap.13    ┆ … ┆ null      ┆ null      ┆ null      ┆ null     │\n",
       "│           ┆           ┆ Dávila    ┆ ENFERMEDA ┆   ┆           ┆           ┆           ┆          │\n",
       "│           ┆           ┆           ┆ DES DEL   ┆   ┆           ┆           ┆           ┆          │\n",
       "│           ┆           ┆           ┆ APARATO…  ┆   ┆           ┆           ┆           ┆          │\n",
       "│ 2019      ┆ 112101    ┆ Hospital  ┆ Cap.02    ┆ … ┆ 0.075758  ┆ null      ┆ null      ┆ null     │\n",
       "│           ┆           ┆ Dr. Luis  ┆ NEOPLASIA ┆   ┆           ┆           ┆           ┆          │\n",
       "│           ┆           ┆ Tisné B.  ┆ S         ┆   ┆           ┆           ┆           ┆          │\n",
       "│           ┆           ┆ (Sant…    ┆ (C00-D49) ┆   ┆           ┆           ┆           ┆          │\n",
       "└───────────┴───────────┴───────────┴───────────┴───┴───────────┴───────────┴───────────┴──────────┘"
      ]
     },
     "metadata": {},
     "output_type": "display_data"
    }
   ],
   "source": [
    "display(rankings_nacionales.sample(10))"
   ]
  },
  {
   "cell_type": "markdown",
   "metadata": {},
   "source": [
    "En la muestra anterior se puede observar las métricas previamente calculada, y el ranking\n",
    "respectivo que tiene cada hospital para diagnósticos en cada año específico.\n"
   ]
  },
  {
   "cell_type": "code",
   "execution_count": 12,
   "metadata": {},
   "outputs": [],
   "source": [
    "rankings_nacionales.to_pandas().to_csv(\n",
    "    \"../data/interim/ranking_nacional_egresos.csv\",\n",
    "    sep=\";\",\n",
    "    decimal=\".\",\n",
    "    encoding=\"latin-1\",\n",
    "    index=False,\n",
    ")\n",
    "\n",
    "rankings_hospital_analizado.to_pandas().to_csv(\n",
    "    \"../data/interim/ranking_torax_egresos.csv\",\n",
    "    sep=\";\",\n",
    "    decimal=\".\",\n",
    "    encoding=\"latin-1\",\n",
    "    index=False,\n",
    ")"
   ]
  },
  {
   "cell_type": "markdown",
   "metadata": {},
   "source": [
    "## Metricas para personas sobre 14 años\n",
    "\n",
    "En este análisis se quiere ver el ranking de egresos pero solamente tomando en cuenta a personas\n",
    "mayores a 14 años. Esto, para dilucidar si el hospital del tórax es altamente relevante para tratar\n",
    "patologías congénitas de adultos.\n"
   ]
  },
  {
   "cell_type": "code",
   "execution_count": 14,
   "metadata": {},
   "outputs": [],
   "source": [
    "df_nacional_mayores_a_14 = df_nacional.filter(pl.col(\"EDAD_A_OS\") > 14)"
   ]
  },
  {
   "cell_type": "code",
   "execution_count": 15,
   "metadata": {},
   "outputs": [],
   "source": [
    "metricas_sobre_14 = build_features.obtener_metricas_egresos(\n",
    "    df_nacional_mayores_a_14, AGRUPACION\n",
    ").collect()"
   ]
  },
  {
   "cell_type": "code",
   "execution_count": 16,
   "metadata": {},
   "outputs": [],
   "source": [
    "variables_a_rankear = [\"n_egresos\"]\n",
    "subgrupo_del_ranking = [\"ANO_EGRESO\", \"DIAG1\"]\n",
    "\n",
    "rankings_nacionales_sobre_14 = build_features.agregar_ranking_estratos(\n",
    "    metricas_sobre_14, dict_estratos, variables_a_rankear, subgrupo_del_ranking\n",
    ")\n",
    "\n",
    "diags_congenitos_relevantes = rankings_nacionales_sobre_14.filter(\n",
    "    (pl.col(\"DIAG1\").is_in([\"Q230\", \"Q211\", \"Q231\"])) & (pl.col(\"ANO_EGRESO\") == 2019)\n",
    ")"
   ]
  },
  {
   "cell_type": "code",
   "execution_count": 17,
   "metadata": {},
   "outputs": [],
   "source": [
    "diags_congenitos_relevantes.to_pandas().to_csv(\n",
    "    \"../data/interim/diags_congenitas_sobre_14_egresos.csv\",\n",
    "    sep=\";\",\n",
    "    decimal=\".\",\n",
    "    encoding=\"latin-1\",\n",
    "    index=False,\n",
    ")"
   ]
  },
  {
   "cell_type": "markdown",
   "metadata": {},
   "source": [
    "## 3. Análisis de procedimientos DEIS\n",
    "\n",
    "En este análisis se quieren responder las siguientes preguntas:\n",
    "\n",
    "1. ¿Cuál es el procedimiento más frecuente dentro de los pacientes que se les realizó un procedimiento\n",
    "   quirúrgico?\n"
   ]
  },
  {
   "cell_type": "code",
   "execution_count": 18,
   "metadata": {},
   "outputs": [
    {
     "name": "stderr",
     "output_type": "stream",
     "text": [
      "C:\\Users\\ppizarro\\AppData\\Local\\Temp\\ipykernel_2160\\3397463805.py:3: DeprecationWarning: `groupby` is deprecated. It has been renamed to `group_by`.\n",
      "  .groupby([\"ANO_EGRESO\", \"ESTABLECIMIENTO_SALUD\", \"GLOSA_PROCED_PPAL\"])\n"
     ]
    }
   ],
   "source": [
    "proced = (\n",
    "    df_nacional.filter(pl.col(\"INTERV_Q\") == 1)\n",
    "    .groupby([\"ANO_EGRESO\", \"ESTABLECIMIENTO_SALUD\", \"GLOSA_PROCED_PPAL\"])\n",
    "    .agg(pl.count())\n",
    ").collect()"
   ]
  },
  {
   "cell_type": "code",
   "execution_count": 19,
   "metadata": {},
   "outputs": [
    {
     "data": {
      "text/html": [
       "<div><style>\n",
       ".dataframe > thead > tr > th,\n",
       ".dataframe > tbody > tr > td {\n",
       "  text-align: right;\n",
       "  white-space: pre-wrap;\n",
       "}\n",
       "</style>\n",
       "<small>shape: (10_757, 4)</small><table border=\"1\" class=\"dataframe\"><thead><tr><th>ANO_EGRESO</th><th>ESTABLECIMIENTO_SALUD</th><th>GLOSA_PROCED_PPAL</th><th>count</th></tr><tr><td>i64</td><td>i64</td><td>str</td><td>u32</td></tr></thead><tbody><tr><td>2001</td><td>103203</td><td>null</td><td>5921</td></tr><tr><td>2001</td><td>107212</td><td>null</td><td>1504</td></tr><tr><td>2001</td><td>106100</td><td>null</td><td>9333</td></tr><tr><td>2001</td><td>107100</td><td>null</td><td>9959</td></tr><tr><td>2001</td><td>121111</td><td>null</td><td>309</td></tr><tr><td>2001</td><td>105103</td><td>null</td><td>262</td></tr><tr><td>2001</td><td>117101</td><td>null</td><td>1079</td></tr><tr><td>2001</td><td>112239</td><td>null</td><td>5848</td></tr><tr><td>2001</td><td>103210</td><td>null</td><td>1699</td></tr><tr><td>2001</td><td>113180</td><td>null</td><td>8111</td></tr><tr><td>2001</td><td>122105</td><td>null</td><td>95</td></tr><tr><td>2001</td><td>125100</td><td>null</td><td>1773</td></tr><tr><td>&hellip;</td><td>&hellip;</td><td>&hellip;</td><td>&hellip;</td></tr><tr><td>2020</td><td>119203</td><td>&quot;Cirugía bucal&quot;</td><td>1</td></tr><tr><td>2020</td><td>123203</td><td>&quot;Sigmoidoscopia…</td><td>2</td></tr><tr><td>2020</td><td>123100</td><td>&quot;Devolvulacion …</td><td>1</td></tr><tr><td>2020</td><td>123203</td><td>&quot;Gastroduodenos…</td><td>1</td></tr><tr><td>2020</td><td>117225</td><td>&quot;Enteroscopía&quot;</td><td>1</td></tr><tr><td>2020</td><td>105100</td><td>&quot;Raspado uterin…</td><td>1</td></tr><tr><td>2020</td><td>109101</td><td>&quot;Infiltraciones…</td><td>1</td></tr><tr><td>2020</td><td>121202</td><td>&quot;Estudio electr…</td><td>1</td></tr><tr><td>2020</td><td>122202</td><td>&quot;Cistoscopia y/…</td><td>1</td></tr><tr><td>2020</td><td>112530</td><td>&quot;Radiografía de…</td><td>1</td></tr><tr><td>2020</td><td>111100</td><td>&quot;Ano-recto-sigm…</td><td>1</td></tr><tr><td>2020</td><td>133150</td><td>&quot;Trombolisis ar…</td><td>1</td></tr></tbody></table></div>"
      ],
      "text/plain": [
       "shape: (10_757, 4)\n",
       "┌────────────┬───────────────────────┬───────────────────────────────────┬───────┐\n",
       "│ ANO_EGRESO ┆ ESTABLECIMIENTO_SALUD ┆ GLOSA_PROCED_PPAL                 ┆ count │\n",
       "│ ---        ┆ ---                   ┆ ---                               ┆ ---   │\n",
       "│ i64        ┆ i64                   ┆ str                               ┆ u32   │\n",
       "╞════════════╪═══════════════════════╪═══════════════════════════════════╪═══════╡\n",
       "│ 2001       ┆ 103203                ┆ null                              ┆ 5921  │\n",
       "│ 2001       ┆ 107212                ┆ null                              ┆ 1504  │\n",
       "│ 2001       ┆ 106100                ┆ null                              ┆ 9333  │\n",
       "│ 2001       ┆ 107100                ┆ null                              ┆ 9959  │\n",
       "│ …          ┆ …                     ┆ …                                 ┆ …     │\n",
       "│ 2020       ┆ 122202                ┆ Cistoscopia y/o uretrocistoscopi… ┆ 1     │\n",
       "│ 2020       ┆ 112530                ┆ Radiografía de esófago, estómago… ┆ 1     │\n",
       "│ 2020       ┆ 111100                ┆ Ano-recto-sigmoidoscopia en adul… ┆ 1     │\n",
       "│ 2020       ┆ 133150                ┆ Trombolisis arterial periferica   ┆ 1     │\n",
       "└────────────┴───────────────────────┴───────────────────────────────────┴───────┘"
      ]
     },
     "metadata": {},
     "output_type": "display_data"
    }
   ],
   "source": [
    "display(proced)"
   ]
  },
  {
   "cell_type": "markdown",
   "metadata": {},
   "source": [
    "Los resultados muestran el desglose por año y recinto hospitalario junto a la cantidad de\n",
    "procedimientos realizados en cada intervención quirúrgica. Sin embargo, se puede observar que\n",
    "existe una cantidad importante de casos donde la glosa del procedimiento fue nula.\n",
    "\n",
    "Ahora, se quiere calcular cuántas intervenciones quirúrgicas carecen de una glosa de procedimiento.\n"
   ]
  },
  {
   "cell_type": "code",
   "execution_count": 20,
   "metadata": {},
   "outputs": [
    {
     "name": "stderr",
     "output_type": "stream",
     "text": [
      "C:\\Users\\ppizarro\\AppData\\Local\\Temp\\ipykernel_2160\\989951252.py:1: DeprecationWarning: `groupby` is deprecated. It has been renamed to `group_by`.\n",
      "  display(proced.groupby(\"GLOSA_PROCED_PPAL\").agg(pl.col(\"count\").sum()).sort(\"count\"))\n"
     ]
    },
    {
     "data": {
      "text/html": [
       "<div><style>\n",
       ".dataframe > thead > tr > th,\n",
       ".dataframe > tbody > tr > td {\n",
       "  text-align: right;\n",
       "  white-space: pre-wrap;\n",
       "}\n",
       "</style>\n",
       "<small>shape: (422, 2)</small><table border=\"1\" class=\"dataframe\"><thead><tr><th>GLOSA_PROCED_PPAL</th><th>count</th></tr><tr><td>str</td><td>u32</td></tr></thead><tbody><tr><td>&quot;Criocoagulacio…</td><td>1</td></tr><tr><td>&quot;Test de relaci…</td><td>1</td></tr><tr><td>&quot;Rinomanometria…</td><td>1</td></tr><tr><td>&quot;E.E.G. Post-pr…</td><td>1</td></tr><tr><td>&quot;Extraccion per…</td><td>1</td></tr><tr><td>&quot;Glaucoma, cicl…</td><td>1</td></tr><tr><td>&quot;Radiografía Pa…</td><td>1</td></tr><tr><td>&quot;E.E.G. de 16 o…</td><td>1</td></tr><tr><td>&quot;Aplicación de …</td><td>1</td></tr><tr><td>&quot;Reflujo acido,…</td><td>1</td></tr><tr><td>&quot;Desfibrilacion…</td><td>1</td></tr><tr><td>&quot;Electrocardiog…</td><td>1</td></tr><tr><td>&hellip;</td><td>&hellip;</td></tr><tr><td>&quot;Anestesia gene…</td><td>2932</td></tr><tr><td>&quot;Biopsia endome…</td><td>2975</td></tr><tr><td>&quot;Colangiopancre…</td><td>3605</td></tr><tr><td>&quot;Monitoreo feta…</td><td>4055</td></tr><tr><td>&quot;Monitoreo basa…</td><td>4875</td></tr><tr><td>&quot;Anestesia peri…</td><td>5308</td></tr><tr><td>&quot;E.C.G. de repo…</td><td>5684</td></tr><tr><td>&quot;Ecografía como…</td><td>7519</td></tr><tr><td>&quot;Instilacion ve…</td><td>7685</td></tr><tr><td>&quot;Código no exis…</td><td>11155</td></tr><tr><td>&quot;Apoyo fluorosc…</td><td>15775</td></tr><tr><td>null</td><td>12382642</td></tr></tbody></table></div>"
      ],
      "text/plain": [
       "shape: (422, 2)\n",
       "┌───────────────────────────────────┬──────────┐\n",
       "│ GLOSA_PROCED_PPAL                 ┆ count    │\n",
       "│ ---                               ┆ ---      │\n",
       "│ str                               ┆ u32      │\n",
       "╞═══════════════════════════════════╪══════════╡\n",
       "│ Criocoagulacion conjuntival, cor… ┆ 1        │\n",
       "│ Test de relaciones objetales      ┆ 1        │\n",
       "│ Rinomanometria c/s vasocontricto… ┆ 1        │\n",
       "│ E.E.G. Post-privacion de sueno (… ┆ 1        │\n",
       "│ …                                 ┆ …        │\n",
       "│ Instilacion vesical (incluye col… ┆ 7685     │\n",
       "│ Código no existe actualmente      ┆ 11155    │\n",
       "│ Apoyo fluoroscópico a procedimie… ┆ 15775    │\n",
       "│ null                              ┆ 12382642 │\n",
       "└───────────────────────────────────┴──────────┘"
      ]
     },
     "metadata": {},
     "output_type": "display_data"
    }
   ],
   "source": [
    "display(proced.groupby(\"GLOSA_PROCED_PPAL\").agg(pl.col(\"count\").sum()).sort(\"count\"))"
   ]
  },
  {
   "cell_type": "markdown",
   "metadata": {},
   "source": [
    "Por lo tanto, 12382642 de todas las intervenciones quirúrgicas carecen de una glosa de procedimiento.\n"
   ]
  },
  {
   "cell_type": "code",
   "execution_count": 21,
   "metadata": {},
   "outputs": [
    {
     "data": {
      "text/plain": [
       "<xlsxwriter.workbook.Workbook at 0x2b0e930c2d0>"
      ]
     },
     "execution_count": 21,
     "metadata": {},
     "output_type": "execute_result"
    }
   ],
   "source": [
    "proced.write_excel(\"../data/interim/conteo_procedimientos.xlsx\")"
   ]
  }
 ],
 "metadata": {
  "kernelspec": {
   "display_name": "egresos-deis",
   "language": "python",
   "name": "python3"
  },
  "language_info": {
   "codemirror_mode": {
    "name": "ipython",
    "version": 3
   },
   "file_extension": ".py",
   "mimetype": "text/x-python",
   "name": "python",
   "nbconvert_exporter": "python",
   "pygments_lexer": "ipython3",
   "version": "3.11.5"
  },
  "orig_nbformat": 4
 },
 "nbformat": 4,
 "nbformat_minor": 2
}
