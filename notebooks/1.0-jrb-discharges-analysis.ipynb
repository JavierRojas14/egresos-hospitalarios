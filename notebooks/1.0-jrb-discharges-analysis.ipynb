{
 "cells": [
  {
   "cell_type": "code",
   "execution_count": 1,
   "metadata": {},
   "outputs": [],
   "source": [
    "import sys\n",
    "import os\n",
    "\n",
    "project_root = os.path.abspath('..')\n",
    "if project_root not in sys.path:\n",
    "    sys.path.append(project_root)\n",
    "\n",
    "%load_ext autoreload\n",
    "%autoreload 2\n"
   ]
  },
  {
   "cell_type": "code",
   "execution_count": 2,
   "metadata": {},
   "outputs": [],
   "source": [
    "import pandas as pd\n",
    "import numpy as np\n",
    "import polars as pl\n",
    "\n",
    "import matplotlib.pyplot as plt\n",
    "import seaborn as sns\n",
    "\n",
    "from src.data import make_dataset\n",
    "from src.features import build_features\n",
    "from src.visualization import visualize\n",
    "\n",
    "sns.set_style()\n",
    "plt.rcParams[\"figure.figsize\"] = (12, 6)\n",
    "\n",
    "HOSPITAL_A_ANLIZAR = 112103  # Este es el Torax"
   ]
  },
  {
   "cell_type": "markdown",
   "metadata": {},
   "source": [
    "## 1. Obtencion de Métricas de Egresos Hospitalarios\n",
    "\n",
    "En este apartado se quieren calculcar diversas métricas relevantes para el análisis de los\n",
    "egresos hospitalarios en Chile. Las métricas a calcular son las siguientes:\n",
    "\n",
    "1. Cantidad de Egresos Hospitalarios\n",
    "2. Dias de Estada Totales\n",
    "3. Cantidad de Intervenciones Quirúrgicas\n",
    "4. Cantidad de Muertos\n",
    "\n",
    "Todas estas métricas serán calculadas para cada Año, Establecimiento de Salud y Diagnóstico\n",
    "distinto que exista en la base de datos. Por ejemplo:\n",
    "\n",
    "\"En el año 2019, el Hospital San José (código XXXXXX) tuvo XX egresos, con XX dias estada promedio,\n",
    "con XX intervenciones quirúrgicas y XX muertos para el diagnóstico A24.4\"s\n"
   ]
  },
  {
   "cell_type": "code",
   "execution_count": 3,
   "metadata": {},
   "outputs": [],
   "source": [
    "df_nacional = pl.scan_csv(\n",
    "    \"../data/processed/egresos_procesados.csv\",\n",
    "    infer_schema_length=10000,\n",
    "    null_values=\"Extranjero\",\n",
    ")"
   ]
  },
  {
   "cell_type": "code",
   "execution_count": 4,
   "metadata": {},
   "outputs": [],
   "source": [
    "AGRUPACION = [\n",
    "    \"ANO_EGRESO\",\n",
    "    \"ESTABLECIMIENTO_SALUD\",\n",
    "    \"GLOSA_ESTABLECIMIENTO_SALUD\",\n",
    "    \"DIAG1\",\n",
    "]\n",
    "\n",
    "metricas = build_features.obtener_metricas_egresos(df_nacional, AGRUPACION).collect()"
   ]
  },
  {
   "cell_type": "code",
   "execution_count": 5,
   "metadata": {},
   "outputs": [
    {
     "data": {
      "text/html": [
       "<div><style>\n",
       ".dataframe > thead > tr > th,\n",
       ".dataframe > tbody > tr > td {\n",
       "  text-align: right;\n",
       "  white-space: pre-wrap;\n",
       "}\n",
       "</style>\n",
       "<small>shape: (10, 9)</small><table border=\"1\" class=\"dataframe\"><thead><tr><th>ANO_EGRESO</th><th>ESTABLECIMIENTO_SALUD</th><th>GLOSA_ESTABLECIMIENTO_SALUD</th><th>DIAG1</th><th>n_egresos</th><th>dias_estada_totales</th><th>n_int_q</th><th>n_muertos</th><th>n_pacientes_distintos</th></tr><tr><td>i64</td><td>i64</td><td>str</td><td>str</td><td>u32</td><td>i64</td><td>i64</td><td>i64</td><td>u32</td></tr></thead><tbody><tr><td>2009</td><td>115222</td><td>&quot;Clínica de Sal…</td><td>&quot;A049&quot;</td><td>5</td><td>15</td><td>0</td><td>0</td><td>5</td></tr><tr><td>2001</td><td>117202</td><td>&quot;Consultorio de…</td><td>&quot;M236&quot;</td><td>1</td><td>2</td><td>1</td><td>0</td><td>1</td></tr><tr><td>2002</td><td>119100</td><td>&quot;Hospital Las H…</td><td>&quot;H401&quot;</td><td>7</td><td>29</td><td>6</td><td>0</td><td>7</td></tr><tr><td>2004</td><td>105104</td><td>&quot;Hospital de Sa…</td><td>&quot;K805&quot;</td><td>7</td><td>12</td><td>0</td><td>0</td><td>7</td></tr><tr><td>2019</td><td>112211</td><td>&quot;Clínica Indisa…</td><td>&quot;D839&quot;</td><td>1</td><td>1</td><td>0</td><td>0</td><td>1</td></tr><tr><td>2010</td><td>105100</td><td>&quot;Hospital San J…</td><td>&quot;K420&quot;</td><td>8</td><td>44</td><td>7</td><td>1</td><td>8</td></tr><tr><td>2009</td><td>126100</td><td>&quot;Hospital Clíni…</td><td>&quot;P284&quot;</td><td>6</td><td>27</td><td>0</td><td>0</td><td>6</td></tr><tr><td>2002</td><td>116103</td><td>&quot;Hospital de Hu…</td><td>&quot;N10X&quot;</td><td>12</td><td>48</td><td>0</td><td>0</td><td>2</td></tr><tr><td>2018</td><td>118100</td><td>&quot;Hospital Clíni…</td><td>&quot;R18X&quot;</td><td>7</td><td>11</td><td>0</td><td>0</td><td>6</td></tr><tr><td>2017</td><td>124105</td><td>&quot;Hospital de Pu…</td><td>&quot;H604&quot;</td><td>3</td><td>3</td><td>3</td><td>0</td><td>3</td></tr></tbody></table></div>"
      ],
      "text/plain": [
       "shape: (10, 9)\n",
       "┌────────────┬────────────┬────────────┬───────┬───┬────────────┬─────────┬───────────┬────────────┐\n",
       "│ ANO_EGRESO ┆ ESTABLECIM ┆ GLOSA_ESTA ┆ DIAG1 ┆ … ┆ dias_estad ┆ n_int_q ┆ n_muertos ┆ n_paciente │\n",
       "│ ---        ┆ IENTO_SALU ┆ BLECIMIENT ┆ ---   ┆   ┆ a_totales  ┆ ---     ┆ ---       ┆ s_distinto │\n",
       "│ i64        ┆ D          ┆ O_SALUD    ┆ str   ┆   ┆ ---        ┆ i64     ┆ i64       ┆ s          │\n",
       "│            ┆ ---        ┆ ---        ┆       ┆   ┆ i64        ┆         ┆           ┆ ---        │\n",
       "│            ┆ i64        ┆ str        ┆       ┆   ┆            ┆         ┆           ┆ u32        │\n",
       "╞════════════╪════════════╪════════════╪═══════╪═══╪════════════╪═════════╪═══════════╪════════════╡\n",
       "│ 2009       ┆ 115222     ┆ Clínica de ┆ A049  ┆ … ┆ 15         ┆ 0       ┆ 0         ┆ 5          │\n",
       "│            ┆            ┆ Salud      ┆       ┆   ┆            ┆         ┆           ┆            │\n",
       "│            ┆            ┆ Integral   ┆       ┆   ┆            ┆         ┆           ┆            │\n",
       "│ 2001       ┆ 117202     ┆ Consultori ┆ M236  ┆ … ┆ 2          ┆ 1       ┆ 0         ┆ 1          │\n",
       "│            ┆            ┆ o de Salud ┆       ┆   ┆            ┆         ┆           ┆            │\n",
       "│            ┆            ┆ AChS       ┆       ┆   ┆            ┆         ┆           ┆            │\n",
       "│            ┆            ┆ (Chill…    ┆       ┆   ┆            ┆         ┆           ┆            │\n",
       "│ 2002       ┆ 119100     ┆ Hospital   ┆ H401  ┆ … ┆ 29         ┆ 6       ┆ 0         ┆ 7          │\n",
       "│            ┆            ┆ Las        ┆       ┆   ┆            ┆         ┆           ┆            │\n",
       "│            ┆            ┆ Higueras   ┆       ┆   ┆            ┆         ┆           ┆            │\n",
       "│            ┆            ┆ (Talcahuan ┆       ┆   ┆            ┆         ┆           ┆            │\n",
       "│            ┆            ┆ …          ┆       ┆   ┆            ┆         ┆           ┆            │\n",
       "│ 2004       ┆ 105104     ┆ Hospital   ┆ K805  ┆ … ┆ 12         ┆ 0       ┆ 0         ┆ 7          │\n",
       "│            ┆            ┆ de         ┆       ┆   ┆            ┆         ┆           ┆            │\n",
       "│            ┆            ┆ Salamanca  ┆       ┆   ┆            ┆         ┆           ┆            │\n",
       "│ …          ┆ …          ┆ …          ┆ …     ┆ … ┆ …          ┆ …       ┆ …         ┆ …          │\n",
       "│ 2009       ┆ 126100     ┆ Hospital   ┆ P284  ┆ … ┆ 27         ┆ 0       ┆ 0         ┆ 6          │\n",
       "│            ┆            ┆ Clínico de ┆       ┆   ┆            ┆         ┆           ┆            │\n",
       "│            ┆            ┆ Magallanes ┆       ┆   ┆            ┆         ┆           ┆            │\n",
       "│            ┆            ┆ D…         ┆       ┆   ┆            ┆         ┆           ┆            │\n",
       "│ 2002       ┆ 116103     ┆ Hospital   ┆ N10X  ┆ … ┆ 48         ┆ 0       ┆ 0         ┆ 2          │\n",
       "│            ┆            ┆ de Hualañé ┆       ┆   ┆            ┆         ┆           ┆            │\n",
       "│ 2018       ┆ 118100     ┆ Hospital   ┆ R18X  ┆ … ┆ 11         ┆ 0       ┆ 0         ┆ 6          │\n",
       "│            ┆            ┆ Clínico    ┆       ┆   ┆            ┆         ┆           ┆            │\n",
       "│            ┆            ┆ Regional   ┆       ┆   ┆            ┆         ┆           ┆            │\n",
       "│            ┆            ┆ Dr. Gu…    ┆       ┆   ┆            ┆         ┆           ┆            │\n",
       "│ 2017       ┆ 124105     ┆ Hospital   ┆ H604  ┆ … ┆ 3          ┆ 3       ┆ 0         ┆ 3          │\n",
       "│            ┆            ┆ de Puerto  ┆       ┆   ┆            ┆         ┆           ┆            │\n",
       "│            ┆            ┆ Montt      ┆       ┆   ┆            ┆         ┆           ┆            │\n",
       "└────────────┴────────────┴────────────┴───────┴───┴────────────┴─────────┴───────────┴────────────┘"
      ]
     },
     "metadata": {},
     "output_type": "display_data"
    }
   ],
   "source": [
    "display(metricas.sample(10))"
   ]
  },
  {
   "cell_type": "markdown",
   "metadata": {},
   "source": [
    "- Al ver una muestra del calculo realizado, se puede observar la cantidad de egresos, dias de\n",
    "  estada, numero de intervenciones quirurgicas y cantidad de muertos para 10 duplas de\n",
    "  hospitales - diagnosticos distintos.\n"
   ]
  },
  {
   "cell_type": "markdown",
   "metadata": {},
   "source": [
    "Si bien se tienen las metricas calculadas, ahora se quiere responder a las siguientes preguntas:\n",
    "\n",
    "- En qué diagnósticos se destaca cada hospital productivamente? Esto significa, en qué diagnósticos\n",
    "  cada hospital tiene una mayor cantidad de egresos que otros hospitales?\n",
    "\n",
    "- El hospital tiene un desempeño similar dentro de distintos grupos/estratos de hospitales?\n",
    "  El hospital se desempeñara de la misma forma nacionalmente, dentro del estrato público, privado,\n",
    "  etc...?\n",
    "\n",
    "Para responder a la pregunta se realizará un ranking de todos los hospitales para cada\n",
    "diagnóstico y cada año observado. Este ranking se realizará para distintos grupos/estratos de\n",
    "hospitales (Nacional, Hospitales Públicos, Hospitales Privados, Hospitales GRD)\n"
   ]
  },
  {
   "cell_type": "markdown",
   "metadata": {},
   "source": [
    "## 2. Análisis de Estratos\n",
    "\n",
    "En este análisis se quiere observar el ranking de cada hospital/clínica del país para cada \n",
    "año y diagnóstico observado. Además, el ranking se realizará en los siguientes estratos:\n",
    "\n",
    "1. Nacional\n",
    "2. Públicos\n",
    "3. Privados\n",
    "4. Adscritos a GRD\n",
    "5. INT"
   ]
  },
  {
   "cell_type": "code",
   "execution_count": 6,
   "metadata": {},
   "outputs": [],
   "source": [
    "dict_estratos = build_features.obtener_diccionario_estratos(df_nacional, HOSPITAL_A_ANLIZAR)"
   ]
  },
  {
   "cell_type": "code",
   "execution_count": 7,
   "metadata": {},
   "outputs": [],
   "source": [
    "variables_a_rankear = [\"n_egresos\"]\n",
    "subgrupo_del_ranking = [\"ANO_EGRESO\", \"DIAG1\"]\n",
    "\n",
    "rankings_nacionales = build_features.agregar_ranking_estratos(\n",
    "    metricas, dict_estratos, variables_a_rankear, subgrupo_del_ranking\n",
    ")\n",
    "\n",
    "rankings_hospital_analizado = rankings_nacionales.filter(\n",
    "    pl.col(\"ESTABLECIMIENTO_SALUD\") == HOSPITAL_A_ANLIZAR\n",
    ")"
   ]
  },
  {
   "cell_type": "code",
   "execution_count": 8,
   "metadata": {},
   "outputs": [
    {
     "data": {
      "text/html": [
       "<div><style>\n",
       ".dataframe > thead > tr > th,\n",
       ".dataframe > tbody > tr > td {\n",
       "  text-align: right;\n",
       "  white-space: pre-wrap;\n",
       "}\n",
       "</style>\n",
       "<small>shape: (8, 28)</small><table border=\"1\" class=\"dataframe\"><thead><tr><th>ANO_EGRESO</th><th>ESTABLECIMIENTO_SALUD</th><th>GLOSA_ESTABLECIMIENTO_SALUD</th><th>Capítulo</th><th>Sección</th><th>Categoría</th><th>Descripción</th><th>DIAG1</th><th>n_egresos</th><th>dias_estada_totales</th><th>n_int_q</th><th>n_muertos</th><th>n_pacientes_distintos</th><th>ranking_nacionales_n_egresos</th><th>total_nacionales_n_egresos</th><th>%_nacionales_n_egresos</th><th>ranking_publicos_n_egresos</th><th>total_publicos_n_egresos</th><th>%_publicos_n_egresos</th><th>ranking_privados_n_egresos</th><th>total_privados_n_egresos</th><th>%_privados_n_egresos</th><th>ranking_grd_n_egresos</th><th>total_grd_n_egresos</th><th>%_grd_n_egresos</th><th>ranking_interno_n_egresos</th><th>total_interno_n_egresos</th><th>%_interno_n_egresos</th></tr><tr><td>i64</td><td>i64</td><td>str</td><td>str</td><td>str</td><td>str</td><td>str</td><td>str</td><td>u32</td><td>i64</td><td>i64</td><td>i64</td><td>u32</td><td>u32</td><td>u32</td><td>f64</td><td>u32</td><td>u32</td><td>f64</td><td>u32</td><td>u32</td><td>f64</td><td>u32</td><td>u32</td><td>f64</td><td>u32</td><td>u32</td><td>f64</td></tr></thead><tbody><tr><td>2020</td><td>104103</td><td>&quot;Hospital Provi…</td><td>&quot;Cap.21  FACTOR…</td><td>&quot;Z69-Z76  PERSO…</td><td>&quot;Z76 PERSONAS E…</td><td>&quot;Personas en co…</td><td>&quot;Z769&quot;</td><td>6</td><td>32</td><td>2</td><td>0</td><td>6</td><td>1</td><td>15</td><td>0.4</td><td>1</td><td>14</td><td>0.428571</td><td>null</td><td>null</td><td>null</td><td>1</td><td>6</td><td>1.0</td><td>null</td><td>null</td><td>null</td></tr><tr><td>2020</td><td>125102</td><td>&quot;Hospital Dr. L…</td><td>&quot;Cap.21  FACTOR…</td><td>&quot;Z69-Z76  PERSO…</td><td>&quot;Z76 PERSONAS E…</td><td>&quot;Personas en co…</td><td>&quot;Z769&quot;</td><td>3</td><td>8</td><td>0</td><td>0</td><td>3</td><td>2</td><td>15</td><td>0.2</td><td>2</td><td>14</td><td>0.214286</td><td>null</td><td>null</td><td>null</td><td>null</td><td>null</td><td>null</td><td>null</td><td>null</td><td>null</td></tr><tr><td>2020</td><td>125103</td><td>&quot;Hospital Lord …</td><td>&quot;Cap.21  FACTOR…</td><td>&quot;Z69-Z76  PERSO…</td><td>&quot;Z76 PERSONAS E…</td><td>&quot;Personas en co…</td><td>&quot;Z769&quot;</td><td>2</td><td>349</td><td>0</td><td>0</td><td>2</td><td>3</td><td>15</td><td>0.133333</td><td>3</td><td>14</td><td>0.142857</td><td>null</td><td>null</td><td>null</td><td>null</td><td>null</td><td>null</td><td>null</td><td>null</td><td>null</td></tr><tr><td>2020</td><td>102200</td><td>&quot;Clínica Iquiqu…</td><td>&quot;Cap.21  FACTOR…</td><td>&quot;Z69-Z76  PERSO…</td><td>&quot;Z76 PERSONAS E…</td><td>&quot;Personas en co…</td><td>&quot;Z769&quot;</td><td>1</td><td>3</td><td>1</td><td>0</td><td>1</td><td>4</td><td>15</td><td>0.066667</td><td>null</td><td>null</td><td>null</td><td>1</td><td>1</td><td>1.0</td><td>null</td><td>null</td><td>null</td><td>null</td><td>null</td><td>null</td></tr><tr><td>2020</td><td>118106</td><td>&quot;Hospital de Lo…</td><td>&quot;Cap.21  FACTOR…</td><td>&quot;Z69-Z76  PERSO…</td><td>&quot;Z76 PERSONAS E…</td><td>&quot;Personas en co…</td><td>&quot;Z769&quot;</td><td>1</td><td>1</td><td>0</td><td>0</td><td>1</td><td>4</td><td>15</td><td>0.066667</td><td>4</td><td>14</td><td>0.071429</td><td>null</td><td>null</td><td>null</td><td>null</td><td>null</td><td>null</td><td>null</td><td>null</td><td>null</td></tr><tr><td>2020</td><td>116101</td><td>&quot;Hospital de Te…</td><td>&quot;Cap.21  FACTOR…</td><td>&quot;Z69-Z76  PERSO…</td><td>&quot;Z76 PERSONAS E…</td><td>&quot;Personas en co…</td><td>&quot;Z769&quot;</td><td>1</td><td>1</td><td>0</td><td>0</td><td>1</td><td>4</td><td>15</td><td>0.066667</td><td>4</td><td>14</td><td>0.071429</td><td>null</td><td>null</td><td>null</td><td>null</td><td>null</td><td>null</td><td>null</td><td>null</td><td>null</td></tr><tr><td>2020</td><td>107107</td><td>&quot;Hospital de Pe…</td><td>&quot;Cap.21  FACTOR…</td><td>&quot;Z69-Z76  PERSO…</td><td>&quot;Z76 PERSONAS E…</td><td>&quot;Personas en co…</td><td>&quot;Z769&quot;</td><td>1</td><td>140</td><td>0</td><td>0</td><td>1</td><td>4</td><td>15</td><td>0.066667</td><td>4</td><td>14</td><td>0.071429</td><td>null</td><td>null</td><td>null</td><td>null</td><td>null</td><td>null</td><td>null</td><td>null</td><td>null</td></tr><tr><td>2020</td><td>112211</td><td>&quot;Clínica Indisa…</td><td>&quot;Cap.21  FACTOR…</td><td>&quot;Z69-Z76  PERSO…</td><td>&quot;Z76 PERSONAS E…</td><td>&quot;Persona en con…</td><td>&quot;Z768&quot;</td><td>58</td><td>118</td><td>14</td><td>1</td><td>57</td><td>1</td><td>299</td><td>0.19398</td><td>null</td><td>null</td><td>null</td><td>1</td><td>149</td><td>0.389262</td><td>null</td><td>null</td><td>null</td><td>null</td><td>null</td><td>null</td></tr></tbody></table></div>"
      ],
      "text/plain": [
       "shape: (8, 28)\n",
       "┌───────────┬───────────┬───────────┬───────────┬───┬───────────┬───────────┬───────────┬──────────┐\n",
       "│ ANO_EGRES ┆ ESTABLECI ┆ GLOSA_EST ┆ Capítulo  ┆ … ┆ %_grd_n_e ┆ ranking_i ┆ total_int ┆ %_intern │\n",
       "│ O         ┆ MIENTO_SA ┆ ABLECIMIE ┆ ---       ┆   ┆ gresos    ┆ nterno_n_ ┆ erno_n_eg ┆ o_n_egre │\n",
       "│ ---       ┆ LUD       ┆ NTO_SALUD ┆ str       ┆   ┆ ---       ┆ egresos   ┆ resos     ┆ sos      │\n",
       "│ i64       ┆ ---       ┆ ---       ┆           ┆   ┆ f64       ┆ ---       ┆ ---       ┆ ---      │\n",
       "│           ┆ i64       ┆ str       ┆           ┆   ┆           ┆ u32       ┆ u32       ┆ f64      │\n",
       "╞═══════════╪═══════════╪═══════════╪═══════════╪═══╪═══════════╪═══════════╪═══════════╪══════════╡\n",
       "│ 2020      ┆ 104103    ┆ Hospital  ┆ Cap.21    ┆ … ┆ 1.0       ┆ null      ┆ null      ┆ null     │\n",
       "│           ┆           ┆ Provincia ┆ FACTORES  ┆   ┆           ┆           ┆           ┆          │\n",
       "│           ┆           ┆ l del     ┆ QUE       ┆   ┆           ┆           ┆           ┆          │\n",
       "│           ┆           ┆ Huasco M… ┆ INFLUYEN  ┆   ┆           ┆           ┆           ┆          │\n",
       "│           ┆           ┆           ┆ EN…       ┆   ┆           ┆           ┆           ┆          │\n",
       "│ 2020      ┆ 125102    ┆ Hospital  ┆ Cap.21    ┆ … ┆ null      ┆ null      ┆ null      ┆ null     │\n",
       "│           ┆           ┆ Dr.       ┆ FACTORES  ┆   ┆           ┆           ┆           ┆          │\n",
       "│           ┆           ┆ Leopoldo  ┆ QUE       ┆   ┆           ┆           ┆           ┆          │\n",
       "│           ┆           ┆ Ortega R. ┆ INFLUYEN  ┆   ┆           ┆           ┆           ┆          │\n",
       "│           ┆           ┆ …         ┆ EN…       ┆   ┆           ┆           ┆           ┆          │\n",
       "│ 2020      ┆ 125103    ┆ Hospital  ┆ Cap.21    ┆ … ┆ null      ┆ null      ┆ null      ┆ null     │\n",
       "│           ┆           ┆ Lord      ┆ FACTORES  ┆   ┆           ┆           ┆           ┆          │\n",
       "│           ┆           ┆ Cochrane  ┆ QUE       ┆   ┆           ┆           ┆           ┆          │\n",
       "│           ┆           ┆           ┆ INFLUYEN  ┆   ┆           ┆           ┆           ┆          │\n",
       "│           ┆           ┆           ┆ EN…       ┆   ┆           ┆           ┆           ┆          │\n",
       "│ 2020      ┆ 102200    ┆ Clínica   ┆ Cap.21    ┆ … ┆ null      ┆ null      ┆ null      ┆ null     │\n",
       "│           ┆           ┆ Iquique   ┆ FACTORES  ┆   ┆           ┆           ┆           ┆          │\n",
       "│           ┆           ┆           ┆ QUE       ┆   ┆           ┆           ┆           ┆          │\n",
       "│           ┆           ┆           ┆ INFLUYEN  ┆   ┆           ┆           ┆           ┆          │\n",
       "│           ┆           ┆           ┆ EN…       ┆   ┆           ┆           ┆           ┆          │\n",
       "│ 2020      ┆ 118106    ┆ Hospital  ┆ Cap.21    ┆ … ┆ null      ┆ null      ┆ null      ┆ null     │\n",
       "│           ┆           ┆ de Lota   ┆ FACTORES  ┆   ┆           ┆           ┆           ┆          │\n",
       "│           ┆           ┆           ┆ QUE       ┆   ┆           ┆           ┆           ┆          │\n",
       "│           ┆           ┆           ┆ INFLUYEN  ┆   ┆           ┆           ┆           ┆          │\n",
       "│           ┆           ┆           ┆ EN…       ┆   ┆           ┆           ┆           ┆          │\n",
       "│ 2020      ┆ 116101    ┆ Hospital  ┆ Cap.21    ┆ … ┆ null      ┆ null      ┆ null      ┆ null     │\n",
       "│           ┆           ┆ de Teno   ┆ FACTORES  ┆   ┆           ┆           ┆           ┆          │\n",
       "│           ┆           ┆           ┆ QUE       ┆   ┆           ┆           ┆           ┆          │\n",
       "│           ┆           ┆           ┆ INFLUYEN  ┆   ┆           ┆           ┆           ┆          │\n",
       "│           ┆           ┆           ┆ EN…       ┆   ┆           ┆           ┆           ┆          │\n",
       "│ 2020      ┆ 107107    ┆ Hospital  ┆ Cap.21    ┆ … ┆ null      ┆ null      ┆ null      ┆ null     │\n",
       "│           ┆           ┆ de        ┆ FACTORES  ┆   ┆           ┆           ┆           ┆          │\n",
       "│           ┆           ┆ Petorca   ┆ QUE       ┆   ┆           ┆           ┆           ┆          │\n",
       "│           ┆           ┆           ┆ INFLUYEN  ┆   ┆           ┆           ┆           ┆          │\n",
       "│           ┆           ┆           ┆ EN…       ┆   ┆           ┆           ┆           ┆          │\n",
       "│ 2020      ┆ 112211    ┆ Clínica   ┆ Cap.21    ┆ … ┆ null      ┆ null      ┆ null      ┆ null     │\n",
       "│           ┆           ┆ Indisa    ┆ FACTORES  ┆   ┆           ┆           ┆           ┆          │\n",
       "│           ┆           ┆           ┆ QUE       ┆   ┆           ┆           ┆           ┆          │\n",
       "│           ┆           ┆           ┆ INFLUYEN  ┆   ┆           ┆           ┆           ┆          │\n",
       "│           ┆           ┆           ┆ EN…       ┆   ┆           ┆           ┆           ┆          │\n",
       "└───────────┴───────────┴───────────┴───────────┴───┴───────────┴───────────┴───────────┴──────────┘"
      ]
     },
     "metadata": {},
     "output_type": "display_data"
    }
   ],
   "source": [
    "display(rankings_nacionales.head(8))"
   ]
  },
  {
   "cell_type": "markdown",
   "metadata": {},
   "source": [
    "Por lo tanto, se pueden observar todas las métricas de egresos hospitalarios nacionales para\n",
    "cada estrato definido. Además, se observa que en casos de empate en cantidad de egresos,\n",
    "el ranking es repetido."
   ]
  },
  {
   "cell_type": "markdown",
   "metadata": {},
   "source": [
    "## 3. Diagnósticos más relevantes del Instituto Nacional del Tórax\n",
    "\n",
    "En este apartado se quieren responder las siguientes preguntas:\n",
    "\n",
    "1. ¿Cuáles son los **diagnósticos más relevantes productivamente** en el Instituto Nacional del\n",
    "Tórax?\n",
    "2. ¿En qué diagnósticos el INT tiene una mayor cantidad de Egresos que cualquier otro establecimiento\n",
    "de salud Nacional? En otras palabras, ¿En qué diagnósticos el **INT tiene un Ranking 1 Nacional**?\n",
    "\n",
    "Estas preguntas se quieren responder tanto para diagnósticos ambulatorios (n_int_q = 0) y \n",
    "quirúrgicos (n_int_q > 0).\n",
    "\n",
    "Además, se sabe que desde el 2011 el registro de Egresos Hospitalarios DEIS fue llevado por la\n",
    "unidad de Grupo Relacionado al Diagnóstico (GRD). Debido a lo anterior, la calidad de la codificación\n",
    "de diagnósticos es mucho mayor. Tomado de lo anterior, **se obtendrán los diagnósticos que tengan\n",
    "una alta productividad desde el 2012 hasta 2020**."
   ]
  },
  {
   "cell_type": "code",
   "execution_count": 9,
   "metadata": {},
   "outputs": [],
   "source": [
    "DIAGS_MAS_RELEVANTES_QUIRURGICOS = rankings_hospital_analizado.filter(\n",
    "    (pl.col(\"ranking_nacionales_n_egresos\") == 1)\n",
    "    & (pl.col(\"n_int_q\") > 0)\n",
    "    & (pl.col(\"ANO_EGRESO\") > 2011)\n",
    ").sort(by=[\"ANO_EGRESO\", \"n_egresos\", \"n_int_q\"], descending=True)\n",
    "\n",
    "\n",
    "# Obtiene los 20 diagnosticos con la mayor cantidad de egresos e int_q\n",
    "veinte_mas_relevantes_por_anio_quir = DIAGS_MAS_RELEVANTES_QUIRURGICOS.group_by(\n",
    "    [\"ANO_EGRESO\"]\n",
    ").head(50)"
   ]
  },
  {
   "cell_type": "code",
   "execution_count": 10,
   "metadata": {},
   "outputs": [],
   "source": [
    "DIAGS_MAS_RELEVANTES_QUIRURGICOS = veinte_mas_relevantes_por_anio_quir.select(\n",
    "    pl.col(\"DIAG1\").unique()\n",
    ").sort(by=\"DIAG1\")"
   ]
  },
  {
   "cell_type": "code",
   "execution_count": 11,
   "metadata": {},
   "outputs": [
    {
     "name": "stdout",
     "output_type": "stream",
     "text": [
      "['A152', 'A156', 'A157', 'B334', 'B441', 'B671', 'C33X', 'C340', 'C341', 'C342', 'C343', 'C37X', 'C381', 'C382', 'C383', 'C384', 'C413', 'C450', 'C457', 'C761', 'C780', 'C781', 'C782', 'C797', 'D142', 'D143', 'D144', 'D150', 'D151', 'D152', 'D157', 'D167', 'D174', 'D381', 'D382', 'D383', 'D860', 'D861', 'D862', 'E848', 'G580', 'G908', 'I011', 'I051', 'I052', 'I060', 'I062', 'I071', 'I080', 'I081', 'I232', 'I233', 'I250', 'I272', 'I311', 'I330', 'I340', 'I350', 'I351', 'I352', 'I360', 'I361', 'I371', 'I372', 'I420', 'I421', 'I422', 'I425', 'I441', 'I453', 'I456', 'I472', 'I495', 'I513', 'I710', 'I711', 'I712', 'I715', 'I716', 'J151', 'J398', 'J439', 'J47X', 'J679', 'J840', 'J841', 'J848', 'J849', 'J850', 'J851', 'J852', 'J860', 'J869', 'J90X', 'J91X', 'J929', 'J931', 'J938', 'J940', 'J955', 'J958', 'J980', 'J986', 'L758', 'M051', 'M348', 'Q211', 'Q222', 'Q225', 'Q228', 'Q231', 'Q233', 'Q256', 'Q257', 'Q676', 'Q677', 'Q678', 'Q766', 'R048', 'S225', 'T820', 'T821', 'T822', 'T862', 'T863', 'T868', 'Z450']\n",
      "Hay 127 diagnosticos quirurgicos altamente relevantes para el país\n"
     ]
    }
   ],
   "source": [
    "print(list(DIAGS_MAS_RELEVANTES_QUIRURGICOS.to_series()))\n",
    "print(f\"Hay {len(DIAGS_MAS_RELEVANTES_QUIRURGICOS)} diagnosticos quirurgicos altamente \"\n",
    "      f\"relevantes para el país\")"
   ]
  },
  {
   "cell_type": "code",
   "execution_count": 12,
   "metadata": {},
   "outputs": [
    {
     "name": "stdout",
     "output_type": "stream",
     "text": [
      "['A022', 'A151', 'A152', 'A154', 'A155', 'A157', 'A190', 'B371', 'B441', 'B460', 'B59X', 'B948', 'C33X', 'C382', 'C783', 'D611', 'D860', 'D862', 'E662', 'E854', 'G580', 'I062', 'I082', 'I150', 'I232', 'I253', 'I270', 'I279', 'I280', 'I421', 'I422', 'I424', 'I427', 'I445', 'I447', 'I451', 'I456', 'I458', 'I471', 'I472', 'I483', 'I493', 'I494', 'I513', 'I715', 'I716', 'J150', 'J155', 'J430', 'J441', 'J632', 'J677', 'J678', 'J679', 'J684', 'J700', 'J708', 'J82X', 'J840', 'J848', 'J940', 'J951', 'J958', 'L581', 'M051', 'M348', 'M350', 'M358', 'M485', 'M941', 'Q218', 'Q222', 'Q225', 'Q228', 'Q233', 'Q240', 'Q241', 'Q257', 'Q258', 'Q874', 'R048', 'S203', 'T366', 'T371', 'T380', 'T822', 'T862', 'T863', 'T868', 'Z030', 'Z100', 'Z118', 'Z136', 'Z291', 'Z292', 'Z488', 'Z514', 'Z516', 'Z541', 'Z748', 'Z851', 'Z858', 'Z877', 'Z911', 'Z924', 'Z952', 'Z953', 'Z998']\n",
      "Hay 108 diagnosticos ambulatorios altamente relevantes para el país\n"
     ]
    }
   ],
   "source": [
    "DIAGS_MAS_RELEVANTES_AMBULATORIOS = rankings_hospital_analizado.filter(\n",
    "    (pl.col(\"ranking_nacionales_n_egresos\") == 1)\n",
    "    & (pl.col(\"n_int_q\") == 0)\n",
    "    & (pl.col(\"ANO_EGRESO\") > 2011)\n",
    ").sort(by=[\"ANO_EGRESO\", \"n_egresos\", \"n_int_q\"], descending=True)\n",
    "\n",
    "veinte_mas_relevantes_por_anio_ambul = DIAGS_MAS_RELEVANTES_AMBULATORIOS.group_by(\n",
    "    [\"ANO_EGRESO\"]\n",
    ").head(20)\n",
    "\n",
    "DIAGS_MAS_RELEVANTES_AMBULATORIOS = veinte_mas_relevantes_por_anio_ambul.select(\n",
    "    pl.col(\"DIAG1\").unique()\n",
    ").sort(by=\"DIAG1\")\n",
    "\n",
    "print(list(DIAGS_MAS_RELEVANTES_AMBULATORIOS.to_series()))\n",
    "print(f\"Hay {len(DIAGS_MAS_RELEVANTES_AMBULATORIOS)} diagnosticos ambulatorios altamente \"\n",
    "      f\"relevantes para el país\")"
   ]
  },
  {
   "cell_type": "markdown",
   "metadata": {},
   "source": [
    "Por lo tanto, se reportan los diagnósticos altamente relevantes para el país productivamente\n",
    "hablando. En el ámbito quirúrgico, existen 45 diagnósticos dónde el INT tiene la mayor cantidad\n",
    "de Egresos Hospitalarios del país entre 2012 y 2020. En el ámbito \"ambulatorio\" (egresos sin int_q),\n",
    "existen 108 diagnósticos con una alta producción a nivel país.\n",
    "\n",
    "Para el MINSAL, se quiere reportar los diagnósticos quirúrgicos que hayan tenido un ranking 1 o 2 \n",
    "en el año 2019 para el INT."
   ]
  },
  {
   "cell_type": "code",
   "execution_count": 13,
   "metadata": {},
   "outputs": [
    {
     "name": "stdout",
     "output_type": "stream",
     "text": [
      "['A152', 'A156', 'B441', 'B671', 'C33X', 'C340', 'C341', 'C342', 'C343', 'C381', 'C382', 'C384', 'C450', 'C457', 'C780', 'C782', 'D142', 'D143', 'D150', 'D151', 'D152', 'D157', 'D174', 'D381', 'D382', 'D383', 'D860', 'D862', 'E848', 'G908', 'I051', 'I052', 'I080', 'I081', 'I232', 'I311', 'I330', 'I340', 'I351', 'I352', 'I361', 'I420', 'I421', 'I453', 'I456', 'I472', 'I495', 'I513', 'I710', 'I711', 'I712', 'I715', 'I716', 'J47X', 'J679', 'J841', 'J848', 'J849', 'J851', 'J860', 'J869', 'J929', 'J955', 'J986', 'M051', 'M348', 'Q222', 'Q233', 'Q257', 'Q677', 'Q766', 'R048', 'T820', 'T821', 'T822', 'T868', 'Z450']\n",
      "Hay 77 diagnosticos relevantes productivamente Y que tenian ranking 1 o 2 en 2019\n"
     ]
    }
   ],
   "source": [
    "DIAGS_1_O_2_EN_2019 = rankings_hospital_analizado.filter(\n",
    "    (pl.col(\"ANO_EGRESO\") == 2019)\n",
    "    & (\n",
    "        (pl.col(\"ranking_nacionales_n_egresos\") == 1)\n",
    "        | (pl.col(\"ranking_nacionales_n_egresos\") == 2)\n",
    "    )\n",
    "    & (pl.col(\"DIAG1\").is_in(list(DIAGS_MAS_RELEVANTES_QUIRURGICOS.to_series())))\n",
    ").select(pl.col(\"DIAG1\").unique()).sort(\"DIAG1\")\n",
    "\n",
    "print(list(DIAGS_1_O_2_EN_2019.to_series()))\n",
    "print(\n",
    "    f\"Hay {len(DIAGS_1_O_2_EN_2019)} diagnosticos relevantes productivamente Y que \"\n",
    "    f\"tenian ranking 1 o 2 en 2019\"\n",
    ")"
   ]
  },
  {
   "cell_type": "code",
   "execution_count": 37,
   "metadata": {},
   "outputs": [],
   "source": [
    "tabla_resumen_egresos_torax_relevantes = (\n",
    "    rankings_hospital_analizado.filter(\n",
    "        ((pl.col(\"ANO_EGRESO\") >= 2016) & (pl.col(\"ANO_EGRESO\") <= 2020))\n",
    "        & (pl.col(\"DIAG1\").is_in(list(DIAGS_1_O_2_EN_2019.to_series())))\n",
    "    )\n",
    "    .with_columns((pl.col(\"DIAG1\") + \" - \" + pl.col(\"Descripción\")).alias(\"Diagnóstico\"))\n",
    "    .to_pandas()\n",
    ")\n",
    "\n",
    "tabla_resumen_egresos_torax_relevantes.to_excel(\n",
    "    \"../data/interim/resumen_diagnosticos_relevantes_INT_largo.xlsx\"\n",
    ")"
   ]
  },
  {
   "cell_type": "code",
   "execution_count": 38,
   "metadata": {},
   "outputs": [],
   "source": [
    "tabla_resumen_egresos_torax_relevantes = pd.pivot_table(\n",
    "    tabla_resumen_egresos_torax_relevantes,\n",
    "    index=[\"Diagnóstico\"],\n",
    "    columns=\"ANO_EGRESO\",\n",
    "    values=[\n",
    "        \"ranking_nacionales_n_egresos\",\n",
    "        \"n_pacientes_distintos\",\n",
    "        \"n_egresos\",\n",
    "        \"total_nacionales_n_egresos\",\n",
    "        \"%_nacionales_n_egresos\",\n",
    "        \"dias_estada_totales\",\n",
    "    ],\n",
    "    aggfunc=\"sum\",\n",
    "    fill_value=0,\n",
    ").sort_values(\n",
    "    by=[(\"ranking_nacionales_n_egresos\", 2019), (\"n_egresos\", 2019)],\n",
    "    ascending=[True, False],\n",
    ")[\n",
    "    [\n",
    "        \"dias_estada_totales\",\n",
    "        \"n_pacientes_distintos\",\n",
    "        \"n_egresos\",\n",
    "        \"total_nacionales_n_egresos\",\n",
    "        \"%_nacionales_n_egresos\",\n",
    "        \"ranking_nacionales_n_egresos\",\n",
    "    ]\n",
    "]\n",
    "\n",
    "tabla_resumen_egresos_torax_relevantes.to_excel(\n",
    "    \"../data/interim/resumen_diagnosticos_relevantes_INT.xlsx\"\n",
    ")"
   ]
  },
  {
   "cell_type": "code",
   "execution_count": 39,
   "metadata": {},
   "outputs": [
    {
     "ename": "ValueError",
     "evalue": "Length mismatch: Expected axis has 20 elements, new values have 16 elements",
     "output_type": "error",
     "traceback": [
      "\u001b[0;31m---------------------------------------------------------------------------\u001b[0m",
      "\u001b[0;31mValueError\u001b[0m                                Traceback (most recent call last)",
      "Cell \u001b[0;32mIn[39], line 32\u001b[0m\n\u001b[1;32m     20\u001b[0m cantidad_camas_requeridas \u001b[38;5;241m=\u001b[39m \u001b[38;5;28mround\u001b[39m(dias_estada_egresos_relevantes \u001b[38;5;241m/\u001b[39m \u001b[38;5;241m365\u001b[39m, \u001b[38;5;241m1\u001b[39m)\n\u001b[1;32m     22\u001b[0m resumen_egresos_y_posiciones_relevantes \u001b[38;5;241m=\u001b[39m pd\u001b[38;5;241m.\u001b[39mconcat(\n\u001b[1;32m     23\u001b[0m     [\n\u001b[1;32m     24\u001b[0m         resumen_egresos_torax_y_nacional_relevantes,\n\u001b[0;32m   (...)\u001b[0m\n\u001b[1;32m     29\u001b[0m     axis\u001b[38;5;241m=\u001b[39m\u001b[38;5;241m1\u001b[39m,\n\u001b[1;32m     30\u001b[0m )\n\u001b[0;32m---> 32\u001b[0m resumen_egresos_y_posiciones_relevantes\u001b[38;5;241m.\u001b[39mcolumns \u001b[38;5;241m=\u001b[39m [\n\u001b[1;32m     33\u001b[0m     \u001b[38;5;124m\"\u001b[39m\u001b[38;5;124m2016\u001b[39m\u001b[38;5;124m\"\u001b[39m,\n\u001b[1;32m     34\u001b[0m     \u001b[38;5;124m\"\u001b[39m\u001b[38;5;124m2017\u001b[39m\u001b[38;5;124m\"\u001b[39m,\n\u001b[1;32m     35\u001b[0m     \u001b[38;5;124m\"\u001b[39m\u001b[38;5;124m2018\u001b[39m\u001b[38;5;124m\"\u001b[39m,\n\u001b[1;32m     36\u001b[0m     \u001b[38;5;124m\"\u001b[39m\u001b[38;5;124m2019\u001b[39m\u001b[38;5;124m\"\u001b[39m,\n\u001b[1;32m     37\u001b[0m     \u001b[38;5;124m\"\u001b[39m\u001b[38;5;124m2016\u001b[39m\u001b[38;5;124m\"\u001b[39m,\n\u001b[1;32m     38\u001b[0m     \u001b[38;5;124m\"\u001b[39m\u001b[38;5;124m2017\u001b[39m\u001b[38;5;124m\"\u001b[39m,\n\u001b[1;32m     39\u001b[0m     \u001b[38;5;124m\"\u001b[39m\u001b[38;5;124m2018\u001b[39m\u001b[38;5;124m\"\u001b[39m,\n\u001b[1;32m     40\u001b[0m     \u001b[38;5;124m\"\u001b[39m\u001b[38;5;124m2019\u001b[39m\u001b[38;5;124m\"\u001b[39m,\n\u001b[1;32m     41\u001b[0m     \u001b[38;5;124m\"\u001b[39m\u001b[38;5;124m2016\u001b[39m\u001b[38;5;124m\"\u001b[39m,\n\u001b[1;32m     42\u001b[0m     \u001b[38;5;124m\"\u001b[39m\u001b[38;5;124m2017\u001b[39m\u001b[38;5;124m\"\u001b[39m,\n\u001b[1;32m     43\u001b[0m     \u001b[38;5;124m\"\u001b[39m\u001b[38;5;124m2018\u001b[39m\u001b[38;5;124m\"\u001b[39m,\n\u001b[1;32m     44\u001b[0m     \u001b[38;5;124m\"\u001b[39m\u001b[38;5;124m2019\u001b[39m\u001b[38;5;124m\"\u001b[39m,\n\u001b[1;32m     45\u001b[0m     \u001b[38;5;124m\"\u001b[39m\u001b[38;5;124m2016\u001b[39m\u001b[38;5;124m\"\u001b[39m,\n\u001b[1;32m     46\u001b[0m     \u001b[38;5;124m\"\u001b[39m\u001b[38;5;124m2017\u001b[39m\u001b[38;5;124m\"\u001b[39m,\n\u001b[1;32m     47\u001b[0m     \u001b[38;5;124m\"\u001b[39m\u001b[38;5;124m2018\u001b[39m\u001b[38;5;124m\"\u001b[39m,\n\u001b[1;32m     48\u001b[0m     \u001b[38;5;124m\"\u001b[39m\u001b[38;5;124m2019\u001b[39m\u001b[38;5;124m\"\u001b[39m,\n\u001b[1;32m     49\u001b[0m ]\n\u001b[1;32m     51\u001b[0m display(resumen_egresos_y_posiciones_relevantes)\n",
      "File \u001b[0;32m/opt/anaconda3/envs/egresos-deis/lib/python3.11/site-packages/pandas/core/generic.py:6002\u001b[0m, in \u001b[0;36mNDFrame.__setattr__\u001b[0;34m(self, name, value)\u001b[0m\n\u001b[1;32m   6000\u001b[0m \u001b[38;5;28;01mtry\u001b[39;00m:\n\u001b[1;32m   6001\u001b[0m     \u001b[38;5;28mobject\u001b[39m\u001b[38;5;241m.\u001b[39m\u001b[38;5;21m__getattribute__\u001b[39m(\u001b[38;5;28mself\u001b[39m, name)\n\u001b[0;32m-> 6002\u001b[0m     \u001b[38;5;28;01mreturn\u001b[39;00m \u001b[38;5;28mobject\u001b[39m\u001b[38;5;241m.\u001b[39m\u001b[38;5;21m__setattr__\u001b[39m(\u001b[38;5;28mself\u001b[39m, name, value)\n\u001b[1;32m   6003\u001b[0m \u001b[38;5;28;01mexcept\u001b[39;00m \u001b[38;5;167;01mAttributeError\u001b[39;00m:\n\u001b[1;32m   6004\u001b[0m     \u001b[38;5;28;01mpass\u001b[39;00m\n",
      "File \u001b[0;32m/opt/anaconda3/envs/egresos-deis/lib/python3.11/site-packages/pandas/_libs/properties.pyx:69\u001b[0m, in \u001b[0;36mpandas._libs.properties.AxisProperty.__set__\u001b[0;34m()\u001b[0m\n",
      "File \u001b[0;32m/opt/anaconda3/envs/egresos-deis/lib/python3.11/site-packages/pandas/core/generic.py:730\u001b[0m, in \u001b[0;36mNDFrame._set_axis\u001b[0;34m(self, axis, labels)\u001b[0m\n\u001b[1;32m    725\u001b[0m \u001b[38;5;250m\u001b[39m\u001b[38;5;124;03m\"\"\"\u001b[39;00m\n\u001b[1;32m    726\u001b[0m \u001b[38;5;124;03mThis is called from the cython code when we set the `index` attribute\u001b[39;00m\n\u001b[1;32m    727\u001b[0m \u001b[38;5;124;03mdirectly, e.g. `series.index = [1, 2, 3]`.\u001b[39;00m\n\u001b[1;32m    728\u001b[0m \u001b[38;5;124;03m\"\"\"\u001b[39;00m\n\u001b[1;32m    729\u001b[0m labels \u001b[38;5;241m=\u001b[39m ensure_index(labels)\n\u001b[0;32m--> 730\u001b[0m \u001b[38;5;28mself\u001b[39m\u001b[38;5;241m.\u001b[39m_mgr\u001b[38;5;241m.\u001b[39mset_axis(axis, labels)\n\u001b[1;32m    731\u001b[0m \u001b[38;5;28mself\u001b[39m\u001b[38;5;241m.\u001b[39m_clear_item_cache()\n",
      "File \u001b[0;32m/opt/anaconda3/envs/egresos-deis/lib/python3.11/site-packages/pandas/core/internals/managers.py:225\u001b[0m, in \u001b[0;36mBaseBlockManager.set_axis\u001b[0;34m(self, axis, new_labels)\u001b[0m\n\u001b[1;32m    223\u001b[0m \u001b[38;5;28;01mdef\u001b[39;00m \u001b[38;5;21mset_axis\u001b[39m(\u001b[38;5;28mself\u001b[39m, axis: AxisInt, new_labels: Index) \u001b[38;5;241m-\u001b[39m\u001b[38;5;241m>\u001b[39m \u001b[38;5;28;01mNone\u001b[39;00m:\n\u001b[1;32m    224\u001b[0m     \u001b[38;5;66;03m# Caller is responsible for ensuring we have an Index object.\u001b[39;00m\n\u001b[0;32m--> 225\u001b[0m     \u001b[38;5;28mself\u001b[39m\u001b[38;5;241m.\u001b[39m_validate_set_axis(axis, new_labels)\n\u001b[1;32m    226\u001b[0m     \u001b[38;5;28mself\u001b[39m\u001b[38;5;241m.\u001b[39maxes[axis] \u001b[38;5;241m=\u001b[39m new_labels\n",
      "File \u001b[0;32m/opt/anaconda3/envs/egresos-deis/lib/python3.11/site-packages/pandas/core/internals/base.py:70\u001b[0m, in \u001b[0;36mDataManager._validate_set_axis\u001b[0;34m(self, axis, new_labels)\u001b[0m\n\u001b[1;32m     67\u001b[0m     \u001b[38;5;28;01mpass\u001b[39;00m\n\u001b[1;32m     69\u001b[0m \u001b[38;5;28;01melif\u001b[39;00m new_len \u001b[38;5;241m!=\u001b[39m old_len:\n\u001b[0;32m---> 70\u001b[0m     \u001b[38;5;28;01mraise\u001b[39;00m \u001b[38;5;167;01mValueError\u001b[39;00m(\n\u001b[1;32m     71\u001b[0m         \u001b[38;5;124mf\u001b[39m\u001b[38;5;124m\"\u001b[39m\u001b[38;5;124mLength mismatch: Expected axis has \u001b[39m\u001b[38;5;132;01m{\u001b[39;00mold_len\u001b[38;5;132;01m}\u001b[39;00m\u001b[38;5;124m elements, new \u001b[39m\u001b[38;5;124m\"\u001b[39m\n\u001b[1;32m     72\u001b[0m         \u001b[38;5;124mf\u001b[39m\u001b[38;5;124m\"\u001b[39m\u001b[38;5;124mvalues have \u001b[39m\u001b[38;5;132;01m{\u001b[39;00mnew_len\u001b[38;5;132;01m}\u001b[39;00m\u001b[38;5;124m elements\u001b[39m\u001b[38;5;124m\"\u001b[39m\n\u001b[1;32m     73\u001b[0m     )\n",
      "\u001b[0;31mValueError\u001b[0m: Length mismatch: Expected axis has 20 elements, new values have 16 elements"
     ]
    }
   ],
   "source": [
    "resumen_egresos_torax_y_nacional_relevantes = (\n",
    "    tabla_resumen_egresos_torax_relevantes[(\"n_egresos\")].astype(int).astype(str)\n",
    "    + \" (\"\n",
    "    + tabla_resumen_egresos_torax_relevantes[(\"total_nacionales_n_egresos\")].astype(int).astype(str)\n",
    "    + \"; \"\n",
    "    + round((tabla_resumen_egresos_torax_relevantes[(\"%_nacionales_n_egresos\")] * 100), 1).astype(\n",
    "        str\n",
    "    )\n",
    "    + \"%)\"\n",
    ")\n",
    "\n",
    "posiciones_torax_egresos_relevantes = tabla_resumen_egresos_torax_relevantes[\n",
    "    (\"ranking_nacionales_n_egresos\")\n",
    "].astype(int)\n",
    "\n",
    "dias_estada_egresos_relevantes = tabla_resumen_egresos_torax_relevantes[\n",
    "    (\"dias_estada_totales\")\n",
    "].astype(int)\n",
    "\n",
    "cantidad_camas_requeridas = round(dias_estada_egresos_relevantes / 365, 1)\n",
    "\n",
    "resumen_egresos_y_posiciones_relevantes = pd.concat(\n",
    "    [\n",
    "        resumen_egresos_torax_y_nacional_relevantes,\n",
    "        posiciones_torax_egresos_relevantes,\n",
    "        dias_estada_egresos_relevantes,\n",
    "        cantidad_camas_requeridas,\n",
    "    ],\n",
    "    axis=1,\n",
    ")\n",
    "\n",
    "resumen_egresos_y_posiciones_relevantes.columns = [\n",
    "    \"2016\",\n",
    "    \"2017\",\n",
    "    \"2018\",\n",
    "    \"2019\",\n",
    "    \"2016\",\n",
    "    \"2017\",\n",
    "    \"2018\",\n",
    "    \"2019\",\n",
    "    \"2016\",\n",
    "    \"2017\",\n",
    "    \"2018\",\n",
    "    \"2019\",\n",
    "    \"2016\",\n",
    "    \"2017\",\n",
    "    \"2018\",\n",
    "    \"2019\",\n",
    "]\n",
    "\n",
    "display(resumen_egresos_y_posiciones_relevantes)"
   ]
  },
  {
   "cell_type": "code",
   "execution_count": 56,
   "metadata": {},
   "outputs": [],
   "source": [
    "resumen_egresos_y_posiciones_relevantes = resumen_egresos_y_posiciones_relevantes.reset_index()"
   ]
  },
  {
   "cell_type": "code",
   "execution_count": 57,
   "metadata": {},
   "outputs": [],
   "source": [
    "visualize.add_dataframes_to_powerpoint(\n",
    "    [resumen_egresos_y_posiciones_relevantes],\n",
    "    \"../reports/presentacion.pptx\",\n",
    "    font_size=8,\n",
    "    cell_width=33,\n",
    "    cell_height=0.5,\n",
    "    font_family=\"Open Sans\",\n",
    "    max_cell_characters=100,\n",
    ")"
   ]
  },
  {
   "cell_type": "markdown",
   "metadata": {},
   "source": [
    "Para hacer un contorl de lo que se calculo, se observará una muestra de 10 hospitales - diagnósticos\n",
    "distintos\n"
   ]
  },
  {
   "cell_type": "code",
   "execution_count": null,
   "metadata": {},
   "outputs": [
    {
     "data": {
      "text/html": [
       "<div><style>\n",
       ".dataframe > thead > tr > th,\n",
       ".dataframe > tbody > tr > td {\n",
       "  text-align: right;\n",
       "  white-space: pre-wrap;\n",
       "}\n",
       "</style>\n",
       "<small>shape: (10, 28)</small><table border=\"1\" class=\"dataframe\"><thead><tr><th>ANO_EGRESO</th><th>ESTABLECIMIENTO_SALUD</th><th>GLOSA_ESTABLECIMIENTO_SALUD</th><th>Capítulo</th><th>Sección</th><th>Categoría</th><th>Descripción</th><th>DIAG1</th><th>n_egresos</th><th>dias_estada_totales</th><th>n_int_q</th><th>n_muertos</th><th>n_pacientes_distintos</th><th>ranking_nacionales_n_egresos</th><th>total_nacionales_n_egresos</th><th>%_nacionales_n_egresos</th><th>ranking_publicos_n_egresos</th><th>total_publicos_n_egresos</th><th>%_publicos_n_egresos</th><th>ranking_privados_n_egresos</th><th>total_privados_n_egresos</th><th>%_privados_n_egresos</th><th>ranking_grd_n_egresos</th><th>total_grd_n_egresos</th><th>%_grd_n_egresos</th><th>ranking_interno_n_egresos</th><th>total_interno_n_egresos</th><th>%_interno_n_egresos</th></tr><tr><td>i64</td><td>i64</td><td>str</td><td>str</td><td>str</td><td>str</td><td>str</td><td>str</td><td>u32</td><td>i64</td><td>i64</td><td>i64</td><td>u32</td><td>u32</td><td>u32</td><td>f64</td><td>u32</td><td>u32</td><td>f64</td><td>u32</td><td>u32</td><td>f64</td><td>u32</td><td>u32</td><td>f64</td><td>u32</td><td>u32</td><td>f64</td></tr></thead><tbody><tr><td>2013</td><td>123100</td><td>&quot;Hospital Base …</td><td>&quot;Cap.06  ENFERM…</td><td>&quot;G40-G47  TRAST…</td><td>&quot;G44 OTROS SÍND…</td><td>&quot;Síndrome de ce…</td><td>&quot;G440&quot;</td><td>1</td><td>1</td><td>0</td><td>0</td><td>1</td><td>10</td><td>64</td><td>0.015625</td><td>5</td><td>23</td><td>0.043478</td><td>null</td><td>null</td><td>null</td><td>3</td><td>12</td><td>0.083333</td><td>null</td><td>null</td><td>null</td></tr><tr><td>2001</td><td>104104</td><td>&quot;Hospital Dr. M…</td><td>&quot;Cap.19  LESION…</td><td>&quot;S30-S39  TRAUM…</td><td>&quot;S30 TRAUMATISM…</td><td>&quot;Contusión de l…</td><td>&quot;S300&quot;</td><td>1</td><td>1</td><td>0</td><td>0</td><td>1</td><td>155</td><td>963</td><td>0.001038</td><td>100</td><td>526</td><td>0.001901</td><td>null</td><td>null</td><td>null</td><td>null</td><td>null</td><td>null</td><td>null</td><td>null</td><td>null</td></tr><tr><td>2016</td><td>115106</td><td>&quot;Hospital de Pi…</td><td>&quot;Cap.05  TRASTO…</td><td>&quot;F10-F19  TRAST…</td><td>&quot;F10 TRASTORNOS…</td><td>&quot;Trastornos men…</td><td>&quot;F103&quot;</td><td>2</td><td>14</td><td>0</td><td>0</td><td>2</td><td>72</td><td>618</td><td>0.003236</td><td>71</td><td>601</td><td>0.003328</td><td>null</td><td>null</td><td>null</td><td>null</td><td>null</td><td>null</td><td>null</td><td>null</td><td>null</td></tr><tr><td>2006</td><td>112100</td><td>&quot;Hospital Del S…</td><td>&quot;Cap.13  ENFERM…</td><td>&quot;M20-M25  OTROS…</td><td>&quot;M23 TRASTORNO …</td><td>&quot;Trastorno inte…</td><td>&quot;M239&quot;</td><td>4</td><td>4</td><td>4</td><td>0</td><td>4</td><td>31</td><td>1152</td><td>0.003472</td><td>8</td><td>136</td><td>0.029412</td><td>null</td><td>null</td><td>null</td><td>8</td><td>127</td><td>0.031496</td><td>null</td><td>null</td><td>null</td></tr><tr><td>2008</td><td>114103</td><td>&quot;Hospital Padre…</td><td>&quot;Cap.15  EMBARA…</td><td>&quot;O85-O92  COMPL…</td><td>&quot;O90 COMPLICACI…</td><td>&quot;Otras complica…</td><td>&quot;O908&quot;</td><td>1</td><td>17</td><td>1</td><td>0</td><td>1</td><td>37</td><td>544</td><td>0.001838</td><td>32</td><td>521</td><td>0.001919</td><td>null</td><td>null</td><td>null</td><td>16</td><td>296</td><td>0.003378</td><td>null</td><td>null</td><td>null</td></tr><tr><td>2016</td><td>116101</td><td>&quot;Hospital de Te…</td><td>&quot;Cap.03  ENFERM…</td><td>&quot;D55-D59  ANEMI…</td><td>&quot;D59 ANEMIA HEM…</td><td>&quot;Anemia hemolít…</td><td>&quot;D599&quot;</td><td>2</td><td>6</td><td>0</td><td>0</td><td>1</td><td>3</td><td>64</td><td>0.03125</td><td>3</td><td>54</td><td>0.037037</td><td>null</td><td>null</td><td>null</td><td>null</td><td>null</td><td>null</td><td>null</td><td>null</td><td>null</td></tr><tr><td>2010</td><td>112211</td><td>&quot;Clínica Indisa…</td><td>&quot;Cap.16  CIERTA…</td><td>&quot;P70-P75  TRAST…</td><td>&quot;P70 TRASTORNOS…</td><td>&quot;Otras hipoglic…</td><td>&quot;P704&quot;</td><td>7</td><td>81</td><td>0</td><td>0</td><td>7</td><td>35</td><td>1348</td><td>0.005193</td><td>null</td><td>null</td><td>null</td><td>8</td><td>267</td><td>0.026217</td><td>null</td><td>null</td><td>null</td><td>null</td><td>null</td><td>null</td></tr><tr><td>2001</td><td>110100</td><td>&quot;Hospital San J…</td><td>&quot;Cap.04  ENFERM…</td><td>&quot;E70-E88  ALTER…</td><td>&quot;E87 OTROS TRAS…</td><td>&quot;Hiperpotasemia…</td><td>&quot;E875&quot;</td><td>1</td><td>1</td><td>0</td><td>1</td><td>1</td><td>7</td><td>31</td><td>0.032258</td><td>6</td><td>25</td><td>0.04</td><td>null</td><td>null</td><td>null</td><td>6</td><td>21</td><td>0.047619</td><td>null</td><td>null</td><td>null</td></tr><tr><td>2017</td><td>115110</td><td>&quot;Hospital de Sa…</td><td>&quot;Cap.01  CIERTA…</td><td>&quot;A00-A09  ENFER…</td><td>&quot;A08 INFECCIONE…</td><td>&quot;Infección inte…</td><td>&quot;A084&quot;</td><td>2</td><td>9</td><td>0</td><td>0</td><td>2</td><td>42</td><td>370</td><td>0.005405</td><td>32</td><td>265</td><td>0.007547</td><td>null</td><td>null</td><td>null</td><td>22</td><td>172</td><td>0.011628</td><td>null</td><td>null</td><td>null</td></tr><tr><td>2020</td><td>122105</td><td>&quot;Hospital de Rí…</td><td>&quot;Cap.13  ENFERM…</td><td>&quot;M50-M54  OTRAS…</td><td>&quot;M54 DORSALGIA&quot;</td><td>&quot;Lumbago no esp…</td><td>&quot;M545&quot;</td><td>2</td><td>6</td><td>0</td><td>0</td><td>2</td><td>87</td><td>1713</td><td>0.001168</td><td>32</td><td>306</td><td>0.006536</td><td>null</td><td>null</td><td>null</td><td>null</td><td>null</td><td>null</td><td>null</td><td>null</td><td>null</td></tr></tbody></table></div>"
      ],
      "text/plain": [
       "shape: (10, 28)\n",
       "┌───────────┬───────────┬───────────┬───────────┬───┬───────────┬───────────┬───────────┬──────────┐\n",
       "│ ANO_EGRES ┆ ESTABLECI ┆ GLOSA_EST ┆ Capítulo  ┆ … ┆ %_grd_n_e ┆ ranking_i ┆ total_int ┆ %_intern │\n",
       "│ O         ┆ MIENTO_SA ┆ ABLECIMIE ┆ ---       ┆   ┆ gresos    ┆ nterno_n_ ┆ erno_n_eg ┆ o_n_egre │\n",
       "│ ---       ┆ LUD       ┆ NTO_SALUD ┆ str       ┆   ┆ ---       ┆ egresos   ┆ resos     ┆ sos      │\n",
       "│ i64       ┆ ---       ┆ ---       ┆           ┆   ┆ f64       ┆ ---       ┆ ---       ┆ ---      │\n",
       "│           ┆ i64       ┆ str       ┆           ┆   ┆           ┆ u32       ┆ u32       ┆ f64      │\n",
       "╞═══════════╪═══════════╪═══════════╪═══════════╪═══╪═══════════╪═══════════╪═══════════╪══════════╡\n",
       "│ 2013      ┆ 123100    ┆ Hospital  ┆ Cap.06    ┆ … ┆ 0.083333  ┆ null      ┆ null      ┆ null     │\n",
       "│           ┆           ┆ Base San  ┆ ENFERMEDA ┆   ┆           ┆           ┆           ┆          │\n",
       "│           ┆           ┆ José de   ┆ DES DEL   ┆   ┆           ┆           ┆           ┆          │\n",
       "│           ┆           ┆ Osorno    ┆ SISTEMA…  ┆   ┆           ┆           ┆           ┆          │\n",
       "│ 2001      ┆ 104104    ┆ Hospital  ┆ Cap.19    ┆ … ┆ null      ┆ null      ┆ null      ┆ null     │\n",
       "│           ┆           ┆ Dr.       ┆ LESIONES  ┆   ┆           ┆           ┆           ┆          │\n",
       "│           ┆           ┆ Manuel    ┆ TRAUMÁTIC ┆   ┆           ┆           ┆           ┆          │\n",
       "│           ┆           ┆ Magalhaes ┆ AS, EN…   ┆   ┆           ┆           ┆           ┆          │\n",
       "│           ┆           ┆ Me…       ┆           ┆   ┆           ┆           ┆           ┆          │\n",
       "│ 2016      ┆ 115106    ┆ Hospital  ┆ Cap.05    ┆ … ┆ null      ┆ null      ┆ null      ┆ null     │\n",
       "│           ┆           ┆ de Pichid ┆ TRASTORNO ┆   ┆           ┆           ┆           ┆          │\n",
       "│           ┆           ┆ egua      ┆ S         ┆   ┆           ┆           ┆           ┆          │\n",
       "│           ┆           ┆           ┆ MENTALES  ┆   ┆           ┆           ┆           ┆          │\n",
       "│           ┆           ┆           ┆ Y DE…     ┆   ┆           ┆           ┆           ┆          │\n",
       "│ 2006      ┆ 112100    ┆ Hospital  ┆ Cap.13    ┆ … ┆ 0.031496  ┆ null      ┆ null      ┆ null     │\n",
       "│           ┆           ┆ Del       ┆ ENFERMEDA ┆   ┆           ┆           ┆           ┆          │\n",
       "│           ┆           ┆ Salvador  ┆ DES DEL   ┆   ┆           ┆           ┆           ┆          │\n",
       "│           ┆           ┆ (Santiago ┆ APARATO…  ┆   ┆           ┆           ┆           ┆          │\n",
       "│           ┆           ┆ ,…        ┆           ┆   ┆           ┆           ┆           ┆          │\n",
       "│ …         ┆ …         ┆ …         ┆ …         ┆ … ┆ …         ┆ …         ┆ …         ┆ …        │\n",
       "│ 2010      ┆ 112211    ┆ Clínica   ┆ Cap.16    ┆ … ┆ null      ┆ null      ┆ null      ┆ null     │\n",
       "│           ┆           ┆ Indisa    ┆ CIERTAS   ┆   ┆           ┆           ┆           ┆          │\n",
       "│           ┆           ┆           ┆ AFECCIONE ┆   ┆           ┆           ┆           ┆          │\n",
       "│           ┆           ┆           ┆ S ORIGI…  ┆   ┆           ┆           ┆           ┆          │\n",
       "│ 2001      ┆ 110100    ┆ Hospital  ┆ Cap.04    ┆ … ┆ 0.047619  ┆ null      ┆ null      ┆ null     │\n",
       "│           ┆           ┆ San Juan  ┆ ENFERMEDA ┆   ┆           ┆           ┆           ┆          │\n",
       "│           ┆           ┆ de Dios   ┆ DES ENDOC ┆   ┆           ┆           ┆           ┆          │\n",
       "│           ┆           ┆ (Santi…   ┆ RINAS,…   ┆   ┆           ┆           ┆           ┆          │\n",
       "│ 2017      ┆ 115110    ┆ Hospital  ┆ Cap.01    ┆ … ┆ 0.011628  ┆ null      ┆ null      ┆ null     │\n",
       "│           ┆           ┆ de Santa  ┆ CIERTAS   ┆   ┆           ┆           ┆           ┆          │\n",
       "│           ┆           ┆ Cruz      ┆ ENFERMEDA ┆   ┆           ┆           ┆           ┆          │\n",
       "│           ┆           ┆           ┆ DES INF…  ┆   ┆           ┆           ┆           ┆          │\n",
       "│ 2020      ┆ 122105    ┆ Hospital  ┆ Cap.13    ┆ … ┆ null      ┆ null      ┆ null      ┆ null     │\n",
       "│           ┆           ┆ de Río    ┆ ENFERMEDA ┆   ┆           ┆           ┆           ┆          │\n",
       "│           ┆           ┆ Bueno     ┆ DES DEL   ┆   ┆           ┆           ┆           ┆          │\n",
       "│           ┆           ┆           ┆ APARATO…  ┆   ┆           ┆           ┆           ┆          │\n",
       "└───────────┴───────────┴───────────┴───────────┴───┴───────────┴───────────┴───────────┴──────────┘"
      ]
     },
     "metadata": {},
     "output_type": "display_data"
    }
   ],
   "source": [
    "display(rankings_nacionales.sample(10))"
   ]
  },
  {
   "cell_type": "markdown",
   "metadata": {},
   "source": [
    "En la muestra anterior se puede observar las métricas previamente calculada, y el ranking\n",
    "respectivo que tiene cada hospital para diagnósticos en cada año específico.\n"
   ]
  },
  {
   "cell_type": "code",
   "execution_count": null,
   "metadata": {},
   "outputs": [],
   "source": [
    "rankings_nacionales.to_pandas().to_csv(\n",
    "    \"../data/interim/ranking_nacional_egresos.csv\",\n",
    "    sep=\";\",\n",
    "    decimal=\".\",\n",
    "    encoding=\"latin-1\",\n",
    "    index=False,\n",
    ")\n",
    "\n",
    "rankings_hospital_analizado.to_pandas().to_csv(\n",
    "    \"../data/interim/ranking_torax_egresos.csv\",\n",
    "    sep=\";\",\n",
    "    decimal=\".\",\n",
    "    encoding=\"latin-1\",\n",
    "    index=False,\n",
    ")"
   ]
  },
  {
   "cell_type": "markdown",
   "metadata": {},
   "source": [
    "## Metricas para personas sobre 14 años\n",
    "\n",
    "En este análisis se quiere ver el ranking de egresos pero solamente tomando en cuenta a personas\n",
    "mayores a 14 años. Esto, para dilucidar si el hospital del tórax es altamente relevante para tratar\n",
    "patologías congénitas de adultos.\n"
   ]
  },
  {
   "cell_type": "code",
   "execution_count": null,
   "metadata": {},
   "outputs": [],
   "source": [
    "df_nacional_mayores_a_14 = df_nacional.filter(pl.col(\"EDAD_A_OS\") > 14)"
   ]
  },
  {
   "cell_type": "code",
   "execution_count": null,
   "metadata": {},
   "outputs": [],
   "source": [
    "metricas_sobre_14 = build_features.obtener_metricas_egresos(\n",
    "    df_nacional_mayores_a_14, AGRUPACION\n",
    ").collect()"
   ]
  },
  {
   "cell_type": "code",
   "execution_count": null,
   "metadata": {},
   "outputs": [],
   "source": [
    "variables_a_rankear = [\"n_egresos\"]\n",
    "subgrupo_del_ranking = [\"ANO_EGRESO\", \"DIAG1\"]\n",
    "\n",
    "rankings_nacionales_sobre_14 = build_features.agregar_ranking_estratos(\n",
    "    metricas_sobre_14, dict_estratos, variables_a_rankear, subgrupo_del_ranking\n",
    ")\n",
    "\n",
    "diags_congenitos_relevantes = rankings_nacionales_sobre_14.filter(\n",
    "    (pl.col(\"DIAG1\").is_in([\"Q230\", \"Q211\", \"Q231\"])) & (pl.col(\"ANO_EGRESO\") == 2019)\n",
    ")"
   ]
  },
  {
   "cell_type": "code",
   "execution_count": null,
   "metadata": {},
   "outputs": [],
   "source": [
    "diags_congenitos_relevantes.to_pandas().to_csv(\n",
    "    \"../data/interim/diags_congenitas_sobre_14_egresos.csv\",\n",
    "    sep=\";\",\n",
    "    decimal=\".\",\n",
    "    encoding=\"latin-1\",\n",
    "    index=False,\n",
    ")"
   ]
  },
  {
   "cell_type": "markdown",
   "metadata": {},
   "source": [
    "## 3. Análisis de procedimientos DEIS\n",
    "\n",
    "En este análisis se quieren responder las siguientes preguntas:\n",
    "\n",
    "1. ¿Cuál es el procedimiento más frecuente dentro de los pacientes que se les realizó un procedimiento\n",
    "   quirúrgico?\n"
   ]
  },
  {
   "cell_type": "code",
   "execution_count": null,
   "metadata": {},
   "outputs": [
    {
     "name": "stderr",
     "output_type": "stream",
     "text": [
      "/var/folders/wy/2slj_t7s2vz19v2h2926qb340000gn/T/ipykernel_24941/3397463805.py:3: DeprecationWarning: `groupby` is deprecated. It has been renamed to `group_by`.\n",
      "  .groupby([\"ANO_EGRESO\", \"ESTABLECIMIENTO_SALUD\", \"GLOSA_PROCED_PPAL\"])\n"
     ]
    }
   ],
   "source": [
    "proced = (\n",
    "    df_nacional.filter(pl.col(\"INTERV_Q\") == 1)\n",
    "    .groupby([\"ANO_EGRESO\", \"ESTABLECIMIENTO_SALUD\", \"GLOSA_PROCED_PPAL\"])\n",
    "    .agg(pl.count())\n",
    ").collect()"
   ]
  },
  {
   "cell_type": "code",
   "execution_count": null,
   "metadata": {},
   "outputs": [
    {
     "data": {
      "text/html": [
       "<div><style>\n",
       ".dataframe > thead > tr > th,\n",
       ".dataframe > tbody > tr > td {\n",
       "  text-align: right;\n",
       "  white-space: pre-wrap;\n",
       "}\n",
       "</style>\n",
       "<small>shape: (10_757, 4)</small><table border=\"1\" class=\"dataframe\"><thead><tr><th>ANO_EGRESO</th><th>ESTABLECIMIENTO_SALUD</th><th>GLOSA_PROCED_PPAL</th><th>count</th></tr><tr><td>i64</td><td>i64</td><td>str</td><td>u32</td></tr></thead><tbody><tr><td>2001</td><td>112100</td><td>null</td><td>13867</td></tr><tr><td>2001</td><td>101100</td><td>null</td><td>4816</td></tr><tr><td>2001</td><td>112103</td><td>null</td><td>1143</td></tr><tr><td>2001</td><td>109101</td><td>null</td><td>4618</td></tr><tr><td>2001</td><td>115100</td><td>null</td><td>7926</td></tr><tr><td>2001</td><td>121202</td><td>null</td><td>3181</td></tr><tr><td>2001</td><td>120101</td><td>null</td><td>3313</td></tr><tr><td>2001</td><td>118200</td><td>null</td><td>1996</td></tr><tr><td>2001</td><td>120105</td><td>null</td><td>60</td></tr><tr><td>2001</td><td>121110</td><td>null</td><td>521</td></tr><tr><td>2001</td><td>111229</td><td>null</td><td>1337</td></tr><tr><td>2001</td><td>111211</td><td>null</td><td>4161</td></tr><tr><td>&hellip;</td><td>&hellip;</td><td>&hellip;</td><td>&hellip;</td></tr><tr><td>2020</td><td>109200</td><td>&quot;Mediastinoscop…</td><td>1</td></tr><tr><td>2020</td><td>119208</td><td>&quot;Resonancia Mag…</td><td>1</td></tr><tr><td>2020</td><td>126201</td><td>&quot;Histeroscopía …</td><td>1</td></tr><tr><td>2020</td><td>111202</td><td>&quot;Pleuroscopia (…</td><td>1</td></tr><tr><td>2020</td><td>117225</td><td>&quot;Enteroscopía&quot;</td><td>1</td></tr><tr><td>2020</td><td>113130</td><td>&quot;Gastroduodenos…</td><td>2</td></tr><tr><td>2020</td><td>112101</td><td>&quot;Biopsia endome…</td><td>1</td></tr><tr><td>2020</td><td>200234</td><td>&quot;Colangiopancre…</td><td>1</td></tr><tr><td>2020</td><td>111100</td><td>&quot;Ano-recto-sigm…</td><td>1</td></tr><tr><td>2020</td><td>112248</td><td>&quot;Angioplastia i…</td><td>1</td></tr><tr><td>2020</td><td>110120</td><td>&quot;Yeso braquicar…</td><td>1</td></tr><tr><td>2020</td><td>117225</td><td>&quot;E.C.G. continu…</td><td>1</td></tr></tbody></table></div>"
      ],
      "text/plain": [
       "shape: (10_757, 4)\n",
       "┌────────────┬───────────────────────┬───────────────────────────────────┬───────┐\n",
       "│ ANO_EGRESO ┆ ESTABLECIMIENTO_SALUD ┆ GLOSA_PROCED_PPAL                 ┆ count │\n",
       "│ ---        ┆ ---                   ┆ ---                               ┆ ---   │\n",
       "│ i64        ┆ i64                   ┆ str                               ┆ u32   │\n",
       "╞════════════╪═══════════════════════╪═══════════════════════════════════╪═══════╡\n",
       "│ 2001       ┆ 112100                ┆ null                              ┆ 13867 │\n",
       "│ 2001       ┆ 101100                ┆ null                              ┆ 4816  │\n",
       "│ 2001       ┆ 112103                ┆ null                              ┆ 1143  │\n",
       "│ 2001       ┆ 109101                ┆ null                              ┆ 4618  │\n",
       "│ …          ┆ …                     ┆ …                                 ┆ …     │\n",
       "│ 2020       ┆ 111100                ┆ Ano-recto-sigmoidoscopia en adul… ┆ 1     │\n",
       "│ 2020       ┆ 112248                ┆ Angioplastia intraluminal corona… ┆ 1     │\n",
       "│ 2020       ┆ 110120                ┆ Yeso braquicarpiano               ┆ 1     │\n",
       "│ 2020       ┆ 117225                ┆ E.C.G. continuo (test Holter o s… ┆ 1     │\n",
       "└────────────┴───────────────────────┴───────────────────────────────────┴───────┘"
      ]
     },
     "metadata": {},
     "output_type": "display_data"
    }
   ],
   "source": [
    "display(proced)"
   ]
  },
  {
   "cell_type": "markdown",
   "metadata": {},
   "source": [
    "Los resultados muestran el desglose por año y recinto hospitalario junto a la cantidad de\n",
    "procedimientos realizados en cada intervención quirúrgica. Sin embargo, se puede observar que\n",
    "existe una cantidad importante de casos donde la glosa del procedimiento fue nula.\n",
    "\n",
    "Ahora, se quiere calcular cuántas intervenciones quirúrgicas carecen de una glosa de procedimiento.\n"
   ]
  },
  {
   "cell_type": "code",
   "execution_count": null,
   "metadata": {},
   "outputs": [
    {
     "name": "stderr",
     "output_type": "stream",
     "text": [
      "/var/folders/wy/2slj_t7s2vz19v2h2926qb340000gn/T/ipykernel_24941/989951252.py:1: DeprecationWarning: `groupby` is deprecated. It has been renamed to `group_by`.\n",
      "  display(proced.groupby(\"GLOSA_PROCED_PPAL\").agg(pl.col(\"count\").sum()).sort(\"count\"))\n"
     ]
    },
    {
     "data": {
      "text/html": [
       "<div><style>\n",
       ".dataframe > thead > tr > th,\n",
       ".dataframe > tbody > tr > td {\n",
       "  text-align: right;\n",
       "  white-space: pre-wrap;\n",
       "}\n",
       "</style>\n",
       "<small>shape: (422, 2)</small><table border=\"1\" class=\"dataframe\"><thead><tr><th>GLOSA_PROCED_PPAL</th><th>count</th></tr><tr><td>str</td><td>u32</td></tr></thead><tbody><tr><td>&quot;Cuerpo extraño…</td><td>1</td></tr><tr><td>&quot;Tomografía Com…</td><td>1</td></tr><tr><td>&quot;Dermatoscopia …</td><td>1</td></tr><tr><td>&quot;Electromiograf…</td><td>1</td></tr><tr><td>&quot;Calzon corto d…</td><td>1</td></tr><tr><td>&quot;Rinomanometria…</td><td>1</td></tr><tr><td>&quot;Función tubari…</td><td>1</td></tr><tr><td>&quot;Sesión de Psic…</td><td>1</td></tr><tr><td>&quot;Volúmenes pulm…</td><td>1</td></tr><tr><td>&quot;E.E.G. de 16 o…</td><td>1</td></tr><tr><td>&quot;Audiometría ni…</td><td>1</td></tr><tr><td>&quot;Obturación Inl…</td><td>1</td></tr><tr><td>&hellip;</td><td>&hellip;</td></tr><tr><td>&quot;Anestesia gene…</td><td>2932</td></tr><tr><td>&quot;Biopsia endome…</td><td>2975</td></tr><tr><td>&quot;Colangiopancre…</td><td>3605</td></tr><tr><td>&quot;Monitoreo feta…</td><td>4055</td></tr><tr><td>&quot;Monitoreo basa…</td><td>4875</td></tr><tr><td>&quot;Anestesia peri…</td><td>5308</td></tr><tr><td>&quot;E.C.G. de repo…</td><td>5684</td></tr><tr><td>&quot;Ecografía como…</td><td>7519</td></tr><tr><td>&quot;Instilacion ve…</td><td>7685</td></tr><tr><td>&quot;Código no exis…</td><td>11155</td></tr><tr><td>&quot;Apoyo fluorosc…</td><td>15775</td></tr><tr><td>null</td><td>12382642</td></tr></tbody></table></div>"
      ],
      "text/plain": [
       "shape: (422, 2)\n",
       "┌───────────────────────────────────┬──────────┐\n",
       "│ GLOSA_PROCED_PPAL                 ┆ count    │\n",
       "│ ---                               ┆ ---      │\n",
       "│ str                               ┆ u32      │\n",
       "╞═══════════════════════════════════╪══════════╡\n",
       "│ Cuerpo extraño en fosas nasales,… ┆ 1        │\n",
       "│ Tomografía Computarizada de Colo… ┆ 1        │\n",
       "│ Dermatoscopia digital con regist… ┆ 1        │\n",
       "│ Electromiografia de fibra unica   ┆ 1        │\n",
       "│ …                                 ┆ …        │\n",
       "│ Instilacion vesical (incluye col… ┆ 7685     │\n",
       "│ Código no existe actualmente      ┆ 11155    │\n",
       "│ Apoyo fluoroscópico a procedimie… ┆ 15775    │\n",
       "│ null                              ┆ 12382642 │\n",
       "└───────────────────────────────────┴──────────┘"
      ]
     },
     "metadata": {},
     "output_type": "display_data"
    }
   ],
   "source": [
    "display(proced.groupby(\"GLOSA_PROCED_PPAL\").agg(pl.col(\"count\").sum()).sort(\"count\"))"
   ]
  },
  {
   "cell_type": "markdown",
   "metadata": {},
   "source": [
    "Por lo tanto, 12382642 de todas las intervenciones quirúrgicas carecen de una glosa de procedimiento.\n"
   ]
  },
  {
   "cell_type": "code",
   "execution_count": null,
   "metadata": {},
   "outputs": [
    {
     "data": {
      "text/plain": [
       "<xlsxwriter.workbook.Workbook at 0x109da9250>"
      ]
     },
     "execution_count": 41,
     "metadata": {},
     "output_type": "execute_result"
    }
   ],
   "source": [
    "proced.write_excel(\"../data/interim/conteo_procedimientos.xlsx\")"
   ]
  },
  {
   "cell_type": "markdown",
   "metadata": {},
   "source": [
    "# 4. Obtencion de Metricas por Meses\n",
    "\n",
    "En este apartado se quieren obtener las metricas de Egresos (n_egresos, dias_estada, n_int_q, n_muertos)\n",
    "por Meses."
   ]
  },
  {
   "cell_type": "code",
   "execution_count": null,
   "metadata": {},
   "outputs": [],
   "source": [
    "df_nacional_fecha = df_nacional.with_columns(pl.col(\"FECHA_EGRESO\").str.to_date()).with_columns(\n",
    "    [\n",
    "        pl.col(\"FECHA_EGRESO\").dt.month().alias(\"MES_EGRESO\"),\n",
    "        pl.col(\"FECHA_EGRESO\").dt.day().alias(\"DIA_EGRESO\"),\n",
    "    ]\n",
    ")"
   ]
  },
  {
   "cell_type": "code",
   "execution_count": null,
   "metadata": {},
   "outputs": [],
   "source": [
    "AGRUPACION_POR_MES_Y_DIA = [\n",
    "    \"ANO_EGRESO\",\n",
    "    \"MES_EGRESO\",\n",
    "    \"DIA_EGRESO\",\n",
    "    \"ESTABLECIMIENTO_SALUD\",\n",
    "    \"GLOSA_ESTABLECIMIENTO_SALUD\",\n",
    "    \"DIAG1\",\n",
    "]\n",
    "\n",
    "metricas_por_mes_y_dia = build_features.obtener_metricas_egresos(\n",
    "    df_nacional_fecha, AGRUPACION_POR_MES_Y_DIA\n",
    ").collect()"
   ]
  },
  {
   "cell_type": "code",
   "execution_count": null,
   "metadata": {},
   "outputs": [],
   "source": [
    "metricas_torax_por_mes_y_dia = metricas_por_mes_y_dia.filter(\n",
    "    pl.col(\"ESTABLECIMIENTO_SALUD\") == HOSPITAL_A_ANLIZAR\n",
    ")"
   ]
  },
  {
   "cell_type": "code",
   "execution_count": null,
   "metadata": {},
   "outputs": [],
   "source": [
    "metricas_torax_por_mes_y_dia.write_csv(\"../data/interim/egresos_torax_mes_y_dia.csv\")"
   ]
  },
  {
   "cell_type": "code",
   "execution_count": null,
   "metadata": {},
   "outputs": [],
   "source": [
    "resumen_cancer_pulmon_nacional = (\n",
    "    df_nacional.filter(pl.col(\"DIAG1\").str.contains(\"C34\"))\n",
    "    .group_by(\"ANO_EGRESO\")\n",
    "    .agg(\n",
    "        [\n",
    "            pl.col(\"DIAG1\").count().alias(\"n_egresos\"),\n",
    "            pl.col(\"DIAS_ESTADA\").sum().alias(\"dias_estada_totales\"),\n",
    "            pl.col(\"INTERV_Q\").sum().alias(\"n_int_q\"),\n",
    "            pl.col(\"CONDICION_EGRESO\").sum().alias(\"n_muertos\"),\n",
    "            pl.col(\"ID_PACIENTE\").n_unique().alias(\"n_pacientes_distintos\"),\n",
    "        ]\n",
    "    )\n",
    ").collect()"
   ]
  },
  {
   "cell_type": "code",
   "execution_count": null,
   "metadata": {},
   "outputs": [
    {
     "data": {
      "text/html": [
       "<div><style>\n",
       ".dataframe > thead > tr > th,\n",
       ".dataframe > tbody > tr > td {\n",
       "  text-align: right;\n",
       "  white-space: pre-wrap;\n",
       "}\n",
       "</style>\n",
       "<small>shape: (20, 6)</small><table border=\"1\" class=\"dataframe\"><thead><tr><th>ANO_EGRESO</th><th>n_egresos</th><th>dias_estada_totales</th><th>n_int_q</th><th>n_muertos</th><th>n_pacientes_distintos</th></tr><tr><td>i64</td><td>u32</td><td>i64</td><td>i64</td><td>i64</td><td>u32</td></tr></thead><tbody><tr><td>2001</td><td>2103</td><td>21396</td><td>384</td><td>363</td><td>1119</td></tr><tr><td>2002</td><td>2797</td><td>25587</td><td>424</td><td>430</td><td>1342</td></tr><tr><td>2003</td><td>3359</td><td>31451</td><td>504</td><td>384</td><td>1806</td></tr><tr><td>2004</td><td>3415</td><td>29460</td><td>287</td><td>418</td><td>1592</td></tr><tr><td>2005</td><td>3820</td><td>29303</td><td>394</td><td>427</td><td>1934</td></tr><tr><td>2006</td><td>3394</td><td>28819</td><td>433</td><td>434</td><td>1550</td></tr><tr><td>2007</td><td>3345</td><td>29894</td><td>484</td><td>422</td><td>1771</td></tr><tr><td>2008</td><td>3066</td><td>28539</td><td>375</td><td>412</td><td>1783</td></tr><tr><td>2009</td><td>3276</td><td>28272</td><td>520</td><td>429</td><td>1943</td></tr><tr><td>2010</td><td>3298</td><td>30100</td><td>749</td><td>443</td><td>2135</td></tr><tr><td>2011</td><td>3188</td><td>29811</td><td>664</td><td>470</td><td>2026</td></tr><tr><td>2012</td><td>3072</td><td>29679</td><td>685</td><td>444</td><td>1955</td></tr><tr><td>2013</td><td>3384</td><td>30511</td><td>692</td><td>527</td><td>2133</td></tr><tr><td>2014</td><td>3271</td><td>31942</td><td>640</td><td>490</td><td>2109</td></tr><tr><td>2015</td><td>3330</td><td>33453</td><td>738</td><td>493</td><td>2222</td></tr><tr><td>2016</td><td>3540</td><td>34315</td><td>808</td><td>552</td><td>2368</td></tr><tr><td>2017</td><td>3370</td><td>34194</td><td>761</td><td>555</td><td>2347</td></tr><tr><td>2018</td><td>3539</td><td>34243</td><td>793</td><td>594</td><td>2498</td></tr><tr><td>2019</td><td>3491</td><td>30505</td><td>764</td><td>614</td><td>2506</td></tr><tr><td>2020</td><td>2751</td><td>23927</td><td>636</td><td>441</td><td>2097</td></tr></tbody></table></div>"
      ],
      "text/plain": [
       "shape: (20, 6)\n",
       "┌────────────┬───────────┬─────────────────────┬─────────┬───────────┬───────────────────────┐\n",
       "│ ANO_EGRESO ┆ n_egresos ┆ dias_estada_totales ┆ n_int_q ┆ n_muertos ┆ n_pacientes_distintos │\n",
       "│ ---        ┆ ---       ┆ ---                 ┆ ---     ┆ ---       ┆ ---                   │\n",
       "│ i64        ┆ u32       ┆ i64                 ┆ i64     ┆ i64       ┆ u32                   │\n",
       "╞════════════╪═══════════╪═════════════════════╪═════════╪═══════════╪═══════════════════════╡\n",
       "│ 2001       ┆ 2103      ┆ 21396               ┆ 384     ┆ 363       ┆ 1119                  │\n",
       "│ 2002       ┆ 2797      ┆ 25587               ┆ 424     ┆ 430       ┆ 1342                  │\n",
       "│ 2003       ┆ 3359      ┆ 31451               ┆ 504     ┆ 384       ┆ 1806                  │\n",
       "│ 2004       ┆ 3415      ┆ 29460               ┆ 287     ┆ 418       ┆ 1592                  │\n",
       "│ …          ┆ …         ┆ …                   ┆ …       ┆ …         ┆ …                     │\n",
       "│ 2017       ┆ 3370      ┆ 34194               ┆ 761     ┆ 555       ┆ 2347                  │\n",
       "│ 2018       ┆ 3539      ┆ 34243               ┆ 793     ┆ 594       ┆ 2498                  │\n",
       "│ 2019       ┆ 3491      ┆ 30505               ┆ 764     ┆ 614       ┆ 2506                  │\n",
       "│ 2020       ┆ 2751      ┆ 23927               ┆ 636     ┆ 441       ┆ 2097                  │\n",
       "└────────────┴───────────┴─────────────────────┴─────────┴───────────┴───────────────────────┘"
      ]
     },
     "execution_count": 50,
     "metadata": {},
     "output_type": "execute_result"
    }
   ],
   "source": [
    "resumen_cancer_pulmon_nacional.sort(\"ANO_EGRESO\")"
   ]
  },
  {
   "cell_type": "code",
   "execution_count": null,
   "metadata": {},
   "outputs": [],
   "source": []
  }
 ],
 "metadata": {
  "kernelspec": {
   "display_name": "egresos-deis",
   "language": "python",
   "name": "python3"
  },
  "language_info": {
   "codemirror_mode": {
    "name": "ipython",
    "version": 3
   },
   "file_extension": ".py",
   "mimetype": "text/x-python",
   "name": "python",
   "nbconvert_exporter": "python",
   "pygments_lexer": "ipython3",
   "version": "3.11.5"
  },
  "orig_nbformat": 4
 },
 "nbformat": 4,
 "nbformat_minor": 2
}
