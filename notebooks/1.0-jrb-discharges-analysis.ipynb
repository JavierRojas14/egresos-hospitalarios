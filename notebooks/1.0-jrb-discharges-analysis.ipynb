{
 "cells": [
  {
   "cell_type": "code",
   "execution_count": 1,
   "metadata": {},
   "outputs": [],
   "source": [
    "import sys\n",
    "import os\n",
    "\n",
    "project_root = os.path.abspath('..')\n",
    "if project_root not in sys.path:\n",
    "    sys.path.append(project_root)\n",
    "\n",
    "%load_ext autoreload\n",
    "%autoreload 2\n"
   ]
  },
  {
   "cell_type": "code",
   "execution_count": 2,
   "metadata": {},
   "outputs": [],
   "source": [
    "import pandas as pd\n",
    "import numpy as np\n",
    "import polars as pl\n",
    "\n",
    "import matplotlib.pyplot as plt\n",
    "import seaborn as sns\n",
    "\n",
    "from src.data import make_dataset\n",
    "from src.features import build_features\n",
    "\n",
    "sns.set_style()\n",
    "plt.rcParams[\"figure.figsize\"] = (12, 6)\n",
    "\n",
    "HOSPITAL_A_ANLIZAR = 112103  # Este es el Torax\n"
   ]
  },
  {
   "cell_type": "markdown",
   "metadata": {},
   "source": [
    "## Obtencion de Métricas de Egresos Hospitalarios\n",
    "\n",
    "En este apartado se quieren calculcar diversas métricas relevantes para el análisis de los\n",
    "egresos hospitalarios en Chile. Las métricas a calcular son las siguientes:\n",
    "\n",
    "1. Cantidad de Egresos Hospitalarios\n",
    "2. Dias de Estada Totales\n",
    "3. Cantidad de Intervenciones Quirúrgicas\n",
    "4. Cantidad de Muertos\n",
    "\n",
    "Todas estas métricas serán calculadas para cada Año, Establecimiento de Salud y Diagnóstico\n",
    "distinto que exista en la base de datos. Por ejemplo:\n",
    "\n",
    "\"En el año 2019, el Hospital San José (código XXXXXX) tuvo XX egresos, con XX dias estada promedio,\n",
    "con XX intervenciones quirúrgicas y XX muertos para el diagnóstico A24.4\"s"
   ]
  },
  {
   "cell_type": "code",
   "execution_count": 3,
   "metadata": {},
   "outputs": [],
   "source": [
    "df_nacional = pl.scan_csv(\n",
    "    \"../data/processed/egresos_procesados.csv\",\n",
    "    infer_schema_length=10000,\n",
    "    null_values=\"Extranjero\",\n",
    ")"
   ]
  },
  {
   "cell_type": "code",
   "execution_count": 4,
   "metadata": {},
   "outputs": [],
   "source": [
    "AGRUPACION = [\n",
    "    \"ANO_EGRESO\",\n",
    "    \"ESTABLECIMIENTO_SALUD\",\n",
    "    \"GLOSA_ESTABLECIMIENTO_SALUD\",\n",
    "    \"DIAG1\",\n",
    "]\n",
    "\n",
    "metricas = build_features.obtener_metricas_egresos(\n",
    "    df_nacional, AGRUPACION).collect()\n"
   ]
  },
  {
   "cell_type": "code",
   "execution_count": 5,
   "metadata": {},
   "outputs": [
    {
     "data": {
      "text/html": [
       "<div><style>\n",
       ".dataframe > thead > tr > th,\n",
       ".dataframe > tbody > tr > td {\n",
       "  text-align: right;\n",
       "  white-space: pre-wrap;\n",
       "}\n",
       "</style>\n",
       "<small>shape: (10, 8)</small><table border=\"1\" class=\"dataframe\"><thead><tr><th>ANO_EGRESO</th><th>ESTABLECIMIENTO_SALUD</th><th>GLOSA_ESTABLECIMIENTO_SALUD</th><th>DIAG1</th><th>n_egresos</th><th>dias_estada_totales</th><th>n_int_q</th><th>n_muertos</th></tr><tr><td>i64</td><td>i64</td><td>str</td><td>str</td><td>u32</td><td>i64</td><td>i64</td><td>i64</td></tr></thead><tbody><tr><td>2004</td><td>124105</td><td>&quot;Hospital de Pu…</td><td>&quot;J852&quot;</td><td>2</td><td>46</td><td>0</td><td>0</td></tr><tr><td>2001</td><td>112211</td><td>&quot;Clínica Indisa…</td><td>&quot;M708&quot;</td><td>1</td><td>10</td><td>1</td><td>0</td></tr><tr><td>2017</td><td>124260</td><td>&quot;Clínica Univer…</td><td>&quot;M235&quot;</td><td>12</td><td>13</td><td>12</td><td>0</td></tr><tr><td>2011</td><td>115221</td><td>&quot;Clínica Isamed…</td><td>&quot;E140&quot;</td><td>4</td><td>6</td><td>0</td><td>0</td></tr><tr><td>2018</td><td>117106</td><td>&quot;Hospital Comun…</td><td>&quot;K579&quot;</td><td>1</td><td>3</td><td>0</td><td>0</td></tr><tr><td>2019</td><td>121109</td><td>&quot;Hospital Dr. H…</td><td>&quot;L031&quot;</td><td>35</td><td>285</td><td>8</td><td>0</td></tr><tr><td>2016</td><td>107206</td><td>&quot;Clínica Reñaca…</td><td>&quot;M419&quot;</td><td>2</td><td>2</td><td>0</td><td>0</td></tr><tr><td>2015</td><td>124110</td><td>&quot;Hospital de Ll…</td><td>&quot;F412&quot;</td><td>1</td><td>5</td><td>0</td><td>0</td></tr><tr><td>2016</td><td>116109</td><td>&quot;Hospital Dr. A…</td><td>&quot;T252&quot;</td><td>1</td><td>11</td><td>0</td><td>0</td></tr><tr><td>2001</td><td>122202</td><td>&quot;Clínica Aleman…</td><td>&quot;Z033&quot;</td><td>1</td><td>1</td><td>0</td><td>0</td></tr></tbody></table></div>"
      ],
      "text/plain": [
       "shape: (10, 8)\n",
       "┌────────────┬──────────────┬──────────────┬───────┬───────────┬─────────────┬─────────┬───────────┐\n",
       "│ ANO_EGRESO ┆ ESTABLECIMIE ┆ GLOSA_ESTABL ┆ DIAG1 ┆ n_egresos ┆ dias_estada ┆ n_int_q ┆ n_muertos │\n",
       "│ ---        ┆ NTO_SALUD    ┆ ECIMIENTO_SA ┆ ---   ┆ ---       ┆ _totales    ┆ ---     ┆ ---       │\n",
       "│ i64        ┆ ---          ┆ LUD          ┆ str   ┆ u32       ┆ ---         ┆ i64     ┆ i64       │\n",
       "│            ┆ i64          ┆ ---          ┆       ┆           ┆ i64         ┆         ┆           │\n",
       "│            ┆              ┆ str          ┆       ┆           ┆             ┆         ┆           │\n",
       "╞════════════╪══════════════╪══════════════╪═══════╪═══════════╪═════════════╪═════════╪═══════════╡\n",
       "│ 2004       ┆ 124105       ┆ Hospital de  ┆ J852  ┆ 2         ┆ 46          ┆ 0       ┆ 0         │\n",
       "│            ┆              ┆ Puerto Montt ┆       ┆           ┆             ┆         ┆           │\n",
       "│ 2001       ┆ 112211       ┆ Clínica      ┆ M708  ┆ 1         ┆ 10          ┆ 1       ┆ 0         │\n",
       "│            ┆              ┆ Indisa       ┆       ┆           ┆             ┆         ┆           │\n",
       "│ 2017       ┆ 124260       ┆ Clínica Univ ┆ M235  ┆ 12        ┆ 13          ┆ 12      ┆ 0         │\n",
       "│            ┆              ┆ ersitaria de ┆       ┆           ┆             ┆         ┆           │\n",
       "│            ┆              ┆ Puerto …     ┆       ┆           ┆             ┆         ┆           │\n",
       "│ 2011       ┆ 115221       ┆ Clínica      ┆ E140  ┆ 4         ┆ 6           ┆ 0       ┆ 0         │\n",
       "│            ┆              ┆ Isamedica    ┆       ┆           ┆             ┆         ┆           │\n",
       "│ …          ┆ …            ┆ …            ┆ …     ┆ …         ┆ …           ┆ …       ┆ …         │\n",
       "│ 2016       ┆ 107206       ┆ Clínica      ┆ M419  ┆ 2         ┆ 2           ┆ 0       ┆ 0         │\n",
       "│            ┆              ┆ Reñaca       ┆       ┆           ┆             ┆         ┆           │\n",
       "│ 2015       ┆ 124110       ┆ Hospital de  ┆ F412  ┆ 1         ┆ 5           ┆ 0       ┆ 0         │\n",
       "│            ┆              ┆ Llanquihue   ┆       ┆           ┆             ┆         ┆           │\n",
       "│ 2016       ┆ 116109       ┆ Hospital Dr. ┆ T252  ┆ 1         ┆ 11          ┆ 0       ┆ 0         │\n",
       "│            ┆              ┆ Abel         ┆       ┆           ┆             ┆         ┆           │\n",
       "│            ┆              ┆ Fuentealba   ┆       ┆           ┆             ┆         ┆           │\n",
       "│            ┆              ┆ Lag…         ┆       ┆           ┆             ┆         ┆           │\n",
       "│ 2001       ┆ 122202       ┆ Clínica      ┆ Z033  ┆ 1         ┆ 1           ┆ 0       ┆ 0         │\n",
       "│            ┆              ┆ Alemana      ┆       ┆           ┆             ┆         ┆           │\n",
       "│            ┆              ┆ Valdivia     ┆       ┆           ┆             ┆         ┆           │\n",
       "└────────────┴──────────────┴──────────────┴───────┴───────────┴─────────────┴─────────┴───────────┘"
      ]
     },
     "metadata": {},
     "output_type": "display_data"
    }
   ],
   "source": [
    "display(metricas.sample(10))\n"
   ]
  },
  {
   "cell_type": "markdown",
   "metadata": {},
   "source": [
    "- Al ver una muestra del calculo realizado, se puede observar la cantidad de egresos, dias de\n",
    "estada, numero de intervenciones quirurgicas y cantidad de muertos para 10 duplas de\n",
    "hospitales - diagnosticos distintos."
   ]
  },
  {
   "cell_type": "markdown",
   "metadata": {},
   "source": [
    "Si bien se tienen las metricas calculadas, ahora se quiere responder a las siguientes preguntas:\n",
    "\n",
    "- En qué diagnósticos se destaca cada hospital productivamente? Esto significa, en qué diagnósticos\n",
    "cada hospital tiene una mayor cantidad de egresos que otros hospitales?\n",
    "\n",
    "- El hospital tiene un desempeño similar dentro de distintos grupos/estratos de hospitales?\n",
    "El hospital se desempeñara de la misma forma nacionalmente, dentro del estrato público, privado,\n",
    "etc...?\n",
    "\n",
    "Para responder a la pregunta se realizará un ranking de todos los hospitales para cada\n",
    "diagnóstico y cada año observado. Este ranking se realizará para distintos grupos/estratos de\n",
    "hospitales (Nacional, Hospitales Públicos, Hospitales Privados, Hospitales GRD)"
   ]
  },
  {
   "cell_type": "markdown",
   "metadata": {},
   "source": [
    "## Análisis de Estratos"
   ]
  },
  {
   "cell_type": "code",
   "execution_count": 6,
   "metadata": {},
   "outputs": [],
   "source": [
    "dict_estratos = build_features.obtener_diccionario_estratos(\n",
    "    df_nacional, HOSPITAL_A_ANLIZAR\n",
    ")"
   ]
  },
  {
   "cell_type": "code",
   "execution_count": 7,
   "metadata": {},
   "outputs": [],
   "source": [
    "variables_a_rankear = [\"n_egresos\"]\n",
    "subgrupo_del_ranking = [\"ANO_EGRESO\", \"DIAG1\"]\n",
    "\n",
    "rankings_nacionales = build_features.agregar_ranking_estratos(\n",
    "    metricas, dict_estratos, variables_a_rankear, subgrupo_del_ranking\n",
    ")\n",
    "\n",
    "rankings_hospital_analizado = rankings_nacionales.filter(\n",
    "    pl.col(\"ESTABLECIMIENTO_SALUD\") == HOSPITAL_A_ANLIZAR\n",
    ")\n"
   ]
  },
  {
   "cell_type": "code",
   "execution_count": 8,
   "metadata": {},
   "outputs": [
    {
     "name": "stderr",
     "output_type": "stream",
     "text": [
      "C:\\Users\\ppizarro\\AppData\\Local\\Temp\\ipykernel_13136\\516069765.py:7: DeprecationWarning: `groupby` is deprecated. It has been renamed to `group_by`.\n",
      "  veinte_mas_relevantes_por_anio = diags_mas_relevantes.groupby([\"ANO_EGRESO\"]).head(20)\n"
     ]
    }
   ],
   "source": [
    "diags_mas_relevantes = rankings_hospital_analizado.filter(\n",
    "    (pl.col(\"ranking_nacionales_n_egresos\") == 1)\n",
    "    & (pl.col(\"n_int_q\") > 0)\n",
    "    & (pl.col(\"ANO_EGRESO\") > 2011)\n",
    ").sort(by=[\"ANO_EGRESO\", \"n_egresos\", \"n_int_q\"], descending=True)\n",
    "\n",
    "veinte_mas_relevantes_por_anio = diags_mas_relevantes.groupby([\"ANO_EGRESO\"]).head(20)"
   ]
  },
  {
   "cell_type": "code",
   "execution_count": 9,
   "metadata": {},
   "outputs": [],
   "source": [
    "DIAGS_MAS_RELEVANTES = veinte_mas_relevantes_por_anio.select(pl.col(\"DIAG1\").unique()).sort(\n",
    "    by=\"DIAG1\"\n",
    ")"
   ]
  },
  {
   "cell_type": "code",
   "execution_count": 10,
   "metadata": {},
   "outputs": [
    {
     "name": "stdout",
     "output_type": "stream",
     "text": [
      "shape: (45, 1)\n",
      "┌───────┐\n",
      "│ DIAG1 │\n",
      "│ ---   │\n",
      "│ str   │\n",
      "╞═══════╡\n",
      "│ C33X  │\n",
      "│ C340  │\n",
      "│ C341  │\n",
      "│ C342  │\n",
      "│ …     │\n",
      "│ Q676  │\n",
      "│ T820  │\n",
      "│ T821  │\n",
      "│ Z450  │\n",
      "└───────┘\n"
     ]
    }
   ],
   "source": [
    "print(DIAGS_MAS_RELEVANTES)"
   ]
  },
  {
   "cell_type": "markdown",
   "metadata": {},
   "source": [
    "Para hacer un contorl de lo que se calculo, se observará una muestra de 10 hospitales - diagnósticos\n",
    "distintos"
   ]
  },
  {
   "cell_type": "code",
   "execution_count": 11,
   "metadata": {},
   "outputs": [
    {
     "data": {
      "text/html": [
       "<div><style>\n",
       ".dataframe > thead > tr > th,\n",
       ".dataframe > tbody > tr > td {\n",
       "  text-align: right;\n",
       "  white-space: pre-wrap;\n",
       "}\n",
       "</style>\n",
       "<small>shape: (10, 27)</small><table border=\"1\" class=\"dataframe\"><thead><tr><th>ANO_EGRESO</th><th>ESTABLECIMIENTO_SALUD</th><th>GLOSA_ESTABLECIMIENTO_SALUD</th><th>Capítulo</th><th>Sección</th><th>Categoría</th><th>Descripción</th><th>DIAG1</th><th>n_egresos</th><th>dias_estada_totales</th><th>n_int_q</th><th>n_muertos</th><th>ranking_nacionales_n_egresos</th><th>total_nacionales_n_egresos</th><th>%_nacionales_n_egresos</th><th>ranking_publicos_n_egresos</th><th>total_publicos_n_egresos</th><th>%_publicos_n_egresos</th><th>ranking_privados_n_egresos</th><th>total_privados_n_egresos</th><th>%_privados_n_egresos</th><th>ranking_grd_n_egresos</th><th>total_grd_n_egresos</th><th>%_grd_n_egresos</th><th>ranking_interno_n_egresos</th><th>total_interno_n_egresos</th><th>%_interno_n_egresos</th></tr><tr><td>i64</td><td>i64</td><td>str</td><td>str</td><td>str</td><td>str</td><td>str</td><td>str</td><td>u32</td><td>i64</td><td>i64</td><td>i64</td><td>u32</td><td>u32</td><td>f64</td><td>u32</td><td>u32</td><td>f64</td><td>u32</td><td>u32</td><td>f64</td><td>u32</td><td>u32</td><td>f64</td><td>u32</td><td>u32</td><td>f64</td></tr></thead><tbody><tr><td>2007</td><td>111203</td><td>&quot;Hospital Penit…</td><td>&quot;Cap.21  FACTOR…</td><td>&quot;Z40-Z54  CONTA…</td><td>&quot;Z43 ATENCIÓN D…</td><td>&quot;Atención de il…</td><td>&quot;Z432&quot;</td><td>2</td><td>3</td><td>0</td><td>0</td><td>19</td><td>144</td><td>0.013889</td><td>null</td><td>null</td><td>null</td><td>8</td><td>73</td><td>0.027397</td><td>null</td><td>null</td><td>null</td><td>null</td><td>null</td><td>null</td></tr><tr><td>2020</td><td>107206</td><td>&quot;Clínica Reñaca…</td><td>&quot;Cap.09  ENFERM…</td><td>&quot;I70-I79  ENFER…</td><td>&quot;I77 OTROS TRAS…</td><td>&quot;Arteritis, no …</td><td>&quot;I776&quot;</td><td>1</td><td>37</td><td>0</td><td>0</td><td>58</td><td>280</td><td>0.003571</td><td>null</td><td>null</td><td>null</td><td>15</td><td>69</td><td>0.014493</td><td>null</td><td>null</td><td>null</td><td>null</td><td>null</td><td>null</td></tr><tr><td>2013</td><td>117106</td><td>&quot;Hospital Comun…</td><td>&quot;Cap.06  ENFERM…</td><td>&quot;G40-G47  TRAST…</td><td>&quot;G45 ATAQUES DE…</td><td>&quot;Isquemia cereb…</td><td>&quot;G459&quot;</td><td>2</td><td>7</td><td>0</td><td>0</td><td>117</td><td>1695</td><td>0.00118</td><td>86</td><td>1158</td><td>0.001727</td><td>null</td><td>null</td><td>null</td><td>null</td><td>null</td><td>null</td><td>null</td><td>null</td><td>null</td></tr><tr><td>2003</td><td>109101</td><td>&quot;Hospital Clíni…</td><td>&quot;Cap.04  ENFERM…</td><td>&quot;E70-E88  ALTER…</td><td>&quot;E86 DEPLECIÓN …</td><td>&quot;Depleción del …</td><td>&quot;E86X&quot;</td><td>6</td><td>9</td><td>0</td><td>0</td><td>52</td><td>912</td><td>0.006579</td><td>44</td><td>733</td><td>0.008186</td><td>null</td><td>null</td><td>null</td><td>30</td><td>466</td><td>0.012876</td><td>null</td><td>null</td><td>null</td></tr><tr><td>2020</td><td>121119</td><td>&quot;Hospital de Go…</td><td>&quot;Cap.21  FACTOR…</td><td>&quot;Z55-Z65  PERSO…</td><td>&quot;Z60 PROBLEMAS …</td><td>&quot;Problema no es…</td><td>&quot;Z609&quot;</td><td>2</td><td>180</td><td>0</td><td>0</td><td>24</td><td>221</td><td>0.00905</td><td>24</td><td>220</td><td>0.009091</td><td>null</td><td>null</td><td>null</td><td>null</td><td>null</td><td>null</td><td>null</td><td>null</td><td>null</td></tr><tr><td>2007</td><td>122202</td><td>&quot;Clínica Aleman…</td><td>&quot;Cap.09  ENFERM…</td><td>&quot;I80-I89  ENFER…</td><td>&quot;I88 LINFADENIT…</td><td>&quot;Linfadenitis m…</td><td>&quot;I880&quot;</td><td>3</td><td>4</td><td>0</td><td>0</td><td>52</td><td>640</td><td>0.0046875</td><td>null</td><td>null</td><td>null</td><td>23</td><td>255</td><td>0.011765</td><td>null</td><td>null</td><td>null</td><td>null</td><td>null</td><td>null</td></tr><tr><td>2006</td><td>107222</td><td>&quot;Clínica Los Le…</td><td>&quot;Cap.11  ENFERM…</td><td>&quot;K80-K87  TRAST…</td><td>&quot;K81 COLECISTIT…</td><td>&quot;Colecistitis a…</td><td>&quot;K810&quot;</td><td>7</td><td>15</td><td>6</td><td>0</td><td>128</td><td>8914</td><td>0.000785</td><td>null</td><td>null</td><td>null</td><td>48</td><td>1720</td><td>0.00407</td><td>null</td><td>null</td><td>null</td><td>null</td><td>null</td><td>null</td></tr><tr><td>2017</td><td>117205</td><td>&quot;Clínica Las Am…</td><td>&quot;Cap.02  NEOPLA…</td><td>&quot;D00-D09  NEOPL…</td><td>&quot;D09 CARCINOMA …</td><td>&quot;Carcinoma in s…</td><td>&quot;D090&quot;</td><td>1</td><td>2</td><td>1</td><td>0</td><td>13</td><td>34</td><td>0.029412</td><td>null</td><td>null</td><td>null</td><td>11</td><td>29</td><td>0.034483</td><td>null</td><td>null</td><td>null</td><td>null</td><td>null</td><td>null</td></tr><tr><td>2009</td><td>119203</td><td>&quot;Hospital Naval…</td><td>&quot;Cap.11  ENFERM…</td><td>&quot;K55-K64  OTRAS…</td><td>&quot;K57 ENFERMEDAD…</td><td>&quot;Enfermedad div…</td><td>&quot;K573&quot;</td><td>10</td><td>77</td><td>0</td><td>0</td><td>16</td><td>578</td><td>0.017301</td><td>null</td><td>null</td><td>null</td><td>12</td><td>387</td><td>0.02584</td><td>null</td><td>null</td><td>null</td><td>null</td><td>null</td><td>null</td></tr><tr><td>2002</td><td>109101</td><td>&quot;Hospital Clíni…</td><td>&quot;Cap.13  ENFERM…</td><td>&quot;M95-M95  OTROS…</td><td>&quot;M95 OTRAS DEFO…</td><td>&quot;Deformidad adq…</td><td>&quot;M950&quot;</td><td>1</td><td>2</td><td>1</td><td>0</td><td>32</td><td>228</td><td>0.004386</td><td>13</td><td>106</td><td>0.009434</td><td>null</td><td>null</td><td>null</td><td>13</td><td>106</td><td>0.009434</td><td>null</td><td>null</td><td>null</td></tr></tbody></table></div>"
      ],
      "text/plain": [
       "shape: (10, 27)\n",
       "┌───────────┬───────────┬───────────┬───────────┬───┬───────────┬───────────┬───────────┬──────────┐\n",
       "│ ANO_EGRES ┆ ESTABLECI ┆ GLOSA_EST ┆ Capítulo  ┆ … ┆ %_grd_n_e ┆ ranking_i ┆ total_int ┆ %_intern │\n",
       "│ O         ┆ MIENTO_SA ┆ ABLECIMIE ┆ ---       ┆   ┆ gresos    ┆ nterno_n_ ┆ erno_n_eg ┆ o_n_egre │\n",
       "│ ---       ┆ LUD       ┆ NTO_SALUD ┆ str       ┆   ┆ ---       ┆ egresos   ┆ resos     ┆ sos      │\n",
       "│ i64       ┆ ---       ┆ ---       ┆           ┆   ┆ f64       ┆ ---       ┆ ---       ┆ ---      │\n",
       "│           ┆ i64       ┆ str       ┆           ┆   ┆           ┆ u32       ┆ u32       ┆ f64      │\n",
       "╞═══════════╪═══════════╪═══════════╪═══════════╪═══╪═══════════╪═══════════╪═══════════╪══════════╡\n",
       "│ 2007      ┆ 111203    ┆ Hospital  ┆ Cap.21    ┆ … ┆ null      ┆ null      ┆ null      ┆ null     │\n",
       "│           ┆           ┆ Penitenci ┆ FACTORES  ┆   ┆           ┆           ┆           ┆          │\n",
       "│           ┆           ┆ ario      ┆ QUE       ┆   ┆           ┆           ┆           ┆          │\n",
       "│           ┆           ┆           ┆ INFLUYEN  ┆   ┆           ┆           ┆           ┆          │\n",
       "│           ┆           ┆           ┆ EN…       ┆   ┆           ┆           ┆           ┆          │\n",
       "│ 2020      ┆ 107206    ┆ Clínica   ┆ Cap.09    ┆ … ┆ null      ┆ null      ┆ null      ┆ null     │\n",
       "│           ┆           ┆ Reñaca    ┆ ENFERMEDA ┆   ┆           ┆           ┆           ┆          │\n",
       "│           ┆           ┆           ┆ DES DEL   ┆   ┆           ┆           ┆           ┆          │\n",
       "│           ┆           ┆           ┆ APARATO…  ┆   ┆           ┆           ┆           ┆          │\n",
       "│ 2013      ┆ 117106    ┆ Hospital  ┆ Cap.06    ┆ … ┆ null      ┆ null      ┆ null      ┆ null     │\n",
       "│           ┆           ┆ Comunitar ┆ ENFERMEDA ┆   ┆           ┆           ┆           ┆          │\n",
       "│           ┆           ┆ io de     ┆ DES DEL   ┆   ┆           ┆           ┆           ┆          │\n",
       "│           ┆           ┆ Salud Fa… ┆ SISTEMA…  ┆   ┆           ┆           ┆           ┆          │\n",
       "│ 2003      ┆ 109101    ┆ Hospital  ┆ Cap.04    ┆ … ┆ 0.012876  ┆ null      ┆ null      ┆ null     │\n",
       "│           ┆           ┆ Clínico   ┆ ENFERMEDA ┆   ┆           ┆           ┆           ┆          │\n",
       "│           ┆           ┆ de Niños  ┆ DES ENDOC ┆   ┆           ┆           ┆           ┆          │\n",
       "│           ┆           ┆ Dr. Ro…   ┆ RINAS,…   ┆   ┆           ┆           ┆           ┆          │\n",
       "│ …         ┆ …         ┆ …         ┆ …         ┆ … ┆ …         ┆ …         ┆ …         ┆ …        │\n",
       "│ 2006      ┆ 107222    ┆ Clínica   ┆ Cap.11    ┆ … ┆ null      ┆ null      ┆ null      ┆ null     │\n",
       "│           ┆           ┆ Los       ┆ ENFERMEDA ┆   ┆           ┆           ┆           ┆          │\n",
       "│           ┆           ┆ Leones    ┆ DES DEL   ┆   ┆           ┆           ┆           ┆          │\n",
       "│           ┆           ┆           ┆ APARATO…  ┆   ┆           ┆           ┆           ┆          │\n",
       "│ 2017      ┆ 117205    ┆ Clínica   ┆ Cap.02    ┆ … ┆ null      ┆ null      ┆ null      ┆ null     │\n",
       "│           ┆           ┆ Las       ┆ NEOPLASIA ┆   ┆           ┆           ┆           ┆          │\n",
       "│           ┆           ┆ Amapolas  ┆ S         ┆   ┆           ┆           ┆           ┆          │\n",
       "│           ┆           ┆           ┆ (C00-D49) ┆   ┆           ┆           ┆           ┆          │\n",
       "│ 2009      ┆ 119203    ┆ Hospital  ┆ Cap.11    ┆ … ┆ null      ┆ null      ┆ null      ┆ null     │\n",
       "│           ┆           ┆ Naval     ┆ ENFERMEDA ┆   ┆           ┆           ┆           ┆          │\n",
       "│           ┆           ┆ Almirante ┆ DES DEL   ┆   ┆           ┆           ┆           ┆          │\n",
       "│           ┆           ┆ Adriazo…  ┆ APARATO…  ┆   ┆           ┆           ┆           ┆          │\n",
       "│ 2002      ┆ 109101    ┆ Hospital  ┆ Cap.13    ┆ … ┆ 0.009434  ┆ null      ┆ null      ┆ null     │\n",
       "│           ┆           ┆ Clínico   ┆ ENFERMEDA ┆   ┆           ┆           ┆           ┆          │\n",
       "│           ┆           ┆ de Niños  ┆ DES DEL   ┆   ┆           ┆           ┆           ┆          │\n",
       "│           ┆           ┆ Dr. Ro…   ┆ APARATO…  ┆   ┆           ┆           ┆           ┆          │\n",
       "└───────────┴───────────┴───────────┴───────────┴───┴───────────┴───────────┴───────────┴──────────┘"
      ]
     },
     "metadata": {},
     "output_type": "display_data"
    }
   ],
   "source": [
    "display(rankings_nacionales.sample(10))\n"
   ]
  },
  {
   "cell_type": "markdown",
   "metadata": {},
   "source": [
    "En la muestra anterior se puede observar las métricas previamente calculada, y el ranking\n",
    "respectivo que tiene cada hospital para diagnósticos en cada año específico."
   ]
  },
  {
   "cell_type": "code",
   "execution_count": 12,
   "metadata": {},
   "outputs": [],
   "source": [
    "rankings_nacionales.to_pandas().to_csv(\n",
    "    \"../data/interim/ranking_nacional_egresos.csv\",\n",
    "    sep=\";\",\n",
    "    decimal=\".\",\n",
    "    encoding=\"latin-1\",\n",
    "    index=False,\n",
    ")\n",
    "\n",
    "rankings_hospital_analizado.to_pandas().to_csv(\n",
    "    \"../data/interim/ranking_torax_egresos.csv\",\n",
    "    sep=\";\",\n",
    "    decimal=\".\",\n",
    "    encoding=\"latin-1\",\n",
    "    index=False,\n",
    ")"
   ]
  },
  {
   "cell_type": "code",
   "execution_count": 13,
   "metadata": {},
   "outputs": [
    {
     "data": {
      "text/html": [
       "<h4>NAIVE QUERY PLAN</h4><p>run <b>LazyFrame.show_graph()</b> to see the optimized version</p><?xml version=\"1.0\" encoding=\"UTF-8\" standalone=\"no\"?>\r\n",
       "<!DOCTYPE svg PUBLIC \"-//W3C//DTD SVG 1.1//EN\"\r\n",
       " \"http://www.w3.org/Graphics/SVG/1.1/DTD/svg11.dtd\">\r\n",
       "<!-- Generated by graphviz version 8.0.2 (20230410.1723)\r\n",
       " -->\r\n",
       "<!-- Title: polars_query Pages: 1 -->\r\n",
       "<svg width=\"339pt\" height=\"61pt\"\r\n",
       " viewBox=\"0.00 0.00 339.00 61.00\" xmlns=\"http://www.w3.org/2000/svg\" xmlns:xlink=\"http://www.w3.org/1999/xlink\">\r\n",
       "<g id=\"graph0\" class=\"graph\" transform=\"scale(1 1) rotate(0) translate(4 57)\">\r\n",
       "<title>polars_query</title>\r\n",
       "<polygon fill=\"white\" stroke=\"none\" points=\"-4,4 -4,-57 335,-57 335,4 -4,4\"/>\r\n",
       "<!-- [Csv SCAN ../data/processed/egresos_procesados.csv;\r\n",
       "π */40;\r\n",
       "σ &#45;] -->\r\n",
       "<g id=\"node1\" class=\"node\">\r\n",
       "<title>[Csv SCAN ../data/processed/egresos_procesados.csv;\r\n",
       "π */40;\r\n",
       "σ &#45;]</title>\r\n",
       "<polygon fill=\"none\" stroke=\"black\" points=\"331,-53 0,-53 0,0 331,0 331,-53\"/>\r\n",
       "<text text-anchor=\"middle\" x=\"165.5\" y=\"-37.8\" font-family=\"Times New Roman,serif\" font-size=\"14.00\">[Csv SCAN ../data/processed/egresos_procesados.csv;</text>\r\n",
       "<text text-anchor=\"middle\" x=\"165.5\" y=\"-22.8\" font-family=\"Times New Roman,serif\" font-size=\"14.00\">π */40;</text>\r\n",
       "<text text-anchor=\"middle\" x=\"165.5\" y=\"-7.8\" font-family=\"Times New Roman,serif\" font-size=\"14.00\">σ &#45;]</text>\r\n",
       "</g>\r\n",
       "</g>\r\n",
       "</svg>\r\n"
      ],
      "text/plain": [
       "<LazyFrame [40 cols, {\"ID_PACIENTE\": Utf8 … \"EDAD_CATEGORIA\": Utf8}] at 0x22C8D3A0350>"
      ]
     },
     "execution_count": 13,
     "metadata": {},
     "output_type": "execute_result"
    }
   ],
   "source": [
    "df_nacional"
   ]
  },
  {
   "cell_type": "markdown",
   "metadata": {},
   "source": [
    "## Metricas para personas sobre 14 años\n",
    "\n",
    "En este análisis se quiere ver el ranking de egresos pero solamente tomando en cuenta a personas\n",
    "mayores a 14 años. Esto, para dilucidar si el hospital del tórax es altamente relevante para tratar\n",
    "patologías congénitas de adultos."
   ]
  },
  {
   "cell_type": "code",
   "execution_count": 14,
   "metadata": {},
   "outputs": [],
   "source": [
    "df_nacional_mayores_a_14 = df_nacional.filter(pl.col(\"EDAD_A_OS\") > 14)"
   ]
  },
  {
   "cell_type": "code",
   "execution_count": 15,
   "metadata": {},
   "outputs": [],
   "source": [
    "metricas_sobre_14 = build_features.obtener_metricas_egresos(\n",
    "    df_nacional_mayores_a_14, AGRUPACION\n",
    ").collect()\n"
   ]
  },
  {
   "cell_type": "code",
   "execution_count": 16,
   "metadata": {},
   "outputs": [],
   "source": [
    "variables_a_rankear = [\"n_egresos\"]\n",
    "subgrupo_del_ranking = [\"ANO_EGRESO\", \"DIAG1\"]\n",
    "\n",
    "rankings_nacionales_sobre_14 = build_features.agregar_ranking_estratos(\n",
    "    metricas_sobre_14, dict_estratos, variables_a_rankear, subgrupo_del_ranking\n",
    ")\n",
    "\n",
    "diags_congenitos_relevantes = rankings_nacionales_sobre_14.filter(\n",
    "    (pl.col(\"DIAG1\").is_in([\"Q230\", \"Q211\", \"Q231\"])) & (\n",
    "        pl.col(\"ANO_EGRESO\") == 2019)\n",
    ")\n"
   ]
  },
  {
   "cell_type": "code",
   "execution_count": 17,
   "metadata": {},
   "outputs": [],
   "source": [
    "diags_congenitos_relevantes.to_pandas().to_csv(\n",
    "    \"../data/interim/diags_congenitas_sobre_14_egresos.csv\",\n",
    "    sep=\";\",\n",
    "    decimal=\".\",\n",
    "    encoding=\"latin-1\",\n",
    "    index=False,\n",
    ")"
   ]
  },
  {
   "cell_type": "markdown",
   "metadata": {},
   "source": [
    "## 3. Análisis de procedimientos DEIS\n",
    "\n",
    "En este análisis se quieren responder las siguientes preguntas:\n",
    "\n",
    "1. ¿Cuál es el procedimiento más frecuente dentro de los pacientes que se les realizó un procedimiento\n",
    "quirúrgico?"
   ]
  },
  {
   "cell_type": "code",
   "execution_count": 18,
   "metadata": {},
   "outputs": [
    {
     "name": "stderr",
     "output_type": "stream",
     "text": [
      "C:\\Users\\ppizarro\\AppData\\Local\\Temp\\ipykernel_13136\\3397463805.py:3: DeprecationWarning: `groupby` is deprecated. It has been renamed to `group_by`.\n",
      "  .groupby([\"ANO_EGRESO\", \"ESTABLECIMIENTO_SALUD\", \"GLOSA_PROCED_PPAL\"])\n"
     ]
    }
   ],
   "source": [
    "proced = (\n",
    "    df_nacional.filter(pl.col(\"INTERV_Q\") == 1)\n",
    "    .groupby([\"ANO_EGRESO\", \"ESTABLECIMIENTO_SALUD\", \"GLOSA_PROCED_PPAL\"])\n",
    "    .agg(pl.count())\n",
    ").collect()"
   ]
  },
  {
   "cell_type": "code",
   "execution_count": 19,
   "metadata": {},
   "outputs": [
    {
     "data": {
      "text/html": [
       "<div><style>\n",
       ".dataframe > thead > tr > th,\n",
       ".dataframe > tbody > tr > td {\n",
       "  text-align: right;\n",
       "  white-space: pre-wrap;\n",
       "}\n",
       "</style>\n",
       "<small>shape: (10_757, 4)</small><table border=\"1\" class=\"dataframe\"><thead><tr><th>ANO_EGRESO</th><th>ESTABLECIMIENTO_SALUD</th><th>GLOSA_PROCED_PPAL</th><th>count</th></tr><tr><td>i64</td><td>i64</td><td>str</td><td>u32</td></tr></thead><tbody><tr><td>2001</td><td>110100</td><td>null</td><td>5294</td></tr><tr><td>2001</td><td>101213</td><td>null</td><td>1014</td></tr><tr><td>2001</td><td>114102</td><td>null</td><td>379</td></tr><tr><td>2001</td><td>109104</td><td>null</td><td>2</td></tr><tr><td>2001</td><td>113150</td><td>null</td><td>1711</td></tr><tr><td>2001</td><td>115104</td><td>null</td><td>1022</td></tr><tr><td>2001</td><td>110150</td><td>null</td><td>2478</td></tr><tr><td>2001</td><td>124120</td><td>null</td><td>410</td></tr><tr><td>2001</td><td>124125</td><td>null</td><td>401</td></tr><tr><td>2001</td><td>101214</td><td>null</td><td>953</td></tr><tr><td>2001</td><td>103200</td><td>null</td><td>1403</td></tr><tr><td>2001</td><td>121120</td><td>null</td><td>602</td></tr><tr><td>&hellip;</td><td>&hellip;</td><td>&hellip;</td><td>&hellip;</td></tr><tr><td>2020</td><td>133150</td><td>&quot;Cistoscopia y/…</td><td>1</td></tr><tr><td>2020</td><td>124260</td><td>&quot;Puncion subcla…</td><td>1</td></tr><tr><td>2020</td><td>126201</td><td>&quot;Histeroscopía …</td><td>1</td></tr><tr><td>2020</td><td>109103</td><td>&quot;Dilatacion ess…</td><td>1</td></tr><tr><td>2020</td><td>112101</td><td>&quot;Biopsia endome…</td><td>1</td></tr><tr><td>2020</td><td>113130</td><td>&quot;Fracturas meno…</td><td>1</td></tr><tr><td>2020</td><td>115206</td><td>&quot;Colangiopancre…</td><td>1</td></tr><tr><td>2020</td><td>111100</td><td>&quot;Ano-recto-sigm…</td><td>1</td></tr><tr><td>2020</td><td>200486</td><td>&quot;Cistoscopia co…</td><td>1</td></tr><tr><td>2020</td><td>133150</td><td>&quot;Trombolisis ar…</td><td>1</td></tr><tr><td>2020</td><td>112248</td><td>&quot;Angioplastia i…</td><td>1</td></tr><tr><td>2020</td><td>116262</td><td>&quot;Gastroduodenos…</td><td>1</td></tr></tbody></table></div>"
      ],
      "text/plain": [
       "shape: (10_757, 4)\n",
       "┌────────────┬───────────────────────┬───────────────────────────────────┬───────┐\n",
       "│ ANO_EGRESO ┆ ESTABLECIMIENTO_SALUD ┆ GLOSA_PROCED_PPAL                 ┆ count │\n",
       "│ ---        ┆ ---                   ┆ ---                               ┆ ---   │\n",
       "│ i64        ┆ i64                   ┆ str                               ┆ u32   │\n",
       "╞════════════╪═══════════════════════╪═══════════════════════════════════╪═══════╡\n",
       "│ 2001       ┆ 110100                ┆ null                              ┆ 5294  │\n",
       "│ 2001       ┆ 101213                ┆ null                              ┆ 1014  │\n",
       "│ 2001       ┆ 114102                ┆ null                              ┆ 379   │\n",
       "│ 2001       ┆ 109104                ┆ null                              ┆ 2     │\n",
       "│ …          ┆ …                     ┆ …                                 ┆ …     │\n",
       "│ 2020       ┆ 200486                ┆ Cistoscopia con sondeo de uno o … ┆ 1     │\n",
       "│ 2020       ┆ 133150                ┆ Trombolisis arterial periferica   ┆ 1     │\n",
       "│ 2020       ┆ 112248                ┆ Angioplastia intraluminal corona… ┆ 1     │\n",
       "│ 2020       ┆ 116262                ┆ Gastroduodenoscopía (incluye eso… ┆ 1     │\n",
       "└────────────┴───────────────────────┴───────────────────────────────────┴───────┘"
      ]
     },
     "metadata": {},
     "output_type": "display_data"
    }
   ],
   "source": [
    "display(proced)"
   ]
  },
  {
   "cell_type": "markdown",
   "metadata": {},
   "source": [
    "Los resultados muestran el desglose por año y recinto hospitalario junto a la cantidad de\n",
    "procedimientos realizados en cada intervención quirúrgica. Sin embargo, se puede observar que\n",
    "existe una cantidad importante de casos donde la glosa del procedimiento fue nula.\n",
    "\n",
    "Ahora, se quiere calcular cuántas intervenciones quirúrgicas carecen de una glosa de procedimiento."
   ]
  },
  {
   "cell_type": "code",
   "execution_count": 20,
   "metadata": {},
   "outputs": [
    {
     "name": "stderr",
     "output_type": "stream",
     "text": [
      "C:\\Users\\ppizarro\\AppData\\Local\\Temp\\ipykernel_13136\\989951252.py:1: DeprecationWarning: `groupby` is deprecated. It has been renamed to `group_by`.\n",
      "  display(proced.groupby(\"GLOSA_PROCED_PPAL\").agg(pl.col(\"count\").sum()).sort(\"count\"))\n"
     ]
    },
    {
     "data": {
      "text/html": [
       "<div><style>\n",
       ".dataframe > thead > tr > th,\n",
       ".dataframe > tbody > tr > td {\n",
       "  text-align: right;\n",
       "  white-space: pre-wrap;\n",
       "}\n",
       "</style>\n",
       "<small>shape: (422, 2)</small><table border=\"1\" class=\"dataframe\"><thead><tr><th>GLOSA_PROCED_PPAL</th><th>count</th></tr><tr><td>str</td><td>u32</td></tr></thead><tbody><tr><td>&quot;Cuerpo extraño…</td><td>1</td></tr><tr><td>&quot;Perfil uretral…</td><td>1</td></tr><tr><td>&quot;Electromiograf…</td><td>1</td></tr><tr><td>&quot;Audiometría ni…</td><td>1</td></tr><tr><td>&quot;Atención psiqu…</td><td>1</td></tr><tr><td>&quot;Test de relaci…</td><td>1</td></tr><tr><td>&quot;Cintigrafía re…</td><td>1</td></tr><tr><td>&quot;Monitoreo e.e.…</td><td>1</td></tr><tr><td>&quot;Radiografía re…</td><td>1</td></tr><tr><td>&quot;Tratamiento in…</td><td>1</td></tr><tr><td>&quot;Volúmenes pulm…</td><td>1</td></tr><tr><td>&quot;Ecobiometria c…</td><td>1</td></tr><tr><td>&hellip;</td><td>&hellip;</td></tr><tr><td>&quot;Anestesia gene…</td><td>2932</td></tr><tr><td>&quot;Biopsia endome…</td><td>2975</td></tr><tr><td>&quot;Colangiopancre…</td><td>3605</td></tr><tr><td>&quot;Monitoreo feta…</td><td>4055</td></tr><tr><td>&quot;Monitoreo basa…</td><td>4875</td></tr><tr><td>&quot;Anestesia peri…</td><td>5308</td></tr><tr><td>&quot;E.C.G. de repo…</td><td>5684</td></tr><tr><td>&quot;Ecografía como…</td><td>7519</td></tr><tr><td>&quot;Instilacion ve…</td><td>7685</td></tr><tr><td>&quot;Código no exis…</td><td>11155</td></tr><tr><td>&quot;Apoyo fluorosc…</td><td>15775</td></tr><tr><td>null</td><td>12382642</td></tr></tbody></table></div>"
      ],
      "text/plain": [
       "shape: (422, 2)\n",
       "┌───────────────────────────────────┬──────────┐\n",
       "│ GLOSA_PROCED_PPAL                 ┆ count    │\n",
       "│ ---                               ┆ ---      │\n",
       "│ str                               ┆ u32      │\n",
       "╞═══════════════════════════════════╪══════════╡\n",
       "│ Cuerpo extraño en fosas nasales,… ┆ 1        │\n",
       "│ Perfil uretral (proc.aut.)        ┆ 1        │\n",
       "│ Electromiografia de fibra unica   ┆ 1        │\n",
       "│ Audiometría niños                 ┆ 1        │\n",
       "│ …                                 ┆ …        │\n",
       "│ Instilacion vesical (incluye col… ┆ 7685     │\n",
       "│ Código no existe actualmente      ┆ 11155    │\n",
       "│ Apoyo fluoroscópico a procedimie… ┆ 15775    │\n",
       "│ null                              ┆ 12382642 │\n",
       "└───────────────────────────────────┴──────────┘"
      ]
     },
     "metadata": {},
     "output_type": "display_data"
    }
   ],
   "source": [
    "display(proced.groupby(\"GLOSA_PROCED_PPAL\").agg(pl.col(\"count\").sum()).sort(\"count\"))"
   ]
  },
  {
   "cell_type": "markdown",
   "metadata": {},
   "source": [
    "Por lo tanto, 12382642 de todas las intervenciones quirúrgicas carecen de una glosa de procedimiento."
   ]
  },
  {
   "cell_type": "code",
   "execution_count": 22,
   "metadata": {},
   "outputs": [
    {
     "data": {
      "text/plain": [
       "<xlsxwriter.workbook.Workbook at 0x22d8e4b9310>"
      ]
     },
     "execution_count": 22,
     "metadata": {},
     "output_type": "execute_result"
    }
   ],
   "source": [
    "proced.write_excel(\"../data/interim/conteo_procedimientos.xlsx\")"
   ]
  }
 ],
 "metadata": {
  "kernelspec": {
   "display_name": "egresos-deis",
   "language": "python",
   "name": "python3"
  },
  "language_info": {
   "codemirror_mode": {
    "name": "ipython",
    "version": 3
   },
   "file_extension": ".py",
   "mimetype": "text/x-python",
   "name": "python",
   "nbconvert_exporter": "python",
   "pygments_lexer": "ipython3",
   "version": "3.10.9"
  },
  "orig_nbformat": 4
 },
 "nbformat": 4,
 "nbformat_minor": 2
}
