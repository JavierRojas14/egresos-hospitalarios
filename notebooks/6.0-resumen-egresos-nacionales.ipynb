{
 "cells": [
  {
   "cell_type": "code",
   "execution_count": 1,
   "metadata": {},
   "outputs": [],
   "source": [
    "import sys\n",
    "import os\n",
    "\n",
    "project_root = os.path.abspath('..')\n",
    "if project_root not in sys.path:\n",
    "    sys.path.append(project_root)\n",
    " \n",
    "%load_ext autoreload\n",
    "%autoreload 2"
   ]
  },
  {
   "cell_type": "code",
   "execution_count": 21,
   "metadata": {},
   "outputs": [],
   "source": [
    "import pandas as pd\n",
    "import numpy as np\n",
    "\n",
    "import polars as pl\n",
    "\n",
    "import matplotlib.pyplot as plt\n",
    "import seaborn as sns\n",
    "\n",
    "from src.features import build_features\n",
    "\n",
    "sns.set_theme(palette='pastel')\n",
    "plt.rcParams['figure.figsize'] = (12, 6)\n",
    "pd.set_option('display.max_columns', None)\n",
    "\n",
    "DIAGS_CONGENITOS = [\n",
    "    \"Q200\",\n",
    "    \"Q201\",\n",
    "    \"Q202\",\n",
    "    \"Q203\",\n",
    "    \"Q204\",\n",
    "    \"Q205\",\n",
    "    \"Q206\",\n",
    "    \"Q208\",\n",
    "    \"Q209\",\n",
    "    \"Q210\",\n",
    "    \"Q211\",\n",
    "    \"Q212\",\n",
    "    \"Q213\",\n",
    "    \"Q214\",\n",
    "    \"Q218\",\n",
    "    \"Q219\",\n",
    "    \"Q220\",\n",
    "    \"Q221\",\n",
    "    \"Q222\",\n",
    "    \"Q223\",\n",
    "    \"Q224\",\n",
    "    \"Q225\",\n",
    "    \"Q226\",\n",
    "    \"Q228\",\n",
    "    \"Q229\",\n",
    "    \"Q230\",\n",
    "    \"Q231\",\n",
    "    \"Q232\",\n",
    "    \"Q233\",\n",
    "    \"Q234\",\n",
    "    \"Q238\",\n",
    "    \"Q239\",\n",
    "    \"Q240\",\n",
    "    \"Q241\",\n",
    "    \"Q242\",\n",
    "    \"Q243\",\n",
    "    \"Q244\",\n",
    "    \"Q245\",\n",
    "    \"Q246\",\n",
    "    \"Q248\",\n",
    "    \"Q249\",\n",
    "    \"Q250\",\n",
    "    \"Q251\",\n",
    "    \"Q252\",\n",
    "    \"Q253\",\n",
    "    \"Q254\",\n",
    "    \"Q255\",\n",
    "    \"Q256\",\n",
    "    \"Q257\",\n",
    "    \"Q258\",\n",
    "    \"Q259\",\n",
    "    \"Q260\",\n",
    "    \"Q261\",\n",
    "    \"Q262\",\n",
    "    \"Q263\",\n",
    "    \"Q264\",\n",
    "    \"Q265\",\n",
    "    \"Q268\",\n",
    "    \"Q269\",\n",
    "    \"Q288\",\n",
    "    \"Q289\",\n",
    "    \"Q336\",\n",
    "    \"Q339\",\n",
    "]"
   ]
  },
  {
   "cell_type": "code",
   "execution_count": 3,
   "metadata": {},
   "outputs": [],
   "source": [
    "# Lee la base de datos\n",
    "df_nacional = pl.scan_csv(\n",
    "    \"../data/processed/egresos_procesados.csv\",\n",
    "    infer_schema_length=10000,\n",
    "    null_values=\"Extranjero\",\n",
    "    dtypes={\"EDAD_CALCULADA_ANO\": pl.Float64}\n",
    ")"
   ]
  },
  {
   "cell_type": "code",
   "execution_count": 7,
   "metadata": {},
   "outputs": [],
   "source": [
    "AGRUPACION = [\n",
    "    \"ANO_EGRESO\",\n",
    "    \"ESTABLECIMIENTO_SALUD\",\n",
    "    \"GLOSA_ESTABLECIMIENTO_SALUD\",\n",
    "    \"PERTENENCIA_ESTABLECIMIENTO_SALUD\",\n",
    "    \"DIAG1\",\n",
    "]\n",
    "metricas = build_features.obtener_metricas_egresos(df_nacional, AGRUPACION).collect()"
   ]
  },
  {
   "cell_type": "code",
   "execution_count": 13,
   "metadata": {},
   "outputs": [],
   "source": [
    "metricas = metricas.sort(by=[\"ANO_EGRESO\", \"DIAG1\", \"n_egresos\"], descending=True)"
   ]
  },
  {
   "cell_type": "code",
   "execution_count": 24,
   "metadata": {},
   "outputs": [],
   "source": [
    "metricas = metricas.with_columns(\n",
    "    pl.col(\"n_egresos\")\n",
    "    .rank(\"min\", descending=True)\n",
    "    .over([\"ANO_EGRESO\", \"DIAG1\"])\n",
    "    .alias(\"ranking_egresos\")\n",
    ")\n",
    "\n",
    "metricas_congenitos = metricas.filter(pl.col(\"DIAG1\").is_in(DIAGS_CONGENITOS))"
   ]
  },
  {
   "cell_type": "code",
   "execution_count": 13,
   "metadata": {},
   "outputs": [],
   "source": [
    "# NeoNato es hasta 1 mes (sin incluirlo)\n",
    "df_neonato = df_nacional.filter(pl.col(\"EDAD_CALCULADA_ANO\") < 0.083333)\n",
    "\n",
    "# Ninos es de 1 mes hasta 15 anios\n",
    "df_ninos = df_nacional.filter(\n",
    "    (pl.col(\"EDAD_CALCULADA_ANO\") >= 0.083333) & (pl.col(\"EDAD_CALCULADA_ANO\") < 15)\n",
    ")\n",
    "\n",
    "# Adolescente es de 15 anios hasta 18\n",
    "df_adolescente = df_nacional.filter(\n",
    "    (pl.col(\"EDAD_CALCULADA_ANO\") >= 15) & (pl.col(\"EDAD_CALCULADA_ANO\") < 18)\n",
    ")\n",
    "\n",
    "# El total del RDR seria desde los 0 anios hasta los 18\n",
    "df_hasta_18 = df_nacional.filter((pl.col(\"EDAD_CALCULADA_ANO\") < 18))"
   ]
  },
  {
   "cell_type": "code",
   "execution_count": 14,
   "metadata": {},
   "outputs": [],
   "source": [
    "AGRUPACION = [\n",
    "    \"ANO_EGRESO\",\n",
    "    \"ESTABLECIMIENTO_SALUD\",\n",
    "    \"GLOSA_ESTABLECIMIENTO_SALUD\",\n",
    "    \"PERTENENCIA_ESTABLECIMIENTO_SALUD\",\n",
    "    \"DIAG1\",\n",
    "]\n",
    "\n",
    "# Define los grupos que se quieren exportar\n",
    "rankings_a_exportar = {\n",
    "    \"neonato\": df_neonato,\n",
    "    \"ninos\": df_ninos,\n",
    "    \"adolescente\": df_adolescente,\n",
    "    \"hasta_18\": df_hasta_18,\n",
    "}"
   ]
  },
  {
   "cell_type": "code",
   "execution_count": 15,
   "metadata": {},
   "outputs": [
    {
     "name": "stdout",
     "output_type": "stream",
     "text": [
      "neonato\n",
      "ninos\n",
      "adolescente\n",
      "hasta_18\n"
     ]
    }
   ],
   "source": [
    "# Itera en los rangos etarios para exportar los rankings\n",
    "for rango_etario, df_etario in rankings_a_exportar.items():\n",
    "    print(rango_etario)\n",
    "    metricas = build_features.obtener_metricas_egresos(df_etario, AGRUPACION).collect()\n",
    "    metricas.write_csv(f\"../data/interim/resumen_egresos_nacionales_{rango_etario}.csv\")"
   ]
  }
 ],
 "metadata": {
  "kernelspec": {
   "display_name": "egresos-deis",
   "language": "python",
   "name": "python3"
  },
  "language_info": {
   "codemirror_mode": {
    "name": "ipython",
    "version": 3
   },
   "file_extension": ".py",
   "mimetype": "text/x-python",
   "name": "python",
   "nbconvert_exporter": "python",
   "pygments_lexer": "ipython3",
   "version": "3.11.5"
  }
 },
 "nbformat": 4,
 "nbformat_minor": 2
}
