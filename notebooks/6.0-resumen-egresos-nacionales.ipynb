{
 "cells": [
  {
   "cell_type": "code",
   "execution_count": 3,
   "metadata": {},
   "outputs": [
    {
     "name": "stdout",
     "output_type": "stream",
     "text": [
      "The autoreload extension is already loaded. To reload it, use:\n",
      "  %reload_ext autoreload\n"
     ]
    }
   ],
   "source": [
    "import sys\n",
    "import os\n",
    "\n",
    "project_root = os.path.abspath('..')\n",
    "if project_root not in sys.path:\n",
    "    sys.path.append(project_root)\n",
    " \n",
    "%load_ext autoreload\n",
    "%autoreload 2"
   ]
  },
  {
   "cell_type": "code",
   "execution_count": 4,
   "metadata": {},
   "outputs": [],
   "source": [
    "import pandas as pd\n",
    "import numpy as np\n",
    "\n",
    "import polars as pl\n",
    "\n",
    "import matplotlib.pyplot as plt\n",
    "import seaborn as sns\n",
    "\n",
    "from src.features import build_features\n",
    "\n",
    "sns.set_theme(palette='pastel')\n",
    "plt.rcParams['figure.figsize'] = (12, 6)\n",
    "pd.set_option('display.max_columns', None)"
   ]
  },
  {
   "cell_type": "code",
   "execution_count": 5,
   "metadata": {},
   "outputs": [],
   "source": [
    "# Lee la base de datos\n",
    "df_nacional = pl.scan_csv(\n",
    "    \"../data/processed/egresos_procesados.csv\",\n",
    "    infer_schema_length=10000,\n",
    "    null_values=\"Extranjero\",\n",
    ")\n",
    "\n",
    "# # Filtra solamente el resumen hasta los 18 anios\n",
    "df_nacional = df_nacional.filter((pl.col(\"ANO_EGRESO\") >= 2019))"
   ]
  },
  {
   "cell_type": "code",
   "execution_count": 22,
   "metadata": {},
   "outputs": [],
   "source": [
    "# NeoNato seria\n",
    "# Con tipo de edad de meses, y entre 0 y 1 mes, o que este expresado en dias u horas\n",
    "df_neonato = df_nacional.filter(\n",
    "    ((pl.col(\"EDAD_TIPO\") == \"2.0\") & (pl.col(\"EDAD\") <= 1))\n",
    "    | ((pl.col(\"EDAD_TIPO\") == \"3.0\") | (pl.col(\"EDAD_TIPO\") == \"4.0\"))\n",
    ")\n",
    "\n",
    "# El otro seria de 1 a 15 anios\n",
    "df_ninos = df_nacional.filter(\n",
    "    (pl.col(\"EDAD_TIPO\") == \"1.0\") & ((pl.col(\"EDAD_CANT\") >= 1) & (pl.col(\"EDAD_CANT\") <= 15))\n",
    ")\n",
    "\n",
    "# El otro seria de 15 a 18 anios\n",
    "df_adolescente = df_nacional.filter(\n",
    "    (pl.col(\"EDAD_TIPO\") == \"1.0\") & ((pl.col(\"EDAD_CANT\") > 15) & (pl.col(\"EDAD_CANT\") <= 18))\n",
    ")\n",
    "\n",
    "# El completo seria de 0 a 18 anios con tipo de edad 1 Y cualquier egreso con meses, dias u horas\n",
    "df_total = df_nacional.filter(\n",
    "    ((pl.col(\"EDAD_TIPO\") == \"1.0\") & (pl.col(\"EDAD_CANT\") <= 18))\n",
    "    | (\n",
    "        (pl.col(\"EDAD_TIPO\") == \"2.0\")\n",
    "        | (pl.col(\"EDAD_TIPO\") == \"3.0\")\n",
    "        | (pl.col(\"EDAD_TIPO\") == \"4.0\")\n",
    "    )\n",
    ")"
   ]
  },
  {
   "cell_type": "code",
   "execution_count": 5,
   "metadata": {},
   "outputs": [],
   "source": [
    "AGRUPACION = [\n",
    "    \"ANO_EGRESO\",\n",
    "    \"ESTABLECIMIENTO_SALUD\",\n",
    "    \"GLOSA_ESTABLECIMIENTO_SALUD\",\n",
    "    \"PERTENENCIA_ESTABLECIMIENTO_SALUD\",\n",
    "    \"DIAG1\",\n",
    "]\n",
    "\n",
    "metricas = build_features.obtener_metricas_egresos(df_nacional, AGRUPACION).collect()"
   ]
  },
  {
   "cell_type": "code",
   "execution_count": 6,
   "metadata": {},
   "outputs": [],
   "source": [
    "metricas.write_csv(\"../data/interim/resumen_egresos_nacionales.csv\")"
   ]
  },
  {
   "cell_type": "code",
   "execution_count": null,
   "metadata": {},
   "outputs": [],
   "source": []
  }
 ],
 "metadata": {
  "kernelspec": {
   "display_name": "egresos-deis",
   "language": "python",
   "name": "python3"
  },
  "language_info": {
   "codemirror_mode": {
    "name": "ipython",
    "version": 3
   },
   "file_extension": ".py",
   "mimetype": "text/x-python",
   "name": "python",
   "nbconvert_exporter": "python",
   "pygments_lexer": "ipython3",
   "version": "3.11.5"
  }
 },
 "nbformat": 4,
 "nbformat_minor": 2
}
