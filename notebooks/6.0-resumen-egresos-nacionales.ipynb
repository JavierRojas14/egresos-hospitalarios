{
 "cells": [
  {
   "cell_type": "code",
   "execution_count": 26,
   "metadata": {},
   "outputs": [
    {
     "name": "stdout",
     "output_type": "stream",
     "text": [
      "The autoreload extension is already loaded. To reload it, use:\n",
      "  %reload_ext autoreload\n"
     ]
    }
   ],
   "source": [
    "import sys\n",
    "import os\n",
    "\n",
    "project_root = os.path.abspath('..')\n",
    "if project_root not in sys.path:\n",
    "    sys.path.append(project_root)\n",
    " \n",
    "%load_ext autoreload\n",
    "%autoreload 2"
   ]
  },
  {
   "cell_type": "code",
   "execution_count": 27,
   "metadata": {},
   "outputs": [],
   "source": [
    "import pandas as pd\n",
    "import numpy as np\n",
    "\n",
    "import polars as pl\n",
    "\n",
    "import matplotlib.pyplot as plt\n",
    "import seaborn as sns\n",
    "\n",
    "from src.features import build_features\n",
    "\n",
    "sns.set_theme(palette='pastel')\n",
    "plt.rcParams['figure.figsize'] = (12, 6)\n",
    "pd.set_option('display.max_columns', None)"
   ]
  },
  {
   "cell_type": "code",
   "execution_count": 43,
   "metadata": {},
   "outputs": [],
   "source": [
    "# Lee la base de datos\n",
    "df_nacional = pl.scan_csv(\n",
    "    \"../data/processed/egresos_procesados.csv\",\n",
    "    infer_schema_length=10000,\n",
    "    null_values=\"Extranjero\",\n",
    "    dtypes={\"EDAD_CANT\": pl.Float64}\n",
    ")\n",
    "\n",
    "# Rellena los valores de TIPO EDAD con 99.0 para poder procesarlos\n",
    "df_nacional = df_nacional.with_columns(\n",
    "    [pl.col(\"TIPO_EDAD\").fill_null(\"99.0\"), pl.col(\"EDAD_CANT\").fill_null(10000000000000000)]\n",
    ")"
   ]
  },
  {
   "cell_type": "code",
   "execution_count": 44,
   "metadata": {},
   "outputs": [],
   "source": [
    "# NeoNato seria\n",
    "# Con tipo de edad de meses, y entre 0 y 1 mes, o que este expresado en dias u horas\n",
    "df_neonato = df_nacional.filter(\n",
    "    ((pl.col(\"TIPO_EDAD\") == \"2.0\") & (pl.col(\"EDAD_CANT\") <= 1))\n",
    "    | ((pl.col(\"TIPO_EDAD\") == \"3.0\") | (pl.col(\"TIPO_EDAD\") == \"4.0\"))\n",
    ")\n",
    "\n",
    "# El otro seria de 1 a 15 anios\n",
    "df_ninos = df_nacional.filter(\n",
    "    (pl.col(\"TIPO_EDAD\") == \"1.0\") & ((pl.col(\"EDAD_CANT\") >= 1) & (pl.col(\"EDAD_CANT\") <= 15))\n",
    ")\n",
    "\n",
    "# El otro seria de 15 a 18 anios\n",
    "df_adolescente = df_nacional.filter(\n",
    "    (pl.col(\"TIPO_EDAD\") == \"1.0\") & ((pl.col(\"EDAD_CANT\") > 15) & (pl.col(\"EDAD_CANT\") <= 18))\n",
    ")\n",
    "\n",
    "# El completo seria de 0 a 18 anios con tipo de edad 1 Y cualquier egreso con meses, dias u horas\n",
    "df_total = df_nacional.filter(\n",
    "    ((pl.col(\"TIPO_EDAD\") == \"1.0\") & (pl.col(\"EDAD_CANT\") <= 18))\n",
    "    | (\n",
    "        (pl.col(\"TIPO_EDAD\") == \"2.0\")\n",
    "        | (pl.col(\"TIPO_EDAD\") == \"3.0\")\n",
    "        | (pl.col(\"TIPO_EDAD\") == \"4.0\")\n",
    "    )\n",
    ")"
   ]
  },
  {
   "cell_type": "code",
   "execution_count": 45,
   "metadata": {},
   "outputs": [
    {
     "data": {
      "text/plain": [
       "{'ID_PACIENTE': Utf8,\n",
       " 'ESTABLECIMIENTO_SALUD': Float64,\n",
       " 'GLOSA_ESTABLECIMIENTO_SALUD': Utf8,\n",
       " 'PERTENENCIA_ESTABLECIMIENTO_SALUD': Utf8,\n",
       " 'SEREMI': Float64,\n",
       " 'SERVICIO_DE_SALUD': Float64,\n",
       " 'SEXO': Utf8,\n",
       " 'FECHA_NACIMIENTO': Utf8,\n",
       " 'EDAD_CANT': Float64,\n",
       " 'TIPO_EDAD': Utf8,\n",
       " 'EDAD_A_OS': Float64,\n",
       " 'PUEBLO_ORIGINARIO': Utf8,\n",
       " 'PAIS_ORIGEN': Utf8,\n",
       " 'GLOSA_PAIS_ORIGEN': Utf8,\n",
       " 'COMUNA_RESIDENCIA': Float64,\n",
       " 'GLOSA_COMUNA_RESIDENCIA': Utf8,\n",
       " 'REGION_RESIDENCIA': Float64,\n",
       " 'GLOSA_REGION_RESIDENCIA': Utf8,\n",
       " 'PREVISION': Utf8,\n",
       " 'BENEFICIARIO': Utf8,\n",
       " 'MODALIDAD': Utf8,\n",
       " 'PROCEDENCIA': Utf8,\n",
       " 'ANO_EGRESO': Float64,\n",
       " 'FECHA_EGRESO': Utf8,\n",
       " 'AREA_FUNCIONAL_EGRESO': Float64,\n",
       " 'DIAS_ESTADA': Float64,\n",
       " 'CONDICION_EGRESO': Float64,\n",
       " 'DIAG1': Utf8,\n",
       " 'GLOSA_DIAG1': Utf8,\n",
       " 'DIAG2': Utf8,\n",
       " 'GLOSA_DIAG2': Utf8,\n",
       " 'INTERV_Q': Float64,\n",
       " 'CODIGO_INTERV_Q_PPAL': Utf8,\n",
       " 'GLOSA_INTERV_Q_PPAL': Utf8,\n",
       " 'PROCED': Utf8,\n",
       " 'CODIGO_PROCED_PPAL': Utf8,\n",
       " 'GLOSA_PROCED_PPAL': Utf8,\n",
       " 'region_pais': Utf8,\n",
       " 'comuna_region_pais': Utf8,\n",
       " 'EDAD_CATEGORIA': Utf8}"
      ]
     },
     "execution_count": 45,
     "metadata": {},
     "output_type": "execute_result"
    }
   ],
   "source": [
    "df_nacional.schema"
   ]
  },
  {
   "cell_type": "code",
   "execution_count": 46,
   "metadata": {},
   "outputs": [],
   "source": [
    "AGRUPACION = [\n",
    "    \"ANO_EGRESO\",\n",
    "    \"ESTABLECIMIENTO_SALUD\",\n",
    "    \"GLOSA_ESTABLECIMIENTO_SALUD\",\n",
    "    \"PERTENENCIA_ESTABLECIMIENTO_SALUD\",\n",
    "    \"DIAG1\",\n",
    "]\n",
    "\n",
    "# Define los grupos que se quieren exportar\n",
    "rankings_a_exportar = {\n",
    "    \"neonato\": df_neonato,\n",
    "    \"ninos\": df_ninos,\n",
    "    \"adolescente\": df_adolescente,\n",
    "    \"hasta_18\": df_total,\n",
    "}"
   ]
  },
  {
   "cell_type": "code",
   "execution_count": 47,
   "metadata": {},
   "outputs": [
    {
     "name": "stdout",
     "output_type": "stream",
     "text": [
      "neonato\n",
      "ninos\n",
      "adolescente\n",
      "hasta_18\n"
     ]
    }
   ],
   "source": [
    "# Itera en los rangos etarios para exportar los rankings\n",
    "for rango_etario, df_etario in rankings_a_exportar.items():\n",
    "    print(rango_etario)\n",
    "    metricas = build_features.obtener_metricas_egresos(df_etario, AGRUPACION).collect()\n",
    "    metricas.write_csv(f\"../data/processed/resumen_egresos_nacionales{rango_etario}.csv\")"
   ]
  }
 ],
 "metadata": {
  "kernelspec": {
   "display_name": "egresos-deis",
   "language": "python",
   "name": "python3"
  },
  "language_info": {
   "codemirror_mode": {
    "name": "ipython",
    "version": 3
   },
   "file_extension": ".py",
   "mimetype": "text/x-python",
   "name": "python",
   "nbconvert_exporter": "python",
   "pygments_lexer": "ipython3",
   "version": "3.11.5"
  }
 },
 "nbformat": 4,
 "nbformat_minor": 2
}
