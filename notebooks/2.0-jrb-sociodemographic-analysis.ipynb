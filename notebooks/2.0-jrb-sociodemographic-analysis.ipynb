{
 "cells": [
  {
   "cell_type": "code",
   "execution_count": 56,
   "metadata": {},
   "outputs": [
    {
     "name": "stdout",
     "output_type": "stream",
     "text": [
      "The autoreload extension is already loaded. To reload it, use:\n",
      "  %reload_ext autoreload\n"
     ]
    }
   ],
   "source": [
    "import sys\n",
    "import os\n",
    "\n",
    "project_root = os.path.abspath('..')\n",
    "if project_root not in sys.path:\n",
    "    sys.path.append(project_root)\n",
    "\n",
    "%load_ext autoreload\n",
    "%autoreload 2\n"
   ]
  },
  {
   "cell_type": "code",
   "execution_count": 57,
   "metadata": {},
   "outputs": [],
   "source": [
    "import pandas as pd\n",
    "import numpy as np\n",
    "import polars as pl\n",
    "\n",
    "import matplotlib.pyplot as plt\n",
    "import seaborn as sns\n",
    "\n",
    "from src.data.make_dataset import DICT_VARIABLES\n",
    "from src.features import build_features\n",
    "\n",
    "sns.set_style()\n",
    "plt.rcParams[\"figure.figsize\"] = (12, 6)\n",
    "\n",
    "HOSPITAL_A_ANALIZAR = 112103  # Este es el Torax"
   ]
  },
  {
   "cell_type": "code",
   "execution_count": 58,
   "metadata": {},
   "outputs": [],
   "source": [
    "cie_9 = pl.read_excel(\n",
    "    \"../data/external/Esquema_Registro-2023.xlsx\",\n",
    "    sheet_name=\"Anexo 2\",\n",
    "    read_csv_options={\"skip_rows\": 5},\n",
    ")"
   ]
  },
  {
   "cell_type": "markdown",
   "metadata": {},
   "source": [
    "## 1. Análisis Sociodemográfico de Pacientes Atendidos en el Hospital del Tórax\n",
    "\n",
    "En este cuadernillo se quiere ver el perfil sociodemográfico de los pacientes hospitalizados\n",
    "en el Hospital del Tórax. Se utilizará la base de datos pública de egresos hospitalarios DEIS\n",
    "entre 2001 y 2020. Las preguntas que se quieren responder son:\n",
    "\n",
    "- ¿Cómo es la distribución geográfica de los pacientes atendidos en el INT?\n",
    "- ¿Cuál es el rango etario más atendido en el INT?\n",
    "- ¿Cuál es el género más atendido en el INT?\n",
    "- ¿Cuál es la previsión más atendida en el INT?\n",
    "- ¿Cuál es la letra de FONASA más atendida en el INT?"
   ]
  },
  {
   "cell_type": "markdown",
   "metadata": {},
   "source": [
    "Para responder estas preguntas se realizará una agrupación de los datos con todas las variables\n",
    "sociodemográficas de interés para el análisis."
   ]
  },
  {
   "cell_type": "code",
   "execution_count": 59,
   "metadata": {},
   "outputs": [],
   "source": [
    "# Define todas las variables que se quieren saber\n",
    "\n",
    "VARIABLES_SOCIODEMOGRAFICAS_ESTATICAS = [\"ANO_EGRESO\", \"REGION_RESIDENCIA\", \"COMUNA_RESIDENCIA\"]\n",
    "VARIABLES_SOCIODEMOGRAFICAS_DINAMICAS = [\"SEXO\", \"EDAD_CATEGORIA\", \"PREVISION\", \"BENEFICIARIO\"]\n",
    "VARIABLE_A_CONTAR = \"DIAG1\"\n",
    "\n",
    "agrupacion_total = (\n",
    "    VARIABLES_SOCIODEMOGRAFICAS_ESTATICAS\n",
    "    + VARIABLES_SOCIODEMOGRAFICAS_DINAMICAS\n",
    "    + [VARIABLE_A_CONTAR]\n",
    ")"
   ]
  },
  {
   "cell_type": "markdown",
   "metadata": {},
   "source": [
    "Luego, se genera la consulta de la base de datos. Para reducir el coste computacional, se filtra\n",
    "la base de datos únicamente para los datos del INT. Posteriormente, se agrupa la base de datos\n",
    "con las variables sociodemográficas de interés y se cuenta la ocurrencia de cada grupo."
   ]
  },
  {
   "cell_type": "code",
   "execution_count": 69,
   "metadata": {},
   "outputs": [],
   "source": [
    "desglose_sociodemografico = (\n",
    "    pl.scan_csv(\"../data/processed/egresos_procesados.csv\")\n",
    "    .filter(pl.col(\"ESTABLECIMIENTO_SALUD\") == HOSPITAL_A_ANALIZAR)\n",
    "    .group_by(agrupacion_total)\n",
    "    .count()\n",
    "    .sort([\"ANO_EGRESO\"])\n",
    "    .collect(streaming=True)\n",
    ")\n",
    "\n",
    "desglose_sociodemografico = (\n",
    "    desglose_sociodemografico.join(\n",
    "        cie_9, how=\"left\", left_on=\"COMUNA_RESIDENCIA\", right_on=\"Código Comuna\"\n",
    "    )\n",
    "    .with_columns(pl.col([\"PREVISION\", \"Nombre Comuna\"]).str.to_titlecase())\n",
    "    .drop(\"Código Región\")\n",
    ")"
   ]
  },
  {
   "cell_type": "code",
   "execution_count": 70,
   "metadata": {},
   "outputs": [
    {
     "data": {
      "text/html": [
       "<div><style>\n",
       ".dataframe > thead > tr > th,\n",
       ".dataframe > tbody > tr > td {\n",
       "  text-align: right;\n",
       "  white-space: pre-wrap;\n",
       "}\n",
       "</style>\n",
       "<small>shape: (5, 11)</small><table border=\"1\" class=\"dataframe\"><thead><tr><th>ANO_EGRESO</th><th>REGION_RESIDENCIA</th><th>COMUNA_RESIDENCIA</th><th>SEXO</th><th>EDAD_CATEGORIA</th><th>PREVISION</th><th>BENEFICIARIO</th><th>DIAG1</th><th>count</th><th>Nombre Comuna</th><th>Nombre Región</th></tr><tr><td>i64</td><td>i64</td><td>i64</td><td>str</td><td>str</td><td>str</td><td>str</td><td>str</td><td>u32</td><td>str</td><td>str</td></tr></thead><tbody><tr><td>2001</td><td>13</td><td>13402</td><td>&quot;Mujer&quot;</td><td>&quot;(80, 90]&quot;</td><td>&quot;Fonasa&quot;</td><td>&quot;B&quot;</td><td>&quot;J90X&quot;</td><td>1</td><td>&quot;Buin&quot;</td><td>&quot;Metropolitana …</td></tr><tr><td>2001</td><td>13</td><td>13123</td><td>&quot;Hombre&quot;</td><td>&quot;(60, 70]&quot;</td><td>&quot;Fonasa&quot;</td><td>&quot;B&quot;</td><td>&quot;A199&quot;</td><td>1</td><td>&quot;Providencia&quot;</td><td>&quot;Metropolitana …</td></tr><tr><td>2001</td><td>13</td><td>13113</td><td>&quot;Mujer&quot;</td><td>&quot;(60, 70]&quot;</td><td>&quot;Fonasa&quot;</td><td>&quot;B&quot;</td><td>&quot;I050&quot;</td><td>1</td><td>&quot;La Reina&quot;</td><td>&quot;Metropolitana …</td></tr><tr><td>2001</td><td>14</td><td>14104</td><td>&quot;Mujer&quot;</td><td>&quot;(50, 60]&quot;</td><td>&quot;Fonasa&quot;</td><td>&quot;B&quot;</td><td>&quot;I350&quot;</td><td>1</td><td>&quot;Los Lagos&quot;</td><td>&quot;de Los Rios&quot;</td></tr><tr><td>2001</td><td>4</td><td>4301</td><td>&quot;Mujer&quot;</td><td>&quot;(60, 70]&quot;</td><td>&quot;Fonasa&quot;</td><td>&quot;B&quot;</td><td>&quot;B679&quot;</td><td>1</td><td>&quot;Ovalle&quot;</td><td>&quot;de Coquimbo&quot;</td></tr></tbody></table></div>"
      ],
      "text/plain": [
       "shape: (5, 11)\n",
       "┌────────────┬──────────────┬─────────────┬────────┬───┬───────┬───────┬─────────────┬─────────────┐\n",
       "│ ANO_EGRESO ┆ REGION_RESID ┆ COMUNA_RESI ┆ SEXO   ┆ … ┆ DIAG1 ┆ count ┆ Nombre      ┆ Nombre      │\n",
       "│ ---        ┆ ENCIA        ┆ DENCIA      ┆ ---    ┆   ┆ ---   ┆ ---   ┆ Comuna      ┆ Región      │\n",
       "│ i64        ┆ ---          ┆ ---         ┆ str    ┆   ┆ str   ┆ u32   ┆ ---         ┆ ---         │\n",
       "│            ┆ i64          ┆ i64         ┆        ┆   ┆       ┆       ┆ str         ┆ str         │\n",
       "╞════════════╪══════════════╪═════════════╪════════╪═══╪═══════╪═══════╪═════════════╪═════════════╡\n",
       "│ 2001       ┆ 13           ┆ 13402       ┆ Mujer  ┆ … ┆ J90X  ┆ 1     ┆ Buin        ┆ Metropolita │\n",
       "│            ┆              ┆             ┆        ┆   ┆       ┆       ┆             ┆ na de       │\n",
       "│            ┆              ┆             ┆        ┆   ┆       ┆       ┆             ┆ Santiago    │\n",
       "│ 2001       ┆ 13           ┆ 13123       ┆ Hombre ┆ … ┆ A199  ┆ 1     ┆ Providencia ┆ Metropolita │\n",
       "│            ┆              ┆             ┆        ┆   ┆       ┆       ┆             ┆ na de       │\n",
       "│            ┆              ┆             ┆        ┆   ┆       ┆       ┆             ┆ Santiago    │\n",
       "│ 2001       ┆ 13           ┆ 13113       ┆ Mujer  ┆ … ┆ I050  ┆ 1     ┆ La Reina    ┆ Metropolita │\n",
       "│            ┆              ┆             ┆        ┆   ┆       ┆       ┆             ┆ na de       │\n",
       "│            ┆              ┆             ┆        ┆   ┆       ┆       ┆             ┆ Santiago    │\n",
       "│ 2001       ┆ 14           ┆ 14104       ┆ Mujer  ┆ … ┆ I350  ┆ 1     ┆ Los Lagos   ┆ de Los Rios │\n",
       "│ 2001       ┆ 4            ┆ 4301        ┆ Mujer  ┆ … ┆ B679  ┆ 1     ┆ Ovalle      ┆ de Coquimbo │\n",
       "└────────────┴──────────────┴─────────────┴────────┴───┴───────┴───────┴─────────────┴─────────────┘"
      ]
     },
     "metadata": {},
     "output_type": "display_data"
    }
   ],
   "source": [
    "display(desglose_sociodemografico.head())"
   ]
  },
  {
   "cell_type": "markdown",
   "metadata": {},
   "source": [
    "En los resultados se indica el perfil sociodemográfico para cada combinación de variable presente\n",
    "en la base de datos. A modo de ejemplo, hubo 1 ocurrencia en el 2001 de una paciente de la Región\n",
    "número 13 y Comuna 13605 que tenía entre 70 a 80 años que tenía PREVISION FONASA Letra B diagnosticada\n",
    "con el diagnóstico K810.\n",
    "\n",
    "Uno de los diagnósticos de interés para el Instituto es el de código \"C341\"."
   ]
  },
  {
   "cell_type": "code",
   "execution_count": 62,
   "metadata": {},
   "outputs": [
    {
     "data": {
      "text/html": [
       "<div><style>\n",
       ".dataframe > thead > tr > th,\n",
       ".dataframe > tbody > tr > td {\n",
       "  text-align: right;\n",
       "  white-space: pre-wrap;\n",
       "}\n",
       "</style>\n",
       "<small>shape: (1_247, 12)</small><table border=\"1\" class=\"dataframe\"><thead><tr><th>ANO_EGRESO</th><th>REGION_RESIDENCIA</th><th>COMUNA_RESIDENCIA</th><th>SEXO</th><th>EDAD_CATEGORIA</th><th>PREVISION</th><th>BENEFICIARIO</th><th>DIAG1</th><th>count</th><th>Nombre Comuna</th><th>Código Región</th><th>Nombre Región</th></tr><tr><td>i64</td><td>i64</td><td>i64</td><td>str</td><td>str</td><td>str</td><td>str</td><td>str</td><td>u32</td><td>str</td><td>i64</td><td>str</td></tr></thead><tbody><tr><td>2001</td><td>13</td><td>13128</td><td>&quot;Mujer&quot;</td><td>&quot;(60, 70]&quot;</td><td>&quot;FONASA&quot;</td><td>&quot;B&quot;</td><td>&quot;C341&quot;</td><td>1</td><td>&quot;RENCA&quot;</td><td>13</td><td>&quot;Metropolitana …</td></tr><tr><td>2001</td><td>13</td><td>13101</td><td>&quot;Hombre&quot;</td><td>&quot;(50, 60]&quot;</td><td>&quot;FONASA&quot;</td><td>&quot;A&quot;</td><td>&quot;C341&quot;</td><td>1</td><td>&quot;SANTIAGO&quot;</td><td>13</td><td>&quot;Metropolitana …</td></tr><tr><td>2001</td><td>13</td><td>13113</td><td>&quot;Mujer&quot;</td><td>&quot;(60, 70]&quot;</td><td>&quot;FONASA&quot;</td><td>&quot;B&quot;</td><td>&quot;C341&quot;</td><td>1</td><td>&quot;LA REINA&quot;</td><td>13</td><td>&quot;Metropolitana …</td></tr><tr><td>2001</td><td>3</td><td>3102</td><td>&quot;Hombre&quot;</td><td>&quot;(50, 60]&quot;</td><td>&quot;FONASA&quot;</td><td>&quot;A&quot;</td><td>&quot;C341&quot;</td><td>1</td><td>&quot;CALDERA&quot;</td><td>3</td><td>&quot;de Atacama&quot;</td></tr><tr><td>2001</td><td>8</td><td>8101</td><td>&quot;Hombre&quot;</td><td>&quot;(60, 70]&quot;</td><td>&quot;DESCONOCIDO&quot;</td><td>null</td><td>&quot;C341&quot;</td><td>1</td><td>&quot;CONCEPCIÓN&quot;</td><td>8</td><td>&quot;del Biobío&quot;</td></tr><tr><td>2001</td><td>13</td><td>13106</td><td>&quot;Mujer&quot;</td><td>&quot;(60, 70]&quot;</td><td>&quot;FONASA&quot;</td><td>&quot;B&quot;</td><td>&quot;C341&quot;</td><td>1</td><td>&quot;ESTACIÓN CENTR…</td><td>13</td><td>&quot;Metropolitana …</td></tr><tr><td>2001</td><td>3</td><td>3101</td><td>&quot;Hombre&quot;</td><td>&quot;(60, 70]&quot;</td><td>&quot;FONASA&quot;</td><td>&quot;C&quot;</td><td>&quot;C341&quot;</td><td>1</td><td>&quot;COPIAPO&quot;</td><td>3</td><td>&quot;de Atacama&quot;</td></tr><tr><td>2003</td><td>13</td><td>13110</td><td>&quot;Mujer&quot;</td><td>&quot;(50, 60]&quot;</td><td>&quot;FONASA&quot;</td><td>&quot;B&quot;</td><td>&quot;C341&quot;</td><td>1</td><td>&quot;LA FLORIDA&quot;</td><td>13</td><td>&quot;Metropolitana …</td></tr><tr><td>2003</td><td>6</td><td>6101</td><td>&quot;Hombre&quot;</td><td>&quot;(50, 60]&quot;</td><td>&quot;FONASA&quot;</td><td>&quot;A&quot;</td><td>&quot;C341&quot;</td><td>1</td><td>&quot;RANCAGUA&quot;</td><td>6</td><td>&quot;del Libertador…</td></tr><tr><td>2005</td><td>13</td><td>13119</td><td>&quot;Hombre&quot;</td><td>&quot;(60, 70]&quot;</td><td>&quot;FONASA&quot;</td><td>&quot;C&quot;</td><td>&quot;C341&quot;</td><td>1</td><td>&quot;MAIPU&quot;</td><td>13</td><td>&quot;Metropolitana …</td></tr><tr><td>2005</td><td>13</td><td>13122</td><td>&quot;Hombre&quot;</td><td>&quot;(60, 70]&quot;</td><td>&quot;FONASA&quot;</td><td>&quot;B&quot;</td><td>&quot;C341&quot;</td><td>1</td><td>&quot;PEÑALOLÉN&quot;</td><td>13</td><td>&quot;Metropolitana …</td></tr><tr><td>2006</td><td>5</td><td>5304</td><td>&quot;Hombre&quot;</td><td>&quot;(60, 70]&quot;</td><td>&quot;FONASA&quot;</td><td>&quot;D&quot;</td><td>&quot;C341&quot;</td><td>1</td><td>&quot;SAN ESTEBAN&quot;</td><td>5</td><td>&quot;de Valparaíso&quot;</td></tr><tr><td>&hellip;</td><td>&hellip;</td><td>&hellip;</td><td>&hellip;</td><td>&hellip;</td><td>&hellip;</td><td>&hellip;</td><td>&hellip;</td><td>&hellip;</td><td>&hellip;</td><td>&hellip;</td><td>&hellip;</td></tr><tr><td>2020</td><td>13</td><td>13118</td><td>&quot;Mujer&quot;</td><td>&quot;(80, 90]&quot;</td><td>&quot;FONASA&quot;</td><td>&quot;B&quot;</td><td>&quot;C341&quot;</td><td>1</td><td>&quot;MACUL&quot;</td><td>13</td><td>&quot;Metropolitana …</td></tr><tr><td>2020</td><td>13</td><td>13120</td><td>&quot;Mujer&quot;</td><td>&quot;(60, 70]&quot;</td><td>&quot;FONASA&quot;</td><td>&quot;B&quot;</td><td>&quot;C341&quot;</td><td>2</td><td>&quot;ÑUÑOA&quot;</td><td>13</td><td>&quot;Metropolitana …</td></tr><tr><td>2020</td><td>13</td><td>13123</td><td>&quot;Mujer&quot;</td><td>&quot;(60, 70]&quot;</td><td>&quot;FONASA&quot;</td><td>&quot;B&quot;</td><td>&quot;C341&quot;</td><td>2</td><td>&quot;PROVIDENCIA&quot;</td><td>13</td><td>&quot;Metropolitana …</td></tr><tr><td>2020</td><td>13</td><td>13132</td><td>&quot;Mujer&quot;</td><td>&quot;(70, 80]&quot;</td><td>&quot;FONASA&quot;</td><td>&quot;B&quot;</td><td>&quot;C341&quot;</td><td>1</td><td>&quot;VITACURA&quot;</td><td>13</td><td>&quot;Metropolitana …</td></tr><tr><td>2020</td><td>13</td><td>13122</td><td>&quot;Mujer&quot;</td><td>&quot;(60, 70]&quot;</td><td>&quot;FONASA&quot;</td><td>&quot;B&quot;</td><td>&quot;C341&quot;</td><td>2</td><td>&quot;PEÑALOLÉN&quot;</td><td>13</td><td>&quot;Metropolitana …</td></tr><tr><td>2020</td><td>13</td><td>13119</td><td>&quot;Hombre&quot;</td><td>&quot;(60, 70]&quot;</td><td>&quot;DESCONOCIDO&quot;</td><td>null</td><td>&quot;C341&quot;</td><td>1</td><td>&quot;MAIPU&quot;</td><td>13</td><td>&quot;Metropolitana …</td></tr><tr><td>2020</td><td>13</td><td>13118</td><td>&quot;Mujer&quot;</td><td>&quot;(70, 80]&quot;</td><td>&quot;FONASA&quot;</td><td>&quot;B&quot;</td><td>&quot;C341&quot;</td><td>1</td><td>&quot;MACUL&quot;</td><td>13</td><td>&quot;Metropolitana …</td></tr><tr><td>2020</td><td>13</td><td>13123</td><td>&quot;Hombre&quot;</td><td>&quot;(60, 70]&quot;</td><td>&quot;FONASA&quot;</td><td>&quot;C&quot;</td><td>&quot;C341&quot;</td><td>1</td><td>&quot;PROVIDENCIA&quot;</td><td>13</td><td>&quot;Metropolitana …</td></tr><tr><td>2020</td><td>13</td><td>13122</td><td>&quot;Hombre&quot;</td><td>&quot;(80, 90]&quot;</td><td>&quot;FONASA&quot;</td><td>&quot;D&quot;</td><td>&quot;C341&quot;</td><td>1</td><td>&quot;PEÑALOLÉN&quot;</td><td>13</td><td>&quot;Metropolitana …</td></tr><tr><td>2020</td><td>13</td><td>13122</td><td>&quot;Mujer&quot;</td><td>&quot;(50, 60]&quot;</td><td>&quot;FONASA&quot;</td><td>&quot;B&quot;</td><td>&quot;C341&quot;</td><td>1</td><td>&quot;PEÑALOLÉN&quot;</td><td>13</td><td>&quot;Metropolitana …</td></tr><tr><td>2020</td><td>13</td><td>13101</td><td>&quot;Hombre&quot;</td><td>&quot;(70, 80]&quot;</td><td>&quot;FONASA&quot;</td><td>&quot;C&quot;</td><td>&quot;C341&quot;</td><td>1</td><td>&quot;SANTIAGO&quot;</td><td>13</td><td>&quot;Metropolitana …</td></tr><tr><td>2020</td><td>13</td><td>13122</td><td>&quot;Mujer&quot;</td><td>&quot;(70, 80]&quot;</td><td>&quot;FONASA&quot;</td><td>&quot;B&quot;</td><td>&quot;C341&quot;</td><td>1</td><td>&quot;PEÑALOLÉN&quot;</td><td>13</td><td>&quot;Metropolitana …</td></tr></tbody></table></div>"
      ],
      "text/plain": [
       "shape: (1_247, 12)\n",
       "┌────────────┬─────────────┬─────────────┬────────┬───┬───────┬─────────────┬────────┬─────────────┐\n",
       "│ ANO_EGRESO ┆ REGION_RESI ┆ COMUNA_RESI ┆ SEXO   ┆ … ┆ count ┆ Nombre      ┆ Código ┆ Nombre      │\n",
       "│ ---        ┆ DENCIA      ┆ DENCIA      ┆ ---    ┆   ┆ ---   ┆ Comuna      ┆ Región ┆ Región      │\n",
       "│ i64        ┆ ---         ┆ ---         ┆ str    ┆   ┆ u32   ┆ ---         ┆ ---    ┆ ---         │\n",
       "│            ┆ i64         ┆ i64         ┆        ┆   ┆       ┆ str         ┆ i64    ┆ str         │\n",
       "╞════════════╪═════════════╪═════════════╪════════╪═══╪═══════╪═════════════╪════════╪═════════════╡\n",
       "│ 2001       ┆ 13          ┆ 13128       ┆ Mujer  ┆ … ┆ 1     ┆ RENCA       ┆ 13     ┆ Metropolita │\n",
       "│            ┆             ┆             ┆        ┆   ┆       ┆             ┆        ┆ na de       │\n",
       "│            ┆             ┆             ┆        ┆   ┆       ┆             ┆        ┆ Santiago    │\n",
       "│ 2001       ┆ 13          ┆ 13101       ┆ Hombre ┆ … ┆ 1     ┆ SANTIAGO    ┆ 13     ┆ Metropolita │\n",
       "│            ┆             ┆             ┆        ┆   ┆       ┆             ┆        ┆ na de       │\n",
       "│            ┆             ┆             ┆        ┆   ┆       ┆             ┆        ┆ Santiago    │\n",
       "│ 2001       ┆ 13          ┆ 13113       ┆ Mujer  ┆ … ┆ 1     ┆ LA REINA    ┆ 13     ┆ Metropolita │\n",
       "│            ┆             ┆             ┆        ┆   ┆       ┆             ┆        ┆ na de       │\n",
       "│            ┆             ┆             ┆        ┆   ┆       ┆             ┆        ┆ Santiago    │\n",
       "│ 2001       ┆ 3           ┆ 3102        ┆ Hombre ┆ … ┆ 1     ┆ CALDERA     ┆ 3      ┆ de Atacama  │\n",
       "│ …          ┆ …           ┆ …           ┆ …      ┆ … ┆ …     ┆ …           ┆ …      ┆ …           │\n",
       "│ 2020       ┆ 13          ┆ 13122       ┆ Hombre ┆ … ┆ 1     ┆ PEÑALOLÉN   ┆ 13     ┆ Metropolita │\n",
       "│            ┆             ┆             ┆        ┆   ┆       ┆             ┆        ┆ na de       │\n",
       "│            ┆             ┆             ┆        ┆   ┆       ┆             ┆        ┆ Santiago    │\n",
       "│ 2020       ┆ 13          ┆ 13122       ┆ Mujer  ┆ … ┆ 1     ┆ PEÑALOLÉN   ┆ 13     ┆ Metropolita │\n",
       "│            ┆             ┆             ┆        ┆   ┆       ┆             ┆        ┆ na de       │\n",
       "│            ┆             ┆             ┆        ┆   ┆       ┆             ┆        ┆ Santiago    │\n",
       "│ 2020       ┆ 13          ┆ 13101       ┆ Hombre ┆ … ┆ 1     ┆ SANTIAGO    ┆ 13     ┆ Metropolita │\n",
       "│            ┆             ┆             ┆        ┆   ┆       ┆             ┆        ┆ na de       │\n",
       "│            ┆             ┆             ┆        ┆   ┆       ┆             ┆        ┆ Santiago    │\n",
       "│ 2020       ┆ 13          ┆ 13122       ┆ Mujer  ┆ … ┆ 1     ┆ PEÑALOLÉN   ┆ 13     ┆ Metropolita │\n",
       "│            ┆             ┆             ┆        ┆   ┆       ┆             ┆        ┆ na de       │\n",
       "│            ┆             ┆             ┆        ┆   ┆       ┆             ┆        ┆ Santiago    │\n",
       "└────────────┴─────────────┴─────────────┴────────┴───┴───────┴─────────────┴────────┴─────────────┘"
      ]
     },
     "metadata": {},
     "output_type": "display_data"
    },
    {
     "name": "stdout",
     "output_type": "stream",
     "text": [
      "shape: (1, 1)\n",
      "┌───────┐\n",
      "│ count │\n",
      "│ ---   │\n",
      "│ u32   │\n",
      "╞═══════╡\n",
      "│ 1709  │\n",
      "└───────┘\n"
     ]
    }
   ],
   "source": [
    "display(desglose_sociodemografico.filter(pl.col(\"DIAG1\") == \"C341\"))\n",
    "print(desglose_sociodemografico.filter(pl.col(\"DIAG1\") == \"C341\").select(pl.col(\"count\").sum()))"
   ]
  },
  {
   "cell_type": "markdown",
   "metadata": {},
   "source": [
    "Por lo tanto, se muestra cada desglose sociodemográfico de los pacientes atendidos. Además,\n",
    "se indica que la suma de cada conteo de grupo suma 1709 entre 2001 y 2020. Esto está en concordancia\n",
    "con los egresos totales (1709) para el diagnóstico mencionado en el periodo mencionado."
   ]
  },
  {
   "cell_type": "code",
   "execution_count": 66,
   "metadata": {},
   "outputs": [
    {
     "data": {
      "text/html": [
       "<div><style>\n",
       ".dataframe > thead > tr > th,\n",
       ".dataframe > tbody > tr > td {\n",
       "  text-align: right;\n",
       "  white-space: pre-wrap;\n",
       "}\n",
       "</style>\n",
       "<small>shape: (73_894, 12)</small><table border=\"1\" class=\"dataframe\"><thead><tr><th>ANO_EGRESO</th><th>REGION_RESIDENCIA</th><th>COMUNA_RESIDENCIA</th><th>SEXO</th><th>EDAD_CATEGORIA</th><th>PREVISION</th><th>BENEFICIARIO</th><th>DIAG1</th><th>count</th><th>Nombre Comuna</th><th>Código Región</th><th>Nombre Región</th></tr><tr><td>i64</td><td>i64</td><td>i64</td><td>str</td><td>str</td><td>str</td><td>str</td><td>str</td><td>u32</td><td>str</td><td>i64</td><td>str</td></tr></thead><tbody><tr><td>2001</td><td>13</td><td>13114</td><td>&quot;Hombre&quot;</td><td>&quot;(80, 90]&quot;</td><td>&quot;Fonasa&quot;</td><td>&quot;D&quot;</td><td>&quot;I259&quot;</td><td>1</td><td>&quot;Las Condes&quot;</td><td>13</td><td>&quot;Metropolitana …</td></tr><tr><td>2001</td><td>13</td><td>13101</td><td>&quot;Mujer&quot;</td><td>&quot;(70, 80]&quot;</td><td>&quot;Fonasa&quot;</td><td>&quot;B&quot;</td><td>&quot;I340&quot;</td><td>1</td><td>&quot;Santiago&quot;</td><td>13</td><td>&quot;Metropolitana …</td></tr><tr><td>2001</td><td>13</td><td>13101</td><td>&quot;Hombre&quot;</td><td>&quot;(70, 80]&quot;</td><td>&quot;Isapre&quot;</td><td>null</td><td>&quot;K449&quot;</td><td>1</td><td>&quot;Santiago&quot;</td><td>13</td><td>&quot;Metropolitana …</td></tr><tr><td>2001</td><td>12</td><td>12101</td><td>&quot;Hombre&quot;</td><td>&quot;(70, 80]&quot;</td><td>&quot;Fonasa&quot;</td><td>&quot;B&quot;</td><td>&quot;I351&quot;</td><td>1</td><td>&quot;Punta Arenas&quot;</td><td>12</td><td>&quot;de Magallanes …</td></tr><tr><td>2001</td><td>13</td><td>13120</td><td>&quot;Hombre&quot;</td><td>&quot;(60, 70]&quot;</td><td>&quot;Fonasa&quot;</td><td>&quot;B&quot;</td><td>&quot;C349&quot;</td><td>1</td><td>&quot;Ñuñoa&quot;</td><td>13</td><td>&quot;Metropolitana …</td></tr><tr><td>2001</td><td>13</td><td>13131</td><td>&quot;Hombre&quot;</td><td>&quot;(60, 70]&quot;</td><td>&quot;Fonasa&quot;</td><td>&quot;D&quot;</td><td>&quot;J90X&quot;</td><td>1</td><td>&quot;San Ramón&quot;</td><td>13</td><td>&quot;Metropolitana …</td></tr><tr><td>2001</td><td>13</td><td>13131</td><td>&quot;Mujer&quot;</td><td>&quot;(50, 60]&quot;</td><td>&quot;Fonasa&quot;</td><td>&quot;A&quot;</td><td>&quot;J459&quot;</td><td>1</td><td>&quot;San Ramón&quot;</td><td>13</td><td>&quot;Metropolitana …</td></tr><tr><td>2001</td><td>6</td><td>6101</td><td>&quot;Mujer&quot;</td><td>&quot;(40, 50]&quot;</td><td>&quot;Fonasa&quot;</td><td>&quot;A&quot;</td><td>&quot;T821&quot;</td><td>1</td><td>&quot;Rancagua&quot;</td><td>6</td><td>&quot;del Libertador…</td></tr><tr><td>2001</td><td>16</td><td>16302</td><td>&quot;Hombre&quot;</td><td>&quot;(30, 40]&quot;</td><td>&quot;Fonasa&quot;</td><td>&quot;B&quot;</td><td>&quot;J986&quot;</td><td>1</td><td>&quot;Coihueco&quot;</td><td>16</td><td>&quot;de Ñuble&quot;</td></tr><tr><td>2001</td><td>13</td><td>13118</td><td>&quot;Hombre&quot;</td><td>&quot;(60, 70]&quot;</td><td>&quot;Fonasa&quot;</td><td>&quot;A&quot;</td><td>&quot;J180&quot;</td><td>1</td><td>&quot;Macul&quot;</td><td>13</td><td>&quot;Metropolitana …</td></tr><tr><td>2001</td><td>13</td><td>13101</td><td>&quot;Mujer&quot;</td><td>&quot;(50, 60]&quot;</td><td>&quot;Fonasa&quot;</td><td>&quot;A&quot;</td><td>&quot;C384&quot;</td><td>1</td><td>&quot;Santiago&quot;</td><td>13</td><td>&quot;Metropolitana …</td></tr><tr><td>2001</td><td>13</td><td>13118</td><td>&quot;Hombre&quot;</td><td>&quot;(60, 70]&quot;</td><td>&quot;Fonasa&quot;</td><td>&quot;B&quot;</td><td>&quot;Z136&quot;</td><td>2</td><td>&quot;Macul&quot;</td><td>13</td><td>&quot;Metropolitana …</td></tr><tr><td>&hellip;</td><td>&hellip;</td><td>&hellip;</td><td>&hellip;</td><td>&hellip;</td><td>&hellip;</td><td>&hellip;</td><td>&hellip;</td><td>&hellip;</td><td>&hellip;</td><td>&hellip;</td><td>&hellip;</td></tr><tr><td>2020</td><td>13</td><td>13114</td><td>&quot;Mujer&quot;</td><td>&quot;(80, 90]&quot;</td><td>&quot;Fonasa&quot;</td><td>&quot;B&quot;</td><td>&quot;I350&quot;</td><td>1</td><td>&quot;Las Condes&quot;</td><td>13</td><td>&quot;Metropolitana …</td></tr><tr><td>2020</td><td>5</td><td>5201</td><td>&quot;Hombre&quot;</td><td>&quot;(40, 50]&quot;</td><td>&quot;Fonasa&quot;</td><td>&quot;D&quot;</td><td>&quot;I441&quot;</td><td>1</td><td>&quot;Isla De Pascua…</td><td>5</td><td>&quot;de Valparaíso&quot;</td></tr><tr><td>2020</td><td>13</td><td>13122</td><td>&quot;Mujer&quot;</td><td>&quot;(70, 80]&quot;</td><td>&quot;Fonasa&quot;</td><td>&quot;B&quot;</td><td>&quot;C341&quot;</td><td>1</td><td>&quot;Peñalolén&quot;</td><td>13</td><td>&quot;Metropolitana …</td></tr><tr><td>2020</td><td>13</td><td>13123</td><td>&quot;Mujer&quot;</td><td>&quot;(20, 30]&quot;</td><td>&quot;Desconocido&quot;</td><td>null</td><td>&quot;C33X&quot;</td><td>1</td><td>&quot;Providencia&quot;</td><td>13</td><td>&quot;Metropolitana …</td></tr><tr><td>2020</td><td>13</td><td>13122</td><td>&quot;Mujer&quot;</td><td>&quot;(90, 100]&quot;</td><td>&quot;Fonasa&quot;</td><td>&quot;B&quot;</td><td>&quot;I458&quot;</td><td>1</td><td>&quot;Peñalolén&quot;</td><td>13</td><td>&quot;Metropolitana …</td></tr><tr><td>2020</td><td>7</td><td>7401</td><td>&quot;Hombre&quot;</td><td>&quot;(70, 80]&quot;</td><td>&quot;Desconocido&quot;</td><td>null</td><td>&quot;J860&quot;</td><td>6</td><td>&quot;Linares&quot;</td><td>7</td><td>&quot;del Maule&quot;</td></tr><tr><td>2020</td><td>13</td><td>13120</td><td>&quot;Mujer&quot;</td><td>&quot;(60, 70]&quot;</td><td>&quot;Desconocido&quot;</td><td>null</td><td>&quot;I480&quot;</td><td>1</td><td>&quot;Ñuñoa&quot;</td><td>13</td><td>&quot;Metropolitana …</td></tr><tr><td>2020</td><td>5</td><td>5101</td><td>&quot;Hombre&quot;</td><td>&quot;(60, 70]&quot;</td><td>&quot;Fonasa&quot;</td><td>&quot;B&quot;</td><td>&quot;Z518&quot;</td><td>3</td><td>&quot;Valparaiso&quot;</td><td>5</td><td>&quot;de Valparaíso&quot;</td></tr><tr><td>2020</td><td>13</td><td>13114</td><td>&quot;Hombre&quot;</td><td>&quot;(50, 60]&quot;</td><td>&quot;Desconocido&quot;</td><td>null</td><td>&quot;J441&quot;</td><td>1</td><td>&quot;Las Condes&quot;</td><td>13</td><td>&quot;Metropolitana …</td></tr><tr><td>2020</td><td>13</td><td>13101</td><td>&quot;Mujer&quot;</td><td>&quot;(60, 70]&quot;</td><td>&quot;Fonasa&quot;</td><td>&quot;B&quot;</td><td>&quot;Z511&quot;</td><td>1</td><td>&quot;Santiago&quot;</td><td>13</td><td>&quot;Metropolitana …</td></tr><tr><td>2020</td><td>13</td><td>13401</td><td>&quot;Hombre&quot;</td><td>&quot;(50, 60]&quot;</td><td>&quot;Fonasa&quot;</td><td>&quot;C&quot;</td><td>&quot;I728&quot;</td><td>1</td><td>&quot;San Bernardo&quot;</td><td>13</td><td>&quot;Metropolitana …</td></tr><tr><td>2020</td><td>13</td><td>13119</td><td>&quot;Hombre&quot;</td><td>&quot;(60, 70]&quot;</td><td>&quot;Fonasa&quot;</td><td>&quot;B&quot;</td><td>&quot;C343&quot;</td><td>1</td><td>&quot;Maipu&quot;</td><td>13</td><td>&quot;Metropolitana …</td></tr></tbody></table></div>"
      ],
      "text/plain": [
       "shape: (73_894, 12)\n",
       "┌────────────┬─────────────┬─────────────┬────────┬───┬───────┬─────────────┬────────┬─────────────┐\n",
       "│ ANO_EGRESO ┆ REGION_RESI ┆ COMUNA_RESI ┆ SEXO   ┆ … ┆ count ┆ Nombre      ┆ Código ┆ Nombre      │\n",
       "│ ---        ┆ DENCIA      ┆ DENCIA      ┆ ---    ┆   ┆ ---   ┆ Comuna      ┆ Región ┆ Región      │\n",
       "│ i64        ┆ ---         ┆ ---         ┆ str    ┆   ┆ u32   ┆ ---         ┆ ---    ┆ ---         │\n",
       "│            ┆ i64         ┆ i64         ┆        ┆   ┆       ┆ str         ┆ i64    ┆ str         │\n",
       "╞════════════╪═════════════╪═════════════╪════════╪═══╪═══════╪═════════════╪════════╪═════════════╡\n",
       "│ 2001       ┆ 13          ┆ 13114       ┆ Hombre ┆ … ┆ 1     ┆ Las Condes  ┆ 13     ┆ Metropolita │\n",
       "│            ┆             ┆             ┆        ┆   ┆       ┆             ┆        ┆ na de       │\n",
       "│            ┆             ┆             ┆        ┆   ┆       ┆             ┆        ┆ Santiago    │\n",
       "│ 2001       ┆ 13          ┆ 13101       ┆ Mujer  ┆ … ┆ 1     ┆ Santiago    ┆ 13     ┆ Metropolita │\n",
       "│            ┆             ┆             ┆        ┆   ┆       ┆             ┆        ┆ na de       │\n",
       "│            ┆             ┆             ┆        ┆   ┆       ┆             ┆        ┆ Santiago    │\n",
       "│ 2001       ┆ 13          ┆ 13101       ┆ Hombre ┆ … ┆ 1     ┆ Santiago    ┆ 13     ┆ Metropolita │\n",
       "│            ┆             ┆             ┆        ┆   ┆       ┆             ┆        ┆ na de       │\n",
       "│            ┆             ┆             ┆        ┆   ┆       ┆             ┆        ┆ Santiago    │\n",
       "│ 2001       ┆ 12          ┆ 12101       ┆ Hombre ┆ … ┆ 1     ┆ Punta       ┆ 12     ┆ de          │\n",
       "│            ┆             ┆             ┆        ┆   ┆       ┆ Arenas      ┆        ┆ Magallanes  │\n",
       "│            ┆             ┆             ┆        ┆   ┆       ┆             ┆        ┆ y de la     │\n",
       "│            ┆             ┆             ┆        ┆   ┆       ┆             ┆        ┆ Antártica … │\n",
       "│ …          ┆ …           ┆ …           ┆ …      ┆ … ┆ …     ┆ …           ┆ …      ┆ …           │\n",
       "│ 2020       ┆ 13          ┆ 13114       ┆ Hombre ┆ … ┆ 1     ┆ Las Condes  ┆ 13     ┆ Metropolita │\n",
       "│            ┆             ┆             ┆        ┆   ┆       ┆             ┆        ┆ na de       │\n",
       "│            ┆             ┆             ┆        ┆   ┆       ┆             ┆        ┆ Santiago    │\n",
       "│ 2020       ┆ 13          ┆ 13101       ┆ Mujer  ┆ … ┆ 1     ┆ Santiago    ┆ 13     ┆ Metropolita │\n",
       "│            ┆             ┆             ┆        ┆   ┆       ┆             ┆        ┆ na de       │\n",
       "│            ┆             ┆             ┆        ┆   ┆       ┆             ┆        ┆ Santiago    │\n",
       "│ 2020       ┆ 13          ┆ 13401       ┆ Hombre ┆ … ┆ 1     ┆ San         ┆ 13     ┆ Metropolita │\n",
       "│            ┆             ┆             ┆        ┆   ┆       ┆ Bernardo    ┆        ┆ na de       │\n",
       "│            ┆             ┆             ┆        ┆   ┆       ┆             ┆        ┆ Santiago    │\n",
       "│ 2020       ┆ 13          ┆ 13119       ┆ Hombre ┆ … ┆ 1     ┆ Maipu       ┆ 13     ┆ Metropolita │\n",
       "│            ┆             ┆             ┆        ┆   ┆       ┆             ┆        ┆ na de       │\n",
       "│            ┆             ┆             ┆        ┆   ┆       ┆             ┆        ┆ Santiago    │\n",
       "└────────────┴─────────────┴─────────────┴────────┴───┴───────┴─────────────┴────────┴─────────────┘"
      ]
     },
     "execution_count": 66,
     "metadata": {},
     "output_type": "execute_result"
    }
   ],
   "source": []
  },
  {
   "cell_type": "code",
   "execution_count": null,
   "metadata": {},
   "outputs": [],
   "source": []
  }
 ],
 "metadata": {
  "kernelspec": {
   "display_name": "base",
   "language": "python",
   "name": "python3"
  },
  "language_info": {
   "codemirror_mode": {
    "name": "ipython",
    "version": 3
   },
   "file_extension": ".py",
   "mimetype": "text/x-python",
   "name": "python",
   "nbconvert_exporter": "python",
   "pygments_lexer": "ipython3",
   "version": "3.11.5"
  },
  "orig_nbformat": 4
 },
 "nbformat": 4,
 "nbformat_minor": 2
}
