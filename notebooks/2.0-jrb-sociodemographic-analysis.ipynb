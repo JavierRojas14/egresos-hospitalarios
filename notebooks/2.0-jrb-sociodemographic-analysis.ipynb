{
 "cells": [
  {
   "cell_type": "code",
   "execution_count": 1,
   "metadata": {},
   "outputs": [],
   "source": [
    "import sys\n",
    "import os\n",
    "\n",
    "project_root = os.path.abspath('..')\n",
    "if project_root not in sys.path:\n",
    "    sys.path.append(project_root)\n",
    "\n",
    "%load_ext autoreload\n",
    "%autoreload 2\n"
   ]
  },
  {
   "cell_type": "code",
   "execution_count": 2,
   "metadata": {},
   "outputs": [],
   "source": [
    "import pandas as pd\n",
    "import numpy as np\n",
    "import polars as pl\n",
    "\n",
    "import matplotlib.pyplot as plt\n",
    "import seaborn as sns\n",
    "\n",
    "from src.data.make_dataset import DICT_VARIABLES\n",
    "from src.features import build_features\n",
    "\n",
    "sns.set_style()\n",
    "plt.rcParams[\"figure.figsize\"] = (12, 6)\n",
    "\n",
    "HOSPITAL_A_ANALIZAR = 112103  # Este es el Torax"
   ]
  },
  {
   "cell_type": "markdown",
   "metadata": {},
   "source": [
    "## 1. Análisis Sociodemográfico de Pacientes Atendidos en el Hospital del Tórax\n",
    "\n",
    "En este cuadernillo se quiere ver el perfil sociodemográfico de los pacientes hospitalizados\n",
    "en el Hospital del Tórax. Se utilizará la base de datos pública de egresos hospitalarios DEIS\n",
    "entre 2001 y 2020. Las preguntas que se quieren responder son:\n",
    "\n",
    "- ¿Cómo es la distribución geográfica de los pacientes atendidos en el INT?\n",
    "- ¿Cuál es el rango etario más atendido en el INT?\n",
    "- ¿Cuál es el género más atendido en el INT?\n",
    "- ¿Cuál es la previsión más atendida en el INT?\n",
    "- ¿Cuál es la letra de FONASA más atendida en el INT?"
   ]
  },
  {
   "cell_type": "markdown",
   "metadata": {},
   "source": [
    "Para responder estas preguntas se realizará una agrupación de los datos con todas las variables\n",
    "sociodemográficas de interés para el análisis."
   ]
  },
  {
   "cell_type": "code",
   "execution_count": 29,
   "metadata": {},
   "outputs": [],
   "source": [
    "# Define todas las variables que se quieren saber\n",
    "\n",
    "VARIABLES_SOCIODEMOGRAFICAS_ESTATICAS = [\"ANO_EGRESO\", \"REGION_RESIDENCIA\", \"COMUNA_RESIDENCIA\"]\n",
    "VARIABLES_SOCIODEMOGRAFICAS_DINAMICAS = [\"SEXO\", \"EDAD_CATEGORIA\", \"PREVISION\", \"BENEFICIARIO\"]\n",
    "VARIABLE_A_CONTAR = \"DIAG1\"\n",
    "\n",
    "agrupacion_total = (\n",
    "    VARIABLES_SOCIODEMOGRAFICAS_ESTATICAS\n",
    "    + VARIABLES_SOCIODEMOGRAFICAS_DINAMICAS\n",
    "    + [VARIABLE_A_CONTAR]\n",
    ")"
   ]
  },
  {
   "cell_type": "markdown",
   "metadata": {},
   "source": [
    "Luego, se genera la consulta de la base de datos. Para reducir el coste computacional, se filtra\n",
    "la base de datos únicamente para los datos del INT. Posteriormente, se agrupa la base de datos\n",
    "con las variables sociodemográficas de interés y se cuenta la ocurrencia de cada grupo."
   ]
  },
  {
   "cell_type": "code",
   "execution_count": 30,
   "metadata": {},
   "outputs": [],
   "source": [
    "desglose_sociodemografico = (\n",
    "    pl.scan_csv(\"../data/processed/egresos_procesados.csv\")\n",
    "    .filter(pl.col(\"ESTABLECIMIENTO_SALUD\") == HOSPITAL_A_ANALIZAR)\n",
    "    .group_by(agrupacion_total)\n",
    "    .count()\n",
    "    .sort([\"ANO_EGRESO\"])\n",
    "    .collect(streaming=True)\n",
    ")"
   ]
  },
  {
   "cell_type": "code",
   "execution_count": 36,
   "metadata": {},
   "outputs": [
    {
     "data": {
      "text/html": [
       "<div><style>\n",
       ".dataframe > thead > tr > th,\n",
       ".dataframe > tbody > tr > td {\n",
       "  text-align: right;\n",
       "  white-space: pre-wrap;\n",
       "}\n",
       "</style>\n",
       "<small>shape: (5, 9)</small><table border=\"1\" class=\"dataframe\"><thead><tr><th>ANO_EGRESO</th><th>REGION_RESIDENCIA</th><th>COMUNA_RESIDENCIA</th><th>SEXO</th><th>EDAD_CATEGORIA</th><th>PREVISION</th><th>BENEFICIARIO</th><th>DIAG1</th><th>count</th></tr><tr><td>i64</td><td>i64</td><td>i64</td><td>str</td><td>str</td><td>str</td><td>str</td><td>str</td><td>u32</td></tr></thead><tbody><tr><td>2001</td><td>13</td><td>13605</td><td>&quot;Mujer&quot;</td><td>&quot;(70, 80]&quot;</td><td>&quot;FONASA&quot;</td><td>&quot;B&quot;</td><td>&quot;K810&quot;</td><td>1</td></tr><tr><td>2001</td><td>13</td><td>13124</td><td>&quot;Mujer&quot;</td><td>&quot;(40, 50]&quot;</td><td>&quot;ISAPRE&quot;</td><td>null</td><td>&quot;I10X&quot;</td><td>1</td></tr><tr><td>2001</td><td>13</td><td>13122</td><td>&quot;Hombre&quot;</td><td>&quot;(40, 50]&quot;</td><td>&quot;FONASA&quot;</td><td>&quot;D&quot;</td><td>&quot;I509&quot;</td><td>2</td></tr><tr><td>2001</td><td>13</td><td>13123</td><td>&quot;Hombre&quot;</td><td>&quot;(80, 90]&quot;</td><td>&quot;DESCONOCIDO&quot;</td><td>null</td><td>&quot;C950&quot;</td><td>1</td></tr><tr><td>2001</td><td>13</td><td>13115</td><td>&quot;Hombre&quot;</td><td>&quot;(60, 70]&quot;</td><td>&quot;FONASA&quot;</td><td>&quot;C&quot;</td><td>&quot;Q859&quot;</td><td>1</td></tr></tbody></table></div>"
      ],
      "text/plain": [
       "shape: (5, 9)\n",
       "┌────────────┬──────────────┬─────────────┬────────┬───┬─────────────┬─────────────┬───────┬───────┐\n",
       "│ ANO_EGRESO ┆ REGION_RESID ┆ COMUNA_RESI ┆ SEXO   ┆ … ┆ PREVISION   ┆ BENEFICIARI ┆ DIAG1 ┆ count │\n",
       "│ ---        ┆ ENCIA        ┆ DENCIA      ┆ ---    ┆   ┆ ---         ┆ O           ┆ ---   ┆ ---   │\n",
       "│ i64        ┆ ---          ┆ ---         ┆ str    ┆   ┆ str         ┆ ---         ┆ str   ┆ u32   │\n",
       "│            ┆ i64          ┆ i64         ┆        ┆   ┆             ┆ str         ┆       ┆       │\n",
       "╞════════════╪══════════════╪═════════════╪════════╪═══╪═════════════╪═════════════╪═══════╪═══════╡\n",
       "│ 2001       ┆ 13           ┆ 13605       ┆ Mujer  ┆ … ┆ FONASA      ┆ B           ┆ K810  ┆ 1     │\n",
       "│ 2001       ┆ 13           ┆ 13124       ┆ Mujer  ┆ … ┆ ISAPRE      ┆ null        ┆ I10X  ┆ 1     │\n",
       "│ 2001       ┆ 13           ┆ 13122       ┆ Hombre ┆ … ┆ FONASA      ┆ D           ┆ I509  ┆ 2     │\n",
       "│ 2001       ┆ 13           ┆ 13123       ┆ Hombre ┆ … ┆ DESCONOCIDO ┆ null        ┆ C950  ┆ 1     │\n",
       "│ 2001       ┆ 13           ┆ 13115       ┆ Hombre ┆ … ┆ FONASA      ┆ C           ┆ Q859  ┆ 1     │\n",
       "└────────────┴──────────────┴─────────────┴────────┴───┴─────────────┴─────────────┴───────┴───────┘"
      ]
     },
     "metadata": {},
     "output_type": "display_data"
    }
   ],
   "source": [
    "display(desglose_sociodemografico.head())"
   ]
  },
  {
   "cell_type": "markdown",
   "metadata": {},
   "source": [
    "En los resultados se indica el perfil sociodemográfico para cada combinación de variable presente\n",
    "en la base de datos. A modo de ejemplo, hubo 1 ocurrencia en el 2001 de una paciente de la Región\n",
    "número 13 y Comuna 13605 que tenía entre 70 a 80 años que tenía PREVISION FONASA Letra B diagnosticada\n",
    "con el diagnóstico K810.\n",
    "\n",
    "Uno de los diagnósticos de interés para el Instituto es el de código \"C341\"."
   ]
  },
  {
   "cell_type": "code",
   "execution_count": 41,
   "metadata": {},
   "outputs": [
    {
     "data": {
      "text/html": [
       "<div><style>\n",
       ".dataframe > thead > tr > th,\n",
       ".dataframe > tbody > tr > td {\n",
       "  text-align: right;\n",
       "  white-space: pre-wrap;\n",
       "}\n",
       "</style>\n",
       "<small>shape: (1_247, 9)</small><table border=\"1\" class=\"dataframe\"><thead><tr><th>ANO_EGRESO</th><th>REGION_RESIDENCIA</th><th>COMUNA_RESIDENCIA</th><th>SEXO</th><th>EDAD_CATEGORIA</th><th>PREVISION</th><th>BENEFICIARIO</th><th>DIAG1</th><th>count</th></tr><tr><td>i64</td><td>i64</td><td>i64</td><td>str</td><td>str</td><td>str</td><td>str</td><td>str</td><td>u32</td></tr></thead><tbody><tr><td>2001</td><td>13</td><td>13113</td><td>&quot;Mujer&quot;</td><td>&quot;(60, 70]&quot;</td><td>&quot;FONASA&quot;</td><td>&quot;B&quot;</td><td>&quot;C341&quot;</td><td>1</td></tr><tr><td>2001</td><td>13</td><td>13101</td><td>&quot;Hombre&quot;</td><td>&quot;(50, 60]&quot;</td><td>&quot;FONASA&quot;</td><td>&quot;A&quot;</td><td>&quot;C341&quot;</td><td>1</td></tr><tr><td>2001</td><td>8</td><td>8101</td><td>&quot;Hombre&quot;</td><td>&quot;(60, 70]&quot;</td><td>&quot;DESCONOCIDO&quot;</td><td>null</td><td>&quot;C341&quot;</td><td>1</td></tr><tr><td>2001</td><td>3</td><td>3102</td><td>&quot;Hombre&quot;</td><td>&quot;(50, 60]&quot;</td><td>&quot;FONASA&quot;</td><td>&quot;A&quot;</td><td>&quot;C341&quot;</td><td>1</td></tr><tr><td>2001</td><td>13</td><td>13128</td><td>&quot;Mujer&quot;</td><td>&quot;(60, 70]&quot;</td><td>&quot;FONASA&quot;</td><td>&quot;B&quot;</td><td>&quot;C341&quot;</td><td>1</td></tr><tr><td>2001</td><td>3</td><td>3101</td><td>&quot;Hombre&quot;</td><td>&quot;(60, 70]&quot;</td><td>&quot;FONASA&quot;</td><td>&quot;C&quot;</td><td>&quot;C341&quot;</td><td>1</td></tr><tr><td>2001</td><td>13</td><td>13106</td><td>&quot;Mujer&quot;</td><td>&quot;(60, 70]&quot;</td><td>&quot;FONASA&quot;</td><td>&quot;B&quot;</td><td>&quot;C341&quot;</td><td>1</td></tr><tr><td>2003</td><td>13</td><td>13110</td><td>&quot;Mujer&quot;</td><td>&quot;(50, 60]&quot;</td><td>&quot;FONASA&quot;</td><td>&quot;B&quot;</td><td>&quot;C341&quot;</td><td>1</td></tr><tr><td>2003</td><td>6</td><td>6101</td><td>&quot;Hombre&quot;</td><td>&quot;(50, 60]&quot;</td><td>&quot;FONASA&quot;</td><td>&quot;A&quot;</td><td>&quot;C341&quot;</td><td>1</td></tr><tr><td>2005</td><td>13</td><td>13122</td><td>&quot;Hombre&quot;</td><td>&quot;(60, 70]&quot;</td><td>&quot;FONASA&quot;</td><td>&quot;B&quot;</td><td>&quot;C341&quot;</td><td>1</td></tr><tr><td>2005</td><td>13</td><td>13119</td><td>&quot;Hombre&quot;</td><td>&quot;(60, 70]&quot;</td><td>&quot;FONASA&quot;</td><td>&quot;C&quot;</td><td>&quot;C341&quot;</td><td>1</td></tr><tr><td>2006</td><td>13</td><td>13117</td><td>&quot;Hombre&quot;</td><td>&quot;(60, 70]&quot;</td><td>&quot;FONASA&quot;</td><td>&quot;B&quot;</td><td>&quot;C341&quot;</td><td>1</td></tr><tr><td>&hellip;</td><td>&hellip;</td><td>&hellip;</td><td>&hellip;</td><td>&hellip;</td><td>&hellip;</td><td>&hellip;</td><td>&hellip;</td><td>&hellip;</td></tr><tr><td>2020</td><td>5</td><td>5801</td><td>&quot;Hombre&quot;</td><td>&quot;(50, 60]&quot;</td><td>&quot;FONASA&quot;</td><td>&quot;D&quot;</td><td>&quot;C341&quot;</td><td>1</td></tr><tr><td>2020</td><td>13</td><td>13106</td><td>&quot;Mujer&quot;</td><td>&quot;(70, 80]&quot;</td><td>&quot;FONASA&quot;</td><td>&quot;A&quot;</td><td>&quot;C341&quot;</td><td>1</td></tr><tr><td>2020</td><td>13</td><td>13132</td><td>&quot;Mujer&quot;</td><td>&quot;(70, 80]&quot;</td><td>&quot;FONASA&quot;</td><td>&quot;B&quot;</td><td>&quot;C341&quot;</td><td>1</td></tr><tr><td>2020</td><td>13</td><td>13123</td><td>&quot;Mujer&quot;</td><td>&quot;(60, 70]&quot;</td><td>&quot;FONASA&quot;</td><td>&quot;B&quot;</td><td>&quot;C341&quot;</td><td>2</td></tr><tr><td>2020</td><td>13</td><td>13122</td><td>&quot;Hombre&quot;</td><td>&quot;(80, 90]&quot;</td><td>&quot;FONASA&quot;</td><td>&quot;D&quot;</td><td>&quot;C341&quot;</td><td>1</td></tr><tr><td>2020</td><td>6</td><td>6309</td><td>&quot;Mujer&quot;</td><td>&quot;(50, 60]&quot;</td><td>&quot;FONASA&quot;</td><td>&quot;B&quot;</td><td>&quot;C341&quot;</td><td>1</td></tr><tr><td>2020</td><td>13</td><td>13132</td><td>&quot;Mujer&quot;</td><td>&quot;(60, 70]&quot;</td><td>&quot;FONASA&quot;</td><td>&quot;A&quot;</td><td>&quot;C341&quot;</td><td>1</td></tr><tr><td>2020</td><td>13</td><td>13401</td><td>&quot;Hombre&quot;</td><td>&quot;(60, 70]&quot;</td><td>&quot;FONASA&quot;</td><td>&quot;B&quot;</td><td>&quot;C341&quot;</td><td>1</td></tr><tr><td>2020</td><td>13</td><td>13119</td><td>&quot;Hombre&quot;</td><td>&quot;(50, 60]&quot;</td><td>&quot;DESCONOCIDO&quot;</td><td>null</td><td>&quot;C341&quot;</td><td>1</td></tr><tr><td>2020</td><td>13</td><td>13101</td><td>&quot;Hombre&quot;</td><td>&quot;(70, 80]&quot;</td><td>&quot;FONASA&quot;</td><td>&quot;C&quot;</td><td>&quot;C341&quot;</td><td>1</td></tr><tr><td>2020</td><td>13</td><td>13122</td><td>&quot;Hombre&quot;</td><td>&quot;(60, 70]&quot;</td><td>&quot;DESCONOCIDO&quot;</td><td>null</td><td>&quot;C341&quot;</td><td>1</td></tr><tr><td>2020</td><td>13</td><td>13123</td><td>&quot;Mujer&quot;</td><td>&quot;(70, 80]&quot;</td><td>&quot;FONASA&quot;</td><td>&quot;B&quot;</td><td>&quot;C341&quot;</td><td>1</td></tr></tbody></table></div>"
      ],
      "text/plain": [
       "shape: (1_247, 9)\n",
       "┌────────────┬──────────────┬─────────────┬────────┬───┬─────────────┬─────────────┬───────┬───────┐\n",
       "│ ANO_EGRESO ┆ REGION_RESID ┆ COMUNA_RESI ┆ SEXO   ┆ … ┆ PREVISION   ┆ BENEFICIARI ┆ DIAG1 ┆ count │\n",
       "│ ---        ┆ ENCIA        ┆ DENCIA      ┆ ---    ┆   ┆ ---         ┆ O           ┆ ---   ┆ ---   │\n",
       "│ i64        ┆ ---          ┆ ---         ┆ str    ┆   ┆ str         ┆ ---         ┆ str   ┆ u32   │\n",
       "│            ┆ i64          ┆ i64         ┆        ┆   ┆             ┆ str         ┆       ┆       │\n",
       "╞════════════╪══════════════╪═════════════╪════════╪═══╪═════════════╪═════════════╪═══════╪═══════╡\n",
       "│ 2001       ┆ 13           ┆ 13113       ┆ Mujer  ┆ … ┆ FONASA      ┆ B           ┆ C341  ┆ 1     │\n",
       "│ 2001       ┆ 13           ┆ 13101       ┆ Hombre ┆ … ┆ FONASA      ┆ A           ┆ C341  ┆ 1     │\n",
       "│ 2001       ┆ 8            ┆ 8101        ┆ Hombre ┆ … ┆ DESCONOCIDO ┆ null        ┆ C341  ┆ 1     │\n",
       "│ 2001       ┆ 3            ┆ 3102        ┆ Hombre ┆ … ┆ FONASA      ┆ A           ┆ C341  ┆ 1     │\n",
       "│ …          ┆ …            ┆ …           ┆ …      ┆ … ┆ …           ┆ …           ┆ …     ┆ …     │\n",
       "│ 2020       ┆ 13           ┆ 13119       ┆ Hombre ┆ … ┆ DESCONOCIDO ┆ null        ┆ C341  ┆ 1     │\n",
       "│ 2020       ┆ 13           ┆ 13101       ┆ Hombre ┆ … ┆ FONASA      ┆ C           ┆ C341  ┆ 1     │\n",
       "│ 2020       ┆ 13           ┆ 13122       ┆ Hombre ┆ … ┆ DESCONOCIDO ┆ null        ┆ C341  ┆ 1     │\n",
       "│ 2020       ┆ 13           ┆ 13123       ┆ Mujer  ┆ … ┆ FONASA      ┆ B           ┆ C341  ┆ 1     │\n",
       "└────────────┴──────────────┴─────────────┴────────┴───┴─────────────┴─────────────┴───────┴───────┘"
      ]
     },
     "metadata": {},
     "output_type": "display_data"
    },
    {
     "name": "stdout",
     "output_type": "stream",
     "text": [
      "shape: (1, 1)\n",
      "┌───────┐\n",
      "│ count │\n",
      "│ ---   │\n",
      "│ u32   │\n",
      "╞═══════╡\n",
      "│ 1709  │\n",
      "└───────┘\n"
     ]
    }
   ],
   "source": [
    "display(desglose_sociodemografico.filter(pl.col(\"DIAG1\") == \"C341\"))\n",
    "print(desglose_sociodemografico.filter(pl.col(\"DIAG1\") == \"C341\").select(pl.col(\"count\").sum()))"
   ]
  },
  {
   "cell_type": "markdown",
   "metadata": {},
   "source": [
    "Por lo tanto, se muestra cada desglose sociodemográfico de los pacientes atendidos. Además,\n",
    "se indica que la suma de cada conteo de grupo suma 1709 entre 2001 y 2020. Esto está en concordancia\n",
    "con los egresos totales (1709) para el diagnóstico mencionado en el periodo mencionado."
   ]
  }
 ],
 "metadata": {
  "kernelspec": {
   "display_name": "base",
   "language": "python",
   "name": "python3"
  },
  "language_info": {
   "codemirror_mode": {
    "name": "ipython",
    "version": 3
   },
   "file_extension": ".py",
   "mimetype": "text/x-python",
   "name": "python",
   "nbconvert_exporter": "python",
   "pygments_lexer": "ipython3",
   "version": "3.11.5"
  },
  "orig_nbformat": 4
 },
 "nbformat": 4,
 "nbformat_minor": 2
}
