{
 "cells": [
  {
   "cell_type": "code",
   "execution_count": 1,
   "metadata": {},
   "outputs": [],
   "source": [
    "import sys\n",
    "import os\n",
    "\n",
    "project_root = os.path.abspath('..')\n",
    "if project_root not in sys.path:\n",
    "    sys.path.append(project_root)\n",
    "\n",
    "%load_ext autoreload\n",
    "%autoreload 2\n"
   ]
  },
  {
   "cell_type": "code",
   "execution_count": 2,
   "metadata": {},
   "outputs": [],
   "source": [
    "import polars as pl\n",
    "import pandas as pd\n",
    "\n",
    "import matplotlib.pyplot as plt\n",
    "import seaborn as sns\n",
    "\n",
    "sns.set_style()\n",
    "plt.rcParams[\"figure.figsize\"] = (12, 6)\n",
    "\n",
    "HOSPITAL_A_ANALIZAR = 112103  # Este es el Torax"
   ]
  },
  {
   "cell_type": "code",
   "execution_count": 3,
   "metadata": {},
   "outputs": [],
   "source": [
    "cie_9 = pl.read_excel(\n",
    "    \"../data/external/Esquema_Registro-2023.xlsx\",\n",
    "    sheet_name=\"Anexo 2\",\n",
    "    read_csv_options={\"skip_rows\": 5},\n",
    ")\n",
    "\n",
    "cie_10 = pl.read_excel(\"../data/external/CIE-10 - sin_puntos_y_X.xlsx\")"
   ]
  },
  {
   "cell_type": "markdown",
   "metadata": {},
   "source": [
    "## 1. Análisis Sociodemográfico de Pacientes Atendidos en el Hospital del Tórax\n",
    "\n",
    "En este cuadernillo se quiere ver el perfil sociodemográfico de los pacientes hospitalizados\n",
    "en el Hospital del Tórax. Se utilizará la base de datos pública de egresos hospitalarios DEIS\n",
    "entre 2001 y 2020. Las preguntas que se quieren responder son:\n",
    "\n",
    "- ¿Cómo es la distribución geográfica de los pacientes atendidos en el INT?\n",
    "- ¿Cuál es el rango etario más atendido en el INT?\n",
    "- ¿Cuál es el género más atendido en el INT?\n",
    "- ¿Cuál es la previsión más atendida en el INT?\n",
    "- ¿Cuál es la letra de FONASA más atendida en el INT?"
   ]
  },
  {
   "cell_type": "markdown",
   "metadata": {},
   "source": [
    "Para responder estas preguntas se realizará una agrupación de los datos con todas las variables\n",
    "sociodemográficas de interés para el análisis."
   ]
  },
  {
   "cell_type": "code",
   "execution_count": 4,
   "metadata": {},
   "outputs": [],
   "source": [
    "# Define todas las variables que se quieren saber\n",
    "\n",
    "VARIABLES_SOCIODEMOGRAFICAS_ESTATICAS = [\"ANO_EGRESO\", \"REGION_RESIDENCIA\", \"COMUNA_RESIDENCIA\"]\n",
    "VARIABLES_SOCIODEMOGRAFICAS_DINAMICAS = [\"SEXO\", \"EDAD_CATEGORIA\", \"PREVISION\", \"BENEFICIARIO\"]\n",
    "VARIABLE_A_CONTAR = \"DIAG1\"\n",
    "\n",
    "agrupacion_total = (\n",
    "    VARIABLES_SOCIODEMOGRAFICAS_ESTATICAS\n",
    "    + VARIABLES_SOCIODEMOGRAFICAS_DINAMICAS\n",
    "    + [VARIABLE_A_CONTAR]\n",
    ")"
   ]
  },
  {
   "cell_type": "markdown",
   "metadata": {},
   "source": [
    "Luego, se genera la consulta de la base de datos. Para reducir el coste computacional, se filtra\n",
    "la base de datos únicamente para los datos del INT. Posteriormente, se agrupa la base de datos\n",
    "con las variables sociodemográficas de interés y se cuenta la ocurrencia de cada grupo."
   ]
  },
  {
   "cell_type": "code",
   "execution_count": 5,
   "metadata": {},
   "outputs": [],
   "source": [
    "desglose_sociodemografico = (\n",
    "    pl.scan_csv(\"../data/processed/egresos_procesados.csv\")\n",
    "    .filter(pl.col(\"ESTABLECIMIENTO_SALUD\") == HOSPITAL_A_ANALIZAR)\n",
    "    .group_by(agrupacion_total)\n",
    "    .agg([pl.count(), pl.col(\"INTERV_Q\").sum().alias(\"n_int_q\")])\n",
    "    .collect(streaming=True)\n",
    "    .sort([\"ANO_EGRESO\", \"count\"], descending=True)\n",
    ")"
   ]
  },
  {
   "cell_type": "code",
   "execution_count": 6,
   "metadata": {},
   "outputs": [
    {
     "data": {
      "text/html": [
       "<div><style>\n",
       ".dataframe > thead > tr > th,\n",
       ".dataframe > tbody > tr > td {\n",
       "  text-align: right;\n",
       "  white-space: pre-wrap;\n",
       "}\n",
       "</style>\n",
       "<small>shape: (1, 10)</small><table border=\"1\" class=\"dataframe\"><thead><tr><th>ANO_EGRESO</th><th>REGION_RESIDENCIA</th><th>COMUNA_RESIDENCIA</th><th>SEXO</th><th>EDAD_CATEGORIA</th><th>PREVISION</th><th>BENEFICIARIO</th><th>DIAG1</th><th>count</th><th>n_int_q</th></tr><tr><td>i64</td><td>i64</td><td>i64</td><td>str</td><td>str</td><td>str</td><td>str</td><td>str</td><td>u32</td><td>i64</td></tr></thead><tbody><tr><td>148543932</td><td>843571</td><td>855600363</td><td>null</td><td>null</td><td>null</td><td>null</td><td>null</td><td>96742</td><td>24101</td></tr></tbody></table></div>"
      ],
      "text/plain": [
       "shape: (1, 10)\n",
       "┌────────────┬────────────────┬────────────────┬──────┬───┬──────────────┬───────┬───────┬─────────┐\n",
       "│ ANO_EGRESO ┆ REGION_RESIDEN ┆ COMUNA_RESIDEN ┆ SEXO ┆ … ┆ BENEFICIARIO ┆ DIAG1 ┆ count ┆ n_int_q │\n",
       "│ ---        ┆ CIA            ┆ CIA            ┆ ---  ┆   ┆ ---          ┆ ---   ┆ ---   ┆ ---     │\n",
       "│ i64        ┆ ---            ┆ ---            ┆ str  ┆   ┆ str          ┆ str   ┆ u32   ┆ i64     │\n",
       "│            ┆ i64            ┆ i64            ┆      ┆   ┆              ┆       ┆       ┆         │\n",
       "╞════════════╪════════════════╪════════════════╪══════╪═══╪══════════════╪═══════╪═══════╪═════════╡\n",
       "│ 148543932  ┆ 843571         ┆ 855600363      ┆ null ┆ … ┆ null         ┆ null  ┆ 96742 ┆ 24101   │\n",
       "└────────────┴────────────────┴────────────────┴──────┴───┴──────────────┴───────┴───────┴─────────┘"
      ]
     },
     "metadata": {},
     "output_type": "display_data"
    }
   ],
   "source": [
    "display(desglose_sociodemografico.sum())"
   ]
  },
  {
   "cell_type": "markdown",
   "metadata": {},
   "source": [
    "Los resultados indican que en todo el periodo analizado el INT presentó 96742 Egresos Hospitalarios\n",
    "(columna \"count\") y 24101 Egresos con Procedimientos Quirúrgicos. Esto está en concordancia con el\n",
    "cuadernillo de egresos hospitalarios."
   ]
  },
  {
   "cell_type": "code",
   "execution_count": 7,
   "metadata": {},
   "outputs": [],
   "source": [
    "desglose_sociodemografico_cie = (\n",
    "    desglose_sociodemografico.join(\n",
    "        cie_9, how=\"left\", left_on=\"COMUNA_RESIDENCIA\", right_on=\"Código Comuna\"\n",
    "    )\n",
    "    .with_columns(pl.col([\"PREVISION\", \"Nombre Comuna\"]).str.to_titlecase())\n",
    "    .drop(\"Código Región\")\n",
    ")\n",
    "\n",
    "desglose_sociodemografico_cie = desglose_sociodemografico_cie.join(\n",
    "    cie_10, how=\"left\", left_on=\"DIAG1\", right_on=\"Código\"\n",
    ")\n",
    "\n",
    "desglose_sociodemografico_cie = desglose_sociodemografico_cie.rename(\n",
    "    {\"REGION_RESIDENCIA\": \"codregion\", \"COMUNA_RESIDENCIA\": \"cod_comuna\"}\n",
    ")"
   ]
  },
  {
   "cell_type": "code",
   "execution_count": 8,
   "metadata": {},
   "outputs": [
    {
     "data": {
      "text/html": [
       "<div><style>\n",
       ".dataframe > thead > tr > th,\n",
       ".dataframe > tbody > tr > td {\n",
       "  text-align: right;\n",
       "  white-space: pre-wrap;\n",
       "}\n",
       "</style>\n",
       "<small>shape: (5, 16)</small><table border=\"1\" class=\"dataframe\"><thead><tr><th>ANO_EGRESO</th><th>codregion</th><th>cod_comuna</th><th>SEXO</th><th>EDAD_CATEGORIA</th><th>PREVISION</th><th>BENEFICIARIO</th><th>DIAG1</th><th>count</th><th>n_int_q</th><th>Nombre Comuna</th><th>Nombre Región</th><th>Descripción</th><th>Categoría</th><th>Sección</th><th>Capítulo</th></tr><tr><td>i64</td><td>i64</td><td>i64</td><td>str</td><td>str</td><td>str</td><td>str</td><td>str</td><td>u32</td><td>i64</td><td>str</td><td>str</td><td>str</td><td>str</td><td>str</td><td>str</td></tr></thead><tbody><tr><td>2020</td><td>5</td><td>5701</td><td>&quot;Hombre&quot;</td><td>&quot;(50, 60]&quot;</td><td>&quot;Fonasa&quot;</td><td>&quot;D&quot;</td><td>&quot;Z511&quot;</td><td>8</td><td>0</td><td>&quot;San Felipe&quot;</td><td>&quot;de Valparaíso&quot;</td><td>&quot;Sesión de quim…</td><td>&quot;Z51 OTRA ATENC…</td><td>&quot;Z40-Z54  CONTA…</td><td>&quot;Cap.21  FACTOR…</td></tr><tr><td>2020</td><td>13</td><td>13122</td><td>&quot;Mujer&quot;</td><td>&quot;(60, 70]&quot;</td><td>&quot;Fonasa&quot;</td><td>&quot;B&quot;</td><td>&quot;Z511&quot;</td><td>8</td><td>0</td><td>&quot;Peñalolén&quot;</td><td>&quot;Metropolitana …</td><td>&quot;Sesión de quim…</td><td>&quot;Z51 OTRA ATENC…</td><td>&quot;Z40-Z54  CONTA…</td><td>&quot;Cap.21  FACTOR…</td></tr><tr><td>2020</td><td>7</td><td>7101</td><td>&quot;Mujer&quot;</td><td>&quot;(60, 70]&quot;</td><td>&quot;Fonasa&quot;</td><td>&quot;B&quot;</td><td>&quot;Z511&quot;</td><td>8</td><td>0</td><td>&quot;Talca&quot;</td><td>&quot;del Maule&quot;</td><td>&quot;Sesión de quim…</td><td>&quot;Z51 OTRA ATENC…</td><td>&quot;Z40-Z54  CONTA…</td><td>&quot;Cap.21  FACTOR…</td></tr><tr><td>2020</td><td>3</td><td>3101</td><td>&quot;Mujer&quot;</td><td>&quot;(60, 70]&quot;</td><td>&quot;Fonasa&quot;</td><td>&quot;B&quot;</td><td>&quot;D381&quot;</td><td>6</td><td>0</td><td>&quot;Copiapo&quot;</td><td>&quot;de Atacama&quot;</td><td>&quot;Tumor de compo…</td><td>&quot;D38 TUMOR DE C…</td><td>&quot;D37-D48  NEOPL…</td><td>&quot;Cap.02  NEOPLA…</td></tr><tr><td>2020</td><td>13</td><td>13106</td><td>&quot;Mujer&quot;</td><td>&quot;(50, 60]&quot;</td><td>&quot;Fonasa&quot;</td><td>&quot;B&quot;</td><td>&quot;Z291&quot;</td><td>6</td><td>0</td><td>&quot;Estación Centr…</td><td>&quot;Metropolitana …</td><td>&quot;Inmunoterapia …</td><td>&quot;Z29 NECESIDAD …</td><td>&quot;Z20-Z29  PERSO…</td><td>&quot;Cap.21  FACTOR…</td></tr></tbody></table></div>"
      ],
      "text/plain": [
       "shape: (5, 16)\n",
       "┌────────────┬───────────┬────────────┬────────┬───┬───────────┬───────────┬───────────┬───────────┐\n",
       "│ ANO_EGRESO ┆ codregion ┆ cod_comuna ┆ SEXO   ┆ … ┆ Descripci ┆ Categoría ┆ Sección   ┆ Capítulo  │\n",
       "│ ---        ┆ ---       ┆ ---        ┆ ---    ┆   ┆ ón        ┆ ---       ┆ ---       ┆ ---       │\n",
       "│ i64        ┆ i64       ┆ i64        ┆ str    ┆   ┆ ---       ┆ str       ┆ str       ┆ str       │\n",
       "│            ┆           ┆            ┆        ┆   ┆ str       ┆           ┆           ┆           │\n",
       "╞════════════╪═══════════╪════════════╪════════╪═══╪═══════════╪═══════════╪═══════════╪═══════════╡\n",
       "│ 2020       ┆ 5         ┆ 5701       ┆ Hombre ┆ … ┆ Sesión de ┆ Z51 OTRA  ┆ Z40-Z54   ┆ Cap.21    │\n",
       "│            ┆           ┆            ┆        ┆   ┆ quimioter ┆ ATENCIÓN  ┆ CONTACTOS ┆ FACTORES  │\n",
       "│            ┆           ┆            ┆        ┆   ┆ apia por  ┆ MÉDICA    ┆ PARA OTRA ┆ QUE       │\n",
       "│            ┆           ┆            ┆        ┆   ┆ tumo…     ┆           ┆ ATE…      ┆ INFLUYEN  │\n",
       "│            ┆           ┆            ┆        ┆   ┆           ┆           ┆           ┆ EN…       │\n",
       "│ 2020       ┆ 13        ┆ 13122      ┆ Mujer  ┆ … ┆ Sesión de ┆ Z51 OTRA  ┆ Z40-Z54   ┆ Cap.21    │\n",
       "│            ┆           ┆            ┆        ┆   ┆ quimioter ┆ ATENCIÓN  ┆ CONTACTOS ┆ FACTORES  │\n",
       "│            ┆           ┆            ┆        ┆   ┆ apia por  ┆ MÉDICA    ┆ PARA OTRA ┆ QUE       │\n",
       "│            ┆           ┆            ┆        ┆   ┆ tumo…     ┆           ┆ ATE…      ┆ INFLUYEN  │\n",
       "│            ┆           ┆            ┆        ┆   ┆           ┆           ┆           ┆ EN…       │\n",
       "│ 2020       ┆ 7         ┆ 7101       ┆ Mujer  ┆ … ┆ Sesión de ┆ Z51 OTRA  ┆ Z40-Z54   ┆ Cap.21    │\n",
       "│            ┆           ┆            ┆        ┆   ┆ quimioter ┆ ATENCIÓN  ┆ CONTACTOS ┆ FACTORES  │\n",
       "│            ┆           ┆            ┆        ┆   ┆ apia por  ┆ MÉDICA    ┆ PARA OTRA ┆ QUE       │\n",
       "│            ┆           ┆            ┆        ┆   ┆ tumo…     ┆           ┆ ATE…      ┆ INFLUYEN  │\n",
       "│            ┆           ┆            ┆        ┆   ┆           ┆           ┆           ┆ EN…       │\n",
       "│ 2020       ┆ 3         ┆ 3101       ┆ Mujer  ┆ … ┆ Tumor de  ┆ D38 TUMOR ┆ D37-D48   ┆ Cap.02    │\n",
       "│            ┆           ┆            ┆        ┆   ┆ comportam ┆ DE COMPOR ┆ NEOPLASIA ┆ NEOPLASIA │\n",
       "│            ┆           ┆            ┆        ┆   ┆ iento     ┆ TAMIENTO  ┆ S DE COMP ┆ S         │\n",
       "│            ┆           ┆            ┆        ┆   ┆ incierto… ┆ INCI…     ┆ ORTAM…    ┆ (C00-D49) │\n",
       "│ 2020       ┆ 13        ┆ 13106      ┆ Mujer  ┆ … ┆ Inmunoter ┆ Z29       ┆ Z20-Z29   ┆ Cap.21    │\n",
       "│            ┆           ┆            ┆        ┆   ┆ apia prof ┆ NECESIDAD ┆ PERSONAS  ┆ FACTORES  │\n",
       "│            ┆           ┆            ┆        ┆   ┆ iláctica  ┆ DE OTRAS  ┆ CON       ┆ QUE       │\n",
       "│            ┆           ┆            ┆        ┆   ┆           ┆ MEDIDAS   ┆ RIESGOS   ┆ INFLUYEN  │\n",
       "│            ┆           ┆            ┆        ┆   ┆           ┆ P…        ┆ PO…       ┆ EN…       │\n",
       "└────────────┴───────────┴────────────┴────────┴───┴───────────┴───────────┴───────────┴───────────┘"
      ]
     },
     "metadata": {},
     "output_type": "display_data"
    }
   ],
   "source": [
    "display(desglose_sociodemografico_cie.head())"
   ]
  },
  {
   "cell_type": "markdown",
   "metadata": {},
   "source": [
    "En los resultados se indica el perfil sociodemográfico para cada combinación de variable presente\n",
    "en la base de datos. A modo de ejemplo, hubo 8 egresos en el 2020 de una paciente de la Región\n",
    "número 13 y Comuna 13122 que tenía entre 60 a 70 años que tenía PREVISION FONASA Letra B diagnosticada\n",
    "con el diagnóstico Z511.\n",
    "\n",
    "Uno de los diagnósticos de interés para el Instituto es el de código \"C341\"."
   ]
  },
  {
   "cell_type": "code",
   "execution_count": 9,
   "metadata": {},
   "outputs": [
    {
     "data": {
      "text/html": [
       "<div><style>\n",
       ".dataframe > thead > tr > th,\n",
       ".dataframe > tbody > tr > td {\n",
       "  text-align: right;\n",
       "  white-space: pre-wrap;\n",
       "}\n",
       "</style>\n",
       "<small>shape: (1_247, 16)</small><table border=\"1\" class=\"dataframe\"><thead><tr><th>ANO_EGRESO</th><th>codregion</th><th>cod_comuna</th><th>SEXO</th><th>EDAD_CATEGORIA</th><th>PREVISION</th><th>BENEFICIARIO</th><th>DIAG1</th><th>count</th><th>n_int_q</th><th>Nombre Comuna</th><th>Nombre Región</th><th>Descripción</th><th>Categoría</th><th>Sección</th><th>Capítulo</th></tr><tr><td>i64</td><td>i64</td><td>i64</td><td>str</td><td>str</td><td>str</td><td>str</td><td>str</td><td>u32</td><td>i64</td><td>str</td><td>str</td><td>str</td><td>str</td><td>str</td><td>str</td></tr></thead><tbody><tr><td>2020</td><td>13</td><td>13122</td><td>&quot;Hombre&quot;</td><td>&quot;(70, 80]&quot;</td><td>&quot;Fonasa&quot;</td><td>&quot;B&quot;</td><td>&quot;C341&quot;</td><td>3</td><td>0</td><td>&quot;Peñalolén&quot;</td><td>&quot;Metropolitana …</td><td>&quot;Tumor maligno …</td><td>&quot;C34 TUMOR MALI…</td><td>&quot;C30-C39  NEOPL…</td><td>&quot;Cap.02  NEOPLA…</td></tr><tr><td>2020</td><td>13</td><td>13120</td><td>&quot;Mujer&quot;</td><td>&quot;(70, 80]&quot;</td><td>&quot;Desconocido&quot;</td><td>null</td><td>&quot;C341&quot;</td><td>3</td><td>3</td><td>&quot;Ñuñoa&quot;</td><td>&quot;Metropolitana …</td><td>&quot;Tumor maligno …</td><td>&quot;C34 TUMOR MALI…</td><td>&quot;C30-C39  NEOPL…</td><td>&quot;Cap.02  NEOPLA…</td></tr><tr><td>2020</td><td>13</td><td>13120</td><td>&quot;Mujer&quot;</td><td>&quot;(60, 70]&quot;</td><td>&quot;Fonasa&quot;</td><td>&quot;B&quot;</td><td>&quot;C341&quot;</td><td>2</td><td>1</td><td>&quot;Ñuñoa&quot;</td><td>&quot;Metropolitana …</td><td>&quot;Tumor maligno …</td><td>&quot;C34 TUMOR MALI…</td><td>&quot;C30-C39  NEOPL…</td><td>&quot;Cap.02  NEOPLA…</td></tr><tr><td>2020</td><td>5</td><td>5705</td><td>&quot;Mujer&quot;</td><td>&quot;(50, 60]&quot;</td><td>&quot;Fonasa&quot;</td><td>&quot;B&quot;</td><td>&quot;C341&quot;</td><td>2</td><td>0</td><td>&quot;Putaendo&quot;</td><td>&quot;de Valparaíso&quot;</td><td>&quot;Tumor maligno …</td><td>&quot;C34 TUMOR MALI…</td><td>&quot;C30-C39  NEOPL…</td><td>&quot;Cap.02  NEOPLA…</td></tr><tr><td>2020</td><td>13</td><td>13122</td><td>&quot;Mujer&quot;</td><td>&quot;(60, 70]&quot;</td><td>&quot;Fonasa&quot;</td><td>&quot;B&quot;</td><td>&quot;C341&quot;</td><td>2</td><td>2</td><td>&quot;Peñalolén&quot;</td><td>&quot;Metropolitana …</td><td>&quot;Tumor maligno …</td><td>&quot;C34 TUMOR MALI…</td><td>&quot;C30-C39  NEOPL…</td><td>&quot;Cap.02  NEOPLA…</td></tr><tr><td>2020</td><td>13</td><td>13123</td><td>&quot;Mujer&quot;</td><td>&quot;(60, 70]&quot;</td><td>&quot;Fonasa&quot;</td><td>&quot;B&quot;</td><td>&quot;C341&quot;</td><td>2</td><td>1</td><td>&quot;Providencia&quot;</td><td>&quot;Metropolitana …</td><td>&quot;Tumor maligno …</td><td>&quot;C34 TUMOR MALI…</td><td>&quot;C30-C39  NEOPL…</td><td>&quot;Cap.02  NEOPLA…</td></tr><tr><td>2020</td><td>13</td><td>13101</td><td>&quot;Mujer&quot;</td><td>&quot;(70, 80]&quot;</td><td>&quot;Fonasa&quot;</td><td>&quot;B&quot;</td><td>&quot;C341&quot;</td><td>2</td><td>0</td><td>&quot;Santiago&quot;</td><td>&quot;Metropolitana …</td><td>&quot;Tumor maligno …</td><td>&quot;C34 TUMOR MALI…</td><td>&quot;C30-C39  NEOPL…</td><td>&quot;Cap.02  NEOPLA…</td></tr><tr><td>2020</td><td>11</td><td>11101</td><td>&quot;Mujer&quot;</td><td>&quot;(60, 70]&quot;</td><td>&quot;Fonasa&quot;</td><td>&quot;B&quot;</td><td>&quot;C341&quot;</td><td>2</td><td>0</td><td>&quot;Coihaique&quot;</td><td>&quot;de Aisén del G…</td><td>&quot;Tumor maligno …</td><td>&quot;C34 TUMOR MALI…</td><td>&quot;C30-C39  NEOPL…</td><td>&quot;Cap.02  NEOPLA…</td></tr><tr><td>2020</td><td>13</td><td>13120</td><td>&quot;Hombre&quot;</td><td>&quot;(60, 70]&quot;</td><td>&quot;Desconocido&quot;</td><td>null</td><td>&quot;C341&quot;</td><td>2</td><td>0</td><td>&quot;Ñuñoa&quot;</td><td>&quot;Metropolitana …</td><td>&quot;Tumor maligno …</td><td>&quot;C34 TUMOR MALI…</td><td>&quot;C30-C39  NEOPL…</td><td>&quot;Cap.02  NEOPLA…</td></tr><tr><td>2020</td><td>13</td><td>13106</td><td>&quot;Mujer&quot;</td><td>&quot;(70, 80]&quot;</td><td>&quot;Fonasa&quot;</td><td>&quot;A&quot;</td><td>&quot;C341&quot;</td><td>1</td><td>0</td><td>&quot;Estación Centr…</td><td>&quot;Metropolitana …</td><td>&quot;Tumor maligno …</td><td>&quot;C34 TUMOR MALI…</td><td>&quot;C30-C39  NEOPL…</td><td>&quot;Cap.02  NEOPLA…</td></tr><tr><td>2020</td><td>13</td><td>13120</td><td>&quot;Mujer&quot;</td><td>&quot;(50, 60]&quot;</td><td>&quot;Desconocido&quot;</td><td>null</td><td>&quot;C341&quot;</td><td>1</td><td>0</td><td>&quot;Ñuñoa&quot;</td><td>&quot;Metropolitana …</td><td>&quot;Tumor maligno …</td><td>&quot;C34 TUMOR MALI…</td><td>&quot;C30-C39  NEOPL…</td><td>&quot;Cap.02  NEOPLA…</td></tr><tr><td>2020</td><td>13</td><td>13120</td><td>&quot;Hombre&quot;</td><td>&quot;(60, 70]&quot;</td><td>&quot;Fonasa&quot;</td><td>&quot;C&quot;</td><td>&quot;C341&quot;</td><td>1</td><td>1</td><td>&quot;Ñuñoa&quot;</td><td>&quot;Metropolitana …</td><td>&quot;Tumor maligno …</td><td>&quot;C34 TUMOR MALI…</td><td>&quot;C30-C39  NEOPL…</td><td>&quot;Cap.02  NEOPLA…</td></tr><tr><td>&hellip;</td><td>&hellip;</td><td>&hellip;</td><td>&hellip;</td><td>&hellip;</td><td>&hellip;</td><td>&hellip;</td><td>&hellip;</td><td>&hellip;</td><td>&hellip;</td><td>&hellip;</td><td>&hellip;</td><td>&hellip;</td><td>&hellip;</td><td>&hellip;</td><td>&hellip;</td></tr><tr><td>2006</td><td>12</td><td>12101</td><td>&quot;Mujer&quot;</td><td>&quot;(50, 60]&quot;</td><td>&quot;Fonasa&quot;</td><td>&quot;A&quot;</td><td>&quot;C341&quot;</td><td>1</td><td>1</td><td>&quot;Punta Arenas&quot;</td><td>&quot;de Magallanes …</td><td>&quot;Tumor maligno …</td><td>&quot;C34 TUMOR MALI…</td><td>&quot;C30-C39  NEOPL…</td><td>&quot;Cap.02  NEOPLA…</td></tr><tr><td>2005</td><td>13</td><td>13122</td><td>&quot;Hombre&quot;</td><td>&quot;(60, 70]&quot;</td><td>&quot;Fonasa&quot;</td><td>&quot;B&quot;</td><td>&quot;C341&quot;</td><td>1</td><td>0</td><td>&quot;Peñalolén&quot;</td><td>&quot;Metropolitana …</td><td>&quot;Tumor maligno …</td><td>&quot;C34 TUMOR MALI…</td><td>&quot;C30-C39  NEOPL…</td><td>&quot;Cap.02  NEOPLA…</td></tr><tr><td>2005</td><td>13</td><td>13119</td><td>&quot;Hombre&quot;</td><td>&quot;(60, 70]&quot;</td><td>&quot;Fonasa&quot;</td><td>&quot;C&quot;</td><td>&quot;C341&quot;</td><td>1</td><td>0</td><td>&quot;Maipu&quot;</td><td>&quot;Metropolitana …</td><td>&quot;Tumor maligno …</td><td>&quot;C34 TUMOR MALI…</td><td>&quot;C30-C39  NEOPL…</td><td>&quot;Cap.02  NEOPLA…</td></tr><tr><td>2003</td><td>6</td><td>6101</td><td>&quot;Hombre&quot;</td><td>&quot;(50, 60]&quot;</td><td>&quot;Fonasa&quot;</td><td>&quot;A&quot;</td><td>&quot;C341&quot;</td><td>1</td><td>0</td><td>&quot;Rancagua&quot;</td><td>&quot;del Libertador…</td><td>&quot;Tumor maligno …</td><td>&quot;C34 TUMOR MALI…</td><td>&quot;C30-C39  NEOPL…</td><td>&quot;Cap.02  NEOPLA…</td></tr><tr><td>2003</td><td>13</td><td>13110</td><td>&quot;Mujer&quot;</td><td>&quot;(50, 60]&quot;</td><td>&quot;Fonasa&quot;</td><td>&quot;B&quot;</td><td>&quot;C341&quot;</td><td>1</td><td>1</td><td>&quot;La Florida&quot;</td><td>&quot;Metropolitana …</td><td>&quot;Tumor maligno …</td><td>&quot;C34 TUMOR MALI…</td><td>&quot;C30-C39  NEOPL…</td><td>&quot;Cap.02  NEOPLA…</td></tr><tr><td>2001</td><td>13</td><td>13101</td><td>&quot;Hombre&quot;</td><td>&quot;(50, 60]&quot;</td><td>&quot;Fonasa&quot;</td><td>&quot;A&quot;</td><td>&quot;C341&quot;</td><td>1</td><td>0</td><td>&quot;Santiago&quot;</td><td>&quot;Metropolitana …</td><td>&quot;Tumor maligno …</td><td>&quot;C34 TUMOR MALI…</td><td>&quot;C30-C39  NEOPL…</td><td>&quot;Cap.02  NEOPLA…</td></tr><tr><td>2001</td><td>3</td><td>3102</td><td>&quot;Hombre&quot;</td><td>&quot;(50, 60]&quot;</td><td>&quot;Fonasa&quot;</td><td>&quot;A&quot;</td><td>&quot;C341&quot;</td><td>1</td><td>0</td><td>&quot;Caldera&quot;</td><td>&quot;de Atacama&quot;</td><td>&quot;Tumor maligno …</td><td>&quot;C34 TUMOR MALI…</td><td>&quot;C30-C39  NEOPL…</td><td>&quot;Cap.02  NEOPLA…</td></tr><tr><td>2001</td><td>3</td><td>3101</td><td>&quot;Hombre&quot;</td><td>&quot;(60, 70]&quot;</td><td>&quot;Fonasa&quot;</td><td>&quot;C&quot;</td><td>&quot;C341&quot;</td><td>1</td><td>0</td><td>&quot;Copiapo&quot;</td><td>&quot;de Atacama&quot;</td><td>&quot;Tumor maligno …</td><td>&quot;C34 TUMOR MALI…</td><td>&quot;C30-C39  NEOPL…</td><td>&quot;Cap.02  NEOPLA…</td></tr><tr><td>2001</td><td>8</td><td>8101</td><td>&quot;Hombre&quot;</td><td>&quot;(60, 70]&quot;</td><td>&quot;Desconocido&quot;</td><td>null</td><td>&quot;C341&quot;</td><td>1</td><td>0</td><td>&quot;Concepción&quot;</td><td>&quot;del Biobío&quot;</td><td>&quot;Tumor maligno …</td><td>&quot;C34 TUMOR MALI…</td><td>&quot;C30-C39  NEOPL…</td><td>&quot;Cap.02  NEOPLA…</td></tr><tr><td>2001</td><td>13</td><td>13106</td><td>&quot;Mujer&quot;</td><td>&quot;(60, 70]&quot;</td><td>&quot;Fonasa&quot;</td><td>&quot;B&quot;</td><td>&quot;C341&quot;</td><td>1</td><td>0</td><td>&quot;Estación Centr…</td><td>&quot;Metropolitana …</td><td>&quot;Tumor maligno …</td><td>&quot;C34 TUMOR MALI…</td><td>&quot;C30-C39  NEOPL…</td><td>&quot;Cap.02  NEOPLA…</td></tr><tr><td>2001</td><td>13</td><td>13113</td><td>&quot;Mujer&quot;</td><td>&quot;(60, 70]&quot;</td><td>&quot;Fonasa&quot;</td><td>&quot;B&quot;</td><td>&quot;C341&quot;</td><td>1</td><td>0</td><td>&quot;La Reina&quot;</td><td>&quot;Metropolitana …</td><td>&quot;Tumor maligno …</td><td>&quot;C34 TUMOR MALI…</td><td>&quot;C30-C39  NEOPL…</td><td>&quot;Cap.02  NEOPLA…</td></tr><tr><td>2001</td><td>13</td><td>13128</td><td>&quot;Mujer&quot;</td><td>&quot;(60, 70]&quot;</td><td>&quot;Fonasa&quot;</td><td>&quot;B&quot;</td><td>&quot;C341&quot;</td><td>1</td><td>1</td><td>&quot;Renca&quot;</td><td>&quot;Metropolitana …</td><td>&quot;Tumor maligno …</td><td>&quot;C34 TUMOR MALI…</td><td>&quot;C30-C39  NEOPL…</td><td>&quot;Cap.02  NEOPLA…</td></tr></tbody></table></div>"
      ],
      "text/plain": [
       "shape: (1_247, 16)\n",
       "┌────────────┬───────────┬────────────┬────────┬───┬───────────┬───────────┬───────────┬───────────┐\n",
       "│ ANO_EGRESO ┆ codregion ┆ cod_comuna ┆ SEXO   ┆ … ┆ Descripci ┆ Categoría ┆ Sección   ┆ Capítulo  │\n",
       "│ ---        ┆ ---       ┆ ---        ┆ ---    ┆   ┆ ón        ┆ ---       ┆ ---       ┆ ---       │\n",
       "│ i64        ┆ i64       ┆ i64        ┆ str    ┆   ┆ ---       ┆ str       ┆ str       ┆ str       │\n",
       "│            ┆           ┆            ┆        ┆   ┆ str       ┆           ┆           ┆           │\n",
       "╞════════════╪═══════════╪════════════╪════════╪═══╪═══════════╪═══════════╪═══════════╪═══════════╡\n",
       "│ 2020       ┆ 13        ┆ 13122      ┆ Hombre ┆ … ┆ Tumor     ┆ C34 TUMOR ┆ C30-C39   ┆ Cap.02    │\n",
       "│            ┆           ┆            ┆        ┆   ┆ maligno   ┆ MALIGNO   ┆ NEOPLASIA ┆ NEOPLASIA │\n",
       "│            ┆           ┆            ┆        ┆   ┆ del       ┆ DE LOS    ┆ S         ┆ S         │\n",
       "│            ┆           ┆            ┆        ┆   ┆ lóbulo    ┆ BRONQUI…  ┆ MALIGNAS  ┆ (C00-D49) │\n",
       "│            ┆           ┆            ┆        ┆   ┆ superio…  ┆           ┆ DE …      ┆           │\n",
       "│ 2020       ┆ 13        ┆ 13120      ┆ Mujer  ┆ … ┆ Tumor     ┆ C34 TUMOR ┆ C30-C39   ┆ Cap.02    │\n",
       "│            ┆           ┆            ┆        ┆   ┆ maligno   ┆ MALIGNO   ┆ NEOPLASIA ┆ NEOPLASIA │\n",
       "│            ┆           ┆            ┆        ┆   ┆ del       ┆ DE LOS    ┆ S         ┆ S         │\n",
       "│            ┆           ┆            ┆        ┆   ┆ lóbulo    ┆ BRONQUI…  ┆ MALIGNAS  ┆ (C00-D49) │\n",
       "│            ┆           ┆            ┆        ┆   ┆ superio…  ┆           ┆ DE …      ┆           │\n",
       "│ 2020       ┆ 13        ┆ 13120      ┆ Mujer  ┆ … ┆ Tumor     ┆ C34 TUMOR ┆ C30-C39   ┆ Cap.02    │\n",
       "│            ┆           ┆            ┆        ┆   ┆ maligno   ┆ MALIGNO   ┆ NEOPLASIA ┆ NEOPLASIA │\n",
       "│            ┆           ┆            ┆        ┆   ┆ del       ┆ DE LOS    ┆ S         ┆ S         │\n",
       "│            ┆           ┆            ┆        ┆   ┆ lóbulo    ┆ BRONQUI…  ┆ MALIGNAS  ┆ (C00-D49) │\n",
       "│            ┆           ┆            ┆        ┆   ┆ superio…  ┆           ┆ DE …      ┆           │\n",
       "│ 2020       ┆ 5         ┆ 5705       ┆ Mujer  ┆ … ┆ Tumor     ┆ C34 TUMOR ┆ C30-C39   ┆ Cap.02    │\n",
       "│            ┆           ┆            ┆        ┆   ┆ maligno   ┆ MALIGNO   ┆ NEOPLASIA ┆ NEOPLASIA │\n",
       "│            ┆           ┆            ┆        ┆   ┆ del       ┆ DE LOS    ┆ S         ┆ S         │\n",
       "│            ┆           ┆            ┆        ┆   ┆ lóbulo    ┆ BRONQUI…  ┆ MALIGNAS  ┆ (C00-D49) │\n",
       "│            ┆           ┆            ┆        ┆   ┆ superio…  ┆           ┆ DE …      ┆           │\n",
       "│ …          ┆ …         ┆ …          ┆ …      ┆ … ┆ …         ┆ …         ┆ …         ┆ …         │\n",
       "│ 2001       ┆ 8         ┆ 8101       ┆ Hombre ┆ … ┆ Tumor     ┆ C34 TUMOR ┆ C30-C39   ┆ Cap.02    │\n",
       "│            ┆           ┆            ┆        ┆   ┆ maligno   ┆ MALIGNO   ┆ NEOPLASIA ┆ NEOPLASIA │\n",
       "│            ┆           ┆            ┆        ┆   ┆ del       ┆ DE LOS    ┆ S         ┆ S         │\n",
       "│            ┆           ┆            ┆        ┆   ┆ lóbulo    ┆ BRONQUI…  ┆ MALIGNAS  ┆ (C00-D49) │\n",
       "│            ┆           ┆            ┆        ┆   ┆ superio…  ┆           ┆ DE …      ┆           │\n",
       "│ 2001       ┆ 13        ┆ 13106      ┆ Mujer  ┆ … ┆ Tumor     ┆ C34 TUMOR ┆ C30-C39   ┆ Cap.02    │\n",
       "│            ┆           ┆            ┆        ┆   ┆ maligno   ┆ MALIGNO   ┆ NEOPLASIA ┆ NEOPLASIA │\n",
       "│            ┆           ┆            ┆        ┆   ┆ del       ┆ DE LOS    ┆ S         ┆ S         │\n",
       "│            ┆           ┆            ┆        ┆   ┆ lóbulo    ┆ BRONQUI…  ┆ MALIGNAS  ┆ (C00-D49) │\n",
       "│            ┆           ┆            ┆        ┆   ┆ superio…  ┆           ┆ DE …      ┆           │\n",
       "│ 2001       ┆ 13        ┆ 13113      ┆ Mujer  ┆ … ┆ Tumor     ┆ C34 TUMOR ┆ C30-C39   ┆ Cap.02    │\n",
       "│            ┆           ┆            ┆        ┆   ┆ maligno   ┆ MALIGNO   ┆ NEOPLASIA ┆ NEOPLASIA │\n",
       "│            ┆           ┆            ┆        ┆   ┆ del       ┆ DE LOS    ┆ S         ┆ S         │\n",
       "│            ┆           ┆            ┆        ┆   ┆ lóbulo    ┆ BRONQUI…  ┆ MALIGNAS  ┆ (C00-D49) │\n",
       "│            ┆           ┆            ┆        ┆   ┆ superio…  ┆           ┆ DE …      ┆           │\n",
       "│ 2001       ┆ 13        ┆ 13128      ┆ Mujer  ┆ … ┆ Tumor     ┆ C34 TUMOR ┆ C30-C39   ┆ Cap.02    │\n",
       "│            ┆           ┆            ┆        ┆   ┆ maligno   ┆ MALIGNO   ┆ NEOPLASIA ┆ NEOPLASIA │\n",
       "│            ┆           ┆            ┆        ┆   ┆ del       ┆ DE LOS    ┆ S         ┆ S         │\n",
       "│            ┆           ┆            ┆        ┆   ┆ lóbulo    ┆ BRONQUI…  ┆ MALIGNAS  ┆ (C00-D49) │\n",
       "│            ┆           ┆            ┆        ┆   ┆ superio…  ┆           ┆ DE …      ┆           │\n",
       "└────────────┴───────────┴────────────┴────────┴───┴───────────┴───────────┴───────────┴───────────┘"
      ]
     },
     "metadata": {},
     "output_type": "display_data"
    },
    {
     "name": "stdout",
     "output_type": "stream",
     "text": [
      "shape: (1, 1)\n",
      "┌───────┐\n",
      "│ count │\n",
      "│ ---   │\n",
      "│ u32   │\n",
      "╞═══════╡\n",
      "│ 1709  │\n",
      "└───────┘\n"
     ]
    }
   ],
   "source": [
    "display(desglose_sociodemografico_cie.filter(pl.col(\"DIAG1\") == \"C341\"))\n",
    "print(desglose_sociodemografico_cie.filter(pl.col(\"DIAG1\") == \"C341\").select(pl.col(\"count\").sum()))"
   ]
  },
  {
   "cell_type": "markdown",
   "metadata": {},
   "source": [
    "Por lo tanto, se muestra cada desglose sociodemográfico de los pacientes atendidos. Además,\n",
    "se indica que la suma de cada conteo de grupo suma 1709 entre 2001 y 2020. Esto está en concordancia\n",
    "con los egresos totales (1709) para el diagnóstico mencionado en el periodo mencionado."
   ]
  },
  {
   "cell_type": "code",
   "execution_count": 10,
   "metadata": {},
   "outputs": [
    {
     "data": {
      "text/html": [
       "<div><style>\n",
       ".dataframe > thead > tr > th,\n",
       ".dataframe > tbody > tr > td {\n",
       "  text-align: right;\n",
       "  white-space: pre-wrap;\n",
       "}\n",
       "</style>\n",
       "<small>shape: (1, 16)</small><table border=\"1\" class=\"dataframe\"><thead><tr><th>ANO_EGRESO</th><th>codregion</th><th>cod_comuna</th><th>SEXO</th><th>EDAD_CATEGORIA</th><th>PREVISION</th><th>BENEFICIARIO</th><th>DIAG1</th><th>count</th><th>n_int_q</th><th>Nombre Comuna</th><th>Nombre Región</th><th>Descripción</th><th>Categoría</th><th>Sección</th><th>Capítulo</th></tr><tr><td>u32</td><td>u32</td><td>u32</td><td>u32</td><td>u32</td><td>u32</td><td>u32</td><td>u32</td><td>u32</td><td>u32</td><td>u32</td><td>u32</td><td>u32</td><td>u32</td><td>u32</td><td>u32</td></tr></thead><tbody><tr><td>0</td><td>0</td><td>0</td><td>0</td><td>0</td><td>0</td><td>3766</td><td>0</td><td>0</td><td>0</td><td>0</td><td>0</td><td>5</td><td>5</td><td>5</td><td>5</td></tr></tbody></table></div>"
      ],
      "text/plain": [
       "shape: (1, 16)\n",
       "┌────────────┬───────────┬────────────┬──────┬───┬─────────────┬───────────┬─────────┬──────────┐\n",
       "│ ANO_EGRESO ┆ codregion ┆ cod_comuna ┆ SEXO ┆ … ┆ Descripción ┆ Categoría ┆ Sección ┆ Capítulo │\n",
       "│ ---        ┆ ---       ┆ ---        ┆ ---  ┆   ┆ ---         ┆ ---       ┆ ---     ┆ ---      │\n",
       "│ u32        ┆ u32       ┆ u32        ┆ u32  ┆   ┆ u32         ┆ u32       ┆ u32     ┆ u32      │\n",
       "╞════════════╪═══════════╪════════════╪══════╪═══╪═════════════╪═══════════╪═════════╪══════════╡\n",
       "│ 0          ┆ 0         ┆ 0          ┆ 0    ┆ … ┆ 5           ┆ 5         ┆ 5       ┆ 5        │\n",
       "└────────────┴───────────┴────────────┴──────┴───┴─────────────┴───────────┴─────────┴──────────┘"
      ]
     },
     "metadata": {},
     "output_type": "display_data"
    }
   ],
   "source": [
    "display(desglose_sociodemografico_cie.null_count())"
   ]
  },
  {
   "cell_type": "markdown",
   "metadata": {},
   "source": [
    "Se muestra que la unión con los diccionarios CIE se realizó correctamente. Solamente 5 registros\n",
    "carecen de una información CIE sobre el diagnóstico. Por otro lado, todos los registros tienen\n",
    "información sobre la comuna y región."
   ]
  },
  {
   "cell_type": "code",
   "execution_count": 11,
   "metadata": {},
   "outputs": [],
   "source": [
    "desglose_sociodemografico_cie.write_csv(\n",
    "    \"../data/interim/sociodemografico/desglose_sociodemografico.csv\",\n",
    "    separator=\";\",\n",
    ")"
   ]
  },
  {
   "cell_type": "markdown",
   "metadata": {},
   "source": [
    "## Obtención de desglose sociodemográfico para Fibrosis Quística\n",
    "\n",
    "En el proyecto EPH del INT se tiene alto interés sobre los egresos hospitalarios de Fibrosis Quística."
   ]
  },
  {
   "cell_type": "code",
   "execution_count": 12,
   "metadata": {},
   "outputs": [
    {
     "name": "stdout",
     "output_type": "stream",
     "text": [
      "Los codigos para la fibrosis quistica son: shape: (3, 1)\n",
      "┌───────┐\n",
      "│ DIAG1 │\n",
      "│ ---   │\n",
      "│ str   │\n",
      "╞═══════╡\n",
      "│ E848  │\n",
      "│ E840  │\n",
      "│ E849  │\n",
      "└───────┘ - shape: (3, 1)\n",
      "┌───────────────────────────────────┐\n",
      "│ Descripción                       │\n",
      "│ ---                               │\n",
      "│ str                               │\n",
      "╞═══════════════════════════════════╡\n",
      "│ Fibrosis quística con manifestac… │\n",
      "│ Fibrosis quística con otras mani… │\n",
      "│ Fibrosis quística, sin otra espe… │\n",
      "└───────────────────────────────────┘\n"
     ]
    }
   ],
   "source": [
    "# Obtiene solo los diagnosticos que tengan 'fibrosis qu'\n",
    "resumen_fibrosis = desglose_sociodemografico_cie.filter(\n",
    "    pl.col(\"Descripción\").str.to_lowercase().str.contains(\"fibrosis qu\")\n",
    ")\n",
    "\n",
    "# Obtiene los codigos de fibrosis quistica\n",
    "codigos_fibrosis = resumen_fibrosis.select(pl.col(\"DIAG1\").unique())\n",
    "nombre_fibrosis = resumen_fibrosis.select(pl.col(\"Descripción\").unique())\n",
    "\n",
    "print(f\"Los codigos para la fibrosis quistica son: {codigos_fibrosis} - {nombre_fibrosis}\")"
   ]
  },
  {
   "cell_type": "code",
   "execution_count": 13,
   "metadata": {},
   "outputs": [
    {
     "data": {
      "text/html": [
       "<div>\n",
       "<style scoped>\n",
       "    .dataframe tbody tr th:only-of-type {\n",
       "        vertical-align: middle;\n",
       "    }\n",
       "\n",
       "    .dataframe tbody tr th {\n",
       "        vertical-align: top;\n",
       "    }\n",
       "\n",
       "    .dataframe thead th {\n",
       "        text-align: right;\n",
       "    }\n",
       "</style>\n",
       "<table border=\"1\" class=\"dataframe\">\n",
       "  <thead>\n",
       "    <tr style=\"text-align: right;\">\n",
       "      <th>ANO_EGRESO</th>\n",
       "      <th>2018</th>\n",
       "      <th>2019</th>\n",
       "      <th>2020</th>\n",
       "      <th>All</th>\n",
       "    </tr>\n",
       "    <tr>\n",
       "      <th>EDAD_CATEGORIA</th>\n",
       "      <th></th>\n",
       "      <th></th>\n",
       "      <th></th>\n",
       "      <th></th>\n",
       "    </tr>\n",
       "  </thead>\n",
       "  <tbody>\n",
       "    <tr>\n",
       "      <th>(10, 20]</th>\n",
       "      <td>20</td>\n",
       "      <td>17</td>\n",
       "      <td>7</td>\n",
       "      <td>44</td>\n",
       "    </tr>\n",
       "    <tr>\n",
       "      <th>(20, 30]</th>\n",
       "      <td>26</td>\n",
       "      <td>23</td>\n",
       "      <td>14</td>\n",
       "      <td>63</td>\n",
       "    </tr>\n",
       "    <tr>\n",
       "      <th>(30, 40]</th>\n",
       "      <td>8</td>\n",
       "      <td>9</td>\n",
       "      <td>7</td>\n",
       "      <td>24</td>\n",
       "    </tr>\n",
       "    <tr>\n",
       "      <th>(40, 50]</th>\n",
       "      <td>8</td>\n",
       "      <td>2</td>\n",
       "      <td>0</td>\n",
       "      <td>10</td>\n",
       "    </tr>\n",
       "    <tr>\n",
       "      <th>(50, 60]</th>\n",
       "      <td>1</td>\n",
       "      <td>1</td>\n",
       "      <td>1</td>\n",
       "      <td>3</td>\n",
       "    </tr>\n",
       "    <tr>\n",
       "      <th>(60, 70]</th>\n",
       "      <td>0</td>\n",
       "      <td>1</td>\n",
       "      <td>1</td>\n",
       "      <td>2</td>\n",
       "    </tr>\n",
       "    <tr>\n",
       "      <th>All</th>\n",
       "      <td>63</td>\n",
       "      <td>53</td>\n",
       "      <td>30</td>\n",
       "      <td>146</td>\n",
       "    </tr>\n",
       "  </tbody>\n",
       "</table>\n",
       "</div>"
      ],
      "text/plain": [
       "ANO_EGRESO      2018  2019  2020  All\n",
       "EDAD_CATEGORIA                       \n",
       "(10, 20]          20    17     7   44\n",
       "(20, 30]          26    23    14   63\n",
       "(30, 40]           8     9     7   24\n",
       "(40, 50]           8     2     0   10\n",
       "(50, 60]           1     1     1    3\n",
       "(60, 70]           0     1     1    2\n",
       "All               63    53    30  146"
      ]
     },
     "metadata": {},
     "output_type": "display_data"
    }
   ],
   "source": [
    "# Obtiene tabla dinamica de resumen fibrosis\n",
    "resumen_tabla_fibrosis = pd.pivot_table(\n",
    "    resumen_fibrosis.to_pandas().query(\"ANO_EGRESO >= 2018\"),\n",
    "    values=\"count\",\n",
    "    index=\"EDAD_CATEGORIA\",\n",
    "    columns=\"ANO_EGRESO\",\n",
    "    aggfunc=\"sum\",\n",
    "    fill_value=0,\n",
    "    margins=True,\n",
    ")\n",
    "\n",
    "display(resumen_tabla_fibrosis)\n",
    "\n",
    "# Exporta el resumen\n",
    "resumen_tabla_fibrosis.to_excel(\"../data/interim/resumen_fibrosis_quistica_hospitalizado_int.xlsx\")"
   ]
  },
  {
   "cell_type": "markdown",
   "metadata": {},
   "source": [
    "## Resumen Nacional de Fibrosis Quística"
   ]
  },
  {
   "cell_type": "code",
   "execution_count": 14,
   "metadata": {},
   "outputs": [],
   "source": [
    "CODIGOS_FIBROSIS = [\"E84X\", \"E840\", \"E841\", \"E848\", \"E849\", \"P75X\"]"
   ]
  },
  {
   "cell_type": "code",
   "execution_count": 32,
   "metadata": {},
   "outputs": [],
   "source": [
    "# Obtiene Registros de Fibrosis Quistica\n",
    "nacional_fibrosis_quistica = (\n",
    "    pl.scan_csv(\"../data/processed/egresos_procesados.csv\")\n",
    "    .filter(pl.col(\"DIAG1\").is_in(CODIGOS_FIBROSIS))\n",
    "    .with_columns(EDAD_CATEGORIA=pl.col(\"EDAD_A_OS\").cut([15, 20, 45, 65, 80], left_closed=True))\n",
    "    .collect(streaming=True)\n",
    ")"
   ]
  },
  {
   "cell_type": "code",
   "execution_count": 73,
   "metadata": {},
   "outputs": [],
   "source": [
    "ORDEN_CATEGORIAS = [\n",
    "    \"[-inf, 15)\",\n",
    "    \"[15, 20)\",\n",
    "    \"[20, 45)\",\n",
    "    \"[45, 65)\",\n",
    "    \"[65, 80)\",\n",
    "    \"[80, inf)\",\n",
    "]"
   ]
  },
  {
   "cell_type": "code",
   "execution_count": 74,
   "metadata": {},
   "outputs": [],
   "source": [
    "# Obtiene conteo de egresos para cada diagnostico\n",
    "resumen_egresos_fibrosis_quistica = (\n",
    "    nacional_fibrosis_quistica.filter(\n",
    "        (pl.col(\"EDAD_CATEGORIA\") != \"[-inf, 15)\") & (pl.col(\"ANO_EGRESO\") >= 2018)\n",
    "    )\n",
    "    .group_by(pl.col([\"ANO_EGRESO\", \"ESTABLECIMIENTO_SALUD\", \"EDAD_CATEGORIA\"]))\n",
    "    .agg(n_egresos=pl.col(\"DIAG1\").count())\n",
    "    .to_pandas()\n",
    ")\n",
    "\n",
    "# Reordena Categorias\n",
    "resumen_egresos_fibrosis_quistica[\"EDAD_CATEGORIA\"] = resumen_egresos_fibrosis_quistica[\n",
    "    \"EDAD_CATEGORIA\"\n",
    "].cat.reorder_categories(ORDEN_CATEGORIAS)"
   ]
  },
  {
   "cell_type": "code",
   "execution_count": 80,
   "metadata": {},
   "outputs": [],
   "source": [
    "# Obtiene cantidad de pacientes de fibrosis nacionales\n",
    "resumen_n_pacientes_fibrosis_quistica = (\n",
    "    nacional_fibrosis_quistica.filter(\n",
    "        (pl.col(\"EDAD_CATEGORIA\") != \"[-inf, 15)\") & (pl.col(\"ANO_EGRESO\") >= 2018)\n",
    "    )\n",
    "    .group_by(pl.col([\"ANO_EGRESO\", \"EDAD_CATEGORIA\"]))\n",
    "    .agg(n_pacientes=pl.col(\"ID_PACIENTE\").n_unique())\n",
    "    .to_pandas()\n",
    ")\n",
    "\n",
    "# Reordena Categorias\n",
    "resumen_n_pacientes_fibrosis_quistica[\"EDAD_CATEGORIA\"] = resumen_n_pacientes_fibrosis_quistica[\n",
    "    \"EDAD_CATEGORIA\"\n",
    "].cat.reorder_categories(ORDEN_CATEGORIAS)"
   ]
  },
  {
   "cell_type": "markdown",
   "metadata": {},
   "source": [
    "## Obtener reusmen de egresos Nacionales e INT"
   ]
  },
  {
   "cell_type": "code",
   "execution_count": 59,
   "metadata": {},
   "outputs": [
    {
     "data": {
      "text/html": [
       "<div>\n",
       "<style scoped>\n",
       "    .dataframe tbody tr th:only-of-type {\n",
       "        vertical-align: middle;\n",
       "    }\n",
       "\n",
       "    .dataframe tbody tr th {\n",
       "        vertical-align: top;\n",
       "    }\n",
       "\n",
       "    .dataframe thead tr th {\n",
       "        text-align: left;\n",
       "    }\n",
       "\n",
       "    .dataframe thead tr:last-of-type th {\n",
       "        text-align: right;\n",
       "    }\n",
       "</style>\n",
       "<table border=\"1\" class=\"dataframe\">\n",
       "  <thead>\n",
       "    <tr>\n",
       "      <th></th>\n",
       "      <th colspan=\"4\" halign=\"left\">n_egresos</th>\n",
       "    </tr>\n",
       "    <tr>\n",
       "      <th>ANO_EGRESO</th>\n",
       "      <th>2018</th>\n",
       "      <th>2019</th>\n",
       "      <th>2020</th>\n",
       "      <th>All</th>\n",
       "    </tr>\n",
       "    <tr>\n",
       "      <th>EDAD_CATEGORIA</th>\n",
       "      <th></th>\n",
       "      <th></th>\n",
       "      <th></th>\n",
       "      <th></th>\n",
       "    </tr>\n",
       "  </thead>\n",
       "  <tbody>\n",
       "    <tr>\n",
       "      <th>[-inf, 15)</th>\n",
       "      <td>0</td>\n",
       "      <td>0</td>\n",
       "      <td>0</td>\n",
       "      <td>NaN</td>\n",
       "    </tr>\n",
       "    <tr>\n",
       "      <th>[15, 20)</th>\n",
       "      <td>83</td>\n",
       "      <td>76</td>\n",
       "      <td>66</td>\n",
       "      <td>225.0</td>\n",
       "    </tr>\n",
       "    <tr>\n",
       "      <th>[20, 45)</th>\n",
       "      <td>81</td>\n",
       "      <td>75</td>\n",
       "      <td>63</td>\n",
       "      <td>219.0</td>\n",
       "    </tr>\n",
       "    <tr>\n",
       "      <th>[45, 65)</th>\n",
       "      <td>10</td>\n",
       "      <td>7</td>\n",
       "      <td>10</td>\n",
       "      <td>27.0</td>\n",
       "    </tr>\n",
       "    <tr>\n",
       "      <th>[65, 80)</th>\n",
       "      <td>6</td>\n",
       "      <td>8</td>\n",
       "      <td>6</td>\n",
       "      <td>20.0</td>\n",
       "    </tr>\n",
       "    <tr>\n",
       "      <th>[80, inf)</th>\n",
       "      <td>8</td>\n",
       "      <td>6</td>\n",
       "      <td>4</td>\n",
       "      <td>18.0</td>\n",
       "    </tr>\n",
       "    <tr>\n",
       "      <th>All</th>\n",
       "      <td>188</td>\n",
       "      <td>172</td>\n",
       "      <td>149</td>\n",
       "      <td>509.0</td>\n",
       "    </tr>\n",
       "  </tbody>\n",
       "</table>\n",
       "</div>"
      ],
      "text/plain": [
       "               n_egresos                 \n",
       "ANO_EGRESO          2018 2019 2020    All\n",
       "EDAD_CATEGORIA                           \n",
       "[-inf, 15)             0    0    0    NaN\n",
       "[15, 20)              83   76   66  225.0\n",
       "[20, 45)              81   75   63  219.0\n",
       "[45, 65)              10    7   10   27.0\n",
       "[65, 80)               6    8    6   20.0\n",
       "[80, inf)              8    6    4   18.0\n",
       "All                  188  172  149  509.0"
      ]
     },
     "metadata": {},
     "output_type": "display_data"
    },
    {
     "data": {
      "text/html": [
       "<div>\n",
       "<style scoped>\n",
       "    .dataframe tbody tr th:only-of-type {\n",
       "        vertical-align: middle;\n",
       "    }\n",
       "\n",
       "    .dataframe tbody tr th {\n",
       "        vertical-align: top;\n",
       "    }\n",
       "\n",
       "    .dataframe thead tr th {\n",
       "        text-align: left;\n",
       "    }\n",
       "\n",
       "    .dataframe thead tr:last-of-type th {\n",
       "        text-align: right;\n",
       "    }\n",
       "</style>\n",
       "<table border=\"1\" class=\"dataframe\">\n",
       "  <thead>\n",
       "    <tr>\n",
       "      <th></th>\n",
       "      <th colspan=\"4\" halign=\"left\">n_egresos</th>\n",
       "    </tr>\n",
       "    <tr>\n",
       "      <th>ANO_EGRESO</th>\n",
       "      <th>2018</th>\n",
       "      <th>2019</th>\n",
       "      <th>2020</th>\n",
       "      <th>All</th>\n",
       "    </tr>\n",
       "    <tr>\n",
       "      <th>EDAD_CATEGORIA</th>\n",
       "      <th></th>\n",
       "      <th></th>\n",
       "      <th></th>\n",
       "      <th></th>\n",
       "    </tr>\n",
       "  </thead>\n",
       "  <tbody>\n",
       "    <tr>\n",
       "      <th>[-inf, 15)</th>\n",
       "      <td>0</td>\n",
       "      <td>0</td>\n",
       "      <td>0</td>\n",
       "      <td>NaN</td>\n",
       "    </tr>\n",
       "    <tr>\n",
       "      <th>[15, 20)</th>\n",
       "      <td>16</td>\n",
       "      <td>16</td>\n",
       "      <td>5</td>\n",
       "      <td>37.0</td>\n",
       "    </tr>\n",
       "    <tr>\n",
       "      <th>[20, 45)</th>\n",
       "      <td>46</td>\n",
       "      <td>35</td>\n",
       "      <td>23</td>\n",
       "      <td>104.0</td>\n",
       "    </tr>\n",
       "    <tr>\n",
       "      <th>[45, 65)</th>\n",
       "      <td>1</td>\n",
       "      <td>1</td>\n",
       "      <td>2</td>\n",
       "      <td>4.0</td>\n",
       "    </tr>\n",
       "    <tr>\n",
       "      <th>[65, 80)</th>\n",
       "      <td>0</td>\n",
       "      <td>1</td>\n",
       "      <td>0</td>\n",
       "      <td>1.0</td>\n",
       "    </tr>\n",
       "    <tr>\n",
       "      <th>[80, inf)</th>\n",
       "      <td>0</td>\n",
       "      <td>0</td>\n",
       "      <td>0</td>\n",
       "      <td>NaN</td>\n",
       "    </tr>\n",
       "    <tr>\n",
       "      <th>All</th>\n",
       "      <td>63</td>\n",
       "      <td>53</td>\n",
       "      <td>30</td>\n",
       "      <td>146.0</td>\n",
       "    </tr>\n",
       "  </tbody>\n",
       "</table>\n",
       "</div>"
      ],
      "text/plain": [
       "               n_egresos                 \n",
       "ANO_EGRESO          2018 2019 2020    All\n",
       "EDAD_CATEGORIA                           \n",
       "[-inf, 15)             0    0    0    NaN\n",
       "[15, 20)              16   16    5   37.0\n",
       "[20, 45)              46   35   23  104.0\n",
       "[45, 65)               1    1    2    4.0\n",
       "[65, 80)               0    1    0    1.0\n",
       "[80, inf)              0    0    0    NaN\n",
       "All                   63   53   30  146.0"
      ]
     },
     "metadata": {},
     "output_type": "display_data"
    }
   ],
   "source": [
    "# Obtiene tabla dinamica de resumen nacional por grupo etario\n",
    "tabla_egresos_nacional_fibrosis = pd.pivot_table(\n",
    "    resumen_egresos_fibrosis_quistica,\n",
    "    index=[\"EDAD_CATEGORIA\"],\n",
    "    columns=[\"ANO_EGRESO\"],\n",
    "    values=[\"n_egresos\"],\n",
    "    aggfunc=\"sum\",\n",
    "    fill_value=0,\n",
    "    margins=True,\n",
    ")\n",
    "\n",
    "display(tabla_egresos_nacional_fibrosis)\n",
    "\n",
    "# Obtiene tabla dinamica de resumen torax por grupo etario\n",
    "tabla_egresos_torax_fibrosis = pd.pivot_table(\n",
    "    resumen_egresos_fibrosis_quistica.query(\"ESTABLECIMIENTO_SALUD == 112103\"),\n",
    "    index=[\"EDAD_CATEGORIA\"],\n",
    "    columns=[\"ANO_EGRESO\"],\n",
    "    values=[\"n_egresos\"],\n",
    "    aggfunc=\"sum\",\n",
    "    fill_value=0,\n",
    "    margins=True,\n",
    ")\n",
    "\n",
    "display(tabla_egresos_torax_fibrosis)"
   ]
  }
 ],
 "metadata": {
  "kernelspec": {
   "display_name": "base",
   "language": "python",
   "name": "python3"
  },
  "language_info": {
   "codemirror_mode": {
    "name": "ipython",
    "version": 3
   },
   "file_extension": ".py",
   "mimetype": "text/x-python",
   "name": "python",
   "nbconvert_exporter": "python",
   "pygments_lexer": "ipython3",
   "version": "3.11.5"
  },
  "orig_nbformat": 4
 },
 "nbformat": 4,
 "nbformat_minor": 2
}
