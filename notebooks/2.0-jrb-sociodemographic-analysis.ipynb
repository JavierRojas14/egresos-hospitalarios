{
 "cells": [
  {
   "cell_type": "code",
   "execution_count": 1,
   "metadata": {},
   "outputs": [],
   "source": [
    "import polars as pl"
   ]
  },
  {
   "cell_type": "code",
   "execution_count": 7,
   "metadata": {},
   "outputs": [],
   "source": [
    "df = pl.scan_csv(\n",
    "    \"../data/processed/egresos_procesados.csv\", null_values={\"REGION_RESIDENCIA\": \"Extranjero\"}\n",
    ").filter(pl.col(\"ESTABLECIMIENTO_SALUD\") == 112103).collect()"
   ]
  },
  {
   "cell_type": "code",
   "execution_count": 8,
   "metadata": {},
   "outputs": [
    {
     "data": {
      "text/html": [
       "<div><style>\n",
       ".dataframe > thead > tr > th,\n",
       ".dataframe > tbody > tr > td {\n",
       "  text-align: right;\n",
       "}\n",
       "</style>\n",
       "<small>shape: (6, 40)</small><table border=\"1\" class=\"dataframe\"><thead><tr><th>ID_PACIENTE</th><th>ESTABLECIMIENTO_SALUD</th><th>GLOSA_ESTABLECIMIENTO_SALUD</th><th>PERTENENCIA_ESTABLECIMIENTO_SALUD</th><th>SEREMI</th><th>SERVICIO_DE_SALUD</th><th>SEXO</th><th>FECHA_NACIMIENTO</th><th>EDAD_CANT</th><th>TIPO_EDAD</th><th>EDAD_A_OS</th><th>PUEBLO_ORIGINARIO</th><th>PAIS_ORIGEN</th><th>GLOSA_PAIS_ORIGEN</th><th>COMUNA_RESIDENCIA</th><th>GLOSA_COMUNA_RESIDENCIA</th><th>REGION_RESIDENCIA</th><th>GLOSA_REGION_RESIDENCIA</th><th>PREVISION</th><th>BENEFICIARIO</th><th>MODALIDAD</th><th>PROCEDENCIA</th><th>ANO_EGRESO</th><th>FECHA_EGRESO</th><th>AREA_FUNCIONAL_EGRESO</th><th>DIAS_ESTADA</th><th>CONDICION_EGRESO</th><th>DIAG1</th><th>GLOSA_DIAG1</th><th>DIAG2</th><th>GLOSA_DIAG2</th><th>INTERV_Q</th><th>CODIGO_INTERV_Q_PPAL</th><th>GLOSA_INTERV_Q_PPAL</th><th>PROCED</th><th>CODIGO_PROCED_PPAL</th><th>GLOSA_PROCED_PPAL</th><th>region_pais</th><th>comuna_region_pais</th><th>EDAD_CATEGORIA</th></tr><tr><td>str</td><td>i64</td><td>str</td><td>str</td><td>i64</td><td>i64</td><td>str</td><td>str</td><td>str</td><td>str</td><td>i64</td><td>str</td><td>str</td><td>str</td><td>i64</td><td>str</td><td>i64</td><td>str</td><td>str</td><td>str</td><td>str</td><td>str</td><td>i64</td><td>str</td><td>i64</td><td>i64</td><td>i64</td><td>str</td><td>str</td><td>str</td><td>str</td><td>i64</td><td>str</td><td>str</td><td>str</td><td>str</td><td>str</td><td>str</td><td>str</td><td>str</td></tr></thead><tbody><tr><td>&quot;NA&quot;</td><td>112103</td><td>&quot;Instituto Naci…</td><td>&quot;Pertenecientes…</td><td>null</td><td>12</td><td>&quot;Hombre&quot;</td><td>null</td><td>null</td><td>null</td><td>51</td><td>null</td><td>null</td><td>null</td><td>13123</td><td>&quot;Providencia&quot;</td><td>13</td><td>&quot;Metropolitana …</td><td>&quot;DESCONOCIDO&quot;</td><td>null</td><td>null</td><td>null</td><td>2001</td><td>&quot;2001-05-25&quot;</td><td>111</td><td>2</td><td>1</td><td>&quot;A162&quot;</td><td>&quot;TUBERCULOSIS D…</td><td>null</td><td>null</td><td>0</td><td>null</td><td>null</td><td>null</td><td>null</td><td>null</td><td>&quot;Region Metropo…</td><td>&quot;Providencia, R…</td><td>&quot;(50, 60]&quot;</td></tr><tr><td>&quot;NA&quot;</td><td>112103</td><td>&quot;Instituto Naci…</td><td>&quot;Pertenecientes…</td><td>null</td><td>12</td><td>&quot;Mujer&quot;</td><td>null</td><td>null</td><td>null</td><td>95</td><td>null</td><td>null</td><td>null</td><td>13123</td><td>&quot;Providencia&quot;</td><td>13</td><td>&quot;Metropolitana …</td><td>&quot;DESCONOCIDO&quot;</td><td>null</td><td>null</td><td>null</td><td>2001</td><td>&quot;2001-07-16&quot;</td><td>111</td><td>3</td><td>1</td><td>&quot;J969&quot;</td><td>&quot;INSUFICIENCIA …</td><td>null</td><td>null</td><td>0</td><td>null</td><td>null</td><td>null</td><td>null</td><td>null</td><td>&quot;Region Metropo…</td><td>&quot;Providencia, R…</td><td>&quot;(90, 100]&quot;</td></tr><tr><td>&quot;NA&quot;</td><td>112103</td><td>&quot;Instituto Naci…</td><td>&quot;Pertenecientes…</td><td>null</td><td>12</td><td>&quot;Hombre&quot;</td><td>null</td><td>null</td><td>null</td><td>65</td><td>null</td><td>null</td><td>null</td><td>13123</td><td>&quot;Providencia&quot;</td><td>13</td><td>&quot;Metropolitana …</td><td>&quot;FONASA&quot;</td><td>&quot;A&quot;</td><td>null</td><td>null</td><td>2001</td><td>&quot;2001-04-19&quot;</td><td>270</td><td>2</td><td>1</td><td>&quot;J189&quot;</td><td>&quot;NEUMONIA, NO E…</td><td>null</td><td>null</td><td>0</td><td>null</td><td>null</td><td>null</td><td>null</td><td>null</td><td>&quot;Region Metropo…</td><td>&quot;Providencia, R…</td><td>&quot;(60, 70]&quot;</td></tr><tr><td>&quot;NA&quot;</td><td>112103</td><td>&quot;Instituto Naci…</td><td>&quot;Pertenecientes…</td><td>null</td><td>12</td><td>&quot;Hombre&quot;</td><td>null</td><td>null</td><td>null</td><td>48</td><td>null</td><td>null</td><td>null</td><td>13123</td><td>&quot;Providencia&quot;</td><td>13</td><td>&quot;Metropolitana …</td><td>&quot;FONASA&quot;</td><td>&quot;A&quot;</td><td>null</td><td>null</td><td>2001</td><td>&quot;2001-09-19&quot;</td><td>270</td><td>45</td><td>1</td><td>&quot;J189&quot;</td><td>&quot;NEUMONIA, NO E…</td><td>null</td><td>null</td><td>1</td><td>null</td><td>null</td><td>null</td><td>null</td><td>null</td><td>&quot;Region Metropo…</td><td>&quot;Providencia, R…</td><td>&quot;(40, 50]&quot;</td></tr><tr><td>&quot;NA&quot;</td><td>112103</td><td>&quot;Instituto Naci…</td><td>&quot;Pertenecientes…</td><td>null</td><td>12</td><td>&quot;Mujer&quot;</td><td>null</td><td>null</td><td>null</td><td>65</td><td>null</td><td>null</td><td>null</td><td>13123</td><td>&quot;Providencia&quot;</td><td>13</td><td>&quot;Metropolitana …</td><td>&quot;FONASA&quot;</td><td>&quot;A&quot;</td><td>null</td><td>null</td><td>2001</td><td>&quot;2001-04-13&quot;</td><td>111</td><td>4</td><td>1</td><td>&quot;J189&quot;</td><td>&quot;NEUMONIA, NO E…</td><td>null</td><td>null</td><td>0</td><td>null</td><td>null</td><td>null</td><td>null</td><td>null</td><td>&quot;Region Metropo…</td><td>&quot;Providencia, R…</td><td>&quot;(60, 70]&quot;</td></tr><tr><td>&quot;NA&quot;</td><td>112103</td><td>&quot;Instituto Naci…</td><td>&quot;Pertenecientes…</td><td>null</td><td>12</td><td>&quot;Mujer&quot;</td><td>null</td><td>null</td><td>null</td><td>49</td><td>null</td><td>null</td><td>null</td><td>13124</td><td>&quot;Pudahuel&quot;</td><td>13</td><td>&quot;Metropolitana …</td><td>&quot;FONASA&quot;</td><td>&quot;B&quot;</td><td>null</td><td>null</td><td>2001</td><td>&quot;2001-05-19&quot;</td><td>111</td><td>17</td><td>1</td><td>&quot;I891&quot;</td><td>&quot;LINFANGITIS&quot;</td><td>null</td><td>null</td><td>0</td><td>null</td><td>null</td><td>null</td><td>null</td><td>null</td><td>&quot;Region Metropo…</td><td>&quot;Pudahuel, Regi…</td><td>&quot;(40, 50]&quot;</td></tr></tbody></table></div>"
      ],
      "text/plain": [
       "shape: (6, 40)\n",
       "┌───────────┬───────────┬───────────┬───────────┬───┬───────────┬───────────┬───────────┬──────────┐\n",
       "│ ID_PACIEN ┆ ESTABLECI ┆ GLOSA_EST ┆ PERTENENC ┆ … ┆ GLOSA_PRO ┆ region_pa ┆ comuna_re ┆ EDAD_CAT │\n",
       "│ TE        ┆ MIENTO_SA ┆ ABLECIMIE ┆ IA_ESTABL ┆   ┆ CED_PPAL  ┆ is        ┆ gion_pais ┆ EGORIA   │\n",
       "│ ---       ┆ LUD       ┆ NTO_SALUD ┆ ECIMIENTO ┆   ┆ ---       ┆ ---       ┆ ---       ┆ ---      │\n",
       "│ str       ┆ ---       ┆ ---       ┆ _SALU…    ┆   ┆ str       ┆ str       ┆ str       ┆ str      │\n",
       "│           ┆ i64       ┆ str       ┆ ---       ┆   ┆           ┆           ┆           ┆          │\n",
       "│           ┆           ┆           ┆ str       ┆   ┆           ┆           ┆           ┆          │\n",
       "╞═══════════╪═══════════╪═══════════╪═══════════╪═══╪═══════════╪═══════════╪═══════════╪══════════╡\n",
       "│ NA        ┆ 112103    ┆ Instituto ┆ Perteneci ┆ … ┆ null      ┆ Region    ┆ Providenc ┆ (50, 60] │\n",
       "│           ┆           ┆ Nacional  ┆ entes al  ┆   ┆           ┆ Metropoli ┆ ia,       ┆          │\n",
       "│           ┆           ┆ de Enferm ┆ Sistema   ┆   ┆           ┆ tana de   ┆ Region    ┆          │\n",
       "│           ┆           ┆ edad…     ┆ Nacion…   ┆   ┆           ┆ Santiago… ┆ Metropoli ┆          │\n",
       "│           ┆           ┆           ┆           ┆   ┆           ┆           ┆ tan…      ┆          │\n",
       "│ NA        ┆ 112103    ┆ Instituto ┆ Perteneci ┆ … ┆ null      ┆ Region    ┆ Providenc ┆ (90,     │\n",
       "│           ┆           ┆ Nacional  ┆ entes al  ┆   ┆           ┆ Metropoli ┆ ia,       ┆ 100]     │\n",
       "│           ┆           ┆ de Enferm ┆ Sistema   ┆   ┆           ┆ tana de   ┆ Region    ┆          │\n",
       "│           ┆           ┆ edad…     ┆ Nacion…   ┆   ┆           ┆ Santiago… ┆ Metropoli ┆          │\n",
       "│           ┆           ┆           ┆           ┆   ┆           ┆           ┆ tan…      ┆          │\n",
       "│ NA        ┆ 112103    ┆ Instituto ┆ Perteneci ┆ … ┆ null      ┆ Region    ┆ Providenc ┆ (60, 70] │\n",
       "│           ┆           ┆ Nacional  ┆ entes al  ┆   ┆           ┆ Metropoli ┆ ia,       ┆          │\n",
       "│           ┆           ┆ de Enferm ┆ Sistema   ┆   ┆           ┆ tana de   ┆ Region    ┆          │\n",
       "│           ┆           ┆ edad…     ┆ Nacion…   ┆   ┆           ┆ Santiago… ┆ Metropoli ┆          │\n",
       "│           ┆           ┆           ┆           ┆   ┆           ┆           ┆ tan…      ┆          │\n",
       "│ NA        ┆ 112103    ┆ Instituto ┆ Perteneci ┆ … ┆ null      ┆ Region    ┆ Providenc ┆ (40, 50] │\n",
       "│           ┆           ┆ Nacional  ┆ entes al  ┆   ┆           ┆ Metropoli ┆ ia,       ┆          │\n",
       "│           ┆           ┆ de Enferm ┆ Sistema   ┆   ┆           ┆ tana de   ┆ Region    ┆          │\n",
       "│           ┆           ┆ edad…     ┆ Nacion…   ┆   ┆           ┆ Santiago… ┆ Metropoli ┆          │\n",
       "│           ┆           ┆           ┆           ┆   ┆           ┆           ┆ tan…      ┆          │\n",
       "│ NA        ┆ 112103    ┆ Instituto ┆ Perteneci ┆ … ┆ null      ┆ Region    ┆ Providenc ┆ (60, 70] │\n",
       "│           ┆           ┆ Nacional  ┆ entes al  ┆   ┆           ┆ Metropoli ┆ ia,       ┆          │\n",
       "│           ┆           ┆ de Enferm ┆ Sistema   ┆   ┆           ┆ tana de   ┆ Region    ┆          │\n",
       "│           ┆           ┆ edad…     ┆ Nacion…   ┆   ┆           ┆ Santiago… ┆ Metropoli ┆          │\n",
       "│           ┆           ┆           ┆           ┆   ┆           ┆           ┆ tan…      ┆          │\n",
       "│ NA        ┆ 112103    ┆ Instituto ┆ Perteneci ┆ … ┆ null      ┆ Region    ┆ Pudahuel, ┆ (40, 50] │\n",
       "│           ┆           ┆ Nacional  ┆ entes al  ┆   ┆           ┆ Metropoli ┆ Region    ┆          │\n",
       "│           ┆           ┆ de Enferm ┆ Sistema   ┆   ┆           ┆ tana de   ┆ Metropoli ┆          │\n",
       "│           ┆           ┆ edad…     ┆ Nacion…   ┆   ┆           ┆ Santiago… ┆ tana d…   ┆          │\n",
       "└───────────┴───────────┴───────────┴───────────┴───┴───────────┴───────────┴───────────┴──────────┘"
      ]
     },
     "execution_count": 8,
     "metadata": {},
     "output_type": "execute_result"
    }
   ],
   "source": [
    "df.fetch()"
   ]
  },
  {
   "cell_type": "code",
   "execution_count": null,
   "metadata": {},
   "outputs": [],
   "source": []
  }
 ],
 "metadata": {
  "kernelspec": {
   "display_name": "base",
   "language": "python",
   "name": "python3"
  },
  "language_info": {
   "codemirror_mode": {
    "name": "ipython",
    "version": 3
   },
   "file_extension": ".py",
   "mimetype": "text/x-python",
   "name": "python",
   "nbconvert_exporter": "python",
   "pygments_lexer": "ipython3",
   "version": "3.10.13"
  },
  "orig_nbformat": 4
 },
 "nbformat": 4,
 "nbformat_minor": 2
}
