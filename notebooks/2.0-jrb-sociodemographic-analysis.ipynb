{
 "cells": [
  {
   "cell_type": "code",
   "execution_count": 1,
   "metadata": {},
   "outputs": [],
   "source": [
    "import sys\n",
    "import os\n",
    "\n",
    "project_root = os.path.abspath('..')\n",
    "if project_root not in sys.path:\n",
    "    sys.path.append(project_root)\n",
    "\n",
    "%load_ext autoreload\n",
    "%autoreload 2\n"
   ]
  },
  {
   "cell_type": "code",
   "execution_count": 2,
   "metadata": {},
   "outputs": [],
   "source": [
    "import polars as pl\n",
    "\n",
    "import matplotlib.pyplot as plt\n",
    "import seaborn as sns\n",
    "\n",
    "sns.set_style()\n",
    "plt.rcParams[\"figure.figsize\"] = (12, 6)\n",
    "\n",
    "HOSPITAL_A_ANALIZAR = 112103  # Este es el Torax"
   ]
  },
  {
   "cell_type": "code",
   "execution_count": 3,
   "metadata": {},
   "outputs": [],
   "source": [
    "cie_9 = pl.read_excel(\n",
    "    \"../data/external/Esquema_Registro-2023.xlsx\",\n",
    "    sheet_name=\"Anexo 2\",\n",
    "    read_csv_options={\"skip_rows\": 5},\n",
    ")\n",
    "\n",
    "cie_10 = pl.read_excel(\"../data/external/CIE-10 - sin_puntos_y_X.xlsx\")"
   ]
  },
  {
   "cell_type": "markdown",
   "metadata": {},
   "source": [
    "## 1. Análisis Sociodemográfico de Pacientes Atendidos en el Hospital del Tórax\n",
    "\n",
    "En este cuadernillo se quiere ver el perfil sociodemográfico de los pacientes hospitalizados\n",
    "en el Hospital del Tórax. Se utilizará la base de datos pública de egresos hospitalarios DEIS\n",
    "entre 2001 y 2020. Las preguntas que se quieren responder son:\n",
    "\n",
    "- ¿Cómo es la distribución geográfica de los pacientes atendidos en el INT?\n",
    "- ¿Cuál es el rango etario más atendido en el INT?\n",
    "- ¿Cuál es el género más atendido en el INT?\n",
    "- ¿Cuál es la previsión más atendida en el INT?\n",
    "- ¿Cuál es la letra de FONASA más atendida en el INT?"
   ]
  },
  {
   "cell_type": "markdown",
   "metadata": {},
   "source": [
    "Para responder estas preguntas se realizará una agrupación de los datos con todas las variables\n",
    "sociodemográficas de interés para el análisis."
   ]
  },
  {
   "cell_type": "code",
   "execution_count": 4,
   "metadata": {},
   "outputs": [],
   "source": [
    "# Define todas las variables que se quieren saber\n",
    "\n",
    "VARIABLES_SOCIODEMOGRAFICAS_ESTATICAS = [\"ANO_EGRESO\", \"REGION_RESIDENCIA\", \"COMUNA_RESIDENCIA\"]\n",
    "VARIABLES_SOCIODEMOGRAFICAS_DINAMICAS = [\"SEXO\", \"EDAD_CATEGORIA\", \"PREVISION\", \"BENEFICIARIO\"]\n",
    "VARIABLE_A_CONTAR = \"DIAG1\"\n",
    "\n",
    "agrupacion_total = (\n",
    "    VARIABLES_SOCIODEMOGRAFICAS_ESTATICAS\n",
    "    + VARIABLES_SOCIODEMOGRAFICAS_DINAMICAS\n",
    "    + [VARIABLE_A_CONTAR]\n",
    ")"
   ]
  },
  {
   "cell_type": "markdown",
   "metadata": {},
   "source": [
    "Luego, se genera la consulta de la base de datos. Para reducir el coste computacional, se filtra\n",
    "la base de datos únicamente para los datos del INT. Posteriormente, se agrupa la base de datos\n",
    "con las variables sociodemográficas de interés y se cuenta la ocurrencia de cada grupo."
   ]
  },
  {
   "cell_type": "code",
   "execution_count": 14,
   "metadata": {},
   "outputs": [],
   "source": [
    "desglose_sociodemografico = (\n",
    "    pl.scan_csv(\"../data/processed/egresos_procesados.csv\")\n",
    "    .filter(pl.col(\"ESTABLECIMIENTO_SALUD\") == HOSPITAL_A_ANALIZAR)\n",
    "    .group_by(agrupacion_total)\n",
    "    .agg([pl.count(), pl.col(\"INTERV_Q\").sum().alias(\"n_int_q\")])\n",
    "    .sort([\"ANO_EGRESO\"])\n",
    "    .collect(streaming=True)\n",
    ")"
   ]
  },
  {
   "cell_type": "code",
   "execution_count": 17,
   "metadata": {},
   "outputs": [
    {
     "data": {
      "text/html": [
       "<div><style>\n",
       ".dataframe > thead > tr > th,\n",
       ".dataframe > tbody > tr > td {\n",
       "  text-align: right;\n",
       "  white-space: pre-wrap;\n",
       "}\n",
       "</style>\n",
       "<small>shape: (1, 10)</small><table border=\"1\" class=\"dataframe\"><thead><tr><th>ANO_EGRESO</th><th>REGION_RESIDENCIA</th><th>COMUNA_RESIDENCIA</th><th>SEXO</th><th>EDAD_CATEGORIA</th><th>PREVISION</th><th>BENEFICIARIO</th><th>DIAG1</th><th>count</th><th>n_int_q</th></tr><tr><td>i64</td><td>i64</td><td>i64</td><td>str</td><td>str</td><td>str</td><td>str</td><td>str</td><td>u32</td><td>i64</td></tr></thead><tbody><tr><td>148543932</td><td>843571</td><td>855600363</td><td>null</td><td>null</td><td>null</td><td>null</td><td>null</td><td>96742</td><td>24101</td></tr></tbody></table></div>"
      ],
      "text/plain": [
       "shape: (1, 10)\n",
       "┌────────────┬────────────────┬────────────────┬──────┬───┬──────────────┬───────┬───────┬─────────┐\n",
       "│ ANO_EGRESO ┆ REGION_RESIDEN ┆ COMUNA_RESIDEN ┆ SEXO ┆ … ┆ BENEFICIARIO ┆ DIAG1 ┆ count ┆ n_int_q │\n",
       "│ ---        ┆ CIA            ┆ CIA            ┆ ---  ┆   ┆ ---          ┆ ---   ┆ ---   ┆ ---     │\n",
       "│ i64        ┆ ---            ┆ ---            ┆ str  ┆   ┆ str          ┆ str   ┆ u32   ┆ i64     │\n",
       "│            ┆ i64            ┆ i64            ┆      ┆   ┆              ┆       ┆       ┆         │\n",
       "╞════════════╪════════════════╪════════════════╪══════╪═══╪══════════════╪═══════╪═══════╪═════════╡\n",
       "│ 148543932  ┆ 843571         ┆ 855600363      ┆ null ┆ … ┆ null         ┆ null  ┆ 96742 ┆ 24101   │\n",
       "└────────────┴────────────────┴────────────────┴──────┴───┴──────────────┴───────┴───────┴─────────┘"
      ]
     },
     "metadata": {},
     "output_type": "display_data"
    }
   ],
   "source": [
    "display(desglose_sociodemografico.sum())"
   ]
  },
  {
   "cell_type": "markdown",
   "metadata": {},
   "source": [
    "Los resultados indican que en todo el periodo analizado el INT presentó 96742 Egresos Hospitalarios\n",
    "(columna \"count\") y 24101 Egresos con Procedimientos Quirúrgicos. Esto está en concordancia con el\n",
    "cuadernillo de egresos hospitalarios."
   ]
  },
  {
   "cell_type": "code",
   "execution_count": 6,
   "metadata": {},
   "outputs": [],
   "source": [
    "desglose_sociodemografico_cie = (\n",
    "    desglose_sociodemografico.join(\n",
    "        cie_9, how=\"left\", left_on=\"COMUNA_RESIDENCIA\", right_on=\"Código Comuna\"\n",
    "    )\n",
    "    .with_columns(pl.col([\"PREVISION\", \"Nombre Comuna\"]).str.to_titlecase())\n",
    "    .drop(\"Código Región\")\n",
    ")\n",
    "\n",
    "desglose_sociodemografico_cie = desglose_sociodemografico_cie.join(\n",
    "    cie_10, how=\"left\", left_on=\"DIAG1\", right_on=\"Código\"\n",
    ")\n",
    "\n",
    "desglose_sociodemografico_cie = desglose_sociodemografico_cie.rename(\n",
    "    {\"REGION_RESIDENCIA\": \"codregion\", \"COMUNA_RESIDENCIA\": \"cod_comuna\"}\n",
    ")"
   ]
  },
  {
   "cell_type": "code",
   "execution_count": 7,
   "metadata": {},
   "outputs": [
    {
     "data": {
      "text/html": [
       "<div><style>\n",
       ".dataframe > thead > tr > th,\n",
       ".dataframe > tbody > tr > td {\n",
       "  text-align: right;\n",
       "  white-space: pre-wrap;\n",
       "}\n",
       "</style>\n",
       "<small>shape: (5, 15)</small><table border=\"1\" class=\"dataframe\"><thead><tr><th>ANO_EGRESO</th><th>codregion</th><th>cod_comuna</th><th>SEXO</th><th>EDAD_CATEGORIA</th><th>PREVISION</th><th>BENEFICIARIO</th><th>DIAG1</th><th>count</th><th>Nombre Comuna</th><th>Nombre Región</th><th>Descripción</th><th>Categoría</th><th>Sección</th><th>Capítulo</th></tr><tr><td>i64</td><td>i64</td><td>i64</td><td>str</td><td>str</td><td>str</td><td>str</td><td>str</td><td>u32</td><td>str</td><td>str</td><td>str</td><td>str</td><td>str</td><td>str</td></tr></thead><tbody><tr><td>2001</td><td>13</td><td>13118</td><td>&quot;Mujer&quot;</td><td>&quot;(20, 30]&quot;</td><td>&quot;Fonasa&quot;</td><td>&quot;A&quot;</td><td>&quot;J189&quot;</td><td>1</td><td>&quot;Macul&quot;</td><td>&quot;Metropolitana …</td><td>&quot;Neumonía, no e…</td><td>&quot;J18 NEUMONÍA, …</td><td>&quot;J09-J18  GRIPE…</td><td>&quot;Cap.10  ENFERM…</td></tr><tr><td>2001</td><td>13</td><td>13101</td><td>&quot;Hombre&quot;</td><td>&quot;(30, 40]&quot;</td><td>&quot;Fonasa&quot;</td><td>&quot;A&quot;</td><td>&quot;J90X&quot;</td><td>1</td><td>&quot;Santiago&quot;</td><td>&quot;Metropolitana …</td><td>&quot;Derrame pleura…</td><td>&quot;J90 DERRAME PL…</td><td>&quot;J90-J94  OTRAS…</td><td>&quot;Cap.10  ENFERM…</td></tr><tr><td>2001</td><td>13</td><td>13105</td><td>&quot;Mujer&quot;</td><td>&quot;(40, 50]&quot;</td><td>&quot;Fonasa&quot;</td><td>&quot;A&quot;</td><td>&quot;I509&quot;</td><td>3</td><td>&quot;El Bosque&quot;</td><td>&quot;Metropolitana …</td><td>&quot;Insuficiencia …</td><td>&quot;I50 INSUFICIEN…</td><td>&quot;I30-I52  OTRAS…</td><td>&quot;Cap.09  ENFERM…</td></tr><tr><td>2001</td><td>13</td><td>13123</td><td>&quot;Hombre&quot;</td><td>&quot;(70, 80]&quot;</td><td>&quot;Desconocido&quot;</td><td>null</td><td>&quot;J449&quot;</td><td>1</td><td>&quot;Providencia&quot;</td><td>&quot;Metropolitana …</td><td>&quot;Enfermedad pul…</td><td>&quot;J44 OTRAS ENFE…</td><td>&quot;J40-J47  ENFER…</td><td>&quot;Cap.10  ENFERM…</td></tr><tr><td>2001</td><td>13</td><td>13123</td><td>&quot;Mujer&quot;</td><td>&quot;(50, 60]&quot;</td><td>&quot;Fonasa&quot;</td><td>&quot;B&quot;</td><td>&quot;G473&quot;</td><td>2</td><td>&quot;Providencia&quot;</td><td>&quot;Metropolitana …</td><td>&quot;Apnea del sueñ…</td><td>&quot;G47 TRASTORNOS…</td><td>&quot;G40-G47  TRAST…</td><td>&quot;Cap.06  ENFERM…</td></tr></tbody></table></div>"
      ],
      "text/plain": [
       "shape: (5, 15)\n",
       "┌────────────┬───────────┬────────────┬────────┬───┬───────────┬───────────┬───────────┬───────────┐\n",
       "│ ANO_EGRESO ┆ codregion ┆ cod_comuna ┆ SEXO   ┆ … ┆ Descripci ┆ Categoría ┆ Sección   ┆ Capítulo  │\n",
       "│ ---        ┆ ---       ┆ ---        ┆ ---    ┆   ┆ ón        ┆ ---       ┆ ---       ┆ ---       │\n",
       "│ i64        ┆ i64       ┆ i64        ┆ str    ┆   ┆ ---       ┆ str       ┆ str       ┆ str       │\n",
       "│            ┆           ┆            ┆        ┆   ┆ str       ┆           ┆           ┆           │\n",
       "╞════════════╪═══════════╪════════════╪════════╪═══╪═══════════╪═══════════╪═══════════╪═══════════╡\n",
       "│ 2001       ┆ 13        ┆ 13118      ┆ Mujer  ┆ … ┆ Neumonía, ┆ J18       ┆ J09-J18   ┆ Cap.10    │\n",
       "│            ┆           ┆            ┆        ┆   ┆ no especi ┆ NEUMONÍA, ┆ GRIPE Y   ┆ ENFERMEDA │\n",
       "│            ┆           ┆            ┆        ┆   ┆ ficada    ┆ ORGANISMO ┆ NEUMONÍA  ┆ DES DEL   │\n",
       "│            ┆           ┆            ┆        ┆   ┆           ┆ NO ESPEC… ┆           ┆ APARATO…  │\n",
       "│ 2001       ┆ 13        ┆ 13101      ┆ Hombre ┆ … ┆ Derrame   ┆ J90       ┆ J90-J94   ┆ Cap.10    │\n",
       "│            ┆           ┆            ┆        ┆   ┆ pleural   ┆ DERRAME   ┆ OTRAS ENF ┆ ENFERMEDA │\n",
       "│            ┆           ┆            ┆        ┆   ┆ no clasif ┆ PLEURAL   ┆ ERMEDADES ┆ DES DEL   │\n",
       "│            ┆           ┆            ┆        ┆   ┆ icado e…  ┆ NO CLASIF ┆ DE L…     ┆ APARATO…  │\n",
       "│            ┆           ┆            ┆        ┆   ┆           ┆ ICA…      ┆           ┆           │\n",
       "│ 2001       ┆ 13        ┆ 13105      ┆ Mujer  ┆ … ┆ Insuficie ┆ I50 INSUF ┆ I30-I52   ┆ Cap.09    │\n",
       "│            ┆           ┆            ┆        ┆   ┆ ncia      ┆ ICIENCIA  ┆ OTRAS     ┆ ENFERMEDA │\n",
       "│            ┆           ┆            ┆        ┆   ┆ cardíaca, ┆ CARDÍACA  ┆ FORMAS DE ┆ DES DEL   │\n",
       "│            ┆           ┆            ┆        ┆   ┆ no espec… ┆           ┆ ENFERME…  ┆ APARATO…  │\n",
       "│ 2001       ┆ 13        ┆ 13123      ┆ Hombre ┆ … ┆ Enfermeda ┆ J44 OTRAS ┆ J40-J47   ┆ Cap.10    │\n",
       "│            ┆           ┆            ┆        ┆   ┆ d         ┆ ENFERMEDA ┆ ENFERMEDA ┆ ENFERMEDA │\n",
       "│            ┆           ┆            ┆        ┆   ┆ pulmonar  ┆ DES PULMO ┆ DES       ┆ DES DEL   │\n",
       "│            ┆           ┆            ┆        ┆   ┆ obstructi ┆ NARE…     ┆ CRÓNICAS  ┆ APARATO…  │\n",
       "│            ┆           ┆            ┆        ┆   ┆ va …      ┆           ┆ D…        ┆           │\n",
       "│ 2001       ┆ 13        ┆ 13123      ┆ Mujer  ┆ … ┆ Apnea del ┆ G47 TRAST ┆ G40-G47   ┆ Cap.06    │\n",
       "│            ┆           ┆            ┆        ┆   ┆ sueño     ┆ ORNOS DEL ┆ TRASTORNO ┆ ENFERMEDA │\n",
       "│            ┆           ┆            ┆        ┆   ┆           ┆ SUEÑO     ┆ S EPISÓDI ┆ DES DEL   │\n",
       "│            ┆           ┆            ┆        ┆   ┆           ┆           ┆ COS Y…    ┆ SISTEMA…  │\n",
       "└────────────┴───────────┴────────────┴────────┴───┴───────────┴───────────┴───────────┴───────────┘"
      ]
     },
     "metadata": {},
     "output_type": "display_data"
    }
   ],
   "source": [
    "display(desglose_sociodemografico_cie.head())"
   ]
  },
  {
   "cell_type": "markdown",
   "metadata": {},
   "source": [
    "En los resultados se indica el perfil sociodemográfico para cada combinación de variable presente\n",
    "en la base de datos. A modo de ejemplo, hubo 1 ocurrencia en el 2001 de una paciente de la Región\n",
    "número 13 y Comuna 13605 que tenía entre 70 a 80 años que tenía PREVISION FONASA Letra B diagnosticada\n",
    "con el diagnóstico K810.\n",
    "\n",
    "Uno de los diagnósticos de interés para el Instituto es el de código \"C341\"."
   ]
  },
  {
   "cell_type": "code",
   "execution_count": 8,
   "metadata": {},
   "outputs": [
    {
     "data": {
      "text/html": [
       "<div><style>\n",
       ".dataframe > thead > tr > th,\n",
       ".dataframe > tbody > tr > td {\n",
       "  text-align: right;\n",
       "  white-space: pre-wrap;\n",
       "}\n",
       "</style>\n",
       "<small>shape: (1_247, 15)</small><table border=\"1\" class=\"dataframe\"><thead><tr><th>ANO_EGRESO</th><th>codregion</th><th>cod_comuna</th><th>SEXO</th><th>EDAD_CATEGORIA</th><th>PREVISION</th><th>BENEFICIARIO</th><th>DIAG1</th><th>count</th><th>Nombre Comuna</th><th>Nombre Región</th><th>Descripción</th><th>Categoría</th><th>Sección</th><th>Capítulo</th></tr><tr><td>i64</td><td>i64</td><td>i64</td><td>str</td><td>str</td><td>str</td><td>str</td><td>str</td><td>u32</td><td>str</td><td>str</td><td>str</td><td>str</td><td>str</td><td>str</td></tr></thead><tbody><tr><td>2001</td><td>8</td><td>8101</td><td>&quot;Hombre&quot;</td><td>&quot;(60, 70]&quot;</td><td>&quot;Desconocido&quot;</td><td>null</td><td>&quot;C341&quot;</td><td>1</td><td>&quot;Concepción&quot;</td><td>&quot;del Biobío&quot;</td><td>&quot;Tumor maligno …</td><td>&quot;C34 TUMOR MALI…</td><td>&quot;C30-C39  NEOPL…</td><td>&quot;Cap.02  NEOPLA…</td></tr><tr><td>2001</td><td>3</td><td>3101</td><td>&quot;Hombre&quot;</td><td>&quot;(60, 70]&quot;</td><td>&quot;Fonasa&quot;</td><td>&quot;C&quot;</td><td>&quot;C341&quot;</td><td>1</td><td>&quot;Copiapo&quot;</td><td>&quot;de Atacama&quot;</td><td>&quot;Tumor maligno …</td><td>&quot;C34 TUMOR MALI…</td><td>&quot;C30-C39  NEOPL…</td><td>&quot;Cap.02  NEOPLA…</td></tr><tr><td>2001</td><td>13</td><td>13128</td><td>&quot;Mujer&quot;</td><td>&quot;(60, 70]&quot;</td><td>&quot;Fonasa&quot;</td><td>&quot;B&quot;</td><td>&quot;C341&quot;</td><td>1</td><td>&quot;Renca&quot;</td><td>&quot;Metropolitana …</td><td>&quot;Tumor maligno …</td><td>&quot;C34 TUMOR MALI…</td><td>&quot;C30-C39  NEOPL…</td><td>&quot;Cap.02  NEOPLA…</td></tr><tr><td>2001</td><td>13</td><td>13101</td><td>&quot;Hombre&quot;</td><td>&quot;(50, 60]&quot;</td><td>&quot;Fonasa&quot;</td><td>&quot;A&quot;</td><td>&quot;C341&quot;</td><td>1</td><td>&quot;Santiago&quot;</td><td>&quot;Metropolitana …</td><td>&quot;Tumor maligno …</td><td>&quot;C34 TUMOR MALI…</td><td>&quot;C30-C39  NEOPL…</td><td>&quot;Cap.02  NEOPLA…</td></tr><tr><td>2001</td><td>13</td><td>13113</td><td>&quot;Mujer&quot;</td><td>&quot;(60, 70]&quot;</td><td>&quot;Fonasa&quot;</td><td>&quot;B&quot;</td><td>&quot;C341&quot;</td><td>1</td><td>&quot;La Reina&quot;</td><td>&quot;Metropolitana …</td><td>&quot;Tumor maligno …</td><td>&quot;C34 TUMOR MALI…</td><td>&quot;C30-C39  NEOPL…</td><td>&quot;Cap.02  NEOPLA…</td></tr><tr><td>2001</td><td>3</td><td>3102</td><td>&quot;Hombre&quot;</td><td>&quot;(50, 60]&quot;</td><td>&quot;Fonasa&quot;</td><td>&quot;A&quot;</td><td>&quot;C341&quot;</td><td>1</td><td>&quot;Caldera&quot;</td><td>&quot;de Atacama&quot;</td><td>&quot;Tumor maligno …</td><td>&quot;C34 TUMOR MALI…</td><td>&quot;C30-C39  NEOPL…</td><td>&quot;Cap.02  NEOPLA…</td></tr><tr><td>2001</td><td>13</td><td>13106</td><td>&quot;Mujer&quot;</td><td>&quot;(60, 70]&quot;</td><td>&quot;Fonasa&quot;</td><td>&quot;B&quot;</td><td>&quot;C341&quot;</td><td>1</td><td>&quot;Estación Centr…</td><td>&quot;Metropolitana …</td><td>&quot;Tumor maligno …</td><td>&quot;C34 TUMOR MALI…</td><td>&quot;C30-C39  NEOPL…</td><td>&quot;Cap.02  NEOPLA…</td></tr><tr><td>2003</td><td>6</td><td>6101</td><td>&quot;Hombre&quot;</td><td>&quot;(50, 60]&quot;</td><td>&quot;Fonasa&quot;</td><td>&quot;A&quot;</td><td>&quot;C341&quot;</td><td>1</td><td>&quot;Rancagua&quot;</td><td>&quot;del Libertador…</td><td>&quot;Tumor maligno …</td><td>&quot;C34 TUMOR MALI…</td><td>&quot;C30-C39  NEOPL…</td><td>&quot;Cap.02  NEOPLA…</td></tr><tr><td>2003</td><td>13</td><td>13110</td><td>&quot;Mujer&quot;</td><td>&quot;(50, 60]&quot;</td><td>&quot;Fonasa&quot;</td><td>&quot;B&quot;</td><td>&quot;C341&quot;</td><td>1</td><td>&quot;La Florida&quot;</td><td>&quot;Metropolitana …</td><td>&quot;Tumor maligno …</td><td>&quot;C34 TUMOR MALI…</td><td>&quot;C30-C39  NEOPL…</td><td>&quot;Cap.02  NEOPLA…</td></tr><tr><td>2005</td><td>13</td><td>13122</td><td>&quot;Hombre&quot;</td><td>&quot;(60, 70]&quot;</td><td>&quot;Fonasa&quot;</td><td>&quot;B&quot;</td><td>&quot;C341&quot;</td><td>1</td><td>&quot;Peñalolén&quot;</td><td>&quot;Metropolitana …</td><td>&quot;Tumor maligno …</td><td>&quot;C34 TUMOR MALI…</td><td>&quot;C30-C39  NEOPL…</td><td>&quot;Cap.02  NEOPLA…</td></tr><tr><td>2005</td><td>13</td><td>13119</td><td>&quot;Hombre&quot;</td><td>&quot;(60, 70]&quot;</td><td>&quot;Fonasa&quot;</td><td>&quot;C&quot;</td><td>&quot;C341&quot;</td><td>1</td><td>&quot;Maipu&quot;</td><td>&quot;Metropolitana …</td><td>&quot;Tumor maligno …</td><td>&quot;C34 TUMOR MALI…</td><td>&quot;C30-C39  NEOPL…</td><td>&quot;Cap.02  NEOPLA…</td></tr><tr><td>2006</td><td>13</td><td>13117</td><td>&quot;Hombre&quot;</td><td>&quot;(60, 70]&quot;</td><td>&quot;Fonasa&quot;</td><td>&quot;B&quot;</td><td>&quot;C341&quot;</td><td>1</td><td>&quot;Lo Prado&quot;</td><td>&quot;Metropolitana …</td><td>&quot;Tumor maligno …</td><td>&quot;C34 TUMOR MALI…</td><td>&quot;C30-C39  NEOPL…</td><td>&quot;Cap.02  NEOPLA…</td></tr><tr><td>&hellip;</td><td>&hellip;</td><td>&hellip;</td><td>&hellip;</td><td>&hellip;</td><td>&hellip;</td><td>&hellip;</td><td>&hellip;</td><td>&hellip;</td><td>&hellip;</td><td>&hellip;</td><td>&hellip;</td><td>&hellip;</td><td>&hellip;</td><td>&hellip;</td></tr><tr><td>2020</td><td>11</td><td>11101</td><td>&quot;Mujer&quot;</td><td>&quot;(60, 70]&quot;</td><td>&quot;Fonasa&quot;</td><td>&quot;B&quot;</td><td>&quot;C341&quot;</td><td>2</td><td>&quot;Coihaique&quot;</td><td>&quot;de Aisén del G…</td><td>&quot;Tumor maligno …</td><td>&quot;C34 TUMOR MALI…</td><td>&quot;C30-C39  NEOPL…</td><td>&quot;Cap.02  NEOPLA…</td></tr><tr><td>2020</td><td>13</td><td>13128</td><td>&quot;Hombre&quot;</td><td>&quot;(60, 70]&quot;</td><td>&quot;Fonasa&quot;</td><td>&quot;B&quot;</td><td>&quot;C341&quot;</td><td>1</td><td>&quot;Renca&quot;</td><td>&quot;Metropolitana …</td><td>&quot;Tumor maligno …</td><td>&quot;C34 TUMOR MALI…</td><td>&quot;C30-C39  NEOPL…</td><td>&quot;Cap.02  NEOPLA…</td></tr><tr><td>2020</td><td>13</td><td>13106</td><td>&quot;Mujer&quot;</td><td>&quot;(70, 80]&quot;</td><td>&quot;Fonasa&quot;</td><td>&quot;B&quot;</td><td>&quot;C341&quot;</td><td>1</td><td>&quot;Estación Centr…</td><td>&quot;Metropolitana …</td><td>&quot;Tumor maligno …</td><td>&quot;C34 TUMOR MALI…</td><td>&quot;C30-C39  NEOPL…</td><td>&quot;Cap.02  NEOPLA…</td></tr><tr><td>2020</td><td>13</td><td>13120</td><td>&quot;Hombre&quot;</td><td>&quot;(60, 70]&quot;</td><td>&quot;Fonasa&quot;</td><td>&quot;B&quot;</td><td>&quot;C341&quot;</td><td>1</td><td>&quot;Ñuñoa&quot;</td><td>&quot;Metropolitana …</td><td>&quot;Tumor maligno …</td><td>&quot;C34 TUMOR MALI…</td><td>&quot;C30-C39  NEOPL…</td><td>&quot;Cap.02  NEOPLA…</td></tr><tr><td>2020</td><td>13</td><td>13106</td><td>&quot;Mujer&quot;</td><td>&quot;(70, 80]&quot;</td><td>&quot;Fonasa&quot;</td><td>&quot;A&quot;</td><td>&quot;C341&quot;</td><td>1</td><td>&quot;Estación Centr…</td><td>&quot;Metropolitana …</td><td>&quot;Tumor maligno …</td><td>&quot;C34 TUMOR MALI…</td><td>&quot;C30-C39  NEOPL…</td><td>&quot;Cap.02  NEOPLA…</td></tr><tr><td>2020</td><td>11</td><td>11101</td><td>&quot;Hombre&quot;</td><td>&quot;(70, 80]&quot;</td><td>&quot;Fonasa&quot;</td><td>&quot;B&quot;</td><td>&quot;C341&quot;</td><td>1</td><td>&quot;Coihaique&quot;</td><td>&quot;de Aisén del G…</td><td>&quot;Tumor maligno …</td><td>&quot;C34 TUMOR MALI…</td><td>&quot;C30-C39  NEOPL…</td><td>&quot;Cap.02  NEOPLA…</td></tr><tr><td>2020</td><td>13</td><td>13113</td><td>&quot;Hombre&quot;</td><td>&quot;(50, 60]&quot;</td><td>&quot;Fonasa&quot;</td><td>&quot;A&quot;</td><td>&quot;C341&quot;</td><td>1</td><td>&quot;La Reina&quot;</td><td>&quot;Metropolitana …</td><td>&quot;Tumor maligno …</td><td>&quot;C34 TUMOR MALI…</td><td>&quot;C30-C39  NEOPL…</td><td>&quot;Cap.02  NEOPLA…</td></tr><tr><td>2020</td><td>5</td><td>5705</td><td>&quot;Mujer&quot;</td><td>&quot;(50, 60]&quot;</td><td>&quot;Fonasa&quot;</td><td>&quot;B&quot;</td><td>&quot;C341&quot;</td><td>2</td><td>&quot;Putaendo&quot;</td><td>&quot;de Valparaíso&quot;</td><td>&quot;Tumor maligno …</td><td>&quot;C34 TUMOR MALI…</td><td>&quot;C30-C39  NEOPL…</td><td>&quot;Cap.02  NEOPLA…</td></tr><tr><td>2020</td><td>13</td><td>13132</td><td>&quot;Mujer&quot;</td><td>&quot;(60, 70]&quot;</td><td>&quot;Fonasa&quot;</td><td>&quot;A&quot;</td><td>&quot;C341&quot;</td><td>1</td><td>&quot;Vitacura&quot;</td><td>&quot;Metropolitana …</td><td>&quot;Tumor maligno …</td><td>&quot;C34 TUMOR MALI…</td><td>&quot;C30-C39  NEOPL…</td><td>&quot;Cap.02  NEOPLA…</td></tr><tr><td>2020</td><td>6</td><td>6309</td><td>&quot;Mujer&quot;</td><td>&quot;(50, 60]&quot;</td><td>&quot;Fonasa&quot;</td><td>&quot;B&quot;</td><td>&quot;C341&quot;</td><td>1</td><td>&quot;Pumanque&quot;</td><td>&quot;del Libertador…</td><td>&quot;Tumor maligno …</td><td>&quot;C34 TUMOR MALI…</td><td>&quot;C30-C39  NEOPL…</td><td>&quot;Cap.02  NEOPLA…</td></tr><tr><td>2020</td><td>13</td><td>13120</td><td>&quot;Hombre&quot;</td><td>&quot;(60, 70]&quot;</td><td>&quot;Desconocido&quot;</td><td>null</td><td>&quot;C341&quot;</td><td>2</td><td>&quot;Ñuñoa&quot;</td><td>&quot;Metropolitana …</td><td>&quot;Tumor maligno …</td><td>&quot;C34 TUMOR MALI…</td><td>&quot;C30-C39  NEOPL…</td><td>&quot;Cap.02  NEOPLA…</td></tr><tr><td>2020</td><td>13</td><td>13122</td><td>&quot;Mujer&quot;</td><td>&quot;(60, 70]&quot;</td><td>&quot;Fonasa&quot;</td><td>&quot;B&quot;</td><td>&quot;C341&quot;</td><td>2</td><td>&quot;Peñalolén&quot;</td><td>&quot;Metropolitana …</td><td>&quot;Tumor maligno …</td><td>&quot;C34 TUMOR MALI…</td><td>&quot;C30-C39  NEOPL…</td><td>&quot;Cap.02  NEOPLA…</td></tr></tbody></table></div>"
      ],
      "text/plain": [
       "shape: (1_247, 15)\n",
       "┌────────────┬───────────┬────────────┬────────┬───┬───────────┬───────────┬───────────┬───────────┐\n",
       "│ ANO_EGRESO ┆ codregion ┆ cod_comuna ┆ SEXO   ┆ … ┆ Descripci ┆ Categoría ┆ Sección   ┆ Capítulo  │\n",
       "│ ---        ┆ ---       ┆ ---        ┆ ---    ┆   ┆ ón        ┆ ---       ┆ ---       ┆ ---       │\n",
       "│ i64        ┆ i64       ┆ i64        ┆ str    ┆   ┆ ---       ┆ str       ┆ str       ┆ str       │\n",
       "│            ┆           ┆            ┆        ┆   ┆ str       ┆           ┆           ┆           │\n",
       "╞════════════╪═══════════╪════════════╪════════╪═══╪═══════════╪═══════════╪═══════════╪═══════════╡\n",
       "│ 2001       ┆ 8         ┆ 8101       ┆ Hombre ┆ … ┆ Tumor     ┆ C34 TUMOR ┆ C30-C39   ┆ Cap.02    │\n",
       "│            ┆           ┆            ┆        ┆   ┆ maligno   ┆ MALIGNO   ┆ NEOPLASIA ┆ NEOPLASIA │\n",
       "│            ┆           ┆            ┆        ┆   ┆ del       ┆ DE LOS    ┆ S         ┆ S         │\n",
       "│            ┆           ┆            ┆        ┆   ┆ lóbulo    ┆ BRONQUI…  ┆ MALIGNAS  ┆ (C00-D49) │\n",
       "│            ┆           ┆            ┆        ┆   ┆ superio…  ┆           ┆ DE …      ┆           │\n",
       "│ 2001       ┆ 3         ┆ 3101       ┆ Hombre ┆ … ┆ Tumor     ┆ C34 TUMOR ┆ C30-C39   ┆ Cap.02    │\n",
       "│            ┆           ┆            ┆        ┆   ┆ maligno   ┆ MALIGNO   ┆ NEOPLASIA ┆ NEOPLASIA │\n",
       "│            ┆           ┆            ┆        ┆   ┆ del       ┆ DE LOS    ┆ S         ┆ S         │\n",
       "│            ┆           ┆            ┆        ┆   ┆ lóbulo    ┆ BRONQUI…  ┆ MALIGNAS  ┆ (C00-D49) │\n",
       "│            ┆           ┆            ┆        ┆   ┆ superio…  ┆           ┆ DE …      ┆           │\n",
       "│ 2001       ┆ 13        ┆ 13128      ┆ Mujer  ┆ … ┆ Tumor     ┆ C34 TUMOR ┆ C30-C39   ┆ Cap.02    │\n",
       "│            ┆           ┆            ┆        ┆   ┆ maligno   ┆ MALIGNO   ┆ NEOPLASIA ┆ NEOPLASIA │\n",
       "│            ┆           ┆            ┆        ┆   ┆ del       ┆ DE LOS    ┆ S         ┆ S         │\n",
       "│            ┆           ┆            ┆        ┆   ┆ lóbulo    ┆ BRONQUI…  ┆ MALIGNAS  ┆ (C00-D49) │\n",
       "│            ┆           ┆            ┆        ┆   ┆ superio…  ┆           ┆ DE …      ┆           │\n",
       "│ 2001       ┆ 13        ┆ 13101      ┆ Hombre ┆ … ┆ Tumor     ┆ C34 TUMOR ┆ C30-C39   ┆ Cap.02    │\n",
       "│            ┆           ┆            ┆        ┆   ┆ maligno   ┆ MALIGNO   ┆ NEOPLASIA ┆ NEOPLASIA │\n",
       "│            ┆           ┆            ┆        ┆   ┆ del       ┆ DE LOS    ┆ S         ┆ S         │\n",
       "│            ┆           ┆            ┆        ┆   ┆ lóbulo    ┆ BRONQUI…  ┆ MALIGNAS  ┆ (C00-D49) │\n",
       "│            ┆           ┆            ┆        ┆   ┆ superio…  ┆           ┆ DE …      ┆           │\n",
       "│ …          ┆ …         ┆ …          ┆ …      ┆ … ┆ …         ┆ …         ┆ …         ┆ …         │\n",
       "│ 2020       ┆ 13        ┆ 13132      ┆ Mujer  ┆ … ┆ Tumor     ┆ C34 TUMOR ┆ C30-C39   ┆ Cap.02    │\n",
       "│            ┆           ┆            ┆        ┆   ┆ maligno   ┆ MALIGNO   ┆ NEOPLASIA ┆ NEOPLASIA │\n",
       "│            ┆           ┆            ┆        ┆   ┆ del       ┆ DE LOS    ┆ S         ┆ S         │\n",
       "│            ┆           ┆            ┆        ┆   ┆ lóbulo    ┆ BRONQUI…  ┆ MALIGNAS  ┆ (C00-D49) │\n",
       "│            ┆           ┆            ┆        ┆   ┆ superio…  ┆           ┆ DE …      ┆           │\n",
       "│ 2020       ┆ 6         ┆ 6309       ┆ Mujer  ┆ … ┆ Tumor     ┆ C34 TUMOR ┆ C30-C39   ┆ Cap.02    │\n",
       "│            ┆           ┆            ┆        ┆   ┆ maligno   ┆ MALIGNO   ┆ NEOPLASIA ┆ NEOPLASIA │\n",
       "│            ┆           ┆            ┆        ┆   ┆ del       ┆ DE LOS    ┆ S         ┆ S         │\n",
       "│            ┆           ┆            ┆        ┆   ┆ lóbulo    ┆ BRONQUI…  ┆ MALIGNAS  ┆ (C00-D49) │\n",
       "│            ┆           ┆            ┆        ┆   ┆ superio…  ┆           ┆ DE …      ┆           │\n",
       "│ 2020       ┆ 13        ┆ 13120      ┆ Hombre ┆ … ┆ Tumor     ┆ C34 TUMOR ┆ C30-C39   ┆ Cap.02    │\n",
       "│            ┆           ┆            ┆        ┆   ┆ maligno   ┆ MALIGNO   ┆ NEOPLASIA ┆ NEOPLASIA │\n",
       "│            ┆           ┆            ┆        ┆   ┆ del       ┆ DE LOS    ┆ S         ┆ S         │\n",
       "│            ┆           ┆            ┆        ┆   ┆ lóbulo    ┆ BRONQUI…  ┆ MALIGNAS  ┆ (C00-D49) │\n",
       "│            ┆           ┆            ┆        ┆   ┆ superio…  ┆           ┆ DE …      ┆           │\n",
       "│ 2020       ┆ 13        ┆ 13122      ┆ Mujer  ┆ … ┆ Tumor     ┆ C34 TUMOR ┆ C30-C39   ┆ Cap.02    │\n",
       "│            ┆           ┆            ┆        ┆   ┆ maligno   ┆ MALIGNO   ┆ NEOPLASIA ┆ NEOPLASIA │\n",
       "│            ┆           ┆            ┆        ┆   ┆ del       ┆ DE LOS    ┆ S         ┆ S         │\n",
       "│            ┆           ┆            ┆        ┆   ┆ lóbulo    ┆ BRONQUI…  ┆ MALIGNAS  ┆ (C00-D49) │\n",
       "│            ┆           ┆            ┆        ┆   ┆ superio…  ┆           ┆ DE …      ┆           │\n",
       "└────────────┴───────────┴────────────┴────────┴───┴───────────┴───────────┴───────────┴───────────┘"
      ]
     },
     "metadata": {},
     "output_type": "display_data"
    },
    {
     "name": "stdout",
     "output_type": "stream",
     "text": [
      "shape: (1, 1)\n",
      "┌───────┐\n",
      "│ count │\n",
      "│ ---   │\n",
      "│ u32   │\n",
      "╞═══════╡\n",
      "│ 1709  │\n",
      "└───────┘\n"
     ]
    }
   ],
   "source": [
    "display(desglose_sociodemografico_cie.filter(pl.col(\"DIAG1\") == \"C341\"))\n",
    "print(desglose_sociodemografico_cie.filter(pl.col(\"DIAG1\") == \"C341\").select(pl.col(\"count\").sum()))"
   ]
  },
  {
   "cell_type": "markdown",
   "metadata": {},
   "source": [
    "Por lo tanto, se muestra cada desglose sociodemográfico de los pacientes atendidos. Además,\n",
    "se indica que la suma de cada conteo de grupo suma 1709 entre 2001 y 2020. Esto está en concordancia\n",
    "con los egresos totales (1709) para el diagnóstico mencionado en el periodo mencionado."
   ]
  },
  {
   "cell_type": "code",
   "execution_count": 9,
   "metadata": {},
   "outputs": [
    {
     "data": {
      "text/html": [
       "<div><style>\n",
       ".dataframe > thead > tr > th,\n",
       ".dataframe > tbody > tr > td {\n",
       "  text-align: right;\n",
       "  white-space: pre-wrap;\n",
       "}\n",
       "</style>\n",
       "<small>shape: (1, 15)</small><table border=\"1\" class=\"dataframe\"><thead><tr><th>ANO_EGRESO</th><th>codregion</th><th>cod_comuna</th><th>SEXO</th><th>EDAD_CATEGORIA</th><th>PREVISION</th><th>BENEFICIARIO</th><th>DIAG1</th><th>count</th><th>Nombre Comuna</th><th>Nombre Región</th><th>Descripción</th><th>Categoría</th><th>Sección</th><th>Capítulo</th></tr><tr><td>u32</td><td>u32</td><td>u32</td><td>u32</td><td>u32</td><td>u32</td><td>u32</td><td>u32</td><td>u32</td><td>u32</td><td>u32</td><td>u32</td><td>u32</td><td>u32</td><td>u32</td></tr></thead><tbody><tr><td>0</td><td>0</td><td>0</td><td>0</td><td>0</td><td>0</td><td>3766</td><td>0</td><td>0</td><td>0</td><td>0</td><td>5</td><td>5</td><td>5</td><td>5</td></tr></tbody></table></div>"
      ],
      "text/plain": [
       "shape: (1, 15)\n",
       "┌────────────┬───────────┬────────────┬──────┬───┬─────────────┬───────────┬─────────┬──────────┐\n",
       "│ ANO_EGRESO ┆ codregion ┆ cod_comuna ┆ SEXO ┆ … ┆ Descripción ┆ Categoría ┆ Sección ┆ Capítulo │\n",
       "│ ---        ┆ ---       ┆ ---        ┆ ---  ┆   ┆ ---         ┆ ---       ┆ ---     ┆ ---      │\n",
       "│ u32        ┆ u32       ┆ u32        ┆ u32  ┆   ┆ u32         ┆ u32       ┆ u32     ┆ u32      │\n",
       "╞════════════╪═══════════╪════════════╪══════╪═══╪═════════════╪═══════════╪═════════╪══════════╡\n",
       "│ 0          ┆ 0         ┆ 0          ┆ 0    ┆ … ┆ 5           ┆ 5         ┆ 5       ┆ 5        │\n",
       "└────────────┴───────────┴────────────┴──────┴───┴─────────────┴───────────┴─────────┴──────────┘"
      ]
     },
     "metadata": {},
     "output_type": "display_data"
    }
   ],
   "source": [
    "display(desglose_sociodemografico_cie.null_count())"
   ]
  },
  {
   "cell_type": "markdown",
   "metadata": {},
   "source": [
    "Se muestra que la unión con los diccionarios CIE se realizó correctamente. Solamente 5 registros\n",
    "carecen de una información CIE sobre el diagnóstico. Por otro lado, todos los registros tienen\n",
    "información sobre la comuna y región."
   ]
  },
  {
   "cell_type": "code",
   "execution_count": 10,
   "metadata": {},
   "outputs": [],
   "source": [
    "desglose_sociodemografico_cie.write_csv(\n",
    "    \"../data/interim/sociodemografico/desglose_sociodemografico.csv\",\n",
    "    separator=\";\",\n",
    ")"
   ]
  }
 ],
 "metadata": {
  "kernelspec": {
   "display_name": "base",
   "language": "python",
   "name": "python3"
  },
  "language_info": {
   "codemirror_mode": {
    "name": "ipython",
    "version": 3
   },
   "file_extension": ".py",
   "mimetype": "text/x-python",
   "name": "python",
   "nbconvert_exporter": "python",
   "pygments_lexer": "ipython3",
   "version": "3.11.5"
  },
  "orig_nbformat": 4
 },
 "nbformat": 4,
 "nbformat_minor": 2
}
