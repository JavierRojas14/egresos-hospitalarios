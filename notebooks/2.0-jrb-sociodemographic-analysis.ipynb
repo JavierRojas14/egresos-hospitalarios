{
 "cells": [
  {
   "cell_type": "code",
   "execution_count": 56,
   "metadata": {},
   "outputs": [
    {
     "name": "stdout",
     "output_type": "stream",
     "text": [
      "The autoreload extension is already loaded. To reload it, use:\n",
      "  %reload_ext autoreload\n"
     ]
    }
   ],
   "source": [
    "import sys\n",
    "import os\n",
    "\n",
    "project_root = os.path.abspath('..')\n",
    "if project_root not in sys.path:\n",
    "    sys.path.append(project_root)\n",
    "\n",
    "%load_ext autoreload\n",
    "%autoreload 2\n"
   ]
  },
  {
   "cell_type": "code",
   "execution_count": 57,
   "metadata": {},
   "outputs": [],
   "source": [
    "import pandas as pd\n",
    "import numpy as np\n",
    "import polars as pl\n",
    "\n",
    "import matplotlib.pyplot as plt\n",
    "import seaborn as sns\n",
    "\n",
    "from src.data.make_dataset import DICT_VARIABLES\n",
    "from src.features import build_features\n",
    "\n",
    "sns.set_style()\n",
    "plt.rcParams[\"figure.figsize\"] = (12, 6)\n",
    "\n",
    "HOSPITAL_A_ANALIZAR = 112103  # Este es el Torax"
   ]
  },
  {
   "cell_type": "code",
   "execution_count": 71,
   "metadata": {},
   "outputs": [],
   "source": [
    "cie_9 = pl.read_excel(\n",
    "    \"../data/external/Esquema_Registro-2023.xlsx\",\n",
    "    sheet_name=\"Anexo 2\",\n",
    "    read_csv_options={\"skip_rows\": 5},\n",
    ")\n",
    "\n",
    "cie_10 = pl.read_excel(\"../data/external/CIE-10 - sin_puntos_y_X.xlsx\")"
   ]
  },
  {
   "cell_type": "code",
   "execution_count": 72,
   "metadata": {},
   "outputs": [
    {
     "data": {
      "text/html": [
       "<div><style>\n",
       ".dataframe > thead > tr > th,\n",
       ".dataframe > tbody > tr > td {\n",
       "  text-align: right;\n",
       "  white-space: pre-wrap;\n",
       "}\n",
       "</style>\n",
       "<small>shape: (39_874, 5)</small><table border=\"1\" class=\"dataframe\"><thead><tr><th>Código</th><th>Descripción</th><th>Categoría</th><th>Sección</th><th>Capítulo</th></tr><tr><td>str</td><td>str</td><td>str</td><td>str</td><td>str</td></tr></thead><tbody><tr><td>&quot;A00X&quot;</td><td>&quot;Cólera&quot;</td><td>&quot;A00 CÓLERA&quot;</td><td>&quot;A00-A09  ENFER…</td><td>&quot;Cap.01  CIERTA…</td></tr><tr><td>&quot;A000&quot;</td><td>&quot;Cólera debido …</td><td>&quot;A00 CÓLERA&quot;</td><td>&quot;A00-A09  ENFER…</td><td>&quot;Cap.01  CIERTA…</td></tr><tr><td>&quot;A001&quot;</td><td>&quot;Cólera debido …</td><td>&quot;A00 CÓLERA&quot;</td><td>&quot;A00-A09  ENFER…</td><td>&quot;Cap.01  CIERTA…</td></tr><tr><td>&quot;A009&quot;</td><td>&quot;Cólera, no esp…</td><td>&quot;A00 CÓLERA&quot;</td><td>&quot;A00-A09  ENFER…</td><td>&quot;Cap.01  CIERTA…</td></tr><tr><td>&quot;A01X&quot;</td><td>&quot;Fiebres tifoid…</td><td>&quot;A01 FIEBRES TI…</td><td>&quot;A00-A09  ENFER…</td><td>&quot;Cap.01  CIERTA…</td></tr><tr><td>&quot;A010&quot;</td><td>&quot;Fiebre tifoide…</td><td>&quot;A01 FIEBRES TI…</td><td>&quot;A00-A09  ENFER…</td><td>&quot;Cap.01  CIERTA…</td></tr><tr><td>&quot;A011&quot;</td><td>&quot;Fiebre paratif…</td><td>&quot;A01 FIEBRES TI…</td><td>&quot;A00-A09  ENFER…</td><td>&quot;Cap.01  CIERTA…</td></tr><tr><td>&quot;A012&quot;</td><td>&quot;Fiebre paratif…</td><td>&quot;A01 FIEBRES TI…</td><td>&quot;A00-A09  ENFER…</td><td>&quot;Cap.01  CIERTA…</td></tr><tr><td>&quot;A013&quot;</td><td>&quot;Fiebre paratif…</td><td>&quot;A01 FIEBRES TI…</td><td>&quot;A00-A09  ENFER…</td><td>&quot;Cap.01  CIERTA…</td></tr><tr><td>&quot;A014&quot;</td><td>&quot;Fiebre paratif…</td><td>&quot;A01 FIEBRES TI…</td><td>&quot;A00-A09  ENFER…</td><td>&quot;Cap.01  CIERTA…</td></tr><tr><td>&quot;A02X&quot;</td><td>&quot;Otras infeccio…</td><td>&quot;A02 OTRAS INFE…</td><td>&quot;A00-A09  ENFER…</td><td>&quot;Cap.01  CIERTA…</td></tr><tr><td>&quot;A020&quot;</td><td>&quot;Enteritis debi…</td><td>&quot;A02 OTRAS INFE…</td><td>&quot;A00-A09  ENFER…</td><td>&quot;Cap.01  CIERTA…</td></tr><tr><td>&hellip;</td><td>&hellip;</td><td>&hellip;</td><td>&hellip;</td><td>&hellip;</td></tr><tr><td>&quot;Z981&quot;</td><td>&quot;Estado de artr…</td><td>&quot;Z98 OTROS ESTA…</td><td>&quot;Z77-Z99  PERSO…</td><td>&quot;Cap.21  FACTOR…</td></tr><tr><td>&quot;Z982&quot;</td><td>&quot;Presencia de d…</td><td>&quot;Z98 OTROS ESTA…</td><td>&quot;Z77-Z99  PERSO…</td><td>&quot;Cap.21  FACTOR…</td></tr><tr><td>&quot;Z988&quot;</td><td>&quot;Otros estados …</td><td>&quot;Z98 OTROS ESTA…</td><td>&quot;Z77-Z99  PERSO…</td><td>&quot;Cap.21  FACTOR…</td></tr><tr><td>&quot;Z99X&quot;</td><td>&quot;Dependencia de…</td><td>&quot;Z99 DEPENDENCI…</td><td>&quot;Z77-Z99  PERSO…</td><td>&quot;Cap.21  FACTOR…</td></tr><tr><td>&quot;Z990&quot;</td><td>&quot;Dependencia de…</td><td>&quot;Z99 DEPENDENCI…</td><td>&quot;Z77-Z99  PERSO…</td><td>&quot;Cap.21  FACTOR…</td></tr><tr><td>&quot;Z991&quot;</td><td>&quot;Dependencia de…</td><td>&quot;Z99 DEPENDENCI…</td><td>&quot;Z77-Z99  PERSO…</td><td>&quot;Cap.21  FACTOR…</td></tr><tr><td>&quot;Z992&quot;</td><td>&quot;Dependencia de…</td><td>&quot;Z99 DEPENDENCI…</td><td>&quot;Z77-Z99  PERSO…</td><td>&quot;Cap.21  FACTOR…</td></tr><tr><td>&quot;Z993&quot;</td><td>&quot;Dependencia de…</td><td>&quot;Z99 DEPENDENCI…</td><td>&quot;Z77-Z99  PERSO…</td><td>&quot;Cap.21  FACTOR…</td></tr><tr><td>&quot;Z994&quot;</td><td>&quot;Dependencia de…</td><td>&quot;Z99 DEPENDENCI…</td><td>&quot;Z77-Z99  PERSO…</td><td>&quot;Cap.21  FACTOR…</td></tr><tr><td>&quot;Z998&quot;</td><td>&quot;Dependencia de…</td><td>&quot;Z99 DEPENDENCI…</td><td>&quot;Z77-Z99  PERSO…</td><td>&quot;Cap.21  FACTOR…</td></tr><tr><td>&quot;Z999&quot;</td><td>&quot;Dependencia de…</td><td>&quot;Z99 DEPENDENCI…</td><td>&quot;Z77-Z99  PERSO…</td><td>&quot;Cap.21  FACTOR…</td></tr><tr><td>&quot;XXXX&quot;</td><td>&quot;Sin especifica…</td><td>&quot;Sin especifica…</td><td>&quot;Sin especifica…</td><td>&quot;Sin especifica…</td></tr></tbody></table></div>"
      ],
      "text/plain": [
       "shape: (39_874, 5)\n",
       "┌────────┬──────────────────────┬──────────────────────┬─────────────────────┬─────────────────────┐\n",
       "│ Código ┆ Descripción          ┆ Categoría            ┆ Sección             ┆ Capítulo            │\n",
       "│ ---    ┆ ---                  ┆ ---                  ┆ ---                 ┆ ---                 │\n",
       "│ str    ┆ str                  ┆ str                  ┆ str                 ┆ str                 │\n",
       "╞════════╪══════════════════════╪══════════════════════╪═════════════════════╪═════════════════════╡\n",
       "│ A00X   ┆ Cólera               ┆ A00 CÓLERA           ┆ A00-A09             ┆ Cap.01  CIERTAS     │\n",
       "│        ┆                      ┆                      ┆ ENFERMEDADES        ┆ ENFERMEDADES INF…   │\n",
       "│        ┆                      ┆                      ┆ INFECCIOSA…         ┆                     │\n",
       "│ A000   ┆ Cólera debido a      ┆ A00 CÓLERA           ┆ A00-A09             ┆ Cap.01  CIERTAS     │\n",
       "│        ┆ Vibrio cholerae …    ┆                      ┆ ENFERMEDADES        ┆ ENFERMEDADES INF…   │\n",
       "│        ┆                      ┆                      ┆ INFECCIOSA…         ┆                     │\n",
       "│ A001   ┆ Cólera debido a      ┆ A00 CÓLERA           ┆ A00-A09             ┆ Cap.01  CIERTAS     │\n",
       "│        ┆ Vibrio cholerae …    ┆                      ┆ ENFERMEDADES        ┆ ENFERMEDADES INF…   │\n",
       "│        ┆                      ┆                      ┆ INFECCIOSA…         ┆                     │\n",
       "│ A009   ┆ Cólera, no           ┆ A00 CÓLERA           ┆ A00-A09             ┆ Cap.01  CIERTAS     │\n",
       "│        ┆ especificado         ┆                      ┆ ENFERMEDADES        ┆ ENFERMEDADES INF…   │\n",
       "│        ┆                      ┆                      ┆ INFECCIOSA…         ┆                     │\n",
       "│ …      ┆ …                    ┆ …                    ┆ …                   ┆ …                   │\n",
       "│ Z994   ┆ Dependencia de       ┆ Z99 DEPENDENCIA DE   ┆ Z77-Z99  PERSONAS   ┆ Cap.21  FACTORES    │\n",
       "│        ┆ corazón artificia…   ┆ MÁQUINAS Y DI…       ┆ CON RIESGOS PO…     ┆ QUE INFLUYEN EN…    │\n",
       "│ Z998   ┆ Dependencia de otras ┆ Z99 DEPENDENCIA DE   ┆ Z77-Z99  PERSONAS   ┆ Cap.21  FACTORES    │\n",
       "│        ┆ máquinas y …         ┆ MÁQUINAS Y DI…       ┆ CON RIESGOS PO…     ┆ QUE INFLUYEN EN…    │\n",
       "│ Z999   ┆ Dependencia de       ┆ Z99 DEPENDENCIA DE   ┆ Z77-Z99  PERSONAS   ┆ Cap.21  FACTORES    │\n",
       "│        ┆ máquina y disposi…   ┆ MÁQUINAS Y DI…       ┆ CON RIESGOS PO…     ┆ QUE INFLUYEN EN…    │\n",
       "│ XXXX   ┆ Sin especificar      ┆ Sin especificar      ┆ Sin especificar     ┆ Sin especificar     │\n",
       "└────────┴──────────────────────┴──────────────────────┴─────────────────────┴─────────────────────┘"
      ]
     },
     "execution_count": 72,
     "metadata": {},
     "output_type": "execute_result"
    }
   ],
   "source": [
    "cie_10"
   ]
  },
  {
   "cell_type": "markdown",
   "metadata": {},
   "source": [
    "## 1. Análisis Sociodemográfico de Pacientes Atendidos en el Hospital del Tórax\n",
    "\n",
    "En este cuadernillo se quiere ver el perfil sociodemográfico de los pacientes hospitalizados\n",
    "en el Hospital del Tórax. Se utilizará la base de datos pública de egresos hospitalarios DEIS\n",
    "entre 2001 y 2020. Las preguntas que se quieren responder son:\n",
    "\n",
    "- ¿Cómo es la distribución geográfica de los pacientes atendidos en el INT?\n",
    "- ¿Cuál es el rango etario más atendido en el INT?\n",
    "- ¿Cuál es el género más atendido en el INT?\n",
    "- ¿Cuál es la previsión más atendida en el INT?\n",
    "- ¿Cuál es la letra de FONASA más atendida en el INT?"
   ]
  },
  {
   "cell_type": "markdown",
   "metadata": {},
   "source": [
    "Para responder estas preguntas se realizará una agrupación de los datos con todas las variables\n",
    "sociodemográficas de interés para el análisis."
   ]
  },
  {
   "cell_type": "code",
   "execution_count": 59,
   "metadata": {},
   "outputs": [],
   "source": [
    "# Define todas las variables que se quieren saber\n",
    "\n",
    "VARIABLES_SOCIODEMOGRAFICAS_ESTATICAS = [\"ANO_EGRESO\", \"REGION_RESIDENCIA\", \"COMUNA_RESIDENCIA\"]\n",
    "VARIABLES_SOCIODEMOGRAFICAS_DINAMICAS = [\"SEXO\", \"EDAD_CATEGORIA\", \"PREVISION\", \"BENEFICIARIO\"]\n",
    "VARIABLE_A_CONTAR = \"DIAG1\"\n",
    "\n",
    "agrupacion_total = (\n",
    "    VARIABLES_SOCIODEMOGRAFICAS_ESTATICAS\n",
    "    + VARIABLES_SOCIODEMOGRAFICAS_DINAMICAS\n",
    "    + [VARIABLE_A_CONTAR]\n",
    ")"
   ]
  },
  {
   "cell_type": "markdown",
   "metadata": {},
   "source": [
    "Luego, se genera la consulta de la base de datos. Para reducir el coste computacional, se filtra\n",
    "la base de datos únicamente para los datos del INT. Posteriormente, se agrupa la base de datos\n",
    "con las variables sociodemográficas de interés y se cuenta la ocurrencia de cada grupo."
   ]
  },
  {
   "cell_type": "code",
   "execution_count": 73,
   "metadata": {},
   "outputs": [],
   "source": [
    "desglose_sociodemografico = (\n",
    "    pl.scan_csv(\"../data/processed/egresos_procesados.csv\")\n",
    "    .filter(pl.col(\"ESTABLECIMIENTO_SALUD\") == HOSPITAL_A_ANALIZAR)\n",
    "    .group_by(agrupacion_total)\n",
    "    .count()\n",
    "    .sort([\"ANO_EGRESO\"])\n",
    "    .collect(streaming=True)\n",
    ")"
   ]
  },
  {
   "cell_type": "code",
   "execution_count": 74,
   "metadata": {},
   "outputs": [],
   "source": [
    "desglose_sociodemografico_cie = (\n",
    "    desglose_sociodemografico.join(\n",
    "        cie_9, how=\"left\", left_on=\"COMUNA_RESIDENCIA\", right_on=\"Código Comuna\"\n",
    "    )\n",
    "    .with_columns(pl.col([\"PREVISION\", \"Nombre Comuna\"]).str.to_titlecase())\n",
    "    .drop(\"Código Región\")\n",
    ")\n",
    "\n",
    "desglose_sociodemografico_cie = desglose_sociodemografico_cie.join(\n",
    "    cie_10, how=\"left\", left_on=\"DIAG1\", right_on=\"Código\"\n",
    ")"
   ]
  },
  {
   "cell_type": "code",
   "execution_count": 76,
   "metadata": {},
   "outputs": [
    {
     "data": {
      "text/html": [
       "<div><style>\n",
       ".dataframe > thead > tr > th,\n",
       ".dataframe > tbody > tr > td {\n",
       "  text-align: right;\n",
       "  white-space: pre-wrap;\n",
       "}\n",
       "</style>\n",
       "<small>shape: (5, 15)</small><table border=\"1\" class=\"dataframe\"><thead><tr><th>ANO_EGRESO</th><th>REGION_RESIDENCIA</th><th>COMUNA_RESIDENCIA</th><th>SEXO</th><th>EDAD_CATEGORIA</th><th>PREVISION</th><th>BENEFICIARIO</th><th>DIAG1</th><th>count</th><th>Nombre Comuna</th><th>Nombre Región</th><th>Descripción</th><th>Categoría</th><th>Sección</th><th>Capítulo</th></tr><tr><td>i64</td><td>i64</td><td>i64</td><td>str</td><td>str</td><td>str</td><td>str</td><td>str</td><td>u32</td><td>str</td><td>str</td><td>str</td><td>str</td><td>str</td><td>str</td></tr></thead><tbody><tr><td>2001</td><td>13</td><td>13201</td><td>&quot;Mujer&quot;</td><td>&quot;(60, 70]&quot;</td><td>&quot;Fonasa&quot;</td><td>&quot;B&quot;</td><td>&quot;J449&quot;</td><td>1</td><td>&quot;Puente Alto&quot;</td><td>&quot;Metropolitana …</td><td>&quot;Enfermedad pul…</td><td>&quot;J44 OTRAS ENFE…</td><td>&quot;J40-J47  ENFER…</td><td>&quot;Cap.10  ENFERM…</td></tr><tr><td>2001</td><td>13</td><td>13129</td><td>&quot;Mujer&quot;</td><td>&quot;(70, 80]&quot;</td><td>&quot;Fonasa&quot;</td><td>&quot;A&quot;</td><td>&quot;J459&quot;</td><td>1</td><td>&quot;San Joaquín&quot;</td><td>&quot;Metropolitana …</td><td>&quot;Asma, no espec…</td><td>&quot;J45 ASMA&quot;</td><td>&quot;J40-J47  ENFER…</td><td>&quot;Cap.10  ENFERM…</td></tr><tr><td>2001</td><td>13</td><td>13114</td><td>&quot;Mujer&quot;</td><td>&quot;(80, 90]&quot;</td><td>&quot;Fonasa&quot;</td><td>&quot;B&quot;</td><td>&quot;J449&quot;</td><td>2</td><td>&quot;Las Condes&quot;</td><td>&quot;Metropolitana …</td><td>&quot;Enfermedad pul…</td><td>&quot;J44 OTRAS ENFE…</td><td>&quot;J40-J47  ENFER…</td><td>&quot;Cap.10  ENFERM…</td></tr><tr><td>2001</td><td>13</td><td>13127</td><td>&quot;Mujer&quot;</td><td>&quot;(50, 60]&quot;</td><td>&quot;Fonasa&quot;</td><td>&quot;A&quot;</td><td>&quot;Z136&quot;</td><td>1</td><td>&quot;Recoleta&quot;</td><td>&quot;Metropolitana …</td><td>&quot;Examen de pesq…</td><td>&quot;Z13 EXAMEN DE …</td><td>&quot;Z00-Z13  PERSO…</td><td>&quot;Cap.21  FACTOR…</td></tr><tr><td>2001</td><td>13</td><td>13123</td><td>&quot;Hombre&quot;</td><td>&quot;(60, 70]&quot;</td><td>&quot;Fonasa&quot;</td><td>&quot;A&quot;</td><td>&quot;J189&quot;</td><td>1</td><td>&quot;Providencia&quot;</td><td>&quot;Metropolitana …</td><td>&quot;Neumonía, no e…</td><td>&quot;J18 NEUMONÍA, …</td><td>&quot;J09-J18  GRIPE…</td><td>&quot;Cap.10  ENFERM…</td></tr></tbody></table></div>"
      ],
      "text/plain": [
       "shape: (5, 15)\n",
       "┌────────────┬────────────┬───────────┬────────┬───┬───────────┬───────────┬───────────┬───────────┐\n",
       "│ ANO_EGRESO ┆ REGION_RES ┆ COMUNA_RE ┆ SEXO   ┆ … ┆ Descripci ┆ Categoría ┆ Sección   ┆ Capítulo  │\n",
       "│ ---        ┆ IDENCIA    ┆ SIDENCIA  ┆ ---    ┆   ┆ ón        ┆ ---       ┆ ---       ┆ ---       │\n",
       "│ i64        ┆ ---        ┆ ---       ┆ str    ┆   ┆ ---       ┆ str       ┆ str       ┆ str       │\n",
       "│            ┆ i64        ┆ i64       ┆        ┆   ┆ str       ┆           ┆           ┆           │\n",
       "╞════════════╪════════════╪═══════════╪════════╪═══╪═══════════╪═══════════╪═══════════╪═══════════╡\n",
       "│ 2001       ┆ 13         ┆ 13201     ┆ Mujer  ┆ … ┆ Enfermeda ┆ J44 OTRAS ┆ J40-J47   ┆ Cap.10    │\n",
       "│            ┆            ┆           ┆        ┆   ┆ d         ┆ ENFERMEDA ┆ ENFERMEDA ┆ ENFERMEDA │\n",
       "│            ┆            ┆           ┆        ┆   ┆ pulmonar  ┆ DES PULMO ┆ DES       ┆ DES DEL   │\n",
       "│            ┆            ┆           ┆        ┆   ┆ obstructi ┆ NARE…     ┆ CRÓNICAS  ┆ APARATO…  │\n",
       "│            ┆            ┆           ┆        ┆   ┆ va …      ┆           ┆ D…        ┆           │\n",
       "│ 2001       ┆ 13         ┆ 13129     ┆ Mujer  ┆ … ┆ Asma, no  ┆ J45 ASMA  ┆ J40-J47   ┆ Cap.10    │\n",
       "│            ┆            ┆           ┆        ┆   ┆ especific ┆           ┆ ENFERMEDA ┆ ENFERMEDA │\n",
       "│            ┆            ┆           ┆        ┆   ┆ ada       ┆           ┆ DES       ┆ DES DEL   │\n",
       "│            ┆            ┆           ┆        ┆   ┆           ┆           ┆ CRÓNICAS  ┆ APARATO…  │\n",
       "│            ┆            ┆           ┆        ┆   ┆           ┆           ┆ D…        ┆           │\n",
       "│ 2001       ┆ 13         ┆ 13114     ┆ Mujer  ┆ … ┆ Enfermeda ┆ J44 OTRAS ┆ J40-J47   ┆ Cap.10    │\n",
       "│            ┆            ┆           ┆        ┆   ┆ d         ┆ ENFERMEDA ┆ ENFERMEDA ┆ ENFERMEDA │\n",
       "│            ┆            ┆           ┆        ┆   ┆ pulmonar  ┆ DES PULMO ┆ DES       ┆ DES DEL   │\n",
       "│            ┆            ┆           ┆        ┆   ┆ obstructi ┆ NARE…     ┆ CRÓNICAS  ┆ APARATO…  │\n",
       "│            ┆            ┆           ┆        ┆   ┆ va …      ┆           ┆ D…        ┆           │\n",
       "│ 2001       ┆ 13         ┆ 13127     ┆ Mujer  ┆ … ┆ Examen de ┆ Z13       ┆ Z00-Z13   ┆ Cap.21    │\n",
       "│            ┆            ┆           ┆        ┆   ┆ pesquisa  ┆ EXAMEN DE ┆ PERSONAS  ┆ FACTORES  │\n",
       "│            ┆            ┆           ┆        ┆   ┆ especial  ┆ PESQUISA  ┆ EN        ┆ QUE       │\n",
       "│            ┆            ┆           ┆        ┆   ┆ para…     ┆ ESPECIAL  ┆ CONTACTO  ┆ INFLUYEN  │\n",
       "│            ┆            ┆           ┆        ┆   ┆           ┆ …         ┆ CO…       ┆ EN…       │\n",
       "│ 2001       ┆ 13         ┆ 13123     ┆ Hombre ┆ … ┆ Neumonía, ┆ J18       ┆ J09-J18   ┆ Cap.10    │\n",
       "│            ┆            ┆           ┆        ┆   ┆ no especi ┆ NEUMONÍA, ┆ GRIPE Y   ┆ ENFERMEDA │\n",
       "│            ┆            ┆           ┆        ┆   ┆ ficada    ┆ ORGANISMO ┆ NEUMONÍA  ┆ DES DEL   │\n",
       "│            ┆            ┆           ┆        ┆   ┆           ┆ NO ESPEC… ┆           ┆ APARATO…  │\n",
       "└────────────┴────────────┴───────────┴────────┴───┴───────────┴───────────┴───────────┴───────────┘"
      ]
     },
     "metadata": {},
     "output_type": "display_data"
    }
   ],
   "source": [
    "display(desglose_sociodemografico_cie.head())"
   ]
  },
  {
   "cell_type": "markdown",
   "metadata": {},
   "source": [
    "En los resultados se indica el perfil sociodemográfico para cada combinación de variable presente\n",
    "en la base de datos. A modo de ejemplo, hubo 1 ocurrencia en el 2001 de una paciente de la Región\n",
    "número 13 y Comuna 13605 que tenía entre 70 a 80 años que tenía PREVISION FONASA Letra B diagnosticada\n",
    "con el diagnóstico K810.\n",
    "\n",
    "Uno de los diagnósticos de interés para el Instituto es el de código \"C341\"."
   ]
  },
  {
   "cell_type": "code",
   "execution_count": 78,
   "metadata": {},
   "outputs": [
    {
     "data": {
      "text/html": [
       "<div><style>\n",
       ".dataframe > thead > tr > th,\n",
       ".dataframe > tbody > tr > td {\n",
       "  text-align: right;\n",
       "  white-space: pre-wrap;\n",
       "}\n",
       "</style>\n",
       "<small>shape: (1_247, 15)</small><table border=\"1\" class=\"dataframe\"><thead><tr><th>ANO_EGRESO</th><th>REGION_RESIDENCIA</th><th>COMUNA_RESIDENCIA</th><th>SEXO</th><th>EDAD_CATEGORIA</th><th>PREVISION</th><th>BENEFICIARIO</th><th>DIAG1</th><th>count</th><th>Nombre Comuna</th><th>Nombre Región</th><th>Descripción</th><th>Categoría</th><th>Sección</th><th>Capítulo</th></tr><tr><td>i64</td><td>i64</td><td>i64</td><td>str</td><td>str</td><td>str</td><td>str</td><td>str</td><td>u32</td><td>str</td><td>str</td><td>str</td><td>str</td><td>str</td><td>str</td></tr></thead><tbody><tr><td>2001</td><td>3</td><td>3102</td><td>&quot;Hombre&quot;</td><td>&quot;(50, 60]&quot;</td><td>&quot;Fonasa&quot;</td><td>&quot;A&quot;</td><td>&quot;C341&quot;</td><td>1</td><td>&quot;Caldera&quot;</td><td>&quot;de Atacama&quot;</td><td>&quot;Tumor maligno …</td><td>&quot;C34 TUMOR MALI…</td><td>&quot;C30-C39  NEOPL…</td><td>&quot;Cap.02  NEOPLA…</td></tr><tr><td>2001</td><td>13</td><td>13101</td><td>&quot;Hombre&quot;</td><td>&quot;(50, 60]&quot;</td><td>&quot;Fonasa&quot;</td><td>&quot;A&quot;</td><td>&quot;C341&quot;</td><td>1</td><td>&quot;Santiago&quot;</td><td>&quot;Metropolitana …</td><td>&quot;Tumor maligno …</td><td>&quot;C34 TUMOR MALI…</td><td>&quot;C30-C39  NEOPL…</td><td>&quot;Cap.02  NEOPLA…</td></tr><tr><td>2001</td><td>3</td><td>3101</td><td>&quot;Hombre&quot;</td><td>&quot;(60, 70]&quot;</td><td>&quot;Fonasa&quot;</td><td>&quot;C&quot;</td><td>&quot;C341&quot;</td><td>1</td><td>&quot;Copiapo&quot;</td><td>&quot;de Atacama&quot;</td><td>&quot;Tumor maligno …</td><td>&quot;C34 TUMOR MALI…</td><td>&quot;C30-C39  NEOPL…</td><td>&quot;Cap.02  NEOPLA…</td></tr><tr><td>2001</td><td>13</td><td>13128</td><td>&quot;Mujer&quot;</td><td>&quot;(60, 70]&quot;</td><td>&quot;Fonasa&quot;</td><td>&quot;B&quot;</td><td>&quot;C341&quot;</td><td>1</td><td>&quot;Renca&quot;</td><td>&quot;Metropolitana …</td><td>&quot;Tumor maligno …</td><td>&quot;C34 TUMOR MALI…</td><td>&quot;C30-C39  NEOPL…</td><td>&quot;Cap.02  NEOPLA…</td></tr><tr><td>2001</td><td>8</td><td>8101</td><td>&quot;Hombre&quot;</td><td>&quot;(60, 70]&quot;</td><td>&quot;Desconocido&quot;</td><td>null</td><td>&quot;C341&quot;</td><td>1</td><td>&quot;Concepción&quot;</td><td>&quot;del Biobío&quot;</td><td>&quot;Tumor maligno …</td><td>&quot;C34 TUMOR MALI…</td><td>&quot;C30-C39  NEOPL…</td><td>&quot;Cap.02  NEOPLA…</td></tr><tr><td>2001</td><td>13</td><td>13106</td><td>&quot;Mujer&quot;</td><td>&quot;(60, 70]&quot;</td><td>&quot;Fonasa&quot;</td><td>&quot;B&quot;</td><td>&quot;C341&quot;</td><td>1</td><td>&quot;Estación Centr…</td><td>&quot;Metropolitana …</td><td>&quot;Tumor maligno …</td><td>&quot;C34 TUMOR MALI…</td><td>&quot;C30-C39  NEOPL…</td><td>&quot;Cap.02  NEOPLA…</td></tr><tr><td>2001</td><td>13</td><td>13113</td><td>&quot;Mujer&quot;</td><td>&quot;(60, 70]&quot;</td><td>&quot;Fonasa&quot;</td><td>&quot;B&quot;</td><td>&quot;C341&quot;</td><td>1</td><td>&quot;La Reina&quot;</td><td>&quot;Metropolitana …</td><td>&quot;Tumor maligno …</td><td>&quot;C34 TUMOR MALI…</td><td>&quot;C30-C39  NEOPL…</td><td>&quot;Cap.02  NEOPLA…</td></tr><tr><td>2003</td><td>6</td><td>6101</td><td>&quot;Hombre&quot;</td><td>&quot;(50, 60]&quot;</td><td>&quot;Fonasa&quot;</td><td>&quot;A&quot;</td><td>&quot;C341&quot;</td><td>1</td><td>&quot;Rancagua&quot;</td><td>&quot;del Libertador…</td><td>&quot;Tumor maligno …</td><td>&quot;C34 TUMOR MALI…</td><td>&quot;C30-C39  NEOPL…</td><td>&quot;Cap.02  NEOPLA…</td></tr><tr><td>2003</td><td>13</td><td>13110</td><td>&quot;Mujer&quot;</td><td>&quot;(50, 60]&quot;</td><td>&quot;Fonasa&quot;</td><td>&quot;B&quot;</td><td>&quot;C341&quot;</td><td>1</td><td>&quot;La Florida&quot;</td><td>&quot;Metropolitana …</td><td>&quot;Tumor maligno …</td><td>&quot;C34 TUMOR MALI…</td><td>&quot;C30-C39  NEOPL…</td><td>&quot;Cap.02  NEOPLA…</td></tr><tr><td>2005</td><td>13</td><td>13122</td><td>&quot;Hombre&quot;</td><td>&quot;(60, 70]&quot;</td><td>&quot;Fonasa&quot;</td><td>&quot;B&quot;</td><td>&quot;C341&quot;</td><td>1</td><td>&quot;Peñalolén&quot;</td><td>&quot;Metropolitana …</td><td>&quot;Tumor maligno …</td><td>&quot;C34 TUMOR MALI…</td><td>&quot;C30-C39  NEOPL…</td><td>&quot;Cap.02  NEOPLA…</td></tr><tr><td>2005</td><td>13</td><td>13119</td><td>&quot;Hombre&quot;</td><td>&quot;(60, 70]&quot;</td><td>&quot;Fonasa&quot;</td><td>&quot;C&quot;</td><td>&quot;C341&quot;</td><td>1</td><td>&quot;Maipu&quot;</td><td>&quot;Metropolitana …</td><td>&quot;Tumor maligno …</td><td>&quot;C34 TUMOR MALI…</td><td>&quot;C30-C39  NEOPL…</td><td>&quot;Cap.02  NEOPLA…</td></tr><tr><td>2006</td><td>5</td><td>5304</td><td>&quot;Hombre&quot;</td><td>&quot;(60, 70]&quot;</td><td>&quot;Fonasa&quot;</td><td>&quot;D&quot;</td><td>&quot;C341&quot;</td><td>1</td><td>&quot;San Esteban&quot;</td><td>&quot;de Valparaíso&quot;</td><td>&quot;Tumor maligno …</td><td>&quot;C34 TUMOR MALI…</td><td>&quot;C30-C39  NEOPL…</td><td>&quot;Cap.02  NEOPLA…</td></tr><tr><td>&hellip;</td><td>&hellip;</td><td>&hellip;</td><td>&hellip;</td><td>&hellip;</td><td>&hellip;</td><td>&hellip;</td><td>&hellip;</td><td>&hellip;</td><td>&hellip;</td><td>&hellip;</td><td>&hellip;</td><td>&hellip;</td><td>&hellip;</td><td>&hellip;</td></tr><tr><td>2020</td><td>13</td><td>13118</td><td>&quot;Mujer&quot;</td><td>&quot;(80, 90]&quot;</td><td>&quot;Fonasa&quot;</td><td>&quot;B&quot;</td><td>&quot;C341&quot;</td><td>1</td><td>&quot;Macul&quot;</td><td>&quot;Metropolitana …</td><td>&quot;Tumor maligno …</td><td>&quot;C34 TUMOR MALI…</td><td>&quot;C30-C39  NEOPL…</td><td>&quot;Cap.02  NEOPLA…</td></tr><tr><td>2020</td><td>13</td><td>13122</td><td>&quot;Mujer&quot;</td><td>&quot;(60, 70]&quot;</td><td>&quot;Fonasa&quot;</td><td>&quot;B&quot;</td><td>&quot;C341&quot;</td><td>2</td><td>&quot;Peñalolén&quot;</td><td>&quot;Metropolitana …</td><td>&quot;Tumor maligno …</td><td>&quot;C34 TUMOR MALI…</td><td>&quot;C30-C39  NEOPL…</td><td>&quot;Cap.02  NEOPLA…</td></tr><tr><td>2020</td><td>5</td><td>5801</td><td>&quot;Hombre&quot;</td><td>&quot;(50, 60]&quot;</td><td>&quot;Fonasa&quot;</td><td>&quot;D&quot;</td><td>&quot;C341&quot;</td><td>1</td><td>&quot;Quilpue&quot;</td><td>&quot;de Valparaíso&quot;</td><td>&quot;Tumor maligno …</td><td>&quot;C34 TUMOR MALI…</td><td>&quot;C30-C39  NEOPL…</td><td>&quot;Cap.02  NEOPLA…</td></tr><tr><td>2020</td><td>13</td><td>13114</td><td>&quot;Mujer&quot;</td><td>&quot;(80, 90]&quot;</td><td>&quot;Fonasa&quot;</td><td>&quot;C&quot;</td><td>&quot;C341&quot;</td><td>1</td><td>&quot;Las Condes&quot;</td><td>&quot;Metropolitana …</td><td>&quot;Tumor maligno …</td><td>&quot;C34 TUMOR MALI…</td><td>&quot;C30-C39  NEOPL…</td><td>&quot;Cap.02  NEOPLA…</td></tr><tr><td>2020</td><td>13</td><td>13101</td><td>&quot;Hombre&quot;</td><td>&quot;(50, 60]&quot;</td><td>&quot;Fonasa&quot;</td><td>&quot;A&quot;</td><td>&quot;C341&quot;</td><td>1</td><td>&quot;Santiago&quot;</td><td>&quot;Metropolitana …</td><td>&quot;Tumor maligno …</td><td>&quot;C34 TUMOR MALI…</td><td>&quot;C30-C39  NEOPL…</td><td>&quot;Cap.02  NEOPLA…</td></tr><tr><td>2020</td><td>13</td><td>13119</td><td>&quot;Hombre&quot;</td><td>&quot;(50, 60]&quot;</td><td>&quot;Desconocido&quot;</td><td>null</td><td>&quot;C341&quot;</td><td>1</td><td>&quot;Maipu&quot;</td><td>&quot;Metropolitana …</td><td>&quot;Tumor maligno …</td><td>&quot;C34 TUMOR MALI…</td><td>&quot;C30-C39  NEOPL…</td><td>&quot;Cap.02  NEOPLA…</td></tr><tr><td>2020</td><td>13</td><td>13101</td><td>&quot;Mujer&quot;</td><td>&quot;(70, 80]&quot;</td><td>&quot;Fonasa&quot;</td><td>&quot;B&quot;</td><td>&quot;C341&quot;</td><td>2</td><td>&quot;Santiago&quot;</td><td>&quot;Metropolitana …</td><td>&quot;Tumor maligno …</td><td>&quot;C34 TUMOR MALI…</td><td>&quot;C30-C39  NEOPL…</td><td>&quot;Cap.02  NEOPLA…</td></tr><tr><td>2020</td><td>5</td><td>5705</td><td>&quot;Mujer&quot;</td><td>&quot;(50, 60]&quot;</td><td>&quot;Fonasa&quot;</td><td>&quot;B&quot;</td><td>&quot;C341&quot;</td><td>2</td><td>&quot;Putaendo&quot;</td><td>&quot;de Valparaíso&quot;</td><td>&quot;Tumor maligno …</td><td>&quot;C34 TUMOR MALI…</td><td>&quot;C30-C39  NEOPL…</td><td>&quot;Cap.02  NEOPLA…</td></tr><tr><td>2020</td><td>13</td><td>13128</td><td>&quot;Hombre&quot;</td><td>&quot;(60, 70]&quot;</td><td>&quot;Fonasa&quot;</td><td>&quot;B&quot;</td><td>&quot;C341&quot;</td><td>1</td><td>&quot;Renca&quot;</td><td>&quot;Metropolitana …</td><td>&quot;Tumor maligno …</td><td>&quot;C34 TUMOR MALI…</td><td>&quot;C30-C39  NEOPL…</td><td>&quot;Cap.02  NEOPLA…</td></tr><tr><td>2020</td><td>13</td><td>13132</td><td>&quot;Mujer&quot;</td><td>&quot;(60, 70]&quot;</td><td>&quot;Fonasa&quot;</td><td>&quot;A&quot;</td><td>&quot;C341&quot;</td><td>1</td><td>&quot;Vitacura&quot;</td><td>&quot;Metropolitana …</td><td>&quot;Tumor maligno …</td><td>&quot;C34 TUMOR MALI…</td><td>&quot;C30-C39  NEOPL…</td><td>&quot;Cap.02  NEOPLA…</td></tr><tr><td>2020</td><td>13</td><td>13119</td><td>&quot;Hombre&quot;</td><td>&quot;(60, 70]&quot;</td><td>&quot;Desconocido&quot;</td><td>null</td><td>&quot;C341&quot;</td><td>1</td><td>&quot;Maipu&quot;</td><td>&quot;Metropolitana …</td><td>&quot;Tumor maligno …</td><td>&quot;C34 TUMOR MALI…</td><td>&quot;C30-C39  NEOPL…</td><td>&quot;Cap.02  NEOPLA…</td></tr><tr><td>2020</td><td>13</td><td>13108</td><td>&quot;Mujer&quot;</td><td>&quot;(50, 60]&quot;</td><td>&quot;Fonasa&quot;</td><td>&quot;A&quot;</td><td>&quot;C341&quot;</td><td>1</td><td>&quot;Independencia&quot;</td><td>&quot;Metropolitana …</td><td>&quot;Tumor maligno …</td><td>&quot;C34 TUMOR MALI…</td><td>&quot;C30-C39  NEOPL…</td><td>&quot;Cap.02  NEOPLA…</td></tr></tbody></table></div>"
      ],
      "text/plain": [
       "shape: (1_247, 15)\n",
       "┌────────────┬────────────┬───────────┬────────┬───┬───────────┬───────────┬───────────┬───────────┐\n",
       "│ ANO_EGRESO ┆ REGION_RES ┆ COMUNA_RE ┆ SEXO   ┆ … ┆ Descripci ┆ Categoría ┆ Sección   ┆ Capítulo  │\n",
       "│ ---        ┆ IDENCIA    ┆ SIDENCIA  ┆ ---    ┆   ┆ ón        ┆ ---       ┆ ---       ┆ ---       │\n",
       "│ i64        ┆ ---        ┆ ---       ┆ str    ┆   ┆ ---       ┆ str       ┆ str       ┆ str       │\n",
       "│            ┆ i64        ┆ i64       ┆        ┆   ┆ str       ┆           ┆           ┆           │\n",
       "╞════════════╪════════════╪═══════════╪════════╪═══╪═══════════╪═══════════╪═══════════╪═══════════╡\n",
       "│ 2001       ┆ 3          ┆ 3102      ┆ Hombre ┆ … ┆ Tumor     ┆ C34 TUMOR ┆ C30-C39   ┆ Cap.02    │\n",
       "│            ┆            ┆           ┆        ┆   ┆ maligno   ┆ MALIGNO   ┆ NEOPLASIA ┆ NEOPLASIA │\n",
       "│            ┆            ┆           ┆        ┆   ┆ del       ┆ DE LOS    ┆ S         ┆ S         │\n",
       "│            ┆            ┆           ┆        ┆   ┆ lóbulo    ┆ BRONQUI…  ┆ MALIGNAS  ┆ (C00-D49) │\n",
       "│            ┆            ┆           ┆        ┆   ┆ superio…  ┆           ┆ DE …      ┆           │\n",
       "│ 2001       ┆ 13         ┆ 13101     ┆ Hombre ┆ … ┆ Tumor     ┆ C34 TUMOR ┆ C30-C39   ┆ Cap.02    │\n",
       "│            ┆            ┆           ┆        ┆   ┆ maligno   ┆ MALIGNO   ┆ NEOPLASIA ┆ NEOPLASIA │\n",
       "│            ┆            ┆           ┆        ┆   ┆ del       ┆ DE LOS    ┆ S         ┆ S         │\n",
       "│            ┆            ┆           ┆        ┆   ┆ lóbulo    ┆ BRONQUI…  ┆ MALIGNAS  ┆ (C00-D49) │\n",
       "│            ┆            ┆           ┆        ┆   ┆ superio…  ┆           ┆ DE …      ┆           │\n",
       "│ 2001       ┆ 3          ┆ 3101      ┆ Hombre ┆ … ┆ Tumor     ┆ C34 TUMOR ┆ C30-C39   ┆ Cap.02    │\n",
       "│            ┆            ┆           ┆        ┆   ┆ maligno   ┆ MALIGNO   ┆ NEOPLASIA ┆ NEOPLASIA │\n",
       "│            ┆            ┆           ┆        ┆   ┆ del       ┆ DE LOS    ┆ S         ┆ S         │\n",
       "│            ┆            ┆           ┆        ┆   ┆ lóbulo    ┆ BRONQUI…  ┆ MALIGNAS  ┆ (C00-D49) │\n",
       "│            ┆            ┆           ┆        ┆   ┆ superio…  ┆           ┆ DE …      ┆           │\n",
       "│ 2001       ┆ 13         ┆ 13128     ┆ Mujer  ┆ … ┆ Tumor     ┆ C34 TUMOR ┆ C30-C39   ┆ Cap.02    │\n",
       "│            ┆            ┆           ┆        ┆   ┆ maligno   ┆ MALIGNO   ┆ NEOPLASIA ┆ NEOPLASIA │\n",
       "│            ┆            ┆           ┆        ┆   ┆ del       ┆ DE LOS    ┆ S         ┆ S         │\n",
       "│            ┆            ┆           ┆        ┆   ┆ lóbulo    ┆ BRONQUI…  ┆ MALIGNAS  ┆ (C00-D49) │\n",
       "│            ┆            ┆           ┆        ┆   ┆ superio…  ┆           ┆ DE …      ┆           │\n",
       "│ …          ┆ …          ┆ …         ┆ …      ┆ … ┆ …         ┆ …         ┆ …         ┆ …         │\n",
       "│ 2020       ┆ 13         ┆ 13128     ┆ Hombre ┆ … ┆ Tumor     ┆ C34 TUMOR ┆ C30-C39   ┆ Cap.02    │\n",
       "│            ┆            ┆           ┆        ┆   ┆ maligno   ┆ MALIGNO   ┆ NEOPLASIA ┆ NEOPLASIA │\n",
       "│            ┆            ┆           ┆        ┆   ┆ del       ┆ DE LOS    ┆ S         ┆ S         │\n",
       "│            ┆            ┆           ┆        ┆   ┆ lóbulo    ┆ BRONQUI…  ┆ MALIGNAS  ┆ (C00-D49) │\n",
       "│            ┆            ┆           ┆        ┆   ┆ superio…  ┆           ┆ DE …      ┆           │\n",
       "│ 2020       ┆ 13         ┆ 13132     ┆ Mujer  ┆ … ┆ Tumor     ┆ C34 TUMOR ┆ C30-C39   ┆ Cap.02    │\n",
       "│            ┆            ┆           ┆        ┆   ┆ maligno   ┆ MALIGNO   ┆ NEOPLASIA ┆ NEOPLASIA │\n",
       "│            ┆            ┆           ┆        ┆   ┆ del       ┆ DE LOS    ┆ S         ┆ S         │\n",
       "│            ┆            ┆           ┆        ┆   ┆ lóbulo    ┆ BRONQUI…  ┆ MALIGNAS  ┆ (C00-D49) │\n",
       "│            ┆            ┆           ┆        ┆   ┆ superio…  ┆           ┆ DE …      ┆           │\n",
       "│ 2020       ┆ 13         ┆ 13119     ┆ Hombre ┆ … ┆ Tumor     ┆ C34 TUMOR ┆ C30-C39   ┆ Cap.02    │\n",
       "│            ┆            ┆           ┆        ┆   ┆ maligno   ┆ MALIGNO   ┆ NEOPLASIA ┆ NEOPLASIA │\n",
       "│            ┆            ┆           ┆        ┆   ┆ del       ┆ DE LOS    ┆ S         ┆ S         │\n",
       "│            ┆            ┆           ┆        ┆   ┆ lóbulo    ┆ BRONQUI…  ┆ MALIGNAS  ┆ (C00-D49) │\n",
       "│            ┆            ┆           ┆        ┆   ┆ superio…  ┆           ┆ DE …      ┆           │\n",
       "│ 2020       ┆ 13         ┆ 13108     ┆ Mujer  ┆ … ┆ Tumor     ┆ C34 TUMOR ┆ C30-C39   ┆ Cap.02    │\n",
       "│            ┆            ┆           ┆        ┆   ┆ maligno   ┆ MALIGNO   ┆ NEOPLASIA ┆ NEOPLASIA │\n",
       "│            ┆            ┆           ┆        ┆   ┆ del       ┆ DE LOS    ┆ S         ┆ S         │\n",
       "│            ┆            ┆           ┆        ┆   ┆ lóbulo    ┆ BRONQUI…  ┆ MALIGNAS  ┆ (C00-D49) │\n",
       "│            ┆            ┆           ┆        ┆   ┆ superio…  ┆           ┆ DE …      ┆           │\n",
       "└────────────┴────────────┴───────────┴────────┴───┴───────────┴───────────┴───────────┴───────────┘"
      ]
     },
     "metadata": {},
     "output_type": "display_data"
    },
    {
     "name": "stdout",
     "output_type": "stream",
     "text": [
      "shape: (1, 1)\n",
      "┌───────┐\n",
      "│ count │\n",
      "│ ---   │\n",
      "│ u32   │\n",
      "╞═══════╡\n",
      "│ 1709  │\n",
      "└───────┘\n"
     ]
    }
   ],
   "source": [
    "display(desglose_sociodemografico_cie.filter(pl.col(\"DIAG1\") == \"C341\"))\n",
    "print(desglose_sociodemografico_cie.filter(pl.col(\"DIAG1\") == \"C341\").select(pl.col(\"count\").sum()))"
   ]
  },
  {
   "cell_type": "markdown",
   "metadata": {},
   "source": [
    "Por lo tanto, se muestra cada desglose sociodemográfico de los pacientes atendidos. Además,\n",
    "se indica que la suma de cada conteo de grupo suma 1709 entre 2001 y 2020. Esto está en concordancia\n",
    "con los egresos totales (1709) para el diagnóstico mencionado en el periodo mencionado."
   ]
  }
 ],
 "metadata": {
  "kernelspec": {
   "display_name": "base",
   "language": "python",
   "name": "python3"
  },
  "language_info": {
   "codemirror_mode": {
    "name": "ipython",
    "version": 3
   },
   "file_extension": ".py",
   "mimetype": "text/x-python",
   "name": "python",
   "nbconvert_exporter": "python",
   "pygments_lexer": "ipython3",
   "version": "3.11.5"
  },
  "orig_nbformat": 4
 },
 "nbformat": 4,
 "nbformat_minor": 2
}
