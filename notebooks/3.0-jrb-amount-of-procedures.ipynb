{
 "cells": [
  {
   "cell_type": "code",
   "execution_count": 1,
   "metadata": {},
   "outputs": [],
   "source": [
    "import sys\n",
    "import os\n",
    "\n",
    "project_root = os.path.abspath('..')\n",
    "if project_root not in sys.path:\n",
    "    sys.path.append(project_root)\n",
    "\n",
    "%load_ext autoreload\n",
    "%autoreload 2\n"
   ]
  },
  {
   "cell_type": "code",
   "execution_count": 34,
   "metadata": {},
   "outputs": [],
   "source": [
    "import polars as pl\n",
    "\n",
    "import matplotlib.pyplot as plt\n",
    "import seaborn as sns\n",
    "\n",
    "import pandas as pd\n",
    "import numpy as np\n",
    "\n",
    "sns.set_style()\n",
    "plt.rcParams[\"figure.figsize\"] = (12, 6)\n",
    "\n",
    "HOSPITAL_A_ANALIZAR = 112103  # Este es el Torax"
   ]
  },
  {
   "cell_type": "code",
   "execution_count": 48,
   "metadata": {},
   "outputs": [],
   "source": [
    "DIAGS_RELEVANTES = [\n",
    "    \"C33X\",\n",
    "    \"C340\",\n",
    "    \"C341\",\n",
    "    \"C342\",\n",
    "    \"C343\",\n",
    "    \"C381\",\n",
    "    \"C384\",\n",
    "    \"C450\",\n",
    "    \"C780\",\n",
    "    \"C782\",\n",
    "    \"D143\",\n",
    "    \"D381\",\n",
    "    \"E848\",\n",
    "    \"I080\",\n",
    "    \"I081\",\n",
    "    \"I340\",\n",
    "    \"I351\",\n",
    "    \"I352\",\n",
    "    \"I420\",\n",
    "    \"I456\",\n",
    "    \"I472\",\n",
    "    \"I495\",\n",
    "    \"I710\",\n",
    "    \"I712\",\n",
    "    \"J47X\",\n",
    "    \"J679\",\n",
    "    \"J841\",\n",
    "    \"J848\",\n",
    "    \"J849\",\n",
    "    \"J860\",\n",
    "    \"J869\",\n",
    "    \"J955\",\n",
    "    \"M348\",\n",
    "    \"T820\",\n",
    "    \"T821\",\n",
    "    \"Z450\",\n",
    "]"
   ]
  },
  {
   "cell_type": "markdown",
   "metadata": {},
   "source": [
    "# 1. Análisis de Procedimientos\n",
    "\n",
    "En este cuadernillo se quiere responder a las siguientes preguntas:\n",
    "\n",
    "- ¿Cuáles son las intervenciones quirúrgicas realizadas en cada uno de los egresos? Además,\n",
    "  ¿cuánto corresponde cada una al total de los egresos?\n",
    "\n",
    "- ¿Cuáles son los procedimientos realizados en cada uno de los egresos? Además, ¿Cuántos corresponde cada uno al total de egresos?\n",
    "\n",
    "Para responder estas preguntas se utilizará la base de egresos DEIS entre 2001 a 2021.\n"
   ]
  },
  {
   "cell_type": "code",
   "execution_count": 9,
   "metadata": {},
   "outputs": [],
   "source": [
    "df_polars = (\n",
    "    pl.scan_csv(\"../data/processed/egresos_procesados.csv\")\n",
    "    .filter(pl.col(\"ESTABLECIMIENTO_SALUD\") == HOSPITAL_A_ANALIZAR)\n",
    "    .collect(streaming=True)\n",
    ")\n",
    "\n",
    "df = df_polars.to_pandas()"
   ]
  },
  {
   "cell_type": "code",
   "execution_count": 17,
   "metadata": {},
   "outputs": [],
   "source": [
    "resumen_interv_q = df.groupby([\"ANO_EGRESO\", \"DIAG1\"])[\n",
    "    [\"CODIGO_INTERV_Q_PPAL\", \"GLOSA_INTERV_Q_PPAL\"]\n",
    "].value_counts().reset_index()\n",
    "\n",
    "resumen_procedimientos = df.groupby([\"ANO_EGRESO\", \"DIAG1\"])[\n",
    "    [\"CODIGO_PROCED_PPAL\", \"GLOSA_PROCED_PPAL\"]\n",
    "].value_counts().reset_index()"
   ]
  },
  {
   "cell_type": "code",
   "execution_count": 18,
   "metadata": {},
   "outputs": [
    {
     "data": {
      "text/html": [
       "<div>\n",
       "<style scoped>\n",
       "    .dataframe tbody tr th:only-of-type {\n",
       "        vertical-align: middle;\n",
       "    }\n",
       "\n",
       "    .dataframe tbody tr th {\n",
       "        vertical-align: top;\n",
       "    }\n",
       "\n",
       "    .dataframe thead th {\n",
       "        text-align: right;\n",
       "    }\n",
       "</style>\n",
       "<table border=\"1\" class=\"dataframe\">\n",
       "  <thead>\n",
       "    <tr style=\"text-align: right;\">\n",
       "      <th></th>\n",
       "      <th>ANO_EGRESO</th>\n",
       "      <th>DIAG1</th>\n",
       "      <th>CODIGO_INTERV_Q_PPAL</th>\n",
       "      <th>GLOSA_INTERV_Q_PPAL</th>\n",
       "      <th>count</th>\n",
       "    </tr>\n",
       "  </thead>\n",
       "  <tbody>\n",
       "    <tr>\n",
       "      <th>0</th>\n",
       "      <td>2004</td>\n",
       "      <td>A162</td>\n",
       "      <td>1704009</td>\n",
       "      <td>Toracotomía exploradora, c/s biopsia, c/s debr...</td>\n",
       "      <td>1</td>\n",
       "    </tr>\n",
       "    <tr>\n",
       "      <th>1</th>\n",
       "      <td>2004</td>\n",
       "      <td>B449</td>\n",
       "      <td>1704043</td>\n",
       "      <td>Neumonectomía c/s resección de pared costal</td>\n",
       "      <td>1</td>\n",
       "    </tr>\n",
       "    <tr>\n",
       "      <th>2</th>\n",
       "      <td>2004</td>\n",
       "      <td>B59X</td>\n",
       "      <td>1704035</td>\n",
       "      <td>Biopsia pulmonar por toracotomía</td>\n",
       "      <td>1</td>\n",
       "    </tr>\n",
       "    <tr>\n",
       "      <th>3</th>\n",
       "      <td>2004</td>\n",
       "      <td>B673</td>\n",
       "      <td>1704017</td>\n",
       "      <td>Tumores o quistes de mediastino (anterior o po...</td>\n",
       "      <td>1</td>\n",
       "    </tr>\n",
       "    <tr>\n",
       "      <th>4</th>\n",
       "      <td>2004</td>\n",
       "      <td>B679</td>\n",
       "      <td>1704037</td>\n",
       "      <td>Cirugía de quiste hidatídico sin resección pul...</td>\n",
       "      <td>10</td>\n",
       "    </tr>\n",
       "    <tr>\n",
       "      <th>...</th>\n",
       "      <td>...</td>\n",
       "      <td>...</td>\n",
       "      <td>...</td>\n",
       "      <td>...</td>\n",
       "      <td>...</td>\n",
       "    </tr>\n",
       "    <tr>\n",
       "      <th>6231</th>\n",
       "      <td>2020</td>\n",
       "      <td>Z450</td>\n",
       "      <td>1703148</td>\n",
       "      <td>Cambio de generador de marcapaso (incluye el v...</td>\n",
       "      <td>10</td>\n",
       "    </tr>\n",
       "    <tr>\n",
       "      <th>6232</th>\n",
       "      <td>2020</td>\n",
       "      <td>Z450</td>\n",
       "      <td>1703153</td>\n",
       "      <td>Implantación de marcapaso c/electrod. intraven...</td>\n",
       "      <td>1</td>\n",
       "    </tr>\n",
       "    <tr>\n",
       "      <th>6233</th>\n",
       "      <td>2020</td>\n",
       "      <td>Z470</td>\n",
       "      <td>1704009</td>\n",
       "      <td>Toracotomía exploradora, c/s biopsia, c/s debr...</td>\n",
       "      <td>1</td>\n",
       "    </tr>\n",
       "    <tr>\n",
       "      <th>6234</th>\n",
       "      <td>2020</td>\n",
       "      <td>Z470</td>\n",
       "      <td>1704004</td>\n",
       "      <td>Reparación pectum excavatum o carinatum, (proc...</td>\n",
       "      <td>1</td>\n",
       "    </tr>\n",
       "    <tr>\n",
       "      <th>6235</th>\n",
       "      <td>2020</td>\n",
       "      <td>Z470</td>\n",
       "      <td>2106003</td>\n",
       "      <td>Retiro de tornillos, clavos, agujas de osteosí...</td>\n",
       "      <td>1</td>\n",
       "    </tr>\n",
       "  </tbody>\n",
       "</table>\n",
       "<p>6236 rows × 5 columns</p>\n",
       "</div>"
      ],
      "text/plain": [
       "      ANO_EGRESO DIAG1 CODIGO_INTERV_Q_PPAL  \\\n",
       "0           2004  A162              1704009   \n",
       "1           2004  B449              1704043   \n",
       "2           2004  B59X              1704035   \n",
       "3           2004  B673              1704017   \n",
       "4           2004  B679              1704037   \n",
       "...          ...   ...                  ...   \n",
       "6231        2020  Z450              1703148   \n",
       "6232        2020  Z450              1703153   \n",
       "6233        2020  Z470              1704009   \n",
       "6234        2020  Z470              1704004   \n",
       "6235        2020  Z470              2106003   \n",
       "\n",
       "                                    GLOSA_INTERV_Q_PPAL  count  \n",
       "0     Toracotomía exploradora, c/s biopsia, c/s debr...      1  \n",
       "1           Neumonectomía c/s resección de pared costal      1  \n",
       "2                      Biopsia pulmonar por toracotomía      1  \n",
       "3     Tumores o quistes de mediastino (anterior o po...      1  \n",
       "4     Cirugía de quiste hidatídico sin resección pul...     10  \n",
       "...                                                 ...    ...  \n",
       "6231  Cambio de generador de marcapaso (incluye el v...     10  \n",
       "6232  Implantación de marcapaso c/electrod. intraven...      1  \n",
       "6233  Toracotomía exploradora, c/s biopsia, c/s debr...      1  \n",
       "6234  Reparación pectum excavatum o carinatum, (proc...      1  \n",
       "6235  Retiro de tornillos, clavos, agujas de osteosí...      1  \n",
       "\n",
       "[6236 rows x 5 columns]"
      ]
     },
     "metadata": {},
     "output_type": "display_data"
    },
    {
     "data": {
      "text/html": [
       "<div>\n",
       "<style scoped>\n",
       "    .dataframe tbody tr th:only-of-type {\n",
       "        vertical-align: middle;\n",
       "    }\n",
       "\n",
       "    .dataframe tbody tr th {\n",
       "        vertical-align: top;\n",
       "    }\n",
       "\n",
       "    .dataframe thead th {\n",
       "        text-align: right;\n",
       "    }\n",
       "</style>\n",
       "<table border=\"1\" class=\"dataframe\">\n",
       "  <thead>\n",
       "    <tr style=\"text-align: right;\">\n",
       "      <th></th>\n",
       "      <th>ANO_EGRESO</th>\n",
       "      <th>DIAG1</th>\n",
       "      <th>CODIGO_PROCED_PPAL</th>\n",
       "      <th>GLOSA_PROCED_PPAL</th>\n",
       "      <th>count</th>\n",
       "    </tr>\n",
       "  </thead>\n",
       "  <tbody>\n",
       "    <tr>\n",
       "      <th>0</th>\n",
       "      <td>2018</td>\n",
       "      <td>A099</td>\n",
       "      <td>1701037</td>\n",
       "      <td>Puncion subclavia o yugular con colocacion de ...</td>\n",
       "      <td>1</td>\n",
       "    </tr>\n",
       "    <tr>\n",
       "      <th>1</th>\n",
       "      <td>2018</td>\n",
       "      <td>C33X</td>\n",
       "      <td>1707022</td>\n",
       "      <td>Larigotraqueoscopia con tubo rigido</td>\n",
       "      <td>1</td>\n",
       "    </tr>\n",
       "    <tr>\n",
       "      <th>2</th>\n",
       "      <td>2018</td>\n",
       "      <td>C340</td>\n",
       "      <td>1707022</td>\n",
       "      <td>Larigotraqueoscopia con tubo rigido</td>\n",
       "      <td>2</td>\n",
       "    </tr>\n",
       "    <tr>\n",
       "      <th>3</th>\n",
       "      <td>2018</td>\n",
       "      <td>C341</td>\n",
       "      <td>1707023</td>\n",
       "      <td>Mediastinoscopia c/s biopsia</td>\n",
       "      <td>19</td>\n",
       "    </tr>\n",
       "    <tr>\n",
       "      <th>4</th>\n",
       "      <td>2018</td>\n",
       "      <td>C342</td>\n",
       "      <td>1707023</td>\n",
       "      <td>Mediastinoscopia c/s biopsia</td>\n",
       "      <td>1</td>\n",
       "    </tr>\n",
       "    <tr>\n",
       "      <th>...</th>\n",
       "      <td>...</td>\n",
       "      <td>...</td>\n",
       "      <td>...</td>\n",
       "      <td>...</td>\n",
       "      <td>...</td>\n",
       "    </tr>\n",
       "    <tr>\n",
       "      <th>377</th>\n",
       "      <td>2020</td>\n",
       "      <td>Z511</td>\n",
       "      <td>2904008</td>\n",
       "      <td>Quimioterapia riesgo intermedio 2 (por ciclo)</td>\n",
       "      <td>1</td>\n",
       "    </tr>\n",
       "    <tr>\n",
       "      <th>378</th>\n",
       "      <td>2020</td>\n",
       "      <td>Z511</td>\n",
       "      <td>2904006</td>\n",
       "      <td>Quimioterapia bajo riesgo 4 (por ciclo)</td>\n",
       "      <td>1</td>\n",
       "    </tr>\n",
       "    <tr>\n",
       "      <th>379</th>\n",
       "      <td>2020</td>\n",
       "      <td>Z511</td>\n",
       "      <td>2904004</td>\n",
       "      <td>Quimioterapia bajo riesgo 2 (por ciclo)</td>\n",
       "      <td>1</td>\n",
       "    </tr>\n",
       "    <tr>\n",
       "      <th>380</th>\n",
       "      <td>2020</td>\n",
       "      <td>Z514</td>\n",
       "      <td>1101045</td>\n",
       "      <td>Polisomnografia (estudio poligrafico del sueno),</td>\n",
       "      <td>1</td>\n",
       "    </tr>\n",
       "    <tr>\n",
       "      <th>381</th>\n",
       "      <td>2020</td>\n",
       "      <td>Z540</td>\n",
       "      <td>403013</td>\n",
       "      <td>Tomografía Computarizada de Tórax. Incluye ade...</td>\n",
       "      <td>1</td>\n",
       "    </tr>\n",
       "  </tbody>\n",
       "</table>\n",
       "<p>382 rows × 5 columns</p>\n",
       "</div>"
      ],
      "text/plain": [
       "     ANO_EGRESO DIAG1 CODIGO_PROCED_PPAL  \\\n",
       "0          2018  A099            1701037   \n",
       "1          2018  C33X            1707022   \n",
       "2          2018  C340            1707022   \n",
       "3          2018  C341            1707023   \n",
       "4          2018  C342            1707023   \n",
       "..          ...   ...                ...   \n",
       "377        2020  Z511            2904008   \n",
       "378        2020  Z511            2904006   \n",
       "379        2020  Z511            2904004   \n",
       "380        2020  Z514            1101045   \n",
       "381        2020  Z540             403013   \n",
       "\n",
       "                                     GLOSA_PROCED_PPAL  count  \n",
       "0    Puncion subclavia o yugular con colocacion de ...      1  \n",
       "1                  Larigotraqueoscopia con tubo rigido      1  \n",
       "2                  Larigotraqueoscopia con tubo rigido      2  \n",
       "3                         Mediastinoscopia c/s biopsia     19  \n",
       "4                         Mediastinoscopia c/s biopsia      1  \n",
       "..                                                 ...    ...  \n",
       "377      Quimioterapia riesgo intermedio 2 (por ciclo)      1  \n",
       "378            Quimioterapia bajo riesgo 4 (por ciclo)      1  \n",
       "379            Quimioterapia bajo riesgo 2 (por ciclo)      1  \n",
       "380   Polisomnografia (estudio poligrafico del sueno),      1  \n",
       "381  Tomografía Computarizada de Tórax. Incluye ade...      1  \n",
       "\n",
       "[382 rows x 5 columns]"
      ]
     },
     "metadata": {},
     "output_type": "display_data"
    }
   ],
   "source": [
    "display(resumen_interv_q)\n",
    "display(resumen_procedimientos)"
   ]
  },
  {
   "cell_type": "markdown",
   "metadata": {},
   "source": [
    "Por lo tanto, se muestra el desglose de intervenciones quirúrgicas y procedimientos para cada\n",
    "uno de los diagnósticos por año."
   ]
  },
  {
   "cell_type": "code",
   "execution_count": 53,
   "metadata": {},
   "outputs": [],
   "source": [
    "resumen_interv_q.to_csv(\"../data/interim/resumen_intervenciones_quir_torax.csv\", index=False)\n",
    "resumen_procedimientos.to_csv(\"../data/interim/resumen_procedimientos_torax.csv\", index=False)"
   ]
  },
  {
   "cell_type": "markdown",
   "metadata": {},
   "source": [
    "Algo interesante a identificar es la presencia de un código de intervención quirúrgica significa\n",
    "que la columna ```INTERV_Q``` tendrá un valor de 1."
   ]
  },
  {
   "cell_type": "code",
   "execution_count": 46,
   "metadata": {},
   "outputs": [],
   "source": [
    "df_interv_q = df[\n",
    "    [\n",
    "        \"DIAG1\",\n",
    "        \"INTERV_Q\",\n",
    "        \"CODIGO_INTERV_Q_PPAL\",\n",
    "        \"GLOSA_INTERV_Q_PPAL\",\n",
    "    ]\n",
    "]\n",
    "df_proced = df[\n",
    "    [\n",
    "        \"DIAG1\",\n",
    "        \"PROCED\",\n",
    "        \"CODIGO_PROCED_PPAL\",\n",
    "        \"GLOSA_PROCED_PPAL\",\n",
    "    ]\n",
    "]"
   ]
  },
  {
   "cell_type": "markdown",
   "metadata": {},
   "source": [
    "Para identificar si existen anomalias en estas columnas se reemplazarán las celdas que tengan\n",
    "un valor (texto, o número = 1) con un 1. En caso de que la celda este vacía o que tenga un valor de 0, entonces se reemplazará con un 0. Posteriormente, se sumarán los valores de cada celda a nivel de fila."
   ]
  },
  {
   "cell_type": "code",
   "execution_count": 47,
   "metadata": {},
   "outputs": [
    {
     "data": {
      "text/plain": [
       "1    72641\n",
       "4    20551\n",
       "2     3550\n",
       "Name: count, dtype: int64"
      ]
     },
     "execution_count": 47,
     "metadata": {},
     "output_type": "execute_result"
    }
   ],
   "source": [
    "df_interv_q.replace(0, np.nan).notna().astype(int).sum(axis=1).value_counts()"
   ]
  },
  {
   "cell_type": "markdown",
   "metadata": {},
   "source": [
    "Los resultados indican que hay 72641 egresos sin intervenciones quirúrgicas (suma de 0), 20551 egresos con todos los datos de intervención quirúrgica ingresados (suma de 3) y 3550 egresos donde solamente se ingresó 1 de los valores (suma de 1)."
   ]
  },
  {
   "cell_type": "code",
   "execution_count": 40,
   "metadata": {},
   "outputs": [
    {
     "data": {
      "text/plain": [
       "0    82977\n",
       "1    12750\n",
       "3     1015\n",
       "Name: count, dtype: int64"
      ]
     },
     "execution_count": 40,
     "metadata": {},
     "output_type": "execute_result"
    }
   ],
   "source": [
    "df_proced.replace(0, np.nan).notna().astype(int).sum(axis=1).value_counts()"
   ]
  },
  {
   "cell_type": "markdown",
   "metadata": {},
   "source": [
    "Los resultados indican que hay 82977 egresos sin procedimientos (suma de 0), 1015 egresos con todos los datos del procedimiento ingresados (suma de 3) y 12750 egresos donde se ingresó 1 de los valores referentes al procedimiento (suma de 1).\n",
    "\n",
    "Ahora, se realizará este mismo análisis, pero solamente considerando a los diagnósticos más relevantes para el INT."
   ]
  },
  {
   "cell_type": "code",
   "execution_count": 51,
   "metadata": {},
   "outputs": [
    {
     "data": {
      "text/plain": [
       "0    12232\n",
       "3     6920\n",
       "1      550\n",
       "Name: count, dtype: int64"
      ]
     },
     "execution_count": 51,
     "metadata": {},
     "output_type": "execute_result"
    }
   ],
   "source": [
    "df_interv_q[df_interv_q[\"DIAG1\"].isin(DIAGS_RELEVANTES)].drop(columns=\"DIAG1\").replace(\n",
    "    0, np.nan\n",
    ").notna().astype(int).sum(axis=1).value_counts()"
   ]
  },
  {
   "cell_type": "markdown",
   "metadata": {},
   "source": [
    "Dentro de los diagnósticos más relevantes del INT, en 550 egresos se ingresó solamente 1 de los datos referentes a la intervención quirúrgica realizada."
   ]
  },
  {
   "cell_type": "code",
   "execution_count": 52,
   "metadata": {},
   "outputs": [
    {
     "data": {
      "text/plain": [
       "0    15419\n",
       "1     3903\n",
       "3      380\n",
       "Name: count, dtype: int64"
      ]
     },
     "execution_count": 52,
     "metadata": {},
     "output_type": "execute_result"
    }
   ],
   "source": [
    "df_proced[df_proced[\"DIAG1\"].isin(DIAGS_RELEVANTES)].drop(columns=\"DIAG1\").replace(\n",
    "    0, np.nan\n",
    ").notna().astype(int).sum(axis=1).value_counts()"
   ]
  },
  {
   "cell_type": "markdown",
   "metadata": {},
   "source": [
    "Dentro de los diagnósticos más relevantes del INT, en 380 egresos se ingresó solamente 1 de los datos referentes al procedimiento realizado."
   ]
  }
 ],
 "metadata": {
  "kernelspec": {
   "display_name": "egresos-deis",
   "language": "python",
   "name": "python3"
  },
  "language_info": {
   "codemirror_mode": {
    "name": "ipython",
    "version": 3
   },
   "file_extension": ".py",
   "mimetype": "text/x-python",
   "name": "python",
   "nbconvert_exporter": "python",
   "pygments_lexer": "ipython3",
   "version": "3.11.5"
  }
 },
 "nbformat": 4,
 "nbformat_minor": 2
}
