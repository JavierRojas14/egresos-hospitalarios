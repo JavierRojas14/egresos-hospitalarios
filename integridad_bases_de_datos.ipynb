{
 "cells": [
  {
   "cell_type": "code",
   "execution_count": 1,
   "metadata": {},
   "outputs": [],
   "source": [
    "import pandas as pd\n",
    "import numpy as np\n",
    "\n",
    "import matplotlib.pyplot as plt\n",
    "import seaborn as sns\n",
    "\n",
    "sns.set_theme()\n",
    "plt.rcParams['figure.figsize'] = (12, 6)"
   ]
  },
  {
   "attachments": {},
   "cell_type": "markdown",
   "metadata": {},
   "source": [
    "# Analisis de Integridad de Datos\n",
    "\n",
    "En este apartado se quiere saber si los datos de los resumenes de Egresos DEIS, son iguales a\n",
    "las bases de datos en formato largo (paciente por paciente). Se quieren verificar los siguientes\n",
    "indicadores:\n",
    "\n",
    "- Las bases de datos presentan la misma cantidad de datos para cada año\n",
    "- La distribución de enfermedades por gran causa son iguales entre bases de datos para cada año"
   ]
  },
  {
   "cell_type": "code",
   "execution_count": null,
   "metadata": {},
   "outputs": [],
   "source": []
  }
 ],
 "metadata": {
  "kernelspec": {
   "display_name": "Python 3",
   "language": "python",
   "name": "python3"
  },
  "language_info": {
   "codemirror_mode": {
    "name": "ipython",
    "version": 3
   },
   "file_extension": ".py",
   "mimetype": "text/x-python",
   "name": "python",
   "nbconvert_exporter": "python",
   "pygments_lexer": "ipython3",
   "version": "3.11.1"
  },
  "orig_nbformat": 4,
  "vscode": {
   "interpreter": {
    "hash": "8757bac6cc3bb0a7c6b692b7e5ba2ef1b4236e291f2a36c040e25f5684562b87"
   }
  }
 },
 "nbformat": 4,
 "nbformat_minor": 2
}
