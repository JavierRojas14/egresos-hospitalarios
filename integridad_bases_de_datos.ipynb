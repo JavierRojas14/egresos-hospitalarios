{
 "cells": [
  {
   "cell_type": "code",
   "execution_count": 1,
   "metadata": {},
   "outputs": [],
   "source": [
    "import pandas as pd\n",
    "import numpy as np\n",
    "\n",
    "import matplotlib.pyplot as plt\n",
    "import seaborn as sns\n",
    "\n",
    "sns.set_theme()\n",
    "plt.rcParams['figure.figsize'] = (12, 6)"
   ]
  },
  {
   "attachments": {},
   "cell_type": "markdown",
   "metadata": {},
   "source": [
    "# Analisis de Integridad de Datos\n",
    "\n",
    "En este apartado se quiere saber si los datos de los resumenes de Egresos DEIS, son iguales a\n",
    "las bases de datos en formato largo (paciente por paciente). Se quieren verificar los siguientes\n",
    "indicadores:\n",
    "\n",
    "- Las bases de datos presentan la misma cantidad de datos para cada año\n",
    "- La distribución de enfermedades por gran causa son iguales entre bases de datos para cada año"
   ]
  },
  {
   "cell_type": "code",
   "execution_count": 2,
   "metadata": {},
   "outputs": [],
   "source": [
    "RUTA_2013 = 'egresos/Egresos_Hospitalarios_2013/Egresos_Hospitalarios_2013.csv'\n",
    "RUTA_2014 = 'egresos/Egresos_Hospitalarios_2014-20230216T134804Z-001/Egresos_Hospitalarios_2014/Egresos_Hospitalarios_2014.csv'\n",
    "RUTA_2015 = 'egresos/Egresos_Hospitalarios_2015-20230216T124219Z-001/Egresos_Hospitalarios_2015/Egresos_Hospitalarios_2015.csv'\n",
    "RUTA_2016 = 'egresos/Egresos_Hospitalarios_2016-20230216T124117Z-001/Egresos_Hospitalarios_2016/Egresos_Hospitalarios_2016.csv'\n",
    "RUTA_2017 = 'egresos/Egresos_Hospitalarios_2017-20230216T123902Z-001/Egresos_Hospitalarios_2017/Egresos_Hospitalarios_2017.csv'\n",
    "RUTA_2018 = 'egresos/Egresos_Hospitalarios_2018-20230216T123758Z-001/Egresos_Hospitalarios_2018/Egresos_Hospitalarios_2018.csv'\n",
    "RUTA_2019 = 'egresos/Egresos_Hospitalarios_2019-20230216T123639Z-001/Egresos_Hospitalarios_2019/Egresos_Hospitalarios_2019.csv'\n",
    "\n",
    "RUTAS_ARCHIVOS = [RUTA_2013, RUTA_2014, RUTA_2015, RUTA_2016, RUTA_2017, RUTA_2018, RUTA_2019]\n"
   ]
  },
  {
   "cell_type": "code",
   "execution_count": 3,
   "metadata": {},
   "outputs": [
    {
     "name": "stderr",
     "output_type": "stream",
     "text": [
      "C:\\Users\\finanzas\\AppData\\Local\\Temp\\ipykernel_7820\\3430490536.py:1: DtypeWarning: Columns (16) have mixed types. Specify dtype option on import or set low_memory=False.\n",
      "  df = pd.read_csv(RUTA_2013, delimiter=';', encoding='latin-1')\n"
     ]
    }
   ],
   "source": [
    "df = pd.read_csv(RUTA_2013, delimiter=';', encoding='latin-1')"
   ]
  },
  {
   "attachments": {},
   "cell_type": "markdown",
   "metadata": {},
   "source": [
    "# Trata de valores de columnas\n",
    "\n",
    "La columna 16 (Región de residencia) contiene valores mixtos (ints y strings). Por lo tanto, se\n",
    "unificarán en valores strings"
   ]
  },
  {
   "cell_type": "code",
   "execution_count": 4,
   "metadata": {},
   "outputs": [],
   "source": [
    "def convertir_ints_a_strs(valor):\n",
    "    if isinstance(valor, int):\n",
    "        if len(str(valor)) == 1:\n",
    "            return f'0{valor}'\n",
    "        else:\n",
    "            return str(valor)\n",
    "    \n",
    "    return valor"
   ]
  },
  {
   "cell_type": "code",
   "execution_count": 5,
   "metadata": {},
   "outputs": [],
   "source": [
    "df['REGION_RESIDENCIA'] = df['REGION_RESIDENCIA'].apply(convertir_ints_a_strs)"
   ]
  },
  {
   "cell_type": "code",
   "execution_count": 6,
   "metadata": {},
   "outputs": [
    {
     "data": {
      "text/plain": [
       "ID_PACIENTE                            37026\n",
       "ESTABLECIMIENTO_SALUD                      0\n",
       "GLOSA_ESTABLECIMIENTO_SALUD                0\n",
       "PERTENENCIA_ESTABLECIMIENTO_SALUD          0\n",
       "SEREMI                               1084018\n",
       "SERVICIO_DE_SALUD                     592918\n",
       "SEXO                                       0\n",
       "FECHA_NACIMIENTO                         156\n",
       "EDAD_CANT                                  0\n",
       "TIPO_EDAD                                  0\n",
       "EDAD_A_OS                                  0\n",
       "PUEBLO_ORIGINARIO                          0\n",
       "PAIS_ORIGEN                                0\n",
       "GLOSA_PAIS_ORIGEN                      10906\n",
       "COMUNA_RESIDENCIA                          0\n",
       "GLOSA_COMUNA_RESIDENCIA                    0\n",
       "REGION_RESIDENCIA                          0\n",
       "GLOSA_REGION_RESIDENCIA                    0\n",
       "PREVISION                                  0\n",
       "BENEFICIARIO                          468495\n",
       "MODALIDAD                             481561\n",
       "PROCEDENCIA                              731\n",
       "ANO_EGRESO                                 0\n",
       "FECHA_EGRESO                               5\n",
       "AREA_FUNCIONAL_EGRESO                      5\n",
       "DIAS_ESTADA                                0\n",
       "CONDICION_EGRESO                           0\n",
       "DIAG1                                      1\n",
       "GLOSA_DIAG1                                1\n",
       "DIAG2                                1523145\n",
       "GLOSA_DIAG2                          1523145\n",
       "INTERV_Q                                   0\n",
       "CODIGO_INTERV_Q_PPAL                  925863\n",
       "GLOSA_INTERV_Q_PPAL                   925863\n",
       "PROCED                               1676936\n",
       "CODIGO_PROCED_PPAL                   1676936\n",
       "GLOSA_PROCED_PPAL                    1676936\n",
       "dtype: int64"
      ]
     },
     "execution_count": 6,
     "metadata": {},
     "output_type": "execute_result"
    }
   ],
   "source": [
    "df.isna().sum()"
   ]
  },
  {
   "attachments": {},
   "cell_type": "markdown",
   "metadata": {},
   "source": [
    "## Análisis de Cantidad de Datos\n",
    "\n",
    "Según el resumen DEIS de 2013 - 2018, cada año tiene la siguiente cantidad de datos:\n",
    "\n",
    "Año|Cantidad de datos|\n",
    "---|-----------------|\n",
    "2013|1.676.937|\n",
    "2014|1.660.150|\n",
    "2015|1.671.054|\n",
    "2016|1.673.265|\n",
    "2017|1.637.150|\n",
    "2018|1.669.602|\n",
    "\n",
    "Según el resumen DEIS de 2018 - 2021, los años tienen la siguiente cantidad de datos:\n",
    "\n",
    "Año|Cantidad de datos|\n",
    "---|-----------------|\n",
    "2018|1.669.602|\n",
    "2019|1.667.180|\n",
    "2020|1.330.477|\n",
    "2021|1.467.062|\n"
   ]
  },
  {
   "cell_type": "code",
   "execution_count": null,
   "metadata": {},
   "outputs": [],
   "source": []
  }
 ],
 "metadata": {
  "kernelspec": {
   "display_name": "Python 3",
   "language": "python",
   "name": "python3"
  },
  "language_info": {
   "codemirror_mode": {
    "name": "ipython",
    "version": 3
   },
   "file_extension": ".py",
   "mimetype": "text/x-python",
   "name": "python",
   "nbconvert_exporter": "python",
   "pygments_lexer": "ipython3",
   "version": "3.11.1"
  },
  "orig_nbformat": 4,
  "vscode": {
   "interpreter": {
    "hash": "8757bac6cc3bb0a7c6b692b7e5ba2ef1b4236e291f2a36c040e25f5684562b87"
   }
  }
 },
 "nbformat": 4,
 "nbformat_minor": 2
}
