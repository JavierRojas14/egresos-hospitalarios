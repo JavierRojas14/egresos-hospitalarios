{
 "cells": [
  {
   "cell_type": "code",
   "execution_count": 1,
   "metadata": {},
   "outputs": [],
   "source": [
    "import pandas as pd\n",
    "import numpy as np\n",
    "\n",
    "import matplotlib.pyplot as plt\n",
    "import seaborn as sns\n",
    "\n",
    "sns.set_theme()\n",
    "plt.rcParams['figure.figsize'] = (12, 6)"
   ]
  },
  {
   "attachments": {},
   "cell_type": "markdown",
   "metadata": {},
   "source": [
    "# Analisis de Integridad de Datos\n",
    "\n",
    "En este apartado se quiere saber si los datos de los resumenes de Egresos DEIS, son iguales a\n",
    "las bases de datos en formato largo (paciente por paciente). Se quieren verificar los siguientes\n",
    "indicadores:\n",
    "\n",
    "- Las bases de datos presentan la misma cantidad de datos para cada año\n",
    "- La distribución de enfermedades por gran causa son iguales entre bases de datos para cada año"
   ]
  },
  {
   "cell_type": "code",
   "execution_count": 37,
   "metadata": {},
   "outputs": [],
   "source": [
    "RUTA_2013 = 'egresos/Egresos_Hospitalarios_2013/Egresos_Hospitalarios_2013.csv'\n",
    "RUTA_2014 = 'egresos/Egresos_Hospitalarios_2014-20230216T134804Z-001/Egresos_Hospitalarios_2014/Egresos_Hospitalarios_2014.csv'\n",
    "RUTA_2015 = 'egresos/Egresos_Hospitalarios_2015-20230216T124219Z-001/Egresos_Hospitalarios_2015/Egresos_Hospitalarios_2015.csv'\n",
    "RUTA_2016 = 'egresos/Egresos_Hospitalarios_2016-20230216T124117Z-001/Egresos_Hospitalarios_2016/Egresos_Hospitalarios_2016.csv'\n",
    "RUTA_2017 = 'egresos/Egresos_Hospitalarios_2017-20230216T123902Z-001/Egresos_Hospitalarios_2017/Egresos_Hospitalarios_2017.csv'\n",
    "RUTA_2018 = 'egresos/Egresos_Hospitalarios_2018-20230216T123758Z-001/Egresos_Hospitalarios_2018/Egresos_Hospitalarios_2018.csv'\n",
    "RUTA_2019 = 'egresos/Egresos_Hospitalarios_2019-20230216T123639Z-001/Egresos_Hospitalarios_2019/Egresos_Hospitalarios_2019.csv'\n",
    "\n",
    "ARCHIVOS = {'2013': RUTA_2013, \n",
    "            '2014': RUTA_2014, \n",
    "            '2015': RUTA_2015, \n",
    "            '2016': RUTA_2016, \n",
    "            '2017': RUTA_2017, \n",
    "            '2018': RUTA_2018, \n",
    "            '2019': RUTA_2019}\n"
   ]
  },
  {
   "attachments": {},
   "cell_type": "markdown",
   "metadata": {},
   "source": [
    "# Trata de valores de columnas\n",
    "\n",
    "La columna 16 (Región de residencia) contiene valores mixtos (ints y strings). Por lo tanto, se\n",
    "unificarán en valores strings"
   ]
  },
  {
   "cell_type": "code",
   "execution_count": 39,
   "metadata": {},
   "outputs": [],
   "source": [
    "def convertir_ints_a_strs(valor):\n",
    "    if isinstance(valor, int):\n",
    "        if len(str(valor)) == 1:\n",
    "            return f'0{valor}'\n",
    "        else:\n",
    "            return str(valor)\n",
    "    \n",
    "    return valor"
   ]
  },
  {
   "attachments": {},
   "cell_type": "markdown",
   "metadata": {},
   "source": [
    "## Análisis de Cantidad de Datos\n",
    "\n",
    "Según el resumen DEIS de 2013 - 2018, cada año tiene la siguiente cantidad de datos:\n",
    "\n",
    "Año|Cantidad de datos|\n",
    "---|-----------------|\n",
    "2013|1.676.937|\n",
    "2014|1.660.150|\n",
    "2015|1.671.054|\n",
    "2016|1.637.265|\n",
    "2017|1.637.150|\n",
    "2018|1.669.602|\n",
    "\n",
    "Según el resumen DEIS de 2018 - 2021, los años tienen la siguiente cantidad de datos:\n",
    "\n",
    "Año|Cantidad de datos|\n",
    "---|-----------------|\n",
    "2018|1.669.602|\n",
    "2019|1.667.180|\n",
    "2020|1.330.477|\n",
    "2021|1.467.062|\n",
    "\n",
    "Ahora, se analizará la cantidad de datos de cada base de datos en formato largo:\n"
   ]
  },
  {
   "attachments": {},
   "cell_type": "markdown",
   "metadata": {},
   "source": [
    "# Lectura de Archivos\n",
    "\n",
    "Todos los archivos son separados por ';', y estan en encoding 'latin-1'. Además, el archivo de\n",
    "2014 tiene 1 línea que está mal imputada (genera error de lectura). Debido a lo anterior,\n",
    "la línea fue droppeada. Todos los demás archivos fueron leídos correctamente, sin necesidad de\n",
    "droppear algún valor."
   ]
  },
  {
   "cell_type": "code",
   "execution_count": 41,
   "metadata": {},
   "outputs": [],
   "source": [
    "def leer_anios_egresos():\n",
    "    dfs = {}\n",
    "    for anio, ruta in ARCHIVOS.items():\n",
    "        dfs[anio] = pd.read_csv(ruta, delimiter=';', encoding='latin-1', on_bad_lines='skip')\n",
    "        dfs[anio]['REGION_RESIDENCIA'] = dfs[anio]['REGION_RESIDENCIA'].apply(\n",
    "            convertir_ints_a_strs)\n",
    "\n",
    "    return dfs"
   ]
  },
  {
   "cell_type": "code",
   "execution_count": 42,
   "metadata": {},
   "outputs": [
    {
     "name": "stderr",
     "output_type": "stream",
     "text": [
      "C:\\Users\\finanzas\\AppData\\Local\\Temp\\ipykernel_7820\\3018469936.py:4: DtypeWarning: Columns (16) have mixed types. Specify dtype option on import or set low_memory=False.\n",
      "  dfs[anio] = pd.read_csv(ruta, delimiter=';', encoding='latin-1', on_bad_lines='skip')\n",
      "C:\\Users\\finanzas\\AppData\\Local\\Temp\\ipykernel_7820\\3018469936.py:4: DtypeWarning: Columns (16) have mixed types. Specify dtype option on import or set low_memory=False.\n",
      "  dfs[anio] = pd.read_csv(ruta, delimiter=';', encoding='latin-1', on_bad_lines='skip')\n",
      "C:\\Users\\finanzas\\AppData\\Local\\Temp\\ipykernel_7820\\3018469936.py:4: DtypeWarning: Columns (16) have mixed types. Specify dtype option on import or set low_memory=False.\n",
      "  dfs[anio] = pd.read_csv(ruta, delimiter=';', encoding='latin-1', on_bad_lines='skip')\n",
      "C:\\Users\\finanzas\\AppData\\Local\\Temp\\ipykernel_7820\\3018469936.py:4: DtypeWarning: Columns (16) have mixed types. Specify dtype option on import or set low_memory=False.\n",
      "  dfs[anio] = pd.read_csv(ruta, delimiter=';', encoding='latin-1', on_bad_lines='skip')\n",
      "C:\\Users\\finanzas\\AppData\\Local\\Temp\\ipykernel_7820\\3018469936.py:4: DtypeWarning: Columns (16) have mixed types. Specify dtype option on import or set low_memory=False.\n",
      "  dfs[anio] = pd.read_csv(ruta, delimiter=';', encoding='latin-1', on_bad_lines='skip')\n",
      "C:\\Users\\finanzas\\AppData\\Local\\Temp\\ipykernel_7820\\3018469936.py:4: DtypeWarning: Columns (16) have mixed types. Specify dtype option on import or set low_memory=False.\n",
      "  dfs[anio] = pd.read_csv(ruta, delimiter=';', encoding='latin-1', on_bad_lines='skip')\n"
     ]
    }
   ],
   "source": [
    "dfs = leer_anios_egresos()"
   ]
  },
  {
   "cell_type": "code",
   "execution_count": 43,
   "metadata": {},
   "outputs": [
    {
     "name": "stdout",
     "output_type": "stream",
     "text": [
      "El DataFrame de 2013 tiene 1676936 datos\n",
      "El DataFrame de 2014 tiene 1660150 datos\n",
      "El DataFrame de 2015 tiene 1671054 datos\n",
      "El DataFrame de 2016 tiene 1637265 datos\n",
      "El DataFrame de 2017 tiene 1637150 datos\n",
      "El DataFrame de 2018 tiene 1669602 datos\n",
      "El DataFrame de 2019 tiene 1636508 datos\n"
     ]
    }
   ],
   "source": [
    "for anio, df in dfs.items():\n",
    "    print(f'El DataFrame de {anio} tiene {df.shape[0]} datos')"
   ]
  },
  {
   "attachments": {},
   "cell_type": "markdown",
   "metadata": {},
   "source": [
    "Por lo tanto, la comparacion de datos es:\n",
    "\n",
    "Año|Cantidad de datos|Base de Datos|\n",
    "---|-----------------|-------------|\n",
    "2013|1.676.937|1.676.936|\n",
    "2014|1.660.150|1.660.150|\n",
    "2015|1.671.054|1.671.054|\n",
    "2016|1.637.265|1.637.265|\n",
    "2017|1.637.150|1.637.150|\n",
    "2018|1.669.602|1.669.602|\n",
    "2019|1.667.180|1.636.508|"
   ]
  },
  {
   "cell_type": "code",
   "execution_count": null,
   "metadata": {},
   "outputs": [],
   "source": []
  }
 ],
 "metadata": {
  "kernelspec": {
   "display_name": "Python 3",
   "language": "python",
   "name": "python3"
  },
  "language_info": {
   "codemirror_mode": {
    "name": "ipython",
    "version": 3
   },
   "file_extension": ".py",
   "mimetype": "text/x-python",
   "name": "python",
   "nbconvert_exporter": "python",
   "pygments_lexer": "ipython3",
   "version": "3.11.1"
  },
  "orig_nbformat": 4,
  "vscode": {
   "interpreter": {
    "hash": "8757bac6cc3bb0a7c6b692b7e5ba2ef1b4236e291f2a36c040e25f5684562b87"
   }
  }
 },
 "nbformat": 4,
 "nbformat_minor": 2
}
