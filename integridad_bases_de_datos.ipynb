{
 "cells": [
  {
   "cell_type": "code",
   "execution_count": 1,
   "metadata": {},
   "outputs": [],
   "source": [
    "import pandas as pd\n",
    "\n",
    "import funciones_auxiliares as aux\n",
    "import funciones_auxiliares_hito_2 as aux2"
   ]
  },
  {
   "attachments": {},
   "cell_type": "markdown",
   "metadata": {},
   "source": [
    "# Analisis de Integridad de Datos\n",
    "\n",
    "En este apartado se quiere saber si los datos de los resumenes de Egresos DEIS, son iguales a\n",
    "las bases de datos en formato largo (paciente por paciente). Se quieren verificar los siguientes\n",
    "indicadores:\n",
    "\n",
    "- Las bases de datos presentan la misma cantidad de datos para cada año\n",
    "- La distribución de enfermedades por gran causa son iguales entre bases de datos para cada año"
   ]
  },
  {
   "attachments": {},
   "cell_type": "markdown",
   "metadata": {},
   "source": [
    "# Trata de valores de columnas\n",
    "\n",
    "La columna 16 (Región de residencia) contiene valores mixtos (ints y strings). Por lo tanto, se\n",
    "unificarán en valores strings"
   ]
  },
  {
   "attachments": {},
   "cell_type": "markdown",
   "metadata": {},
   "source": [
    "## Análisis de Cantidad de Datos\n",
    "\n",
    "Según el resumen DEIS de 2013 - 2018, cada año tiene la siguiente cantidad de datos:\n",
    "\n",
    "Año|Cantidad de datos|\n",
    "---|-----------------|\n",
    "2013|1.676.937|\n",
    "2014|1.660.150|\n",
    "2015|1.671.054|\n",
    "2016|1.637.265|\n",
    "2017|1.637.150|\n",
    "2018|1.669.602|\n",
    "\n",
    "Según el resumen DEIS de 2018 - 2021, los años tienen la siguiente cantidad de datos:\n",
    "\n",
    "Año|Cantidad de datos|\n",
    "---|-----------------|\n",
    "2018|1.669.602|\n",
    "2019|1.667.180|\n",
    "2020|1.330.477|\n",
    "2021|1.467.062|\n",
    "\n",
    "Ahora, se analizará la cantidad de datos de cada base de datos en formato largo:\n"
   ]
  },
  {
   "attachments": {},
   "cell_type": "markdown",
   "metadata": {},
   "source": [
    "# Lectura de Archivos\n",
    "\n",
    "Todos los archivos son separados por ';', y estan en encoding 'latin-1'. Además, el archivo de\n",
    "2014 tiene 1 línea que está mal imputada (genera error de lectura). Debido a lo anterior,\n",
    "la línea fue droppeada. Todos los demás archivos fueron leídos correctamente, sin necesidad de\n",
    "droppear algún valor."
   ]
  },
  {
   "cell_type": "code",
   "execution_count": 46,
   "metadata": {},
   "outputs": [
    {
     "name": "stderr",
     "output_type": "stream",
     "text": [
      "c:\\Users\\finanzas\\Desktop\\Javier Rojas\\Javier\\trabajo\\SSMO\\EPH\\modulo_gestion\\1.analisis_problemas_de_salud\\egresos-hospitalarios\\funciones_auxiliares.py:33: DtypeWarning: Columns (16) have mixed types. Specify dtype option on import or set low_memory=False.\n",
      "  dfs[anio] = pd.read_csv(ruta, delimiter=';', encoding='latin-1', on_bad_lines='skip')\n",
      "c:\\Users\\finanzas\\Desktop\\Javier Rojas\\Javier\\trabajo\\SSMO\\EPH\\modulo_gestion\\1.analisis_problemas_de_salud\\egresos-hospitalarios\\funciones_auxiliares.py:33: DtypeWarning: Columns (16) have mixed types. Specify dtype option on import or set low_memory=False.\n",
      "  dfs[anio] = pd.read_csv(ruta, delimiter=';', encoding='latin-1', on_bad_lines='skip')\n",
      "c:\\Users\\finanzas\\Desktop\\Javier Rojas\\Javier\\trabajo\\SSMO\\EPH\\modulo_gestion\\1.analisis_problemas_de_salud\\egresos-hospitalarios\\funciones_auxiliares.py:33: DtypeWarning: Columns (16) have mixed types. Specify dtype option on import or set low_memory=False.\n",
      "  dfs[anio] = pd.read_csv(ruta, delimiter=';', encoding='latin-1', on_bad_lines='skip')\n",
      "c:\\Users\\finanzas\\Desktop\\Javier Rojas\\Javier\\trabajo\\SSMO\\EPH\\modulo_gestion\\1.analisis_problemas_de_salud\\egresos-hospitalarios\\funciones_auxiliares.py:33: DtypeWarning: Columns (16) have mixed types. Specify dtype option on import or set low_memory=False.\n",
      "  dfs[anio] = pd.read_csv(ruta, delimiter=';', encoding='latin-1', on_bad_lines='skip')\n",
      "c:\\Users\\finanzas\\Desktop\\Javier Rojas\\Javier\\trabajo\\SSMO\\EPH\\modulo_gestion\\1.analisis_problemas_de_salud\\egresos-hospitalarios\\funciones_auxiliares.py:33: DtypeWarning: Columns (16) have mixed types. Specify dtype option on import or set low_memory=False.\n",
      "  dfs[anio] = pd.read_csv(ruta, delimiter=';', encoding='latin-1', on_bad_lines='skip')\n",
      "c:\\Users\\finanzas\\Desktop\\Javier Rojas\\Javier\\trabajo\\SSMO\\EPH\\modulo_gestion\\1.analisis_problemas_de_salud\\egresos-hospitalarios\\funciones_auxiliares.py:33: DtypeWarning: Columns (16) have mixed types. Specify dtype option on import or set low_memory=False.\n",
      "  dfs[anio] = pd.read_csv(ruta, delimiter=';', encoding='latin-1', on_bad_lines='skip')\n"
     ]
    }
   ],
   "source": [
    "dfs = aux.leer_anios_egresos()\n",
    "df_completa = pd.concat(dfs.values())"
   ]
  },
  {
   "cell_type": "code",
   "execution_count": 47,
   "metadata": {},
   "outputs": [
    {
     "name": "stdout",
     "output_type": "stream",
     "text": [
      "El DataFrame de 2013 tiene 1676936 datos\n",
      "El DataFrame de 2014 tiene 1660150 datos\n",
      "El DataFrame de 2015 tiene 1671054 datos\n",
      "El DataFrame de 2016 tiene 1637265 datos\n",
      "El DataFrame de 2017 tiene 1637150 datos\n",
      "El DataFrame de 2018 tiene 1669602 datos\n",
      "El DataFrame de 2019 tiene 1636508 datos\n"
     ]
    }
   ],
   "source": [
    "for anio, df in dfs.items():\n",
    "    print(f'El DataFrame de {anio} tiene {df.shape[0]} datos')"
   ]
  },
  {
   "attachments": {},
   "cell_type": "markdown",
   "metadata": {},
   "source": [
    "Por lo tanto, la comparacion de datos es:\n",
    "\n",
    "Año|Cantidad de datos|Base de Datos|\n",
    "---|-----------------|-------------|\n",
    "2013|1.676.937|1.676.936|\n",
    "2014|1.660.150|1.660.150|\n",
    "2015|1.671.054|1.671.054|\n",
    "2016|1.637.265|1.637.265|\n",
    "2017|1.637.150|1.637.150|\n",
    "2018|1.669.602|1.669.602|\n",
    "2019|1.667.180|1.636.508|\n",
    "\n",
    "O sea, **solamente 2013 y 2019 difieren con la cantidad de datos** mostrados en el resumen de DEIS."
   ]
  },
  {
   "attachments": {},
   "cell_type": "markdown",
   "metadata": {},
   "source": [
    "# Análisis de Datos Faltantes\n",
    "\n",
    "En este apartado se quiere ver la cantidad de valores faltantes en las bases de datos"
   ]
  },
  {
   "cell_type": "code",
   "execution_count": null,
   "metadata": {},
   "outputs": [],
   "source": [
    "aux2.analizar_valores_faltantes(df_completa)"
   ]
  }
 ],
 "metadata": {
  "kernelspec": {
   "display_name": "Python 3",
   "language": "python",
   "name": "python3"
  },
  "language_info": {
   "codemirror_mode": {
    "name": "ipython",
    "version": 3
   },
   "file_extension": ".py",
   "mimetype": "text/x-python",
   "name": "python",
   "nbconvert_exporter": "python",
   "pygments_lexer": "ipython3",
   "version": "3.11.1"
  },
  "orig_nbformat": 4,
  "vscode": {
   "interpreter": {
    "hash": "8757bac6cc3bb0a7c6b692b7e5ba2ef1b4236e291f2a36c040e25f5684562b87"
   }
  }
 },
 "nbformat": 4,
 "nbformat_minor": 2
}
